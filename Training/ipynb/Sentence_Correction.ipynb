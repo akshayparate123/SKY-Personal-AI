{
 "cells": [
  {
   "cell_type": "code",
   "execution_count": 1,
   "id": "7dd57ce4-b2c0-46bf-8be1-407fa38e6ca4",
   "metadata": {},
   "outputs": [
    {
     "name": "stderr",
     "output_type": "stream",
     "text": [
      "C:\\Users\\Akshay\\anaconda3\\envs\\tf\\lib\\site-packages\\tqdm\\auto.py:21: TqdmWarning: IProgress not found. Please update jupyter and ipywidgets. See https://ipywidgets.readthedocs.io/en/stable/user_install.html\n",
      "  from .autonotebook import tqdm as notebook_tqdm\n"
     ]
    }
   ],
   "source": [
    "from datasets import load_dataset\n",
    "import warnings\n",
    "import pandas as pd\n",
    "import numpy as np\n",
    "import matplotlib.pyplot as plt\n",
    "import random\n",
    "from transformers import BartForConditionalGeneration, BartTokenizer, Trainer, TrainingArguments, DataCollatorForSeq2Seq\n",
    "from sklearn.model_selection import train_test_split\n",
    "warnings.filterwarnings(\"ignore\")"
   ]
  },
  {
   "cell_type": "code",
   "execution_count": 2,
   "id": "53bf32c6-b093-47b6-8c6e-2f3271f3de5b",
   "metadata": {},
   "outputs": [],
   "source": [
    "ds = load_dataset(\"gowitheflow/wiki1M-word-character-all-multiple\")"
   ]
  },
  {
   "cell_type": "code",
   "execution_count": 3,
   "id": "d571e17d-4532-4ea0-a493-fb032c491f8e",
   "metadata": {},
   "outputs": [
    {
     "data": {
      "text/plain": [
       "DatasetDict({\n",
       "    train: Dataset({\n",
       "        features: ['sentence1', 'sentence2'],\n",
       "        num_rows: 974010\n",
       "    })\n",
       "})"
      ]
     },
     "execution_count": 3,
     "metadata": {},
     "output_type": "execute_result"
    }
   ],
   "source": [
    "ds"
   ]
  },
  {
   "cell_type": "code",
   "execution_count": 8,
   "id": "df5da61f-4132-485b-a36b-bb98b1bd4271",
   "metadata": {},
   "outputs": [
    {
     "name": "stdout",
     "output_type": "stream",
     "text": [
      "The airline operates scheduled passenger services to Nairobi, Entebbe, and airports in Tanzania.\n",
      "\n",
      "ae Nairobi, in Entebbe, Tanzania. The airlien scheduled to passenger airports services operates\n"
     ]
    }
   ],
   "source": [
    "print(ds[\"train\"][\"sentence1\"][3])\n",
    "print()\n",
    "print(ds[\"train\"][\"sentence2\"][3])"
   ]
  },
  {
   "cell_type": "code",
   "execution_count": 23,
   "id": "4aa09f63-28fa-445f-9f47-4293b0de4554",
   "metadata": {},
   "outputs": [],
   "source": [
    "agent_1 = [];agent_2 = []"
   ]
  },
  {
   "cell_type": "code",
   "execution_count": 24,
   "id": "f1900c9d-147a-43cf-aa10-8840019c0d3e",
   "metadata": {},
   "outputs": [],
   "source": [
    "sentence2 = [\"<reconstruct>\"+i for i in ds[\"train\"][\"sentence2\"]]\n",
    "sentence1 = ds[\"train\"][\"sentence1\"]\n",
    "agent_1.extend(sentence2)\n",
    "agent_2.extend(sentence1)"
   ]
  },
  {
   "cell_type": "code",
   "execution_count": 19,
   "id": "6732bc9c-0bc1-4297-8d11-824467ac5b21",
   "metadata": {},
   "outputs": [],
   "source": [
    "rephrased_sentences = [\"Could you look for grammatical errors in this sentence?\",\n",
    "\"Kindly check for any errors in this sentence.\",\n",
    "\"Please verify this sentence for grammatical mistakes.\",\n",
    "\"Can you identify any grammatical issues in this sentence?\",\n",
    "\"Check for any grammatical flaws in this sentence.\",\n",
    "\"Please review this sentence for grammar mistakes.\",\n",
    "\"Would you mind checking for grammatical errors in this sentence?\",\n",
    "\"Inspect this sentence for any grammatical mistakes.\",\n",
    "\"Could you review this sentence for any grammatical errors?\",\n",
    "\"Please identify any grammatical mistakes in this sentence.\",\n",
    "\"Look for grammatical errors in this sentence, please.\",\n",
    "\"Can you find any grammatical mistakes in this sentence?\",\n",
    "\"Ensure there are no grammatical errors in this sentence.\",\n",
    "\"Verify this sentence for any grammatical mistakes, please.\",\n",
    "\"Check this sentence for grammatical correctness.\",\n",
    "\"Could you please check for grammar errors in this sentence?\",\n",
    "\"Look for any grammar mistakes in this sentence.\",\n",
    "\"Review this sentence to ensure there are no grammatical errors.\",\n",
    "\"Please scan this sentence for grammatical issues.\",\n",
    "\"Can you check for any grammatical mistakes in this sentence?\",\n",
    "\"Find any grammatical mistakes in this sentence, please.\",\n",
    "\"Inspect this sentence to see if there are any grammar errors.\",\n",
    "\"Please review this sentence for any grammar mistakes.\",\n",
    "\"Could you verify the grammar in this sentence?\",\n",
    "\"Look for any errors in grammar within this sentence.\",\n",
    "\"Check this sentence to find any grammatical mistakes.\",\n",
    "\"Please identify grammar errors in this sentence.\",\n",
    "\"Can you ensure there are no grammatical mistakes in this sentence?\",\n",
    "\"Kindly check this sentence for any grammar errors.\",\n",
    "\"Review this sentence and find any grammatical issues.\",\n",
    "\"Verify there are no grammatical mistakes in this sentence.\",\n",
    "\"Please look for any grammatical mistakes in this sentence.\",\n",
    "\"Could you check this sentence for grammatical errors?\",\n",
    "\"Inspect for grammatical issues in this sentence, please.\",\n",
    "\"Check for any grammatical mistakes in this sentence, kindly.\",\n",
    "\"Ensure this sentence has no grammatical mistakes.\",\n",
    "\"Can you review this sentence for any grammar errors?\",\n",
    "\"Identify any grammatical errors in this sentence.\",\n",
    "\"Please verify the grammar of this sentence.\",\n",
    "\"Could you find grammatical mistakes in this sentence?\",\n",
    "\"Check for grammar issues in this sentence, please.\",\n",
    "\"Review this sentence for grammatical accuracy.\",\n",
    "\"Please inspect for any grammatical mistakes in this sentence.\",\n",
    "\"Can you look for grammar errors in this sentence?\",\n",
    "\"Identify any grammar mistakes in this sentence, please.\",\n",
    "\"Ensure there are no grammar mistakes in this sentence.\",\n",
    "\"Kindly check this sentence for grammatical correctness.\",\n",
    "\"Verify this sentence for any grammar mistakes.\",\n",
    "\"Please look for any errors in grammar in this sentence.\",\n",
    "\"Could you ensure this sentence has no grammar errors?\",\n",
    "\"Review this sentence for any grammar issues.\",\n",
    "\"Check this sentence for any grammatical inaccuracies.\",\n",
    "\"Please verify there are no grammar mistakes in this sentence.\",\n",
    "\"Can you find any grammar issues in this sentence?\",\n",
    "\"Identify grammar mistakes in this sentence, please.\",\n",
    "\"Kindly look for grammatical mistakes in this sentence.\",\n",
    "\"Ensure this sentence is grammatically correct.\",\n",
    "\"Could you review this sentence for grammar issues?\",\n",
    "\"Check for grammatical accuracy in this sentence.\",\n",
    "\"Please inspect this sentence for any grammar errors.\",\n",
    "\"Can you verify this sentence has no grammatical mistakes?\",\n",
    "\"Review for any grammar mistakes in this sentence, please.\",\n",
    "\"Identify any grammar errors in this sentence.\",\n",
    "\"Please look for grammar mistakes in this sentence.\",\n",
    "\"Ensure there are no grammatical inaccuracies in this sentence.\",\n",
    "\"Kindly check for grammatical errors in this sentence.\",\n",
    "\"Verify there are no grammar issues in this sentence.\",\n",
    "\"Could you find any grammatical mistakes in this sentence?\",\n",
    "\"Check for grammar correctness in this sentence, please.\",\n",
    "\"Review this sentence for any grammatical inaccuracies.\",\n",
    "\"Please inspect for grammar mistakes in this sentence.\",\n",
    "\"Can you ensure this sentence is grammatically accurate?\",\n",
    "\"Identify any grammatical issues in this sentence, please.\",\n",
    "\"Kindly review this sentence for grammatical correctness.\",\n",
    "\"Verify there are no errors in grammar in this sentence.\",\n",
    "\"Please check this sentence for any grammatical mistakes.\",\n",
    "\"Could you look for any grammar issues in this sentence?\",\n",
    "\"Check this sentence to ensure there are no grammar mistakes.\",\n",
    "\"Please identify any grammar mistakes in this sentence.\",\n",
    "\"Can you verify the grammatical accuracy of this sentence?\",\n",
    "\"Inspect for any grammatical errors in this sentence, please.\",\n",
    "\"Kindly look for any grammatical issues in this sentence.\",\n",
    "\"Ensure this sentence has no errors in grammar.\",\n",
    "\"Could you review this sentence to find grammar mistakes?\",\n",
    "\"Check for grammatical correctness in this sentence, please.\",\n",
    "\"Please inspect this sentence for grammatical accuracy.\",\n",
    "\"Can you find any grammar mistakes in this sentence?\",\n",
    "\"Review this sentence to ensure it has no grammatical mistakes.\",\n",
    "\"Identify any errors in grammar in this sentence, please.\",\n",
    "\"Kindly verify the grammar in this sentence.\",\n",
    "\"Please check for any grammatical issues in this sentence.\",\n",
    "\"Could you ensure there are no grammar mistakes in this sentence?\",\n",
    "\"Check this sentence for any grammatical errors, please.\",\n",
    "\"Please identify any grammatical inaccuracies in this sentence.\",\n",
    "\"Can you review this sentence for grammar correctness?\",\n",
    "\"Inspect for any grammar mistakes in this sentence, please.\",\n",
    "\"Kindly check for grammar accuracy in this sentence.\",\n",
    "\"Ensure there are no grammatical errors in this sentence, please.\",\n",
    "\"Please verify this sentence for any grammar mistakes.\",\n",
    "\"Could you identify any grammatical errors in this sentence?\"]"
   ]
  },
  {
   "cell_type": "code",
   "execution_count": 20,
   "id": "01cb4f1c-c747-4e6d-a3ca-b72d015992ea",
   "metadata": {},
   "outputs": [],
   "source": [
    "import random\n",
    "def get_random_call_sign(list):\n",
    "    return random.choice(list)"
   ]
  },
  {
   "cell_type": "code",
   "execution_count": 25,
   "id": "0984a610-31fa-4677-b29a-e2ebae979584",
   "metadata": {},
   "outputs": [],
   "source": [
    "sentence2 = [get_random_call_sign(rephrased_sentences)+\" \"+i for i in ds[\"train\"][\"sentence2\"]]\n",
    "sentence1 = ds[\"train\"][\"sentence1\"]\n",
    "agent_1.extend(sentence2)\n",
    "agent_2.extend(sentence1)\n",
    "dataset = pd.DataFrame()\n",
    "dataset[\"agent_1\"] = agent_1\n",
    "dataset[\"agent_2\"] = agent_2"
   ]
  },
  {
   "cell_type": "code",
   "execution_count": 31,
   "id": "4662aac2-fd93-4733-9476-e03cf5938fb1",
   "metadata": {},
   "outputs": [],
   "source": [
    "dataset.to_csv(\"../Data/CleanedDatasets/sentence_correction.csv\")"
   ]
  },
  {
   "cell_type": "code",
   "execution_count": null,
   "id": "9f263f91-8ad5-465c-b67d-f0787a4b4500",
   "metadata": {},
   "outputs": [],
   "source": []
  }
 ],
 "metadata": {
  "kernelspec": {
   "display_name": "Python 3 (ipykernel)",
   "language": "python",
   "name": "python3"
  },
  "language_info": {
   "codemirror_mode": {
    "name": "ipython",
    "version": 3
   },
   "file_extension": ".py",
   "mimetype": "text/x-python",
   "name": "python",
   "nbconvert_exporter": "python",
   "pygments_lexer": "ipython3",
   "version": "3.9.19"
  }
 },
 "nbformat": 4,
 "nbformat_minor": 5
}
