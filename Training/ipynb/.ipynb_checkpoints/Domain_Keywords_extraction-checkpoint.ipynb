{
 "cells": [
  {
   "cell_type": "code",
   "execution_count": 3,
   "id": "e598dce3-50c1-44ff-807a-845694d7c55d",
   "metadata": {},
   "outputs": [
    {
     "name": "stderr",
     "output_type": "stream",
     "text": [
      "C:\\Users\\Akshay\\anaconda3\\envs\\tf\\lib\\site-packages\\tqdm\\auto.py:21: TqdmWarning: IProgress not found. Please update jupyter and ipywidgets. See https://ipywidgets.readthedocs.io/en/stable/user_install.html\n",
      "  from .autonotebook import tqdm as notebook_tqdm\n"
     ]
    }
   ],
   "source": [
    "from datasets import load_dataset\n",
    "import warnings\n",
    "import pandas as pd\n",
    "import numpy as np\n",
    "import matplotlib.pyplot as plt\n",
    "from transformers import BartForConditionalGeneration, BartTokenizer, Trainer, TrainingArguments, DataCollatorForSeq2Seq\n",
    "from sklearn.model_selection import train_test_split\n",
    "warnings.filterwarnings(\"ignore\")\n"
   ]
  },
  {
   "cell_type": "markdown",
   "id": "594bf589-4fa6-4754-b384-ac1f0dd0d05d",
   "metadata": {
    "jp-MarkdownHeadingCollapsed": true
   },
   "source": [
    "# Summary and Topic Extraction"
   ]
  },
  {
   "cell_type": "markdown",
   "id": "cbb1396c-b542-4f5e-8a37-e7ddc73929fa",
   "metadata": {
    "jp-MarkdownHeadingCollapsed": true
   },
   "source": [
    "## Datasets"
   ]
  },
  {
   "cell_type": "code",
   "execution_count": 2,
   "id": "e6a1a9d0-cd3d-4934-90a0-c1b2ed91b15b",
   "metadata": {},
   "outputs": [],
   "source": [
    "# from datasets import load_dataset\n",
    "# dataset = load_dataset(\"sentence-transformers/reddit-title-body\")"
   ]
  },
  {
   "cell_type": "code",
   "execution_count": 3,
   "id": "f798dabf-236b-4295-91b6-ebd4c8360b4b",
   "metadata": {},
   "outputs": [],
   "source": [
    "# dataset"
   ]
  },
  {
   "cell_type": "code",
   "execution_count": 4,
   "id": "eaa6af60-625c-4f34-89d2-07ca45251a0b",
   "metadata": {},
   "outputs": [],
   "source": [
    "# train_df_1 = pd.DataFrame()\n",
    "# train_df_1[\"title\"] = dataset[\"train\"][\"title\"][:1000000]\n",
    "# train_df_1[\"body\"] = dataset[\"train\"][\"body\"][:1000000]\n",
    "# train_df_1.to_csv(\"titleExtractionDataset.csv\")"
   ]
  },
  {
   "cell_type": "code",
   "execution_count": 9,
   "id": "4a936a02-640b-4377-a8b5-bdd37acd95b1",
   "metadata": {},
   "outputs": [],
   "source": [
    "dataset_1 = pd.read_csv(\"../Data/CleanedDatasets/titleExtractionDataset.csv\")\n",
    "dataset_1.drop(\"Unnamed: 0\",inplace = True,axis = 1)\n",
    "dataset_1.columns = [\"summary\",\"text\"]"
   ]
  },
  {
   "cell_type": "code",
   "execution_count": 10,
   "id": "153bc16b-7e3d-46a5-967f-8a4bcc88101e",
   "metadata": {},
   "outputs": [
    {
     "data": {
      "text/html": [
       "<div>\n",
       "<style scoped>\n",
       "    .dataframe tbody tr th:only-of-type {\n",
       "        vertical-align: middle;\n",
       "    }\n",
       "\n",
       "    .dataframe tbody tr th {\n",
       "        vertical-align: top;\n",
       "    }\n",
       "\n",
       "    .dataframe thead th {\n",
       "        text-align: right;\n",
       "    }\n",
       "</style>\n",
       "<table border=\"1\" class=\"dataframe\">\n",
       "  <thead>\n",
       "    <tr style=\"text-align: right;\">\n",
       "      <th></th>\n",
       "      <th>summary</th>\n",
       "      <th>text</th>\n",
       "    </tr>\n",
       "  </thead>\n",
       "  <tbody>\n",
       "    <tr>\n",
       "      <th>0</th>\n",
       "      <td>The one feature the iPad is really missing.</td>\n",
       "      <td>I don't care about the lack of camera. I never...</td>\n",
       "    </tr>\n",
       "    <tr>\n",
       "      <th>1</th>\n",
       "      <td>Dear Sydney Reddit'ers, Would you like any cha...</td>\n",
       "      <td>I was going to subtly edit the style of the Sy...</td>\n",
       "    </tr>\n",
       "    <tr>\n",
       "      <th>2</th>\n",
       "      <td>I skipped bail, ran away, and never got caught...</td>\n",
       "      <td>Long/short story, I went to work in the United...</td>\n",
       "    </tr>\n",
       "    <tr>\n",
       "      <th>3</th>\n",
       "      <td>Here's an idea: Left 4 Dead Jurassic Park</td>\n",
       "      <td>After the power to the park goes out and the d...</td>\n",
       "    </tr>\n",
       "    <tr>\n",
       "      <th>4</th>\n",
       "      <td>Thought you might be able to drop some insight...</td>\n",
       "      <td>I am a huge music fan, i really am open to any...</td>\n",
       "    </tr>\n",
       "  </tbody>\n",
       "</table>\n",
       "</div>"
      ],
      "text/plain": [
       "                                             summary  \\\n",
       "0        The one feature the iPad is really missing.   \n",
       "1  Dear Sydney Reddit'ers, Would you like any cha...   \n",
       "2  I skipped bail, ran away, and never got caught...   \n",
       "3          Here's an idea: Left 4 Dead Jurassic Park   \n",
       "4  Thought you might be able to drop some insight...   \n",
       "\n",
       "                                                text  \n",
       "0  I don't care about the lack of camera. I never...  \n",
       "1  I was going to subtly edit the style of the Sy...  \n",
       "2  Long/short story, I went to work in the United...  \n",
       "3  After the power to the park goes out and the d...  \n",
       "4  I am a huge music fan, i really am open to any...  "
      ]
     },
     "execution_count": 10,
     "metadata": {},
     "output_type": "execute_result"
    }
   ],
   "source": [
    "dataset_1.head()"
   ]
  },
  {
   "cell_type": "code",
   "execution_count": 4,
   "id": "c7018c73-01eb-48f6-9d3c-58c7744530e4",
   "metadata": {},
   "outputs": [],
   "source": [
    "dataset_2 = load_dataset(\"Ateeqq/news-title-generator\")"
   ]
  },
  {
   "cell_type": "code",
   "execution_count": null,
   "id": "c2a2c835-fd40-489c-98a6-53873c74171f",
   "metadata": {},
   "outputs": [],
   "source": [
    "dataset_2"
   ]
  },
  {
   "cell_type": "code",
   "execution_count": 7,
   "id": "ba8228dd-ce54-4ca7-acce-18e9e486dca0",
   "metadata": {
    "scrolled": true
   },
   "outputs": [],
   "source": [
    "# dataset_2[\"train\"][\"summary\"][:10]"
   ]
  },
  {
   "cell_type": "code",
   "execution_count": 8,
   "id": "75d20e42-821d-4ee8-8d03-0030220e1b6b",
   "metadata": {
    "scrolled": true
   },
   "outputs": [],
   "source": [
    "# dataset_2[\"train\"][\"text\"][:10]"
   ]
  },
  {
   "cell_type": "code",
   "execution_count": 9,
   "id": "daea1ba7-1846-438b-a36b-99a488bd7971",
   "metadata": {},
   "outputs": [],
   "source": [
    "dataset_3 = load_dataset(\"dreamproit/bill_summary_us\")"
   ]
  },
  {
   "cell_type": "code",
   "execution_count": 13,
   "id": "65f4eb62-79f2-45e5-896c-a3cbcd50af59",
   "metadata": {},
   "outputs": [],
   "source": [
    "# dataset_3"
   ]
  },
  {
   "cell_type": "code",
   "execution_count": 14,
   "id": "558b430d-3f7d-440d-bdb8-d4011c458b03",
   "metadata": {
    "scrolled": true
   },
   "outputs": [],
   "source": [
    "# dataset_3[\"train\"][\"text\"][:10]"
   ]
  },
  {
   "cell_type": "code",
   "execution_count": 15,
   "id": "989fdb02-2b0a-43bc-99ea-e5d407e3aa53",
   "metadata": {},
   "outputs": [],
   "source": [
    "# dataset_3[\"train\"][\"title\"][:10]"
   ]
  },
  {
   "cell_type": "code",
   "execution_count": 16,
   "id": "8a802fbd-1d2e-4648-abd1-30bbf2c44d09",
   "metadata": {},
   "outputs": [],
   "source": [
    "dataset_4 = pd.read_csv(\"../Data/Summary/new summarization/data.csv\")"
   ]
  },
  {
   "cell_type": "code",
   "execution_count": 19,
   "id": "123f8f92-b14f-4185-af4f-941497ae71a3",
   "metadata": {},
   "outputs": [
    {
     "data": {
      "text/html": [
       "<div>\n",
       "<style scoped>\n",
       "    .dataframe tbody tr th:only-of-type {\n",
       "        vertical-align: middle;\n",
       "    }\n",
       "\n",
       "    .dataframe tbody tr th {\n",
       "        vertical-align: top;\n",
       "    }\n",
       "\n",
       "    .dataframe thead th {\n",
       "        text-align: right;\n",
       "    }\n",
       "</style>\n",
       "<table border=\"1\" class=\"dataframe\">\n",
       "  <thead>\n",
       "    <tr style=\"text-align: right;\">\n",
       "      <th></th>\n",
       "      <th>Unnamed: 0</th>\n",
       "      <th>ID</th>\n",
       "      <th>Content</th>\n",
       "      <th>Summary</th>\n",
       "      <th>Dataset</th>\n",
       "    </tr>\n",
       "  </thead>\n",
       "  <tbody>\n",
       "    <tr>\n",
       "      <th>0</th>\n",
       "      <td>0</td>\n",
       "      <td>f49ee725a0360aa6881ed1f7999cc531885dd06a</td>\n",
       "      <td>New York police are concerned drones could bec...</td>\n",
       "      <td>Police have investigated criminals who have ri...</td>\n",
       "      <td>CNN/Daily Mail</td>\n",
       "    </tr>\n",
       "    <tr>\n",
       "      <th>1</th>\n",
       "      <td>1</td>\n",
       "      <td>808fe317a53fbd3130c9b7563341a7eea6d15e94</td>\n",
       "      <td>By . Ryan Lipman . Perhaps Australian porn sta...</td>\n",
       "      <td>Porn star Angela White secretly filmed sex act...</td>\n",
       "      <td>CNN/Daily Mail</td>\n",
       "    </tr>\n",
       "    <tr>\n",
       "      <th>2</th>\n",
       "      <td>2</td>\n",
       "      <td>98fd67bd343e58bc4e275bbb5a4ea454ec827c0d</td>\n",
       "      <td>This was, Sergio Garcia conceded, much like be...</td>\n",
       "      <td>American draws inspiration from fellow country...</td>\n",
       "      <td>CNN/Daily Mail</td>\n",
       "    </tr>\n",
       "    <tr>\n",
       "      <th>3</th>\n",
       "      <td>3</td>\n",
       "      <td>e12b5bd7056287049d9ec98e41dbb287bd19a981</td>\n",
       "      <td>An Ebola outbreak that began in Guinea four mo...</td>\n",
       "      <td>World Health Organisation: 635 infections and ...</td>\n",
       "      <td>CNN/Daily Mail</td>\n",
       "    </tr>\n",
       "    <tr>\n",
       "      <th>4</th>\n",
       "      <td>4</td>\n",
       "      <td>b83e8bcfcd51419849160e789b6658b21a9aedcd</td>\n",
       "      <td>By . Associated Press and Daily Mail Reporter ...</td>\n",
       "      <td>A sinkhole opened up at 5:15am this morning in...</td>\n",
       "      <td>CNN/Daily Mail</td>\n",
       "    </tr>\n",
       "    <tr>\n",
       "      <th>...</th>\n",
       "      <td>...</td>\n",
       "      <td>...</td>\n",
       "      <td>...</td>\n",
       "      <td>...</td>\n",
       "      <td>...</td>\n",
       "    </tr>\n",
       "    <tr>\n",
       "      <th>870516</th>\n",
       "      <td>870516</td>\n",
       "      <td>5d28cab74ffb4ea584cbb857d64a72a2157bf19f</td>\n",
       "      <td>The state of Oregon is ready to throw in the t...</td>\n",
       "      <td>Oregon is the only one of 16 states that has f...</td>\n",
       "      <td>CNN/Daily Mail</td>\n",
       "    </tr>\n",
       "    <tr>\n",
       "      <th>870517</th>\n",
       "      <td>870517</td>\n",
       "      <td>6f3e12375fc400cf9dc3ad77b8191226e740e293</td>\n",
       "      <td>MADRID, Spain (CNN) -- A 92-year-old woman wit...</td>\n",
       "      <td>Two women, both from Uruguay, arrested after a...</td>\n",
       "      <td>CNN/Daily Mail</td>\n",
       "    </tr>\n",
       "    <tr>\n",
       "      <th>870518</th>\n",
       "      <td>870518</td>\n",
       "      <td>NaN</td>\n",
       "      <td>A day after a 40-year-old man miraculously sur...</td>\n",
       "      <td>– Rescuers in Niagara Falls still haven't foun...</td>\n",
       "      <td>Multi-News</td>\n",
       "    </tr>\n",
       "    <tr>\n",
       "      <th>870519</th>\n",
       "      <td>870519</td>\n",
       "      <td>9af32ebbdd03e1d543d5493e93b4ac8c8e489851</td>\n",
       "      <td>By . Deni Kirkova . PUBLISHED: . 09:27 EST, 23...</td>\n",
       "      <td>Women browse, evaluate and shop through an onl...</td>\n",
       "      <td>CNN/Daily Mail</td>\n",
       "    </tr>\n",
       "    <tr>\n",
       "      <th>870520</th>\n",
       "      <td>870520</td>\n",
       "      <td>f566e97e2944891dc8aa116eea31e897d2f09ac7</td>\n",
       "      <td>Tiago Rocha, 26, has confessed to killing 39 p...</td>\n",
       "      <td>Tiago Henrique Gomes da Rocha, 26, confessed t...</td>\n",
       "      <td>CNN/Daily Mail</td>\n",
       "    </tr>\n",
       "  </tbody>\n",
       "</table>\n",
       "<p>870521 rows × 5 columns</p>\n",
       "</div>"
      ],
      "text/plain": [
       "        Unnamed: 0                                        ID  \\\n",
       "0                0  f49ee725a0360aa6881ed1f7999cc531885dd06a   \n",
       "1                1  808fe317a53fbd3130c9b7563341a7eea6d15e94   \n",
       "2                2  98fd67bd343e58bc4e275bbb5a4ea454ec827c0d   \n",
       "3                3  e12b5bd7056287049d9ec98e41dbb287bd19a981   \n",
       "4                4  b83e8bcfcd51419849160e789b6658b21a9aedcd   \n",
       "...            ...                                       ...   \n",
       "870516      870516  5d28cab74ffb4ea584cbb857d64a72a2157bf19f   \n",
       "870517      870517  6f3e12375fc400cf9dc3ad77b8191226e740e293   \n",
       "870518      870518                                       NaN   \n",
       "870519      870519  9af32ebbdd03e1d543d5493e93b4ac8c8e489851   \n",
       "870520      870520  f566e97e2944891dc8aa116eea31e897d2f09ac7   \n",
       "\n",
       "                                                  Content  \\\n",
       "0       New York police are concerned drones could bec...   \n",
       "1       By . Ryan Lipman . Perhaps Australian porn sta...   \n",
       "2       This was, Sergio Garcia conceded, much like be...   \n",
       "3       An Ebola outbreak that began in Guinea four mo...   \n",
       "4       By . Associated Press and Daily Mail Reporter ...   \n",
       "...                                                   ...   \n",
       "870516  The state of Oregon is ready to throw in the t...   \n",
       "870517  MADRID, Spain (CNN) -- A 92-year-old woman wit...   \n",
       "870518  A day after a 40-year-old man miraculously sur...   \n",
       "870519  By . Deni Kirkova . PUBLISHED: . 09:27 EST, 23...   \n",
       "870520  Tiago Rocha, 26, has confessed to killing 39 p...   \n",
       "\n",
       "                                                  Summary         Dataset  \n",
       "0       Police have investigated criminals who have ri...  CNN/Daily Mail  \n",
       "1       Porn star Angela White secretly filmed sex act...  CNN/Daily Mail  \n",
       "2       American draws inspiration from fellow country...  CNN/Daily Mail  \n",
       "3       World Health Organisation: 635 infections and ...  CNN/Daily Mail  \n",
       "4       A sinkhole opened up at 5:15am this morning in...  CNN/Daily Mail  \n",
       "...                                                   ...             ...  \n",
       "870516  Oregon is the only one of 16 states that has f...  CNN/Daily Mail  \n",
       "870517  Two women, both from Uruguay, arrested after a...  CNN/Daily Mail  \n",
       "870518  – Rescuers in Niagara Falls still haven't foun...      Multi-News  \n",
       "870519  Women browse, evaluate and shop through an onl...  CNN/Daily Mail  \n",
       "870520  Tiago Henrique Gomes da Rocha, 26, confessed t...  CNN/Daily Mail  \n",
       "\n",
       "[870521 rows x 5 columns]"
      ]
     },
     "execution_count": 19,
     "metadata": {},
     "output_type": "execute_result"
    }
   ],
   "source": [
    "dataset_4"
   ]
  },
  {
   "cell_type": "code",
   "execution_count": 20,
   "id": "b52b86ad-3028-4912-b4e7-f32c43befdfb",
   "metadata": {},
   "outputs": [
    {
     "data": {
      "text/plain": [
       "\"An Ebola outbreak that began in Guinea four months ago has turned into a cross-border African crisis that could spread to more countries, the World Health Organisation warned last night. Despite efforts by health authorities and aid groups to contain its spread, the WHO has recorded 635 infections, including 399 deaths, in Guinea, Sierra Leone and Liberia since the outbreak started. The crisis is already the deadliest outbreak since Ebola first emerged in central Africa in 1976, and the number of infections continues to rise. The WHO is calling for drastic action to halt the epidemic. Scroll down for video . Aid: Staff from Médecins Sans Frontières sitting in the isolation ward at the Donka Hospital in Conakry, Guinea, where people infected with the Ebola virus are being treated . Cleanliness: Guinean women washing their hands at the entrance of the Sino-Guinean hospital of Kipe in the Ratoma municipality, where the first person infected with the Ebola virus was treated in Conakry . Campsite: The isolation ward at the Donka Hospital in Conakry where people infected with the Ebola virus are being treated . Luis Sambo, WHO Regional Director for . Africa, said: ‘This is no longer a country specific outbreak but a . sub-regional crisis that requires firm action by governments and . partners. ‘WHO is gravely . concerned by the on-going cross-border transmission into neighbouring . countries as well as the potential for further international spread.’ In . response to the worsening crisis, the WHO said it will convene a . special meeting of health ministers from 11 countries in Ghana on July 2 . and 3 to develop an inter-country response plan. Ebola . - with a fatality rate of up to 90 per cent, no vaccine and no known . cure - has not previously occurred in the West Africa region. People . there have become frightened of health facilities, blaming them for . importing and spreading the virus. Guidance: A Liberian Unicef field worker reads an Ebola information poster on the prevention of the Ebola epidemic, during a meeting at the Mission for Today Holy Church, in Newkru Town, Monrovia, Liberia . Guidance notice: A Liberian woman reads an information poster on the prevention of the Ebola epidemic . Medical response: A Liberian nurse walks past a poster illustrating steps for nurses to put on protective clothing displayed at the Redemption Hospital where a nurse reportedly died of Ebola virus in Monrovia . Abandoned: Empty hospital beds are seen at Redemption after nurses and patients fled due to Ebola deaths . The Ebola virus initially causes raging fever, headaches, muscle pain, conjunctivitis and weakness, before moving into more severe phases with vomiting, diarrhoea and internal and external haemorrhaging. 'This is no longer a country specific outbreak but a sub-regional crisis that requires firm action by governments and partners' Luis Sambo, World Health Organisation . Mr Sambo said: ‘There is an urgent need to intensify response efforts; to promote cross-border collaboration and information sharing of suspected cases and contacts... and to mobilise all sectors of the community. 'This is the only way that the outbreak will be effectively addressed.’ Medical charity Médecins Sans Frontières (MSF) said this week that a lack of understanding has meant people continue to prepare corpses and attend funerals of victims, leaving them vulnerable to a disease transmitted by touching victims or via bodily fluids. MSF accused civil society groups, governments and religious authorities of failing to acknowledge the scale of the epidemic, resulting in few prominent figures promoting the fight against the disease.\""
      ]
     },
     "execution_count": 20,
     "metadata": {},
     "output_type": "execute_result"
    }
   ],
   "source": [
    "dataset_4.iloc[3][\"Content\"]"
   ]
  },
  {
   "cell_type": "code",
   "execution_count": 21,
   "id": "0a22f61c-73a1-47e5-a0ab-b5fce7e7ce78",
   "metadata": {},
   "outputs": [
    {
     "data": {
      "text/plain": [
       "'World Health Organisation: 635 infections and 399 deaths since outbreak .\\nBegan in Guinea in February and has spread to Sierra Leone and Liberia .\\nDeadliest outbreak since Ebola first emerged in central Africa in 1976 .\\nThe virus has no vaccine, no known cure and a fatality rate of up to 90% .\\nEbola causes vomiting, diarrhoea and internal & external haemorrhaging .'"
      ]
     },
     "execution_count": 21,
     "metadata": {},
     "output_type": "execute_result"
    }
   ],
   "source": [
    "dataset_4.iloc[3][\"Summary\"]"
   ]
  },
  {
   "cell_type": "code",
   "execution_count": 22,
   "id": "962f857c-29fc-4cb1-aaa4-d1a3ffd6b44e",
   "metadata": {},
   "outputs": [],
   "source": [
    "dataset_5_train = pd.read_csv(\"../Data/Summary/Dialog Summarization_2/samsum-train.csv\")\n",
    "dataset_6_train = pd.read_csv(\"../Data/Summary/Dialog Summarization/CSV/train.csv\")"
   ]
  },
  {
   "cell_type": "code",
   "execution_count": null,
   "id": "fd967fa8-1320-4315-9c60-5fc7a8ee20b5",
   "metadata": {},
   "outputs": [],
   "source": []
  },
  {
   "cell_type": "code",
   "execution_count": 9,
   "id": "90df5c25-db10-415b-aa63-0805b6444e45",
   "metadata": {},
   "outputs": [],
   "source": [
    "dataset_5_test = pd.read_csv(\"../Data/Summary/Dialog Summarization_2/samsum-test.csv\")\n",
    "dataset_6_test = pd.read_csv(\"../Data/Summary/Dialog Summarization/CSV/test.csv\")\n",
    "dataset_5_validation = pd.read_csv(\"../Data/Summary/Dialog Summarization_2/samsum-validation.csv\")\n",
    "dataset_6_validation = pd.read_csv(\"../Data/Summary/Dialog Summarization/CSV/validation.csv\")"
   ]
  },
  {
   "cell_type": "code",
   "execution_count": 23,
   "id": "e025603e-efd1-4f96-af3d-cc7521c476b0",
   "metadata": {},
   "outputs": [
    {
     "data": {
      "text/html": [
       "<div>\n",
       "<style scoped>\n",
       "    .dataframe tbody tr th:only-of-type {\n",
       "        vertical-align: middle;\n",
       "    }\n",
       "\n",
       "    .dataframe tbody tr th {\n",
       "        vertical-align: top;\n",
       "    }\n",
       "\n",
       "    .dataframe thead th {\n",
       "        text-align: right;\n",
       "    }\n",
       "</style>\n",
       "<table border=\"1\" class=\"dataframe\">\n",
       "  <thead>\n",
       "    <tr style=\"text-align: right;\">\n",
       "      <th></th>\n",
       "      <th>id</th>\n",
       "      <th>dialogue</th>\n",
       "      <th>summary</th>\n",
       "    </tr>\n",
       "  </thead>\n",
       "  <tbody>\n",
       "    <tr>\n",
       "      <th>0</th>\n",
       "      <td>13818513</td>\n",
       "      <td>Amanda: I baked  cookies. Do you want some?\\r\\...</td>\n",
       "      <td>Amanda baked cookies and will bring Jerry some...</td>\n",
       "    </tr>\n",
       "    <tr>\n",
       "      <th>1</th>\n",
       "      <td>13728867</td>\n",
       "      <td>Olivia: Who are you voting for in this electio...</td>\n",
       "      <td>Olivia and Olivier are voting for liberals in ...</td>\n",
       "    </tr>\n",
       "    <tr>\n",
       "      <th>2</th>\n",
       "      <td>13681000</td>\n",
       "      <td>Tim: Hi, what's up?\\r\\nKim: Bad mood tbh, I wa...</td>\n",
       "      <td>Kim may try the pomodoro technique recommended...</td>\n",
       "    </tr>\n",
       "    <tr>\n",
       "      <th>3</th>\n",
       "      <td>13730747</td>\n",
       "      <td>Edward: Rachel, I think I'm in ove with Bella....</td>\n",
       "      <td>Edward thinks he is in love with Bella. Rachel...</td>\n",
       "    </tr>\n",
       "    <tr>\n",
       "      <th>4</th>\n",
       "      <td>13728094</td>\n",
       "      <td>Sam: hey  overheard rick say something\\r\\nSam:...</td>\n",
       "      <td>Sam is confused, because he overheard Rick com...</td>\n",
       "    </tr>\n",
       "  </tbody>\n",
       "</table>\n",
       "</div>"
      ],
      "text/plain": [
       "         id                                           dialogue  \\\n",
       "0  13818513  Amanda: I baked  cookies. Do you want some?\\r\\...   \n",
       "1  13728867  Olivia: Who are you voting for in this electio...   \n",
       "2  13681000  Tim: Hi, what's up?\\r\\nKim: Bad mood tbh, I wa...   \n",
       "3  13730747  Edward: Rachel, I think I'm in ove with Bella....   \n",
       "4  13728094  Sam: hey  overheard rick say something\\r\\nSam:...   \n",
       "\n",
       "                                             summary  \n",
       "0  Amanda baked cookies and will bring Jerry some...  \n",
       "1  Olivia and Olivier are voting for liberals in ...  \n",
       "2  Kim may try the pomodoro technique recommended...  \n",
       "3  Edward thinks he is in love with Bella. Rachel...  \n",
       "4  Sam is confused, because he overheard Rick com...  "
      ]
     },
     "execution_count": 23,
     "metadata": {},
     "output_type": "execute_result"
    }
   ],
   "source": [
    "dataset_5_train.head()"
   ]
  },
  {
   "cell_type": "code",
   "execution_count": 24,
   "id": "b61f8915-47a1-46d8-aef2-d0fd6b0315dd",
   "metadata": {},
   "outputs": [
    {
     "data": {
      "text/html": [
       "<div>\n",
       "<style scoped>\n",
       "    .dataframe tbody tr th:only-of-type {\n",
       "        vertical-align: middle;\n",
       "    }\n",
       "\n",
       "    .dataframe tbody tr th {\n",
       "        vertical-align: top;\n",
       "    }\n",
       "\n",
       "    .dataframe thead th {\n",
       "        text-align: right;\n",
       "    }\n",
       "</style>\n",
       "<table border=\"1\" class=\"dataframe\">\n",
       "  <thead>\n",
       "    <tr style=\"text-align: right;\">\n",
       "      <th></th>\n",
       "      <th>id</th>\n",
       "      <th>dialogue</th>\n",
       "      <th>summary</th>\n",
       "      <th>topic</th>\n",
       "    </tr>\n",
       "  </thead>\n",
       "  <tbody>\n",
       "    <tr>\n",
       "      <th>0</th>\n",
       "      <td>train_0</td>\n",
       "      <td>#Person1#: Hi, Mr. Smith. I'm Doctor Hawkins. ...</td>\n",
       "      <td>Mr. Smith's getting a check-up, and Doctor Haw...</td>\n",
       "      <td>get a check-up</td>\n",
       "    </tr>\n",
       "    <tr>\n",
       "      <th>1</th>\n",
       "      <td>train_1</td>\n",
       "      <td>#Person1#: Hello Mrs. Parker, how have you bee...</td>\n",
       "      <td>Mrs Parker takes Ricky for his vaccines. Dr. P...</td>\n",
       "      <td>vaccines</td>\n",
       "    </tr>\n",
       "    <tr>\n",
       "      <th>2</th>\n",
       "      <td>train_2</td>\n",
       "      <td>#Person1#: Excuse me, did you see a set of key...</td>\n",
       "      <td>#Person1#'s looking for a set of keys and asks...</td>\n",
       "      <td>find keys</td>\n",
       "    </tr>\n",
       "    <tr>\n",
       "      <th>3</th>\n",
       "      <td>train_3</td>\n",
       "      <td>#Person1#: Why didn't you tell me you had a gi...</td>\n",
       "      <td>#Person1#'s angry because #Person2# didn't tel...</td>\n",
       "      <td>have a girlfriend</td>\n",
       "    </tr>\n",
       "    <tr>\n",
       "      <th>4</th>\n",
       "      <td>train_4</td>\n",
       "      <td>#Person1#: Watsup, ladies! Y'll looking'fine t...</td>\n",
       "      <td>Malik invites Nikki to dance. Nikki agrees if ...</td>\n",
       "      <td>dance</td>\n",
       "    </tr>\n",
       "    <tr>\n",
       "      <th>...</th>\n",
       "      <td>...</td>\n",
       "      <td>...</td>\n",
       "      <td>...</td>\n",
       "      <td>...</td>\n",
       "    </tr>\n",
       "    <tr>\n",
       "      <th>12455</th>\n",
       "      <td>train_12455</td>\n",
       "      <td>#Person1#: Excuse me. You are Mr. Green from M...</td>\n",
       "      <td>Tan Ling picks Mr. Green up who is easily reco...</td>\n",
       "      <td>pick up someone</td>\n",
       "    </tr>\n",
       "    <tr>\n",
       "      <th>12456</th>\n",
       "      <td>train_12456</td>\n",
       "      <td>#Person1#: Mister Ewing said we should show up...</td>\n",
       "      <td>#Person1# and #Person2# plan to take the under...</td>\n",
       "      <td>conference center</td>\n",
       "    </tr>\n",
       "    <tr>\n",
       "      <th>12457</th>\n",
       "      <td>train_12457</td>\n",
       "      <td>#Person1#: How can I help you today?\\n#Person2...</td>\n",
       "      <td>#Person2# rents a small car for 5 days with th...</td>\n",
       "      <td>rent a car</td>\n",
       "    </tr>\n",
       "    <tr>\n",
       "      <th>12458</th>\n",
       "      <td>train_12458</td>\n",
       "      <td>#Person1#: You look a bit unhappy today. What'...</td>\n",
       "      <td>#Person2#'s mom lost her job. #Person2# hopes ...</td>\n",
       "      <td>job losing</td>\n",
       "    </tr>\n",
       "    <tr>\n",
       "      <th>12459</th>\n",
       "      <td>train_12459</td>\n",
       "      <td>#Person1#: Mom, I'm flying to visit uncle Lee'...</td>\n",
       "      <td>#Person1# asks for #Person2#'s idea of packing...</td>\n",
       "      <td>baggage pack</td>\n",
       "    </tr>\n",
       "  </tbody>\n",
       "</table>\n",
       "<p>12460 rows × 4 columns</p>\n",
       "</div>"
      ],
      "text/plain": [
       "                id                                           dialogue  \\\n",
       "0          train_0  #Person1#: Hi, Mr. Smith. I'm Doctor Hawkins. ...   \n",
       "1          train_1  #Person1#: Hello Mrs. Parker, how have you bee...   \n",
       "2          train_2  #Person1#: Excuse me, did you see a set of key...   \n",
       "3          train_3  #Person1#: Why didn't you tell me you had a gi...   \n",
       "4          train_4  #Person1#: Watsup, ladies! Y'll looking'fine t...   \n",
       "...            ...                                                ...   \n",
       "12455  train_12455  #Person1#: Excuse me. You are Mr. Green from M...   \n",
       "12456  train_12456  #Person1#: Mister Ewing said we should show up...   \n",
       "12457  train_12457  #Person1#: How can I help you today?\\n#Person2...   \n",
       "12458  train_12458  #Person1#: You look a bit unhappy today. What'...   \n",
       "12459  train_12459  #Person1#: Mom, I'm flying to visit uncle Lee'...   \n",
       "\n",
       "                                                 summary              topic  \n",
       "0      Mr. Smith's getting a check-up, and Doctor Haw...     get a check-up  \n",
       "1      Mrs Parker takes Ricky for his vaccines. Dr. P...           vaccines  \n",
       "2      #Person1#'s looking for a set of keys and asks...          find keys  \n",
       "3      #Person1#'s angry because #Person2# didn't tel...  have a girlfriend  \n",
       "4      Malik invites Nikki to dance. Nikki agrees if ...              dance  \n",
       "...                                                  ...                ...  \n",
       "12455  Tan Ling picks Mr. Green up who is easily reco...    pick up someone  \n",
       "12456  #Person1# and #Person2# plan to take the under...  conference center  \n",
       "12457  #Person2# rents a small car for 5 days with th...         rent a car  \n",
       "12458  #Person2#'s mom lost her job. #Person2# hopes ...         job losing  \n",
       "12459  #Person1# asks for #Person2#'s idea of packing...       baggage pack  \n",
       "\n",
       "[12460 rows x 4 columns]"
      ]
     },
     "execution_count": 24,
     "metadata": {},
     "output_type": "execute_result"
    }
   ],
   "source": [
    "dataset_6_train"
   ]
  },
  {
   "cell_type": "code",
   "execution_count": 15,
   "id": "660bf925-e084-42f4-a6ff-de83149376a4",
   "metadata": {},
   "outputs": [],
   "source": [
    "final_training_dataset = pd.concat([dataset_5_train[[\"dialogue\",\"summary\"]],dataset_6_train[[\"dialogue\",\"summary\"]],\n",
    "                                    dataset_5_test[[\"dialogue\",\"summary\"]],dataset_6_test[[\"dialogue\",\"summary\"]],\n",
    "                                    dataset_5_validation[[\"dialogue\",\"summary\"]],dataset_6_validation[[\"dialogue\",\"summary\"]]],\n",
    "                                   ignore_index=True,axis = 0)"
   ]
  },
  {
   "cell_type": "code",
   "execution_count": 17,
   "id": "a051c92b-3aaa-418b-aa43-b95e4dd8c737",
   "metadata": {},
   "outputs": [],
   "source": [
    "final_training_dataset.to_csv(\"../Data/CleanedDatasets/SummaryDataset.csv\")"
   ]
  },
  {
   "cell_type": "code",
   "execution_count": 18,
   "id": "5ef19dab-1681-4622-a809-388628c0db02",
   "metadata": {},
   "outputs": [],
   "source": [
    "final_dataset = pd.read_csv(\"../Data/CleanedDatasets/SummaryDataset.csv\")"
   ]
  },
  {
   "cell_type": "code",
   "execution_count": 37,
   "id": "3952c1b9-cb70-49b0-aafe-c7065f763bb2",
   "metadata": {},
   "outputs": [
    {
     "name": "stderr",
     "output_type": "stream",
     "text": [
      "Downloading readme: 100%|██████████| 4.18k/4.18k [00:00<?, ?B/s]\n",
      "Downloading data: 100%|██████████| 490M/490M [01:39<00:00, 4.93MB/s] \n",
      "Downloading data: 100%|██████████| 26.7M/26.7M [00:04<00:00, 5.59MB/s]\n",
      "Downloading data: 100%|██████████| 28.0M/28.0M [00:04<00:00, 5.82MB/s]\n",
      "Generating train split: 100%|██████████| 216505/216505 [00:04<00:00, 47388.50 examples/s]\n",
      "Generating validation split: 100%|██████████| 11832/11832 [00:00<00:00, 54903.38 examples/s]\n",
      "Generating test split: 100%|██████████| 12834/12834 [00:00<00:00, 48253.22 examples/s]\n"
     ]
    }
   ],
   "source": [
    "dataset_7 = load_dataset(\"knkarthick/topicsum\")"
   ]
  },
  {
   "cell_type": "code",
   "execution_count": 45,
   "id": "8e081533-3a60-4a00-ac1e-4809f6440077",
   "metadata": {},
   "outputs": [],
   "source": [
    "training_dataset_7 = pd.DataFrame()\n",
    "testing_dataset_7 = pd.DataFrame()\n",
    "validation_dataset_7 = pd.DataFrame()"
   ]
  },
  {
   "cell_type": "code",
   "execution_count": 46,
   "id": "a60bfbc3-7956-4537-a415-89e1865cabf5",
   "metadata": {},
   "outputs": [],
   "source": [
    "training_dataset_7[\"dialogue\"] = dataset_7[\"train\"][\"dialogue\"]\n",
    "training_dataset_7[\"summary\"] = dataset_7[\"train\"][\"summary\"]\n",
    "\n",
    "testing_dataset_7[\"dialogue\"] = dataset_7[\"test\"][\"dialogue\"]\n",
    "testing_dataset_7[\"summary\"] = dataset_7[\"test\"][\"summary\"]\n",
    "\n",
    "validation_dataset_7[\"dialogue\"] = dataset_7[\"validation\"][\"dialogue\"]\n",
    "validation_dataset_7[\"summary\"] = dataset_7[\"validation\"][\"summary\"]\n",
    "\n",
    "final_training_dataset = pd.concat([training_dataset_7[[\"dialogue\",\"summary\"]],testing_dataset_7[[\"dialogue\",\"summary\"]],\n",
    "                                    validation_dataset_7[[\"dialogue\",\"summary\"]]],\n",
    "                                   ignore_index=True,axis = 0)"
   ]
  },
  {
   "cell_type": "code",
   "execution_count": 47,
   "id": "01b88719-f8f7-47d0-b3eb-9f39e98d62c7",
   "metadata": {},
   "outputs": [
    {
     "data": {
      "text/html": [
       "<div>\n",
       "<style scoped>\n",
       "    .dataframe tbody tr th:only-of-type {\n",
       "        vertical-align: middle;\n",
       "    }\n",
       "\n",
       "    .dataframe tbody tr th {\n",
       "        vertical-align: top;\n",
       "    }\n",
       "\n",
       "    .dataframe thead th {\n",
       "        text-align: right;\n",
       "    }\n",
       "</style>\n",
       "<table border=\"1\" class=\"dataframe\">\n",
       "  <thead>\n",
       "    <tr style=\"text-align: right;\">\n",
       "      <th></th>\n",
       "      <th>dialogue</th>\n",
       "      <th>summary</th>\n",
       "    </tr>\n",
       "  </thead>\n",
       "  <tbody>\n",
       "    <tr>\n",
       "      <th>0</th>\n",
       "      <td>#Person1#: Hi, Mr. Smith. I'm Doctor Hawkins. ...</td>\n",
       "      <td>get a check-up</td>\n",
       "    </tr>\n",
       "    <tr>\n",
       "      <th>1</th>\n",
       "      <td>#Person1#: Hello Mrs. Parker, how have you bee...</td>\n",
       "      <td>vaccines</td>\n",
       "    </tr>\n",
       "    <tr>\n",
       "      <th>2</th>\n",
       "      <td>#Person1#: Excuse me, did you see a set of key...</td>\n",
       "      <td>find keys</td>\n",
       "    </tr>\n",
       "    <tr>\n",
       "      <th>3</th>\n",
       "      <td>#Person1#: Why didn't you tell me you had a gi...</td>\n",
       "      <td>have a girlfriend</td>\n",
       "    </tr>\n",
       "    <tr>\n",
       "      <th>4</th>\n",
       "      <td>#Person1#: Watsup, ladies! Y'll looking'fine t...</td>\n",
       "      <td>dance</td>\n",
       "    </tr>\n",
       "    <tr>\n",
       "      <th>...</th>\n",
       "      <td>...</td>\n",
       "      <td>...</td>\n",
       "    </tr>\n",
       "    <tr>\n",
       "      <th>216500</th>\n",
       "      <td>The initial figure released in July was booste...</td>\n",
       "      <td>UK economic growth for the second quarter of t...</td>\n",
       "    </tr>\n",
       "    <tr>\n",
       "      <th>216501</th>\n",
       "      <td>MEPs, including European Parliament chief Brex...</td>\n",
       "      <td>Theresa May's offer to give EU citizens in the...</td>\n",
       "    </tr>\n",
       "    <tr>\n",
       "      <th>216502</th>\n",
       "      <td>Lincoln Red Imps will bring a 1-0 lead to Glas...</td>\n",
       "      <td>Erik Sviatchenko is adamant that Celtic will p...</td>\n",
       "    </tr>\n",
       "    <tr>\n",
       "      <th>216503</th>\n",
       "      <td>Former Liverpool defender Mark Lawrenson expan...</td>\n",
       "      <td>People have spent a large part of this season ...</td>\n",
       "    </tr>\n",
       "    <tr>\n",
       "      <th>216504</th>\n",
       "      <td>The incident occurred at the headquarters of t...</td>\n",
       "      <td>Police in Thailand have charged two executives...</td>\n",
       "    </tr>\n",
       "  </tbody>\n",
       "</table>\n",
       "<p>216505 rows × 2 columns</p>\n",
       "</div>"
      ],
      "text/plain": [
       "                                                 dialogue  \\\n",
       "0       #Person1#: Hi, Mr. Smith. I'm Doctor Hawkins. ...   \n",
       "1       #Person1#: Hello Mrs. Parker, how have you bee...   \n",
       "2       #Person1#: Excuse me, did you see a set of key...   \n",
       "3       #Person1#: Why didn't you tell me you had a gi...   \n",
       "4       #Person1#: Watsup, ladies! Y'll looking'fine t...   \n",
       "...                                                   ...   \n",
       "216500  The initial figure released in July was booste...   \n",
       "216501  MEPs, including European Parliament chief Brex...   \n",
       "216502  Lincoln Red Imps will bring a 1-0 lead to Glas...   \n",
       "216503  Former Liverpool defender Mark Lawrenson expan...   \n",
       "216504  The incident occurred at the headquarters of t...   \n",
       "\n",
       "                                                  summary  \n",
       "0                                          get a check-up  \n",
       "1                                                vaccines  \n",
       "2                                               find keys  \n",
       "3                                       have a girlfriend  \n",
       "4                                                   dance  \n",
       "...                                                   ...  \n",
       "216500  UK economic growth for the second quarter of t...  \n",
       "216501  Theresa May's offer to give EU citizens in the...  \n",
       "216502  Erik Sviatchenko is adamant that Celtic will p...  \n",
       "216503  People have spent a large part of this season ...  \n",
       "216504  Police in Thailand have charged two executives...  \n",
       "\n",
       "[216505 rows x 2 columns]"
      ]
     },
     "execution_count": 47,
     "metadata": {},
     "output_type": "execute_result"
    }
   ],
   "source": [
    "training_dataset_7"
   ]
  },
  {
   "cell_type": "code",
   "execution_count": 42,
   "id": "695612d8-157e-488c-8a49-110fd4c70965",
   "metadata": {},
   "outputs": [],
   "source": [
    "final_dataset.to_csv(\"../Data/CleanedDatasets/TopicDataset.csv\")"
   ]
  },
  {
   "cell_type": "code",
   "execution_count": 43,
   "id": "4aaab204-aea9-4e62-a446-38c698bd4d4c",
   "metadata": {},
   "outputs": [
    {
     "data": {
      "text/html": [
       "<div>\n",
       "<style scoped>\n",
       "    .dataframe tbody tr th:only-of-type {\n",
       "        vertical-align: middle;\n",
       "    }\n",
       "\n",
       "    .dataframe tbody tr th {\n",
       "        vertical-align: top;\n",
       "    }\n",
       "\n",
       "    .dataframe thead th {\n",
       "        text-align: right;\n",
       "    }\n",
       "</style>\n",
       "<table border=\"1\" class=\"dataframe\">\n",
       "  <thead>\n",
       "    <tr style=\"text-align: right;\">\n",
       "      <th></th>\n",
       "      <th>Unnamed: 0</th>\n",
       "      <th>dialogue</th>\n",
       "      <th>summary</th>\n",
       "    </tr>\n",
       "  </thead>\n",
       "  <tbody>\n",
       "    <tr>\n",
       "      <th>0</th>\n",
       "      <td>0</td>\n",
       "      <td>Amanda: I baked  cookies. Do you want some?\\r\\...</td>\n",
       "      <td>Amanda baked cookies and will bring Jerry some...</td>\n",
       "    </tr>\n",
       "    <tr>\n",
       "      <th>1</th>\n",
       "      <td>1</td>\n",
       "      <td>Olivia: Who are you voting for in this electio...</td>\n",
       "      <td>Olivia and Olivier are voting for liberals in ...</td>\n",
       "    </tr>\n",
       "    <tr>\n",
       "      <th>2</th>\n",
       "      <td>2</td>\n",
       "      <td>Tim: Hi, what's up?\\r\\nKim: Bad mood tbh, I wa...</td>\n",
       "      <td>Kim may try the pomodoro technique recommended...</td>\n",
       "    </tr>\n",
       "    <tr>\n",
       "      <th>3</th>\n",
       "      <td>3</td>\n",
       "      <td>Edward: Rachel, I think I'm in ove with Bella....</td>\n",
       "      <td>Edward thinks he is in love with Bella. Rachel...</td>\n",
       "    </tr>\n",
       "    <tr>\n",
       "      <th>4</th>\n",
       "      <td>4</td>\n",
       "      <td>Sam: hey  overheard rick say something\\r\\nSam:...</td>\n",
       "      <td>Sam is confused, because he overheard Rick com...</td>\n",
       "    </tr>\n",
       "    <tr>\n",
       "      <th>...</th>\n",
       "      <td>...</td>\n",
       "      <td>...</td>\n",
       "      <td>...</td>\n",
       "    </tr>\n",
       "    <tr>\n",
       "      <th>30824</th>\n",
       "      <td>30824</td>\n",
       "      <td>#Person1#: Now that it's the new year, I've de...</td>\n",
       "      <td>#Person1# decides to stop smoking and come out...</td>\n",
       "    </tr>\n",
       "    <tr>\n",
       "      <th>30825</th>\n",
       "      <td>30825</td>\n",
       "      <td>#Person1#: You married Joe, didn't you? \\n#Per...</td>\n",
       "      <td>#Person1# thought #Person2# married Joe. #Pers...</td>\n",
       "    </tr>\n",
       "    <tr>\n",
       "      <th>30826</th>\n",
       "      <td>30826</td>\n",
       "      <td>#Person1#: How can I help you mam?\\n#Person2#:...</td>\n",
       "      <td>#Person2#'s car makes noises. #Person1# thinks...</td>\n",
       "    </tr>\n",
       "    <tr>\n",
       "      <th>30827</th>\n",
       "      <td>30827</td>\n",
       "      <td>#Person1#: Hello, Amazon's customer service. H...</td>\n",
       "      <td>#Person2# calls Amazon's customer service beca...</td>\n",
       "    </tr>\n",
       "    <tr>\n",
       "      <th>30828</th>\n",
       "      <td>30828</td>\n",
       "      <td>#Person1#: I can't believe it's almost summer....</td>\n",
       "      <td>#Person2# tells #Person1# #Person2# is going t...</td>\n",
       "    </tr>\n",
       "  </tbody>\n",
       "</table>\n",
       "<p>30829 rows × 3 columns</p>\n",
       "</div>"
      ],
      "text/plain": [
       "       Unnamed: 0                                           dialogue  \\\n",
       "0               0  Amanda: I baked  cookies. Do you want some?\\r\\...   \n",
       "1               1  Olivia: Who are you voting for in this electio...   \n",
       "2               2  Tim: Hi, what's up?\\r\\nKim: Bad mood tbh, I wa...   \n",
       "3               3  Edward: Rachel, I think I'm in ove with Bella....   \n",
       "4               4  Sam: hey  overheard rick say something\\r\\nSam:...   \n",
       "...           ...                                                ...   \n",
       "30824       30824  #Person1#: Now that it's the new year, I've de...   \n",
       "30825       30825  #Person1#: You married Joe, didn't you? \\n#Per...   \n",
       "30826       30826  #Person1#: How can I help you mam?\\n#Person2#:...   \n",
       "30827       30827  #Person1#: Hello, Amazon's customer service. H...   \n",
       "30828       30828  #Person1#: I can't believe it's almost summer....   \n",
       "\n",
       "                                                 summary  \n",
       "0      Amanda baked cookies and will bring Jerry some...  \n",
       "1      Olivia and Olivier are voting for liberals in ...  \n",
       "2      Kim may try the pomodoro technique recommended...  \n",
       "3      Edward thinks he is in love with Bella. Rachel...  \n",
       "4      Sam is confused, because he overheard Rick com...  \n",
       "...                                                  ...  \n",
       "30824  #Person1# decides to stop smoking and come out...  \n",
       "30825  #Person1# thought #Person2# married Joe. #Pers...  \n",
       "30826  #Person2#'s car makes noises. #Person1# thinks...  \n",
       "30827  #Person2# calls Amazon's customer service beca...  \n",
       "30828  #Person2# tells #Person1# #Person2# is going t...  \n",
       "\n",
       "[30829 rows x 3 columns]"
      ]
     },
     "execution_count": 43,
     "metadata": {},
     "output_type": "execute_result"
    }
   ],
   "source": [
    "final_dataset"
   ]
  },
  {
   "cell_type": "markdown",
   "id": "022042be-882f-4d4e-8674-077d365502b3",
   "metadata": {},
   "source": [
    "# Keywords"
   ]
  },
  {
   "cell_type": "markdown",
   "id": "0788a67a-a5f6-4417-be83-3a161ffc8528",
   "metadata": {
    "jp-MarkdownHeadingCollapsed": true
   },
   "source": [
    "## Dataset"
   ]
  },
  {
   "cell_type": "code",
   "execution_count": 51,
   "id": "17452ffb-b885-4be1-afec-e07a62821f7e",
   "metadata": {},
   "outputs": [
    {
     "name": "stderr",
     "output_type": "stream",
     "text": [
      "Downloading readme: 100%|██████████| 737/737 [00:00<?, ?B/s] \n",
      "Downloading data: 100%|██████████| 22.1M/22.1M [00:05<00:00, 3.68MB/s]\n",
      "Downloading data: 100%|██████████| 1.49M/1.49M [00:00<00:00, 2.79MB/s]\n",
      "Generating train split: 100%|██████████| 120000/120000 [00:00<00:00, 1003134.03 examples/s]\n",
      "Generating test split: 100%|██████████| 7600/7600 [00:00<00:00, 557333.86 examples/s]\n"
     ]
    }
   ],
   "source": [
    "dataset_1 = load_dataset(\"Dzeniks/wikipedia_keywords\")\n",
    "dataset_2 = load_dataset(\"ilsilfverskiold/tech-keywords-topics-summary\")\n",
    "dataset_3 = load_dataset(\"sunhaozhepy/ag_news_llm_keywords\")"
   ]
  },
  {
   "cell_type": "code",
   "execution_count": 52,
   "id": "568e2e42-91a6-4728-88ac-024e99bce503",
   "metadata": {},
   "outputs": [
    {
     "data": {
      "text/plain": [
       "DatasetDict({\n",
       "    train: Dataset({\n",
       "        features: ['keywords', 'sentence'],\n",
       "        num_rows: 11568\n",
       "    })\n",
       "    validation: Dataset({\n",
       "        features: ['keywords', 'sentence'],\n",
       "        num_rows: 1446\n",
       "    })\n",
       "    test: Dataset({\n",
       "        features: ['keywords', 'sentence'],\n",
       "        num_rows: 1446\n",
       "    })\n",
       "})"
      ]
     },
     "execution_count": 52,
     "metadata": {},
     "output_type": "execute_result"
    }
   ],
   "source": [
    "dataset_1"
   ]
  },
  {
   "cell_type": "code",
   "execution_count": 62,
   "id": "af89854d-0ec8-4e20-9c1c-cdf2646f4ca0",
   "metadata": {},
   "outputs": [
    {
     "data": {
      "text/plain": [
       "DatasetDict({\n",
       "    train: Dataset({\n",
       "        features: ['id', 'source', 'text', 'timestamp', 'reactions', 'engagement', 'url', 'text_length', 'keywords', 'topic', 'summary', '__index_level_0__'],\n",
       "        num_rows: 7196\n",
       "    })\n",
       "    validation: Dataset({\n",
       "        features: ['id', 'source', 'text', 'timestamp', 'reactions', 'engagement', 'url', 'text_length', 'keywords', 'topic', 'summary', '__index_level_0__'],\n",
       "        num_rows: 635\n",
       "    })\n",
       "    test: Dataset({\n",
       "        features: ['id', 'source', 'text', 'timestamp', 'reactions', 'engagement', 'url', 'text_length', 'keywords', 'topic', 'summary', '__index_level_0__'],\n",
       "        num_rows: 635\n",
       "    })\n",
       "})"
      ]
     },
     "execution_count": 62,
     "metadata": {},
     "output_type": "execute_result"
    }
   ],
   "source": [
    "dataset_2"
   ]
  },
  {
   "cell_type": "code",
   "execution_count": 104,
   "id": "93b319a8-13d2-4109-8020-2e48579acd61",
   "metadata": {},
   "outputs": [
    {
     "data": {
      "text/plain": [
       "DatasetDict({\n",
       "    train: Dataset({\n",
       "        features: ['text', 'label', 'keywords'],\n",
       "        num_rows: 120000\n",
       "    })\n",
       "    test: Dataset({\n",
       "        features: ['text', 'label', 'keywords'],\n",
       "        num_rows: 7600\n",
       "    })\n",
       "})"
      ]
     },
     "execution_count": 104,
     "metadata": {},
     "output_type": "execute_result"
    }
   ],
   "source": [
    "dataset_3"
   ]
  },
  {
   "cell_type": "code",
   "execution_count": 101,
   "id": "29343303-e66e-40a1-89d8-f967917ec3a6",
   "metadata": {},
   "outputs": [],
   "source": [
    "train_mod = [str(key).replace(\"[\",\"\").replace(\"]\",\"\") for key in dataset_1[\"train\"][\"keywords\"]]\n",
    "test_mod = [str(key).replace(\"[\",\"\").replace(\"]\",\"\") for key in dataset_1[\"test\"][\"keywords\"]]\n",
    "valid_mod = [str(key).replace(\"[\",\"\").replace(\"]\",\"\") for key in dataset_1[\"validation\"][\"keywords\"]]"
   ]
  },
  {
   "cell_type": "code",
   "execution_count": null,
   "id": "c19a27de-067b-488a-8bfc-c173a2e105dc",
   "metadata": {},
   "outputs": [],
   "source": []
  },
  {
   "cell_type": "code",
   "execution_count": 102,
   "id": "b9555984-d5fb-4da9-aacb-8b3f33d927dc",
   "metadata": {},
   "outputs": [],
   "source": [
    "trainingData_text = dataset_1[\"train\"][\"sentence\"] + dataset_1[\"test\"][\"sentence\"] + dataset_1[\"validation\"][\"sentence\"] + dataset_3[\"train\"][\"text\"] + dataset_3[\"test\"][\"text\"] + dataset_2[\"train\"][\"text\"] + dataset_2[\"test\"][\"text\"] \n",
    "trainingData_keywords = train_mod + test_mod + valid_mod + dataset_3[\"train\"][\"keywords\"] + dataset_3[\"test\"][\"keywords\"] + dataset_2[\"train\"][\"keywords\"] + dataset_2[\"test\"][\"keywords\"]"
   ]
  },
  {
   "cell_type": "code",
   "execution_count": 107,
   "id": "f6d9dd75-6069-4be1-abbb-2c96621ad59d",
   "metadata": {},
   "outputs": [],
   "source": [
    "final_df = pd.DataFrame()\n",
    "final_df[\"text\"] = trainingData_text\n",
    "final_df[\"keywords\"] = trainingData_keywords\n",
    "final_df.to_csv(\"../Data/CleanedDatasets/keywords.csv\")"
   ]
  },
  {
   "cell_type": "code",
   "execution_count": 2,
   "id": "c3668db5-b8ef-4bb4-8d21-7c132e371ed0",
   "metadata": {},
   "outputs": [],
   "source": [
    "dataset = pd.read_csv(\"../Data/CleanedDatasets/keywords.csv\")"
   ]
  },
  {
   "cell_type": "markdown",
   "id": "1fcf4d6e-a7f7-4d4d-ab5d-f39dc5be49eb",
   "metadata": {
    "jp-MarkdownHeadingCollapsed": true
   },
   "source": [
    "## Train Test Split"
   ]
  },
  {
   "cell_type": "code",
   "execution_count": 3,
   "id": "3f463459-3e3a-4f81-9ee6-63abafeded7d",
   "metadata": {},
   "outputs": [],
   "source": [
    "X_train, X_test, y_train, y_test = train_test_split(dataset[\"text\"],dataset[\"keywords\"], test_size=0.2, random_state=42)\n",
    "X_test, X_valid, y_test, y_valid = train_test_split(X_test,y_test, test_size=0.5, random_state=42)"
   ]
  },
  {
   "cell_type": "code",
   "execution_count": null,
   "id": "3b4eb2df-e415-4967-920d-c7731a10ec0f",
   "metadata": {},
   "outputs": [],
   "source": []
  },
  {
   "cell_type": "code",
   "execution_count": 8,
   "id": "252bdf90-7151-4be5-8f94-561385566c31",
   "metadata": {},
   "outputs": [
    {
     "data": {
      "text/plain": [
       "\"I think the tech demo they shown of someone painting Link on the Wii U's screen may end up becoming a Mario Paint game. There are lots of possibilities here.\\n\\nIt's perfect for animation. The tech could easily simulate an animation desk. Onion layering, Timeline toolbars, perhaps even Flash-style motion tweens.\\n\\nOther features I can think of: Polygon modeling, Mario Composer tool that lets you sample sounds recorded from the mic, Layers, and an online gallery that lets you share your work, or upload it to photobucket or youtube or whatever.\\n\\nDoes anyone have any other ideas? I believe Pokemon Snap has been suggested before. Speaking of which, Hey You, Pikachu would be interesting... so would Electroplankton.\""
      ]
     },
     "execution_count": 8,
     "metadata": {},
     "output_type": "execute_result"
    }
   ],
   "source": [
    "X_train[566853]"
   ]
  },
  {
   "cell_type": "markdown",
   "id": "652fb863-19bd-4c0d-a457-478ca66dfcf7",
   "metadata": {
    "jp-MarkdownHeadingCollapsed": true
   },
   "source": [
    "## Loading the Model"
   ]
  },
  {
   "cell_type": "code",
   "execution_count": 4,
   "id": "fc9e4822-aab5-4b10-be7d-9460be817f87",
   "metadata": {},
   "outputs": [
    {
     "name": "stdout",
     "output_type": "stream",
     "text": [
      "CUDA available: True\n",
      "CUDA version: 12.1\n",
      "Device count: 1\n",
      "Current device: 0\n",
      "Device name: NVIDIA GeForce RTX 4090\n",
      "cuda\n"
     ]
    }
   ],
   "source": [
    "import torch\n",
    "torch.cuda.empty_cache()\n",
    "print(\"CUDA available:\", torch.cuda.is_available())\n",
    "print(\"CUDA version:\", torch.version.cuda)\n",
    "print(\"Device count:\", torch.cuda.device_count())\n",
    "print(\"Current device:\", torch.cuda.current_device())\n",
    "print(\"Device name:\", torch.cuda.get_device_name(torch.cuda.current_device()))\n",
    "device = torch.device('cuda' if torch.cuda.is_available() else 'cpu')\n",
    "print(device)"
   ]
  },
  {
   "cell_type": "code",
   "execution_count": 17,
   "id": "a31991a6-bdfd-44c3-9a98-fef74c9aebd3",
   "metadata": {},
   "outputs": [],
   "source": [
    "tokenizer = BartTokenizer.from_pretrained('facebook/bart-large')\n",
    "model = BartForConditionalGeneration.from_pretrained('facebook/bart-large').to(device)\n",
    "model = model.to(device)"
   ]
  },
  {
   "cell_type": "code",
   "execution_count": 5,
   "id": "4d27fcb9-ca61-4420-85a3-c0483c62fe4f",
   "metadata": {},
   "outputs": [],
   "source": [
    "model_name = '../Saved_Models/Keywords/fine-tuned-bert-sentiment_2024_07_03_2'\n",
    "tokenizer = BartTokenizer.from_pretrained(model_name)\n",
    "model = BartForConditionalGeneration.from_pretrained(model_name)\n",
    "model = model.to(device)\n",
    "data_collator = DataCollatorForSeq2Seq(tokenizer, model=model)"
   ]
  },
  {
   "cell_type": "code",
   "execution_count": 6,
   "id": "15629b91-f12c-4731-8ec3-d44163207f58",
   "metadata": {},
   "outputs": [],
   "source": [
    "from torch.utils.data import Dataset\n",
    "\n",
    "class TextDataset(Dataset):\n",
    "    def __init__(self, input_texts, output_texts, tokenizer, max_length):\n",
    "        self.input_texts = input_texts\n",
    "        self.output_texts = output_texts\n",
    "        self.tokenizer = tokenizer\n",
    "        self.max_length = max_length\n",
    "\n",
    "    def __len__(self):\n",
    "        return len(self.input_texts)\n",
    "\n",
    "    def __getitem__(self, idx):\n",
    "        input_text = self.input_texts[idx]\n",
    "        output_text = self.output_texts[idx]\n",
    "\n",
    "        input_tokenized = self.tokenizer(input_text, max_length=self.max_length, truncation=True, padding='max_length', return_tensors='pt')\n",
    "        output_tokenized = self.tokenizer(output_text, max_length=self.max_length, truncation=True, padding='max_length', return_tensors='pt')\n",
    "\n",
    "        input_ids = input_tokenized['input_ids'].squeeze(0)\n",
    "        attention_mask = input_tokenized['attention_mask'].squeeze(0)\n",
    "        labels = output_tokenized['input_ids'].squeeze(0)\n",
    "\n",
    "        return {\n",
    "            'input_ids': input_ids,\n",
    "            'attention_mask': attention_mask,\n",
    "            'labels': labels\n",
    "        }"
   ]
  },
  {
   "cell_type": "markdown",
   "id": "c51d4156-802a-4e50-899f-20f667069a1c",
   "metadata": {
    "jp-MarkdownHeadingCollapsed": true
   },
   "source": [
    "## Training the model"
   ]
  },
  {
   "cell_type": "code",
   "execution_count": 20,
   "id": "4d00edf5-5042-45fe-8151-b46e09a5d358",
   "metadata": {},
   "outputs": [],
   "source": [
    "train_dataset = TextDataset(X_train, y_train, tokenizer, max_length=128)\n",
    "valdiation_dataset = TextDataset(X_valid, y_valid, tokenizer, max_length=128)"
   ]
  },
  {
   "cell_type": "code",
   "execution_count": null,
   "id": "d0d3a6e8-1cff-41ef-b6b1-a35b8a69d868",
   "metadata": {},
   "outputs": [],
   "source": []
  },
  {
   "cell_type": "code",
   "execution_count": 21,
   "id": "bbe8c209-7fdc-4814-ae34-e9fb5ef229c2",
   "metadata": {},
   "outputs": [],
   "source": [
    "training_args = TrainingArguments(\n",
    "    output_dir='./results',\n",
    "    num_train_epochs=2,  # Increase the number of epochs\n",
    "    per_device_train_batch_size=64,  # Adjust batch size as per your GPU memory\n",
    "    per_device_eval_batch_size=64,\n",
    "    gradient_accumulation_steps=1,  # Gradient accumulation to simulate larger batch size#\n",
    "    fp16=False,  # Enable mixed precision training#\n",
    "    learning_rate=2e-5,  # Adjust learning rate#\n",
    "    logging_dir='./logs',\n",
    "    logging_steps=100,\n",
    "    evaluation_strategy=\"epoch\",\n",
    "    save_steps=200,\n",
    "    save_total_limit=2,\n",
    "    load_best_model_at_end=False,\n",
    "    weight_decay=0.01,  # Regularization\n",
    "    warmup_steps=500,  # Learning rate warmup\n",
    ")"
   ]
  },
  {
   "cell_type": "code",
   "execution_count": 22,
   "id": "5ae74032-cbd5-4432-a484-fd28b2d16d49",
   "metadata": {},
   "outputs": [],
   "source": [
    "data_collator = DataCollatorForSeq2Seq(tokenizer, model=model)"
   ]
  },
  {
   "cell_type": "code",
   "execution_count": 23,
   "id": "074c65ce-3c58-45c3-9559-2245a9faa11a",
   "metadata": {
    "scrolled": true
   },
   "outputs": [
    {
     "data": {
      "text/html": [
       "\n",
       "    <div>\n",
       "      \n",
       "      <progress value='8' max='2460' style='width:300px; height:20px; vertical-align: middle;'></progress>\n",
       "      [   8/2460 00:36 < 4:05:54, 0.17 it/s, Epoch 0.01/2]\n",
       "    </div>\n",
       "    <table border=\"1\" class=\"dataframe\">\n",
       "  <thead>\n",
       " <tr style=\"text-align: left;\">\n",
       "      <th>Epoch</th>\n",
       "      <th>Training Loss</th>\n",
       "      <th>Validation Loss</th>\n",
       "    </tr>\n",
       "  </thead>\n",
       "  <tbody>\n",
       "  </tbody>\n",
       "</table><p>"
      ],
      "text/plain": [
       "<IPython.core.display.HTML object>"
      ]
     },
     "metadata": {},
     "output_type": "display_data"
    },
    {
     "ename": "KeyboardInterrupt",
     "evalue": "",
     "output_type": "error",
     "traceback": [
      "\u001b[1;31m---------------------------------------------------------------------------\u001b[0m",
      "\u001b[1;31mKeyboardInterrupt\u001b[0m                         Traceback (most recent call last)",
      "Cell \u001b[1;32mIn[23], line 10\u001b[0m\n\u001b[0;32m      1\u001b[0m trainer \u001b[38;5;241m=\u001b[39m Trainer(\n\u001b[0;32m      2\u001b[0m     model\u001b[38;5;241m=\u001b[39mmodel,\n\u001b[0;32m      3\u001b[0m     args\u001b[38;5;241m=\u001b[39mtraining_args,\n\u001b[1;32m   (...)\u001b[0m\n\u001b[0;32m      6\u001b[0m     data_collator\u001b[38;5;241m=\u001b[39mdata_collator,\n\u001b[0;32m      7\u001b[0m )\n\u001b[0;32m      9\u001b[0m \u001b[38;5;66;03m# Train the model\u001b[39;00m\n\u001b[1;32m---> 10\u001b[0m \u001b[43mtrainer\u001b[49m\u001b[38;5;241;43m.\u001b[39;49m\u001b[43mtrain\u001b[49m\u001b[43m(\u001b[49m\u001b[43m)\u001b[49m\n",
      "File \u001b[1;32m~\\anaconda3\\envs\\tf\\lib\\site-packages\\transformers\\trainer.py:1885\u001b[0m, in \u001b[0;36mTrainer.train\u001b[1;34m(self, resume_from_checkpoint, trial, ignore_keys_for_eval, **kwargs)\u001b[0m\n\u001b[0;32m   1883\u001b[0m         hf_hub_utils\u001b[38;5;241m.\u001b[39menable_progress_bars()\n\u001b[0;32m   1884\u001b[0m \u001b[38;5;28;01melse\u001b[39;00m:\n\u001b[1;32m-> 1885\u001b[0m     \u001b[38;5;28;01mreturn\u001b[39;00m \u001b[43minner_training_loop\u001b[49m\u001b[43m(\u001b[49m\n\u001b[0;32m   1886\u001b[0m \u001b[43m        \u001b[49m\u001b[43margs\u001b[49m\u001b[38;5;241;43m=\u001b[39;49m\u001b[43margs\u001b[49m\u001b[43m,\u001b[49m\n\u001b[0;32m   1887\u001b[0m \u001b[43m        \u001b[49m\u001b[43mresume_from_checkpoint\u001b[49m\u001b[38;5;241;43m=\u001b[39;49m\u001b[43mresume_from_checkpoint\u001b[49m\u001b[43m,\u001b[49m\n\u001b[0;32m   1888\u001b[0m \u001b[43m        \u001b[49m\u001b[43mtrial\u001b[49m\u001b[38;5;241;43m=\u001b[39;49m\u001b[43mtrial\u001b[49m\u001b[43m,\u001b[49m\n\u001b[0;32m   1889\u001b[0m \u001b[43m        \u001b[49m\u001b[43mignore_keys_for_eval\u001b[49m\u001b[38;5;241;43m=\u001b[39;49m\u001b[43mignore_keys_for_eval\u001b[49m\u001b[43m,\u001b[49m\n\u001b[0;32m   1890\u001b[0m \u001b[43m    \u001b[49m\u001b[43m)\u001b[49m\n",
      "File \u001b[1;32m~\\anaconda3\\envs\\tf\\lib\\site-packages\\transformers\\trainer.py:2216\u001b[0m, in \u001b[0;36mTrainer._inner_training_loop\u001b[1;34m(self, batch_size, args, resume_from_checkpoint, trial, ignore_keys_for_eval)\u001b[0m\n\u001b[0;32m   2213\u001b[0m     \u001b[38;5;28mself\u001b[39m\u001b[38;5;241m.\u001b[39mcontrol \u001b[38;5;241m=\u001b[39m \u001b[38;5;28mself\u001b[39m\u001b[38;5;241m.\u001b[39mcallback_handler\u001b[38;5;241m.\u001b[39mon_step_begin(args, \u001b[38;5;28mself\u001b[39m\u001b[38;5;241m.\u001b[39mstate, \u001b[38;5;28mself\u001b[39m\u001b[38;5;241m.\u001b[39mcontrol)\n\u001b[0;32m   2215\u001b[0m \u001b[38;5;28;01mwith\u001b[39;00m \u001b[38;5;28mself\u001b[39m\u001b[38;5;241m.\u001b[39maccelerator\u001b[38;5;241m.\u001b[39maccumulate(model):\n\u001b[1;32m-> 2216\u001b[0m     tr_loss_step \u001b[38;5;241m=\u001b[39m \u001b[38;5;28;43mself\u001b[39;49m\u001b[38;5;241;43m.\u001b[39;49m\u001b[43mtraining_step\u001b[49m\u001b[43m(\u001b[49m\u001b[43mmodel\u001b[49m\u001b[43m,\u001b[49m\u001b[43m \u001b[49m\u001b[43minputs\u001b[49m\u001b[43m)\u001b[49m\n\u001b[0;32m   2218\u001b[0m \u001b[38;5;28;01mif\u001b[39;00m (\n\u001b[0;32m   2219\u001b[0m     args\u001b[38;5;241m.\u001b[39mlogging_nan_inf_filter\n\u001b[0;32m   2220\u001b[0m     \u001b[38;5;129;01mand\u001b[39;00m \u001b[38;5;129;01mnot\u001b[39;00m is_torch_xla_available()\n\u001b[0;32m   2221\u001b[0m     \u001b[38;5;129;01mand\u001b[39;00m (torch\u001b[38;5;241m.\u001b[39misnan(tr_loss_step) \u001b[38;5;129;01mor\u001b[39;00m torch\u001b[38;5;241m.\u001b[39misinf(tr_loss_step))\n\u001b[0;32m   2222\u001b[0m ):\n\u001b[0;32m   2223\u001b[0m     \u001b[38;5;66;03m# if loss is nan or inf simply add the average of previous logged losses\u001b[39;00m\n\u001b[0;32m   2224\u001b[0m     tr_loss \u001b[38;5;241m+\u001b[39m\u001b[38;5;241m=\u001b[39m tr_loss \u001b[38;5;241m/\u001b[39m (\u001b[38;5;241m1\u001b[39m \u001b[38;5;241m+\u001b[39m \u001b[38;5;28mself\u001b[39m\u001b[38;5;241m.\u001b[39mstate\u001b[38;5;241m.\u001b[39mglobal_step \u001b[38;5;241m-\u001b[39m \u001b[38;5;28mself\u001b[39m\u001b[38;5;241m.\u001b[39m_globalstep_last_logged)\n",
      "File \u001b[1;32m~\\anaconda3\\envs\\tf\\lib\\site-packages\\transformers\\trainer.py:3250\u001b[0m, in \u001b[0;36mTrainer.training_step\u001b[1;34m(***failed resolving arguments***)\u001b[0m\n\u001b[0;32m   3248\u001b[0m         scaled_loss\u001b[38;5;241m.\u001b[39mbackward()\n\u001b[0;32m   3249\u001b[0m \u001b[38;5;28;01melse\u001b[39;00m:\n\u001b[1;32m-> 3250\u001b[0m     \u001b[38;5;28;43mself\u001b[39;49m\u001b[38;5;241;43m.\u001b[39;49m\u001b[43maccelerator\u001b[49m\u001b[38;5;241;43m.\u001b[39;49m\u001b[43mbackward\u001b[49m\u001b[43m(\u001b[49m\u001b[43mloss\u001b[49m\u001b[43m)\u001b[49m\n\u001b[0;32m   3252\u001b[0m \u001b[38;5;28;01mreturn\u001b[39;00m loss\u001b[38;5;241m.\u001b[39mdetach() \u001b[38;5;241m/\u001b[39m \u001b[38;5;28mself\u001b[39m\u001b[38;5;241m.\u001b[39margs\u001b[38;5;241m.\u001b[39mgradient_accumulation_steps\n",
      "File \u001b[1;32m~\\anaconda3\\envs\\tf\\lib\\site-packages\\accelerate\\accelerator.py:2134\u001b[0m, in \u001b[0;36mAccelerator.backward\u001b[1;34m(self, loss, **kwargs)\u001b[0m\n\u001b[0;32m   2132\u001b[0m     \u001b[38;5;28mself\u001b[39m\u001b[38;5;241m.\u001b[39mlomo_backward(loss, learning_rate)\n\u001b[0;32m   2133\u001b[0m \u001b[38;5;28;01melse\u001b[39;00m:\n\u001b[1;32m-> 2134\u001b[0m     loss\u001b[38;5;241m.\u001b[39mbackward(\u001b[38;5;241m*\u001b[39m\u001b[38;5;241m*\u001b[39mkwargs)\n",
      "File \u001b[1;32m~\\anaconda3\\envs\\tf\\lib\\site-packages\\torch\\_tensor.py:525\u001b[0m, in \u001b[0;36mTensor.backward\u001b[1;34m(self, gradient, retain_graph, create_graph, inputs)\u001b[0m\n\u001b[0;32m    515\u001b[0m \u001b[38;5;28;01mif\u001b[39;00m has_torch_function_unary(\u001b[38;5;28mself\u001b[39m):\n\u001b[0;32m    516\u001b[0m     \u001b[38;5;28;01mreturn\u001b[39;00m handle_torch_function(\n\u001b[0;32m    517\u001b[0m         Tensor\u001b[38;5;241m.\u001b[39mbackward,\n\u001b[0;32m    518\u001b[0m         (\u001b[38;5;28mself\u001b[39m,),\n\u001b[1;32m   (...)\u001b[0m\n\u001b[0;32m    523\u001b[0m         inputs\u001b[38;5;241m=\u001b[39minputs,\n\u001b[0;32m    524\u001b[0m     )\n\u001b[1;32m--> 525\u001b[0m \u001b[43mtorch\u001b[49m\u001b[38;5;241;43m.\u001b[39;49m\u001b[43mautograd\u001b[49m\u001b[38;5;241;43m.\u001b[39;49m\u001b[43mbackward\u001b[49m\u001b[43m(\u001b[49m\n\u001b[0;32m    526\u001b[0m \u001b[43m    \u001b[49m\u001b[38;5;28;43mself\u001b[39;49m\u001b[43m,\u001b[49m\u001b[43m \u001b[49m\u001b[43mgradient\u001b[49m\u001b[43m,\u001b[49m\u001b[43m \u001b[49m\u001b[43mretain_graph\u001b[49m\u001b[43m,\u001b[49m\u001b[43m \u001b[49m\u001b[43mcreate_graph\u001b[49m\u001b[43m,\u001b[49m\u001b[43m \u001b[49m\u001b[43minputs\u001b[49m\u001b[38;5;241;43m=\u001b[39;49m\u001b[43minputs\u001b[49m\n\u001b[0;32m    527\u001b[0m \u001b[43m\u001b[49m\u001b[43m)\u001b[49m\n",
      "File \u001b[1;32m~\\anaconda3\\envs\\tf\\lib\\site-packages\\torch\\autograd\\__init__.py:267\u001b[0m, in \u001b[0;36mbackward\u001b[1;34m(tensors, grad_tensors, retain_graph, create_graph, grad_variables, inputs)\u001b[0m\n\u001b[0;32m    262\u001b[0m     retain_graph \u001b[38;5;241m=\u001b[39m create_graph\n\u001b[0;32m    264\u001b[0m \u001b[38;5;66;03m# The reason we repeat the same comment below is that\u001b[39;00m\n\u001b[0;32m    265\u001b[0m \u001b[38;5;66;03m# some Python versions print out the first line of a multi-line function\u001b[39;00m\n\u001b[0;32m    266\u001b[0m \u001b[38;5;66;03m# calls in the traceback and some print out the last line\u001b[39;00m\n\u001b[1;32m--> 267\u001b[0m \u001b[43m_engine_run_backward\u001b[49m\u001b[43m(\u001b[49m\n\u001b[0;32m    268\u001b[0m \u001b[43m    \u001b[49m\u001b[43mtensors\u001b[49m\u001b[43m,\u001b[49m\n\u001b[0;32m    269\u001b[0m \u001b[43m    \u001b[49m\u001b[43mgrad_tensors_\u001b[49m\u001b[43m,\u001b[49m\n\u001b[0;32m    270\u001b[0m \u001b[43m    \u001b[49m\u001b[43mretain_graph\u001b[49m\u001b[43m,\u001b[49m\n\u001b[0;32m    271\u001b[0m \u001b[43m    \u001b[49m\u001b[43mcreate_graph\u001b[49m\u001b[43m,\u001b[49m\n\u001b[0;32m    272\u001b[0m \u001b[43m    \u001b[49m\u001b[43minputs\u001b[49m\u001b[43m,\u001b[49m\n\u001b[0;32m    273\u001b[0m \u001b[43m    \u001b[49m\u001b[43mallow_unreachable\u001b[49m\u001b[38;5;241;43m=\u001b[39;49m\u001b[38;5;28;43;01mTrue\u001b[39;49;00m\u001b[43m,\u001b[49m\n\u001b[0;32m    274\u001b[0m \u001b[43m    \u001b[49m\u001b[43maccumulate_grad\u001b[49m\u001b[38;5;241;43m=\u001b[39;49m\u001b[38;5;28;43;01mTrue\u001b[39;49;00m\u001b[43m,\u001b[49m\n\u001b[0;32m    275\u001b[0m \u001b[43m\u001b[49m\u001b[43m)\u001b[49m\n",
      "File \u001b[1;32m~\\anaconda3\\envs\\tf\\lib\\site-packages\\torch\\autograd\\graph.py:744\u001b[0m, in \u001b[0;36m_engine_run_backward\u001b[1;34m(t_outputs, *args, **kwargs)\u001b[0m\n\u001b[0;32m    742\u001b[0m     unregister_hooks \u001b[38;5;241m=\u001b[39m _register_logging_hooks_on_whole_graph(t_outputs)\n\u001b[0;32m    743\u001b[0m \u001b[38;5;28;01mtry\u001b[39;00m:\n\u001b[1;32m--> 744\u001b[0m     \u001b[38;5;28;01mreturn\u001b[39;00m Variable\u001b[38;5;241m.\u001b[39m_execution_engine\u001b[38;5;241m.\u001b[39mrun_backward(  \u001b[38;5;66;03m# Calls into the C++ engine to run the backward pass\u001b[39;00m\n\u001b[0;32m    745\u001b[0m         t_outputs, \u001b[38;5;241m*\u001b[39margs, \u001b[38;5;241m*\u001b[39m\u001b[38;5;241m*\u001b[39mkwargs\n\u001b[0;32m    746\u001b[0m     )  \u001b[38;5;66;03m# Calls into the C++ engine to run the backward pass\u001b[39;00m\n\u001b[0;32m    747\u001b[0m \u001b[38;5;28;01mfinally\u001b[39;00m:\n\u001b[0;32m    748\u001b[0m     \u001b[38;5;28;01mif\u001b[39;00m attach_logging_hooks:\n",
      "\u001b[1;31mKeyboardInterrupt\u001b[0m: "
     ]
    }
   ],
   "source": [
    "trainer = Trainer(\n",
    "    model=model,\n",
    "    args=training_args,\n",
    "    train_dataset=train_dataset,\n",
    "    eval_dataset = valdiation_dataset,\n",
    "    data_collator=data_collator,\n",
    ")\n",
    "\n",
    "# Train the model\n",
    "trainer.train()"
   ]
  },
  {
   "cell_type": "code",
   "execution_count": 7,
   "id": "d17bc2f7-a7fb-4d5a-ad61-f91d870d23eb",
   "metadata": {},
   "outputs": [
    {
     "name": "stderr",
     "output_type": "stream",
     "text": [
      "Some non-default generation parameters are set in the model config. These should go into a GenerationConfig file (https://huggingface.co/docs/transformers/generation_strategies#save-a-custom-decoding-strategy-with-your-model) instead. This warning will be raised to an exception in v4.41.\n",
      "Non-default generation parameters: {'early_stopping': True, 'num_beams': 4, 'no_repeat_ngram_size': 3, 'forced_bos_token_id': 0, 'forced_eos_token_id': 2}\n"
     ]
    },
    {
     "ename": "NameError",
     "evalue": "name 'trainer' is not defined",
     "output_type": "error",
     "traceback": [
      "\u001b[1;31m---------------------------------------------------------------------------\u001b[0m",
      "\u001b[1;31mNameError\u001b[0m                                 Traceback (most recent call last)",
      "Cell \u001b[1;32mIn[7], line 3\u001b[0m\n\u001b[0;32m      1\u001b[0m model\u001b[38;5;241m.\u001b[39msave_pretrained(\u001b[38;5;124m'\u001b[39m\u001b[38;5;124m./Saved_Models/TitleExtraction/fine-tuned-bert-sentiment_\u001b[39m\u001b[38;5;132;01m{}\u001b[39;00m\u001b[38;5;124m'\u001b[39m\u001b[38;5;241m.\u001b[39mformat(\u001b[38;5;124m\"\u001b[39m\u001b[38;5;124m30-06-2024_\u001b[39m\u001b[38;5;124m\"\u001b[39m))\n\u001b[0;32m      2\u001b[0m tokenizer\u001b[38;5;241m.\u001b[39msave_pretrained(\u001b[38;5;124m'\u001b[39m\u001b[38;5;124m./Saved_Models/TitleExtraction/fine-tuned-bert-sentiment_\u001b[39m\u001b[38;5;132;01m{}\u001b[39;00m\u001b[38;5;124m'\u001b[39m\u001b[38;5;241m.\u001b[39mformat(\u001b[38;5;124m\"\u001b[39m\u001b[38;5;124m30-06-2024_\u001b[39m\u001b[38;5;124m\"\u001b[39m))\n\u001b[1;32m----> 3\u001b[0m \u001b[43mtrainer\u001b[49m\u001b[38;5;241m.\u001b[39msave_state()\n",
      "\u001b[1;31mNameError\u001b[0m: name 'trainer' is not defined"
     ]
    }
   ],
   "source": [
    "model.save_pretrained('./Saved_Models/TitleExtraction/fine-tuned-bert-sentiment_{}'.format(\"30-06-2024_\"))\n",
    "tokenizer.save_pretrained('./Saved_Models/TitleExtraction/fine-tuned-bert-sentiment_{}'.format(\"30-06-2024_\"))\n",
    "trainer.save_state()"
   ]
  },
  {
   "cell_type": "code",
   "execution_count": null,
   "id": "ea3f8f16-5653-4f42-9fcc-0f1359c5efb5",
   "metadata": {},
   "outputs": [],
   "source": []
  },
  {
   "cell_type": "markdown",
   "id": "bebeaef8-9428-445f-8aac-1beaba14d100",
   "metadata": {},
   "source": [
    "## Testing the model"
   ]
  },
  {
   "cell_type": "code",
   "execution_count": 6,
   "id": "6febc46d-7e70-45d4-bc03-3e00ea67587e",
   "metadata": {},
   "outputs": [],
   "source": [
    "X_test = list(X_test)\n",
    "y_test = list(y_test)"
   ]
  },
  {
   "cell_type": "code",
   "execution_count": null,
   "id": "91e05ab7-42d5-4309-ad5b-2dbb1b234422",
   "metadata": {},
   "outputs": [],
   "source": []
  },
  {
   "cell_type": "code",
   "execution_count": 7,
   "id": "126bf538-35ec-4e43-82a1-14940c806c30",
   "metadata": {},
   "outputs": [
    {
     "name": "stdout",
     "output_type": "stream",
     "text": [
      "Johnson Helps D - Backs End Nine - Game Slide NEW YORK (AP) -- Randy Johnson took a four-hitter into the ninth inning to help the Arizona Diamondbacks end a nine-game losing streak Sunday, beating Steve Trachsel and the New York Mets 2-0.\n",
      "OG: Randy Johnson, Arizona Diamondbacks, winning streak\n",
      "Answer: Randy Johnson, Arizona Diamondbacks, winning streak\n",
      "\n",
      "Indian allies haggle after poll Haggling between election allies delays the formation of a new government in the Indian state of Maharashtra.\n",
      "OG: Indian allies, haggling, government formation\n",
      "Answer: Indian allies, haggle, Maharashtra government formation\n",
      "\n",
      "Saving grace Matt Reis has never easily accepted the apprentice goalkeeper's role. Reis has been battling the label of backup, though that has been his position for most of his collegiate and professional career. But Reis's profile could be changing after he saved two penalty kicks as the Revolution eliminated the Columbus Crew from the MLS playoffs last Sunday. Reis ...\n",
      "OG: goalkeeper, penalty kicks, MLS playoffs\n",
      "Answer: Matt Reis, MLS playoffs, penalty kicks\n",
      "\n",
      "Court Deals Blow to Movie Studios (Reuters) Reuters - A federal appeals court on Thursday\\delivered a stinging blow to the anti-piracy efforts of major\\movie studios and music companies by ruling several Internet\\file-sharing software companies are not liable for copyright\\infringement.\n",
      "OG: copyright infringement, file-sharing software, movie studios\n",
      "Answer: copyright infringement, movie studios, legal ruling\n",
      "\n",
      "Just how super are the Sonics? They sport the best record in the NBA and have beaten several top-tier teams (like Minnesota, Sacramento, San Antonio and Denver).\n",
      "OG: Seattle Sonics, NBA record, top-tier teams\n",
      "Answer: Sonics, NBA record, top-tier teams\n",
      "\n",
      "Two Issues Could Hinder Deal to Freeze Iran's Nuclear Program A European deal to freeze Iran's nuclear program, provide the Islamic republic with lucrative trade incentives and keep it out of the U.N. Security Council could be signed by midweek if two critical issues can be quickly resolved, U.S., European and Iranian officials said in interviews Sunday.\n",
      "OG: Iran's nuclear program, trade incentives, U.N. Security Council\n",
      "Answer: Iran's nuclear program, European deal, trade incentives\n",
      "\n",
      "Israel Arrests 13 UN Employees - Army Israel has arrested 13 UN employees and plans to indict them for  quot;suspected links to terrorism, quot; an Israeli army officer said Tuesday.\n",
      "OG: Israel, UN employees, terrorism\n",
      "Answer: Israel, UN employees, terrorism\n",
      "\n",
      "Pakistan turns up heat on al Qaeda Pakistani forces have been battling al Qaeda fighters in an ongoing operation to rout terrorists in a tribal area near the border with Afghanistan, Pakistani intelligence sources said.\n",
      "OG: Pakistan, al Qaeda, counterterrorism operation\n",
      "Answer: Pakistan, al Qaeda, battle\n",
      "\n",
      "Mastering File Operations in Java: A Comprehensive Guide - File operations are essential in many Java applications, from reading configuration files to processing user uploads. In this in-depth…\n",
      "OG: File Operations, Java\n",
      "Answer: File Operations, Java\n",
      "\n",
      "Intent and consent management: critical paths to realigning user-centric data-driven design - User-centric design hinges on two truths: honoring intent and managing consent.\n",
      "OG: Intent, Consent Management, User-Centric Design, User-Centric, Data-Driven, Data-Driven Design\n",
      "Answer: Intent, Consent Management, User-Centric Design, Data-Driven Design\n",
      "\n"
     ]
    }
   ],
   "source": [
    "for i in range(0,len(X_test[:10])):\n",
    "    print(X_test[i])\n",
    "    input_text = X_test[i]\n",
    "    input_ids = tokenizer.encode(input_text, return_tensors='pt').to(device)\n",
    "    output = model.generate(\n",
    "        input_ids, \n",
    "        max_length=128, \n",
    "        num_beams=5,\n",
    "        early_stopping=True, \n",
    "        no_repeat_ngram_size=2,  # Prevent repeating n-grams\n",
    "        num_return_sequences=1,  # Number of sequences to return\n",
    "        temperature=0.7,  # Sampling temperature\n",
    "        top_k=50,  # Top-K sampling\n",
    "        top_p=0.9  # Top-p (nucleus) sampling\n",
    "    )\n",
    "    response = tokenizer.decode(output[0], skip_special_tokens=True)\n",
    "\n",
    "    print(\"OG:\",y_test[i])\n",
    "    print(\"Answer:\", response)\n",
    "    print()"
   ]
  },
  {
   "cell_type": "code",
   "execution_count": null,
   "id": "70ca7534-5967-4835-9603-ffa3e5d0bc96",
   "metadata": {},
   "outputs": [],
   "source": []
  },
  {
   "cell_type": "markdown",
   "id": "35c23ff0-6727-432b-a43c-5c0540d6d6bb",
   "metadata": {
    "jp-MarkdownHeadingCollapsed": true
   },
   "source": [
    "# Domain"
   ]
  },
  {
   "cell_type": "markdown",
   "id": "0dac028c-5e5e-4a14-80f5-5d93a1faf147",
   "metadata": {},
   "source": [
    "## Dataset"
   ]
  },
  {
   "cell_type": "code",
   "execution_count": 51,
   "id": "c7f9172f-8c4c-488f-8ce2-792281b46a29",
   "metadata": {},
   "outputs": [],
   "source": [
    "ds_1 = load_dataset(\"community-datasets/yahoo_answers_topics\")"
   ]
  },
  {
   "cell_type": "code",
   "execution_count": 52,
   "id": "ba808b9f-4582-4203-8e31-ccaf72dd2cb0",
   "metadata": {},
   "outputs": [],
   "source": [
    "domain_train = ds_1[\"train\"][\"topic\"]\n",
    "question_train = ds_1[\"train\"][\"question_title\"]\n",
    "content_train = ds_1[\"train\"][\"question_content\"]\n",
    "domain_train.extend(ds_1[\"test\"][\"topic\"])\n",
    "question_train.extend(ds_1[\"test\"][\"question_title\"])\n",
    "content_train.extend(ds_1[\"test\"][\"question_content\"])"
   ]
  },
  {
   "cell_type": "code",
   "execution_count": null,
   "id": "b25c218e-e8ce-4025-b72b-f847a7bc76e6",
   "metadata": {},
   "outputs": [],
   "source": []
  },
  {
   "cell_type": "code",
   "execution_count": 53,
   "id": "98eb2b40-40a9-4f2e-82b0-9f3fbf3dcaad",
   "metadata": {},
   "outputs": [],
   "source": [
    "df_1 = pd.DataFrame()\n",
    "df_1[\"Domain\"] = domain_train\n",
    "df_1[\"question\"] = question_train\n",
    "df_1[\"content\"] = content_train\n",
    "df_1[\"text\"] = df_1[\"question\"] + df_1[\"content\"]"
   ]
  },
  {
   "cell_type": "code",
   "execution_count": 63,
   "id": "6a872994-4e75-4aa7-854c-a46696eae28a",
   "metadata": {},
   "outputs": [
    {
     "data": {
      "text/plain": [
       "\"if you could be any fantasy figure, who would U B & why.don't B shy,let your imagination run wild.?\""
      ]
     },
     "execution_count": 63,
     "metadata": {},
     "output_type": "execute_result"
    }
   ],
   "source": [
    "df_1[\"question\"].tail().iloc[0]"
   ]
  },
  {
   "cell_type": "code",
   "execution_count": 58,
   "id": "b7e55f65-e4b1-4812-afdb-bf8509edbb87",
   "metadata": {},
   "outputs": [],
   "source": [
    "df_1.to_csv(\"../Data/CleanedDatasets/domain.csv\")"
   ]
  },
  {
   "cell_type": "code",
   "execution_count": 60,
   "id": "368f1a02-14e0-482b-ba1a-38a0de18db4f",
   "metadata": {},
   "outputs": [
    {
     "data": {
      "text/plain": [
       "array([4, 5, 2, 6, 1, 7, 3, 8, 9, 0], dtype=int64)"
      ]
     },
     "execution_count": 60,
     "metadata": {},
     "output_type": "execute_result"
    }
   ],
   "source": [
    "df_1[\"Domain\"].unique()"
   ]
  },
  {
   "cell_type": "markdown",
   "id": "ff8c1264-9695-4987-b815-90dad835be41",
   "metadata": {},
   "source": [
    "# Prediction"
   ]
  },
  {
   "cell_type": "code",
   "execution_count": 1,
   "id": "7a127a7d-c025-46f2-8d21-52dfde40fadd",
   "metadata": {},
   "outputs": [
    {
     "name": "stderr",
     "output_type": "stream",
     "text": [
      "C:\\Users\\Akshay\\anaconda3\\envs\\tf\\lib\\site-packages\\tqdm\\auto.py:21: TqdmWarning: IProgress not found. Please update jupyter and ipywidgets. See https://ipywidgets.readthedocs.io/en/stable/user_install.html\n",
      "  from .autonotebook import tqdm as notebook_tqdm\n"
     ]
    }
   ],
   "source": [
    "from datasets import load_dataset\n",
    "import warnings\n",
    "import pandas as pd\n",
    "import numpy as np\n",
    "import matplotlib.pyplot as plt\n",
    "from transformers import BartForConditionalGeneration, BartTokenizer, Trainer, TrainingArguments, DataCollatorForSeq2Seq\n",
    "from sklearn.model_selection import train_test_split\n",
    "warnings.filterwarnings(\"ignore\")"
   ]
  },
  {
   "cell_type": "code",
   "execution_count": 2,
   "id": "4a4f0935-1a56-4f61-a3ad-05a0f16a2f46",
   "metadata": {},
   "outputs": [
    {
     "name": "stdout",
     "output_type": "stream",
     "text": [
      "CUDA available: True\n",
      "CUDA version: 12.1\n",
      "Device count: 1\n",
      "Current device: 0\n",
      "Device name: NVIDIA GeForce RTX 4090\n",
      "cuda\n"
     ]
    }
   ],
   "source": [
    "import torch\n",
    "torch.cuda.empty_cache()\n",
    "print(\"CUDA available:\", torch.cuda.is_available())\n",
    "print(\"CUDA version:\", torch.version.cuda)\n",
    "print(\"Device count:\", torch.cuda.device_count())\n",
    "print(\"Current device:\", torch.cuda.current_device())\n",
    "print(\"Device name:\", torch.cuda.get_device_name(torch.cuda.current_device()))\n",
    "device = torch.device('cuda' if torch.cuda.is_available() else 'cpu')\n",
    "print(device)"
   ]
  },
  {
   "cell_type": "code",
   "execution_count": 3,
   "id": "6f05e61d-8911-4332-9ca8-dcae24bfaa47",
   "metadata": {},
   "outputs": [],
   "source": [
    "df = pd.read_csv(\"../Data/CleanedDatasets/conversationalDatasetWithKeywords.csv\")"
   ]
  },
  {
   "cell_type": "code",
   "execution_count": 4,
   "id": "00e4fb5c-15c1-4ed7-8d81-893db316672d",
   "metadata": {},
   "outputs": [],
   "source": [
    "df = df.loc[:, ~df.columns.str.contains('^Unnamed')]"
   ]
  },
  {
   "cell_type": "markdown",
   "id": "75459c59-cc5e-4332-b4a7-9d3e0fa42d6e",
   "metadata": {
    "jp-MarkdownHeadingCollapsed": true
   },
   "source": [
    "### Keywords"
   ]
  },
  {
   "cell_type": "code",
   "execution_count": 5,
   "id": "a78ef635-4d30-4288-97db-b1552145129b",
   "metadata": {},
   "outputs": [],
   "source": [
    "model_name = '../Saved_Models/Summary/fine-tuned-bert-sentiment_2024_07_03_2/'\n",
    "tokenizer = BartTokenizer.from_pretrained(model_name)\n",
    "model = BartForConditionalGeneration.from_pretrained(model_name)\n",
    "model = model.to(device)\n",
    "data_collator = DataCollatorForSeq2Seq(tokenizer, model=model)"
   ]
  },
  {
   "cell_type": "code",
   "execution_count": 6,
   "id": "15322f5a-b49d-43e6-ad94-1aac0f337247",
   "metadata": {},
   "outputs": [
    {
     "data": {
      "text/html": [
       "<div>\n",
       "<style scoped>\n",
       "    .dataframe tbody tr th:only-of-type {\n",
       "        vertical-align: middle;\n",
       "    }\n",
       "\n",
       "    .dataframe tbody tr th {\n",
       "        vertical-align: top;\n",
       "    }\n",
       "\n",
       "    .dataframe thead th {\n",
       "        text-align: right;\n",
       "    }\n",
       "</style>\n",
       "<table border=\"1\" class=\"dataframe\">\n",
       "  <thead>\n",
       "    <tr style=\"text-align: right;\">\n",
       "      <th></th>\n",
       "      <th>agent_1</th>\n",
       "      <th>agent_2</th>\n",
       "      <th>emotion</th>\n",
       "      <th>Keywords</th>\n",
       "    </tr>\n",
       "  </thead>\n",
       "  <tbody>\n",
       "    <tr>\n",
       "      <th>0</th>\n",
       "      <td>agent_1:Hello Sky, What is the best way to sav...</td>\n",
       "      <td>The best way to save money on automobile repa...</td>\n",
       "      <td>6</td>\n",
       "      <td>automobile repair, cost-effective solution, on...</td>\n",
       "    </tr>\n",
       "    <tr>\n",
       "      <th>1</th>\n",
       "      <td>agent_1:Hello Sky, What is the best way to sav...</td>\n",
       "      <td>Regular maintenance requires professional pre...</td>\n",
       "      <td>6</td>\n",
       "      <td>automotive repair, maintenance, cost-effective...</td>\n",
       "    </tr>\n",
       "    <tr>\n",
       "      <th>2</th>\n",
       "      <td>agent_1:Hey Sky, Someone recommended Spin clas...</td>\n",
       "      <td>Spin class typically involves exercising on a...</td>\n",
       "      <td>6</td>\n",
       "      <td>Spin class, exercise, intensity</td>\n",
       "    </tr>\n",
       "    <tr>\n",
       "      <th>3</th>\n",
       "      <td>agent_1:Hey Sky, Someone recommended Spin clas...</td>\n",
       "      <td>Spin classes can help you build lower body st...</td>\n",
       "      <td>6</td>\n",
       "      <td>Spin class, exercise, benefits</td>\n",
       "    </tr>\n",
       "    <tr>\n",
       "      <th>4</th>\n",
       "      <td>agent_1:Hey Sky, Someone recommended Spin clas...</td>\n",
       "      <td>Yes, absolutely! Spins Classes can be a great...</td>\n",
       "      <td>6</td>\n",
       "      <td>Spin class, exercise, benefits</td>\n",
       "    </tr>\n",
       "  </tbody>\n",
       "</table>\n",
       "</div>"
      ],
      "text/plain": [
       "                                             agent_1  \\\n",
       "0  agent_1:Hello Sky, What is the best way to sav...   \n",
       "1  agent_1:Hello Sky, What is the best way to sav...   \n",
       "2  agent_1:Hey Sky, Someone recommended Spin clas...   \n",
       "3  agent_1:Hey Sky, Someone recommended Spin clas...   \n",
       "4  agent_1:Hey Sky, Someone recommended Spin clas...   \n",
       "\n",
       "                                             agent_2  emotion  \\\n",
       "0   The best way to save money on automobile repa...        6   \n",
       "1   Regular maintenance requires professional pre...        6   \n",
       "2   Spin class typically involves exercising on a...        6   \n",
       "3   Spin classes can help you build lower body st...        6   \n",
       "4   Yes, absolutely! Spins Classes can be a great...        6   \n",
       "\n",
       "                                            Keywords  \n",
       "0  automobile repair, cost-effective solution, on...  \n",
       "1  automotive repair, maintenance, cost-effective...  \n",
       "2                    Spin class, exercise, intensity  \n",
       "3                     Spin class, exercise, benefits  \n",
       "4                     Spin class, exercise, benefits  "
      ]
     },
     "execution_count": 6,
     "metadata": {},
     "output_type": "execute_result"
    }
   ],
   "source": [
    "df.head()"
   ]
  },
  {
   "cell_type": "code",
   "execution_count": 7,
   "id": "caa1bc8a-0b4e-4b94-8811-1d2574810bf8",
   "metadata": {},
   "outputs": [],
   "source": [
    "def predict_batch(input_text):\n",
    "    encodings = tokenizer.batch_encode_plus(\n",
    "        input_text,\n",
    "        return_tensors='pt',\n",
    "        padding=True,\n",
    "        truncation=True,\n",
    "        max_length=512\n",
    "    )\n",
    "    input_ids = encodings['input_ids'].to(device)\n",
    "    attention_mask = encodings['attention_mask'].to(device)\n",
    "    outputs = model.generate(\n",
    "        input_ids, \n",
    "        attention_mask=attention_mask,\n",
    "        max_length=64, \n",
    "        num_beams=5,\n",
    "        early_stopping=True, \n",
    "        no_repeat_ngram_size=2,\n",
    "        num_return_sequences=1,\n",
    "        temperature=0.7,\n",
    "        top_k=50,\n",
    "        top_p=0.9\n",
    "    )\n",
    "    responses = [tokenizer.decode(output, skip_special_tokens=True) for output in outputs]\n",
    "    return responses\n",
    "    # print(\"Answer:\", response)\n",
    "    # print()"
   ]
  },
  {
   "cell_type": "code",
   "execution_count": 8,
   "id": "196e4882-5e8d-4b69-a74a-e8f1cc22fc92",
   "metadata": {},
   "outputs": [],
   "source": [
    "agent_1List = list(df[\"agent_1\"])\n",
    "# agent_2List = list(df[\"agent_2\"])\n",
    "# combineList = list(df[\"agent_1\"] + \"agent_2:\" + df[\"agent_2\"])"
   ]
  },
  {
   "cell_type": "code",
   "execution_count": 1,
   "id": "bc9fcad9-061b-4e60-a51d-7bb9a94cb881",
   "metadata": {},
   "outputs": [],
   "source": [
    "from tqdm import tqdm\n",
    "predictions = []  # List to store predictions\n",
    "batch_size = 32\n",
    "# Adjust batch size as needed\n",
    "\n",
    "for i in tqdm(range(0, len(agent_1List), batch_size)):\n",
    "    # print(f'\\rProgress: {counter}/{int(len(agent_1List)/batch_size)}', end='', flush=True)\n",
    "    batch_texts = agent_1List[i:i+batch_size]\n",
    "    try:\n",
    "        batch_predictions = predict_batch(batch_texts)\n",
    "        predictions.extend(batch_predictions)\n",
    "    except Exception as e:\n",
    "        print(f\"An error occurred at batch {i//batch_size}: {e}\")"
   ]
  },
  {
   "cell_type": "code",
   "execution_count": null,
   "id": "a84d2014-f5d8-437a-b566-0cbbf2fdaca8",
   "metadata": {},
   "outputs": [],
   "source": []
  },
  {
   "cell_type": "code",
   "execution_count": 12,
   "id": "cb476cfd-2d33-4b40-8266-9e84939d2d52",
   "metadata": {},
   "outputs": [],
   "source": [
    "df[\"Keywords\"] = predictions\n",
    "df.to_csv(\"../Data/CleanedDatasets/conversationalDatasetWithKeywords.csv\")"
   ]
  },
  {
   "cell_type": "code",
   "execution_count": 14,
   "id": "3fb51153-fd5a-4776-8778-c2a322f42084",
   "metadata": {},
   "outputs": [],
   "source": [
    "mmm = pd.read_csv(\"../Data/CleanedDatasets/conversationalDatasetWithKeywords.csv\")"
   ]
  },
  {
   "cell_type": "code",
   "execution_count": 15,
   "id": "788af691-950e-4cb0-940c-189796e9f99b",
   "metadata": {},
   "outputs": [
    {
     "data": {
      "text/html": [
       "<div>\n",
       "<style scoped>\n",
       "    .dataframe tbody tr th:only-of-type {\n",
       "        vertical-align: middle;\n",
       "    }\n",
       "\n",
       "    .dataframe tbody tr th {\n",
       "        vertical-align: top;\n",
       "    }\n",
       "\n",
       "    .dataframe thead th {\n",
       "        text-align: right;\n",
       "    }\n",
       "</style>\n",
       "<table border=\"1\" class=\"dataframe\">\n",
       "  <thead>\n",
       "    <tr style=\"text-align: right;\">\n",
       "      <th></th>\n",
       "      <th>Unnamed: 0</th>\n",
       "      <th>agent_1</th>\n",
       "      <th>agent_2</th>\n",
       "      <th>emotion</th>\n",
       "      <th>Keywords</th>\n",
       "    </tr>\n",
       "  </thead>\n",
       "  <tbody>\n",
       "    <tr>\n",
       "      <th>0</th>\n",
       "      <td>0</td>\n",
       "      <td>agent_1:Hello Sky, What is the best way to sav...</td>\n",
       "      <td>The best way to save money on automobile repa...</td>\n",
       "      <td>6</td>\n",
       "      <td>automobile repair, cost-effective solution, on...</td>\n",
       "    </tr>\n",
       "    <tr>\n",
       "      <th>1</th>\n",
       "      <td>1</td>\n",
       "      <td>agent_1:Hello Sky, What is the best way to sav...</td>\n",
       "      <td>Regular maintenance requires professional pre...</td>\n",
       "      <td>6</td>\n",
       "      <td>automotive repair, maintenance, cost-effective...</td>\n",
       "    </tr>\n",
       "    <tr>\n",
       "      <th>2</th>\n",
       "      <td>2</td>\n",
       "      <td>agent_1:Hey Sky, Someone recommended Spin clas...</td>\n",
       "      <td>Spin class typically involves exercising on a...</td>\n",
       "      <td>6</td>\n",
       "      <td>Spin class, exercise, intensity</td>\n",
       "    </tr>\n",
       "    <tr>\n",
       "      <th>3</th>\n",
       "      <td>3</td>\n",
       "      <td>agent_1:Hey Sky, Someone recommended Spin clas...</td>\n",
       "      <td>Spin classes can help you build lower body st...</td>\n",
       "      <td>6</td>\n",
       "      <td>Spin class, exercise, benefits</td>\n",
       "    </tr>\n",
       "    <tr>\n",
       "      <th>4</th>\n",
       "      <td>4</td>\n",
       "      <td>agent_1:Hey Sky, Someone recommended Spin clas...</td>\n",
       "      <td>Yes, absolutely! Spins Classes can be a great...</td>\n",
       "      <td>6</td>\n",
       "      <td>Spin class, exercise, benefits</td>\n",
       "    </tr>\n",
       "  </tbody>\n",
       "</table>\n",
       "</div>"
      ],
      "text/plain": [
       "   Unnamed: 0                                            agent_1  \\\n",
       "0           0  agent_1:Hello Sky, What is the best way to sav...   \n",
       "1           1  agent_1:Hello Sky, What is the best way to sav...   \n",
       "2           2  agent_1:Hey Sky, Someone recommended Spin clas...   \n",
       "3           3  agent_1:Hey Sky, Someone recommended Spin clas...   \n",
       "4           4  agent_1:Hey Sky, Someone recommended Spin clas...   \n",
       "\n",
       "                                             agent_2  emotion  \\\n",
       "0   The best way to save money on automobile repa...        6   \n",
       "1   Regular maintenance requires professional pre...        6   \n",
       "2   Spin class typically involves exercising on a...        6   \n",
       "3   Spin classes can help you build lower body st...        6   \n",
       "4   Yes, absolutely! Spins Classes can be a great...        6   \n",
       "\n",
       "                                            Keywords  \n",
       "0  automobile repair, cost-effective solution, on...  \n",
       "1  automotive repair, maintenance, cost-effective...  \n",
       "2                    Spin class, exercise, intensity  \n",
       "3                     Spin class, exercise, benefits  \n",
       "4                     Spin class, exercise, benefits  "
      ]
     },
     "execution_count": 15,
     "metadata": {},
     "output_type": "execute_result"
    }
   ],
   "source": [
    "mmm.head()"
   ]
  },
  {
   "cell_type": "markdown",
   "id": "50f13f0d-b178-4ec2-aa10-203505c2af8f",
   "metadata": {},
   "source": [
    "### Domain"
   ]
  },
  {
   "cell_type": "code",
   "execution_count": 1,
   "id": "06c8ed03-f82f-4726-bb72-77f99d54869c",
   "metadata": {},
   "outputs": [
    {
     "name": "stderr",
     "output_type": "stream",
     "text": [
      "C:\\Users\\Akshay\\anaconda3\\envs\\tf\\lib\\site-packages\\tqdm\\auto.py:21: TqdmWarning: IProgress not found. Please update jupyter and ipywidgets. See https://ipywidgets.readthedocs.io/en/stable/user_install.html\n",
      "  from .autonotebook import tqdm as notebook_tqdm\n"
     ]
    }
   ],
   "source": [
    "import pandas as pd\n",
    "from sklearn.model_selection import train_test_split\n",
    "from transformers import BertTokenizer, BertForSequenceClassification\n",
    "import torch\n",
    "import numpy as np\n",
    "from torch.utils.data import Dataset, DataLoader"
   ]
  },
  {
   "cell_type": "code",
   "execution_count": 2,
   "id": "fdc731f8-d2f7-4905-82e8-27d5ef2a8bee",
   "metadata": {},
   "outputs": [],
   "source": [
    "path = \"../Data/CleanedDatasets/Greetings.csv\"\n",
    "dataset = pd.read_csv(path)\n",
    "# dataset = load_dataset(\"Ateeqq/news-title-generator\")\n",
    "# X_train, X_test, y_train, y_test = train_test_split(dataset[\"text\"],dataset[\"Domain\"], test_size=0.2, random_state=42)\n",
    "# X_test, X_valid, y_test, y_valid = train_test_split(X_test,y_test, test_size=0.5, random_state=42)"
   ]
  },
  {
   "cell_type": "code",
   "execution_count": 3,
   "id": "79b49eee-eab8-46da-ab48-f8c52582bb6f",
   "metadata": {},
   "outputs": [
    {
     "data": {
      "text/html": [
       "<div>\n",
       "<style scoped>\n",
       "    .dataframe tbody tr th:only-of-type {\n",
       "        vertical-align: middle;\n",
       "    }\n",
       "\n",
       "    .dataframe tbody tr th {\n",
       "        vertical-align: top;\n",
       "    }\n",
       "\n",
       "    .dataframe thead th {\n",
       "        text-align: right;\n",
       "    }\n",
       "</style>\n",
       "<table border=\"1\" class=\"dataframe\">\n",
       "  <thead>\n",
       "    <tr style=\"text-align: right;\">\n",
       "      <th></th>\n",
       "      <th>Unnamed: 0.2</th>\n",
       "      <th>Unnamed: 0.1</th>\n",
       "      <th>Unnamed: 0</th>\n",
       "      <th>agent_1</th>\n",
       "      <th>agent_2</th>\n",
       "      <th>emotion</th>\n",
       "    </tr>\n",
       "  </thead>\n",
       "  <tbody>\n",
       "    <tr>\n",
       "      <th>0</th>\n",
       "      <td>0</td>\n",
       "      <td>0</td>\n",
       "      <td>0</td>\n",
       "      <td>Hi</td>\n",
       "      <td>Hello there. Tell me how are you feeling today?</td>\n",
       "      <td>6</td>\n",
       "    </tr>\n",
       "    <tr>\n",
       "      <th>1</th>\n",
       "      <td>1</td>\n",
       "      <td>1</td>\n",
       "      <td>1</td>\n",
       "      <td>Hi</td>\n",
       "      <td>Hi there. What brings you here today?</td>\n",
       "      <td>6</td>\n",
       "    </tr>\n",
       "    <tr>\n",
       "      <th>2</th>\n",
       "      <td>2</td>\n",
       "      <td>2</td>\n",
       "      <td>2</td>\n",
       "      <td>Hi</td>\n",
       "      <td>Hi there. How are you feeling today?</td>\n",
       "      <td>6</td>\n",
       "    </tr>\n",
       "    <tr>\n",
       "      <th>3</th>\n",
       "      <td>3</td>\n",
       "      <td>3</td>\n",
       "      <td>3</td>\n",
       "      <td>Hi</td>\n",
       "      <td>Great to see you. How do you feel currently?</td>\n",
       "      <td>6</td>\n",
       "    </tr>\n",
       "    <tr>\n",
       "      <th>4</th>\n",
       "      <td>4</td>\n",
       "      <td>4</td>\n",
       "      <td>4</td>\n",
       "      <td>Hi</td>\n",
       "      <td>Hello there. Glad to see you're back. What's g...</td>\n",
       "      <td>6</td>\n",
       "    </tr>\n",
       "  </tbody>\n",
       "</table>\n",
       "</div>"
      ],
      "text/plain": [
       "   Unnamed: 0.2  Unnamed: 0.1  Unnamed: 0 agent_1  \\\n",
       "0             0             0           0      Hi   \n",
       "1             1             1           1      Hi   \n",
       "2             2             2           2      Hi   \n",
       "3             3             3           3      Hi   \n",
       "4             4             4           4      Hi   \n",
       "\n",
       "                                             agent_2  emotion  \n",
       "0    Hello there. Tell me how are you feeling today?        6  \n",
       "1              Hi there. What brings you here today?        6  \n",
       "2               Hi there. How are you feeling today?        6  \n",
       "3       Great to see you. How do you feel currently?        6  \n",
       "4  Hello there. Glad to see you're back. What's g...        6  "
      ]
     },
     "execution_count": 3,
     "metadata": {},
     "output_type": "execute_result"
    }
   ],
   "source": [
    "dataset.head()"
   ]
  },
  {
   "cell_type": "code",
   "execution_count": 4,
   "id": "88a0a53d-fbd0-462e-a384-7289a3a740e4",
   "metadata": {},
   "outputs": [],
   "source": [
    "model_directory = '../Saved_Models/Domain/fine-tuned-bert-sentiment_2024_07_13_1/'\n",
    "device = torch.device('cuda' if torch.cuda.is_available() else 'cpu')\n",
    "tokenizer = BertTokenizer.from_pretrained(model_directory)\n",
    "model = BertForSequenceClassification.from_pretrained(model_directory).to(device)"
   ]
  },
  {
   "cell_type": "code",
   "execution_count": 5,
   "id": "7e92b756-597f-4af7-bb82-1ae324120d36",
   "metadata": {},
   "outputs": [],
   "source": [
    "def Calculate_Domain(data):\n",
    "    predictedDomainList = []\n",
    "\n",
    "    targetText = list(data)\n",
    "    for counter,t in enumerate(targetText):\n",
    "        try:\n",
    "            if counter % 1000 == 0 and counter !=0:\n",
    "                print(f'\\rTesting Progress: {counter}/{len(targetText)}', end='', flush=True)\n",
    "            model.eval()\n",
    "            encoding = tokenizer.encode_plus(\n",
    "                text = t,\n",
    "                add_special_tokens=True,\n",
    "                max_length=512,\n",
    "                return_token_type_ids=False,\n",
    "                padding='max_length',\n",
    "                truncation=True,\n",
    "                return_attention_mask=True,\n",
    "                return_tensors='pt'\n",
    "            )\n",
    "            input_ids = encoding['input_ids'].to(device)\n",
    "            attention_mask = encoding['attention_mask'].to(device)\n",
    "            \n",
    "            with torch.no_grad():\n",
    "                outputs = model(input_ids=input_ids, attention_mask=attention_mask)\n",
    "                logits = outputs.logits\n",
    "            \n",
    "            probs = torch.nn.functional.softmax(logits, dim=1)\n",
    "            _, pred = torch.max(probs, dim=1)\n",
    "            predictedEmotion = pred.item()\n",
    "            predictedDomainList.append(predictedEmotion)\n",
    "        except Exception as e:\n",
    "            print(e,counter,t)\n",
    "            predictedDomainList.append(0)\n",
    "    return predictedDomainList\n",
    "# sentiment = 'positive' if pred.item() == 2 else 'negative' if pred.item() == 0 else 'neutral'"
   ]
  },
  {
   "cell_type": "code",
   "execution_count": 6,
   "id": "a380b421-096b-45f3-b284-86fd7c74ab4d",
   "metadata": {},
   "outputs": [],
   "source": [
    "domain_type = {4:\"Computers & Internet\",5:\"Sports\",2:\"Health\",6:\"Business & Finance\",1:\"Science & Mathematics\",\n",
    "              7:\"Entertainment & Music\",3:\"Education & Reference\",8:\"Family & Relationships\",9:\"Politics & Government\",\n",
    "              0:\"Society & Culture\"}"
   ]
  },
  {
   "cell_type": "code",
   "execution_count": 7,
   "id": "82666f54-cacc-4152-b72f-56f63e93edee",
   "metadata": {},
   "outputs": [
    {
     "name": "stderr",
     "output_type": "stream",
     "text": [
      "C:\\Users\\Akshay\\anaconda3\\envs\\tf\\lib\\site-packages\\transformers\\models\\bert\\modeling_bert.py:435: UserWarning: 1Torch was not compiled with flash attention. (Triggered internally at C:\\actions-runner\\_work\\pytorch\\pytorch\\builder\\windows\\pytorch\\aten\\src\\ATen\\native\\transformers\\cuda\\sdp_utils.cpp:455.)\n",
      "  attn_output = torch.nn.functional.scaled_dot_product_attention(\n"
     ]
    }
   ],
   "source": [
    "predicted_domain = Calculate_Domain(dataset[\"agent_1\"])\n",
    "# for p,t in zip(predicted_domain,y_test.tolist()[10:20]):\n",
    "#     print(domain_type[p],\"-----\",domain_type[t])"
   ]
  },
  {
   "cell_type": "code",
   "execution_count": 8,
   "id": "ea5689b2-c7b1-4b57-951c-2afdfda649a8",
   "metadata": {},
   "outputs": [
    {
     "data": {
      "text/plain": [
       "718"
      ]
     },
     "execution_count": 8,
     "metadata": {},
     "output_type": "execute_result"
    }
   ],
   "source": [
    "len(predicted_domain)"
   ]
  },
  {
   "cell_type": "code",
   "execution_count": 9,
   "id": "55456666-5711-47a4-9233-52b9062013bf",
   "metadata": {},
   "outputs": [
    {
     "data": {
      "text/plain": [
       "718"
      ]
     },
     "execution_count": 9,
     "metadata": {},
     "output_type": "execute_result"
    }
   ],
   "source": [
    "len(dataset[\"agent_1\"])"
   ]
  },
  {
   "cell_type": "code",
   "execution_count": 10,
   "id": "d93b1d5a-c7b8-41b9-a9ab-3012b9a38958",
   "metadata": {},
   "outputs": [],
   "source": [
    "dataset[\"domain\"] = predicted_domain"
   ]
  },
  {
   "cell_type": "code",
   "execution_count": 11,
   "id": "02dc495c-6e4e-4102-b55b-ba06006a432a",
   "metadata": {},
   "outputs": [],
   "source": [
    "dataset.to_csv(path)"
   ]
  },
  {
   "cell_type": "code",
   "execution_count": 12,
   "id": "e4274fb1-7951-47dd-97f3-212498afb223",
   "metadata": {},
   "outputs": [
    {
     "data": {
      "text/html": [
       "<div>\n",
       "<style scoped>\n",
       "    .dataframe tbody tr th:only-of-type {\n",
       "        vertical-align: middle;\n",
       "    }\n",
       "\n",
       "    .dataframe tbody tr th {\n",
       "        vertical-align: top;\n",
       "    }\n",
       "\n",
       "    .dataframe thead th {\n",
       "        text-align: right;\n",
       "    }\n",
       "</style>\n",
       "<table border=\"1\" class=\"dataframe\">\n",
       "  <thead>\n",
       "    <tr style=\"text-align: right;\">\n",
       "      <th></th>\n",
       "      <th>Unnamed: 0.2</th>\n",
       "      <th>Unnamed: 0.1</th>\n",
       "      <th>Unnamed: 0</th>\n",
       "      <th>agent_1</th>\n",
       "      <th>agent_2</th>\n",
       "      <th>emotion</th>\n",
       "      <th>domain</th>\n",
       "    </tr>\n",
       "  </thead>\n",
       "  <tbody>\n",
       "    <tr>\n",
       "      <th>0</th>\n",
       "      <td>0</td>\n",
       "      <td>0</td>\n",
       "      <td>0</td>\n",
       "      <td>Hi</td>\n",
       "      <td>Hello there. Tell me how are you feeling today?</td>\n",
       "      <td>6</td>\n",
       "      <td>6</td>\n",
       "    </tr>\n",
       "    <tr>\n",
       "      <th>1</th>\n",
       "      <td>1</td>\n",
       "      <td>1</td>\n",
       "      <td>1</td>\n",
       "      <td>Hi</td>\n",
       "      <td>Hi there. What brings you here today?</td>\n",
       "      <td>6</td>\n",
       "      <td>6</td>\n",
       "    </tr>\n",
       "    <tr>\n",
       "      <th>2</th>\n",
       "      <td>2</td>\n",
       "      <td>2</td>\n",
       "      <td>2</td>\n",
       "      <td>Hi</td>\n",
       "      <td>Hi there. How are you feeling today?</td>\n",
       "      <td>6</td>\n",
       "      <td>6</td>\n",
       "    </tr>\n",
       "    <tr>\n",
       "      <th>3</th>\n",
       "      <td>3</td>\n",
       "      <td>3</td>\n",
       "      <td>3</td>\n",
       "      <td>Hi</td>\n",
       "      <td>Great to see you. How do you feel currently?</td>\n",
       "      <td>6</td>\n",
       "      <td>6</td>\n",
       "    </tr>\n",
       "    <tr>\n",
       "      <th>4</th>\n",
       "      <td>4</td>\n",
       "      <td>4</td>\n",
       "      <td>4</td>\n",
       "      <td>Hi</td>\n",
       "      <td>Hello there. Glad to see you're back. What's g...</td>\n",
       "      <td>6</td>\n",
       "      <td>6</td>\n",
       "    </tr>\n",
       "  </tbody>\n",
       "</table>\n",
       "</div>"
      ],
      "text/plain": [
       "   Unnamed: 0.2  Unnamed: 0.1  Unnamed: 0 agent_1  \\\n",
       "0             0             0           0      Hi   \n",
       "1             1             1           1      Hi   \n",
       "2             2             2           2      Hi   \n",
       "3             3             3           3      Hi   \n",
       "4             4             4           4      Hi   \n",
       "\n",
       "                                             agent_2  emotion  domain  \n",
       "0    Hello there. Tell me how are you feeling today?        6       6  \n",
       "1              Hi there. What brings you here today?        6       6  \n",
       "2               Hi there. How are you feeling today?        6       6  \n",
       "3       Great to see you. How do you feel currently?        6       6  \n",
       "4  Hello there. Glad to see you're back. What's g...        6       6  "
      ]
     },
     "execution_count": 12,
     "metadata": {},
     "output_type": "execute_result"
    }
   ],
   "source": [
    "dataset.head()"
   ]
  },
  {
   "cell_type": "code",
   "execution_count": null,
   "id": "72a49075-dd71-46ba-8457-d0fadd29c103",
   "metadata": {},
   "outputs": [],
   "source": []
  }
 ],
 "metadata": {
  "kernelspec": {
   "display_name": "Python 3 (ipykernel)",
   "language": "python",
   "name": "python3"
  },
  "language_info": {
   "codemirror_mode": {
    "name": "ipython",
    "version": 3
   },
   "file_extension": ".py",
   "mimetype": "text/x-python",
   "name": "python",
   "nbconvert_exporter": "python",
   "pygments_lexer": "ipython3",
   "version": "3.9.19"
  }
 },
 "nbformat": 4,
 "nbformat_minor": 5
}
