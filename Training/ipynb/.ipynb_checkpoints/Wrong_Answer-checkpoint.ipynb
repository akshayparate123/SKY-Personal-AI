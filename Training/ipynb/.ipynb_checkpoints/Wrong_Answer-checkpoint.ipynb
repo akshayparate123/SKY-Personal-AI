{
 "cells": [
  {
   "cell_type": "code",
   "execution_count": 69,
   "id": "68038088-4095-437c-a593-f309313fab73",
   "metadata": {},
   "outputs": [],
   "source": [
    "from datasets import load_dataset\n",
    "import warnings\n",
    "import pandas as pd\n",
    "import numpy as np\n",
    "import matplotlib.pyplot as plt\n",
    "import random\n",
    "from tqdm import tqdm\n",
    "from transformers import BartForConditionalGeneration, BartTokenizer, Trainer, TrainingArguments, DataCollatorForSeq2Seq\n",
    "from sklearn.model_selection import train_test_split\n",
    "warnings.filterwarnings(\"ignore\")"
   ]
  },
  {
   "cell_type": "code",
   "execution_count": 2,
   "id": "8dd31966-d03e-4b5a-b724-8d95bb854820",
   "metadata": {},
   "outputs": [],
   "source": [
    "ds_1 = load_dataset(\"lukaspetersson/wrong_math\")\n",
    "ds_2 = load_dataset(\"layoric/labeled-multiple-choice-explained\")\n",
    "ds_3 = load_dataset(\"under-tree/labeled-multiple-choice\")\n",
    "ds_4 = load_dataset(\"anaonymous-aad/GenQA_multiple_choice\")"
   ]
  },
  {
   "cell_type": "code",
   "execution_count": 4,
   "id": "38296211-61b3-4e7c-b35b-ad368a17bc46",
   "metadata": {},
   "outputs": [],
   "source": [
    "dataset_1 = pd.DataFrame()\n",
    "agent_1 = []\n",
    "agent_2 = []\n",
    "instruction = ds_1[\"train\"][\"instruction\"]\n",
    "output = ds_1[\"train\"][\"output\"]\n",
    "\n",
    "def addition(str):\n",
    "    t = str.split(\"+\")\n",
    "    return int(t[0]) + int(t[1]) \n",
    "\n",
    "agent_1.extend([i.replace(\"What\",\"\").replace(\"?\",\"\").replace(\"Answer\",\"equals \").replace(\":\",\"\").replace(\" is\",\"is\") + str(output[counter])+\" ?\" for counter,i in enumerate(instruction)])\n",
    "agent_2.extend([\"No, \"+i.split(\"?\")[0].split(\"is \")[1]+\" equals \" + str(addition(i.split(\"?\")[0].split(\"is \")[1])) for counter,i in enumerate(instruction)])\n",
    "\n",
    "dataset_1[\"agent_1\"] = agent_1\n",
    "dataset_1[\"agent_2\"] = agent_2"
   ]
  },
  {
   "cell_type": "code",
   "execution_count": 5,
   "id": "ffe68c72-2c88-4b1e-ad24-e9c15b96185d",
   "metadata": {},
   "outputs": [
    {
     "data": {
      "text/html": [
       "<div>\n",
       "<style scoped>\n",
       "    .dataframe tbody tr th:only-of-type {\n",
       "        vertical-align: middle;\n",
       "    }\n",
       "\n",
       "    .dataframe tbody tr th {\n",
       "        vertical-align: top;\n",
       "    }\n",
       "\n",
       "    .dataframe thead th {\n",
       "        text-align: right;\n",
       "    }\n",
       "</style>\n",
       "<table border=\"1\" class=\"dataframe\">\n",
       "  <thead>\n",
       "    <tr style=\"text-align: right;\">\n",
       "      <th></th>\n",
       "      <th>agent_1</th>\n",
       "      <th>agent_2</th>\n",
       "    </tr>\n",
       "  </thead>\n",
       "  <tbody>\n",
       "    <tr>\n",
       "      <th>0</th>\n",
       "      <td>is 6+9 equals 30 ?</td>\n",
       "      <td>No, 6+9 equals 15</td>\n",
       "    </tr>\n",
       "    <tr>\n",
       "      <th>1</th>\n",
       "      <td>is 10+2 equals 24 ?</td>\n",
       "      <td>No, 10+2 equals 12</td>\n",
       "    </tr>\n",
       "    <tr>\n",
       "      <th>2</th>\n",
       "      <td>is 1+7 equals 16 ?</td>\n",
       "      <td>No, 1+7 equals 8</td>\n",
       "    </tr>\n",
       "    <tr>\n",
       "      <th>3</th>\n",
       "      <td>is 3+5 equals 16 ?</td>\n",
       "      <td>No, 3+5 equals 8</td>\n",
       "    </tr>\n",
       "    <tr>\n",
       "      <th>4</th>\n",
       "      <td>is 10+4 equals 28 ?</td>\n",
       "      <td>No, 10+4 equals 14</td>\n",
       "    </tr>\n",
       "  </tbody>\n",
       "</table>\n",
       "</div>"
      ],
      "text/plain": [
       "               agent_1             agent_2\n",
       "0   is 6+9 equals 30 ?   No, 6+9 equals 15\n",
       "1  is 10+2 equals 24 ?  No, 10+2 equals 12\n",
       "2   is 1+7 equals 16 ?    No, 1+7 equals 8\n",
       "3   is 3+5 equals 16 ?    No, 3+5 equals 8\n",
       "4  is 10+4 equals 28 ?  No, 10+4 equals 14"
      ]
     },
     "execution_count": 5,
     "metadata": {},
     "output_type": "execute_result"
    }
   ],
   "source": [
    "dataset_1.head()"
   ]
  },
  {
   "cell_type": "code",
   "execution_count": null,
   "id": "15bb9aef-394b-40c9-9aef-6f55e3168b93",
   "metadata": {},
   "outputs": [],
   "source": []
  },
  {
   "cell_type": "code",
   "execution_count": null,
   "id": "ae681e58-9f03-4966-ad52-1fc1c7e63b27",
   "metadata": {},
   "outputs": [],
   "source": []
  },
  {
   "cell_type": "code",
   "execution_count": 66,
   "id": "1cd3003c-62e3-40ac-88cf-434a6aef1798",
   "metadata": {},
   "outputs": [],
   "source": [
    "prompt = ds_4[\"train\"][\"prompt\"]\n",
    "messages = ds_4[\"train\"][\"messages\"]"
   ]
  },
  {
   "cell_type": "markdown",
   "id": "4b05a45c-bade-4baf-bcd2-a6836a5ef1a6",
   "metadata": {},
   "source": [
    "#### Correct Ans"
   ]
  },
  {
   "cell_type": "code",
   "execution_count": 79,
   "id": "cba002b7-40b6-4d4a-b640-0b3031a4816c",
   "metadata": {},
   "outputs": [
    {
     "name": "stderr",
     "output_type": "stream",
     "text": [
      "100%|██████████| 372610/372610 [00:01<00:00, 260115.65it/s]\n"
     ]
    }
   ],
   "source": [
    "p = [];m = []\n",
    "for i in tqdm(range(0,len(messages))):\n",
    "    if \"Explanation\" not in messages[i][1][\"content\"]:\n",
    "        continue\n",
    "    else:\n",
    "        p.append(prompt[i].replace(\"\\n\",\"\"))\n",
    "        m.append(\"Correct option is \"+ messages[i][1][\"content\"].split(\"Explanation\")[0].replace(\"\\n\",\"\").replace(\"*\",\"\") + \n",
    "                \". <Explanation>: \" + messages[i][1][\"content\"].split(\"Explanation\")[1].replace(\"\\n\",\"\").replace(\"*\",\"\").replace(\":\",\"\"))"
   ]
  },
  {
   "cell_type": "code",
   "execution_count": null,
   "id": "72cae7e7-acf5-4730-b4cf-2203fb773754",
   "metadata": {},
   "outputs": [],
   "source": []
  },
  {
   "cell_type": "markdown",
   "id": "5b0ee2f5-f59d-469e-922a-66e89e203f0c",
   "metadata": {},
   "source": [
    "#### Wrong Ans"
   ]
  },
  {
   "cell_type": "code",
   "execution_count": null,
   "id": "9d496068-3622-4064-9647-914de28473aa",
   "metadata": {},
   "outputs": [],
   "source": [
    "p = [];m = []\n",
    "for i in tqdm(range(0,len(messages[:10]))):\n",
    "    if \"Explanation\" not in messages[i][1][\"content\"]:\n",
    "        continue\n",
    "    else:\n",
    "        try:\n",
    "            options = []\n",
    "            if \"(A)\" in prompt[i]: \n",
    "                option_string = prompt[i].replace(\"\\n\",\"\").split(\"(A)\")\n",
    "                li = [\"(B)\",\"(C)\",\"(D)\"]\n",
    "            elif \"A\" in prompt[i]:\n",
    "                option_string = prompt[i].replace(\"\\n\",\"\").split(\"A\")\n",
    "                li = [\"B\",\"C\",\"D\"]\n",
    "            for j in li:\n",
    "                option_string = option_string[1].split(j)\n",
    "                options.append(option_string[0])\n",
    "            options.append(option_string[1])\n",
    "        except Exception as e:\n",
    "            print(prompt[i])\n",
    "        # m.append(\"Correct option is \"+ messages[i][1][\"content\"].split(\"Explanation\")[0].replace(\"\\n\",\"\").replace(\"*\",\"\") + \n",
    "        #         \". <Explanation>: \" + messages[i][1][\"content\"].split(\"Explanation\")[1].replace(\"\\n\",\"\").replace(\"*\",\"\").replace(\":\",\"\"))"
   ]
  },
  {
   "cell_type": "code",
   "execution_count": null,
   "id": "b30d8317-26a2-4952-b618-df49e7898eec",
   "metadata": {},
   "outputs": [],
   "source": []
  }
 ],
 "metadata": {
  "kernelspec": {
   "display_name": "Python 3 (ipykernel)",
   "language": "python",
   "name": "python3"
  },
  "language_info": {
   "codemirror_mode": {
    "name": "ipython",
    "version": 3
   },
   "file_extension": ".py",
   "mimetype": "text/x-python",
   "name": "python",
   "nbconvert_exporter": "python",
   "pygments_lexer": "ipython3",
   "version": "3.9.19"
  }
 },
 "nbformat": 4,
 "nbformat_minor": 5
}
