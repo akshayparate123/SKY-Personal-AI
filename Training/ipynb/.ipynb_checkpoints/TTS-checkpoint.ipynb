{
 "cells": [
  {
   "cell_type": "code",
   "execution_count": 8,
   "id": "dab3895d-ef1f-43cd-a461-8a8bdf5cf20a",
   "metadata": {},
   "outputs": [
    {
     "data": {
      "text/plain": [
       "0"
      ]
     },
     "execution_count": 8,
     "metadata": {},
     "output_type": "execute_result"
    }
   ],
   "source": [
    "from gtts import gTTS\n",
    "\n",
    "# This module is imported so that we can \n",
    "# play the converted audio\n",
    "import os\n",
    "\n",
    "# The text that you want to convert to audio\n",
    "mytext = 'Hello my name is Akshay Paraate. What is your name ?'\n",
    "\n",
    "# Language in which you want to conver\"t\n",
    "language = 'en'\n",
    "\n",
    "# Passing the text and language to the engine, \n",
    "# here we have marked slow=False. Which tells \n",
    "# the module that the converted audio should \n",
    "# have a high speed\n",
    "myobj = gTTS(text=mytext, lang=language, slow=False)\n",
    "\n",
    "# Saving the converted audio in a mp3 file named\n",
    "# welcome\n",
    "myobj.save(\"welcome.mp3\")\n",
    "\n",
    "# Playing the converted file\n",
    "os.system(\"start welcome.mp3\")"
   ]
  },
  {
   "cell_type": "code",
   "execution_count": 1,
   "id": "406309f2-a3d7-4fdf-b938-1c4762b772b6",
   "metadata": {},
   "outputs": [],
   "source": [
    "import pandas as pd\n",
    "import time\n",
    "df = pd.read_csv(\"../Data/CleanedDatasets/Greetings.csv\")"
   ]
  },
  {
   "cell_type": "code",
   "execution_count": 2,
   "id": "d9d541be-65d1-426a-b5e3-314938facd24",
   "metadata": {},
   "outputs": [],
   "source": [
    "agent_1 = df[\"agent_1\"].tolist()[720:]\n",
    "agent_2 = df[\"agent_2\"].tolist()[720:]"
   ]
  },
  {
   "cell_type": "code",
   "execution_count": null,
   "id": "f7855b4f-c404-474f-887b-deed62d42d63",
   "metadata": {},
   "outputs": [],
   "source": []
  },
  {
   "cell_type": "code",
   "execution_count": 1,
   "id": "4f416250-b2db-414f-a9dc-2981d1a9adaa",
   "metadata": {},
   "outputs": [],
   "source": [
    "import pyttsx3\n",
    "def speak(msg,voice):\n",
    "    engine = pyttsx3.init()\n",
    "    voices = engine.getProperty('voices')\n",
    "    engine.setProperty('voice', voices[voice].id)\n",
    "    # rate = engine.getProperty('rate')   # getting details of current speaking rate\n",
    "    # print (rate)                        #printing current voice rate\n",
    "    engine.setProperty('rate', 160)     # setting up new voice rate\n",
    "    engine.say(msg)\n",
    "    engine.runAndWait()"
   ]
  },
  {
   "cell_type": "code",
   "execution_count": null,
   "id": "59d6a6c6-1e14-4773-a65d-4d6177c62bef",
   "metadata": {},
   "outputs": [],
   "source": [
    "for i,j in zip(agent_1,agent_2):\n",
    "    speak(i,1)\n",
    "    time.sleep(1)\n",
    "    speak(j,0)"
   ]
  },
  {
   "cell_type": "code",
   "execution_count": 20,
   "id": "4d74de7c-4e83-46e9-81d6-23a22c6c84f8",
   "metadata": {},
   "outputs": [],
   "source": [
    "speak(\"majha naav kay aahe?\",0)"
   ]
  },
  {
   "cell_type": "code",
   "execution_count": 4,
   "id": "5263ed7a-ffe9-408b-aaa3-d4332e3b3523",
   "metadata": {},
   "outputs": [
    {
     "name": "stdout",
     "output_type": "stream",
     "text": [
      "word None 1 84020\n",
      "word None 1 168040\n"
     ]
    }
   ],
   "source": [
    "engine = pyttsx3.init()\n",
    "voices = engine.getProperty('voices')\n",
    "for voice in voices:\n",
    "   engine.setProperty('voice', voice.id)\n",
    "   engine.say('The quick brown fox jumped over the lazy dog.')\n",
    "engine.runAndWait()"
   ]
  },
  {
   "cell_type": "markdown",
   "id": "aef6f0b6-1654-40ff-9a41-8aaf5a25998b",
   "metadata": {},
   "source": [
    "# Voice Authentication"
   ]
  },
  {
   "cell_type": "code",
   "execution_count": 7,
   "id": "b10d49f4-83b1-4fce-8edd-46ade6287a6c",
   "metadata": {},
   "outputs": [
    {
     "name": "stdout",
     "output_type": "stream",
     "text": [
      "Recording...\n",
      "Recording saved as my_voice.wav\n"
     ]
    }
   ],
   "source": [
    "import sounddevice as sd\n",
    "import numpy as np\n",
    "from scipy.io.wavfile import write\n",
    "\n",
    "def record_voice(filename, duration=5, fs=16000):\n",
    "    print(\"Recording...\")\n",
    "    recording = sd.rec(int(duration * fs), samplerate=fs, channels=1)\n",
    "    sd.wait()  # Wait until the recording is finished\n",
    "    write(filename, fs, recording)\n",
    "    print(f\"Recording saved as {filename}\")\n",
    "    \n",
    "# Record a 5-second audio file\n",
    "record_voice(\"my_voice.wav\")\n"
   ]
  },
  {
   "cell_type": "code",
   "execution_count": 10,
   "id": "9f476aba-036c-490e-8b5b-c6bfc6e76cb0",
   "metadata": {},
   "outputs": [
    {
     "name": "stdout",
     "output_type": "stream",
     "text": [
      "[[ -5.54089313  -8.90170629  -1.95821894 ...  -6.62965626  -4.81039682\n",
      "   -2.56791257]\n",
      " [-15.52669898 -24.32531748  -3.97061923 ...  -6.14095021  -7.31395415\n",
      "  -14.76207229]\n",
      " [-15.49887563 -16.24770921  -1.4572681  ... -11.38929046  -6.76023666\n",
      "  -13.66097952]\n",
      " ...\n",
      " [-10.02871232 -27.62901367  -2.85689361 ...  -6.2085217    0.6542444\n",
      "   -2.38108227]\n",
      " [-10.09830035 -27.63948003  -3.92664972 ...  -5.25125762  -1.79836638\n",
      "    0.12898212]\n",
      " [-10.36757289 -27.36155785  -3.46909555 ...  -4.95530222   3.93757352\n",
      "   10.15320033]]\n"
     ]
    }
   ],
   "source": [
    "import numpy as np\n",
    "import scipy.io.wavfile as wav\n",
    "from python_speech_features import mfcc\n",
    "\n",
    "# Load audio file\n",
    "rate, signal = wav.read(\"my_voice.wav\")\n",
    "\n",
    "# Extract MFCC features\n",
    "mfcc_features = mfcc(signal, rate, numcep=13)\n",
    "print(mfcc_features)"
   ]
  },
  {
   "cell_type": "code",
   "execution_count": 22,
   "id": "e66a14fa-541b-4a4a-b635-9ab7454cc3d6",
   "metadata": {},
   "outputs": [],
   "source": [
    "import soundfile as sf\n",
    "import numpy as np\n",
    "import speech_recognition as sr\n",
    "from sklearn.metrics import pairwise\n",
    "\n",
    "# Function to extract audio features (raw audio data)\n",
    "def extract_features(filename):\n",
    "    audio_data, sample_rate = sf.read(filename)\n",
    "    return audio_data\n",
    "\n",
    "# Function to compare two audio features\n",
    "def compare_features(reference_features, test_features):\n",
    "    # Determine the length of the longer feature vector\n",
    "    max_length = max(len(reference_features), len(test_features))\n",
    "    \n",
    "    # Pad the shorter vector with zeros\n",
    "    reference_padded = np.pad(reference_features, (0, max_length - len(reference_features)), 'constant')\n",
    "    test_padded = np.pad(test_features, (0, max_length - len(test_features)), 'constant')\n",
    "\n",
    "    # Calculate similarity\n",
    "    similarity = pairwise.cosine_similarity([reference_padded], [test_padded])\n",
    "    return similarity[0][0]\n",
    "\n",
    "# Voice authentication function\n",
    "def voice_authentication(reference_file, test_file, threshold=0.8):\n",
    "    reference_features = extract_features(reference_file)\n",
    "    test_features = extract_features(test_file)\n",
    "\n",
    "    similarity_score = compare_features(reference_features, test_features)\n",
    "\n",
    "    print(f\"Similarity Score: {similarity_score}\")\n",
    "    \n",
    "    if similarity_score > threshold:\n",
    "        print(\"Authentication Successful!\")\n",
    "    else:\n",
    "        print(\"Authentication Failed!\")\n",
    "\n",
    "def record_voice(filename):\n",
    "    recognizer = sr.Recognizer()\n",
    "    with sr.Microphone() as source:\n",
    "        print(\"Please say something...\")\n",
    "        audio = recognizer.listen(source)\n",
    "\n",
    "    # Convert raw audio data to a NumPy array\n",
    "    raw_data = audio.get_raw_data()\n",
    "    audio_data = np.frombuffer(raw_data, dtype=np.int16)  # Convert bytes to int16 array\n",
    "\n",
    "    # Save the recorded audio as a WAV file\n",
    "    with sf.SoundFile(filename, 'w', samplerate=44100, channels=1, subtype='PCM_16') as f:\n",
    "        f.write(audio_data)\n",
    "    print(f\"Audio recorded and saved as {filename}\")"
   ]
  },
  {
   "cell_type": "code",
   "execution_count": 23,
   "id": "c1df8c90-3734-44a1-8219-9895d1d3dc9d",
   "metadata": {},
   "outputs": [
    {
     "name": "stdout",
     "output_type": "stream",
     "text": [
      "Please say something...\n",
      "Audio recorded and saved as test.wav\n"
     ]
    },
    {
     "ename": "ValueError",
     "evalue": "Incompatible dimension for X and Y matrices: X.shape[1] == 80000 while Y.shape[1] == 96256",
     "output_type": "error",
     "traceback": [
      "\u001b[1;31m---------------------------------------------------------------------------\u001b[0m",
      "\u001b[1;31mValueError\u001b[0m                                Traceback (most recent call last)",
      "Cell \u001b[1;32mIn[23], line 8\u001b[0m\n\u001b[0;32m      6\u001b[0m record_voice(test_audio)\n\u001b[0;32m      7\u001b[0m \u001b[38;5;66;03m# Perform voice authentication\u001b[39;00m\n\u001b[1;32m----> 8\u001b[0m \u001b[43mvoice_authentication\u001b[49m\u001b[43m(\u001b[49m\u001b[43mreference_audio\u001b[49m\u001b[43m,\u001b[49m\u001b[43m \u001b[49m\u001b[43mtest_audio\u001b[49m\u001b[43m)\u001b[49m\n",
      "Cell \u001b[1;32mIn[22], line 21\u001b[0m, in \u001b[0;36mvoice_authentication\u001b[1;34m(reference_file, test_file, threshold)\u001b[0m\n\u001b[0;32m     18\u001b[0m reference_features \u001b[38;5;241m=\u001b[39m extract_features(reference_file)\n\u001b[0;32m     19\u001b[0m test_features \u001b[38;5;241m=\u001b[39m extract_features(test_file)\n\u001b[1;32m---> 21\u001b[0m similarity_score \u001b[38;5;241m=\u001b[39m \u001b[43mcompare_features\u001b[49m\u001b[43m(\u001b[49m\u001b[43mreference_features\u001b[49m\u001b[43m,\u001b[49m\u001b[43m \u001b[49m\u001b[43mtest_features\u001b[49m\u001b[43m)\u001b[49m\n\u001b[0;32m     23\u001b[0m \u001b[38;5;28mprint\u001b[39m(\u001b[38;5;124mf\u001b[39m\u001b[38;5;124m\"\u001b[39m\u001b[38;5;124mSimilarity Score: \u001b[39m\u001b[38;5;132;01m{\u001b[39;00msimilarity_score\u001b[38;5;132;01m}\u001b[39;00m\u001b[38;5;124m\"\u001b[39m)\n\u001b[0;32m     25\u001b[0m \u001b[38;5;28;01mif\u001b[39;00m similarity_score \u001b[38;5;241m>\u001b[39m threshold:\n",
      "Cell \u001b[1;32mIn[22], line 13\u001b[0m, in \u001b[0;36mcompare_features\u001b[1;34m(reference_features, test_features)\u001b[0m\n\u001b[0;32m     12\u001b[0m \u001b[38;5;28;01mdef\u001b[39;00m \u001b[38;5;21mcompare_features\u001b[39m(reference_features, test_features):\n\u001b[1;32m---> 13\u001b[0m     similarity \u001b[38;5;241m=\u001b[39m \u001b[43mpairwise\u001b[49m\u001b[38;5;241;43m.\u001b[39;49m\u001b[43mcosine_similarity\u001b[49m\u001b[43m(\u001b[49m\u001b[43m[\u001b[49m\u001b[43mreference_features\u001b[49m\u001b[43m]\u001b[49m\u001b[43m,\u001b[49m\u001b[43m \u001b[49m\u001b[43m[\u001b[49m\u001b[43mtest_features\u001b[49m\u001b[43m]\u001b[49m\u001b[43m)\u001b[49m\n\u001b[0;32m     14\u001b[0m     \u001b[38;5;28;01mreturn\u001b[39;00m similarity[\u001b[38;5;241m0\u001b[39m][\u001b[38;5;241m0\u001b[39m]\n",
      "File \u001b[1;32m~\\anaconda3\\envs\\tf\\lib\\site-packages\\sklearn\\utils\\_param_validation.py:213\u001b[0m, in \u001b[0;36mvalidate_params.<locals>.decorator.<locals>.wrapper\u001b[1;34m(*args, **kwargs)\u001b[0m\n\u001b[0;32m    207\u001b[0m \u001b[38;5;28;01mtry\u001b[39;00m:\n\u001b[0;32m    208\u001b[0m     \u001b[38;5;28;01mwith\u001b[39;00m config_context(\n\u001b[0;32m    209\u001b[0m         skip_parameter_validation\u001b[38;5;241m=\u001b[39m(\n\u001b[0;32m    210\u001b[0m             prefer_skip_nested_validation \u001b[38;5;129;01mor\u001b[39;00m global_skip_validation\n\u001b[0;32m    211\u001b[0m         )\n\u001b[0;32m    212\u001b[0m     ):\n\u001b[1;32m--> 213\u001b[0m         \u001b[38;5;28;01mreturn\u001b[39;00m func(\u001b[38;5;241m*\u001b[39margs, \u001b[38;5;241m*\u001b[39m\u001b[38;5;241m*\u001b[39mkwargs)\n\u001b[0;32m    214\u001b[0m \u001b[38;5;28;01mexcept\u001b[39;00m InvalidParameterError \u001b[38;5;28;01mas\u001b[39;00m e:\n\u001b[0;32m    215\u001b[0m     \u001b[38;5;66;03m# When the function is just a wrapper around an estimator, we allow\u001b[39;00m\n\u001b[0;32m    216\u001b[0m     \u001b[38;5;66;03m# the function to delegate validation to the estimator, but we replace\u001b[39;00m\n\u001b[0;32m    217\u001b[0m     \u001b[38;5;66;03m# the name of the estimator by the name of the function in the error\u001b[39;00m\n\u001b[0;32m    218\u001b[0m     \u001b[38;5;66;03m# message to avoid confusion.\u001b[39;00m\n\u001b[0;32m    219\u001b[0m     msg \u001b[38;5;241m=\u001b[39m re\u001b[38;5;241m.\u001b[39msub(\n\u001b[0;32m    220\u001b[0m         \u001b[38;5;124mr\u001b[39m\u001b[38;5;124m\"\u001b[39m\u001b[38;5;124mparameter of \u001b[39m\u001b[38;5;124m\\\u001b[39m\u001b[38;5;124mw+ must be\u001b[39m\u001b[38;5;124m\"\u001b[39m,\n\u001b[0;32m    221\u001b[0m         \u001b[38;5;124mf\u001b[39m\u001b[38;5;124m\"\u001b[39m\u001b[38;5;124mparameter of \u001b[39m\u001b[38;5;132;01m{\u001b[39;00mfunc\u001b[38;5;241m.\u001b[39m\u001b[38;5;18m__qualname__\u001b[39m\u001b[38;5;132;01m}\u001b[39;00m\u001b[38;5;124m must be\u001b[39m\u001b[38;5;124m\"\u001b[39m,\n\u001b[0;32m    222\u001b[0m         \u001b[38;5;28mstr\u001b[39m(e),\n\u001b[0;32m    223\u001b[0m     )\n",
      "File \u001b[1;32m~\\anaconda3\\envs\\tf\\lib\\site-packages\\sklearn\\metrics\\pairwise.py:1668\u001b[0m, in \u001b[0;36mcosine_similarity\u001b[1;34m(X, Y, dense_output)\u001b[0m\n\u001b[0;32m   1624\u001b[0m \u001b[38;5;250m\u001b[39m\u001b[38;5;124;03m\"\"\"Compute cosine similarity between samples in X and Y.\u001b[39;00m\n\u001b[0;32m   1625\u001b[0m \n\u001b[0;32m   1626\u001b[0m \u001b[38;5;124;03mCosine similarity, or the cosine kernel, computes similarity as the\u001b[39;00m\n\u001b[1;32m   (...)\u001b[0m\n\u001b[0;32m   1664\u001b[0m \u001b[38;5;124;03m       [0.57..., 0.81...]])\u001b[39;00m\n\u001b[0;32m   1665\u001b[0m \u001b[38;5;124;03m\"\"\"\u001b[39;00m\n\u001b[0;32m   1666\u001b[0m \u001b[38;5;66;03m# to avoid recursive import\u001b[39;00m\n\u001b[1;32m-> 1668\u001b[0m X, Y \u001b[38;5;241m=\u001b[39m \u001b[43mcheck_pairwise_arrays\u001b[49m\u001b[43m(\u001b[49m\u001b[43mX\u001b[49m\u001b[43m,\u001b[49m\u001b[43m \u001b[49m\u001b[43mY\u001b[49m\u001b[43m)\u001b[49m\n\u001b[0;32m   1670\u001b[0m X_normalized \u001b[38;5;241m=\u001b[39m normalize(X, copy\u001b[38;5;241m=\u001b[39m\u001b[38;5;28;01mTrue\u001b[39;00m)\n\u001b[0;32m   1671\u001b[0m \u001b[38;5;28;01mif\u001b[39;00m X \u001b[38;5;129;01mis\u001b[39;00m Y:\n",
      "File \u001b[1;32m~\\anaconda3\\envs\\tf\\lib\\site-packages\\sklearn\\metrics\\pairwise.py:203\u001b[0m, in \u001b[0;36mcheck_pairwise_arrays\u001b[1;34m(X, Y, precomputed, dtype, accept_sparse, force_all_finite, ensure_2d, copy)\u001b[0m\n\u001b[0;32m    195\u001b[0m         \u001b[38;5;28;01mraise\u001b[39;00m \u001b[38;5;167;01mValueError\u001b[39;00m(\n\u001b[0;32m    196\u001b[0m             \u001b[38;5;124m\"\u001b[39m\u001b[38;5;124mPrecomputed metric requires shape \u001b[39m\u001b[38;5;124m\"\u001b[39m\n\u001b[0;32m    197\u001b[0m             \u001b[38;5;124m\"\u001b[39m\u001b[38;5;124m(n_queries, n_indexed). Got (\u001b[39m\u001b[38;5;132;01m%d\u001b[39;00m\u001b[38;5;124m, \u001b[39m\u001b[38;5;132;01m%d\u001b[39;00m\u001b[38;5;124m) \u001b[39m\u001b[38;5;124m\"\u001b[39m\n\u001b[0;32m    198\u001b[0m             \u001b[38;5;124m\"\u001b[39m\u001b[38;5;124mfor \u001b[39m\u001b[38;5;132;01m%d\u001b[39;00m\u001b[38;5;124m indexed.\u001b[39m\u001b[38;5;124m\"\u001b[39m \u001b[38;5;241m%\u001b[39m (X\u001b[38;5;241m.\u001b[39mshape[\u001b[38;5;241m0\u001b[39m], X\u001b[38;5;241m.\u001b[39mshape[\u001b[38;5;241m1\u001b[39m], Y\u001b[38;5;241m.\u001b[39mshape[\u001b[38;5;241m0\u001b[39m])\n\u001b[0;32m    199\u001b[0m         )\n\u001b[0;32m    200\u001b[0m \u001b[38;5;28;01melif\u001b[39;00m ensure_2d \u001b[38;5;129;01mand\u001b[39;00m X\u001b[38;5;241m.\u001b[39mshape[\u001b[38;5;241m1\u001b[39m] \u001b[38;5;241m!=\u001b[39m Y\u001b[38;5;241m.\u001b[39mshape[\u001b[38;5;241m1\u001b[39m]:\n\u001b[0;32m    201\u001b[0m     \u001b[38;5;66;03m# Only check the number of features if 2d arrays are enforced. Otherwise,\u001b[39;00m\n\u001b[0;32m    202\u001b[0m     \u001b[38;5;66;03m# validation is left to the user for custom metrics.\u001b[39;00m\n\u001b[1;32m--> 203\u001b[0m     \u001b[38;5;28;01mraise\u001b[39;00m \u001b[38;5;167;01mValueError\u001b[39;00m(\n\u001b[0;32m    204\u001b[0m         \u001b[38;5;124m\"\u001b[39m\u001b[38;5;124mIncompatible dimension for X and Y matrices: \u001b[39m\u001b[38;5;124m\"\u001b[39m\n\u001b[0;32m    205\u001b[0m         \u001b[38;5;124m\"\u001b[39m\u001b[38;5;124mX.shape[1] == \u001b[39m\u001b[38;5;132;01m%d\u001b[39;00m\u001b[38;5;124m while Y.shape[1] == \u001b[39m\u001b[38;5;132;01m%d\u001b[39;00m\u001b[38;5;124m\"\u001b[39m \u001b[38;5;241m%\u001b[39m (X\u001b[38;5;241m.\u001b[39mshape[\u001b[38;5;241m1\u001b[39m], Y\u001b[38;5;241m.\u001b[39mshape[\u001b[38;5;241m1\u001b[39m])\n\u001b[0;32m    206\u001b[0m     )\n\u001b[0;32m    208\u001b[0m \u001b[38;5;28;01mreturn\u001b[39;00m X, Y\n",
      "\u001b[1;31mValueError\u001b[0m: Incompatible dimension for X and Y matrices: X.shape[1] == 80000 while Y.shape[1] == 96256"
     ]
    }
   ],
   "source": [
    "import sounddevice as sd\n",
    "reference_audio = \"my_voice.wav\"  # Path to reference audio file\n",
    "test_audio = \"test.wav\"              # Path to test audio file\n",
    "\n",
    "# Record a new test audio sample\n",
    "record_voice(test_audio)\n",
    "# Perform voice authentication\n",
    "voice_authentication(reference_audio, test_audio)"
   ]
  },
  {
   "cell_type": "code",
   "execution_count": null,
   "id": "d3623026-7484-4de5-b287-3ab60bd72f9b",
   "metadata": {},
   "outputs": [],
   "source": []
  },
  {
   "cell_type": "code",
   "execution_count": null,
   "id": "06ff18c7-49ea-46df-a0b2-29f51ad1899f",
   "metadata": {},
   "outputs": [],
   "source": []
  }
 ],
 "metadata": {
  "kernelspec": {
   "display_name": "Python 3 (ipykernel)",
   "language": "python",
   "name": "python3"
  },
  "language_info": {
   "codemirror_mode": {
    "name": "ipython",
    "version": 3
   },
   "file_extension": ".py",
   "mimetype": "text/x-python",
   "name": "python",
   "nbconvert_exporter": "python",
   "pygments_lexer": "ipython3",
   "version": "3.9.19"
  }
 },
 "nbformat": 4,
 "nbformat_minor": 5
}
