{
 "cells": [
  {
   "cell_type": "code",
   "execution_count": 1,
   "id": "69f23b22-8f97-48a8-a51c-ee29768d2137",
   "metadata": {},
   "outputs": [
    {
     "name": "stdout",
     "output_type": "stream",
     "text": [
      "Requirement already satisfied: mss in c:\\users\\akshay\\anaconda3\\envs\\tf\\lib\\site-packages (9.0.2)\n",
      "Requirement already satisfied: pytesseract in c:\\users\\akshay\\anaconda3\\envs\\tf\\lib\\site-packages (0.3.13)\n",
      "Requirement already satisfied: packaging>=21.3 in c:\\users\\akshay\\anaconda3\\envs\\tf\\lib\\site-packages (from pytesseract) (23.2)\n",
      "Requirement already satisfied: Pillow>=8.0.0 in c:\\users\\akshay\\anaconda3\\envs\\tf\\lib\\site-packages (from pytesseract) (10.3.0)\n",
      "Requirement already satisfied: opencv-python in c:\\users\\akshay\\anaconda3\\envs\\tf\\lib\\site-packages (4.10.0.84)\n",
      "Requirement already satisfied: numpy>=1.17.0 in c:\\users\\akshay\\anaconda3\\envs\\tf\\lib\\site-packages (from opencv-python) (1.24.3)\n"
     ]
    }
   ],
   "source": [
    "!pip install mss\n",
    "!pip install pytesseract\n",
    "!pip install opencv-python"
   ]
  },
  {
   "cell_type": "code",
   "execution_count": 31,
   "id": "bbd05be8-cd38-46b5-958c-d97bedd0e26d",
   "metadata": {},
   "outputs": [
    {
     "name": "stdout",
     "output_type": "stream",
     "text": [
      "Screenshot saved as 'middle_screenshot.png'\n"
     ]
    }
   ],
   "source": [
    "import mss\n",
    "import mss.tools\n",
    "import time\n",
    "# Initialize mss\n",
    "with mss.mss() as sct:\n",
    "    # Get screen dimensions\n",
    "    monitor = sct.monitors[1]  # The primary monitor (1 is primary, 0 is all monitors)\n",
    "    \n",
    "    # Calculate the middle region of the screen\n",
    "    screen_width = monitor['width']\n",
    "    screen_height = monitor['height']\n",
    "\n",
    "    # Base middle region dimensions\n",
    "    middle_width = screen_width // 2\n",
    "    middle_height = screen_height // 2\n",
    "\n",
    "    # Define the increase size (you can adjust this value)\n",
    "    increase_by = 100  # Increase the size by 100 pixels on all sides\n",
    "\n",
    "    # Calculate new dimensions by increasing size on all sides\n",
    "    new_width = middle_width + 2 * increase_by\n",
    "    new_height = middle_height + 2 * increase_by\n",
    "\n",
    "    # Ensure the new region does not exceed screen boundaries\n",
    "    left = max(0, (screen_width - new_width) // 2)\n",
    "    top = max(0, (screen_height - new_height) // 2)\n",
    "\n",
    "    # Define the region of interest (ROI)\n",
    "    region = {'left': left, 'top': top, 'width': new_width, 'height': new_height}\n",
    "    time.sleep(3)\n",
    "    # Take a screenshot of the specified region\n",
    "    screenshot = sct.grab(region)\n",
    "\n",
    "    # Save the screenshot\n",
    "    mss.tools.to_png(screenshot.rgb, screenshot.size, output='middle_screenshot.png')\n",
    "\n",
    "print(\"Screenshot saved as 'middle_screenshot.png'\")\n"
   ]
  },
  {
   "cell_type": "code",
   "execution_count": 32,
   "id": "1e2baa59-5c96-4001-9732-b7b642a67f89",
   "metadata": {},
   "outputs": [
    {
     "name": "stdout",
     "output_type": "stream",
     "text": [
      "\n",
      "Happy vacations or happy vacation ?\n",
      "@®@ The correct phrase is “Happy vacation” when referring to someone's entire vacation period as asingular event. You would use “Happy vacations” if you were referring to multiple vacations, but thisis less common.\n",
      "For example:e “Have a happy vacation!”e “Wishing you a happy vacation!”\n",
      "WHISTUEKY YOU a Nappy VaCalron.If you want to be more specific, you could say:e “Enjoy your vacation!”\n",
      "e “Have a great time on your vacation!”“Happy vacations” might be used in contexts where someone frequently takes vacations or if you arereferring to several people taking vacations at different times, but “Happy vacation” ts the more\n",
      "eee eee Oe eee eee ee ee eae ———_e_er—O Oe oe OSE eee eestandard usage.wood GJ oye\n",
      "\n"
     ]
    }
   ],
   "source": [
    "import cv2\n",
    "import pytesseract\n",
    "from PIL import Image\n",
    "\n",
    "# Path to the Tesseract executable (change this if needed)\n",
    "pytesseract.pytesseract.tesseract_cmd = r\"C:\\Program Files\\Tesseract-OCR\\tesseract.exe\"\n",
    "\n",
    "# Load the image using OpenCV\n",
    "image_path = 'middle_screenshot.png'  # Replace with your image path\n",
    "image = cv2.imread(image_path)\n",
    "\n",
    "# Convert to grayscale\n",
    "gray_image = cv2.cvtColor(image, cv2.COLOR_BGR2GRAY)\n",
    " \n",
    "# Invert the colors\n",
    "inverted_image = cv2.bitwise_not(gray_image)\n",
    "zoom_factor = 2.0\n",
    "\n",
    "# Get the dimensions of the ROI\n",
    "\n",
    "\n",
    "final_text = \"\"\n",
    "\n",
    "for i in range(1,8):\n",
    "    if i == 1:\n",
    "        new_inv = inverted_image[(i-1)*100:i*100]\n",
    "    else:\n",
    "        new_inv = inverted_image[((i-1)*100)-20:i*100]\n",
    "    height, width = new_inv.shape[:2]\n",
    "    # Resize the image (zoom in)\n",
    "    zoomed_image = cv2.resize(new_inv, (int(width * zoom_factor), int(height * zoom_factor)), interpolation=cv2.INTER_LINEAR)\n",
    "    cv2.imwrite(\"Zoomed_Image.png\", zoomed_image)\n",
    "    \n",
    "    _, binary_image = cv2.threshold(zoomed_image, 0, 255, cv2.THRESH_BINARY + cv2.THRESH_OTSU)\n",
    "    \n",
    "    # Use pytesseract to do OCR on the processed image\n",
    "    text = pytesseract.image_to_string(binary_image)\n",
    "    \n",
    "    # Print the extracted text\n",
    "    # print(\"Extracted Text:\")\n",
    "    final_text = final_text+text.replace(\"\\n\",\"\")+\"\\n\"\n",
    "    # print(text)\n",
    "    # Optional: Save the processed image for review\n",
    "    cv2.imwrite('processed_image_{}.png'.format(i), binary_image)\n",
    "print(final_text)"
   ]
  },
  {
   "cell_type": "code",
   "execution_count": 56,
   "id": "617039b4-1498-4ca3-a192-f70394d6a348",
   "metadata": {},
   "outputs": [
    {
     "data": {
      "text/plain": [
       "(740, 1160, 3)"
      ]
     },
     "execution_count": 56,
     "metadata": {},
     "output_type": "execute_result"
    }
   ],
   "source": [
    "image.shape"
   ]
  },
  {
   "cell_type": "code",
   "execution_count": 59,
   "id": "509e237c-8089-450f-bd2c-97b66f6d781e",
   "metadata": {},
   "outputs": [
    {
     "data": {
      "text/plain": [
       "True"
      ]
     },
     "execution_count": 59,
     "metadata": {},
     "output_type": "execute_result"
    }
   ],
   "source": [
    "cv2.imwrite('processed_image.png', image[400:500])"
   ]
  },
  {
   "cell_type": "code",
   "execution_count": null,
   "id": "ff73f068-e3a2-4bf4-a359-3c195762878a",
   "metadata": {},
   "outputs": [],
   "source": []
  },
  {
   "cell_type": "code",
   "execution_count": null,
   "id": "14ce13c8-9705-4033-8b0e-eba37f1b03d2",
   "metadata": {},
   "outputs": [],
   "source": []
  }
 ],
 "metadata": {
  "kernelspec": {
   "display_name": "Python 3 (ipykernel)",
   "language": "python",
   "name": "python3"
  },
  "language_info": {
   "codemirror_mode": {
    "name": "ipython",
    "version": 3
   },
   "file_extension": ".py",
   "mimetype": "text/x-python",
   "name": "python",
   "nbconvert_exporter": "python",
   "pygments_lexer": "ipython3",
   "version": "3.9.19"
  }
 },
 "nbformat": 4,
 "nbformat_minor": 5
}
