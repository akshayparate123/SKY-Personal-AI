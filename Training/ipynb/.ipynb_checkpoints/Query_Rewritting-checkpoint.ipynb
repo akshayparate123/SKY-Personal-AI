{
 "cells": [
  {
   "cell_type": "code",
   "execution_count": 1,
   "id": "43ed3d8d-c1b5-4faa-a407-74c2ea2ac297",
   "metadata": {},
   "outputs": [
    {
     "name": "stderr",
     "output_type": "stream",
     "text": [
      "C:\\Users\\Akshay\\anaconda3\\envs\\tf\\lib\\site-packages\\tqdm\\auto.py:21: TqdmWarning: IProgress not found. Please update jupyter and ipywidgets. See https://ipywidgets.readthedocs.io/en/stable/user_install.html\n",
      "  from .autonotebook import tqdm as notebook_tqdm\n"
     ]
    }
   ],
   "source": [
    "from datasets import load_dataset\n",
    "import pandas as pd"
   ]
  },
  {
   "cell_type": "code",
   "execution_count": 2,
   "id": "af10254f-11ef-476d-962d-d4bedb85e739",
   "metadata": {},
   "outputs": [],
   "source": [
    "ds1 = load_dataset(\"jordane95/msmarco-passage-corpus-with-query\")\n",
    "# ds2 = load_dataset(\"SetFit/insincere-questions\")\n",
    "# ds3 = load_dataset(\"anon-betterbench/betterbench-b1-all-questions\")"
   ]
  },
  {
   "cell_type": "code",
   "execution_count": 3,
   "id": "0256cecc-9730-4c78-aada-59fbce1f2ee9",
   "metadata": {},
   "outputs": [
    {
     "data": {
      "text/plain": [
       "DatasetDict({\n",
       "    train: Dataset({\n",
       "        features: ['docid', 'title', 'text', 'queries'],\n",
       "        num_rows: 8841823\n",
       "    })\n",
       "})"
      ]
     },
     "execution_count": 3,
     "metadata": {},
     "output_type": "execute_result"
    }
   ],
   "source": [
    "ds1"
   ]
  },
  {
   "cell_type": "code",
   "execution_count": null,
   "id": "1b88605b-0dfa-48f6-8b51-e01b0682ac50",
   "metadata": {},
   "outputs": [],
   "source": [
    "df1 = pd.DataFrame()\n",
    "df1[\"docid\"] = ds1[\"train\"][\"docid\"][:500]\n",
    "df1[\"title\"] = ds1[\"train\"][\"title\"][:500] \n",
    "df1[\"text\"] = ds1[\"train\"][\"text\"][:500] \n",
    "df1[\"queries\"] = ds1[\"train\"][\"queries\"][:500] "
   ]
  },
  {
   "cell_type": "code",
   "execution_count": null,
   "id": "bf3e8d6f-b947-4efb-820c-3be64477dd84",
   "metadata": {},
   "outputs": [],
   "source": [
    "df1.head()"
   ]
  },
  {
   "cell_type": "code",
   "execution_count": 1,
   "id": "9a4cba5a-c955-45ac-9c13-47b0ab7e4837",
   "metadata": {},
   "outputs": [
    {
     "name": "stderr",
     "output_type": "stream",
     "text": [
      "C:\\Users\\Akshay\\anaconda3\\envs\\tf\\lib\\site-packages\\tqdm\\auto.py:21: TqdmWarning: IProgress not found. Please update jupyter and ipywidgets. See https://ipywidgets.readthedocs.io/en/stable/user_install.html\n",
      "  from .autonotebook import tqdm as notebook_tqdm\n",
      "Downloading readme: 100%|██████████| 301/301 [00:00<?, ?B/s] \n",
      "Repo card metadata block was not found. Setting CardData to empty.\n",
      "Downloading data: 100%|██████████| 200M/200M [01:08<00:00, 2.91MB/s] \n",
      "Downloading data: 100%|██████████| 7.96M/7.96M [00:03<00:00, 2.53MB/s]\n",
      "Generating train split: 100%|██████████| 1256122/1256122 [00:00<00:00, 2344105.47 examples/s]\n",
      "Generating test split: 100%|██████████| 50000/50000 [00:00<00:00, 4257485.08 examples/s]\n"
     ]
    }
   ],
   "source": [
    "from datasets import load_dataset\n",
    "\n"
   ]
  },
  {
   "cell_type": "code",
   "execution_count": null,
   "id": "5319af97-ae03-4023-b9fd-1a0ca947c1c9",
   "metadata": {},
   "outputs": [
    {
     "name": "stderr",
     "output_type": "stream",
     "text": [
      "Downloading readme: 100%|██████████| 1.65k/1.65k [00:00<?, ?B/s]\n",
      "Downloading data:  30%|███       | 26/86 [00:37<01:27,  1.45s/files]\n"
     ]
    }
   ],
   "source": []
  },
  {
   "cell_type": "code",
   "execution_count": null,
   "id": "2234268b-df7e-4da4-b353-abc48fc03e2e",
   "metadata": {},
   "outputs": [],
   "source": []
  }
 ],
 "metadata": {
  "kernelspec": {
   "display_name": "Python 3 (ipykernel)",
   "language": "python",
   "name": "python3"
  },
  "language_info": {
   "codemirror_mode": {
    "name": "ipython",
    "version": 3
   },
   "file_extension": ".py",
   "mimetype": "text/x-python",
   "name": "python",
   "nbconvert_exporter": "python",
   "pygments_lexer": "ipython3",
   "version": "3.9.19"
  }
 },
 "nbformat": 4,
 "nbformat_minor": 5
}
