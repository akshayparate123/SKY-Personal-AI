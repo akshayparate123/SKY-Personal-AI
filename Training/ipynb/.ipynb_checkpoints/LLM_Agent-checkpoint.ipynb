{
 "cells": [
  {
   "cell_type": "code",
   "execution_count": 1,
   "id": "43ed3d8d-c1b5-4faa-a407-74c2ea2ac297",
   "metadata": {},
   "outputs": [
    {
     "name": "stderr",
     "output_type": "stream",
     "text": [
      "C:\\Users\\Akshay\\anaconda3\\envs\\tf\\lib\\site-packages\\tqdm\\auto.py:21: TqdmWarning: IProgress not found. Please update jupyter and ipywidgets. See https://ipywidgets.readthedocs.io/en/stable/user_install.html\n",
      "  from .autonotebook import tqdm as notebook_tqdm\n"
     ]
    }
   ],
   "source": [
    "from datasets import load_dataset\n",
    "import pandas as pd\n",
    "import matplotlib.pyplot as plt\n",
    "import warnings\n",
    "warnings.filterwarnings(\"ignore\")"
   ]
  },
  {
   "cell_type": "code",
   "execution_count": 2,
   "id": "af10254f-11ef-476d-962d-d4bedb85e739",
   "metadata": {},
   "outputs": [],
   "source": [
    "# ds1 = load_dataset(\"jordane95/msmarco-passage-corpus-with-query\")\n",
    "# ds2 = load_dataset(\"SetFit/insincere-questions\")\n",
    "ds3 = load_dataset(\"anon-betterbench/betterbench-b1-all-questions\")"
   ]
  },
  {
   "cell_type": "code",
   "execution_count": 17,
   "id": "bf3e8d6f-b947-4efb-820c-3be64477dd84",
   "metadata": {},
   "outputs": [],
   "source": [
    "df3 = ds3['train'].to_pandas()"
   ]
  },
  {
   "cell_type": "code",
   "execution_count": 18,
   "id": "9a4cba5a-c955-45ac-9c13-47b0ab7e4837",
   "metadata": {
    "scrolled": true
   },
   "outputs": [
    {
     "data": {
      "text/html": [
       "<div>\n",
       "<style scoped>\n",
       "    .dataframe tbody tr th:only-of-type {\n",
       "        vertical-align: middle;\n",
       "    }\n",
       "\n",
       "    .dataframe tbody tr th {\n",
       "        vertical-align: top;\n",
       "    }\n",
       "\n",
       "    .dataframe thead th {\n",
       "        text-align: right;\n",
       "    }\n",
       "</style>\n",
       "<table border=\"1\" class=\"dataframe\">\n",
       "  <thead>\n",
       "    <tr style=\"text-align: right;\">\n",
       "      <th></th>\n",
       "      <th>title</th>\n",
       "      <th>chunk_uuid</th>\n",
       "      <th>chunk_location_id</th>\n",
       "      <th>chunk_size</th>\n",
       "      <th>chunk</th>\n",
       "      <th>summary</th>\n",
       "      <th>document_type</th>\n",
       "      <th>document_name</th>\n",
       "      <th>unique_document_id</th>\n",
       "      <th>source_text</th>\n",
       "      <th>...</th>\n",
       "      <th>reasoning</th>\n",
       "      <th>kind</th>\n",
       "      <th>estimated_difficulty</th>\n",
       "      <th>generating_model</th>\n",
       "      <th>citation_match_statistics</th>\n",
       "      <th>question_identifier</th>\n",
       "      <th>previous_chunk_uuid</th>\n",
       "      <th>previous_chunk</th>\n",
       "      <th>next_chunk_uuid</th>\n",
       "      <th>next_chunk</th>\n",
       "    </tr>\n",
       "  </thead>\n",
       "  <tbody>\n",
       "    <tr>\n",
       "      <th>0</th>\n",
       "      <td>Three ways McKinsey is partnering to transform...</td>\n",
       "      <td>2199f6af-4f4f-46da-ab11-a5d164d3e92d</td>\n",
       "      <td>0</td>\n",
       "      <td>1354</td>\n",
       "      <td>September 27, 2024A projected 80 percent of si...</td>\n",
       "      <td>This document highlights McKinsey's efforts to...</td>\n",
       "      <td>corporate</td>\n",
       "      <td>mckinsey_blog_post</td>\n",
       "      <td>f3370f14-180d-4375-8255-7c41417a61c9</td>\n",
       "      <td># Three ways McKinsey is partnering to transfo...</td>\n",
       "      <td>...</td>\n",
       "      <td>The chunk describes the Mentu program as being...</td>\n",
       "      <td>analytical</td>\n",
       "      <td>3</td>\n",
       "      <td>gpt-4o-mini</td>\n",
       "      <td>{'match_ratio_mean': 1.0, 'match_ratio_median'...</td>\n",
       "      <td>6d19739f-9d9a-419a-bb36-00bfc9fe0c6d</td>\n",
       "      <td>None</td>\n",
       "      <td>No previous chunk, end of document.</td>\n",
       "      <td>89de7b59-4f68-486e-b800-ec9956b3cd8f</td>\n",
       "      <td>“Every mission is highly relevant, and student...</td>\n",
       "    </tr>\n",
       "    <tr>\n",
       "      <th>1</th>\n",
       "      <td>Three ways McKinsey is partnering to transform...</td>\n",
       "      <td>2199f6af-4f4f-46da-ab11-a5d164d3e92d</td>\n",
       "      <td>0</td>\n",
       "      <td>1354</td>\n",
       "      <td>September 27, 2024A projected 80 percent of si...</td>\n",
       "      <td>This document highlights McKinsey's efforts to...</td>\n",
       "      <td>corporate</td>\n",
       "      <td>mckinsey_blog_post</td>\n",
       "      <td>f3370f14-180d-4375-8255-7c41417a61c9</td>\n",
       "      <td># Three ways McKinsey is partnering to transfo...</td>\n",
       "      <td>...</td>\n",
       "      <td>The chunk explicitly states that the lack of r...</td>\n",
       "      <td>analytical</td>\n",
       "      <td>4</td>\n",
       "      <td>gpt-4o-mini</td>\n",
       "      <td>{'match_ratio_mean': 1.0, 'match_ratio_median'...</td>\n",
       "      <td>633b998e-1809-44cc-811a-0bc822cf4634</td>\n",
       "      <td>None</td>\n",
       "      <td>No previous chunk, end of document.</td>\n",
       "      <td>89de7b59-4f68-486e-b800-ec9956b3cd8f</td>\n",
       "      <td>“Every mission is highly relevant, and student...</td>\n",
       "    </tr>\n",
       "    <tr>\n",
       "      <th>2</th>\n",
       "      <td>Three ways McKinsey is partnering to transform...</td>\n",
       "      <td>2199f6af-4f4f-46da-ab11-a5d164d3e92d</td>\n",
       "      <td>0</td>\n",
       "      <td>1354</td>\n",
       "      <td>September 27, 2024A projected 80 percent of si...</td>\n",
       "      <td>This document highlights McKinsey's efforts to...</td>\n",
       "      <td>corporate</td>\n",
       "      <td>mckinsey_blog_post</td>\n",
       "      <td>f3370f14-180d-4375-8255-7c41417a61c9</td>\n",
       "      <td># Three ways McKinsey is partnering to transfo...</td>\n",
       "      <td>...</td>\n",
       "      <td>This question encourages the application of in...</td>\n",
       "      <td>application</td>\n",
       "      <td>4</td>\n",
       "      <td>gpt-4o-mini</td>\n",
       "      <td>{'match_ratio_mean': 1.0, 'match_ratio_median'...</td>\n",
       "      <td>2fd7aeaf-7034-49f2-aa2b-f5253165157b</td>\n",
       "      <td>None</td>\n",
       "      <td>No previous chunk, end of document.</td>\n",
       "      <td>89de7b59-4f68-486e-b800-ec9956b3cd8f</td>\n",
       "      <td>“Every mission is highly relevant, and student...</td>\n",
       "    </tr>\n",
       "    <tr>\n",
       "      <th>3</th>\n",
       "      <td>Three ways McKinsey is partnering to transform...</td>\n",
       "      <td>2199f6af-4f4f-46da-ab11-a5d164d3e92d</td>\n",
       "      <td>0</td>\n",
       "      <td>1354</td>\n",
       "      <td>September 27, 2024A projected 80 percent of si...</td>\n",
       "      <td>This document highlights McKinsey's efforts to...</td>\n",
       "      <td>corporate</td>\n",
       "      <td>mckinsey_blog_post</td>\n",
       "      <td>f3370f14-180d-4375-8255-7c41417a61c9</td>\n",
       "      <td># Three ways McKinsey is partnering to transfo...</td>\n",
       "      <td>...</td>\n",
       "      <td>This question encourages the exploration of va...</td>\n",
       "      <td>application</td>\n",
       "      <td>3</td>\n",
       "      <td>gpt-4o-mini</td>\n",
       "      <td>{'match_ratio_mean': 1.0, 'match_ratio_median'...</td>\n",
       "      <td>45af7741-6cda-4241-849b-0254c6fbc136</td>\n",
       "      <td>None</td>\n",
       "      <td>No previous chunk, end of document.</td>\n",
       "      <td>89de7b59-4f68-486e-b800-ec9956b3cd8f</td>\n",
       "      <td>“Every mission is highly relevant, and student...</td>\n",
       "    </tr>\n",
       "    <tr>\n",
       "      <th>4</th>\n",
       "      <td>Three ways McKinsey is partnering to transform...</td>\n",
       "      <td>2199f6af-4f4f-46da-ab11-a5d164d3e92d</td>\n",
       "      <td>0</td>\n",
       "      <td>1354</td>\n",
       "      <td>September 27, 2024A projected 80 percent of si...</td>\n",
       "      <td>This document highlights McKinsey's efforts to...</td>\n",
       "      <td>corporate</td>\n",
       "      <td>mckinsey_blog_post</td>\n",
       "      <td>f3370f14-180d-4375-8255-7c41417a61c9</td>\n",
       "      <td># Three ways McKinsey is partnering to transfo...</td>\n",
       "      <td>...</td>\n",
       "      <td>Understanding how AI is utilized in the Mentu ...</td>\n",
       "      <td>clarification</td>\n",
       "      <td>3</td>\n",
       "      <td>gpt-4o-mini</td>\n",
       "      <td>{'match_ratio_mean': 1.0, 'match_ratio_median'...</td>\n",
       "      <td>42e72de5-47f3-4cf7-a020-5857d64396a0</td>\n",
       "      <td>None</td>\n",
       "      <td>No previous chunk, end of document.</td>\n",
       "      <td>89de7b59-4f68-486e-b800-ec9956b3cd8f</td>\n",
       "      <td>“Every mission is highly relevant, and student...</td>\n",
       "    </tr>\n",
       "  </tbody>\n",
       "</table>\n",
       "<p>5 rows × 27 columns</p>\n",
       "</div>"
      ],
      "text/plain": [
       "                                               title  \\\n",
       "0  Three ways McKinsey is partnering to transform...   \n",
       "1  Three ways McKinsey is partnering to transform...   \n",
       "2  Three ways McKinsey is partnering to transform...   \n",
       "3  Three ways McKinsey is partnering to transform...   \n",
       "4  Three ways McKinsey is partnering to transform...   \n",
       "\n",
       "                             chunk_uuid  chunk_location_id  chunk_size  \\\n",
       "0  2199f6af-4f4f-46da-ab11-a5d164d3e92d                  0        1354   \n",
       "1  2199f6af-4f4f-46da-ab11-a5d164d3e92d                  0        1354   \n",
       "2  2199f6af-4f4f-46da-ab11-a5d164d3e92d                  0        1354   \n",
       "3  2199f6af-4f4f-46da-ab11-a5d164d3e92d                  0        1354   \n",
       "4  2199f6af-4f4f-46da-ab11-a5d164d3e92d                  0        1354   \n",
       "\n",
       "                                               chunk  \\\n",
       "0  September 27, 2024A projected 80 percent of si...   \n",
       "1  September 27, 2024A projected 80 percent of si...   \n",
       "2  September 27, 2024A projected 80 percent of si...   \n",
       "3  September 27, 2024A projected 80 percent of si...   \n",
       "4  September 27, 2024A projected 80 percent of si...   \n",
       "\n",
       "                                             summary document_type  \\\n",
       "0  This document highlights McKinsey's efforts to...     corporate   \n",
       "1  This document highlights McKinsey's efforts to...     corporate   \n",
       "2  This document highlights McKinsey's efforts to...     corporate   \n",
       "3  This document highlights McKinsey's efforts to...     corporate   \n",
       "4  This document highlights McKinsey's efforts to...     corporate   \n",
       "\n",
       "        document_name                    unique_document_id  \\\n",
       "0  mckinsey_blog_post  f3370f14-180d-4375-8255-7c41417a61c9   \n",
       "1  mckinsey_blog_post  f3370f14-180d-4375-8255-7c41417a61c9   \n",
       "2  mckinsey_blog_post  f3370f14-180d-4375-8255-7c41417a61c9   \n",
       "3  mckinsey_blog_post  f3370f14-180d-4375-8255-7c41417a61c9   \n",
       "4  mckinsey_blog_post  f3370f14-180d-4375-8255-7c41417a61c9   \n",
       "\n",
       "                                         source_text  ...  \\\n",
       "0  # Three ways McKinsey is partnering to transfo...  ...   \n",
       "1  # Three ways McKinsey is partnering to transfo...  ...   \n",
       "2  # Three ways McKinsey is partnering to transfo...  ...   \n",
       "3  # Three ways McKinsey is partnering to transfo...  ...   \n",
       "4  # Three ways McKinsey is partnering to transfo...  ...   \n",
       "\n",
       "                                           reasoning           kind  \\\n",
       "0  The chunk describes the Mentu program as being...     analytical   \n",
       "1  The chunk explicitly states that the lack of r...     analytical   \n",
       "2  This question encourages the application of in...    application   \n",
       "3  This question encourages the exploration of va...    application   \n",
       "4  Understanding how AI is utilized in the Mentu ...  clarification   \n",
       "\n",
       "  estimated_difficulty generating_model  \\\n",
       "0                    3      gpt-4o-mini   \n",
       "1                    4      gpt-4o-mini   \n",
       "2                    4      gpt-4o-mini   \n",
       "3                    3      gpt-4o-mini   \n",
       "4                    3      gpt-4o-mini   \n",
       "\n",
       "                           citation_match_statistics  \\\n",
       "0  {'match_ratio_mean': 1.0, 'match_ratio_median'...   \n",
       "1  {'match_ratio_mean': 1.0, 'match_ratio_median'...   \n",
       "2  {'match_ratio_mean': 1.0, 'match_ratio_median'...   \n",
       "3  {'match_ratio_mean': 1.0, 'match_ratio_median'...   \n",
       "4  {'match_ratio_mean': 1.0, 'match_ratio_median'...   \n",
       "\n",
       "                    question_identifier previous_chunk_uuid  \\\n",
       "0  6d19739f-9d9a-419a-bb36-00bfc9fe0c6d                None   \n",
       "1  633b998e-1809-44cc-811a-0bc822cf4634                None   \n",
       "2  2fd7aeaf-7034-49f2-aa2b-f5253165157b                None   \n",
       "3  45af7741-6cda-4241-849b-0254c6fbc136                None   \n",
       "4  42e72de5-47f3-4cf7-a020-5857d64396a0                None   \n",
       "\n",
       "                        previous_chunk                       next_chunk_uuid  \\\n",
       "0  No previous chunk, end of document.  89de7b59-4f68-486e-b800-ec9956b3cd8f   \n",
       "1  No previous chunk, end of document.  89de7b59-4f68-486e-b800-ec9956b3cd8f   \n",
       "2  No previous chunk, end of document.  89de7b59-4f68-486e-b800-ec9956b3cd8f   \n",
       "3  No previous chunk, end of document.  89de7b59-4f68-486e-b800-ec9956b3cd8f   \n",
       "4  No previous chunk, end of document.  89de7b59-4f68-486e-b800-ec9956b3cd8f   \n",
       "\n",
       "                                          next_chunk  \n",
       "0  “Every mission is highly relevant, and student...  \n",
       "1  “Every mission is highly relevant, and student...  \n",
       "2  “Every mission is highly relevant, and student...  \n",
       "3  “Every mission is highly relevant, and student...  \n",
       "4  “Every mission is highly relevant, and student...  \n",
       "\n",
       "[5 rows x 27 columns]"
      ]
     },
     "execution_count": 18,
     "metadata": {},
     "output_type": "execute_result"
    }
   ],
   "source": [
    "df3.head()"
   ]
  },
  {
   "cell_type": "code",
   "execution_count": 19,
   "id": "5319af97-ae03-4023-b9fd-1a0ca947c1c9",
   "metadata": {},
   "outputs": [],
   "source": [
    "df3 = df3[[\"title\",\"chunk\",\"document_type\",\"document_analysis\",\"chunk_analysis\",\n",
    "           \"potential_question_directions\",\"best_direction\",\"question\",\"answer\",\"kind\"]]\n",
    "df3 = df3[df3[\"kind\"] != \"true-false\"]\n",
    "df3.reset_index(inplace = True)\n",
    "df3.drop(\"index\",axis = 1,inplace = True)"
   ]
  },
  {
   "cell_type": "code",
   "execution_count": 20,
   "id": "2234268b-df7e-4da4-b353-abc48fc03e2e",
   "metadata": {
    "scrolled": true
   },
   "outputs": [
    {
     "data": {
      "text/html": [
       "<div>\n",
       "<style scoped>\n",
       "    .dataframe tbody tr th:only-of-type {\n",
       "        vertical-align: middle;\n",
       "    }\n",
       "\n",
       "    .dataframe tbody tr th {\n",
       "        vertical-align: top;\n",
       "    }\n",
       "\n",
       "    .dataframe thead th {\n",
       "        text-align: right;\n",
       "    }\n",
       "</style>\n",
       "<table border=\"1\" class=\"dataframe\">\n",
       "  <thead>\n",
       "    <tr style=\"text-align: right;\">\n",
       "      <th></th>\n",
       "      <th>title</th>\n",
       "      <th>chunk</th>\n",
       "      <th>document_type</th>\n",
       "      <th>document_analysis</th>\n",
       "      <th>chunk_analysis</th>\n",
       "      <th>potential_question_directions</th>\n",
       "      <th>best_direction</th>\n",
       "      <th>question</th>\n",
       "      <th>answer</th>\n",
       "      <th>kind</th>\n",
       "    </tr>\n",
       "  </thead>\n",
       "  <tbody>\n",
       "    <tr>\n",
       "      <th>0</th>\n",
       "      <td>Three ways McKinsey is partnering to transform...</td>\n",
       "      <td>September 27, 2024A projected 80 percent of si...</td>\n",
       "      <td>corporate</td>\n",
       "      <td>The document discusses McKinsey's initiatives ...</td>\n",
       "      <td>This chunk highlights the alarming statistic t...</td>\n",
       "      <td>[What are the implications of the statistic re...</td>\n",
       "      <td>The best question to ask is: 'How does the Men...</td>\n",
       "      <td>How does the Mentu program aim to engage stude...</td>\n",
       "      <td>The Mentu program aims to engage students by p...</td>\n",
       "      <td>analytical</td>\n",
       "    </tr>\n",
       "    <tr>\n",
       "      <th>1</th>\n",
       "      <td>Three ways McKinsey is partnering to transform...</td>\n",
       "      <td>September 27, 2024A projected 80 percent of si...</td>\n",
       "      <td>corporate</td>\n",
       "      <td>The document outlines McKinsey's strategic par...</td>\n",
       "      <td>The chunk presents a critical issue in Latin A...</td>\n",
       "      <td>[What challenges do students in Latin America ...</td>\n",
       "      <td>The best question to ask is: 'What potential l...</td>\n",
       "      <td>What potential long-term effects could the lac...</td>\n",
       "      <td>The lack of reading comprehension among sixth ...</td>\n",
       "      <td>analytical</td>\n",
       "    </tr>\n",
       "    <tr>\n",
       "      <th>2</th>\n",
       "      <td>Three ways McKinsey is partnering to transform...</td>\n",
       "      <td>September 27, 2024A projected 80 percent of si...</td>\n",
       "      <td>corporate</td>\n",
       "      <td>The document discusses McKinsey's initiatives ...</td>\n",
       "      <td>This chunk highlights the alarming statistic t...</td>\n",
       "      <td>[How could the Mentu program be adapted for us...</td>\n",
       "      <td>The best question to ask is: 'How can the succ...</td>\n",
       "      <td>How can the success of Mentu in Colombia infor...</td>\n",
       "      <td>The success of Mentu can inform educational st...</td>\n",
       "      <td>application</td>\n",
       "    </tr>\n",
       "    <tr>\n",
       "      <th>3</th>\n",
       "      <td>Three ways McKinsey is partnering to transform...</td>\n",
       "      <td>September 27, 2024A projected 80 percent of si...</td>\n",
       "      <td>corporate</td>\n",
       "      <td>The document discusses McKinsey's initiatives ...</td>\n",
       "      <td>This chunk highlights the alarming statistic t...</td>\n",
       "      <td>[How could the Mentu program be adapted for us...</td>\n",
       "      <td>The best question to ask is: 'What strategies ...</td>\n",
       "      <td>What strategies could be implemented to increa...</td>\n",
       "      <td>Strategies to increase student engagement in p...</td>\n",
       "      <td>application</td>\n",
       "    </tr>\n",
       "    <tr>\n",
       "      <th>4</th>\n",
       "      <td>Three ways McKinsey is partnering to transform...</td>\n",
       "      <td>September 27, 2024A projected 80 percent of si...</td>\n",
       "      <td>corporate</td>\n",
       "      <td>The document discusses McKinsey's initiatives ...</td>\n",
       "      <td>This chunk highlights the alarming statistic t...</td>\n",
       "      <td>[What specific skills does the Mentu program a...</td>\n",
       "      <td>The best question to ask is: 'How does the Men...</td>\n",
       "      <td>How does the Mentu program utilize AI in teach...</td>\n",
       "      <td>The Mentu program uses AI to create an engagin...</td>\n",
       "      <td>clarification</td>\n",
       "    </tr>\n",
       "  </tbody>\n",
       "</table>\n",
       "</div>"
      ],
      "text/plain": [
       "                                               title  \\\n",
       "0  Three ways McKinsey is partnering to transform...   \n",
       "1  Three ways McKinsey is partnering to transform...   \n",
       "2  Three ways McKinsey is partnering to transform...   \n",
       "3  Three ways McKinsey is partnering to transform...   \n",
       "4  Three ways McKinsey is partnering to transform...   \n",
       "\n",
       "                                               chunk document_type  \\\n",
       "0  September 27, 2024A projected 80 percent of si...     corporate   \n",
       "1  September 27, 2024A projected 80 percent of si...     corporate   \n",
       "2  September 27, 2024A projected 80 percent of si...     corporate   \n",
       "3  September 27, 2024A projected 80 percent of si...     corporate   \n",
       "4  September 27, 2024A projected 80 percent of si...     corporate   \n",
       "\n",
       "                                   document_analysis  \\\n",
       "0  The document discusses McKinsey's initiatives ...   \n",
       "1  The document outlines McKinsey's strategic par...   \n",
       "2  The document discusses McKinsey's initiatives ...   \n",
       "3  The document discusses McKinsey's initiatives ...   \n",
       "4  The document discusses McKinsey's initiatives ...   \n",
       "\n",
       "                                      chunk_analysis  \\\n",
       "0  This chunk highlights the alarming statistic t...   \n",
       "1  The chunk presents a critical issue in Latin A...   \n",
       "2  This chunk highlights the alarming statistic t...   \n",
       "3  This chunk highlights the alarming statistic t...   \n",
       "4  This chunk highlights the alarming statistic t...   \n",
       "\n",
       "                       potential_question_directions  \\\n",
       "0  [What are the implications of the statistic re...   \n",
       "1  [What challenges do students in Latin America ...   \n",
       "2  [How could the Mentu program be adapted for us...   \n",
       "3  [How could the Mentu program be adapted for us...   \n",
       "4  [What specific skills does the Mentu program a...   \n",
       "\n",
       "                                      best_direction  \\\n",
       "0  The best question to ask is: 'How does the Men...   \n",
       "1  The best question to ask is: 'What potential l...   \n",
       "2  The best question to ask is: 'How can the succ...   \n",
       "3  The best question to ask is: 'What strategies ...   \n",
       "4  The best question to ask is: 'How does the Men...   \n",
       "\n",
       "                                            question  \\\n",
       "0  How does the Mentu program aim to engage stude...   \n",
       "1  What potential long-term effects could the lac...   \n",
       "2  How can the success of Mentu in Colombia infor...   \n",
       "3  What strategies could be implemented to increa...   \n",
       "4  How does the Mentu program utilize AI in teach...   \n",
       "\n",
       "                                              answer           kind  \n",
       "0  The Mentu program aims to engage students by p...     analytical  \n",
       "1  The lack of reading comprehension among sixth ...     analytical  \n",
       "2  The success of Mentu can inform educational st...    application  \n",
       "3  Strategies to increase student engagement in p...    application  \n",
       "4  The Mentu program uses AI to create an engagin...  clarification  "
      ]
     },
     "execution_count": 20,
     "metadata": {},
     "output_type": "execute_result"
    }
   ],
   "source": [
    "df3.head()"
   ]
  },
  {
   "cell_type": "code",
   "execution_count": 21,
   "id": "fdb4973b-d71d-4ed5-9943-4e90dfe4f5db",
   "metadata": {},
   "outputs": [
    {
     "data": {
      "text/html": [
       "<div>\n",
       "<style scoped>\n",
       "    .dataframe tbody tr th:only-of-type {\n",
       "        vertical-align: middle;\n",
       "    }\n",
       "\n",
       "    .dataframe tbody tr th {\n",
       "        vertical-align: top;\n",
       "    }\n",
       "\n",
       "    .dataframe thead th {\n",
       "        text-align: right;\n",
       "    }\n",
       "</style>\n",
       "<table border=\"1\" class=\"dataframe\">\n",
       "  <thead>\n",
       "    <tr style=\"text-align: right;\">\n",
       "      <th></th>\n",
       "      <th>title</th>\n",
       "      <th>chunk</th>\n",
       "      <th>document_analysis</th>\n",
       "      <th>chunk_analysis</th>\n",
       "      <th>potential_question_directions</th>\n",
       "      <th>best_direction</th>\n",
       "      <th>question</th>\n",
       "      <th>answer</th>\n",
       "      <th>kind</th>\n",
       "    </tr>\n",
       "    <tr>\n",
       "      <th>document_type</th>\n",
       "      <th></th>\n",
       "      <th></th>\n",
       "      <th></th>\n",
       "      <th></th>\n",
       "      <th></th>\n",
       "      <th></th>\n",
       "      <th></th>\n",
       "      <th></th>\n",
       "      <th></th>\n",
       "    </tr>\n",
       "  </thead>\n",
       "  <tbody>\n",
       "    <tr>\n",
       "      <th>corporate</th>\n",
       "      <td>21245</td>\n",
       "      <td>21245</td>\n",
       "      <td>21245</td>\n",
       "      <td>21245</td>\n",
       "      <td>21245</td>\n",
       "      <td>21245</td>\n",
       "      <td>21245</td>\n",
       "      <td>21245</td>\n",
       "      <td>21245</td>\n",
       "    </tr>\n",
       "    <tr>\n",
       "      <th>financial</th>\n",
       "      <td>5141</td>\n",
       "      <td>5141</td>\n",
       "      <td>5141</td>\n",
       "      <td>5141</td>\n",
       "      <td>5141</td>\n",
       "      <td>5141</td>\n",
       "      <td>5141</td>\n",
       "      <td>5141</td>\n",
       "      <td>5141</td>\n",
       "    </tr>\n",
       "    <tr>\n",
       "      <th>government</th>\n",
       "      <td>96246</td>\n",
       "      <td>96246</td>\n",
       "      <td>96246</td>\n",
       "      <td>96246</td>\n",
       "      <td>96246</td>\n",
       "      <td>96246</td>\n",
       "      <td>96246</td>\n",
       "      <td>96246</td>\n",
       "      <td>96246</td>\n",
       "    </tr>\n",
       "    <tr>\n",
       "      <th>health</th>\n",
       "      <td>35368</td>\n",
       "      <td>35368</td>\n",
       "      <td>35368</td>\n",
       "      <td>35368</td>\n",
       "      <td>35368</td>\n",
       "      <td>35368</td>\n",
       "      <td>35368</td>\n",
       "      <td>35368</td>\n",
       "      <td>35368</td>\n",
       "    </tr>\n",
       "    <tr>\n",
       "      <th>legal</th>\n",
       "      <td>56152</td>\n",
       "      <td>56152</td>\n",
       "      <td>56152</td>\n",
       "      <td>56152</td>\n",
       "      <td>56152</td>\n",
       "      <td>56152</td>\n",
       "      <td>56152</td>\n",
       "      <td>56152</td>\n",
       "      <td>56152</td>\n",
       "    </tr>\n",
       "    <tr>\n",
       "      <th>misc</th>\n",
       "      <td>19469</td>\n",
       "      <td>19469</td>\n",
       "      <td>19469</td>\n",
       "      <td>19469</td>\n",
       "      <td>19469</td>\n",
       "      <td>19469</td>\n",
       "      <td>19469</td>\n",
       "      <td>19469</td>\n",
       "      <td>19469</td>\n",
       "    </tr>\n",
       "    <tr>\n",
       "      <th>news</th>\n",
       "      <td>4976</td>\n",
       "      <td>4976</td>\n",
       "      <td>4976</td>\n",
       "      <td>4976</td>\n",
       "      <td>4976</td>\n",
       "      <td>4976</td>\n",
       "      <td>4976</td>\n",
       "      <td>4976</td>\n",
       "      <td>4976</td>\n",
       "    </tr>\n",
       "    <tr>\n",
       "      <th>research</th>\n",
       "      <td>55936</td>\n",
       "      <td>55936</td>\n",
       "      <td>55936</td>\n",
       "      <td>55936</td>\n",
       "      <td>55936</td>\n",
       "      <td>55936</td>\n",
       "      <td>55936</td>\n",
       "      <td>55936</td>\n",
       "      <td>55936</td>\n",
       "    </tr>\n",
       "  </tbody>\n",
       "</table>\n",
       "</div>"
      ],
      "text/plain": [
       "               title  chunk  document_analysis  chunk_analysis  \\\n",
       "document_type                                                    \n",
       "corporate      21245  21245              21245           21245   \n",
       "financial       5141   5141               5141            5141   \n",
       "government     96246  96246              96246           96246   \n",
       "health         35368  35368              35368           35368   \n",
       "legal          56152  56152              56152           56152   \n",
       "misc           19469  19469              19469           19469   \n",
       "news            4976   4976               4976            4976   \n",
       "research       55936  55936              55936           55936   \n",
       "\n",
       "               potential_question_directions  best_direction  question  \\\n",
       "document_type                                                            \n",
       "corporate                              21245           21245     21245   \n",
       "financial                               5141            5141      5141   \n",
       "government                             96246           96246     96246   \n",
       "health                                 35368           35368     35368   \n",
       "legal                                  56152           56152     56152   \n",
       "misc                                   19469           19469     19469   \n",
       "news                                    4976            4976      4976   \n",
       "research                               55936           55936     55936   \n",
       "\n",
       "               answer   kind  \n",
       "document_type                 \n",
       "corporate       21245  21245  \n",
       "financial        5141   5141  \n",
       "government      96246  96246  \n",
       "health          35368  35368  \n",
       "legal           56152  56152  \n",
       "misc            19469  19469  \n",
       "news             4976   4976  \n",
       "research        55936  55936  "
      ]
     },
     "execution_count": 21,
     "metadata": {},
     "output_type": "execute_result"
    }
   ],
   "source": [
    "df3.groupby(\"document_type\").count()"
   ]
  },
  {
   "cell_type": "code",
   "execution_count": 22,
   "id": "d998bf57-3c4f-42ad-9253-82803e221efd",
   "metadata": {},
   "outputs": [],
   "source": [
    "#analytical application clarification conceptual counterfactual edge case factual false premise open-ended\ttrue-false"
   ]
  },
  {
   "cell_type": "code",
   "execution_count": 23,
   "id": "34505c35-e2e2-4fec-ba30-ddff869c9f4e",
   "metadata": {},
   "outputs": [
    {
     "data": {
      "text/plain": [
       "Series([], Name: potential_question_directions, dtype: object)"
      ]
     },
     "execution_count": 23,
     "metadata": {},
     "output_type": "execute_result"
    }
   ],
   "source": [
    "#Removed since this kind doesnt contains questions.\n",
    "df3[df3[\"kind\"] == \"true-false\"][\"potential_question_directions\"]"
   ]
  },
  {
   "cell_type": "code",
   "execution_count": 24,
   "id": "0bcd025e-0a41-4d3b-8120-ad1f379999f3",
   "metadata": {},
   "outputs": [],
   "source": [
    "import re\n",
    "def clean_latex(text):\n",
    "    # Remove LaTeX commands like {\\\\displaystyle}, {\\\\text{}}, etc.\n",
    "    cleaned_text = re.sub(r'\\\\displaystyle|\\\\text\\{.*?\\}', '', text)\n",
    "    \n",
    "    # Remove any LaTeX curly braces and unnecessary whitespaces\n",
    "    cleaned_text = re.sub(r'\\\\[a-z]+|{|}', '', cleaned_text)\n",
    "    \n",
    "    # Replace LaTeX-specific representations like \\\\dots with their equivalent\n",
    "    cleaned_text = re.sub(r'\\\\dots', '...', cleaned_text)\n",
    "    \n",
    "    # Remove multiple spaces introduced by LaTeX removal\n",
    "    cleaned_text = re.sub(r'\\s+', ' ', cleaned_text).strip()\n",
    "    \n",
    "    return cleaned_text"
   ]
  },
  {
   "cell_type": "code",
   "execution_count": 25,
   "id": "2189554b-b5ac-4cae-8e75-4faa8e9108b4",
   "metadata": {},
   "outputs": [],
   "source": [
    "# df3[\"chunk\"] = [clean_latex(i) for i in list(df3[\"chunk\"])]"
   ]
  },
  {
   "cell_type": "code",
   "execution_count": 26,
   "id": "ea3e26ca-2cdc-4c49-8870-211827f78c7c",
   "metadata": {},
   "outputs": [],
   "source": [
    "temp = df3[df3[\"document_type\"] == \"research\"]\n",
    "temp.reset_index(inplace=True)"
   ]
  },
  {
   "cell_type": "code",
   "execution_count": 27,
   "id": "034966b4-3af0-4367-979d-46569ea10ba4",
   "metadata": {},
   "outputs": [
    {
     "name": "stdout",
     "output_type": "stream",
     "text": [
      "% Template for Blind SLT-2024 paper; to be used with: % spconf.sty - ICASSP/ICIP LaTeX style file, and % IEEEbib.bst - IEEE bibliography style file. % -------------------------------------------------------------------------- % Source file for this paper's figures are here: https://docs.google.com/presentation/d/1z9X-JeSFIzI1VpzOLs2WTltX1I03vqQiLkUnE8YEBFE/edit?usp=sharing \\documentclass{article} \\usepackage{spconf,amsmath,graphicx} \\usepackage{amsfonts} \\usepackage{verbatim, tcolorbox} \\usepackage{multicol} \\usepackage{multirow} \\usepackage{graphicx} \\usepackage{hyperref} % Example definitions.\n",
      "\n",
      "[]\n",
      "application\n",
      "\n",
      "% -------------------- \\def\\x{{\\mathbf x}} \\def\\L{{\\cal L}} \\newcommand{\\dilek}[1]{\\textcolor{red}{[\\textbf{Dilek:} #1]}} \\newcommand{\\suvodip}[1]{\\textcolor{green}{[\\textbf{SD:} #1]}} \\newcommand{\\jenny}[1]{\\textcolor{blue} {[\\textbf{Jenny:} #1]}} \\title{Confidence Estimation for LLM-Based Dialogue State Tracking} \\name{Yi-Jyun Sun, Suvodip Dey, Dilek Hakkani-Tür, Gokhan Tur } \\address{University of Illinois Urbana-Champaign} \\begin{document} \\ninept % \\maketitle % \\begin{abstract} Estimation of a model's confidence on its outputs is critical for Conversational AI systems based on large language models (LLMs), especially for reducing hallucination and preventing over-reliance.\n",
      "\n",
      "['How can confidence estimation methods be applied to improve the performance of a specific dialogue system?'\n",
      " 'What implications does the reduction of hallucination in LLMs have for user trust in conversational AI?'\n",
      " 'In what ways could over-reliance on model outputs affect the outcomes of a task-oriented dialogue system?'\n",
      " 'How might the findings on confidence score calibration influence future research in dialogue systems?']\n",
      "application\n",
      "\n",
      "To mitigate this problem, recent studies \\cite{xiong2023can, tian2023just, kuhn2023semantic, mielke2022reducing} have focused on measuring model uncertainty to quantify the reliability of their outputs. Reliability in dialogue systems refers to the system’s ability to consistently understand user inputs, retrieve relevant results or information when needed, generate appropriate responses, and handle uncertainties or errors effectively. A promising approach to improving reliability is through the estimation of confidence scores, which aim to provide a quantitative measure of the system’s uncertainty in its outputs. By incorporating confidence scores, dialogue systems can better manage uncertainties, identify potential errors, and make more informed decisions. For instance, a system with high confidence in its response can proceed smoothly, while one with low confidence can seek clarification from the user or escalate the query to a human operator. This dynamic adjustment based on confidence scores not only enhances the system’s reliability but also improves its overall performance and user satisfaction. \\begin{figure}[t] \\includegraphics[width=0.95\\linewidth]{TODS-Approach.png} \\caption{Example interaction in our TODS approach, showing DST and its outputs with confidence scores.}\n",
      "\n",
      "['What is the significance of measuring model uncertainty in dialogue systems?'\n",
      " 'How do confidence scores improve the reliability of dialogue systems?'\n",
      " 'What does reliability in dialogue systems entail?'\n",
      " 'What actions can a dialogue system take based on its confidence score?']\n",
      "factual\n",
      "\n",
      "By multiplying these two confidence scores, we obtain a pair confidence score that reflects the confidence in the accuracy of both the slot and its corresponding value. In our preliminary experimentation, we tested whether using just the score of the slot or the value may result in better performance for the slot-value pair and converged to using the multiplied confidence in the equation above. From the task completion perspective, both the slot and the value should be accurate for retrieving accurate information from knowledge sources.\\\\ \\textit{B. Scores derived using The Surface Form:} This is a complementary approach, showing the logits in a non-generative fashion, so no beam search is necessary. We just compute the score of each given token in a response string using the LLM: \\begin{equation} \\mathrm{Conf}_{i}^{(\\text{LLM})} = \\log P(i|C_{<i};\\theta) \\end{equation} where $\\mathrm{Conf}_{i}^{(\\text{LLM})}$ denotes the confidence score of token $i$ with context $C_{<i}$, using the LLM with weights $\\theta$ following the Llama/GPT-style architecture~\\cite{radford2019language}.\n",
      "\n",
      "['How does multiplying the confidence scores of a slot and its value improve the accuracy of DST?'\n",
      " 'What are the advantages of using the surface form method for confidence score estimation?'\n",
      " 'How does the surface form method differ from the softmax-based approach in terms of computational requirements?'\n",
      " 'Why is it important to ensure both the slot and value are accurate for task completion in DST?']\n",
      "analytical\n",
      "\n",
      "This shows that handling uncertainty using confidence scores can boost the performance of zero-shot DST prediction. On the other hand, for the few-shot scenario, GPT-4 outperforms the Llama3 models. % \\suvodip{add explanation ....}. However, we can observe two additional things here. Firstly, The performance of the fine-tuned Llama3 is not far behind GPT-4, which is encouraging. Secondly, it demonstrates a superior confidence score, explained in detail in Section~\\ref{sec:confidence}. Additionally, experiments using the Mistral-7B model, detailed in Appendix Section G, show similar trends, further validating the applicability of our methods to different open-weight models. % with no in-context examples in the instruction input to the model. This performance surpasses that of the GPT4 with in-context examples sampled from the training dataset. % the JGA score with Llama-3 is about 0.14, whereas GPT-4 results in JGA of about 0.35 using a zero-shot approach. Fine-tuning Llama-3 using the MultiWOZ training set results in the highest JGA of 0.446 with no in-context examples in the instruction input to the model.\n",
      "\n",
      "['What would happen if the confidence scores were completely unreliable?'\n",
      " 'How would the performance change if the fine-tuned Llama3 model was used in a completely different domain?'\n",
      " 'What if the number of few-shot examples was increased significantly?'\n",
      " 'How would the results differ if the models were not fine-tuned at all?'\n",
      " 'What if the confidence scores were perfect but the DST predictions were poor?']\n",
      "edge case\n",
      "\n",
      "We report results both with and without controls. These controls include the age, gender, and educational level of the head of the household, the household size, an index of household assets, an index of livestock assets, and cloud cover for the week. When possible, we use Liang-Zeger cluster-robust standard errors at the unit of randomization: the household. This corrects for heteroskedasticity and serial correlation when we have multiple observations for a household. However, when the outcome is aggregated to a single value for the entire six week period, we only have one observation per household. In these cases, we implement Eicker-Huber-White robust standard errors to account for heteroskedasticity, since serial correlation, by construction, is no longer present. \\section{Results} We present results on the intermediate outcome of stove adoption, followed by results on our main outcomes of interest: dietary composition, cooking frequency, and fuel use. Before considering specific outcomes of interest, it is important to understand how the treated respond to their treatment status. We do this by estimating the ATE of being given a solar stove on actually using a solar stove to preapre a dish. While being assigned a stove is random, the choice to use the stove to prepare a given dish is not.\\footnote{As a robustness check, we use the difference between assignment and use to estimate the local average treatment effect (LATE) in Online Appendix~\\ref{app:robust}.}\n",
      "\n",
      "['What statistical methods are employed to account for variability in the data?'\n",
      " 'How do the controls used in the analysis impact the interpretation of the results?'\n",
      " \"What does the choice of using ATE and LATE indicate about the study's design?\"\n",
      " 'In what ways does the methodology ensure the reliability of the findings regarding stove usage?'\n",
      " \"How does the random assignment of solar stoves influence the study's conclusions?\"]\n",
      "analytical\n",
      "\n",
      "Some obvious questions arise: What sets the speed limit on human behavior? And what can that teach us about the neural mechanisms of cognition? Before attempting an answer, we should agree on the magnitude of the question, which sets an expectation for the magnitude of the answer. We need to explain \\emph{a factor of a million} (conservatively), namely the ratio between peripheral information processing and the overall throughput of the brain. Numerically speaking, this may be the largest unexplained number in brain science. This order of magnitude sets a filter for hypothetical solutions. Suppose, for example, that a particular hypothesis explains why people process information two times faster in one task condition than in another. That might be enough for a paper in a prominent journal, but the tiny effect size doesn't even make a dent in the paradox. Obviously we should move on and read a different article. Next, we should consider whether one can simply deny the paradox. For many people, the claim that human mental activity is rather slow touches a sensitive nerve. Here we consider some of the objections that have been raised. \\subsection{What about photographic memory?} It is a popular belief that some people can memorize an entire page of text from a short glimpse, and then recall it as though they were reading an internal photograph.\n",
      "\n",
      "['Is it true that humans can process information at speeds exceeding 10 bits per second?'\n",
      " 'Does the document claim that photographic memory is a well-supported phenomenon?'\n",
      " 'Is the speed limit on human behavior set by the number of neurons in the brain?'\n",
      " 'Can the paradox of slow behavior be easily denied according to the document?']\n",
      "false premise\n",
      "\n",
      "This is especially critical for the dialogues spanning multiple domains, such as first finding an attraction place followed by booking a taxi to go there. We explored multiple prompt designs, varying along two dimensions: zero-shot vs. few-shot and predicting all slots at once vs. one slot at a time. Few-shot prompts include DST-related examples, while asking for all slots allows a single LLM call, compared to multiple calls for individual slots. These four prompt variants are detailed in the supplementary material. Like previous work, we instructed the LLM to output in JSON format, using in-context examples. A simplified slot-filling prompt for a single slot is shown below. \\scriptsize \\begin{verbatim} In the domain of ``train'', extract ``departure'' slot which specifies the departure station Do not capture any other values. If not specified, do not respond to that slot-value. ---------------------Example: context: Customer: I need to get a train from cambridge to Norwich. belief state: {departure: cambridge} \\end{verbatim} \\normalsize \\subsection{Confidence Score Estimation} In this study, we experiment with both open- and closed-weight models.\n",
      "\n",
      "['What would happen if all prompts were designed in a zero-shot manner?'\n",
      " 'How would the system perform if all slots were predicted at once?'\n",
      " 'What if the LLM was instructed to output in a non-JSON format?']\n",
      "edge case\n",
      "\n",
      "For all other outcomes (primary nutritional outcomes; secondary fuel outcomes), we estimate the intent-to-treat (ITT) effects with the following model: \\begin{equation} Y_{ht} = \\alpha + \\beta T_{h} + X_{h}' \\gamma +\\mu_{v} + \\phi_{g} + \\epsilon_{ht}. \\label{eq:itt} \\end{equation} \\noindent Here $Y_{ht}$ represents the outcome for household \\textit{h} during time \\textit{t}. All other variables are as defined in Equation~\\eqref{eq:ate}. Each of the models above is estimated at a variety of levels of aggregation. The primary unit of observation in the analysis is a dish, which is composed of a variety of ingredients and is cooked using a single heat source: solar stove or a type of biomass fuel.\\footnote{See the food diary in Online Appendix \\ref{sec:app_b} for more information on the structure of the data.} We can then aggregate dishes into meals (breakfast, lunch, or dinner), and meals into days, days into weeks, and weeks into a single aggregate value for the household for the entire six weeks.\n",
      "\n",
      "['What if the study had controlled for additional variables, such as the type of food being cooked or the number of people in the household?'\n",
      " 'How might the results have differed if the study had used a different statistical model, such as a generalized linear mixed model?'\n",
      " 'What would be the implications if the solar stove adoption rate had been higher or lower than the observed 40%?']\n",
      "counterfactual\n",
      "\n",
      "We measure cooking frequency as either the number of dishes prepared in a meal or the number of meals skipped by a household. For each of our measures, we present estimates with and without controls by day, week, and overall. The results in Table~\\ref{tab:freq_out} show that households assigned a solar stove did not significantly change their cooking frequency. In general, the coefficients are in the direction we would expect; coefficients on the number of dishes prepared are positive and coefficients on the number of meals skipped are negative. This suggests that households are preparing more dishes at each meal and skipping fewer meals. On average, households in the control prepare about five dishes a day. Households with solar stoves prepare 0.1 more dishes or about two percent more dishes a day. Over the length of the experiment treatment households only prepare three more dishes than control households. More economically and nutritionally meaningful effects are present for meals skipped. Treatment households skip about one less meal than control households, who skip on average 26 meals during the 42 days of the study. It is more difficult to interpret the null findings for cooking frequency than the null results for dietary composition. Given that solar stoves provide another method of cooking that can augment cooking with fuel, and that using the stove is free of monetary costs, one would expect an increase in cooking frequency, particularly is households are energy stacking.\n",
      "\n",
      "['What would happen if the study was conducted during a non-harvest season?'\n",
      " 'How might the results differ if the intervention was synchronized with the agricultural planting season?'\n",
      " 'What if the study was extended to a longer period, say a year, instead of six weeks?']\n",
      "edge case\n",
      "\n"
     ]
    }
   ],
   "source": [
    "random_num = [1,20,100,500,1000,2000,5000,10000,20000,21000]\n",
    "for i in random_num:\n",
    "    print(temp[\"chunk\"][i])\n",
    "    print()\n",
    "    print(temp[\"potential_question_directions\"][i])\n",
    "    print(temp[\"kind\"][i])\n",
    "    print()"
   ]
  },
  {
   "cell_type": "code",
   "execution_count": 32,
   "id": "cdf7cd60-cae6-480e-8bd4-de19c272c747",
   "metadata": {},
   "outputs": [
    {
     "name": "stderr",
     "output_type": "stream",
     "text": [
      "  6%|▌         | 16474/294533 [00:19<05:10, 894.24it/s] Token indices sequence length is longer than the specified maximum sequence length for this model (1412 > 1024). Running this sequence through the model will result in indexing errors\n",
      "100%|██████████| 294533/294533 [05:46<00:00, 850.58it/s] \n"
     ]
    }
   ],
   "source": [
    "from transformers import BartForConditionalGeneration, BartTokenizer, TrainingArguments\n",
    "from tqdm import tqdm\n",
    "tokenizer = BartTokenizer.from_pretrained('facebook/bart-large')\n",
    "tokenizedLengthList = []\n",
    "for chunk in tqdm(list(df3[\"chunk\"])):\n",
    "    input_tokenized = tokenizer(chunk,return_tensors='pt')\n",
    "    tokenizedLength = len(input_tokenized[\"input_ids\"][0])\n",
    "    tokenizedLengthList.append(tokenizedLength)"
   ]
  },
  {
   "cell_type": "code",
   "execution_count": 52,
   "id": "0983aa9c-37d2-433a-b531-fadb4491fd15",
   "metadata": {
    "scrolled": true
   },
   "outputs": [
    {
     "data": {
      "text/plain": [
       "[<matplotlib.lines.Line2D at 0x1e763cb6910>]"
      ]
     },
     "execution_count": 52,
     "metadata": {},
     "output_type": "execute_result"
    },
    {
     "data": {
      "image/png": "[encoded data removed]",
      "text/plain": [
       "<Figure size 640x480 with 1 Axes>"
      ]
     },
     "metadata": {},
     "output_type": "display_data"
    }
   ],
   "source": [
    "plt.plot(tokenizedLengthList)"
   ]
  },
  {
   "cell_type": "code",
   "execution_count": 50,
   "id": "815493f7-93c1-4ac6-8efc-91ffe66b9500",
   "metadata": {},
   "outputs": [],
   "source": [
    "df3[\"chunkTokenLength\"] = tokenizedLengthList"
   ]
  },
  {
   "cell_type": "code",
   "execution_count": 56,
   "id": "ba3b7e0a-081e-414a-9aaa-13fba6f013be",
   "metadata": {},
   "outputs": [
    {
     "name": "stderr",
     "output_type": "stream",
     "text": [
      "100%|██████████| 294533/294533 [01:56<00:00, 2529.97it/s]\n"
     ]
    }
   ],
   "source": [
    "tokenizedLengthList = []\n",
    "for question in tqdm(list(df3[\"potential_question_directions\"])):\n",
    "    input_tokenized = tokenizer(str(question),return_tensors='pt')\n",
    "    tokenizedLength = len(input_tokenized[\"input_ids\"][0])\n",
    "    tokenizedLengthList.append(tokenizedLength)"
   ]
  },
  {
   "cell_type": "code",
   "execution_count": 57,
   "id": "5d14c54f-9971-4734-b9a2-26b3809fe2cc",
   "metadata": {
    "scrolled": true
   },
   "outputs": [
    {
     "data": {
      "text/plain": [
       "[<matplotlib.lines.Line2D at 0x1e764157370>]"
      ]
     },
     "execution_count": 57,
     "metadata": {},
     "output_type": "execute_result"
    },
    {
     "data": {
      "image/png": "[encoded data removed]",
      "text/plain": [
       "<Figure size 640x480 with 1 Axes>"
      ]
     },
     "metadata": {},
     "output_type": "display_data"
    }
   ],
   "source": [
    "plt.plot(tokenizedLengthList)"
   ]
  },
  {
   "cell_type": "code",
   "execution_count": 58,
   "id": "7d5b96c8-39da-428d-94c3-9a133767a8e6",
   "metadata": {},
   "outputs": [],
   "source": [
    "df3[\"questionTokenLength\"] = tokenizedLengthList"
   ]
  },
  {
   "cell_type": "code",
   "execution_count": 61,
   "id": "0f5ad0ca-9c6b-4575-acd2-7db5fc456291",
   "metadata": {},
   "outputs": [],
   "source": [
    "df3 = df3[df3[\"questionTokenLength\"]<220]"
   ]
  },
  {
   "cell_type": "code",
   "execution_count": 63,
   "id": "c3d2ad2e-74da-49d3-b161-847af4a61193",
   "metadata": {},
   "outputs": [],
   "source": [
    "df3 = df3[df3[\"chunkTokenLength\"] < 1000]"
   ]
  },
  {
   "cell_type": "code",
   "execution_count": 65,
   "id": "4ef299e3-cb44-48d6-ac1a-7c5516ddaec3",
   "metadata": {},
   "outputs": [],
   "source": [
    "df3.reset_index(inplace=True)"
   ]
  },
  {
   "cell_type": "code",
   "execution_count": 76,
   "id": "847edb6f-c8fd-4c0b-8a12-32c1dff02cd4",
   "metadata": {},
   "outputs": [
    {
     "name": "stderr",
     "output_type": "stream",
     "text": [
      "C:\\Users\\Akshay\\AppData\\Local\\Temp\\ipykernel_7612\\766189919.py:3: SettingWithCopyWarning: \n",
      "A value is trying to be set on a copy of a slice from a DataFrame\n",
      "\n",
      "See the caveats in the documentation: https://pandas.pydata.org/pandas-docs/stable/user_guide/indexing.html#returning-a-view-versus-a-copy\n",
      "  df3.drop(\"index\",axis = 1,inplace = True)\n"
     ]
    }
   ],
   "source": [
    "df3.sample(frac = 1)\n",
    "df3.reset_index(inplace=True)\n",
    "df3.drop(\"index\",axis = 1,inplace = True)"
   ]
  },
  {
   "cell_type": "code",
   "execution_count": null,
   "id": "8a24d434-1675-4cfa-9de9-d3c5cfcaa64a",
   "metadata": {},
   "outputs": [],
   "source": []
  },
  {
   "cell_type": "code",
   "execution_count": 78,
   "id": "39daea60-aa52-4344-88e2-6e1e6cbf4b63",
   "metadata": {},
   "outputs": [],
   "source": [
    "df3.to_csv(\"../Data/CleanedDatasets/QuestionGenerator.csv\")"
   ]
  },
  {
   "cell_type": "code",
   "execution_count": 2,
   "id": "63576171-a744-49a1-8d7b-c50384febcec",
   "metadata": {},
   "outputs": [],
   "source": [
    "df3 = pd.read_csv(\"../Data/CleanedDatasets/QuestionGenerator.csv\")"
   ]
  },
  {
   "cell_type": "code",
   "execution_count": 3,
   "id": "33de1d0d-1007-4a1e-92b7-803f42f85123",
   "metadata": {},
   "outputs": [],
   "source": [
    "from sklearn.model_selection import train_test_split\n",
    "X_train, X_test, y_train, y_test = train_test_split(df3[\"chunk\"],df3[\"potential_question_directions\"], test_size=0.1, random_state=42)\n",
    "X_test, X_valid, y_test, y_valid = train_test_split(X_test,y_test, test_size=0.5, random_state=42)"
   ]
  },
  {
   "cell_type": "code",
   "execution_count": 4,
   "id": "c23fe3e2-ed68-41e3-83b9-080c3597d7c8",
   "metadata": {},
   "outputs": [],
   "source": [
    "from transformers import BartForConditionalGeneration, BartTokenizer\n",
    "import torch\n",
    "device = torch.device('cuda' if torch.cuda.is_available() else 'cpu')\n",
    "model_name = '../Saved_Models/QuestionGenerator/fine-tuned-bert-sentiment_{}'.format(\"2024_11_18_1\")\n",
    "tokenizer = BartTokenizer.from_pretrained(model_name)\n",
    "model = BartForConditionalGeneration.from_pretrained(model_name)\n",
    "model = model.to(device)"
   ]
  },
  {
   "cell_type": "code",
   "execution_count": 15,
   "id": "c8974286-7748-48b3-b5f0-549766010368",
   "metadata": {
    "scrolled": true
   },
   "outputs": [
    {
     "name": "stdout",
     "output_type": "stream",
     "text": [
      "Pred Answer: ['What are the limitations of naive fine-tuning according to human evaluators?'\n",
      " 'How does the preference agent perform without access to zero-shot baseline information?']\n",
      "\n",
      "Pred Answer: [\"What is the dissent's approach to historical analysis in the context of the Second Amendment?\"\n",
      " 'How does the author argue that historical laws were inadequate in addressing domestic violence?'\n",
      " \"What are the implications of a rigid adherence to history in constitutional interpretation, according to the text?\"]\n",
      "\n",
      "Pred Answer: ['What is the difference between LATE and ITT in the context of this study?'\n",
      " 'Why are the coefficients on dietary diversity measures statistically insignificant in LARA?']\n",
      "\n",
      "Pred Answer: ['What are the key features of the Sienna modeling framework that make it suitable for large-scale modeling and validation?'\n",
      " 'How does the use of Julia and JuMP in the Grid Analysis and Visualization Interface enhance the capabilities of Sienza?']\n",
      "\n",
      "Pred Answer: [\"What is the significance of the Court's decision in United States v. Zackey Rahimi for individuals subject to domestic violence restraining orders?\"\n",
      " \"How does the Bruen framework influence the interpretation of Second Amendment rights in the context of domestic firearm possession?\"]\n",
      "\n"
     ]
    }
   ],
   "source": [
    "li = [110,20,50,100,345]\n",
    "for idx in li:\n",
    "    input_text = X_test.tolist()[idx]\n",
    "    # print(input_text)\n",
    "    # print()\n",
    "    input_ids = tokenizer.encode(input_text, return_tensors='pt').to(device)\n",
    "    output = model.generate(\n",
    "        input_ids, \n",
    "        max_length=220, \n",
    "        num_beams=1, \n",
    "        early_stopping=True, \n",
    "        no_repeat_ngram_size=2,  # Prevent repeating n-grams\n",
    "        num_return_sequences=1,  # Number of sequences to return\n",
    "        temperature=1,  # Sampling temperature\n",
    "        top_k=0,  # Top-K sampling\n",
    "        top_p=1.0  # Top-p (nucleus) sampling\n",
    "    )\n",
    "    response = tokenizer.decode(output[0], skip_special_tokens=True)\n",
    "    # print(\"True Answer\",y_test.tolist()[idx])\n",
    "    print(\"Pred Answer:\", response)\n",
    "    print()"
   ]
  },
  {
   "cell_type": "code",
   "execution_count": 26,
   "id": "f338b0b6-aaea-4841-b31c-341e2c03b365",
   "metadata": {},
   "outputs": [],
   "source": [
    "query = \"The architecture of a generic GNN implements the following fundamental layers:[6]Permutation equivariant: a permutation equivariant layer maps a representation of a graph into an updated representation of the same graph. In the literature, permutation equivariant layers are implemented via pairwise message passing between graph nodes.[6][11] Intuitively, in a message passing layer, nodes update their representations by aggregating the messages received from their immediate neighbours. As such, each message passing layer increases the receptive field of the GNN by one hop.Local pooling: a local pooling layer coarsens the graph via downsampling. Local pooling is used to increase the receptive field of a GNN, in a similar fashion to pooling layers in convolutional neural networks. Examples include k-nearest neighbours pooling, top-k pooling,[26] and self-attention pooling.[27]Global pooling: a global pooling layer, also known as readout layer, provides fixed-size representation of the whole graph. The global pooling layer must be permutation invariant, such that permutations in the ordering of graph nodes and edges do not alter the final output.[28] Examples include element-wise sum, mean or maximum.It has been demonstrated that GNNs cannot be more expressive than the Weisfeiler–Leman Graph Isomorphism Test.[29][30] In practice, this means that there exist different graph structures (e.g., molecules with the same atoms but different bonds) that cannot be distinguished by GNNs. More powerful GNNs operating on higher-dimension geometries such as simplicial complexes can be designed.[31][32][10] As of 2022, whether or not future architectures will overcome the message passing primitive is an open research question.[11]\""
   ]
  },
  {
   "cell_type": "code",
   "execution_count": 28,
   "id": "6b92bbaa-5f4a-4a4b-986e-55ce25ebe590",
   "metadata": {},
   "outputs": [
    {
     "name": "stdout",
     "output_type": "stream",
     "text": [
      "The architecture of a generic GNN implements the following fundamental layers:[6]Permutation equivariant: a permutation equivariant layer maps a representation of a graph into an updated representation of the same graph. In the literature, permutation equivariant layers are implemented via pairwise message passing between graph nodes.[6][11] Intuitively, in a message passing layer, nodes update their representations by aggregating the messages received from their immediate neighbours. As such, each message passing layer increases the receptive field of the GNN by one hop.Local pooling: a local pooling layer coarsens the graph via downsampling. Local pooling is used to increase the receptive field of a GNN, in a similar fashion to pooling layers in convolutional neural networks. Examples include k-nearest neighbours pooling, top-k pooling,[26] and self-attention pooling.[27]Global pooling: a global pooling layer, also known as readout layer, provides fixed-size representation of the whole graph. The global pooling layer must be permutation invariant, such that permutations in the ordering of graph nodes and edges do not alter the final output.[28] Examples include element-wise sum, mean or maximum.It has been demonstrated that GNNs cannot be more expressive than the Weisfeiler–Leman Graph Isomorphism Test.[29][30] In practice, this means that there exist different graph structures (e.g., molecules with the same atoms but different bonds) that cannot be distinguished by GNNs. More powerful GNNs operating on higher-dimension geometries such as simplicial complexes can be designed.[31][32][10] As of 2022, whether or not future architectures will overcome the message passing primitive is an open research question.[11]\n",
      "\n",
      "Pred Answer: ['What is the purpose of the permutation equivariant layer in the context of a generic GNN?'\n",
      " 'How does the local pooling layer contribute to the efficiency of convolutional neural networks?']\n",
      "\n"
     ]
    }
   ],
   "source": [
    "input_text = query\n",
    "print(input_text)\n",
    "print()\n",
    "input_ids = tokenizer.encode(input_text, return_tensors='pt').to(device)\n",
    "output = model.generate(\n",
    "    input_ids, \n",
    "    max_length=220, \n",
    "    num_beams=5, \n",
    "    early_stopping=True, \n",
    "    no_repeat_ngram_size=2,  # Prevent repeating n-grams\n",
    "    num_return_sequences=1,  # Number of sequences to return\n",
    "    temperature=0.7,  # Sampling temperature\n",
    "    top_k=50,  # Top-K sampling\n",
    "    top_p=0.9  # Top-p (nucleus) sampling\n",
    ")\n",
    "response = tokenizer.decode(output[0], skip_special_tokens=True)\n",
    "# print(\"True Answer\",y_test.tolist()[idx])\n",
    "print(\"Pred Answer:\", response)\n",
    "print()"
   ]
  },
  {
   "cell_type": "markdown",
   "id": "e611e9b2-2fa4-42cb-b75b-0b6d3d7646f2",
   "metadata": {},
   "source": [
    "## Merge Data : get all files from data location and merge it into a single file"
   ]
  },
  {
   "cell_type": "code",
   "execution_count": 11,
   "id": "d41703b5-e500-4007-98b0-1c37074be3bd",
   "metadata": {},
   "outputs": [],
   "source": [
    "import os\n",
    "import pandas as pd\n",
    "from tqdm import tqdm"
   ]
  },
  {
   "cell_type": "code",
   "execution_count": 25,
   "id": "d6cdea19-d79d-4515-a837-56dbb7183986",
   "metadata": {},
   "outputs": [],
   "source": [
    "def get_all_files():\n",
    "    # Get the list of all files and directories\n",
    "    path = \"../Data/GraphAgent/raw_data/\"\n",
    "    dir_list = os.listdir(path)\n",
    "    # prints all files\n",
    "    return dir_list"
   ]
  },
  {
   "cell_type": "code",
   "execution_count": 26,
   "id": "664c2b31-fbaa-4dfc-90ce-9a5c34e77244",
   "metadata": {},
   "outputs": [],
   "source": [
    "files = get_all_files()"
   ]
  },
  {
   "cell_type": "code",
   "execution_count": 27,
   "id": "4d8d326d-67ed-43ad-9f64-b40807a0578e",
   "metadata": {},
   "outputs": [],
   "source": [
    "# df = pd.DataFrame()\n",
    "# for file in tqdm(files):\n",
    "#     df = df._append(pd.read_csv(\"../Data/GraphAgent/{}\".format(file),sep=\"\\t\"))"
   ]
  },
  {
   "cell_type": "code",
   "execution_count": 28,
   "id": "d0f7e0cf-2ae5-4606-bf40-04e554e710c0",
   "metadata": {},
   "outputs": [
    {
     "data": {
      "text/plain": [
       "'1.tsv'"
      ]
     },
     "execution_count": 28,
     "metadata": {},
     "output_type": "execute_result"
    }
   ],
   "source": [
    "files[0]"
   ]
  },
  {
   "cell_type": "code",
   "execution_count": 35,
   "id": "d0b57123-eecc-446b-93d5-8392ea54a472",
   "metadata": {},
   "outputs": [],
   "source": [
    "for file in tqdm(files):\n",
    "    df = pd.read_csv(\"../Data/GraphAgent/raw_data/{}\".format(file),sep=\"\\t\")\n",
    "    df.drop(\"All_Tags\",axis = 1,inplace = True)\n",
    "    df.to_csv('../Data/GraphAgent/cleaned_data/{}'.format(file),sep='\\t', index=False)"
   ]
  },
  {
   "cell_type": "code",
   "execution_count": 32,
   "id": "0da5293b-a24e-4435-bc2e-a2eae2627e92",
   "metadata": {},
   "outputs": [
    {
     "data": {
      "text/html": [
       "<div>\n",
       "<style scoped>\n",
       "    .dataframe tbody tr th:only-of-type {\n",
       "        vertical-align: middle;\n",
       "    }\n",
       "\n",
       "    .dataframe tbody tr th {\n",
       "        vertical-align: top;\n",
       "    }\n",
       "\n",
       "    .dataframe thead th {\n",
       "        text-align: right;\n",
       "    }\n",
       "</style>\n",
       "<table border=\"1\" class=\"dataframe\">\n",
       "  <thead>\n",
       "    <tr style=\"text-align: right;\">\n",
       "      <th></th>\n",
       "      <th>Topic_Name</th>\n",
       "      <th>URL</th>\n",
       "      <th>Text_Index</th>\n",
       "      <th>Network</th>\n",
       "    </tr>\n",
       "  </thead>\n",
       "  <tbody>\n",
       "    <tr>\n",
       "      <th>0</th>\n",
       "      <td>machine learning</td>\n",
       "      <td>https://en.wikipedia.org/wiki/machine_learning</td>\n",
       "      <td>{0: 'Machine learning', 1: 'Supervised learnin...</td>\n",
       "      <td>['0-&gt;1', '0-&gt;2', '0-&gt;3', '0-&gt;4', '0-&gt;5', '0-&gt;6...</td>\n",
       "    </tr>\n",
       "    <tr>\n",
       "      <th>1</th>\n",
       "      <td>automated machine learning</td>\n",
       "      <td>https://learn.microsoft.com/en-us/azure/machin...</td>\n",
       "      <td>{0: 'What is automated machine learning (AutoM...</td>\n",
       "      <td>['0-&gt;1', '0-&gt;2', '0-&gt;3', '4-&gt;5', '4-&gt;6', '4-&gt;7...</td>\n",
       "    </tr>\n",
       "    <tr>\n",
       "      <th>2</th>\n",
       "      <td>automated machine learning</td>\n",
       "      <td>https://www.automl.org/automl/</td>\n",
       "      <td>{0: 'AutoML', 1: 'AutoML', 2: 'What is AutoML?...</td>\n",
       "      <td>['0', '1', '2-&gt;3', ['2-&gt;4-&gt;5', '2-&gt;4-&gt;6', '2-&gt;...</td>\n",
       "    </tr>\n",
       "    <tr>\n",
       "      <th>3</th>\n",
       "      <td>automated machine learning</td>\n",
       "      <td>https://builtin.com/machine-learning/automl-au...</td>\n",
       "      <td>{0: 'AutoML: What Is Automated Machine Learnin...</td>\n",
       "      <td>['0-&gt;1', '0-&gt;2', ['0-&gt;3-&gt;4', '0-&gt;3-&gt;5'], ['0-&gt;...</td>\n",
       "    </tr>\n",
       "    <tr>\n",
       "      <th>4</th>\n",
       "      <td>automated machine learning</td>\n",
       "      <td>https://www.run.ai/guides/automl</td>\n",
       "      <td>{0: 'AutoML', 1: 'Webinar: Transforming AI for...</td>\n",
       "      <td>['0-&gt;1', '0-&gt;2', '3', ['4-&gt;5-&gt;6', '4-&gt;5-&gt;7', '...</td>\n",
       "    </tr>\n",
       "  </tbody>\n",
       "</table>\n",
       "</div>"
      ],
      "text/plain": [
       "                   Topic_Name  \\\n",
       "0            machine learning   \n",
       "1  automated machine learning   \n",
       "2  automated machine learning   \n",
       "3  automated machine learning   \n",
       "4  automated machine learning   \n",
       "\n",
       "                                                 URL  \\\n",
       "0     https://en.wikipedia.org/wiki/machine_learning   \n",
       "1  https://learn.microsoft.com/en-us/azure/machin...   \n",
       "2                     https://www.automl.org/automl/   \n",
       "3  https://builtin.com/machine-learning/automl-au...   \n",
       "4                   https://www.run.ai/guides/automl   \n",
       "\n",
       "                                          Text_Index  \\\n",
       "0  {0: 'Machine learning', 1: 'Supervised learnin...   \n",
       "1  {0: 'What is automated machine learning (AutoM...   \n",
       "2  {0: 'AutoML', 1: 'AutoML', 2: 'What is AutoML?...   \n",
       "3  {0: 'AutoML: What Is Automated Machine Learnin...   \n",
       "4  {0: 'AutoML', 1: 'Webinar: Transforming AI for...   \n",
       "\n",
       "                                             Network  \n",
       "0  ['0->1', '0->2', '0->3', '0->4', '0->5', '0->6...  \n",
       "1  ['0->1', '0->2', '0->3', '4->5', '4->6', '4->7...  \n",
       "2  ['0', '1', '2->3', ['2->4->5', '2->4->6', '2->...  \n",
       "3  ['0->1', '0->2', ['0->3->4', '0->3->5'], ['0->...  \n",
       "4  ['0->1', '0->2', '3', ['4->5->6', '4->5->7', '...  "
      ]
     },
     "execution_count": 32,
     "metadata": {},
     "output_type": "execute_result"
    }
   ],
   "source": [
    "df.head()"
   ]
  },
  {
   "cell_type": "code",
   "execution_count": 85,
   "id": "9c078267-5128-4570-8ce5-23055ae7c54d",
   "metadata": {},
   "outputs": [],
   "source": [
    "df = pd.read_csv('../Data/GraphAgent/{}.tsv'.format(\"All_Files_Combined\"),sep='\\t')"
   ]
  },
  {
   "cell_type": "code",
   "execution_count": 86,
   "id": "eb5fc92d-a300-46c0-a31f-37b5489ffe6c",
   "metadata": {},
   "outputs": [],
   "source": []
  },
  {
   "cell_type": "code",
   "execution_count": 87,
   "id": "774c3a8d-c83f-4a0c-a9dd-be05f97dac9d",
   "metadata": {},
   "outputs": [],
   "source": [
    "df.to_csv('../Data/GraphAgent/{}.tsv'.format(\"All_Files_Combined\"),sep='\\t', index=False)"
   ]
  },
  {
   "cell_type": "code",
   "execution_count": 9,
   "id": "a4b7164c-e057-42fb-b83f-4444daec1f60",
   "metadata": {},
   "outputs": [
    {
     "data": {
      "text/html": [
       "<div>\n",
       "<style scoped>\n",
       "    .dataframe tbody tr th:only-of-type {\n",
       "        vertical-align: middle;\n",
       "    }\n",
       "\n",
       "    .dataframe tbody tr th {\n",
       "        vertical-align: top;\n",
       "    }\n",
       "\n",
       "    .dataframe thead th {\n",
       "        text-align: right;\n",
       "    }\n",
       "</style>\n",
       "<table border=\"1\" class=\"dataframe\">\n",
       "  <thead>\n",
       "    <tr style=\"text-align: right;\">\n",
       "      <th></th>\n",
       "      <th>Topic_Name</th>\n",
       "      <th>URL</th>\n",
       "      <th>All_Tags</th>\n",
       "      <th>Text_Index</th>\n",
       "      <th>Network</th>\n",
       "    </tr>\n",
       "  </thead>\n",
       "  <tbody>\n",
       "    <tr>\n",
       "      <th>0</th>\n",
       "      <td>machine learning</td>\n",
       "      <td>https://en.wikipedia.org/wiki/machine_learning</td>\n",
       "      <td>[&lt;h1 class=\"firstHeading mw-first-heading\" id=...</td>\n",
       "      <td>{0: 'Machine learning', 1: 'Supervised learnin...</td>\n",
       "      <td>['0-&gt;1', '0-&gt;2', '0-&gt;3', '0-&gt;4', '0-&gt;5', '0-&gt;6...</td>\n",
       "    </tr>\n",
       "    <tr>\n",
       "      <th>1</th>\n",
       "      <td>automated machine learning</td>\n",
       "      <td>https://learn.microsoft.com/en-us/azure/machin...</td>\n",
       "      <td>[&lt;h1 id=\"what-is-automated-machine-learning-au...</td>\n",
       "      <td>{0: 'What is automated machine learning (AutoM...</td>\n",
       "      <td>['0-&gt;1', '0-&gt;2', '0-&gt;3', '4-&gt;5', '4-&gt;6', '4-&gt;7...</td>\n",
       "    </tr>\n",
       "    <tr>\n",
       "      <th>2</th>\n",
       "      <td>automated machine learning</td>\n",
       "      <td>https://www.automl.org/automl/</td>\n",
       "      <td>[&lt;h1&gt;AutoML&lt;/h1&gt;, &lt;h1&gt;AutoML&lt;/h1&gt;, &lt;h1&gt;What is...</td>\n",
       "      <td>{0: 'AutoML', 1: 'AutoML', 2: 'What is AutoML?...</td>\n",
       "      <td>['0', '1', '2-&gt;3', ['2-&gt;4-&gt;5', '2-&gt;4-&gt;6', '2-&gt;...</td>\n",
       "    </tr>\n",
       "    <tr>\n",
       "      <th>3</th>\n",
       "      <td>automated machine learning</td>\n",
       "      <td>https://builtin.com/machine-learning/automl-au...</td>\n",
       "      <td>[&lt;h1 class=\"fw-bold fs-xl fs-md-4xl text-white...</td>\n",
       "      <td>{0: 'AutoML: What Is Automated Machine Learnin...</td>\n",
       "      <td>['0-&gt;1', '0-&gt;2', ['0-&gt;3-&gt;4', '0-&gt;3-&gt;5'], ['0-&gt;...</td>\n",
       "    </tr>\n",
       "    <tr>\n",
       "      <th>4</th>\n",
       "      <td>automated machine learning</td>\n",
       "      <td>https://www.run.ai/guides/automl</td>\n",
       "      <td>[&lt;h1 class=\"guide-headline\"&gt;AutoML&lt;/h1&gt;, &lt;p cl...</td>\n",
       "      <td>{0: 'AutoML', 1: 'Webinar: Transforming AI for...</td>\n",
       "      <td>['0-&gt;1', '0-&gt;2', '3', ['4-&gt;5-&gt;6', '4-&gt;5-&gt;7', '...</td>\n",
       "    </tr>\n",
       "  </tbody>\n",
       "</table>\n",
       "</div>"
      ],
      "text/plain": [
       "                   Topic_Name  \\\n",
       "0            machine learning   \n",
       "1  automated machine learning   \n",
       "2  automated machine learning   \n",
       "3  automated machine learning   \n",
       "4  automated machine learning   \n",
       "\n",
       "                                                 URL  \\\n",
       "0     https://en.wikipedia.org/wiki/machine_learning   \n",
       "1  https://learn.microsoft.com/en-us/azure/machin...   \n",
       "2                     https://www.automl.org/automl/   \n",
       "3  https://builtin.com/machine-learning/automl-au...   \n",
       "4                   https://www.run.ai/guides/automl   \n",
       "\n",
       "                                            All_Tags  \\\n",
       "0  [<h1 class=\"firstHeading mw-first-heading\" id=...   \n",
       "1  [<h1 id=\"what-is-automated-machine-learning-au...   \n",
       "2  [<h1>AutoML</h1>, <h1>AutoML</h1>, <h1>What is...   \n",
       "3  [<h1 class=\"fw-bold fs-xl fs-md-4xl text-white...   \n",
       "4  [<h1 class=\"guide-headline\">AutoML</h1>, <p cl...   \n",
       "\n",
       "                                          Text_Index  \\\n",
       "0  {0: 'Machine learning', 1: 'Supervised learnin...   \n",
       "1  {0: 'What is automated machine learning (AutoM...   \n",
       "2  {0: 'AutoML', 1: 'AutoML', 2: 'What is AutoML?...   \n",
       "3  {0: 'AutoML: What Is Automated Machine Learnin...   \n",
       "4  {0: 'AutoML', 1: 'Webinar: Transforming AI for...   \n",
       "\n",
       "                                             Network  \n",
       "0  ['0->1', '0->2', '0->3', '0->4', '0->5', '0->6...  \n",
       "1  ['0->1', '0->2', '0->3', '4->5', '4->6', '4->7...  \n",
       "2  ['0', '1', '2->3', ['2->4->5', '2->4->6', '2->...  \n",
       "3  ['0->1', '0->2', ['0->3->4', '0->3->5'], ['0->...  \n",
       "4  ['0->1', '0->2', '3', ['4->5->6', '4->5->7', '...  "
      ]
     },
     "execution_count": 9,
     "metadata": {},
     "output_type": "execute_result"
    }
   ],
   "source": [
    "df.head()"
   ]
  },
  {
   "cell_type": "code",
   "execution_count": 139,
   "id": "1f090454-0511-42ae-a791-59607bb710c9",
   "metadata": {
    "scrolled": true
   },
   "outputs": [],
   "source": [
    "# df[\"Network\"][0].replace(\"[\",\"\").replace(\"]\",\"\").replace(\"'\",\"\").split(\",\")"
   ]
  },
  {
   "cell_type": "code",
   "execution_count": 153,
   "id": "3097f7f2-fbe5-40e5-ba1e-3a06c7278c51",
   "metadata": {},
   "outputs": [
    {
     "data": {
      "text/plain": [
       "\"0: 'Machine learning', 1: 'Supervised learning', 2: 'Unsupervised learning', 3: 'Semi-supervised learning', 4: 'Self-supervised learning', 5: 'Reinforcement learning', 6: 'Meta-learning', 7: 'Online learning', 8: 'Batch learning', 9: 'Curriculum learning', 10: 'Rule-based learning', 11: 'Neuro-symbolic AI', 12: 'Neuromorphic engineering', 13: 'Quantum machine learning', 14: 'Classification', 15: 'Generative modeling', 16: 'Regression', 17: 'Clustering', 18: 'Dimensionality reduction', 19: 'Density estimation', 20: 'Anomaly detection', 21: 'Data cleaning', 22: 'AutoML', 23: 'Association rules', 24: 'Semantic analysis', 25: 'Structured prediction', 26: 'Feature engineering', 27: 'Feature learning', 28: 'Learning to rank', 29: 'Grammar induction', 30: 'Ontology learning', 31: 'Multimodal learning', 32: 'Apprenticeship learning', 33: 'Decision trees', 34: 'Ensembles\\\\nBagging\\\\nBoosting\\\\nRandom forest', 35: 'Bagging', 36: 'Boosting', 37: 'Random forest', 38: 'k-NN', 39: 'Linear regression', 40: 'Naive Bayes', 41: 'Artificial neural networks', 42: 'Logistic regression', 43: 'Perceptron', 44: 'Relevance vector machine (RVM)', 45: 'Support vector machine (SVM)', 46: 'BIRCH', 47: 'CURE', 48: 'Hierarchical', 49: 'k-means', 50: 'Fuzzy', 51: 'Expectation–maximization (EM)', 52: 'DBSCAN', 53: 'OPTICS', 54: 'Mean shift', 55: 'Factor analysis', 56: 'CCA', 57: 'ICA', 58: 'LDA', 59: 'NMF', 60: 'PCA', 61: 'PGD', 62: 't-SNE', 63: 'SDL', 64: 'Graphical models\\\\nBayes net\\\\nConditional random field\\\\nHidden Markov', 65: 'Bayes net', 66: 'Conditional random field', 67: 'Hidden Markov', 68: 'RANSAC', 69: 'k-NN', 70: 'Local outlier factor', 71: 'Isolation forest', 72: 'Autoencoder', 73: 'Deep learning', 74: 'Feedforward neural network', 75: 'Recurrent neural network\\\\nLSTM\\\\nGRU\\\\nESN\\\\nreservoir computing', 76: 'LSTM', 77: 'GRU', 78: 'ESN', 79: 'reservoir computing', 80: 'Boltzmann machine\\\\nRestricted', 81: 'Restricted', 82: 'GAN', 83: 'Diffusion model', 84: 'SOM', 85: 'Convolutional neural network\\\\nU-Net\\\\nLeNet\\\\nAlexNet\\\\nDeepDream', 86: 'U-Net', 87: 'LeNet', 88: 'AlexNet', 89: 'DeepDream', 90: 'Neural radiance field', 91: 'Transformer\\\\nVision', 92: 'Vision', 93: 'Mamba', 94: 'Spiking neural network', 95: 'Memtransistor', 96: 'Electrochemical RAM (ECRAM)', 97: 'Q-learning', 98: 'SARSA', 99: 'Temporal difference (TD)', 100: 'Multi-agent\\\\nSelf-play', 101: 'Self-play', 102: 'Active learning', 103: 'Crowdsourcing', 104: 'Human-in-the-loop', 105: 'RLHF', 106: 'Coefficient of determination', 107: 'Confusion matrix', 108: 'Learning curve', 109: 'ROC curve', 110: 'Kernel machines', 111: 'Bias–variance tradeoff', 112: 'Computational learning theory', 113: 'Empirical risk minimization', 114: 'Occam learning', 115: 'PAC learning', 116: 'Statistical learning', 117: 'VC theory', 118: 'ECML PKDD', 119: 'NeurIPS', 120: 'ICML', 121: 'ICLR', 122: 'IJCAI', 123: 'ML', 124: 'JMLR', 125: 'Glossary of artificial intelligence', 126: 'List of datasets for machine-learning research\\\\nList of datasets in computer vision and image processing', 127: 'List of datasets in computer vision and image processing', 128: 'Outline of machine learning', 129: 'v', 130: 't', 131: 'e', 132: 'Artificial general intelligence', 133: 'Intelligent agent', 134: 'Recursive self-improvement', 135: 'Planning', 136: 'Computer vision', 137: 'General game playing', 138: 'Knowledge reasoning', 139: 'Natural language processing', 140: 'Robotics', 141: 'AI safety', 142: 'Machine learning', 143: 'Symbolic', 144: 'Deep learning', 145: 'Bayesian networks', 146: 'Evolutionary algorithms', 147: 'Hybrid intelligent systems', 148: 'Systems integration', 149: 'Bioinformatics', 150: 'Deepfake', 151: 'Earth sciences', 152: ' Finance ', 153: 'Generative AI\\\\nArt\\\\nAudio\\\\nMusic', 154: 'Art', 155: 'Audio', 156: 'Music', 157: 'Government', 158: 'Healthcare\\\\nMental health', 159: 'Mental health', 160: 'Industry', 161: 'Translation', 162: ' Military ', 163: 'Physics', 164: 'Projects', 165: 'Artificial consciousness', 166: 'Chinese room', 167: 'Friendly AI', 168: 'Control problem/Takeover', 169: 'Ethics', 170: 'Existential risk', 171: 'Regulation', 172: 'Turing test', 173: 'Timeline', 174: 'Progress', 175: 'AI winter', 176: 'AI boom', 177: 'Glossary', 178: 'v', 179: 't', 180: 'e', 181: 'Machine learning (ML) is a field of study in artificial intelligence concerned with the development and study of statistical algorithms that can learn from data and generalize to unseen data, and thus perform tasks without explicit instructions.[1] Advances in the field of deep learning have allowed neural networks to surpass many previous approaches in performance.[2]\\\\n', 182: 'ML finds application in many fields, including natural language processing, computer vision, speech recognition, email filtering, agriculture, and medicine.[3][4] The application of ML to business problems is known as predictive analytics.\\\\n', 183: 'Statistics and mathematical optimization (mathematical programming) methods comprise the foundations of mac\""
      ]
     },
     "execution_count": 153,
     "metadata": {},
     "output_type": "execute_result"
    }
   ],
   "source": [
    "df[\"Text_Index\"][0][1:5000]"
   ]
  },
  {
   "cell_type": "code",
   "execution_count": 7,
   "id": "4e154ebf-adea-432d-b289-5e58a54ae252",
   "metadata": {},
   "outputs": [
    {
     "data": {
      "text/html": [
       "<div>\n",
       "<style scoped>\n",
       "    .dataframe tbody tr th:only-of-type {\n",
       "        vertical-align: middle;\n",
       "    }\n",
       "\n",
       "    .dataframe tbody tr th {\n",
       "        vertical-align: top;\n",
       "    }\n",
       "\n",
       "    .dataframe thead th {\n",
       "        text-align: right;\n",
       "    }\n",
       "</style>\n",
       "<table border=\"1\" class=\"dataframe\">\n",
       "  <thead>\n",
       "    <tr style=\"text-align: right;\">\n",
       "      <th></th>\n",
       "      <th>Topic_Name</th>\n",
       "      <th>All_Tags</th>\n",
       "      <th>Text_Index</th>\n",
       "      <th>Network</th>\n",
       "    </tr>\n",
       "    <tr>\n",
       "      <th>URL</th>\n",
       "      <th></th>\n",
       "      <th></th>\n",
       "      <th></th>\n",
       "      <th></th>\n",
       "    </tr>\n",
       "  </thead>\n",
       "  <tbody>\n",
       "    <tr>\n",
       "      <th>http://147.162.114.155/articles/List_of_fluid_flows_named_after_people</th>\n",
       "      <td>1</td>\n",
       "      <td>1</td>\n",
       "      <td>1</td>\n",
       "      <td>1</td>\n",
       "    </tr>\n",
       "    <tr>\n",
       "      <th>http://147.162.114.155/articles/List_of_hydrodynamic_instabilities_named_after_people</th>\n",
       "      <td>1</td>\n",
       "      <td>1</td>\n",
       "      <td>1</td>\n",
       "      <td>1</td>\n",
       "    </tr>\n",
       "    <tr>\n",
       "      <th>http://4liberty.eu/parable-of-broken-window-as-public-policy-principle/</th>\n",
       "      <td>1</td>\n",
       "      <td>1</td>\n",
       "      <td>1</td>\n",
       "      <td>1</td>\n",
       "    </tr>\n",
       "    <tr>\n",
       "      <th>http://96kulimarathahistory.blogspot.com/</th>\n",
       "      <td>1</td>\n",
       "      <td>1</td>\n",
       "      <td>1</td>\n",
       "      <td>1</td>\n",
       "    </tr>\n",
       "    <tr>\n",
       "      <th>http://96kulimarathahistory.blogspot.com/2015/05/the-list-of-main-clans-and-their-sub.html</th>\n",
       "      <td>1</td>\n",
       "      <td>1</td>\n",
       "      <td>1</td>\n",
       "      <td>1</td>\n",
       "    </tr>\n",
       "    <tr>\n",
       "      <th>...</th>\n",
       "      <td>...</td>\n",
       "      <td>...</td>\n",
       "      <td>...</td>\n",
       "      <td>...</td>\n",
       "    </tr>\n",
       "    <tr>\n",
       "      <th>https://zoltandienes.com/poetry/why-johnny-cant-add/</th>\n",
       "      <td>1</td>\n",
       "      <td>1</td>\n",
       "      <td>1</td>\n",
       "      <td>1</td>\n",
       "    </tr>\n",
       "    <tr>\n",
       "      <th>https://zoox.com/</th>\n",
       "      <td>1</td>\n",
       "      <td>1</td>\n",
       "      <td>1</td>\n",
       "      <td>1</td>\n",
       "    </tr>\n",
       "    <tr>\n",
       "      <th>https://zumalo.com/epic/enhancing-human-intelligence-ii/</th>\n",
       "      <td>1</td>\n",
       "      <td>1</td>\n",
       "      <td>1</td>\n",
       "      <td>1</td>\n",
       "    </tr>\n",
       "    <tr>\n",
       "      <th>https://zupan.ai/blog/what-is-product-durability</th>\n",
       "      <td>1</td>\n",
       "      <td>1</td>\n",
       "      <td>1</td>\n",
       "      <td>1</td>\n",
       "    </tr>\n",
       "    <tr>\n",
       "      <th>https://zzz.bwh.harvard.edu/plink/psnp.shtml</th>\n",
       "      <td>1</td>\n",
       "      <td>1</td>\n",
       "      <td>1</td>\n",
       "      <td>1</td>\n",
       "    </tr>\n",
       "  </tbody>\n",
       "</table>\n",
       "<p>58524 rows × 4 columns</p>\n",
       "</div>"
      ],
      "text/plain": [
       "                                                    Topic_Name  All_Tags  \\\n",
       "URL                                                                        \n",
       "http://147.162.114.155/articles/List_of_fluid_f...           1         1   \n",
       "http://147.162.114.155/articles/List_of_hydrody...           1         1   \n",
       "http://4liberty.eu/parable-of-broken-window-as-...           1         1   \n",
       "http://96kulimarathahistory.blogspot.com/                    1         1   \n",
       "http://96kulimarathahistory.blogspot.com/2015/0...           1         1   \n",
       "...                                                        ...       ...   \n",
       "https://zoltandienes.com/poetry/why-johnny-cant...           1         1   \n",
       "https://zoox.com/                                            1         1   \n",
       "https://zumalo.com/epic/enhancing-human-intelli...           1         1   \n",
       "https://zupan.ai/blog/what-is-product-durability             1         1   \n",
       "https://zzz.bwh.harvard.edu/plink/psnp.shtml                 1         1   \n",
       "\n",
       "                                                    Text_Index  Network  \n",
       "URL                                                                      \n",
       "http://147.162.114.155/articles/List_of_fluid_f...           1        1  \n",
       "http://147.162.114.155/articles/List_of_hydrody...           1        1  \n",
       "http://4liberty.eu/parable-of-broken-window-as-...           1        1  \n",
       "http://96kulimarathahistory.blogspot.com/                    1        1  \n",
       "http://96kulimarathahistory.blogspot.com/2015/0...           1        1  \n",
       "...                                                        ...      ...  \n",
       "https://zoltandienes.com/poetry/why-johnny-cant...           1        1  \n",
       "https://zoox.com/                                            1        1  \n",
       "https://zumalo.com/epic/enhancing-human-intelli...           1        1  \n",
       "https://zupan.ai/blog/what-is-product-durability             1        1  \n",
       "https://zzz.bwh.harvard.edu/plink/psnp.shtml                 1        1  \n",
       "\n",
       "[58524 rows x 4 columns]"
      ]
     },
     "execution_count": 7,
     "metadata": {},
     "output_type": "execute_result"
    }
   ],
   "source": [
    "df.groupby(\"URL\").count()"
   ]
  },
  {
   "cell_type": "code",
   "execution_count": 13,
   "id": "32c83cfd-75f7-4c59-91e2-5252d2db95a7",
   "metadata": {},
   "outputs": [],
   "source": [
    "# fgf = pd.read_csv(\"../Data/GraphAgent/1.tsv\",sep='\\t')\n",
    "# fgf.drop(\"All_Tags\",axis = 1,inplace = True)\n",
    "# fgf.to_csv(\"../Data/GraphAgent/test.tsv\",sep='\\t', index=False)"
   ]
  },
  {
   "cell_type": "markdown",
   "id": "d79f6b88-d43d-42dc-860c-31db71a93749",
   "metadata": {},
   "source": [
    "## Data Cleaning using Spark"
   ]
  },
  {
   "cell_type": "code",
   "execution_count": 26,
   "id": "c91a1c5b-0f4a-4756-b0c4-dedf0a79a807",
   "metadata": {},
   "outputs": [],
   "source": [
    "from pyspark.sql import SparkSession\n",
    "import pyspark.sql.functions as F\n",
    "import pandas as pd\n",
    "from tqdm import tqdm\n",
    "from pyspark.sql.types import StructType, StructField, StringType\n",
    "import warnings\n",
    "warnings.filterwarnings(\"ignore\")"
   ]
  },
  {
   "cell_type": "code",
   "execution_count": 2,
   "id": "a964831c-5c69-4006-954f-6c68c36a4560",
   "metadata": {},
   "outputs": [],
   "source": [
    "import os\n",
    "import sys\n",
    "\n",
    "os.environ['PYSPARK_PYTHON'] = sys.executable\n",
    "os.environ['PYSPARK_DRIVER_PYTHON'] = sys.executable"
   ]
  },
  {
   "cell_type": "code",
   "execution_count": 3,
   "id": "838afa8d-01b2-4293-b113-918d3f97ba7d",
   "metadata": {},
   "outputs": [],
   "source": [
    "# spark = SparkSession.builder.getOrCreate()"
   ]
  },
  {
   "cell_type": "code",
   "execution_count": 4,
   "id": "21c5118d-0749-4fb9-9f08-5094e42c2c00",
   "metadata": {},
   "outputs": [],
   "source": [
    "spark = SparkSession.builder \\\n",
    "    .master(\"local\") \\\n",
    "    .config(\"spark.driver.memory\", \"8g\") \\\n",
    "    .config(\"spark.executor.memory\", \"8g\") \\\n",
    "    .appName(\"DataCleaning\") \\\n",
    "    .getOrCreate()"
   ]
  },
  {
   "cell_type": "code",
   "execution_count": 27,
   "id": "77524d99-2d00-4380-b479-fb518b814430",
   "metadata": {},
   "outputs": [],
   "source": [
    "def data_transformation_pyspark(row_iter):\n",
    "    schema = StructType([StructField(\"Topic_Name\", StringType(), True), StructField(\"URL\", StringType(), True),\\\n",
    "                     StructField(\"Text_Index\", StringType(), True), StructField(\"Network\", StringType(), True)])\n",
    "    d1 = spark.createDataFrame([(row_iter[0], row_iter[1], row_iter[2], row_iter[3])],schema=schema)\n",
    "    d1 = d1.withColumn(\"Network\",F.regexp_replace(F.col(\"Network\"),r\"[\\[\\]\\']\",\"\"))\\\n",
    "           .withColumn(\"Network\",F.split(F.col(\"Network\"),\",\"))\n",
    "    index_data = d1.select(\"Text_Index\",F.split(F.col(\"Text_Index\"),\"', \").alias(\"split\"))\n",
    "    index_data = index_data.drop(\"Text_Index\")\n",
    "    index_data = index_data.withColumn(\"split\",F.explode(\"split\"))\n",
    "    index_data = index_data.withColumn(\"id\",F.split(F.col(\"split\"),\": '\").getItem(0))\\\n",
    "                            .withColumn(\"text\",F.split(F.col(\"split\"),\": '\").getItem(1))\\\n",
    "                            .drop(F.col(\"split\"))\\\n",
    "                            .withColumn(\"id\",F.regexp_replace(F.col(\"id\"),\"[\\{\\}\\\"]\",\"\"))\\\n",
    "                            .withColumn(\"id\",F.col(\"id\").cast('int'))\n",
    "    index_data = index_data.withColumn(\"length_of_text\",F.length(F.col(\"text\")))\\\n",
    "                            .withColumn(\"num_of_words\",F.array_size(F.split(F.col(\"text\"),\" \")))\n",
    "    network_data = d1.select(F.col(\"Network\").alias(\"Network\"))\n",
    "    network_data = network_data.withColumn(\"Explode\",F.explode(F.col(\"Network\")))\\\n",
    "                            .drop(F.col(\"Network\"))\\\n",
    "                            .withColumn(\"split\",F.split(F.col(\"Explode\"),\"->\"))\n",
    "    grouped_network_data = network_data.withColumn(\"num_of_nodes\",F.array_size(F.col(\"split\")))\\\n",
    "                                        .groupby(F.col(\"num_of_nodes\")).count()\n",
    "    num_of_loops = grouped_network_data.orderBy(F.col(\"num_of_nodes\"),ascending = False).take(1)[0][0]\n",
    "    for loop in range(0,num_of_loops):\n",
    "        network_data = network_data.withColumn(str(loop + 1), F.col(\"split\").getItem(loop))\n",
    "    joined_data = network_data\n",
    "    for loop in range(1,num_of_loops+1):\n",
    "        joined_data = index_data.join(joined_data,index_data[\"id\"] == joined_data[str(loop)],\"right\")\n",
    "        joined_data = joined_data.withColumn(str(loop),F.col(\"text\"))\n",
    "        joined_data = joined_data.drop(\"id\",\"text\",\"length_of_text\",\"num_of_words\")\n",
    "    joined_data = joined_data.drop(\"Explode\",\"split\")\n",
    "    if num_of_loops > 2:\n",
    "        joined_data = joined_data.where(F.col(\"3\")!='NULL')\n",
    "    df = joined_data.toPandas()\n",
    "    return df,num_of_loops"
   ]
  },
  {
   "cell_type": "code",
   "execution_count": 28,
   "id": "b748bb5c-cae3-4fe8-b4de-b28878ad9f82",
   "metadata": {},
   "outputs": [],
   "source": [
    "def dataframe_to_dict(df,num_of_loops):\n",
    "    unique_keys = []\n",
    "    uniques = []\n",
    "    for i in range(1,num_of_loops+1):\n",
    "        uniques.append(df[str(i)].unique().tolist())\n",
    "    df.drop(df[df[\"2\"].isin(['See also','References','Sources','Further reading','External links'])].index,axis = 0,inplace = True)\n",
    "    df.drop_duplicates(inplace=True)\n",
    "    df.reset_index(inplace=True)\n",
    "    parent_node = df[\"1\"][0]\n",
    "    new_dict = {parent_node:{}}\n",
    "    for i in range(0,len(df)):\n",
    "        counter = 0\n",
    "        row = df.loc[i].tolist()\n",
    "        row = [j for j in row if j != None]\n",
    "        # print(i)\n",
    "        # print(\"Levels==========================\",len(row))\n",
    "        for r in range(0,len(row)):\n",
    "            #At first level, it will update the dict\n",
    "            if r == 0:\n",
    "                update_dict = new_dict[parent_node]\n",
    "                # print(r,\"at 0\",update_dict)\n",
    "            #If only 3 levels are present, it will create its own key and append\n",
    "            elif r == (len(row)-1) and len(row) == 2:\n",
    "                unique_keys.append(\"my_summary\")\n",
    "                if \"my_summary\" in list(update_dict.keys()):\n",
    "                    update_dict[\"my_summary\"].append(row[r])\n",
    "                else:\n",
    "                    update_dict[\"my_summary\"] = [row[r]]\n",
    "                # print(r,\"at 1\",update_dict)\n",
    "            # When the loop reaches the last level, It will append the value\n",
    "            elif r == (len(row)-1):\n",
    "                try:\n",
    "                    update_dict.append(row[r])\n",
    "                    # print(r,\"at 2\",update_dict)\n",
    "                except Exception as e:\n",
    "                    # print(update_dict)\n",
    "                    print(e)\n",
    "            # When the loop is in mid levels\n",
    "            else:\n",
    "                unique_keys.append(row[r])\n",
    "                try:\n",
    "                    flag_aks = True \n",
    "                    if isinstance(update_dict,list):\n",
    "                        for aks in range(0,len(update_dict)):\n",
    "                            if isinstance(update_dict[aks],dict):\n",
    "                                if row[r] in list(update_dict[aks].keys()):\n",
    "                                    update_dict = update_dict[aks][row[r]]\n",
    "                                    flag_aks = False\n",
    "                                    break\n",
    "                        if flag_aks:\n",
    "                            update_dict.append({row[r]:[]})\n",
    "                            update_dict = update_dict[-1][row[r]]\n",
    "                    #This is the condition if the key is present and it is expecting a value in next loop\n",
    "                    elif row[r] in list(update_dict.keys()) and r - (len(row)-2) == 0:\n",
    "                        update_dict = update_dict[row[r]]\n",
    "                        if isinstance(update_dict,dict):\n",
    "                            update_dict[str(counter)] = []\n",
    "                            update_dict = update_dict[str(counter)]\n",
    "                        else:\n",
    "                            pass\n",
    "                    #If key is in dict\n",
    "                    elif row[r] in list(update_dict.keys()):\n",
    "                        update_dict = update_dict[row[r]]\n",
    "                        # print(r,\"Key present\",update_dict)\n",
    "                    #If key is not present\n",
    "                    else:\n",
    "                        #Expecting value in next loop\n",
    "                        if r - (len(row)-2) == 0:\n",
    "                            update_dict[row[r]] = []\n",
    "                            update_dict = update_dict[row[r]]\n",
    "                            # print(r,\"Key not present but last key\",update_dict)\n",
    "                        # Expecting key in next loop\n",
    "                        else:\n",
    "                            update_dict[row[r]] = {}\n",
    "                            update_dict = update_dict[row[r]]\n",
    "                            # print(r,\"Key not present\",update_dict)\n",
    "                except Exception as e:\n",
    "                    print(e)\n",
    "    return new_dict[parent_node],parent_node,unique_keys"
   ]
  },
  {
   "cell_type": "code",
   "execution_count": 29,
   "id": "95297f94-1e27-498e-ad50-c2d60ea7da45",
   "metadata": {},
   "outputs": [],
   "source": [
    "def get_network_graph(parent_node,unique_keys):\n",
    "    filter_dict = {parent_node:{}}\n",
    "    for u in unique_keys:\n",
    "        if u == parent_node:\n",
    "            update_dict = filter_dict[parent_node]\n",
    "        else:\n",
    "            if u in list(update_dict.keys()):\n",
    "                update_dict = update_dict[u]\n",
    "            else:\n",
    "                update_dict[u] = {}\n",
    "                update_dict = update_dict[u]\n",
    "    return filter_dict"
   ]
  },
  {
   "cell_type": "code",
   "execution_count": 30,
   "id": "5c891d83-be68-466e-a0e8-6a1ea79439d4",
   "metadata": {},
   "outputs": [],
   "source": [
    "def get_values(data,tracker,training_data):\n",
    "    if isinstance(data,list):\n",
    "        training_data[\"chunk\"].append(data)\n",
    "        training_data[\"path\"].append(tracker)\n",
    "        return training_data\n",
    "    else:\n",
    "        for idx,d in enumerate(data.keys()):\n",
    "            tracker = tracker+\"->\"+d\n",
    "            new_data = data[d]\n",
    "            training_data = get_values(new_data,tracker,training_data)\n",
    "            tracker = \"->\".join(tracker.split(\"->\")[:-1])\n",
    "            # print(\"New\",tracker)\n",
    "            # if idx == 3:\n",
    "            #     break\n",
    "        return training_data"
   ]
  },
  {
   "cell_type": "code",
   "execution_count": 31,
   "id": "ea60c069-893f-4ae6-83fa-cc4569731e01",
   "metadata": {},
   "outputs": [],
   "source": [
    "from transformers import BartForConditionalGeneration, BartTokenizer\n",
    "import torch\n",
    "device = torch.device('cuda' if torch.cuda.is_available() else 'cpu')\n",
    "model_name = '../Saved_Models/QuestionGenerator/fine-tuned-bert-sentiment_{}'.format(\"2024_11_18_1\")\n",
    "tokenizer = BartTokenizer.from_pretrained(model_name)\n",
    "model = BartForConditionalGeneration.from_pretrained(model_name)\n",
    "model = model.to(device)\n",
    "def generate_questions(input_text):\n",
    "    # print(input_text)\n",
    "    # print()\n",
    "    input_ids = tokenizer.encode(input_text, return_tensors='pt').to(device)\n",
    "    output = model.generate(\n",
    "        input_ids, \n",
    "        max_length=100, \n",
    "        num_beams=3, \n",
    "        early_stopping=True, \n",
    "        no_repeat_ngram_size=2,  # Prevent repeating n-grams\n",
    "        num_return_sequences=1,  # Number of sequences to return\n",
    "        temperature=0.7,  # Sampling temperature\n",
    "        top_k=50,  # Top-K sampling\n",
    "        top_p=0.9  # Top-p (nucleus) sampling\n",
    "    )\n",
    "    response = tokenizer.decode(output[0], skip_special_tokens=True)\n",
    "    return response.replace(\"[\",\"\").replace(\"]\",\"\")"
   ]
  },
  {
   "cell_type": "code",
   "execution_count": 32,
   "id": "1b9007f2-a37c-45ab-bb27-105c8d74086e",
   "metadata": {},
   "outputs": [],
   "source": [
    "def collect_questions(chunkList):\n",
    "    questionList = []\n",
    "    if len(chunkList) < 5:\n",
    "        return questionList\n",
    "    for chunk in chunkList:\n",
    "        tempList = []\n",
    "        if isinstance(chunk,list):\n",
    "            #Generate question for individual chunk\n",
    "            for context in chunk:\n",
    "                context = str(context)\n",
    "                context = context.replace(\"\\\\n\",\"\").replace(\"\\\\t\",\"\").replace(\"\\\\\",\"\")\n",
    "                split_context = context.split(\" \")\n",
    "                if len(split_context) > 500:\n",
    "                    for s in range(0,len(split_context),500):\n",
    "                        context = \" \".join(split_context[s:s+500])\n",
    "                        tempList.append(generate_questions(context))\n",
    "                else:\n",
    "                    tempList.append(generate_questions(context))\n",
    "            questionList.append(tempList)\n",
    "        else:\n",
    "            context = str(chunk)\n",
    "            context = context.replace(\"\\\\n\",\"\").replace(\"\\\\t\",\"\").replace(\"\\\\\",\"\")\n",
    "            split_context = context.split(\" \")\n",
    "            if len(split_context) > 500:\n",
    "                for s in range(0,len(split_context),500):\n",
    "                    context = \" \".join(split_context[s:s+500])\n",
    "                    tempList.append(generate_questions(context))\n",
    "                questionList.append(tempList)\n",
    "            else:\n",
    "                questionList.append(generate_questions(str(chunk)))\n",
    "    return questionList"
   ]
  },
  {
   "cell_type": "code",
   "execution_count": 33,
   "id": "c079d284-4adb-44c7-8f6e-f54b8078eebb",
   "metadata": {},
   "outputs": [],
   "source": [
    "def get_all_files():\n",
    "    # Get the list of all files and directories\n",
    "    path = \"../Data/GraphAgent/cleaned_data/\"\n",
    "    dir_list = os.listdir(path)\n",
    "    # prints all files\n",
    "    return dir_list\n",
    "files = get_all_files()"
   ]
  },
  {
   "cell_type": "code",
   "execution_count": 34,
   "id": "0ae5dcce-44ca-4d6c-bc99-ffd19d2caefc",
   "metadata": {},
   "outputs": [],
   "source": [
    "files = [int(i.split(\".\")[0]) for i in files]\n",
    "files.sort()"
   ]
  },
  {
   "cell_type": "code",
   "execution_count": null,
   "id": "369336fc-0f27-4030-9161-e03a24cd46a1",
   "metadata": {},
   "outputs": [],
   "source": []
  },
  {
   "cell_type": "code",
   "execution_count": null,
   "id": "43b2bbd8-ab1c-489e-bdba-8b896b7af2fa",
   "metadata": {
    "scrolled": true
   },
   "outputs": [
    {
     "name": "stderr",
     "output_type": "stream",
     "text": [
      " 57%|█████▋    | 25/44 [00:58<00:43,  2.31s/it]"
     ]
    },
    {
     "name": "stdout",
     "output_type": "stream",
     "text": [
      "local variable 'update_dict' referenced before assignment\n"
     ]
    },
    {
     "name": "stderr",
     "output_type": "stream",
     "text": [
      "100%|██████████| 44/44 [01:38<00:00,  2.24s/it]\n",
      "  7%|▋         | 3/46 [00:06<01:35,  2.22s/it]"
     ]
    },
    {
     "name": "stdout",
     "output_type": "stream",
     "text": [
      "0\n"
     ]
    },
    {
     "name": "stderr",
     "output_type": "stream",
     "text": [
      " 15%|█▌        | 7/46 [00:12<00:57,  1.48s/it]"
     ]
    },
    {
     "name": "stdout",
     "output_type": "stream",
     "text": [
      "list index out of range\n"
     ]
    },
    {
     "name": "stderr",
     "output_type": "stream",
     "text": [
      "100%|██████████| 46/46 [01:40<00:00,  2.18s/it]\n",
      " 32%|███▏      | 19/60 [00:38<01:05,  1.59s/it]"
     ]
    },
    {
     "name": "stdout",
     "output_type": "stream",
     "text": [
      "[UNRESOLVED_COLUMN.WITH_SUGGESTION] A column or function parameter with name `3` cannot be resolved. Did you mean one of the following? [`1`, `2`].;\n",
      "'Filter NOT ('3 = NULL)\n",
      "+- Project [1#39987, 2#40020]\n",
      "   +- Project [Explode#39938, split#39942, 1#39987, 2#40020]\n",
      "      +- Project [id#39923, text#39914, length_of_text#39926, num_of_words#39930, Explode#39938, split#39942, 1#39987, text#39914 AS 2#40020]\n",
      "         +- Join RightOuter, (id#39923 = cast(2#39962 as int))\n",
      "            :- Project [id#39923, text#39914, length_of_text#39926, array_size(split(text#39914,  , -1)) AS num_of_words#39930]\n",
      "            :  +- Project [id#39923, text#39914, length(text#39914) AS length_of_text#39926]\n",
      "            :     +- Project [cast(id#39920 as int) AS id#39923, text#39914]\n",
      "            :        +- Project [regexp_replace(id#39911, [\\{\\}\"], , 1) AS id#39920, text#39914]\n",
      "            :           +- Project [id#39911, text#39914]\n",
      "            :              +- Project [split#39909, id#39911, split(split#39909, : ', -1)[1] AS text#39914]\n",
      "            :                 +- Project [split#39909, split(split#39909, : ', -1)[0] AS id#39911]\n",
      "            :                    +- Project [split#39909]\n",
      "            :                       +- Generate explode(split#39904), false, [split#39909]\n",
      "            :                          +- Project [split#39904]\n",
      "            :                             +- Project [Text_Index#39888, split(Text_Index#39888, ', , -1) AS split#39904]\n",
      "            :                                +- Project [Topic_Name#39886, URL#39887, Text_Index#39888, split(Network#39894, ,, -1) AS Network#39899]\n",
      "            :                                   +- Project [Topic_Name#39886, URL#39887, Text_Index#39888, regexp_replace(Network#39889, [\\[\\]\\'], , 1) AS Network#39894]\n",
      "            :                                      +- LogicalRDD [Topic_Name#39886, URL#39887, Text_Index#39888, Network#39889], false\n",
      "            +- Project [Explode#39938, split#39942, 1#39987, 2#39962]\n",
      "               +- Project [id#39923, text#39914, length_of_text#39926, num_of_words#39930, Explode#39938, split#39942, text#39914 AS 1#39987, 2#39962]\n",
      "                  +- Join RightOuter, (id#39923 = cast(1#39958 as int))\n",
      "                     :- Project [id#39923, text#39914, length_of_text#39926, array_size(split(text#39914,  , -1)) AS num_of_words#39930]\n",
      "                     :  +- Project [id#39923, text#39914, length(text#39914) AS length_of_text#39926]\n",
      "                     :     +- Project [cast(id#39920 as int) AS id#39923, text#39914]\n",
      "                     :        +- Project [regexp_replace(id#39911, [\\{\\}\"], , 1) AS id#39920, text#39914]\n",
      "                     :           +- Project [id#39911, text#39914]\n",
      "                     :              +- Project [split#39909, id#39911, split(split#39909, : ', -1)[1] AS text#39914]\n",
      "                     :                 +- Project [split#39909, split(split#39909, : ', -1)[0] AS id#39911]\n",
      "                     :                    +- Project [split#39909]\n",
      "                     :                       +- Generate explode(split#39904), false, [split#39909]\n",
      "                     :                          +- Project [split#39904]\n",
      "                     :                             +- Project [Text_Index#40002, split(Text_Index#40002, ', , -1) AS split#39904]\n",
      "                     :                                +- Project [Topic_Name#40000, URL#40001, Text_Index#40002, split(Network#39894, ,, -1) AS Network#39899]\n",
      "                     :                                   +- Project [Topic_Name#40000, URL#40001, Text_Index#40002, regexp_replace(Network#40003, [\\[\\]\\'], , 1) AS Network#39894]\n",
      "                     :                                      +- LogicalRDD [Topic_Name#40000, URL#40001, Text_Index#40002, Network#40003], false\n",
      "                     +- Project [Explode#39938, split#39942, 1#39958, split#39942[1] AS 2#39962]\n",
      "                        +- Project [Explode#39938, split#39942, split#39942[0] AS 1#39958]\n",
      "                           +- Project [Explode#39938, split(Explode#39938, ->, -1) AS split#39942]\n",
      "                              +- Project [Explode#39938]\n",
      "                                 +- Project [Network#39935, Explode#39938]\n",
      "                                    +- Generate explode(Network#39935), false, [Explode#39938]\n",
      "                                       +- Project [Network#39899 AS Network#39935]\n",
      "                                          +- Project [Topic_Name#39967, URL#39968, Text_Index#39969, split(Network#39894, ,, -1) AS Network#39899]\n",
      "                                             +- Project [Topic_Name#39967, URL#39968, Text_Index#39969, regexp_replace(Network#39970, [\\[\\]\\'], , 1) AS Network#39894]\n",
      "                                                +- LogicalRDD [Topic_Name#39967, URL#39968, Text_Index#39969, Network#39970], false\n",
      "\n"
     ]
    },
    {
     "name": "stderr",
     "output_type": "stream",
     "text": [
      " 52%|█████▏    | 31/60 [01:02<00:46,  1.62s/it]"
     ]
    },
    {
     "name": "stdout",
     "output_type": "stream",
     "text": [
      "list index out of range\n"
     ]
    },
    {
     "name": "stderr",
     "output_type": "stream",
     "text": [
      " 63%|██████▎   | 38/60 [01:18<00:40,  1.84s/it]"
     ]
    },
    {
     "name": "stdout",
     "output_type": "stream",
     "text": [
      "list index out of range\n"
     ]
    },
    {
     "name": "stderr",
     "output_type": "stream",
     "text": [
      " 65%|██████▌   | 39/60 [01:18<00:30,  1.46s/it]"
     ]
    },
    {
     "name": "stdout",
     "output_type": "stream",
     "text": [
      "[UNRESOLVED_COLUMN.WITH_SUGGESTION] A column or function parameter with name `3` cannot be resolved. Did you mean one of the following? [`1`, `2`].;\n",
      "'Filter NOT ('3 = NULL)\n",
      "+- Project [1#45777, 2#45810]\n",
      "   +- Project [Explode#45728, split#45732, 1#45777, 2#45810]\n",
      "      +- Project [id#45713, text#45704, length_of_text#45716, num_of_words#45720, Explode#45728, split#45732, 1#45777, text#45704 AS 2#45810]\n",
      "         +- Join RightOuter, (id#45713 = cast(2#45752 as int))\n",
      "            :- Project [id#45713, text#45704, length_of_text#45716, array_size(split(text#45704,  , -1)) AS num_of_words#45720]\n",
      "            :  +- Project [id#45713, text#45704, length(text#45704) AS length_of_text#45716]\n",
      "            :     +- Project [cast(id#45710 as int) AS id#45713, text#45704]\n",
      "            :        +- Project [regexp_replace(id#45701, [\\{\\}\"], , 1) AS id#45710, text#45704]\n",
      "            :           +- Project [id#45701, text#45704]\n",
      "            :              +- Project [split#45699, id#45701, split(split#45699, : ', -1)[1] AS text#45704]\n",
      "            :                 +- Project [split#45699, split(split#45699, : ', -1)[0] AS id#45701]\n",
      "            :                    +- Project [split#45699]\n",
      "            :                       +- Generate explode(split#45694), false, [split#45699]\n",
      "            :                          +- Project [split#45694]\n",
      "            :                             +- Project [Text_Index#45678, split(Text_Index#45678, ', , -1) AS split#45694]\n",
      "            :                                +- Project [Topic_Name#45676, URL#45677, Text_Index#45678, split(Network#45684, ,, -1) AS Network#45689]\n",
      "            :                                   +- Project [Topic_Name#45676, URL#45677, Text_Index#45678, regexp_replace(Network#45679, [\\[\\]\\'], , 1) AS Network#45684]\n",
      "            :                                      +- LogicalRDD [Topic_Name#45676, URL#45677, Text_Index#45678, Network#45679], false\n",
      "            +- Project [Explode#45728, split#45732, 1#45777, 2#45752]\n",
      "               +- Project [id#45713, text#45704, length_of_text#45716, num_of_words#45720, Explode#45728, split#45732, text#45704 AS 1#45777, 2#45752]\n",
      "                  +- Join RightOuter, (id#45713 = cast(1#45748 as int))\n",
      "                     :- Project [id#45713, text#45704, length_of_text#45716, array_size(split(text#45704,  , -1)) AS num_of_words#45720]\n",
      "                     :  +- Project [id#45713, text#45704, length(text#45704) AS length_of_text#45716]\n",
      "                     :     +- Project [cast(id#45710 as int) AS id#45713, text#45704]\n",
      "                     :        +- Project [regexp_replace(id#45701, [\\{\\}\"], , 1) AS id#45710, text#45704]\n",
      "                     :           +- Project [id#45701, text#45704]\n",
      "                     :              +- Project [split#45699, id#45701, split(split#45699, : ', -1)[1] AS text#45704]\n",
      "                     :                 +- Project [split#45699, split(split#45699, : ', -1)[0] AS id#45701]\n",
      "                     :                    +- Project [split#45699]\n",
      "                     :                       +- Generate explode(split#45694), false, [split#45699]\n",
      "                     :                          +- Project [split#45694]\n",
      "                     :                             +- Project [Text_Index#45792, split(Text_Index#45792, ', , -1) AS split#45694]\n",
      "                     :                                +- Project [Topic_Name#45790, URL#45791, Text_Index#45792, split(Network#45684, ,, -1) AS Network#45689]\n",
      "                     :                                   +- Project [Topic_Name#45790, URL#45791, Text_Index#45792, regexp_replace(Network#45793, [\\[\\]\\'], , 1) AS Network#45684]\n",
      "                     :                                      +- LogicalRDD [Topic_Name#45790, URL#45791, Text_Index#45792, Network#45793], false\n",
      "                     +- Project [Explode#45728, split#45732, 1#45748, split#45732[1] AS 2#45752]\n",
      "                        +- Project [Explode#45728, split#45732, split#45732[0] AS 1#45748]\n",
      "                           +- Project [Explode#45728, split(Explode#45728, ->, -1) AS split#45732]\n",
      "                              +- Project [Explode#45728]\n",
      "                                 +- Project [Network#45725, Explode#45728]\n",
      "                                    +- Generate explode(Network#45725), false, [Explode#45728]\n",
      "                                       +- Project [Network#45689 AS Network#45725]\n",
      "                                          +- Project [Topic_Name#45757, URL#45758, Text_Index#45759, split(Network#45684, ,, -1) AS Network#45689]\n",
      "                                             +- Project [Topic_Name#45757, URL#45758, Text_Index#45759, regexp_replace(Network#45760, [\\[\\]\\'], , 1) AS Network#45684]\n",
      "                                                +- LogicalRDD [Topic_Name#45757, URL#45758, Text_Index#45759, Network#45760], false\n",
      "\n"
     ]
    },
    {
     "name": "stderr",
     "output_type": "stream",
     "text": [
      "100%|██████████| 60/60 [02:02<00:00,  2.04s/it]\n",
      "  3%|▎         | 2/74 [00:02<01:34,  1.32s/it]"
     ]
    },
    {
     "name": "stdout",
     "output_type": "stream",
     "text": [
      "list index out of range\n"
     ]
    },
    {
     "name": "stderr",
     "output_type": "stream",
     "text": [
      " 22%|██▏       | 16/74 [00:31<01:34,  1.62s/it]"
     ]
    },
    {
     "name": "stdout",
     "output_type": "stream",
     "text": [
      "list index out of range\n"
     ]
    },
    {
     "name": "stderr",
     "output_type": "stream",
     "text": [
      " 30%|██▉       | 22/74 [00:43<01:20,  1.55s/it]"
     ]
    },
    {
     "name": "stdout",
     "output_type": "stream",
     "text": [
      "[UNRESOLVED_COLUMN.WITH_SUGGESTION] A column or function parameter with name `3` cannot be resolved. Did you mean one of the following? [`1`].;\n",
      "'Filter NOT ('3 = NULL)\n",
      "+- Project [1#57536]\n",
      "   +- Project [Explode#57494, split#57498, 1#57536]\n",
      "      +- Project [id#57479, text#57470, length_of_text#57482, num_of_words#57486, Explode#57494, split#57498, text#57470 AS 1#57536]\n",
      "         +- Join RightOuter, (id#57479 = cast(1#57514 as int))\n",
      "            :- Project [id#57479, text#57470, length_of_text#57482, array_size(split(text#57470,  , -1)) AS num_of_words#57486]\n",
      "            :  +- Project [id#57479, text#57470, length(text#57470) AS length_of_text#57482]\n",
      "            :     +- Project [cast(id#57476 as int) AS id#57479, text#57470]\n",
      "            :        +- Project [regexp_replace(id#57467, [\\{\\}\"], , 1) AS id#57476, text#57470]\n",
      "            :           +- Project [id#57467, text#57470]\n",
      "            :              +- Project [split#57465, id#57467, split(split#57465, : ', -1)[1] AS text#57470]\n",
      "            :                 +- Project [split#57465, split(split#57465, : ', -1)[0] AS id#57467]\n",
      "            :                    +- Project [split#57465]\n",
      "            :                       +- Generate explode(split#57460), false, [split#57465]\n",
      "            :                          +- Project [split#57460]\n",
      "            :                             +- Project [Text_Index#57444, split(Text_Index#57444, ', , -1) AS split#57460]\n",
      "            :                                +- Project [Topic_Name#57442, URL#57443, Text_Index#57444, split(Network#57450, ,, -1) AS Network#57455]\n",
      "            :                                   +- Project [Topic_Name#57442, URL#57443, Text_Index#57444, regexp_replace(Network#57445, [\\[\\]\\'], , 1) AS Network#57450]\n",
      "            :                                      +- LogicalRDD [Topic_Name#57442, URL#57443, Text_Index#57444, Network#57445], false\n",
      "            +- Project [Explode#57494, split#57498, split#57498[0] AS 1#57514]\n",
      "               +- Project [Explode#57494, split(Explode#57494, ->, -1) AS split#57498]\n",
      "                  +- Project [Explode#57494]\n",
      "                     +- Project [Network#57491, Explode#57494]\n",
      "                        +- Generate explode(Network#57491), false, [Explode#57494]\n",
      "                           +- Project [Network#57455 AS Network#57491]\n",
      "                              +- Project [Topic_Name#57518, URL#57519, Text_Index#57520, split(Network#57450, ,, -1) AS Network#57455]\n",
      "                                 +- Project [Topic_Name#57518, URL#57519, Text_Index#57520, regexp_replace(Network#57521, [\\[\\]\\'], , 1) AS Network#57450]\n",
      "                                    +- LogicalRDD [Topic_Name#57518, URL#57519, Text_Index#57520, Network#57521], false\n",
      "\n"
     ]
    },
    {
     "name": "stderr",
     "output_type": "stream",
     "text": [
      " 31%|███       | 23/74 [00:45<01:23,  1.65s/it]"
     ]
    },
    {
     "name": "stdout",
     "output_type": "stream",
     "text": [
      "local variable 'update_dict' referenced before assignment\n"
     ]
    },
    {
     "name": "stderr",
     "output_type": "stream",
     "text": [
      " 34%|███▍      | 25/74 [00:48<01:12,  1.48s/it]"
     ]
    },
    {
     "name": "stdout",
     "output_type": "stream",
     "text": [
      "[UNRESOLVED_COLUMN.WITH_SUGGESTION] A column or function parameter with name `3` cannot be resolved. Did you mean one of the following? [`1`].;\n",
      "'Filter NOT ('3 = NULL)\n",
      "+- Project [1#58175]\n",
      "   +- Project [Explode#58133, split#58137, 1#58175]\n",
      "      +- Project [id#58118, text#58109, length_of_text#58121, num_of_words#58125, Explode#58133, split#58137, text#58109 AS 1#58175]\n",
      "         +- Join RightOuter, (id#58118 = cast(1#58153 as int))\n",
      "            :- Project [id#58118, text#58109, length_of_text#58121, array_size(split(text#58109,  , -1)) AS num_of_words#58125]\n",
      "            :  +- Project [id#58118, text#58109, length(text#58109) AS length_of_text#58121]\n",
      "            :     +- Project [cast(id#58115 as int) AS id#58118, text#58109]\n",
      "            :        +- Project [regexp_replace(id#58106, [\\{\\}\"], , 1) AS id#58115, text#58109]\n",
      "            :           +- Project [id#58106, text#58109]\n",
      "            :              +- Project [split#58104, id#58106, split(split#58104, : ', -1)[1] AS text#58109]\n",
      "            :                 +- Project [split#58104, split(split#58104, : ', -1)[0] AS id#58106]\n",
      "            :                    +- Project [split#58104]\n",
      "            :                       +- Generate explode(split#58099), false, [split#58104]\n",
      "            :                          +- Project [split#58099]\n",
      "            :                             +- Project [Text_Index#58083, split(Text_Index#58083, ', , -1) AS split#58099]\n",
      "            :                                +- Project [Topic_Name#58081, URL#58082, Text_Index#58083, split(Network#58089, ,, -1) AS Network#58094]\n",
      "            :                                   +- Project [Topic_Name#58081, URL#58082, Text_Index#58083, regexp_replace(Network#58084, [\\[\\]\\'], , 1) AS Network#58089]\n",
      "            :                                      +- LogicalRDD [Topic_Name#58081, URL#58082, Text_Index#58083, Network#58084], false\n",
      "            +- Project [Explode#58133, split#58137, split#58137[0] AS 1#58153]\n",
      "               +- Project [Explode#58133, split(Explode#58133, ->, -1) AS split#58137]\n",
      "                  +- Project [Explode#58133]\n",
      "                     +- Project [Network#58130, Explode#58133]\n",
      "                        +- Generate explode(Network#58130), false, [Explode#58133]\n",
      "                           +- Project [Network#58094 AS Network#58130]\n",
      "                              +- Project [Topic_Name#58157, URL#58158, Text_Index#58159, split(Network#58089, ,, -1) AS Network#58094]\n",
      "                                 +- Project [Topic_Name#58157, URL#58158, Text_Index#58159, regexp_replace(Network#58160, [\\[\\]\\'], , 1) AS Network#58089]\n",
      "                                    +- LogicalRDD [Topic_Name#58157, URL#58158, Text_Index#58159, Network#58160], false\n",
      "\n"
     ]
    },
    {
     "name": "stderr",
     "output_type": "stream",
     "text": [
      " 36%|███▋      | 27/74 [00:52<01:25,  1.81s/it]"
     ]
    },
    {
     "name": "stdout",
     "output_type": "stream",
     "text": [
      "local variable 'update_dict' referenced before assignment\n"
     ]
    },
    {
     "name": "stderr",
     "output_type": "stream",
     "text": [
      " 76%|███████▌  | 56/74 [01:54<00:29,  1.62s/it]"
     ]
    },
    {
     "name": "stdout",
     "output_type": "stream",
     "text": [
      "[UNRESOLVED_COLUMN.WITH_SUGGESTION] A column or function parameter with name `3` cannot be resolved. Did you mean one of the following? [`1`, `2`].;\n",
      "'Filter NOT ('3 = NULL)\n",
      "+- Project [1#67803, 2#67836]\n",
      "   +- Project [Explode#67754, split#67758, 1#67803, 2#67836]\n",
      "      +- Project [id#67739, text#67730, length_of_text#67742, num_of_words#67746, Explode#67754, split#67758, 1#67803, text#67730 AS 2#67836]\n",
      "         +- Join RightOuter, (id#67739 = cast(2#67778 as int))\n",
      "            :- Project [id#67739, text#67730, length_of_text#67742, array_size(split(text#67730,  , -1)) AS num_of_words#67746]\n",
      "            :  +- Project [id#67739, text#67730, length(text#67730) AS length_of_text#67742]\n",
      "            :     +- Project [cast(id#67736 as int) AS id#67739, text#67730]\n",
      "            :        +- Project [regexp_replace(id#67727, [\\{\\}\"], , 1) AS id#67736, text#67730]\n",
      "            :           +- Project [id#67727, text#67730]\n",
      "            :              +- Project [split#67725, id#67727, split(split#67725, : ', -1)[1] AS text#67730]\n",
      "            :                 +- Project [split#67725, split(split#67725, : ', -1)[0] AS id#67727]\n",
      "            :                    +- Project [split#67725]\n",
      "            :                       +- Generate explode(split#67720), false, [split#67725]\n",
      "            :                          +- Project [split#67720]\n",
      "            :                             +- Project [Text_Index#67704, split(Text_Index#67704, ', , -1) AS split#67720]\n",
      "            :                                +- Project [Topic_Name#67702, URL#67703, Text_Index#67704, split(Network#67710, ,, -1) AS Network#67715]\n",
      "            :                                   +- Project [Topic_Name#67702, URL#67703, Text_Index#67704, regexp_replace(Network#67705, [\\[\\]\\'], , 1) AS Network#67710]\n",
      "            :                                      +- LogicalRDD [Topic_Name#67702, URL#67703, Text_Index#67704, Network#67705], false\n",
      "            +- Project [Explode#67754, split#67758, 1#67803, 2#67778]\n",
      "               +- Project [id#67739, text#67730, length_of_text#67742, num_of_words#67746, Explode#67754, split#67758, text#67730 AS 1#67803, 2#67778]\n",
      "                  +- Join RightOuter, (id#67739 = cast(1#67774 as int))\n",
      "                     :- Project [id#67739, text#67730, length_of_text#67742, array_size(split(text#67730,  , -1)) AS num_of_words#67746]\n",
      "                     :  +- Project [id#67739, text#67730, length(text#67730) AS length_of_text#67742]\n",
      "                     :     +- Project [cast(id#67736 as int) AS id#67739, text#67730]\n",
      "                     :        +- Project [regexp_replace(id#67727, [\\{\\}\"], , 1) AS id#67736, text#67730]\n",
      "                     :           +- Project [id#67727, text#67730]\n",
      "                     :              +- Project [split#67725, id#67727, split(split#67725, : ', -1)[1] AS text#67730]\n",
      "                     :                 +- Project [split#67725, split(split#67725, : ', -1)[0] AS id#67727]\n",
      "                     :                    +- Project [split#67725]\n",
      "                     :                       +- Generate explode(split#67720), false, [split#67725]\n",
      "                     :                          +- Project [split#67720]\n",
      "                     :                             +- Project [Text_Index#67818, split(Text_Index#67818, ', , -1) AS split#67720]\n",
      "                     :                                +- Project [Topic_Name#67816, URL#67817, Text_Index#67818, split(Network#67710, ,, -1) AS Network#67715]\n",
      "                     :                                   +- Project [Topic_Name#67816, URL#67817, Text_Index#67818, regexp_replace(Network#67819, [\\[\\]\\'], , 1) AS Network#67710]\n",
      "                     :                                      +- LogicalRDD [Topic_Name#67816, URL#67817, Text_Index#67818, Network#67819], false\n",
      "                     +- Project [Explode#67754, split#67758, 1#67774, split#67758[1] AS 2#67778]\n",
      "                        +- Project [Explode#67754, split#67758, split#67758[0] AS 1#67774]\n",
      "                           +- Project [Explode#67754, split(Explode#67754, ->, -1) AS split#67758]\n",
      "                              +- Project [Explode#67754]\n",
      "                                 +- Project [Network#67751, Explode#67754]\n",
      "                                    +- Generate explode(Network#67751), false, [Explode#67754]\n",
      "                                       +- Project [Network#67715 AS Network#67751]\n",
      "                                          +- Project [Topic_Name#67783, URL#67784, Text_Index#67785, split(Network#67710, ,, -1) AS Network#67715]\n",
      "                                             +- Project [Topic_Name#67783, URL#67784, Text_Index#67785, regexp_replace(Network#67786, [\\[\\]\\'], , 1) AS Network#67710]\n",
      "                                                +- LogicalRDD [Topic_Name#67783, URL#67784, Text_Index#67785, Network#67786], false\n",
      "\n"
     ]
    },
    {
     "name": "stderr",
     "output_type": "stream",
     "text": [
      " 85%|████████▌ | 63/74 [02:07<00:17,  1.62s/it]"
     ]
    },
    {
     "name": "stdout",
     "output_type": "stream",
     "text": [
      "list index out of range\n"
     ]
    },
    {
     "name": "stderr",
     "output_type": "stream",
     "text": [
      " 89%|████████▉ | 66/74 [02:12<00:11,  1.43s/it]"
     ]
    },
    {
     "name": "stdout",
     "output_type": "stream",
     "text": [
      "list index out of range\n"
     ]
    },
    {
     "name": "stderr",
     "output_type": "stream",
     "text": [
      " 99%|█████████▊| 73/74 [02:25<00:01,  1.69s/it]"
     ]
    },
    {
     "name": "stdout",
     "output_type": "stream",
     "text": [
      "[UNRESOLVED_COLUMN.WITH_SUGGESTION] A column or function parameter with name `3` cannot be resolved. Did you mean one of the following? [`1`].;\n",
      "'Filter NOT ('3 = NULL)\n",
      "+- Project [1#71976]\n",
      "   +- Project [Explode#71934, split#71938, 1#71976]\n",
      "      +- Project [id#71919, text#71910, length_of_text#71922, num_of_words#71926, Explode#71934, split#71938, text#71910 AS 1#71976]\n",
      "         +- Join RightOuter, (id#71919 = cast(1#71954 as int))\n",
      "            :- Project [id#71919, text#71910, length_of_text#71922, array_size(split(text#71910,  , -1)) AS num_of_words#71926]\n",
      "            :  +- Project [id#71919, text#71910, length(text#71910) AS length_of_text#71922]\n",
      "            :     +- Project [cast(id#71916 as int) AS id#71919, text#71910]\n",
      "            :        +- Project [regexp_replace(id#71907, [\\{\\}\"], , 1) AS id#71916, text#71910]\n",
      "            :           +- Project [id#71907, text#71910]\n",
      "            :              +- Project [split#71905, id#71907, split(split#71905, : ', -1)[1] AS text#71910]\n",
      "            :                 +- Project [split#71905, split(split#71905, : ', -1)[0] AS id#71907]\n",
      "            :                    +- Project [split#71905]\n",
      "            :                       +- Generate explode(split#71900), false, [split#71905]\n",
      "            :                          +- Project [split#71900]\n",
      "            :                             +- Project [Text_Index#71884, split(Text_Index#71884, ', , -1) AS split#71900]\n",
      "            :                                +- Project [Topic_Name#71882, URL#71883, Text_Index#71884, split(Network#71890, ,, -1) AS Network#71895]\n",
      "            :                                   +- Project [Topic_Name#71882, URL#71883, Text_Index#71884, regexp_replace(Network#71885, [\\[\\]\\'], , 1) AS Network#71890]\n",
      "            :                                      +- LogicalRDD [Topic_Name#71882, URL#71883, Text_Index#71884, Network#71885], false\n",
      "            +- Project [Explode#71934, split#71938, split#71938[0] AS 1#71954]\n",
      "               +- Project [Explode#71934, split(Explode#71934, ->, -1) AS split#71938]\n",
      "                  +- Project [Explode#71934]\n",
      "                     +- Project [Network#71931, Explode#71934]\n",
      "                        +- Generate explode(Network#71931), false, [Explode#71934]\n",
      "                           +- Project [Network#71895 AS Network#71931]\n",
      "                              +- Project [Topic_Name#71958, URL#71959, Text_Index#71960, split(Network#71890, ,, -1) AS Network#71895]\n",
      "                                 +- Project [Topic_Name#71958, URL#71959, Text_Index#71960, regexp_replace(Network#71961, [\\[\\]\\'], , 1) AS Network#71890]\n",
      "                                    +- LogicalRDD [Topic_Name#71958, URL#71959, Text_Index#71960, Network#71961], false\n",
      "\n"
     ]
    },
    {
     "name": "stderr",
     "output_type": "stream",
     "text": [
      "100%|██████████| 74/74 [02:28<00:00,  2.00s/it]\n",
      " 25%|██▌       | 7/28 [00:15<00:45,  2.18s/it]"
     ]
    },
    {
     "name": "stdout",
     "output_type": "stream",
     "text": [
      "local variable 'update_dict' referenced before assignment\n"
     ]
    },
    {
     "name": "stderr",
     "output_type": "stream",
     "text": [
      " 39%|███▉      | 11/28 [00:24<00:38,  2.27s/it]"
     ]
    },
    {
     "name": "stdout",
     "output_type": "stream",
     "text": [
      "local variable 'update_dict' referenced before assignment\n"
     ]
    },
    {
     "name": "stderr",
     "output_type": "stream",
     "text": [
      " 46%|████▋     | 13/28 [00:27<00:26,  1.79s/it]"
     ]
    },
    {
     "name": "stdout",
     "output_type": "stream",
     "text": [
      "[UNRESOLVED_COLUMN.WITH_SUGGESTION] A column or function parameter with name `3` cannot be resolved. Did you mean one of the following? [`1`, `2`].;\n",
      "'Filter NOT ('3 = NULL)\n",
      "+- Project [1#75630, 2#75663]\n",
      "   +- Project [Explode#75581, split#75585, 1#75630, 2#75663]\n",
      "      +- Project [id#75566, text#75557, length_of_text#75569, num_of_words#75573, Explode#75581, split#75585, 1#75630, text#75557 AS 2#75663]\n",
      "         +- Join RightOuter, (id#75566 = cast(2#75605 as int))\n",
      "            :- Project [id#75566, text#75557, length_of_text#75569, array_size(split(text#75557,  , -1)) AS num_of_words#75573]\n",
      "            :  +- Project [id#75566, text#75557, length(text#75557) AS length_of_text#75569]\n",
      "            :     +- Project [cast(id#75563 as int) AS id#75566, text#75557]\n",
      "            :        +- Project [regexp_replace(id#75554, [\\{\\}\"], , 1) AS id#75563, text#75557]\n",
      "            :           +- Project [id#75554, text#75557]\n",
      "            :              +- Project [split#75552, id#75554, split(split#75552, : ', -1)[1] AS text#75557]\n",
      "            :                 +- Project [split#75552, split(split#75552, : ', -1)[0] AS id#75554]\n",
      "            :                    +- Project [split#75552]\n",
      "            :                       +- Generate explode(split#75547), false, [split#75552]\n",
      "            :                          +- Project [split#75547]\n",
      "            :                             +- Project [Text_Index#75531, split(Text_Index#75531, ', , -1) AS split#75547]\n",
      "            :                                +- Project [Topic_Name#75529, URL#75530, Text_Index#75531, split(Network#75537, ,, -1) AS Network#75542]\n",
      "            :                                   +- Project [Topic_Name#75529, URL#75530, Text_Index#75531, regexp_replace(Network#75532, [\\[\\]\\'], , 1) AS Network#75537]\n",
      "            :                                      +- LogicalRDD [Topic_Name#75529, URL#75530, Text_Index#75531, Network#75532], false\n",
      "            +- Project [Explode#75581, split#75585, 1#75630, 2#75605]\n",
      "               +- Project [id#75566, text#75557, length_of_text#75569, num_of_words#75573, Explode#75581, split#75585, text#75557 AS 1#75630, 2#75605]\n",
      "                  +- Join RightOuter, (id#75566 = cast(1#75601 as int))\n",
      "                     :- Project [id#75566, text#75557, length_of_text#75569, array_size(split(text#75557,  , -1)) AS num_of_words#75573]\n",
      "                     :  +- Project [id#75566, text#75557, length(text#75557) AS length_of_text#75569]\n",
      "                     :     +- Project [cast(id#75563 as int) AS id#75566, text#75557]\n",
      "                     :        +- Project [regexp_replace(id#75554, [\\{\\}\"], , 1) AS id#75563, text#75557]\n",
      "                     :           +- Project [id#75554, text#75557]\n",
      "                     :              +- Project [split#75552, id#75554, split(split#75552, : ', -1)[1] AS text#75557]\n",
      "                     :                 +- Project [split#75552, split(split#75552, : ', -1)[0] AS id#75554]\n",
      "                     :                    +- Project [split#75552]\n",
      "                     :                       +- Generate explode(split#75547), false, [split#75552]\n",
      "                     :                          +- Project [split#75547]\n",
      "                     :                             +- Project [Text_Index#75645, split(Text_Index#75645, ', , -1) AS split#75547]\n",
      "                     :                                +- Project [Topic_Name#75643, URL#75644, Text_Index#75645, split(Network#75537, ,, -1) AS Network#75542]\n",
      "                     :                                   +- Project [Topic_Name#75643, URL#75644, Text_Index#75645, regexp_replace(Network#75646, [\\[\\]\\'], , 1) AS Network#75537]\n",
      "                     :                                      +- LogicalRDD [Topic_Name#75643, URL#75644, Text_Index#75645, Network#75646], false\n",
      "                     +- Project [Explode#75581, split#75585, 1#75601, split#75585[1] AS 2#75605]\n",
      "                        +- Project [Explode#75581, split#75585, split#75585[0] AS 1#75601]\n",
      "                           +- Project [Explode#75581, split(Explode#75581, ->, -1) AS split#75585]\n",
      "                              +- Project [Explode#75581]\n",
      "                                 +- Project [Network#75578, Explode#75581]\n",
      "                                    +- Generate explode(Network#75578), false, [Explode#75581]\n",
      "                                       +- Project [Network#75542 AS Network#75578]\n",
      "                                          +- Project [Topic_Name#75610, URL#75611, Text_Index#75612, split(Network#75537, ,, -1) AS Network#75542]\n",
      "                                             +- Project [Topic_Name#75610, URL#75611, Text_Index#75612, regexp_replace(Network#75613, [\\[\\]\\'], , 1) AS Network#75537]\n",
      "                                                +- LogicalRDD [Topic_Name#75610, URL#75611, Text_Index#75612, Network#75613], false\n",
      "\n"
     ]
    },
    {
     "name": "stderr",
     "output_type": "stream",
     "text": [
      " 50%|█████     | 14/28 [00:29<00:25,  1.81s/it]"
     ]
    },
    {
     "name": "stdout",
     "output_type": "stream",
     "text": [
      "0\n"
     ]
    },
    {
     "name": "stderr",
     "output_type": "stream",
     "text": [
      " 61%|██████    | 17/28 [00:34<00:19,  1.81s/it]"
     ]
    },
    {
     "name": "stdout",
     "output_type": "stream",
     "text": [
      "0\n"
     ]
    },
    {
     "name": "stderr",
     "output_type": "stream",
     "text": [
      "100%|██████████| 28/28 [00:57<00:00,  2.04s/it]\n",
      " 34%|███▍      | 11/32 [00:21<00:32,  1.56s/it]"
     ]
    },
    {
     "name": "stdout",
     "output_type": "stream",
     "text": [
      "list index out of range\n"
     ]
    },
    {
     "name": "stderr",
     "output_type": "stream",
     "text": [
      " 38%|███▊      | 12/32 [00:23<00:33,  1.69s/it]"
     ]
    },
    {
     "name": "stdout",
     "output_type": "stream",
     "text": [
      "local variable 'update_dict' referenced before assignment\n"
     ]
    },
    {
     "name": "stderr",
     "output_type": "stream",
     "text": [
      " 69%|██████▉   | 22/32 [00:44<00:19,  1.93s/it]"
     ]
    },
    {
     "name": "stdout",
     "output_type": "stream",
     "text": [
      "local variable 'update_dict' referenced before assignment\n"
     ]
    },
    {
     "name": "stderr",
     "output_type": "stream",
     "text": [
      " 72%|███████▏  | 23/32 [00:46<00:17,  1.90s/it]"
     ]
    },
    {
     "name": "stdout",
     "output_type": "stream",
     "text": [
      "local variable 'update_dict' referenced before assignment\n"
     ]
    },
    {
     "name": "stderr",
     "output_type": "stream",
     "text": [
      " 81%|████████▏ | 26/32 [00:51<00:11,  1.84s/it]"
     ]
    },
    {
     "name": "stdout",
     "output_type": "stream",
     "text": [
      "local variable 'update_dict' referenced before assignment\n"
     ]
    },
    {
     "name": "stderr",
     "output_type": "stream",
     "text": [
      "100%|██████████| 32/32 [01:04<00:00,  2.02s/it]\n",
      " 21%|██        | 8/39 [00:15<00:49,  1.61s/it]"
     ]
    },
    {
     "name": "stdout",
     "output_type": "stream",
     "text": [
      "[UNRESOLVED_COLUMN.WITH_SUGGESTION] A column or function parameter with name `3` cannot be resolved. Did you mean one of the following? [`1`, `2`].;\n",
      "'Filter NOT ('3 = NULL)\n",
      "+- Project [1#90544, 2#90577]\n",
      "   +- Project [Explode#90495, split#90499, 1#90544, 2#90577]\n",
      "      +- Project [id#90480, text#90471, length_of_text#90483, num_of_words#90487, Explode#90495, split#90499, 1#90544, text#90471 AS 2#90577]\n",
      "         +- Join RightOuter, (id#90480 = cast(2#90519 as int))\n",
      "            :- Project [id#90480, text#90471, length_of_text#90483, array_size(split(text#90471,  , -1)) AS num_of_words#90487]\n",
      "            :  +- Project [id#90480, text#90471, length(text#90471) AS length_of_text#90483]\n",
      "            :     +- Project [cast(id#90477 as int) AS id#90480, text#90471]\n",
      "            :        +- Project [regexp_replace(id#90468, [\\{\\}\"], , 1) AS id#90477, text#90471]\n",
      "            :           +- Project [id#90468, text#90471]\n",
      "            :              +- Project [split#90466, id#90468, split(split#90466, : ', -1)[1] AS text#90471]\n",
      "            :                 +- Project [split#90466, split(split#90466, : ', -1)[0] AS id#90468]\n",
      "            :                    +- Project [split#90466]\n",
      "            :                       +- Generate explode(split#90461), false, [split#90466]\n",
      "            :                          +- Project [split#90461]\n",
      "            :                             +- Project [Text_Index#90445, split(Text_Index#90445, ', , -1) AS split#90461]\n",
      "            :                                +- Project [Topic_Name#90443, URL#90444, Text_Index#90445, split(Network#90451, ,, -1) AS Network#90456]\n",
      "            :                                   +- Project [Topic_Name#90443, URL#90444, Text_Index#90445, regexp_replace(Network#90446, [\\[\\]\\'], , 1) AS Network#90451]\n",
      "            :                                      +- LogicalRDD [Topic_Name#90443, URL#90444, Text_Index#90445, Network#90446], false\n",
      "            +- Project [Explode#90495, split#90499, 1#90544, 2#90519]\n",
      "               +- Project [id#90480, text#90471, length_of_text#90483, num_of_words#90487, Explode#90495, split#90499, text#90471 AS 1#90544, 2#90519]\n",
      "                  +- Join RightOuter, (id#90480 = cast(1#90515 as int))\n",
      "                     :- Project [id#90480, text#90471, length_of_text#90483, array_size(split(text#90471,  , -1)) AS num_of_words#90487]\n",
      "                     :  +- Project [id#90480, text#90471, length(text#90471) AS length_of_text#90483]\n",
      "                     :     +- Project [cast(id#90477 as int) AS id#90480, text#90471]\n",
      "                     :        +- Project [regexp_replace(id#90468, [\\{\\}\"], , 1) AS id#90477, text#90471]\n",
      "                     :           +- Project [id#90468, text#90471]\n",
      "                     :              +- Project [split#90466, id#90468, split(split#90466, : ', -1)[1] AS text#90471]\n",
      "                     :                 +- Project [split#90466, split(split#90466, : ', -1)[0] AS id#90468]\n",
      "                     :                    +- Project [split#90466]\n",
      "                     :                       +- Generate explode(split#90461), false, [split#90466]\n",
      "                     :                          +- Project [split#90461]\n",
      "                     :                             +- Project [Text_Index#90559, split(Text_Index#90559, ', , -1) AS split#90461]\n",
      "                     :                                +- Project [Topic_Name#90557, URL#90558, Text_Index#90559, split(Network#90451, ,, -1) AS Network#90456]\n",
      "                     :                                   +- Project [Topic_Name#90557, URL#90558, Text_Index#90559, regexp_replace(Network#90560, [\\[\\]\\'], , 1) AS Network#90451]\n",
      "                     :                                      +- LogicalRDD [Topic_Name#90557, URL#90558, Text_Index#90559, Network#90560], false\n",
      "                     +- Project [Explode#90495, split#90499, 1#90515, split#90499[1] AS 2#90519]\n",
      "                        +- Project [Explode#90495, split#90499, split#90499[0] AS 1#90515]\n",
      "                           +- Project [Explode#90495, split(Explode#90495, ->, -1) AS split#90499]\n",
      "                              +- Project [Explode#90495]\n",
      "                                 +- Project [Network#90492, Explode#90495]\n",
      "                                    +- Generate explode(Network#90492), false, [Explode#90495]\n",
      "                                       +- Project [Network#90456 AS Network#90492]\n",
      "                                          +- Project [Topic_Name#90524, URL#90525, Text_Index#90526, split(Network#90451, ,, -1) AS Network#90456]\n",
      "                                             +- Project [Topic_Name#90524, URL#90525, Text_Index#90526, regexp_replace(Network#90527, [\\[\\]\\'], , 1) AS Network#90451]\n",
      "                                                +- LogicalRDD [Topic_Name#90524, URL#90525, Text_Index#90526, Network#90527], false\n",
      "\n"
     ]
    },
    {
     "name": "stderr",
     "output_type": "stream",
     "text": [
      " 74%|███████▍  | 29/39 [00:56<00:14,  1.48s/it]"
     ]
    },
    {
     "name": "stdout",
     "output_type": "stream",
     "text": [
      "list index out of range\n"
     ]
    },
    {
     "name": "stderr",
     "output_type": "stream",
     "text": [
      "100%|██████████| 39/39 [01:17<00:00,  1.99s/it]\n",
      "  2%|▏         | 1/41 [00:00<00:18,  2.22it/s]"
     ]
    },
    {
     "name": "stdout",
     "output_type": "stream",
     "text": [
      "list index out of range\n"
     ]
    },
    {
     "name": "stderr",
     "output_type": "stream",
     "text": [
      " 20%|█▉        | 8/41 [00:12<00:45,  1.37s/it]"
     ]
    },
    {
     "name": "stdout",
     "output_type": "stream",
     "text": [
      "list index out of range\n"
     ]
    },
    {
     "name": "stderr",
     "output_type": "stream",
     "text": [
      " 22%|██▏       | 9/41 [00:14<00:48,  1.52s/it]"
     ]
    },
    {
     "name": "stdout",
     "output_type": "stream",
     "text": [
      "local variable 'update_dict' referenced before assignment\n"
     ]
    },
    {
     "name": "stderr",
     "output_type": "stream",
     "text": [
      " 27%|██▋       | 11/41 [00:16<00:38,  1.28s/it]"
     ]
    },
    {
     "name": "stdout",
     "output_type": "stream",
     "text": [
      "list index out of range\n"
     ]
    },
    {
     "name": "stderr",
     "output_type": "stream",
     "text": [
      " 34%|███▍      | 14/41 [00:20<00:33,  1.25s/it]"
     ]
    },
    {
     "name": "stdout",
     "output_type": "stream",
     "text": [
      "[UNRESOLVED_COLUMN.WITH_SUGGESTION] A column or function parameter with name `3` cannot be resolved. Did you mean one of the following? [`1`, `2`].;\n",
      "'Filter NOT ('3 = NULL)\n",
      "+- Project [1#101860, 2#101893]\n",
      "   +- Project [Explode#101811, split#101815, 1#101860, 2#101893]\n",
      "      +- Project [id#101796, text#101787, length_of_text#101799, num_of_words#101803, Explode#101811, split#101815, 1#101860, text#101787 AS 2#101893]\n",
      "         +- Join RightOuter, (id#101796 = cast(2#101835 as int))\n",
      "            :- Project [id#101796, text#101787, length_of_text#101799, array_size(split(text#101787,  , -1)) AS num_of_words#101803]\n",
      "            :  +- Project [id#101796, text#101787, length(text#101787) AS length_of_text#101799]\n",
      "            :     +- Project [cast(id#101793 as int) AS id#101796, text#101787]\n",
      "            :        +- Project [regexp_replace(id#101784, [\\{\\}\"], , 1) AS id#101793, text#101787]\n",
      "            :           +- Project [id#101784, text#101787]\n",
      "            :              +- Project [split#101782, id#101784, split(split#101782, : ', -1)[1] AS text#101787]\n",
      "            :                 +- Project [split#101782, split(split#101782, : ', -1)[0] AS id#101784]\n",
      "            :                    +- Project [split#101782]\n",
      "            :                       +- Generate explode(split#101777), false, [split#101782]\n",
      "            :                          +- Project [split#101777]\n",
      "            :                             +- Project [Text_Index#101761, split(Text_Index#101761, ', , -1) AS split#101777]\n",
      "            :                                +- Project [Topic_Name#101759, URL#101760, Text_Index#101761, split(Network#101767, ,, -1) AS Network#101772]\n",
      "            :                                   +- Project [Topic_Name#101759, URL#101760, Text_Index#101761, regexp_replace(Network#101762, [\\[\\]\\'], , 1) AS Network#101767]\n",
      "            :                                      +- LogicalRDD [Topic_Name#101759, URL#101760, Text_Index#101761, Network#101762], false\n",
      "            +- Project [Explode#101811, split#101815, 1#101860, 2#101835]\n",
      "               +- Project [id#101796, text#101787, length_of_text#101799, num_of_words#101803, Explode#101811, split#101815, text#101787 AS 1#101860, 2#101835]\n",
      "                  +- Join RightOuter, (id#101796 = cast(1#101831 as int))\n",
      "                     :- Project [id#101796, text#101787, length_of_text#101799, array_size(split(text#101787,  , -1)) AS num_of_words#101803]\n",
      "                     :  +- Project [id#101796, text#101787, length(text#101787) AS length_of_text#101799]\n",
      "                     :     +- Project [cast(id#101793 as int) AS id#101796, text#101787]\n",
      "                     :        +- Project [regexp_replace(id#101784, [\\{\\}\"], , 1) AS id#101793, text#101787]\n",
      "                     :           +- Project [id#101784, text#101787]\n",
      "                     :              +- Project [split#101782, id#101784, split(split#101782, : ', -1)[1] AS text#101787]\n",
      "                     :                 +- Project [split#101782, split(split#101782, : ', -1)[0] AS id#101784]\n",
      "                     :                    +- Project [split#101782]\n",
      "                     :                       +- Generate explode(split#101777), false, [split#101782]\n",
      "                     :                          +- Project [split#101777]\n",
      "                     :                             +- Project [Text_Index#101875, split(Text_Index#101875, ', , -1) AS split#101777]\n",
      "                     :                                +- Project [Topic_Name#101873, URL#101874, Text_Index#101875, split(Network#101767, ,, -1) AS Network#101772]\n",
      "                     :                                   +- Project [Topic_Name#101873, URL#101874, Text_Index#101875, regexp_replace(Network#101876, [\\[\\]\\'], , 1) AS Network#101767]\n",
      "                     :                                      +- LogicalRDD [Topic_Name#101873, URL#101874, Text_Index#101875, Network#101876], false\n",
      "                     +- Project [Explode#101811, split#101815, 1#101831, split#101815[1] AS 2#101835]\n",
      "                        +- Project [Explode#101811, split#101815, split#101815[0] AS 1#101831]\n",
      "                           +- Project [Explode#101811, split(Explode#101811, ->, -1) AS split#101815]\n",
      "                              +- Project [Explode#101811]\n",
      "                                 +- Project [Network#101808, Explode#101811]\n",
      "                                    +- Generate explode(Network#101808), false, [Explode#101811]\n",
      "                                       +- Project [Network#101772 AS Network#101808]\n",
      "                                          +- Project [Topic_Name#101840, URL#101841, Text_Index#101842, split(Network#101767, ,, -1) AS Network#101772]\n",
      "                                             +- Project [Topic_Name#101840, URL#101841, Text_Index#101842, regexp_replace(Network#101843, [\\[\\]\\'], , 1) AS Network#101767]\n",
      "                                                +- LogicalRDD [Topic_Name#101840, URL#101841, Text_Index#101842, Network#101843], false\n",
      "\n"
     ]
    },
    {
     "name": "stderr",
     "output_type": "stream",
     "text": [
      " 44%|████▍     | 18/41 [00:27<00:32,  1.39s/it]"
     ]
    },
    {
     "name": "stdout",
     "output_type": "stream",
     "text": [
      "list index out of range\n"
     ]
    },
    {
     "name": "stderr",
     "output_type": "stream",
     "text": [
      " 54%|█████▎    | 22/41 [00:36<00:36,  1.90s/it]"
     ]
    },
    {
     "name": "stdout",
     "output_type": "stream",
     "text": [
      "local variable 'update_dict' referenced before assignment\n"
     ]
    },
    {
     "name": "stderr",
     "output_type": "stream",
     "text": [
      " 56%|█████▌    | 23/41 [00:38<00:33,  1.88s/it]"
     ]
    },
    {
     "name": "stdout",
     "output_type": "stream",
     "text": [
      "local variable 'update_dict' referenced before assignment\n"
     ]
    },
    {
     "name": "stderr",
     "output_type": "stream",
     "text": [
      " 68%|██████▊   | 28/41 [00:47<00:20,  1.61s/it]"
     ]
    },
    {
     "name": "stdout",
     "output_type": "stream",
     "text": [
      "list index out of range\n"
     ]
    },
    {
     "name": "stderr",
     "output_type": "stream",
     "text": [
      " 71%|███████   | 29/41 [00:47<00:15,  1.26s/it]"
     ]
    },
    {
     "name": "stdout",
     "output_type": "stream",
     "text": [
      "list index out of range\n"
     ]
    },
    {
     "name": "stderr",
     "output_type": "stream",
     "text": [
      "100%|██████████| 41/41 [01:13<00:00,  1.80s/it]\n",
      " 19%|█▉        | 9/48 [00:19<01:20,  2.07s/it]"
     ]
    },
    {
     "name": "stdout",
     "output_type": "stream",
     "text": [
      "local variable 'update_dict' referenced before assignment\n"
     ]
    },
    {
     "name": "stderr",
     "output_type": "stream",
     "text": [
      " 29%|██▉       | 14/48 [00:29<01:11,  2.10s/it]"
     ]
    },
    {
     "name": "stdout",
     "output_type": "stream",
     "text": [
      "local variable 'update_dict' referenced before assignment\n"
     ]
    },
    {
     "name": "stderr",
     "output_type": "stream",
     "text": [
      " 52%|█████▏    | 25/48 [00:53<00:36,  1.59s/it]"
     ]
    },
    {
     "name": "stdout",
     "output_type": "stream",
     "text": [
      "list index out of range\n"
     ]
    },
    {
     "name": "stderr",
     "output_type": "stream",
     "text": [
      " 54%|█████▍    | 26/48 [00:53<00:27,  1.24s/it]"
     ]
    },
    {
     "name": "stdout",
     "output_type": "stream",
     "text": [
      "list index out of range\n"
     ]
    },
    {
     "name": "stderr",
     "output_type": "stream",
     "text": [
      " 69%|██████▉   | 33/48 [01:08<00:25,  1.71s/it]"
     ]
    },
    {
     "name": "stdout",
     "output_type": "stream",
     "text": [
      "list index out of range\n"
     ]
    },
    {
     "name": "stderr",
     "output_type": "stream",
     "text": [
      " 92%|█████████▏| 44/48 [01:29<00:08,  2.02s/it]"
     ]
    },
    {
     "name": "stdout",
     "output_type": "stream",
     "text": [
      "local variable 'update_dict' referenced before assignment\n"
     ]
    },
    {
     "name": "stderr",
     "output_type": "stream",
     "text": [
      "100%|██████████| 48/48 [01:39<00:00,  2.06s/it]\n",
      "  5%|▍         | 2/42 [00:02<00:45,  1.15s/it]"
     ]
    },
    {
     "name": "stdout",
     "output_type": "stream",
     "text": [
      "list index out of range\n"
     ]
    },
    {
     "name": "stderr",
     "output_type": "stream",
     "text": [
      " 24%|██▍       | 10/42 [00:17<00:50,  1.58s/it]"
     ]
    },
    {
     "name": "stdout",
     "output_type": "stream",
     "text": [
      "[UNRESOLVED_COLUMN.WITH_SUGGESTION] A column or function parameter with name `3` cannot be resolved. Did you mean one of the following? [`1`, `2`].;\n",
      "'Filter NOT ('3 = NULL)\n",
      "+- Project [1#125386, 2#125419]\n",
      "   +- Project [Explode#125337, split#125341, 1#125386, 2#125419]\n",
      "      +- Project [id#125322, text#125313, length_of_text#125325, num_of_words#125329, Explode#125337, split#125341, 1#125386, text#125313 AS 2#125419]\n",
      "         +- Join RightOuter, (id#125322 = cast(2#125361 as int))\n",
      "            :- Project [id#125322, text#125313, length_of_text#125325, array_size(split(text#125313,  , -1)) AS num_of_words#125329]\n",
      "            :  +- Project [id#125322, text#125313, length(text#125313) AS length_of_text#125325]\n",
      "            :     +- Project [cast(id#125319 as int) AS id#125322, text#125313]\n",
      "            :        +- Project [regexp_replace(id#125310, [\\{\\}\"], , 1) AS id#125319, text#125313]\n",
      "            :           +- Project [id#125310, text#125313]\n",
      "            :              +- Project [split#125308, id#125310, split(split#125308, : ', -1)[1] AS text#125313]\n",
      "            :                 +- Project [split#125308, split(split#125308, : ', -1)[0] AS id#125310]\n",
      "            :                    +- Project [split#125308]\n",
      "            :                       +- Generate explode(split#125303), false, [split#125308]\n",
      "            :                          +- Project [split#125303]\n",
      "            :                             +- Project [Text_Index#125287, split(Text_Index#125287, ', , -1) AS split#125303]\n",
      "            :                                +- Project [Topic_Name#125285, URL#125286, Text_Index#125287, split(Network#125293, ,, -1) AS Network#125298]\n",
      "            :                                   +- Project [Topic_Name#125285, URL#125286, Text_Index#125287, regexp_replace(Network#125288, [\\[\\]\\'], , 1) AS Network#125293]\n",
      "            :                                      +- LogicalRDD [Topic_Name#125285, URL#125286, Text_Index#125287, Network#125288], false\n",
      "            +- Project [Explode#125337, split#125341, 1#125386, 2#125361]\n",
      "               +- Project [id#125322, text#125313, length_of_text#125325, num_of_words#125329, Explode#125337, split#125341, text#125313 AS 1#125386, 2#125361]\n",
      "                  +- Join RightOuter, (id#125322 = cast(1#125357 as int))\n",
      "                     :- Project [id#125322, text#125313, length_of_text#125325, array_size(split(text#125313,  , -1)) AS num_of_words#125329]\n",
      "                     :  +- Project [id#125322, text#125313, length(text#125313) AS length_of_text#125325]\n",
      "                     :     +- Project [cast(id#125319 as int) AS id#125322, text#125313]\n",
      "                     :        +- Project [regexp_replace(id#125310, [\\{\\}\"], , 1) AS id#125319, text#125313]\n",
      "                     :           +- Project [id#125310, text#125313]\n",
      "                     :              +- Project [split#125308, id#125310, split(split#125308, : ', -1)[1] AS text#125313]\n",
      "                     :                 +- Project [split#125308, split(split#125308, : ', -1)[0] AS id#125310]\n",
      "                     :                    +- Project [split#125308]\n",
      "                     :                       +- Generate explode(split#125303), false, [split#125308]\n",
      "                     :                          +- Project [split#125303]\n",
      "                     :                             +- Project [Text_Index#125401, split(Text_Index#125401, ', , -1) AS split#125303]\n",
      "                     :                                +- Project [Topic_Name#125399, URL#125400, Text_Index#125401, split(Network#125293, ,, -1) AS Network#125298]\n",
      "                     :                                   +- Project [Topic_Name#125399, URL#125400, Text_Index#125401, regexp_replace(Network#125402, [\\[\\]\\'], , 1) AS Network#125293]\n",
      "                     :                                      +- LogicalRDD [Topic_Name#125399, URL#125400, Text_Index#125401, Network#125402], false\n",
      "                     +- Project [Explode#125337, split#125341, 1#125357, split#125341[1] AS 2#125361]\n",
      "                        +- Project [Explode#125337, split#125341, split#125341[0] AS 1#125357]\n",
      "                           +- Project [Explode#125337, split(Explode#125337, ->, -1) AS split#125341]\n",
      "                              +- Project [Explode#125337]\n",
      "                                 +- Project [Network#125334, Explode#125337]\n",
      "                                    +- Generate explode(Network#125334), false, [Explode#125337]\n",
      "                                       +- Project [Network#125298 AS Network#125334]\n",
      "                                          +- Project [Topic_Name#125366, URL#125367, Text_Index#125368, split(Network#125293, ,, -1) AS Network#125298]\n",
      "                                             +- Project [Topic_Name#125366, URL#125367, Text_Index#125368, regexp_replace(Network#125369, [\\[\\]\\'], , 1) AS Network#125293]\n",
      "                                                +- LogicalRDD [Topic_Name#125366, URL#125367, Text_Index#125368, Network#125369], false\n",
      "\n"
     ]
    },
    {
     "name": "stderr",
     "output_type": "stream",
     "text": [
      " 50%|█████     | 21/42 [00:38<00:32,  1.55s/it]"
     ]
    },
    {
     "name": "stdout",
     "output_type": "stream",
     "text": [
      "list index out of range\n"
     ]
    },
    {
     "name": "stderr",
     "output_type": "stream",
     "text": [
      " 52%|█████▏    | 22/42 [00:39<00:24,  1.22s/it]"
     ]
    },
    {
     "name": "stdout",
     "output_type": "stream",
     "text": [
      "list index out of range\n"
     ]
    },
    {
     "name": "stderr",
     "output_type": "stream",
     "text": [
      "100%|██████████| 42/42 [01:20<00:00,  1.93s/it]\n",
      " 66%|██████▌   | 42/64 [01:25<00:41,  1.87s/it]"
     ]
    },
    {
     "name": "stdout",
     "output_type": "stream",
     "text": [
      "local variable 'update_dict' referenced before assignment\n"
     ]
    },
    {
     "name": "stderr",
     "output_type": "stream",
     "text": [
      " 67%|██████▋   | 43/64 [01:27<00:38,  1.84s/it]"
     ]
    },
    {
     "name": "stdout",
     "output_type": "stream",
     "text": [
      "local variable 'update_dict' referenced before assignment\n"
     ]
    },
    {
     "name": "stderr",
     "output_type": "stream",
     "text": [
      " 72%|███████▏  | 46/64 [01:32<00:27,  1.54s/it]"
     ]
    },
    {
     "name": "stdout",
     "output_type": "stream",
     "text": [
      "list index out of range\n"
     ]
    },
    {
     "name": "stderr",
     "output_type": "stream",
     "text": [
      " 92%|█████████▏| 59/64 [01:57<00:08,  1.61s/it]"
     ]
    },
    {
     "name": "stdout",
     "output_type": "stream",
     "text": [
      "[UNRESOLVED_COLUMN.WITH_SUGGESTION] A column or function parameter with name `3` cannot be resolved. Did you mean one of the following? [`1`, `2`].;\n",
      "'Filter NOT ('3 = NULL)\n",
      "+- Project [1#151057, 2#151090]\n",
      "   +- Project [Explode#151008, split#151012, 1#151057, 2#151090]\n",
      "      +- Project [id#150993, text#150984, length_of_text#150996, num_of_words#151000, Explode#151008, split#151012, 1#151057, text#150984 AS 2#151090]\n",
      "         +- Join RightOuter, (id#150993 = cast(2#151032 as int))\n",
      "            :- Project [id#150993, text#150984, length_of_text#150996, array_size(split(text#150984,  , -1)) AS num_of_words#151000]\n",
      "            :  +- Project [id#150993, text#150984, length(text#150984) AS length_of_text#150996]\n",
      "            :     +- Project [cast(id#150990 as int) AS id#150993, text#150984]\n",
      "            :        +- Project [regexp_replace(id#150981, [\\{\\}\"], , 1) AS id#150990, text#150984]\n",
      "            :           +- Project [id#150981, text#150984]\n",
      "            :              +- Project [split#150979, id#150981, split(split#150979, : ', -1)[1] AS text#150984]\n",
      "            :                 +- Project [split#150979, split(split#150979, : ', -1)[0] AS id#150981]\n",
      "            :                    +- Project [split#150979]\n",
      "            :                       +- Generate explode(split#150974), false, [split#150979]\n",
      "            :                          +- Project [split#150974]\n",
      "            :                             +- Project [Text_Index#150958, split(Text_Index#150958, ', , -1) AS split#150974]\n",
      "            :                                +- Project [Topic_Name#150956, URL#150957, Text_Index#150958, split(Network#150964, ,, -1) AS Network#150969]\n",
      "            :                                   +- Project [Topic_Name#150956, URL#150957, Text_Index#150958, regexp_replace(Network#150959, [\\[\\]\\'], , 1) AS Network#150964]\n",
      "            :                                      +- LogicalRDD [Topic_Name#150956, URL#150957, Text_Index#150958, Network#150959], false\n",
      "            +- Project [Explode#151008, split#151012, 1#151057, 2#151032]\n",
      "               +- Project [id#150993, text#150984, length_of_text#150996, num_of_words#151000, Explode#151008, split#151012, text#150984 AS 1#151057, 2#151032]\n",
      "                  +- Join RightOuter, (id#150993 = cast(1#151028 as int))\n",
      "                     :- Project [id#150993, text#150984, length_of_text#150996, array_size(split(text#150984,  , -1)) AS num_of_words#151000]\n",
      "                     :  +- Project [id#150993, text#150984, length(text#150984) AS length_of_text#150996]\n",
      "                     :     +- Project [cast(id#150990 as int) AS id#150993, text#150984]\n",
      "                     :        +- Project [regexp_replace(id#150981, [\\{\\}\"], , 1) AS id#150990, text#150984]\n",
      "                     :           +- Project [id#150981, text#150984]\n",
      "                     :              +- Project [split#150979, id#150981, split(split#150979, : ', -1)[1] AS text#150984]\n",
      "                     :                 +- Project [split#150979, split(split#150979, : ', -1)[0] AS id#150981]\n",
      "                     :                    +- Project [split#150979]\n",
      "                     :                       +- Generate explode(split#150974), false, [split#150979]\n",
      "                     :                          +- Project [split#150974]\n",
      "                     :                             +- Project [Text_Index#151072, split(Text_Index#151072, ', , -1) AS split#150974]\n",
      "                     :                                +- Project [Topic_Name#151070, URL#151071, Text_Index#151072, split(Network#150964, ,, -1) AS Network#150969]\n",
      "                     :                                   +- Project [Topic_Name#151070, URL#151071, Text_Index#151072, regexp_replace(Network#151073, [\\[\\]\\'], , 1) AS Network#150964]\n",
      "                     :                                      +- LogicalRDD [Topic_Name#151070, URL#151071, Text_Index#151072, Network#151073], false\n",
      "                     +- Project [Explode#151008, split#151012, 1#151028, split#151012[1] AS 2#151032]\n",
      "                        +- Project [Explode#151008, split#151012, split#151012[0] AS 1#151028]\n",
      "                           +- Project [Explode#151008, split(Explode#151008, ->, -1) AS split#151012]\n",
      "                              +- Project [Explode#151008]\n",
      "                                 +- Project [Network#151005, Explode#151008]\n",
      "                                    +- Generate explode(Network#151005), false, [Explode#151008]\n",
      "                                       +- Project [Network#150969 AS Network#151005]\n",
      "                                          +- Project [Topic_Name#151037, URL#151038, Text_Index#151039, split(Network#150964, ,, -1) AS Network#150969]\n",
      "                                             +- Project [Topic_Name#151037, URL#151038, Text_Index#151039, regexp_replace(Network#151040, [\\[\\]\\'], , 1) AS Network#150964]\n",
      "                                                +- LogicalRDD [Topic_Name#151037, URL#151038, Text_Index#151039, Network#151040], false\n",
      "\n"
     ]
    },
    {
     "name": "stderr",
     "output_type": "stream",
     "text": [
      "100%|██████████| 64/64 [02:06<00:00,  1.98s/it]\n",
      " 25%|██▌       | 20/79 [00:43<02:11,  2.23s/it]"
     ]
    },
    {
     "name": "stdout",
     "output_type": "stream",
     "text": [
      "local variable 'update_dict' referenced before assignment\n"
     ]
    },
    {
     "name": "stderr",
     "output_type": "stream",
     "text": [
      " 28%|██▊       | 22/79 [00:45<01:31,  1.60s/it]"
     ]
    },
    {
     "name": "stdout",
     "output_type": "stream",
     "text": [
      "list index out of range\n"
     ]
    },
    {
     "name": "stderr",
     "output_type": "stream",
     "text": [
      " 32%|███▏      | 25/79 [00:52<01:51,  2.06s/it]"
     ]
    },
    {
     "name": "stdout",
     "output_type": "stream",
     "text": [
      "local variable 'update_dict' referenced before assignment\n"
     ]
    },
    {
     "name": "stderr",
     "output_type": "stream",
     "text": [
      " 42%|████▏     | 33/79 [01:10<01:26,  1.89s/it]"
     ]
    },
    {
     "name": "stdout",
     "output_type": "stream",
     "text": [
      "list index out of range\n"
     ]
    },
    {
     "name": "stderr",
     "output_type": "stream",
     "text": [
      " 43%|████▎     | 34/79 [01:10<01:04,  1.44s/it]"
     ]
    },
    {
     "name": "stdout",
     "output_type": "stream",
     "text": [
      "list index out of range\n"
     ]
    },
    {
     "name": "stderr",
     "output_type": "stream",
     "text": [
      " 44%|████▍     | 35/79 [01:11<00:50,  1.14s/it]"
     ]
    },
    {
     "name": "stdout",
     "output_type": "stream",
     "text": [
      "list index out of range\n"
     ]
    },
    {
     "name": "stderr",
     "output_type": "stream",
     "text": [
      " 46%|████▌     | 36/79 [01:11<00:39,  1.09it/s]"
     ]
    },
    {
     "name": "stdout",
     "output_type": "stream",
     "text": [
      "list index out of range\n"
     ]
    },
    {
     "name": "stderr",
     "output_type": "stream",
     "text": [
      " 48%|████▊     | 38/79 [01:13<00:41,  1.00s/it]"
     ]
    },
    {
     "name": "stdout",
     "output_type": "stream",
     "text": [
      "list index out of range\n"
     ]
    },
    {
     "name": "stderr",
     "output_type": "stream",
     "text": [
      " 49%|████▉     | 39/79 [01:14<00:33,  1.19it/s]"
     ]
    },
    {
     "name": "stdout",
     "output_type": "stream",
     "text": [
      "list index out of range\n"
     ]
    },
    {
     "name": "stderr",
     "output_type": "stream",
     "text": [
      " 51%|█████     | 40/79 [01:14<00:28,  1.39it/s]"
     ]
    },
    {
     "name": "stdout",
     "output_type": "stream",
     "text": [
      "list index out of range\n"
     ]
    },
    {
     "name": "stderr",
     "output_type": "stream",
     "text": [
      " 52%|█████▏    | 41/79 [01:15<00:24,  1.57it/s]"
     ]
    },
    {
     "name": "stdout",
     "output_type": "stream",
     "text": [
      "list index out of range\n"
     ]
    },
    {
     "name": "stderr",
     "output_type": "stream",
     "text": [
      " 54%|█████▍    | 43/79 [01:17<00:30,  1.17it/s]"
     ]
    },
    {
     "name": "stdout",
     "output_type": "stream",
     "text": [
      "list index out of range\n"
     ]
    },
    {
     "name": "stderr",
     "output_type": "stream",
     "text": [
      " 56%|█████▌    | 44/79 [01:18<00:26,  1.33it/s]"
     ]
    },
    {
     "name": "stdout",
     "output_type": "stream",
     "text": [
      "list index out of range\n"
     ]
    },
    {
     "name": "stderr",
     "output_type": "stream",
     "text": [
      " 57%|█████▋    | 45/79 [01:18<00:22,  1.53it/s]"
     ]
    },
    {
     "name": "stdout",
     "output_type": "stream",
     "text": [
      "list index out of range\n"
     ]
    },
    {
     "name": "stderr",
     "output_type": "stream",
     "text": [
      " 58%|█████▊    | 46/79 [01:18<00:19,  1.73it/s]"
     ]
    },
    {
     "name": "stdout",
     "output_type": "stream",
     "text": [
      "list index out of range\n"
     ]
    },
    {
     "name": "stderr",
     "output_type": "stream",
     "text": [
      " 61%|██████    | 48/79 [01:22<00:30,  1.02it/s]"
     ]
    },
    {
     "name": "stdout",
     "output_type": "stream",
     "text": [
      "list index out of range\n"
     ]
    },
    {
     "name": "stderr",
     "output_type": "stream",
     "text": [
      " 62%|██████▏   | 49/79 [01:22<00:24,  1.22it/s]"
     ]
    },
    {
     "name": "stdout",
     "output_type": "stream",
     "text": [
      "list index out of range\n"
     ]
    },
    {
     "name": "stderr",
     "output_type": "stream",
     "text": [
      " 63%|██████▎   | 50/79 [01:22<00:20,  1.43it/s]"
     ]
    },
    {
     "name": "stdout",
     "output_type": "stream",
     "text": [
      "list index out of range\n"
     ]
    },
    {
     "name": "stderr",
     "output_type": "stream",
     "text": [
      " 65%|██████▍   | 51/79 [01:23<00:17,  1.61it/s]"
     ]
    },
    {
     "name": "stdout",
     "output_type": "stream",
     "text": [
      "list index out of range\n"
     ]
    },
    {
     "name": "stderr",
     "output_type": "stream",
     "text": [
      " 71%|███████   | 56/79 [01:32<00:32,  1.43s/it]"
     ]
    },
    {
     "name": "stdout",
     "output_type": "stream",
     "text": [
      "[UNRESOLVED_COLUMN.WITH_SUGGESTION] A column or function parameter with name `3` cannot be resolved. Did you mean one of the following? [`1`].;\n",
      "'Filter NOT ('3 = NULL)\n",
      "+- Project [1#164632]\n",
      "   +- Project [Explode#164590, split#164594, 1#164632]\n",
      "      +- Project [id#164575, text#164566, length_of_text#164578, num_of_words#164582, Explode#164590, split#164594, text#164566 AS 1#164632]\n",
      "         +- Join RightOuter, (id#164575 = cast(1#164610 as int))\n",
      "            :- Project [id#164575, text#164566, length_of_text#164578, array_size(split(text#164566,  , -1)) AS num_of_words#164582]\n",
      "            :  +- Project [id#164575, text#164566, length(text#164566) AS length_of_text#164578]\n",
      "            :     +- Project [cast(id#164572 as int) AS id#164575, text#164566]\n",
      "            :        +- Project [regexp_replace(id#164563, [\\{\\}\"], , 1) AS id#164572, text#164566]\n",
      "            :           +- Project [id#164563, text#164566]\n",
      "            :              +- Project [split#164561, id#164563, split(split#164561, : ', -1)[1] AS text#164566]\n",
      "            :                 +- Project [split#164561, split(split#164561, : ', -1)[0] AS id#164563]\n",
      "            :                    +- Project [split#164561]\n",
      "            :                       +- Generate explode(split#164556), false, [split#164561]\n",
      "            :                          +- Project [split#164556]\n",
      "            :                             +- Project [Text_Index#164540, split(Text_Index#164540, ', , -1) AS split#164556]\n",
      "            :                                +- Project [Topic_Name#164538, URL#164539, Text_Index#164540, split(Network#164546, ,, -1) AS Network#164551]\n",
      "            :                                   +- Project [Topic_Name#164538, URL#164539, Text_Index#164540, regexp_replace(Network#164541, [\\[\\]\\'], , 1) AS Network#164546]\n",
      "            :                                      +- LogicalRDD [Topic_Name#164538, URL#164539, Text_Index#164540, Network#164541], false\n",
      "            +- Project [Explode#164590, split#164594, split#164594[0] AS 1#164610]\n",
      "               +- Project [Explode#164590, split(Explode#164590, ->, -1) AS split#164594]\n",
      "                  +- Project [Explode#164590]\n",
      "                     +- Project [Network#164587, Explode#164590]\n",
      "                        +- Generate explode(Network#164587), false, [Explode#164590]\n",
      "                           +- Project [Network#164551 AS Network#164587]\n",
      "                              +- Project [Topic_Name#164614, URL#164615, Text_Index#164616, split(Network#164546, ,, -1) AS Network#164551]\n",
      "                                 +- Project [Topic_Name#164614, URL#164615, Text_Index#164616, regexp_replace(Network#164617, [\\[\\]\\'], , 1) AS Network#164546]\n",
      "                                    +- LogicalRDD [Topic_Name#164614, URL#164615, Text_Index#164616, Network#164617], false\n",
      "\n"
     ]
    },
    {
     "name": "stderr",
     "output_type": "stream",
     "text": [
      " 82%|████████▏ | 65/79 [01:50<00:21,  1.54s/it]"
     ]
    },
    {
     "name": "stdout",
     "output_type": "stream",
     "text": [
      "list index out of range\n"
     ]
    },
    {
     "name": "stderr",
     "output_type": "stream",
     "text": [
      " 84%|████████▎ | 66/79 [01:50<00:15,  1.21s/it]"
     ]
    },
    {
     "name": "stdout",
     "output_type": "stream",
     "text": [
      "list index out of range\n"
     ]
    },
    {
     "name": "stderr",
     "output_type": "stream",
     "text": [
      " 86%|████████▌ | 68/79 [01:53<00:12,  1.17s/it]"
     ]
    },
    {
     "name": "stdout",
     "output_type": "stream",
     "text": [
      "list index out of range\n"
     ]
    },
    {
     "name": "stderr",
     "output_type": "stream",
     "text": [
      " 87%|████████▋ | 69/79 [01:53<00:09,  1.04it/s]"
     ]
    },
    {
     "name": "stdout",
     "output_type": "stream",
     "text": [
      "list index out of range\n"
     ]
    },
    {
     "name": "stderr",
     "output_type": "stream",
     "text": [
      " 90%|████████▉ | 71/79 [01:56<00:09,  1.15s/it]"
     ]
    },
    {
     "name": "stdout",
     "output_type": "stream",
     "text": [
      "list index out of range\n"
     ]
    },
    {
     "name": "stderr",
     "output_type": "stream",
     "text": [
      " 91%|█████████ | 72/79 [01:57<00:06,  1.06it/s]"
     ]
    },
    {
     "name": "stdout",
     "output_type": "stream",
     "text": [
      "list index out of range\n"
     ]
    },
    {
     "name": "stderr",
     "output_type": "stream",
     "text": [
      " 94%|█████████▎| 74/79 [02:00<00:05,  1.09s/it]"
     ]
    },
    {
     "name": "stdout",
     "output_type": "stream",
     "text": [
      "list index out of range\n"
     ]
    },
    {
     "name": "stderr",
     "output_type": "stream",
     "text": [
      " 95%|█████████▍| 75/79 [02:00<00:03,  1.11it/s]"
     ]
    },
    {
     "name": "stdout",
     "output_type": "stream",
     "text": [
      "list index out of range\n"
     ]
    },
    {
     "name": "stderr",
     "output_type": "stream",
     "text": [
      " 97%|█████████▋| 77/79 [02:02<00:01,  1.02it/s]"
     ]
    },
    {
     "name": "stdout",
     "output_type": "stream",
     "text": [
      "list index out of range\n"
     ]
    },
    {
     "name": "stderr",
     "output_type": "stream",
     "text": [
      " 99%|█████████▊| 78/79 [02:03<00:00,  1.22it/s]"
     ]
    },
    {
     "name": "stdout",
     "output_type": "stream",
     "text": [
      "list index out of range\n"
     ]
    },
    {
     "name": "stderr",
     "output_type": "stream",
     "text": [
      "100%|██████████| 79/79 [02:05<00:00,  1.59s/it]\n",
      "  5%|▌         | 4/74 [00:08<02:33,  2.20s/it]"
     ]
    },
    {
     "name": "stdout",
     "output_type": "stream",
     "text": [
      "local variable 'update_dict' referenced before assignment\n"
     ]
    },
    {
     "name": "stderr",
     "output_type": "stream",
     "text": [
      " 12%|█▏        | 9/74 [00:19<02:18,  2.13s/it]"
     ]
    },
    {
     "name": "stdout",
     "output_type": "stream",
     "text": [
      "local variable 'update_dict' referenced before assignment\n"
     ]
    },
    {
     "name": "stderr",
     "output_type": "stream",
     "text": [
      " 20%|██        | 15/74 [00:29<01:27,  1.48s/it]"
     ]
    },
    {
     "name": "stdout",
     "output_type": "stream",
     "text": [
      "list index out of range\n"
     ]
    },
    {
     "name": "stderr",
     "output_type": "stream",
     "text": [
      " 24%|██▍       | 18/74 [00:33<01:14,  1.33s/it]"
     ]
    },
    {
     "name": "stdout",
     "output_type": "stream",
     "text": [
      "list index out of range\n"
     ]
    },
    {
     "name": "stderr",
     "output_type": "stream",
     "text": [
      " 27%|██▋       | 20/74 [00:35<01:03,  1.18s/it]"
     ]
    },
    {
     "name": "stdout",
     "output_type": "stream",
     "text": [
      "list index out of range\n"
     ]
    },
    {
     "name": "stderr",
     "output_type": "stream",
     "text": [
      " 28%|██▊       | 21/74 [00:36<00:50,  1.05it/s]"
     ]
    },
    {
     "name": "stdout",
     "output_type": "stream",
     "text": [
      "list index out of range\n"
     ]
    },
    {
     "name": "stderr",
     "output_type": "stream",
     "text": [
      " 34%|███▍      | 25/74 [00:42<01:02,  1.27s/it]"
     ]
    },
    {
     "name": "stdout",
     "output_type": "stream",
     "text": [
      "[UNRESOLVED_COLUMN.WITH_SUGGESTION] A column or function parameter with name `3` cannot be resolved. Did you mean one of the following? [`1`, `2`].;\n",
      "'Filter NOT ('3 = NULL)\n",
      "+- Project [1#174789, 2#174822]\n",
      "   +- Project [Explode#174740, split#174744, 1#174789, 2#174822]\n",
      "      +- Project [id#174725, text#174716, length_of_text#174728, num_of_words#174732, Explode#174740, split#174744, 1#174789, text#174716 AS 2#174822]\n",
      "         +- Join RightOuter, (id#174725 = cast(2#174764 as int))\n",
      "            :- Project [id#174725, text#174716, length_of_text#174728, array_size(split(text#174716,  , -1)) AS num_of_words#174732]\n",
      "            :  +- Project [id#174725, text#174716, length(text#174716) AS length_of_text#174728]\n",
      "            :     +- Project [cast(id#174722 as int) AS id#174725, text#174716]\n",
      "            :        +- Project [regexp_replace(id#174713, [\\{\\}\"], , 1) AS id#174722, text#174716]\n",
      "            :           +- Project [id#174713, text#174716]\n",
      "            :              +- Project [split#174711, id#174713, split(split#174711, : ', -1)[1] AS text#174716]\n",
      "            :                 +- Project [split#174711, split(split#174711, : ', -1)[0] AS id#174713]\n",
      "            :                    +- Project [split#174711]\n",
      "            :                       +- Generate explode(split#174706), false, [split#174711]\n",
      "            :                          +- Project [split#174706]\n",
      "            :                             +- Project [Text_Index#174690, split(Text_Index#174690, ', , -1) AS split#174706]\n",
      "            :                                +- Project [Topic_Name#174688, URL#174689, Text_Index#174690, split(Network#174696, ,, -1) AS Network#174701]\n",
      "            :                                   +- Project [Topic_Name#174688, URL#174689, Text_Index#174690, regexp_replace(Network#174691, [\\[\\]\\'], , 1) AS Network#174696]\n",
      "            :                                      +- LogicalRDD [Topic_Name#174688, URL#174689, Text_Index#174690, Network#174691], false\n",
      "            +- Project [Explode#174740, split#174744, 1#174789, 2#174764]\n",
      "               +- Project [id#174725, text#174716, length_of_text#174728, num_of_words#174732, Explode#174740, split#174744, text#174716 AS 1#174789, 2#174764]\n",
      "                  +- Join RightOuter, (id#174725 = cast(1#174760 as int))\n",
      "                     :- Project [id#174725, text#174716, length_of_text#174728, array_size(split(text#174716,  , -1)) AS num_of_words#174732]\n",
      "                     :  +- Project [id#174725, text#174716, length(text#174716) AS length_of_text#174728]\n",
      "                     :     +- Project [cast(id#174722 as int) AS id#174725, text#174716]\n",
      "                     :        +- Project [regexp_replace(id#174713, [\\{\\}\"], , 1) AS id#174722, text#174716]\n",
      "                     :           +- Project [id#174713, text#174716]\n",
      "                     :              +- Project [split#174711, id#174713, split(split#174711, : ', -1)[1] AS text#174716]\n",
      "                     :                 +- Project [split#174711, split(split#174711, : ', -1)[0] AS id#174713]\n",
      "                     :                    +- Project [split#174711]\n",
      "                     :                       +- Generate explode(split#174706), false, [split#174711]\n",
      "                     :                          +- Project [split#174706]\n",
      "                     :                             +- Project [Text_Index#174804, split(Text_Index#174804, ', , -1) AS split#174706]\n",
      "                     :                                +- Project [Topic_Name#174802, URL#174803, Text_Index#174804, split(Network#174696, ,, -1) AS Network#174701]\n",
      "                     :                                   +- Project [Topic_Name#174802, URL#174803, Text_Index#174804, regexp_replace(Network#174805, [\\[\\]\\'], , 1) AS Network#174696]\n",
      "                     :                                      +- LogicalRDD [Topic_Name#174802, URL#174803, Text_Index#174804, Network#174805], false\n",
      "                     +- Project [Explode#174740, split#174744, 1#174760, split#174744[1] AS 2#174764]\n",
      "                        +- Project [Explode#174740, split#174744, split#174744[0] AS 1#174760]\n",
      "                           +- Project [Explode#174740, split(Explode#174740, ->, -1) AS split#174744]\n",
      "                              +- Project [Explode#174740]\n",
      "                                 +- Project [Network#174737, Explode#174740]\n",
      "                                    +- Generate explode(Network#174737), false, [Explode#174740]\n",
      "                                       +- Project [Network#174701 AS Network#174737]\n",
      "                                          +- Project [Topic_Name#174769, URL#174770, Text_Index#174771, split(Network#174696, ,, -1) AS Network#174701]\n",
      "                                             +- Project [Topic_Name#174769, URL#174770, Text_Index#174771, regexp_replace(Network#174772, [\\[\\]\\'], , 1) AS Network#174696]\n",
      "                                                +- LogicalRDD [Topic_Name#174769, URL#174770, Text_Index#174771, Network#174772], false\n",
      "\n"
     ]
    },
    {
     "name": "stderr",
     "output_type": "stream",
     "text": [
      " 36%|███▋      | 27/74 [00:45<00:56,  1.20s/it]"
     ]
    },
    {
     "name": "stdout",
     "output_type": "stream",
     "text": [
      "[UNRESOLVED_COLUMN.WITH_SUGGESTION] A column or function parameter with name `3` cannot be resolved. Did you mean one of the following? [`1`, `2`].;\n",
      "'Filter NOT ('3 = NULL)\n",
      "+- Project [1#175270, 2#175303]\n",
      "   +- Project [Explode#175221, split#175225, 1#175270, 2#175303]\n",
      "      +- Project [id#175206, text#175197, length_of_text#175209, num_of_words#175213, Explode#175221, split#175225, 1#175270, text#175197 AS 2#175303]\n",
      "         +- Join RightOuter, (id#175206 = cast(2#175245 as int))\n",
      "            :- Project [id#175206, text#175197, length_of_text#175209, array_size(split(text#175197,  , -1)) AS num_of_words#175213]\n",
      "            :  +- Project [id#175206, text#175197, length(text#175197) AS length_of_text#175209]\n",
      "            :     +- Project [cast(id#175203 as int) AS id#175206, text#175197]\n",
      "            :        +- Project [regexp_replace(id#175194, [\\{\\}\"], , 1) AS id#175203, text#175197]\n",
      "            :           +- Project [id#175194, text#175197]\n",
      "            :              +- Project [split#175192, id#175194, split(split#175192, : ', -1)[1] AS text#175197]\n",
      "            :                 +- Project [split#175192, split(split#175192, : ', -1)[0] AS id#175194]\n",
      "            :                    +- Project [split#175192]\n",
      "            :                       +- Generate explode(split#175187), false, [split#175192]\n",
      "            :                          +- Project [split#175187]\n",
      "            :                             +- Project [Text_Index#175171, split(Text_Index#175171, ', , -1) AS split#175187]\n",
      "            :                                +- Project [Topic_Name#175169, URL#175170, Text_Index#175171, split(Network#175177, ,, -1) AS Network#175182]\n",
      "            :                                   +- Project [Topic_Name#175169, URL#175170, Text_Index#175171, regexp_replace(Network#175172, [\\[\\]\\'], , 1) AS Network#175177]\n",
      "            :                                      +- LogicalRDD [Topic_Name#175169, URL#175170, Text_Index#175171, Network#175172], false\n",
      "            +- Project [Explode#175221, split#175225, 1#175270, 2#175245]\n",
      "               +- Project [id#175206, text#175197, length_of_text#175209, num_of_words#175213, Explode#175221, split#175225, text#175197 AS 1#175270, 2#175245]\n",
      "                  +- Join RightOuter, (id#175206 = cast(1#175241 as int))\n",
      "                     :- Project [id#175206, text#175197, length_of_text#175209, array_size(split(text#175197,  , -1)) AS num_of_words#175213]\n",
      "                     :  +- Project [id#175206, text#175197, length(text#175197) AS length_of_text#175209]\n",
      "                     :     +- Project [cast(id#175203 as int) AS id#175206, text#175197]\n",
      "                     :        +- Project [regexp_replace(id#175194, [\\{\\}\"], , 1) AS id#175203, text#175197]\n",
      "                     :           +- Project [id#175194, text#175197]\n",
      "                     :              +- Project [split#175192, id#175194, split(split#175192, : ', -1)[1] AS text#175197]\n",
      "                     :                 +- Project [split#175192, split(split#175192, : ', -1)[0] AS id#175194]\n",
      "                     :                    +- Project [split#175192]\n",
      "                     :                       +- Generate explode(split#175187), false, [split#175192]\n",
      "                     :                          +- Project [split#175187]\n",
      "                     :                             +- Project [Text_Index#175285, split(Text_Index#175285, ', , -1) AS split#175187]\n",
      "                     :                                +- Project [Topic_Name#175283, URL#175284, Text_Index#175285, split(Network#175177, ,, -1) AS Network#175182]\n",
      "                     :                                   +- Project [Topic_Name#175283, URL#175284, Text_Index#175285, regexp_replace(Network#175286, [\\[\\]\\'], , 1) AS Network#175177]\n",
      "                     :                                      +- LogicalRDD [Topic_Name#175283, URL#175284, Text_Index#175285, Network#175286], false\n",
      "                     +- Project [Explode#175221, split#175225, 1#175241, split#175225[1] AS 2#175245]\n",
      "                        +- Project [Explode#175221, split#175225, split#175225[0] AS 1#175241]\n",
      "                           +- Project [Explode#175221, split(Explode#175221, ->, -1) AS split#175225]\n",
      "                              +- Project [Explode#175221]\n",
      "                                 +- Project [Network#175218, Explode#175221]\n",
      "                                    +- Generate explode(Network#175218), false, [Explode#175221]\n",
      "                                       +- Project [Network#175182 AS Network#175218]\n",
      "                                          +- Project [Topic_Name#175250, URL#175251, Text_Index#175252, split(Network#175177, ,, -1) AS Network#175182]\n",
      "                                             +- Project [Topic_Name#175250, URL#175251, Text_Index#175252, regexp_replace(Network#175253, [\\[\\]\\'], , 1) AS Network#175177]\n",
      "                                                +- LogicalRDD [Topic_Name#175250, URL#175251, Text_Index#175252, Network#175253], false\n",
      "\n"
     ]
    },
    {
     "name": "stderr",
     "output_type": "stream",
     "text": [
      " 43%|████▎     | 32/74 [00:55<01:06,  1.59s/it]"
     ]
    },
    {
     "name": "stdout",
     "output_type": "stream",
     "text": [
      "[UNRESOLVED_COLUMN.WITH_SUGGESTION] A column or function parameter with name `3` cannot be resolved. Did you mean one of the following? [`1`].;\n",
      "'Filter NOT ('3 = NULL)\n",
      "+- Project [1#176600]\n",
      "   +- Project [Explode#176558, split#176562, 1#176600]\n",
      "      +- Project [id#176543, text#176534, length_of_text#176546, num_of_words#176550, Explode#176558, split#176562, text#176534 AS 1#176600]\n",
      "         +- Join RightOuter, (id#176543 = cast(1#176578 as int))\n",
      "            :- Project [id#176543, text#176534, length_of_text#176546, array_size(split(text#176534,  , -1)) AS num_of_words#176550]\n",
      "            :  +- Project [id#176543, text#176534, length(text#176534) AS length_of_text#176546]\n",
      "            :     +- Project [cast(id#176540 as int) AS id#176543, text#176534]\n",
      "            :        +- Project [regexp_replace(id#176531, [\\{\\}\"], , 1) AS id#176540, text#176534]\n",
      "            :           +- Project [id#176531, text#176534]\n",
      "            :              +- Project [split#176529, id#176531, split(split#176529, : ', -1)[1] AS text#176534]\n",
      "            :                 +- Project [split#176529, split(split#176529, : ', -1)[0] AS id#176531]\n",
      "            :                    +- Project [split#176529]\n",
      "            :                       +- Generate explode(split#176524), false, [split#176529]\n",
      "            :                          +- Project [split#176524]\n",
      "            :                             +- Project [Text_Index#176508, split(Text_Index#176508, ', , -1) AS split#176524]\n",
      "            :                                +- Project [Topic_Name#176506, URL#176507, Text_Index#176508, split(Network#176514, ,, -1) AS Network#176519]\n",
      "            :                                   +- Project [Topic_Name#176506, URL#176507, Text_Index#176508, regexp_replace(Network#176509, [\\[\\]\\'], , 1) AS Network#176514]\n",
      "            :                                      +- LogicalRDD [Topic_Name#176506, URL#176507, Text_Index#176508, Network#176509], false\n",
      "            +- Project [Explode#176558, split#176562, split#176562[0] AS 1#176578]\n",
      "               +- Project [Explode#176558, split(Explode#176558, ->, -1) AS split#176562]\n",
      "                  +- Project [Explode#176558]\n",
      "                     +- Project [Network#176555, Explode#176558]\n",
      "                        +- Generate explode(Network#176555), false, [Explode#176558]\n",
      "                           +- Project [Network#176519 AS Network#176555]\n",
      "                              +- Project [Topic_Name#176582, URL#176583, Text_Index#176584, split(Network#176514, ,, -1) AS Network#176519]\n",
      "                                 +- Project [Topic_Name#176582, URL#176583, Text_Index#176584, regexp_replace(Network#176585, [\\[\\]\\'], , 1) AS Network#176514]\n",
      "                                    +- LogicalRDD [Topic_Name#176582, URL#176583, Text_Index#176584, Network#176585], false\n",
      "\n"
     ]
    },
    {
     "name": "stderr",
     "output_type": "stream",
     "text": [
      " 82%|████████▏ | 61/74 [01:52<00:20,  1.59s/it]"
     ]
    },
    {
     "name": "stdout",
     "output_type": "stream",
     "text": [
      "list index out of range\n"
     ]
    },
    {
     "name": "stderr",
     "output_type": "stream",
     "text": [
      " 92%|█████████▏| 68/74 [02:05<00:09,  1.52s/it]"
     ]
    },
    {
     "name": "stdout",
     "output_type": "stream",
     "text": [
      "[UNRESOLVED_COLUMN.WITH_SUGGESTION] A column or function parameter with name `3` cannot be resolved. Did you mean one of the following? [`1`].;\n",
      "'Filter NOT ('3 = NULL)\n",
      "+- Project [1#186519]\n",
      "   +- Project [Explode#186477, split#186481, 1#186519]\n",
      "      +- Project [id#186462, text#186453, length_of_text#186465, num_of_words#186469, Explode#186477, split#186481, text#186453 AS 1#186519]\n",
      "         +- Join RightOuter, (id#186462 = cast(1#186497 as int))\n",
      "            :- Project [id#186462, text#186453, length_of_text#186465, array_size(split(text#186453,  , -1)) AS num_of_words#186469]\n",
      "            :  +- Project [id#186462, text#186453, length(text#186453) AS length_of_text#186465]\n",
      "            :     +- Project [cast(id#186459 as int) AS id#186462, text#186453]\n",
      "            :        +- Project [regexp_replace(id#186450, [\\{\\}\"], , 1) AS id#186459, text#186453]\n",
      "            :           +- Project [id#186450, text#186453]\n",
      "            :              +- Project [split#186448, id#186450, split(split#186448, : ', -1)[1] AS text#186453]\n",
      "            :                 +- Project [split#186448, split(split#186448, : ', -1)[0] AS id#186450]\n",
      "            :                    +- Project [split#186448]\n",
      "            :                       +- Generate explode(split#186443), false, [split#186448]\n",
      "            :                          +- Project [split#186443]\n",
      "            :                             +- Project [Text_Index#186427, split(Text_Index#186427, ', , -1) AS split#186443]\n",
      "            :                                +- Project [Topic_Name#186425, URL#186426, Text_Index#186427, split(Network#186433, ,, -1) AS Network#186438]\n",
      "            :                                   +- Project [Topic_Name#186425, URL#186426, Text_Index#186427, regexp_replace(Network#186428, [\\[\\]\\'], , 1) AS Network#186433]\n",
      "            :                                      +- LogicalRDD [Topic_Name#186425, URL#186426, Text_Index#186427, Network#186428], false\n",
      "            +- Project [Explode#186477, split#186481, split#186481[0] AS 1#186497]\n",
      "               +- Project [Explode#186477, split(Explode#186477, ->, -1) AS split#186481]\n",
      "                  +- Project [Explode#186477]\n",
      "                     +- Project [Network#186474, Explode#186477]\n",
      "                        +- Generate explode(Network#186474), false, [Explode#186477]\n",
      "                           +- Project [Network#186438 AS Network#186474]\n",
      "                              +- Project [Topic_Name#186501, URL#186502, Text_Index#186503, split(Network#186433, ,, -1) AS Network#186438]\n",
      "                                 +- Project [Topic_Name#186501, URL#186502, Text_Index#186503, regexp_replace(Network#186504, [\\[\\]\\'], , 1) AS Network#186433]\n",
      "                                    +- LogicalRDD [Topic_Name#186501, URL#186502, Text_Index#186503, Network#186504], false\n",
      "\n"
     ]
    },
    {
     "name": "stderr",
     "output_type": "stream",
     "text": [
      " 96%|█████████▌| 71/74 [02:10<00:04,  1.44s/it]"
     ]
    },
    {
     "name": "stdout",
     "output_type": "stream",
     "text": [
      "list index out of range\n"
     ]
    },
    {
     "name": "stderr",
     "output_type": "stream",
     "text": [
      " 97%|█████████▋| 72/74 [02:12<00:03,  1.52s/it]"
     ]
    },
    {
     "name": "stdout",
     "output_type": "stream",
     "text": [
      "0\n"
     ]
    },
    {
     "name": "stderr",
     "output_type": "stream",
     "text": [
      " 99%|█████████▊| 73/74 [02:12<00:01,  1.21s/it]"
     ]
    },
    {
     "name": "stdout",
     "output_type": "stream",
     "text": [
      "[UNRESOLVED_COLUMN.WITH_SUGGESTION] A column or function parameter with name `3` cannot be resolved. Did you mean one of the following? [`1`, `2`].;\n",
      "'Filter NOT ('3 = NULL)\n",
      "+- Project [1#187429, 2#187462]\n",
      "   +- Project [Explode#187380, split#187384, 1#187429, 2#187462]\n",
      "      +- Project [id#187365, text#187356, length_of_text#187368, num_of_words#187372, Explode#187380, split#187384, 1#187429, text#187356 AS 2#187462]\n",
      "         +- Join RightOuter, (id#187365 = cast(2#187404 as int))\n",
      "            :- Project [id#187365, text#187356, length_of_text#187368, array_size(split(text#187356,  , -1)) AS num_of_words#187372]\n",
      "            :  +- Project [id#187365, text#187356, length(text#187356) AS length_of_text#187368]\n",
      "            :     +- Project [cast(id#187362 as int) AS id#187365, text#187356]\n",
      "            :        +- Project [regexp_replace(id#187353, [\\{\\}\"], , 1) AS id#187362, text#187356]\n",
      "            :           +- Project [id#187353, text#187356]\n",
      "            :              +- Project [split#187351, id#187353, split(split#187351, : ', -1)[1] AS text#187356]\n",
      "            :                 +- Project [split#187351, split(split#187351, : ', -1)[0] AS id#187353]\n",
      "            :                    +- Project [split#187351]\n",
      "            :                       +- Generate explode(split#187346), false, [split#187351]\n",
      "            :                          +- Project [split#187346]\n",
      "            :                             +- Project [Text_Index#187330, split(Text_Index#187330, ', , -1) AS split#187346]\n",
      "            :                                +- Project [Topic_Name#187328, URL#187329, Text_Index#187330, split(Network#187336, ,, -1) AS Network#187341]\n",
      "            :                                   +- Project [Topic_Name#187328, URL#187329, Text_Index#187330, regexp_replace(Network#187331, [\\[\\]\\'], , 1) AS Network#187336]\n",
      "            :                                      +- LogicalRDD [Topic_Name#187328, URL#187329, Text_Index#187330, Network#187331], false\n",
      "            +- Project [Explode#187380, split#187384, 1#187429, 2#187404]\n",
      "               +- Project [id#187365, text#187356, length_of_text#187368, num_of_words#187372, Explode#187380, split#187384, text#187356 AS 1#187429, 2#187404]\n",
      "                  +- Join RightOuter, (id#187365 = cast(1#187400 as int))\n",
      "                     :- Project [id#187365, text#187356, length_of_text#187368, array_size(split(text#187356,  , -1)) AS num_of_words#187372]\n",
      "                     :  +- Project [id#187365, text#187356, length(text#187356) AS length_of_text#187368]\n",
      "                     :     +- Project [cast(id#187362 as int) AS id#187365, text#187356]\n",
      "                     :        +- Project [regexp_replace(id#187353, [\\{\\}\"], , 1) AS id#187362, text#187356]\n",
      "                     :           +- Project [id#187353, text#187356]\n",
      "                     :              +- Project [split#187351, id#187353, split(split#187351, : ', -1)[1] AS text#187356]\n",
      "                     :                 +- Project [split#187351, split(split#187351, : ', -1)[0] AS id#187353]\n",
      "                     :                    +- Project [split#187351]\n",
      "                     :                       +- Generate explode(split#187346), false, [split#187351]\n",
      "                     :                          +- Project [split#187346]\n",
      "                     :                             +- Project [Text_Index#187444, split(Text_Index#187444, ', , -1) AS split#187346]\n",
      "                     :                                +- Project [Topic_Name#187442, URL#187443, Text_Index#187444, split(Network#187336, ,, -1) AS Network#187341]\n",
      "                     :                                   +- Project [Topic_Name#187442, URL#187443, Text_Index#187444, regexp_replace(Network#187445, [\\[\\]\\'], , 1) AS Network#187336]\n",
      "                     :                                      +- LogicalRDD [Topic_Name#187442, URL#187443, Text_Index#187444, Network#187445], false\n",
      "                     +- Project [Explode#187380, split#187384, 1#187400, split#187384[1] AS 2#187404]\n",
      "                        +- Project [Explode#187380, split#187384, split#187384[0] AS 1#187400]\n",
      "                           +- Project [Explode#187380, split(Explode#187380, ->, -1) AS split#187384]\n",
      "                              +- Project [Explode#187380]\n",
      "                                 +- Project [Network#187377, Explode#187380]\n",
      "                                    +- Generate explode(Network#187377), false, [Explode#187380]\n",
      "                                       +- Project [Network#187341 AS Network#187377]\n",
      "                                          +- Project [Topic_Name#187409, URL#187410, Text_Index#187411, split(Network#187336, ,, -1) AS Network#187341]\n",
      "                                             +- Project [Topic_Name#187409, URL#187410, Text_Index#187411, regexp_replace(Network#187412, [\\[\\]\\'], , 1) AS Network#187336]\n",
      "                                                +- LogicalRDD [Topic_Name#187409, URL#187410, Text_Index#187411, Network#187412], false\n",
      "\n"
     ]
    },
    {
     "name": "stderr",
     "output_type": "stream",
     "text": [
      "100%|██████████| 74/74 [02:14<00:00,  1.82s/it]\n",
      " 12%|█▎        | 12/96 [00:24<02:41,  1.92s/it]"
     ]
    },
    {
     "name": "stdout",
     "output_type": "stream",
     "text": [
      "local variable 'update_dict' referenced before assignment\n"
     ]
    },
    {
     "name": "stderr",
     "output_type": "stream",
     "text": [
      " 16%|█▌        | 15/96 [00:29<02:04,  1.54s/it]"
     ]
    },
    {
     "name": "stdout",
     "output_type": "stream",
     "text": [
      "[UNRESOLVED_COLUMN.WITH_SUGGESTION] A column or function parameter with name `3` cannot be resolved. Did you mean one of the following? [`1`, `2`].;\n",
      "'Filter NOT ('3 = NULL)\n",
      "+- Project [1#191993, 2#192026]\n",
      "   +- Project [Explode#191944, split#191948, 1#191993, 2#192026]\n",
      "      +- Project [id#191929, text#191920, length_of_text#191932, num_of_words#191936, Explode#191944, split#191948, 1#191993, text#191920 AS 2#192026]\n",
      "         +- Join RightOuter, (id#191929 = cast(2#191968 as int))\n",
      "            :- Project [id#191929, text#191920, length_of_text#191932, array_size(split(text#191920,  , -1)) AS num_of_words#191936]\n",
      "            :  +- Project [id#191929, text#191920, length(text#191920) AS length_of_text#191932]\n",
      "            :     +- Project [cast(id#191926 as int) AS id#191929, text#191920]\n",
      "            :        +- Project [regexp_replace(id#191917, [\\{\\}\"], , 1) AS id#191926, text#191920]\n",
      "            :           +- Project [id#191917, text#191920]\n",
      "            :              +- Project [split#191915, id#191917, split(split#191915, : ', -1)[1] AS text#191920]\n",
      "            :                 +- Project [split#191915, split(split#191915, : ', -1)[0] AS id#191917]\n",
      "            :                    +- Project [split#191915]\n",
      "            :                       +- Generate explode(split#191910), false, [split#191915]\n",
      "            :                          +- Project [split#191910]\n",
      "            :                             +- Project [Text_Index#191894, split(Text_Index#191894, ', , -1) AS split#191910]\n",
      "            :                                +- Project [Topic_Name#191892, URL#191893, Text_Index#191894, split(Network#191900, ,, -1) AS Network#191905]\n",
      "            :                                   +- Project [Topic_Name#191892, URL#191893, Text_Index#191894, regexp_replace(Network#191895, [\\[\\]\\'], , 1) AS Network#191900]\n",
      "            :                                      +- LogicalRDD [Topic_Name#191892, URL#191893, Text_Index#191894, Network#191895], false\n",
      "            +- Project [Explode#191944, split#191948, 1#191993, 2#191968]\n",
      "               +- Project [id#191929, text#191920, length_of_text#191932, num_of_words#191936, Explode#191944, split#191948, text#191920 AS 1#191993, 2#191968]\n",
      "                  +- Join RightOuter, (id#191929 = cast(1#191964 as int))\n",
      "                     :- Project [id#191929, text#191920, length_of_text#191932, array_size(split(text#191920,  , -1)) AS num_of_words#191936]\n",
      "                     :  +- Project [id#191929, text#191920, length(text#191920) AS length_of_text#191932]\n",
      "                     :     +- Project [cast(id#191926 as int) AS id#191929, text#191920]\n",
      "                     :        +- Project [regexp_replace(id#191917, [\\{\\}\"], , 1) AS id#191926, text#191920]\n",
      "                     :           +- Project [id#191917, text#191920]\n",
      "                     :              +- Project [split#191915, id#191917, split(split#191915, : ', -1)[1] AS text#191920]\n",
      "                     :                 +- Project [split#191915, split(split#191915, : ', -1)[0] AS id#191917]\n",
      "                     :                    +- Project [split#191915]\n",
      "                     :                       +- Generate explode(split#191910), false, [split#191915]\n",
      "                     :                          +- Project [split#191910]\n",
      "                     :                             +- Project [Text_Index#192008, split(Text_Index#192008, ', , -1) AS split#191910]\n",
      "                     :                                +- Project [Topic_Name#192006, URL#192007, Text_Index#192008, split(Network#191900, ,, -1) AS Network#191905]\n",
      "                     :                                   +- Project [Topic_Name#192006, URL#192007, Text_Index#192008, regexp_replace(Network#192009, [\\[\\]\\'], , 1) AS Network#191900]\n",
      "                     :                                      +- LogicalRDD [Topic_Name#192006, URL#192007, Text_Index#192008, Network#192009], false\n",
      "                     +- Project [Explode#191944, split#191948, 1#191964, split#191948[1] AS 2#191968]\n",
      "                        +- Project [Explode#191944, split#191948, split#191948[0] AS 1#191964]\n",
      "                           +- Project [Explode#191944, split(Explode#191944, ->, -1) AS split#191948]\n",
      "                              +- Project [Explode#191944]\n",
      "                                 +- Project [Network#191941, Explode#191944]\n",
      "                                    +- Generate explode(Network#191941), false, [Explode#191944]\n",
      "                                       +- Project [Network#191905 AS Network#191941]\n",
      "                                          +- Project [Topic_Name#191973, URL#191974, Text_Index#191975, split(Network#191900, ,, -1) AS Network#191905]\n",
      "                                             +- Project [Topic_Name#191973, URL#191974, Text_Index#191975, regexp_replace(Network#191976, [\\[\\]\\'], , 1) AS Network#191900]\n",
      "                                                +- LogicalRDD [Topic_Name#191973, URL#191974, Text_Index#191975, Network#191976], false\n",
      "\n"
     ]
    },
    {
     "name": "stderr",
     "output_type": "stream",
     "text": [
      " 29%|██▉       | 28/96 [00:55<02:14,  1.99s/it]"
     ]
    },
    {
     "name": "stdout",
     "output_type": "stream",
     "text": [
      "local variable 'update_dict' referenced before assignment\n"
     ]
    },
    {
     "name": "stderr",
     "output_type": "stream",
     "text": [
      " 60%|██████    | 58/96 [01:52<01:01,  1.61s/it]"
     ]
    },
    {
     "name": "stdout",
     "output_type": "stream",
     "text": [
      "[UNRESOLVED_COLUMN.WITH_SUGGESTION] A column or function parameter with name `3` cannot be resolved. Did you mean one of the following? [`1`, `2`].;\n",
      "'Filter NOT ('3 = NULL)\n",
      "+- Project [1#204435, 2#204468]\n",
      "   +- Project [Explode#204386, split#204390, 1#204435, 2#204468]\n",
      "      +- Project [id#204371, text#204362, length_of_text#204374, num_of_words#204378, Explode#204386, split#204390, 1#204435, text#204362 AS 2#204468]\n",
      "         +- Join RightOuter, (id#204371 = cast(2#204410 as int))\n",
      "            :- Project [id#204371, text#204362, length_of_text#204374, array_size(split(text#204362,  , -1)) AS num_of_words#204378]\n",
      "            :  +- Project [id#204371, text#204362, length(text#204362) AS length_of_text#204374]\n",
      "            :     +- Project [cast(id#204368 as int) AS id#204371, text#204362]\n",
      "            :        +- Project [regexp_replace(id#204359, [\\{\\}\"], , 1) AS id#204368, text#204362]\n",
      "            :           +- Project [id#204359, text#204362]\n",
      "            :              +- Project [split#204357, id#204359, split(split#204357, : ', -1)[1] AS text#204362]\n",
      "            :                 +- Project [split#204357, split(split#204357, : ', -1)[0] AS id#204359]\n",
      "            :                    +- Project [split#204357]\n",
      "            :                       +- Generate explode(split#204352), false, [split#204357]\n",
      "            :                          +- Project [split#204352]\n",
      "            :                             +- Project [Text_Index#204336, split(Text_Index#204336, ', , -1) AS split#204352]\n",
      "            :                                +- Project [Topic_Name#204334, URL#204335, Text_Index#204336, split(Network#204342, ,, -1) AS Network#204347]\n",
      "            :                                   +- Project [Topic_Name#204334, URL#204335, Text_Index#204336, regexp_replace(Network#204337, [\\[\\]\\'], , 1) AS Network#204342]\n",
      "            :                                      +- LogicalRDD [Topic_Name#204334, URL#204335, Text_Index#204336, Network#204337], false\n",
      "            +- Project [Explode#204386, split#204390, 1#204435, 2#204410]\n",
      "               +- Project [id#204371, text#204362, length_of_text#204374, num_of_words#204378, Explode#204386, split#204390, text#204362 AS 1#204435, 2#204410]\n",
      "                  +- Join RightOuter, (id#204371 = cast(1#204406 as int))\n",
      "                     :- Project [id#204371, text#204362, length_of_text#204374, array_size(split(text#204362,  , -1)) AS num_of_words#204378]\n",
      "                     :  +- Project [id#204371, text#204362, length(text#204362) AS length_of_text#204374]\n",
      "                     :     +- Project [cast(id#204368 as int) AS id#204371, text#204362]\n",
      "                     :        +- Project [regexp_replace(id#204359, [\\{\\}\"], , 1) AS id#204368, text#204362]\n",
      "                     :           +- Project [id#204359, text#204362]\n",
      "                     :              +- Project [split#204357, id#204359, split(split#204357, : ', -1)[1] AS text#204362]\n",
      "                     :                 +- Project [split#204357, split(split#204357, : ', -1)[0] AS id#204359]\n",
      "                     :                    +- Project [split#204357]\n",
      "                     :                       +- Generate explode(split#204352), false, [split#204357]\n",
      "                     :                          +- Project [split#204352]\n",
      "                     :                             +- Project [Text_Index#204450, split(Text_Index#204450, ', , -1) AS split#204352]\n",
      "                     :                                +- Project [Topic_Name#204448, URL#204449, Text_Index#204450, split(Network#204342, ,, -1) AS Network#204347]\n",
      "                     :                                   +- Project [Topic_Name#204448, URL#204449, Text_Index#204450, regexp_replace(Network#204451, [\\[\\]\\'], , 1) AS Network#204342]\n",
      "                     :                                      +- LogicalRDD [Topic_Name#204448, URL#204449, Text_Index#204450, Network#204451], false\n",
      "                     +- Project [Explode#204386, split#204390, 1#204406, split#204390[1] AS 2#204410]\n",
      "                        +- Project [Explode#204386, split#204390, split#204390[0] AS 1#204406]\n",
      "                           +- Project [Explode#204386, split(Explode#204386, ->, -1) AS split#204390]\n",
      "                              +- Project [Explode#204386]\n",
      "                                 +- Project [Network#204383, Explode#204386]\n",
      "                                    +- Generate explode(Network#204383), false, [Explode#204386]\n",
      "                                       +- Project [Network#204347 AS Network#204383]\n",
      "                                          +- Project [Topic_Name#204415, URL#204416, Text_Index#204417, split(Network#204342, ,, -1) AS Network#204347]\n",
      "                                             +- Project [Topic_Name#204415, URL#204416, Text_Index#204417, regexp_replace(Network#204418, [\\[\\]\\'], , 1) AS Network#204342]\n",
      "                                                +- LogicalRDD [Topic_Name#204415, URL#204416, Text_Index#204417, Network#204418], false\n",
      "\n"
     ]
    },
    {
     "name": "stderr",
     "output_type": "stream",
     "text": [
      "100%|██████████| 96/96 [03:11<00:00,  2.00s/it]\n",
      " 10%|▉         | 8/81 [00:15<02:14,  1.84s/it]"
     ]
    },
    {
     "name": "stdout",
     "output_type": "stream",
     "text": [
      "local variable 'update_dict' referenced before assignment\n"
     ]
    },
    {
     "name": "stderr",
     "output_type": "stream",
     "text": [
      " 20%|█▉        | 16/81 [00:30<01:46,  1.63s/it]"
     ]
    },
    {
     "name": "stdout",
     "output_type": "stream",
     "text": [
      "list index out of range\n"
     ]
    },
    {
     "name": "stderr",
     "output_type": "stream",
     "text": [
      " 37%|███▋      | 30/81 [00:56<01:13,  1.45s/it]"
     ]
    },
    {
     "name": "stdout",
     "output_type": "stream",
     "text": [
      "list index out of range\n"
     ]
    },
    {
     "name": "stderr",
     "output_type": "stream",
     "text": [
      " 38%|███▊      | 31/81 [00:57<00:58,  1.17s/it]"
     ]
    },
    {
     "name": "stdout",
     "output_type": "stream",
     "text": [
      "[UNRESOLVED_COLUMN.WITH_SUGGESTION] A column or function parameter with name `3` cannot be resolved. Did you mean one of the following? [`1`, `2`].;\n",
      "'Filter NOT ('3 = NULL)\n",
      "+- Project [1#223419, 2#223452]\n",
      "   +- Project [Explode#223370, split#223374, 1#223419, 2#223452]\n",
      "      +- Project [id#223355, text#223346, length_of_text#223358, num_of_words#223362, Explode#223370, split#223374, 1#223419, text#223346 AS 2#223452]\n",
      "         +- Join RightOuter, (id#223355 = cast(2#223394 as int))\n",
      "            :- Project [id#223355, text#223346, length_of_text#223358, array_size(split(text#223346,  , -1)) AS num_of_words#223362]\n",
      "            :  +- Project [id#223355, text#223346, length(text#223346) AS length_of_text#223358]\n",
      "            :     +- Project [cast(id#223352 as int) AS id#223355, text#223346]\n",
      "            :        +- Project [regexp_replace(id#223343, [\\{\\}\"], , 1) AS id#223352, text#223346]\n",
      "            :           +- Project [id#223343, text#223346]\n",
      "            :              +- Project [split#223341, id#223343, split(split#223341, : ', -1)[1] AS text#223346]\n",
      "            :                 +- Project [split#223341, split(split#223341, : ', -1)[0] AS id#223343]\n",
      "            :                    +- Project [split#223341]\n",
      "            :                       +- Generate explode(split#223336), false, [split#223341]\n",
      "            :                          +- Project [split#223336]\n",
      "            :                             +- Project [Text_Index#223320, split(Text_Index#223320, ', , -1) AS split#223336]\n",
      "            :                                +- Project [Topic_Name#223318, URL#223319, Text_Index#223320, split(Network#223326, ,, -1) AS Network#223331]\n",
      "            :                                   +- Project [Topic_Name#223318, URL#223319, Text_Index#223320, regexp_replace(Network#223321, [\\[\\]\\'], , 1) AS Network#223326]\n",
      "            :                                      +- LogicalRDD [Topic_Name#223318, URL#223319, Text_Index#223320, Network#223321], false\n",
      "            +- Project [Explode#223370, split#223374, 1#223419, 2#223394]\n",
      "               +- Project [id#223355, text#223346, length_of_text#223358, num_of_words#223362, Explode#223370, split#223374, text#223346 AS 1#223419, 2#223394]\n",
      "                  +- Join RightOuter, (id#223355 = cast(1#223390 as int))\n",
      "                     :- Project [id#223355, text#223346, length_of_text#223358, array_size(split(text#223346,  , -1)) AS num_of_words#223362]\n",
      "                     :  +- Project [id#223355, text#223346, length(text#223346) AS length_of_text#223358]\n",
      "                     :     +- Project [cast(id#223352 as int) AS id#223355, text#223346]\n",
      "                     :        +- Project [regexp_replace(id#223343, [\\{\\}\"], , 1) AS id#223352, text#223346]\n",
      "                     :           +- Project [id#223343, text#223346]\n",
      "                     :              +- Project [split#223341, id#223343, split(split#223341, : ', -1)[1] AS text#223346]\n",
      "                     :                 +- Project [split#223341, split(split#223341, : ', -1)[0] AS id#223343]\n",
      "                     :                    +- Project [split#223341]\n",
      "                     :                       +- Generate explode(split#223336), false, [split#223341]\n",
      "                     :                          +- Project [split#223336]\n",
      "                     :                             +- Project [Text_Index#223434, split(Text_Index#223434, ', , -1) AS split#223336]\n",
      "                     :                                +- Project [Topic_Name#223432, URL#223433, Text_Index#223434, split(Network#223326, ,, -1) AS Network#223331]\n",
      "                     :                                   +- Project [Topic_Name#223432, URL#223433, Text_Index#223434, regexp_replace(Network#223435, [\\[\\]\\'], , 1) AS Network#223326]\n",
      "                     :                                      +- LogicalRDD [Topic_Name#223432, URL#223433, Text_Index#223434, Network#223435], false\n",
      "                     +- Project [Explode#223370, split#223374, 1#223390, split#223374[1] AS 2#223394]\n",
      "                        +- Project [Explode#223370, split#223374, split#223374[0] AS 1#223390]\n",
      "                           +- Project [Explode#223370, split(Explode#223370, ->, -1) AS split#223374]\n",
      "                              +- Project [Explode#223370]\n",
      "                                 +- Project [Network#223367, Explode#223370]\n",
      "                                    +- Generate explode(Network#223367), false, [Explode#223370]\n",
      "                                       +- Project [Network#223331 AS Network#223367]\n",
      "                                          +- Project [Topic_Name#223399, URL#223400, Text_Index#223401, split(Network#223326, ,, -1) AS Network#223331]\n",
      "                                             +- Project [Topic_Name#223399, URL#223400, Text_Index#223401, regexp_replace(Network#223402, [\\[\\]\\'], , 1) AS Network#223326]\n",
      "                                                +- LogicalRDD [Topic_Name#223399, URL#223400, Text_Index#223401, Network#223402], false\n",
      "\n"
     ]
    },
    {
     "name": "stderr",
     "output_type": "stream",
     "text": [
      " 40%|███▉      | 32/81 [00:57<00:46,  1.05it/s]"
     ]
    },
    {
     "name": "stdout",
     "output_type": "stream",
     "text": [
      "list index out of range\n"
     ]
    },
    {
     "name": "stderr",
     "output_type": "stream",
     "text": [
      " 49%|████▉     | 40/81 [01:11<01:02,  1.51s/it]"
     ]
    },
    {
     "name": "stdout",
     "output_type": "stream",
     "text": [
      "list index out of range\n"
     ]
    },
    {
     "name": "stderr",
     "output_type": "stream",
     "text": [
      " 51%|█████     | 41/81 [01:12<00:47,  1.20s/it]"
     ]
    },
    {
     "name": "stdout",
     "output_type": "stream",
     "text": [
      "list index out of range\n"
     ]
    },
    {
     "name": "stderr",
     "output_type": "stream",
     "text": [
      " 52%|█████▏    | 42/81 [01:12<00:37,  1.04it/s]"
     ]
    },
    {
     "name": "stdout",
     "output_type": "stream",
     "text": [
      "list index out of range\n"
     ]
    },
    {
     "name": "stderr",
     "output_type": "stream",
     "text": [
      " 53%|█████▎    | 43/81 [01:13<00:30,  1.25it/s]"
     ]
    },
    {
     "name": "stdout",
     "output_type": "stream",
     "text": [
      "list index out of range\n"
     ]
    },
    {
     "name": "stderr",
     "output_type": "stream",
     "text": [
      " 54%|█████▍    | 44/81 [01:13<00:25,  1.47it/s]"
     ]
    },
    {
     "name": "stdout",
     "output_type": "stream",
     "text": [
      "list index out of range\n"
     ]
    },
    {
     "name": "stderr",
     "output_type": "stream",
     "text": [
      " 56%|█████▌    | 45/81 [01:14<00:21,  1.64it/s]"
     ]
    },
    {
     "name": "stdout",
     "output_type": "stream",
     "text": [
      "list index out of range\n"
     ]
    },
    {
     "name": "stderr",
     "output_type": "stream",
     "text": [
      " 57%|█████▋    | 46/81 [01:14<00:19,  1.82it/s]"
     ]
    },
    {
     "name": "stdout",
     "output_type": "stream",
     "text": [
      "list index out of range\n"
     ]
    },
    {
     "name": "stderr",
     "output_type": "stream",
     "text": [
      " 69%|██████▉   | 56/81 [01:32<00:37,  1.52s/it]"
     ]
    },
    {
     "name": "stdout",
     "output_type": "stream",
     "text": [
      "[UNRESOLVED_COLUMN.WITH_SUGGESTION] A column or function parameter with name `3` cannot be resolved. Did you mean one of the following? [`1`, `2`].;\n",
      "'Filter NOT ('3 = NULL)\n",
      "+- Project [1#228591, 2#228624]\n",
      "   +- Project [Explode#228542, split#228546, 1#228591, 2#228624]\n",
      "      +- Project [id#228527, text#228518, length_of_text#228530, num_of_words#228534, Explode#228542, split#228546, 1#228591, text#228518 AS 2#228624]\n",
      "         +- Join RightOuter, (id#228527 = cast(2#228566 as int))\n",
      "            :- Project [id#228527, text#228518, length_of_text#228530, array_size(split(text#228518,  , -1)) AS num_of_words#228534]\n",
      "            :  +- Project [id#228527, text#228518, length(text#228518) AS length_of_text#228530]\n",
      "            :     +- Project [cast(id#228524 as int) AS id#228527, text#228518]\n",
      "            :        +- Project [regexp_replace(id#228515, [\\{\\}\"], , 1) AS id#228524, text#228518]\n",
      "            :           +- Project [id#228515, text#228518]\n",
      "            :              +- Project [split#228513, id#228515, split(split#228513, : ', -1)[1] AS text#228518]\n",
      "            :                 +- Project [split#228513, split(split#228513, : ', -1)[0] AS id#228515]\n",
      "            :                    +- Project [split#228513]\n",
      "            :                       +- Generate explode(split#228508), false, [split#228513]\n",
      "            :                          +- Project [split#228508]\n",
      "            :                             +- Project [Text_Index#228492, split(Text_Index#228492, ', , -1) AS split#228508]\n",
      "            :                                +- Project [Topic_Name#228490, URL#228491, Text_Index#228492, split(Network#228498, ,, -1) AS Network#228503]\n",
      "            :                                   +- Project [Topic_Name#228490, URL#228491, Text_Index#228492, regexp_replace(Network#228493, [\\[\\]\\'], , 1) AS Network#228498]\n",
      "            :                                      +- LogicalRDD [Topic_Name#228490, URL#228491, Text_Index#228492, Network#228493], false\n",
      "            +- Project [Explode#228542, split#228546, 1#228591, 2#228566]\n",
      "               +- Project [id#228527, text#228518, length_of_text#228530, num_of_words#228534, Explode#228542, split#228546, text#228518 AS 1#228591, 2#228566]\n",
      "                  +- Join RightOuter, (id#228527 = cast(1#228562 as int))\n",
      "                     :- Project [id#228527, text#228518, length_of_text#228530, array_size(split(text#228518,  , -1)) AS num_of_words#228534]\n",
      "                     :  +- Project [id#228527, text#228518, length(text#228518) AS length_of_text#228530]\n",
      "                     :     +- Project [cast(id#228524 as int) AS id#228527, text#228518]\n",
      "                     :        +- Project [regexp_replace(id#228515, [\\{\\}\"], , 1) AS id#228524, text#228518]\n",
      "                     :           +- Project [id#228515, text#228518]\n",
      "                     :              +- Project [split#228513, id#228515, split(split#228513, : ', -1)[1] AS text#228518]\n",
      "                     :                 +- Project [split#228513, split(split#228513, : ', -1)[0] AS id#228515]\n",
      "                     :                    +- Project [split#228513]\n",
      "                     :                       +- Generate explode(split#228508), false, [split#228513]\n",
      "                     :                          +- Project [split#228508]\n",
      "                     :                             +- Project [Text_Index#228606, split(Text_Index#228606, ', , -1) AS split#228508]\n",
      "                     :                                +- Project [Topic_Name#228604, URL#228605, Text_Index#228606, split(Network#228498, ,, -1) AS Network#228503]\n",
      "                     :                                   +- Project [Topic_Name#228604, URL#228605, Text_Index#228606, regexp_replace(Network#228607, [\\[\\]\\'], , 1) AS Network#228498]\n",
      "                     :                                      +- LogicalRDD [Topic_Name#228604, URL#228605, Text_Index#228606, Network#228607], false\n",
      "                     +- Project [Explode#228542, split#228546, 1#228562, split#228546[1] AS 2#228566]\n",
      "                        +- Project [Explode#228542, split#228546, split#228546[0] AS 1#228562]\n",
      "                           +- Project [Explode#228542, split(Explode#228542, ->, -1) AS split#228546]\n",
      "                              +- Project [Explode#228542]\n",
      "                                 +- Project [Network#228539, Explode#228542]\n",
      "                                    +- Generate explode(Network#228539), false, [Explode#228542]\n",
      "                                       +- Project [Network#228503 AS Network#228539]\n",
      "                                          +- Project [Topic_Name#228571, URL#228572, Text_Index#228573, split(Network#228498, ,, -1) AS Network#228503]\n",
      "                                             +- Project [Topic_Name#228571, URL#228572, Text_Index#228573, regexp_replace(Network#228574, [\\[\\]\\'], , 1) AS Network#228498]\n",
      "                                                +- LogicalRDD [Topic_Name#228571, URL#228572, Text_Index#228573, Network#228574], false\n",
      "\n"
     ]
    },
    {
     "name": "stderr",
     "output_type": "stream",
     "text": [
      " 90%|█████████ | 73/81 [02:04<00:12,  1.54s/it]"
     ]
    },
    {
     "name": "stdout",
     "output_type": "stream",
     "text": [
      "[UNRESOLVED_COLUMN.WITH_SUGGESTION] A column or function parameter with name `3` cannot be resolved. Did you mean one of the following? [`1`, `2`].;\n",
      "'Filter NOT ('3 = NULL)\n",
      "+- Project [1#233047, 2#233080]\n",
      "   +- Project [Explode#232998, split#233002, 1#233047, 2#233080]\n",
      "      +- Project [id#232983, text#232974, length_of_text#232986, num_of_words#232990, Explode#232998, split#233002, 1#233047, text#232974 AS 2#233080]\n",
      "         +- Join RightOuter, (id#232983 = cast(2#233022 as int))\n",
      "            :- Project [id#232983, text#232974, length_of_text#232986, array_size(split(text#232974,  , -1)) AS num_of_words#232990]\n",
      "            :  +- Project [id#232983, text#232974, length(text#232974) AS length_of_text#232986]\n",
      "            :     +- Project [cast(id#232980 as int) AS id#232983, text#232974]\n",
      "            :        +- Project [regexp_replace(id#232971, [\\{\\}\"], , 1) AS id#232980, text#232974]\n",
      "            :           +- Project [id#232971, text#232974]\n",
      "            :              +- Project [split#232969, id#232971, split(split#232969, : ', -1)[1] AS text#232974]\n",
      "            :                 +- Project [split#232969, split(split#232969, : ', -1)[0] AS id#232971]\n",
      "            :                    +- Project [split#232969]\n",
      "            :                       +- Generate explode(split#232964), false, [split#232969]\n",
      "            :                          +- Project [split#232964]\n",
      "            :                             +- Project [Text_Index#232948, split(Text_Index#232948, ', , -1) AS split#232964]\n",
      "            :                                +- Project [Topic_Name#232946, URL#232947, Text_Index#232948, split(Network#232954, ,, -1) AS Network#232959]\n",
      "            :                                   +- Project [Topic_Name#232946, URL#232947, Text_Index#232948, regexp_replace(Network#232949, [\\[\\]\\'], , 1) AS Network#232954]\n",
      "            :                                      +- LogicalRDD [Topic_Name#232946, URL#232947, Text_Index#232948, Network#232949], false\n",
      "            +- Project [Explode#232998, split#233002, 1#233047, 2#233022]\n",
      "               +- Project [id#232983, text#232974, length_of_text#232986, num_of_words#232990, Explode#232998, split#233002, text#232974 AS 1#233047, 2#233022]\n",
      "                  +- Join RightOuter, (id#232983 = cast(1#233018 as int))\n",
      "                     :- Project [id#232983, text#232974, length_of_text#232986, array_size(split(text#232974,  , -1)) AS num_of_words#232990]\n",
      "                     :  +- Project [id#232983, text#232974, length(text#232974) AS length_of_text#232986]\n",
      "                     :     +- Project [cast(id#232980 as int) AS id#232983, text#232974]\n",
      "                     :        +- Project [regexp_replace(id#232971, [\\{\\}\"], , 1) AS id#232980, text#232974]\n",
      "                     :           +- Project [id#232971, text#232974]\n",
      "                     :              +- Project [split#232969, id#232971, split(split#232969, : ', -1)[1] AS text#232974]\n",
      "                     :                 +- Project [split#232969, split(split#232969, : ', -1)[0] AS id#232971]\n",
      "                     :                    +- Project [split#232969]\n",
      "                     :                       +- Generate explode(split#232964), false, [split#232969]\n",
      "                     :                          +- Project [split#232964]\n",
      "                     :                             +- Project [Text_Index#233062, split(Text_Index#233062, ', , -1) AS split#232964]\n",
      "                     :                                +- Project [Topic_Name#233060, URL#233061, Text_Index#233062, split(Network#232954, ,, -1) AS Network#232959]\n",
      "                     :                                   +- Project [Topic_Name#233060, URL#233061, Text_Index#233062, regexp_replace(Network#233063, [\\[\\]\\'], , 1) AS Network#232954]\n",
      "                     :                                      +- LogicalRDD [Topic_Name#233060, URL#233061, Text_Index#233062, Network#233063], false\n",
      "                     +- Project [Explode#232998, split#233002, 1#233018, split#233002[1] AS 2#233022]\n",
      "                        +- Project [Explode#232998, split#233002, split#233002[0] AS 1#233018]\n",
      "                           +- Project [Explode#232998, split(Explode#232998, ->, -1) AS split#233002]\n",
      "                              +- Project [Explode#232998]\n",
      "                                 +- Project [Network#232995, Explode#232998]\n",
      "                                    +- Generate explode(Network#232995), false, [Explode#232998]\n",
      "                                       +- Project [Network#232959 AS Network#232995]\n",
      "                                          +- Project [Topic_Name#233027, URL#233028, Text_Index#233029, split(Network#232954, ,, -1) AS Network#232959]\n",
      "                                             +- Project [Topic_Name#233027, URL#233028, Text_Index#233029, regexp_replace(Network#233030, [\\[\\]\\'], , 1) AS Network#232954]\n",
      "                                                +- LogicalRDD [Topic_Name#233027, URL#233028, Text_Index#233029, Network#233030], false\n",
      "\n"
     ]
    },
    {
     "name": "stderr",
     "output_type": "stream",
     "text": [
      "100%|██████████| 81/81 [02:21<00:00,  1.74s/it]\n",
      "  5%|▌         | 5/92 [00:08<02:10,  1.50s/it]"
     ]
    },
    {
     "name": "stdout",
     "output_type": "stream",
     "text": [
      "[UNRESOLVED_COLUMN.WITH_SUGGESTION] A column or function parameter with name `3` cannot be resolved. Did you mean one of the following? [`1`, `2`].;\n",
      "'Filter NOT ('3 = NULL)\n",
      "+- Project [1#236746, 2#236779]\n",
      "   +- Project [Explode#236697, split#236701, 1#236746, 2#236779]\n",
      "      +- Project [id#236682, text#236673, length_of_text#236685, num_of_words#236689, Explode#236697, split#236701, 1#236746, text#236673 AS 2#236779]\n",
      "         +- Join RightOuter, (id#236682 = cast(2#236721 as int))\n",
      "            :- Project [id#236682, text#236673, length_of_text#236685, array_size(split(text#236673,  , -1)) AS num_of_words#236689]\n",
      "            :  +- Project [id#236682, text#236673, length(text#236673) AS length_of_text#236685]\n",
      "            :     +- Project [cast(id#236679 as int) AS id#236682, text#236673]\n",
      "            :        +- Project [regexp_replace(id#236670, [\\{\\}\"], , 1) AS id#236679, text#236673]\n",
      "            :           +- Project [id#236670, text#236673]\n",
      "            :              +- Project [split#236668, id#236670, split(split#236668, : ', -1)[1] AS text#236673]\n",
      "            :                 +- Project [split#236668, split(split#236668, : ', -1)[0] AS id#236670]\n",
      "            :                    +- Project [split#236668]\n",
      "            :                       +- Generate explode(split#236663), false, [split#236668]\n",
      "            :                          +- Project [split#236663]\n",
      "            :                             +- Project [Text_Index#236647, split(Text_Index#236647, ', , -1) AS split#236663]\n",
      "            :                                +- Project [Topic_Name#236645, URL#236646, Text_Index#236647, split(Network#236653, ,, -1) AS Network#236658]\n",
      "            :                                   +- Project [Topic_Name#236645, URL#236646, Text_Index#236647, regexp_replace(Network#236648, [\\[\\]\\'], , 1) AS Network#236653]\n",
      "            :                                      +- LogicalRDD [Topic_Name#236645, URL#236646, Text_Index#236647, Network#236648], false\n",
      "            +- Project [Explode#236697, split#236701, 1#236746, 2#236721]\n",
      "               +- Project [id#236682, text#236673, length_of_text#236685, num_of_words#236689, Explode#236697, split#236701, text#236673 AS 1#236746, 2#236721]\n",
      "                  +- Join RightOuter, (id#236682 = cast(1#236717 as int))\n",
      "                     :- Project [id#236682, text#236673, length_of_text#236685, array_size(split(text#236673,  , -1)) AS num_of_words#236689]\n",
      "                     :  +- Project [id#236682, text#236673, length(text#236673) AS length_of_text#236685]\n",
      "                     :     +- Project [cast(id#236679 as int) AS id#236682, text#236673]\n",
      "                     :        +- Project [regexp_replace(id#236670, [\\{\\}\"], , 1) AS id#236679, text#236673]\n",
      "                     :           +- Project [id#236670, text#236673]\n",
      "                     :              +- Project [split#236668, id#236670, split(split#236668, : ', -1)[1] AS text#236673]\n",
      "                     :                 +- Project [split#236668, split(split#236668, : ', -1)[0] AS id#236670]\n",
      "                     :                    +- Project [split#236668]\n",
      "                     :                       +- Generate explode(split#236663), false, [split#236668]\n",
      "                     :                          +- Project [split#236663]\n",
      "                     :                             +- Project [Text_Index#236761, split(Text_Index#236761, ', , -1) AS split#236663]\n",
      "                     :                                +- Project [Topic_Name#236759, URL#236760, Text_Index#236761, split(Network#236653, ,, -1) AS Network#236658]\n",
      "                     :                                   +- Project [Topic_Name#236759, URL#236760, Text_Index#236761, regexp_replace(Network#236762, [\\[\\]\\'], , 1) AS Network#236653]\n",
      "                     :                                      +- LogicalRDD [Topic_Name#236759, URL#236760, Text_Index#236761, Network#236762], false\n",
      "                     +- Project [Explode#236697, split#236701, 1#236717, split#236701[1] AS 2#236721]\n",
      "                        +- Project [Explode#236697, split#236701, split#236701[0] AS 1#236717]\n",
      "                           +- Project [Explode#236697, split(Explode#236697, ->, -1) AS split#236701]\n",
      "                              +- Project [Explode#236697]\n",
      "                                 +- Project [Network#236694, Explode#236697]\n",
      "                                    +- Generate explode(Network#236694), false, [Explode#236697]\n",
      "                                       +- Project [Network#236658 AS Network#236694]\n",
      "                                          +- Project [Topic_Name#236726, URL#236727, Text_Index#236728, split(Network#236653, ,, -1) AS Network#236658]\n",
      "                                             +- Project [Topic_Name#236726, URL#236727, Text_Index#236728, regexp_replace(Network#236729, [\\[\\]\\'], , 1) AS Network#236653]\n",
      "                                                +- LogicalRDD [Topic_Name#236726, URL#236727, Text_Index#236728, Network#236729], false\n",
      "\n"
     ]
    },
    {
     "name": "stderr",
     "output_type": "stream",
     "text": [
      " 13%|█▎        | 12/92 [00:22<02:38,  1.98s/it]"
     ]
    },
    {
     "name": "stdout",
     "output_type": "stream",
     "text": [
      "local variable 'update_dict' referenced before assignment\n"
     ]
    },
    {
     "name": "stderr",
     "output_type": "stream",
     "text": [
      " 16%|█▋        | 15/92 [00:27<01:57,  1.52s/it]"
     ]
    },
    {
     "name": "stdout",
     "output_type": "stream",
     "text": [
      "list index out of range\n"
     ]
    },
    {
     "name": "stderr",
     "output_type": "stream",
     "text": [
      " 29%|██▉       | 27/92 [00:50<02:09,  1.99s/it]"
     ]
    },
    {
     "name": "stdout",
     "output_type": "stream",
     "text": [
      "local variable 'update_dict' referenced before assignment\n"
     ]
    },
    {
     "name": "stderr",
     "output_type": "stream",
     "text": [
      " 34%|███▎      | 31/92 [00:56<01:30,  1.48s/it]"
     ]
    },
    {
     "name": "stdout",
     "output_type": "stream",
     "text": [
      "[UNRESOLVED_COLUMN.WITH_SUGGESTION] A column or function parameter with name `3` cannot be resolved. Did you mean one of the following? [`1`, `2`].;\n",
      "'Filter NOT ('3 = NULL)\n",
      "+- Project [1#243869, 2#243902]\n",
      "   +- Project [Explode#243820, split#243824, 1#243869, 2#243902]\n",
      "      +- Project [id#243805, text#243796, length_of_text#243808, num_of_words#243812, Explode#243820, split#243824, 1#243869, text#243796 AS 2#243902]\n",
      "         +- Join RightOuter, (id#243805 = cast(2#243844 as int))\n",
      "            :- Project [id#243805, text#243796, length_of_text#243808, array_size(split(text#243796,  , -1)) AS num_of_words#243812]\n",
      "            :  +- Project [id#243805, text#243796, length(text#243796) AS length_of_text#243808]\n",
      "            :     +- Project [cast(id#243802 as int) AS id#243805, text#243796]\n",
      "            :        +- Project [regexp_replace(id#243793, [\\{\\}\"], , 1) AS id#243802, text#243796]\n",
      "            :           +- Project [id#243793, text#243796]\n",
      "            :              +- Project [split#243791, id#243793, split(split#243791, : ', -1)[1] AS text#243796]\n",
      "            :                 +- Project [split#243791, split(split#243791, : ', -1)[0] AS id#243793]\n",
      "            :                    +- Project [split#243791]\n",
      "            :                       +- Generate explode(split#243786), false, [split#243791]\n",
      "            :                          +- Project [split#243786]\n",
      "            :                             +- Project [Text_Index#243770, split(Text_Index#243770, ', , -1) AS split#243786]\n",
      "            :                                +- Project [Topic_Name#243768, URL#243769, Text_Index#243770, split(Network#243776, ,, -1) AS Network#243781]\n",
      "            :                                   +- Project [Topic_Name#243768, URL#243769, Text_Index#243770, regexp_replace(Network#243771, [\\[\\]\\'], , 1) AS Network#243776]\n",
      "            :                                      +- LogicalRDD [Topic_Name#243768, URL#243769, Text_Index#243770, Network#243771], false\n",
      "            +- Project [Explode#243820, split#243824, 1#243869, 2#243844]\n",
      "               +- Project [id#243805, text#243796, length_of_text#243808, num_of_words#243812, Explode#243820, split#243824, text#243796 AS 1#243869, 2#243844]\n",
      "                  +- Join RightOuter, (id#243805 = cast(1#243840 as int))\n",
      "                     :- Project [id#243805, text#243796, length_of_text#243808, array_size(split(text#243796,  , -1)) AS num_of_words#243812]\n",
      "                     :  +- Project [id#243805, text#243796, length(text#243796) AS length_of_text#243808]\n",
      "                     :     +- Project [cast(id#243802 as int) AS id#243805, text#243796]\n",
      "                     :        +- Project [regexp_replace(id#243793, [\\{\\}\"], , 1) AS id#243802, text#243796]\n",
      "                     :           +- Project [id#243793, text#243796]\n",
      "                     :              +- Project [split#243791, id#243793, split(split#243791, : ', -1)[1] AS text#243796]\n",
      "                     :                 +- Project [split#243791, split(split#243791, : ', -1)[0] AS id#243793]\n",
      "                     :                    +- Project [split#243791]\n",
      "                     :                       +- Generate explode(split#243786), false, [split#243791]\n",
      "                     :                          +- Project [split#243786]\n",
      "                     :                             +- Project [Text_Index#243884, split(Text_Index#243884, ', , -1) AS split#243786]\n",
      "                     :                                +- Project [Topic_Name#243882, URL#243883, Text_Index#243884, split(Network#243776, ,, -1) AS Network#243781]\n",
      "                     :                                   +- Project [Topic_Name#243882, URL#243883, Text_Index#243884, regexp_replace(Network#243885, [\\[\\]\\'], , 1) AS Network#243776]\n",
      "                     :                                      +- LogicalRDD [Topic_Name#243882, URL#243883, Text_Index#243884, Network#243885], false\n",
      "                     +- Project [Explode#243820, split#243824, 1#243840, split#243824[1] AS 2#243844]\n",
      "                        +- Project [Explode#243820, split#243824, split#243824[0] AS 1#243840]\n",
      "                           +- Project [Explode#243820, split(Explode#243820, ->, -1) AS split#243824]\n",
      "                              +- Project [Explode#243820]\n",
      "                                 +- Project [Network#243817, Explode#243820]\n",
      "                                    +- Generate explode(Network#243817), false, [Explode#243820]\n",
      "                                       +- Project [Network#243781 AS Network#243817]\n",
      "                                          +- Project [Topic_Name#243849, URL#243850, Text_Index#243851, split(Network#243776, ,, -1) AS Network#243781]\n",
      "                                             +- Project [Topic_Name#243849, URL#243850, Text_Index#243851, regexp_replace(Network#243852, [\\[\\]\\'], , 1) AS Network#243776]\n",
      "                                                +- LogicalRDD [Topic_Name#243849, URL#243850, Text_Index#243851, Network#243852], false\n",
      "\n"
     ]
    },
    {
     "name": "stderr",
     "output_type": "stream",
     "text": [
      " 41%|████▏     | 38/92 [01:09<01:21,  1.50s/it]"
     ]
    },
    {
     "name": "stdout",
     "output_type": "stream",
     "text": [
      "list index out of range\n"
     ]
    },
    {
     "name": "stderr",
     "output_type": "stream",
     "text": [
      " 45%|████▍     | 41/92 [01:13<01:05,  1.29s/it]"
     ]
    },
    {
     "name": "stdout",
     "output_type": "stream",
     "text": [
      "[UNRESOLVED_COLUMN.WITH_SUGGESTION] A column or function parameter with name `3` cannot be resolved. Did you mean one of the following? [`1`, `2`].;\n",
      "'Filter NOT ('3 = NULL)\n",
      "+- Project [1#246292, 2#246325]\n",
      "   +- Project [Explode#246243, split#246247, 1#246292, 2#246325]\n",
      "      +- Project [id#246228, text#246219, length_of_text#246231, num_of_words#246235, Explode#246243, split#246247, 1#246292, text#246219 AS 2#246325]\n",
      "         +- Join RightOuter, (id#246228 = cast(2#246267 as int))\n",
      "            :- Project [id#246228, text#246219, length_of_text#246231, array_size(split(text#246219,  , -1)) AS num_of_words#246235]\n",
      "            :  +- Project [id#246228, text#246219, length(text#246219) AS length_of_text#246231]\n",
      "            :     +- Project [cast(id#246225 as int) AS id#246228, text#246219]\n",
      "            :        +- Project [regexp_replace(id#246216, [\\{\\}\"], , 1) AS id#246225, text#246219]\n",
      "            :           +- Project [id#246216, text#246219]\n",
      "            :              +- Project [split#246214, id#246216, split(split#246214, : ', -1)[1] AS text#246219]\n",
      "            :                 +- Project [split#246214, split(split#246214, : ', -1)[0] AS id#246216]\n",
      "            :                    +- Project [split#246214]\n",
      "            :                       +- Generate explode(split#246209), false, [split#246214]\n",
      "            :                          +- Project [split#246209]\n",
      "            :                             +- Project [Text_Index#246193, split(Text_Index#246193, ', , -1) AS split#246209]\n",
      "            :                                +- Project [Topic_Name#246191, URL#246192, Text_Index#246193, split(Network#246199, ,, -1) AS Network#246204]\n",
      "            :                                   +- Project [Topic_Name#246191, URL#246192, Text_Index#246193, regexp_replace(Network#246194, [\\[\\]\\'], , 1) AS Network#246199]\n",
      "            :                                      +- LogicalRDD [Topic_Name#246191, URL#246192, Text_Index#246193, Network#246194], false\n",
      "            +- Project [Explode#246243, split#246247, 1#246292, 2#246267]\n",
      "               +- Project [id#246228, text#246219, length_of_text#246231, num_of_words#246235, Explode#246243, split#246247, text#246219 AS 1#246292, 2#246267]\n",
      "                  +- Join RightOuter, (id#246228 = cast(1#246263 as int))\n",
      "                     :- Project [id#246228, text#246219, length_of_text#246231, array_size(split(text#246219,  , -1)) AS num_of_words#246235]\n",
      "                     :  +- Project [id#246228, text#246219, length(text#246219) AS length_of_text#246231]\n",
      "                     :     +- Project [cast(id#246225 as int) AS id#246228, text#246219]\n",
      "                     :        +- Project [regexp_replace(id#246216, [\\{\\}\"], , 1) AS id#246225, text#246219]\n",
      "                     :           +- Project [id#246216, text#246219]\n",
      "                     :              +- Project [split#246214, id#246216, split(split#246214, : ', -1)[1] AS text#246219]\n",
      "                     :                 +- Project [split#246214, split(split#246214, : ', -1)[0] AS id#246216]\n",
      "                     :                    +- Project [split#246214]\n",
      "                     :                       +- Generate explode(split#246209), false, [split#246214]\n",
      "                     :                          +- Project [split#246209]\n",
      "                     :                             +- Project [Text_Index#246307, split(Text_Index#246307, ', , -1) AS split#246209]\n",
      "                     :                                +- Project [Topic_Name#246305, URL#246306, Text_Index#246307, split(Network#246199, ,, -1) AS Network#246204]\n",
      "                     :                                   +- Project [Topic_Name#246305, URL#246306, Text_Index#246307, regexp_replace(Network#246308, [\\[\\]\\'], , 1) AS Network#246199]\n",
      "                     :                                      +- LogicalRDD [Topic_Name#246305, URL#246306, Text_Index#246307, Network#246308], false\n",
      "                     +- Project [Explode#246243, split#246247, 1#246263, split#246247[1] AS 2#246267]\n",
      "                        +- Project [Explode#246243, split#246247, split#246247[0] AS 1#246263]\n",
      "                           +- Project [Explode#246243, split(Explode#246243, ->, -1) AS split#246247]\n",
      "                              +- Project [Explode#246243]\n",
      "                                 +- Project [Network#246240, Explode#246243]\n",
      "                                    +- Generate explode(Network#246240), false, [Explode#246243]\n",
      "                                       +- Project [Network#246204 AS Network#246240]\n",
      "                                          +- Project [Topic_Name#246272, URL#246273, Text_Index#246274, split(Network#246199, ,, -1) AS Network#246204]\n",
      "                                             +- Project [Topic_Name#246272, URL#246273, Text_Index#246274, regexp_replace(Network#246275, [\\[\\]\\'], , 1) AS Network#246199]\n",
      "                                                +- LogicalRDD [Topic_Name#246272, URL#246273, Text_Index#246274, Network#246275], false\n",
      "\n"
     ]
    },
    {
     "name": "stderr",
     "output_type": "stream",
     "text": [
      " 50%|█████     | 46/92 [01:21<01:03,  1.38s/it]"
     ]
    },
    {
     "name": "stdout",
     "output_type": "stream",
     "text": [
      "list index out of range\n"
     ]
    },
    {
     "name": "stderr",
     "output_type": "stream",
     "text": [
      " 84%|████████▎ | 77/92 [02:24<00:23,  1.57s/it]"
     ]
    },
    {
     "name": "stdout",
     "output_type": "stream",
     "text": [
      "[UNRESOLVED_COLUMN.WITH_SUGGESTION] A column or function parameter with name `3` cannot be resolved. Did you mean one of the following? [`1`, `2`].;\n",
      "'Filter NOT ('3 = NULL)\n",
      "+- Project [1#256220, 2#256253]\n",
      "   +- Project [Explode#256171, split#256175, 1#256220, 2#256253]\n",
      "      +- Project [id#256156, text#256147, length_of_text#256159, num_of_words#256163, Explode#256171, split#256175, 1#256220, text#256147 AS 2#256253]\n",
      "         +- Join RightOuter, (id#256156 = cast(2#256195 as int))\n",
      "            :- Project [id#256156, text#256147, length_of_text#256159, array_size(split(text#256147,  , -1)) AS num_of_words#256163]\n",
      "            :  +- Project [id#256156, text#256147, length(text#256147) AS length_of_text#256159]\n",
      "            :     +- Project [cast(id#256153 as int) AS id#256156, text#256147]\n",
      "            :        +- Project [regexp_replace(id#256144, [\\{\\}\"], , 1) AS id#256153, text#256147]\n",
      "            :           +- Project [id#256144, text#256147]\n",
      "            :              +- Project [split#256142, id#256144, split(split#256142, : ', -1)[1] AS text#256147]\n",
      "            :                 +- Project [split#256142, split(split#256142, : ', -1)[0] AS id#256144]\n",
      "            :                    +- Project [split#256142]\n",
      "            :                       +- Generate explode(split#256137), false, [split#256142]\n",
      "            :                          +- Project [split#256137]\n",
      "            :                             +- Project [Text_Index#256121, split(Text_Index#256121, ', , -1) AS split#256137]\n",
      "            :                                +- Project [Topic_Name#256119, URL#256120, Text_Index#256121, split(Network#256127, ,, -1) AS Network#256132]\n",
      "            :                                   +- Project [Topic_Name#256119, URL#256120, Text_Index#256121, regexp_replace(Network#256122, [\\[\\]\\'], , 1) AS Network#256127]\n",
      "            :                                      +- LogicalRDD [Topic_Name#256119, URL#256120, Text_Index#256121, Network#256122], false\n",
      "            +- Project [Explode#256171, split#256175, 1#256220, 2#256195]\n",
      "               +- Project [id#256156, text#256147, length_of_text#256159, num_of_words#256163, Explode#256171, split#256175, text#256147 AS 1#256220, 2#256195]\n",
      "                  +- Join RightOuter, (id#256156 = cast(1#256191 as int))\n",
      "                     :- Project [id#256156, text#256147, length_of_text#256159, array_size(split(text#256147,  , -1)) AS num_of_words#256163]\n",
      "                     :  +- Project [id#256156, text#256147, length(text#256147) AS length_of_text#256159]\n",
      "                     :     +- Project [cast(id#256153 as int) AS id#256156, text#256147]\n",
      "                     :        +- Project [regexp_replace(id#256144, [\\{\\}\"], , 1) AS id#256153, text#256147]\n",
      "                     :           +- Project [id#256144, text#256147]\n",
      "                     :              +- Project [split#256142, id#256144, split(split#256142, : ', -1)[1] AS text#256147]\n",
      "                     :                 +- Project [split#256142, split(split#256142, : ', -1)[0] AS id#256144]\n",
      "                     :                    +- Project [split#256142]\n",
      "                     :                       +- Generate explode(split#256137), false, [split#256142]\n",
      "                     :                          +- Project [split#256137]\n",
      "                     :                             +- Project [Text_Index#256235, split(Text_Index#256235, ', , -1) AS split#256137]\n",
      "                     :                                +- Project [Topic_Name#256233, URL#256234, Text_Index#256235, split(Network#256127, ,, -1) AS Network#256132]\n",
      "                     :                                   +- Project [Topic_Name#256233, URL#256234, Text_Index#256235, regexp_replace(Network#256236, [\\[\\]\\'], , 1) AS Network#256127]\n",
      "                     :                                      +- LogicalRDD [Topic_Name#256233, URL#256234, Text_Index#256235, Network#256236], false\n",
      "                     +- Project [Explode#256171, split#256175, 1#256191, split#256175[1] AS 2#256195]\n",
      "                        +- Project [Explode#256171, split#256175, split#256175[0] AS 1#256191]\n",
      "                           +- Project [Explode#256171, split(Explode#256171, ->, -1) AS split#256175]\n",
      "                              +- Project [Explode#256171]\n",
      "                                 +- Project [Network#256168, Explode#256171]\n",
      "                                    +- Generate explode(Network#256168), false, [Explode#256171]\n",
      "                                       +- Project [Network#256132 AS Network#256168]\n",
      "                                          +- Project [Topic_Name#256200, URL#256201, Text_Index#256202, split(Network#256127, ,, -1) AS Network#256132]\n",
      "                                             +- Project [Topic_Name#256200, URL#256201, Text_Index#256202, regexp_replace(Network#256203, [\\[\\]\\'], , 1) AS Network#256127]\n",
      "                                                +- LogicalRDD [Topic_Name#256200, URL#256201, Text_Index#256202, Network#256203], false\n",
      "\n"
     ]
    },
    {
     "name": "stderr",
     "output_type": "stream",
     "text": [
      " 96%|█████████▌| 88/92 [02:44<00:06,  1.52s/it]"
     ]
    },
    {
     "name": "stdout",
     "output_type": "stream",
     "text": [
      "list index out of range\n"
     ]
    },
    {
     "name": "stderr",
     "output_type": "stream",
     "text": [
      "100%|██████████| 92/92 [02:52<00:00,  1.88s/it]\n",
      " 24%|██▍       | 17/70 [00:36<01:52,  2.12s/it]"
     ]
    },
    {
     "name": "stdout",
     "output_type": "stream",
     "text": [
      "local variable 'update_dict' referenced before assignment\n"
     ]
    },
    {
     "name": "stderr",
     "output_type": "stream",
     "text": [
      " 34%|███▍      | 24/70 [00:49<01:12,  1.58s/it]"
     ]
    },
    {
     "name": "stdout",
     "output_type": "stream",
     "text": [
      "list index out of range\n"
     ]
    },
    {
     "name": "stderr",
     "output_type": "stream",
     "text": [
      " 39%|███▊      | 27/70 [00:54<01:14,  1.74s/it]"
     ]
    },
    {
     "name": "stdout",
     "output_type": "stream",
     "text": [
      "local variable 'update_dict' referenced before assignment\n"
     ]
    },
    {
     "name": "stderr",
     "output_type": "stream",
     "text": [
      " 40%|████      | 28/70 [00:56<01:13,  1.75s/it]"
     ]
    },
    {
     "name": "stdout",
     "output_type": "stream",
     "text": [
      "local variable 'update_dict' referenced before assignment\n"
     ]
    },
    {
     "name": "stderr",
     "output_type": "stream",
     "text": [
      " 47%|████▋     | 33/70 [01:07<01:14,  2.02s/it]"
     ]
    },
    {
     "name": "stdout",
     "output_type": "stream",
     "text": [
      "local variable 'update_dict' referenced before assignment\n"
     ]
    },
    {
     "name": "stderr",
     "output_type": "stream",
     "text": [
      " 49%|████▊     | 34/70 [01:08<01:09,  1.94s/it]"
     ]
    },
    {
     "name": "stdout",
     "output_type": "stream",
     "text": [
      "local variable 'update_dict' referenced before assignment\n"
     ]
    },
    {
     "name": "stderr",
     "output_type": "stream",
     "text": [
      " 53%|█████▎    | 37/70 [01:13<00:48,  1.48s/it]"
     ]
    },
    {
     "name": "stdout",
     "output_type": "stream",
     "text": [
      "list index out of range\n"
     ]
    },
    {
     "name": "stderr",
     "output_type": "stream",
     "text": [
      " 63%|██████▎   | 44/70 [01:24<00:35,  1.37s/it]"
     ]
    },
    {
     "name": "stdout",
     "output_type": "stream",
     "text": [
      "list index out of range\n"
     ]
    },
    {
     "name": "stderr",
     "output_type": "stream",
     "text": [
      " 64%|██████▍   | 45/70 [01:26<00:40,  1.61s/it]"
     ]
    },
    {
     "name": "stdout",
     "output_type": "stream",
     "text": [
      "local variable 'update_dict' referenced before assignment\n"
     ]
    },
    {
     "name": "stderr",
     "output_type": "stream",
     "text": [
      " 69%|██████▊   | 48/70 [01:31<00:37,  1.71s/it]"
     ]
    },
    {
     "name": "stdout",
     "output_type": "stream",
     "text": [
      "local variable 'update_dict' referenced before assignment\n"
     ]
    },
    {
     "name": "stderr",
     "output_type": "stream",
     "text": [
      " 73%|███████▎  | 51/70 [01:37<00:36,  1.90s/it]"
     ]
    },
    {
     "name": "stdout",
     "output_type": "stream",
     "text": [
      "local variable 'update_dict' referenced before assignment\n"
     ]
    },
    {
     "name": "stderr",
     "output_type": "stream",
     "text": [
      " 79%|███████▊  | 55/70 [01:45<00:30,  2.02s/it]"
     ]
    },
    {
     "name": "stdout",
     "output_type": "stream",
     "text": [
      "0\n"
     ]
    },
    {
     "name": "stderr",
     "output_type": "stream",
     "text": [
      " 80%|████████  | 56/70 [01:47<00:27,  1.97s/it]"
     ]
    },
    {
     "name": "stdout",
     "output_type": "stream",
     "text": [
      "local variable 'update_dict' referenced before assignment\n"
     ]
    },
    {
     "name": "stderr",
     "output_type": "stream",
     "text": [
      " 83%|████████▎ | 58/70 [01:51<00:23,  1.92s/it]"
     ]
    },
    {
     "name": "stdout",
     "output_type": "stream",
     "text": [
      "local variable 'update_dict' referenced before assignment\n"
     ]
    },
    {
     "name": "stderr",
     "output_type": "stream",
     "text": [
      "100%|██████████| 70/70 [02:16<00:00,  1.95s/it]\n",
      "  3%|▎         | 2/77 [00:03<01:39,  1.33s/it]"
     ]
    },
    {
     "name": "stdout",
     "output_type": "stream",
     "text": [
      "list index out of range\n"
     ]
    },
    {
     "name": "stderr",
     "output_type": "stream",
     "text": [
      "  5%|▌         | 4/77 [00:05<01:21,  1.12s/it]"
     ]
    },
    {
     "name": "stdout",
     "output_type": "stream",
     "text": [
      "list index out of range\n"
     ]
    },
    {
     "name": "stderr",
     "output_type": "stream",
     "text": [
      " 13%|█▎        | 10/77 [00:17<02:05,  1.87s/it]"
     ]
    },
    {
     "name": "stdout",
     "output_type": "stream",
     "text": [
      "local variable 'update_dict' referenced before assignment\n"
     ]
    },
    {
     "name": "stderr",
     "output_type": "stream",
     "text": [
      " 21%|██        | 16/77 [00:29<01:58,  1.94s/it]"
     ]
    },
    {
     "name": "stdout",
     "output_type": "stream",
     "text": [
      "local variable 'update_dict' referenced before assignment\n"
     ]
    },
    {
     "name": "stderr",
     "output_type": "stream",
     "text": [
      " 23%|██▎       | 18/77 [00:32<01:33,  1.58s/it]"
     ]
    },
    {
     "name": "stdout",
     "output_type": "stream",
     "text": [
      "list index out of range\n"
     ]
    },
    {
     "name": "stderr",
     "output_type": "stream",
     "text": [
      " 29%|██▊       | 22/77 [00:40<01:50,  2.00s/it]"
     ]
    },
    {
     "name": "stdout",
     "output_type": "stream",
     "text": [
      "0\n"
     ]
    },
    {
     "name": "stderr",
     "output_type": "stream",
     "text": [
      " 31%|███       | 24/77 [00:44<01:54,  2.17s/it]"
     ]
    },
    {
     "name": "stdout",
     "output_type": "stream",
     "text": [
      "local variable 'update_dict' referenced before assignment\n"
     ]
    },
    {
     "name": "stderr",
     "output_type": "stream",
     "text": [
      " 42%|████▏     | 32/77 [01:00<01:18,  1.75s/it]"
     ]
    },
    {
     "name": "stdout",
     "output_type": "stream",
     "text": [
      "list index out of range\n"
     ]
    },
    {
     "name": "stderr",
     "output_type": "stream",
     "text": [
      " 45%|████▌     | 35/77 [01:06<01:20,  1.92s/it]"
     ]
    },
    {
     "name": "stdout",
     "output_type": "stream",
     "text": [
      "local variable 'update_dict' referenced before assignment\n"
     ]
    },
    {
     "name": "stderr",
     "output_type": "stream",
     "text": [
      " 57%|█████▋    | 44/77 [01:26<01:08,  2.09s/it]"
     ]
    },
    {
     "name": "stdout",
     "output_type": "stream",
     "text": [
      "0\n"
     ]
    },
    {
     "name": "stderr",
     "output_type": "stream",
     "text": [
      " 58%|█████▊    | 45/77 [01:28<01:04,  2.03s/it]"
     ]
    },
    {
     "name": "stdout",
     "output_type": "stream",
     "text": [
      "local variable 'update_dict' referenced before assignment\n"
     ]
    },
    {
     "name": "stderr",
     "output_type": "stream",
     "text": [
      " 61%|██████    | 47/77 [01:31<00:45,  1.52s/it]"
     ]
    },
    {
     "name": "stdout",
     "output_type": "stream",
     "text": [
      "list index out of range\n"
     ]
    },
    {
     "name": "stderr",
     "output_type": "stream",
     "text": [
      " 62%|██████▏   | 48/77 [01:31<00:35,  1.21s/it]"
     ]
    },
    {
     "name": "stdout",
     "output_type": "stream",
     "text": [
      "[UNRESOLVED_COLUMN.WITH_SUGGESTION] A column or function parameter with name `3` cannot be resolved. Did you mean one of the following? [`1`, `2`].;\n",
      "'Filter NOT ('3 = NULL)\n",
      "+- Project [1#290688, 2#290721]\n",
      "   +- Project [Explode#290639, split#290643, 1#290688, 2#290721]\n",
      "      +- Project [id#290624, text#290615, length_of_text#290627, num_of_words#290631, Explode#290639, split#290643, 1#290688, text#290615 AS 2#290721]\n",
      "         +- Join RightOuter, (id#290624 = cast(2#290663 as int))\n",
      "            :- Project [id#290624, text#290615, length_of_text#290627, array_size(split(text#290615,  , -1)) AS num_of_words#290631]\n",
      "            :  +- Project [id#290624, text#290615, length(text#290615) AS length_of_text#290627]\n",
      "            :     +- Project [cast(id#290621 as int) AS id#290624, text#290615]\n",
      "            :        +- Project [regexp_replace(id#290612, [\\{\\}\"], , 1) AS id#290621, text#290615]\n",
      "            :           +- Project [id#290612, text#290615]\n",
      "            :              +- Project [split#290610, id#290612, split(split#290610, : ', -1)[1] AS text#290615]\n",
      "            :                 +- Project [split#290610, split(split#290610, : ', -1)[0] AS id#290612]\n",
      "            :                    +- Project [split#290610]\n",
      "            :                       +- Generate explode(split#290605), false, [split#290610]\n",
      "            :                          +- Project [split#290605]\n",
      "            :                             +- Project [Text_Index#290589, split(Text_Index#290589, ', , -1) AS split#290605]\n",
      "            :                                +- Project [Topic_Name#290587, URL#290588, Text_Index#290589, split(Network#290595, ,, -1) AS Network#290600]\n",
      "            :                                   +- Project [Topic_Name#290587, URL#290588, Text_Index#290589, regexp_replace(Network#290590, [\\[\\]\\'], , 1) AS Network#290595]\n",
      "            :                                      +- LogicalRDD [Topic_Name#290587, URL#290588, Text_Index#290589, Network#290590], false\n",
      "            +- Project [Explode#290639, split#290643, 1#290688, 2#290663]\n",
      "               +- Project [id#290624, text#290615, length_of_text#290627, num_of_words#290631, Explode#290639, split#290643, text#290615 AS 1#290688, 2#290663]\n",
      "                  +- Join RightOuter, (id#290624 = cast(1#290659 as int))\n",
      "                     :- Project [id#290624, text#290615, length_of_text#290627, array_size(split(text#290615,  , -1)) AS num_of_words#290631]\n",
      "                     :  +- Project [id#290624, text#290615, length(text#290615) AS length_of_text#290627]\n",
      "                     :     +- Project [cast(id#290621 as int) AS id#290624, text#290615]\n",
      "                     :        +- Project [regexp_replace(id#290612, [\\{\\}\"], , 1) AS id#290621, text#290615]\n",
      "                     :           +- Project [id#290612, text#290615]\n",
      "                     :              +- Project [split#290610, id#290612, split(split#290610, : ', -1)[1] AS text#290615]\n",
      "                     :                 +- Project [split#290610, split(split#290610, : ', -1)[0] AS id#290612]\n",
      "                     :                    +- Project [split#290610]\n",
      "                     :                       +- Generate explode(split#290605), false, [split#290610]\n",
      "                     :                          +- Project [split#290605]\n",
      "                     :                             +- Project [Text_Index#290703, split(Text_Index#290703, ', , -1) AS split#290605]\n",
      "                     :                                +- Project [Topic_Name#290701, URL#290702, Text_Index#290703, split(Network#290595, ,, -1) AS Network#290600]\n",
      "                     :                                   +- Project [Topic_Name#290701, URL#290702, Text_Index#290703, regexp_replace(Network#290704, [\\[\\]\\'], , 1) AS Network#290595]\n",
      "                     :                                      +- LogicalRDD [Topic_Name#290701, URL#290702, Text_Index#290703, Network#290704], false\n",
      "                     +- Project [Explode#290639, split#290643, 1#290659, split#290643[1] AS 2#290663]\n",
      "                        +- Project [Explode#290639, split#290643, split#290643[0] AS 1#290659]\n",
      "                           +- Project [Explode#290639, split(Explode#290639, ->, -1) AS split#290643]\n",
      "                              +- Project [Explode#290639]\n",
      "                                 +- Project [Network#290636, Explode#290639]\n",
      "                                    +- Generate explode(Network#290636), false, [Explode#290639]\n",
      "                                       +- Project [Network#290600 AS Network#290636]\n",
      "                                          +- Project [Topic_Name#290668, URL#290669, Text_Index#290670, split(Network#290595, ,, -1) AS Network#290600]\n",
      "                                             +- Project [Topic_Name#290668, URL#290669, Text_Index#290670, regexp_replace(Network#290671, [\\[\\]\\'], , 1) AS Network#290595]\n",
      "                                                +- LogicalRDD [Topic_Name#290668, URL#290669, Text_Index#290670, Network#290671], false\n",
      "\n"
     ]
    },
    {
     "name": "stderr",
     "output_type": "stream",
     "text": [
      " 64%|██████▎   | 49/77 [01:32<00:27,  1.01it/s]"
     ]
    },
    {
     "name": "stdout",
     "output_type": "stream",
     "text": [
      "list index out of range\n"
     ]
    },
    {
     "name": "stderr",
     "output_type": "stream",
     "text": [
      " 73%|███████▎  | 56/77 [01:45<00:31,  1.49s/it]"
     ]
    },
    {
     "name": "stdout",
     "output_type": "stream",
     "text": [
      "[UNRESOLVED_COLUMN.WITH_SUGGESTION] A column or function parameter with name `3` cannot be resolved. Did you mean one of the following? [`1`].;\n",
      "'Filter NOT ('3 = NULL)\n",
      "+- Project [1#292659]\n",
      "   +- Project [Explode#292617, split#292621, 1#292659]\n",
      "      +- Project [id#292602, text#292593, length_of_text#292605, num_of_words#292609, Explode#292617, split#292621, text#292593 AS 1#292659]\n",
      "         +- Join RightOuter, (id#292602 = cast(1#292637 as int))\n",
      "            :- Project [id#292602, text#292593, length_of_text#292605, array_size(split(text#292593,  , -1)) AS num_of_words#292609]\n",
      "            :  +- Project [id#292602, text#292593, length(text#292593) AS length_of_text#292605]\n",
      "            :     +- Project [cast(id#292599 as int) AS id#292602, text#292593]\n",
      "            :        +- Project [regexp_replace(id#292590, [\\{\\}\"], , 1) AS id#292599, text#292593]\n",
      "            :           +- Project [id#292590, text#292593]\n",
      "            :              +- Project [split#292588, id#292590, split(split#292588, : ', -1)[1] AS text#292593]\n",
      "            :                 +- Project [split#292588, split(split#292588, : ', -1)[0] AS id#292590]\n",
      "            :                    +- Project [split#292588]\n",
      "            :                       +- Generate explode(split#292583), false, [split#292588]\n",
      "            :                          +- Project [split#292583]\n",
      "            :                             +- Project [Text_Index#292567, split(Text_Index#292567, ', , -1) AS split#292583]\n",
      "            :                                +- Project [Topic_Name#292565, URL#292566, Text_Index#292567, split(Network#292573, ,, -1) AS Network#292578]\n",
      "            :                                   +- Project [Topic_Name#292565, URL#292566, Text_Index#292567, regexp_replace(Network#292568, [\\[\\]\\'], , 1) AS Network#292573]\n",
      "            :                                      +- LogicalRDD [Topic_Name#292565, URL#292566, Text_Index#292567, Network#292568], false\n",
      "            +- Project [Explode#292617, split#292621, split#292621[0] AS 1#292637]\n",
      "               +- Project [Explode#292617, split(Explode#292617, ->, -1) AS split#292621]\n",
      "                  +- Project [Explode#292617]\n",
      "                     +- Project [Network#292614, Explode#292617]\n",
      "                        +- Generate explode(Network#292614), false, [Explode#292617]\n",
      "                           +- Project [Network#292578 AS Network#292614]\n",
      "                              +- Project [Topic_Name#292641, URL#292642, Text_Index#292643, split(Network#292573, ,, -1) AS Network#292578]\n",
      "                                 +- Project [Topic_Name#292641, URL#292642, Text_Index#292643, regexp_replace(Network#292644, [\\[\\]\\'], , 1) AS Network#292573]\n",
      "                                    +- LogicalRDD [Topic_Name#292641, URL#292642, Text_Index#292643, Network#292644], false\n",
      "\n"
     ]
    },
    {
     "name": "stderr",
     "output_type": "stream",
     "text": [
      " 75%|███████▌  | 58/77 [01:49<00:32,  1.73s/it]"
     ]
    },
    {
     "name": "stdout",
     "output_type": "stream",
     "text": [
      "local variable 'update_dict' referenced before assignment\n"
     ]
    },
    {
     "name": "stderr",
     "output_type": "stream",
     "text": [
      " 81%|████████  | 62/77 [01:56<00:27,  1.84s/it]"
     ]
    },
    {
     "name": "stdout",
     "output_type": "stream",
     "text": [
      "0\n"
     ]
    },
    {
     "name": "stderr",
     "output_type": "stream",
     "text": [
      " 83%|████████▎ | 64/77 [01:58<00:18,  1.42s/it]"
     ]
    },
    {
     "name": "stdout",
     "output_type": "stream",
     "text": [
      "[UNRESOLVED_COLUMN.WITH_SUGGESTION] A column or function parameter with name `3` cannot be resolved. Did you mean one of the following? [`1`, `2`].;\n",
      "'Filter NOT ('3 = NULL)\n",
      "+- Project [1#294694, 2#294727]\n",
      "   +- Project [Explode#294645, split#294649, 1#294694, 2#294727]\n",
      "      +- Project [id#294630, text#294621, length_of_text#294633, num_of_words#294637, Explode#294645, split#294649, 1#294694, text#294621 AS 2#294727]\n",
      "         +- Join RightOuter, (id#294630 = cast(2#294669 as int))\n",
      "            :- Project [id#294630, text#294621, length_of_text#294633, array_size(split(text#294621,  , -1)) AS num_of_words#294637]\n",
      "            :  +- Project [id#294630, text#294621, length(text#294621) AS length_of_text#294633]\n",
      "            :     +- Project [cast(id#294627 as int) AS id#294630, text#294621]\n",
      "            :        +- Project [regexp_replace(id#294618, [\\{\\}\"], , 1) AS id#294627, text#294621]\n",
      "            :           +- Project [id#294618, text#294621]\n",
      "            :              +- Project [split#294616, id#294618, split(split#294616, : ', -1)[1] AS text#294621]\n",
      "            :                 +- Project [split#294616, split(split#294616, : ', -1)[0] AS id#294618]\n",
      "            :                    +- Project [split#294616]\n",
      "            :                       +- Generate explode(split#294611), false, [split#294616]\n",
      "            :                          +- Project [split#294611]\n",
      "            :                             +- Project [Text_Index#294595, split(Text_Index#294595, ', , -1) AS split#294611]\n",
      "            :                                +- Project [Topic_Name#294593, URL#294594, Text_Index#294595, split(Network#294601, ,, -1) AS Network#294606]\n",
      "            :                                   +- Project [Topic_Name#294593, URL#294594, Text_Index#294595, regexp_replace(Network#294596, [\\[\\]\\'], , 1) AS Network#294601]\n",
      "            :                                      +- LogicalRDD [Topic_Name#294593, URL#294594, Text_Index#294595, Network#294596], false\n",
      "            +- Project [Explode#294645, split#294649, 1#294694, 2#294669]\n",
      "               +- Project [id#294630, text#294621, length_of_text#294633, num_of_words#294637, Explode#294645, split#294649, text#294621 AS 1#294694, 2#294669]\n",
      "                  +- Join RightOuter, (id#294630 = cast(1#294665 as int))\n",
      "                     :- Project [id#294630, text#294621, length_of_text#294633, array_size(split(text#294621,  , -1)) AS num_of_words#294637]\n",
      "                     :  +- Project [id#294630, text#294621, length(text#294621) AS length_of_text#294633]\n",
      "                     :     +- Project [cast(id#294627 as int) AS id#294630, text#294621]\n",
      "                     :        +- Project [regexp_replace(id#294618, [\\{\\}\"], , 1) AS id#294627, text#294621]\n",
      "                     :           +- Project [id#294618, text#294621]\n",
      "                     :              +- Project [split#294616, id#294618, split(split#294616, : ', -1)[1] AS text#294621]\n",
      "                     :                 +- Project [split#294616, split(split#294616, : ', -1)[0] AS id#294618]\n",
      "                     :                    +- Project [split#294616]\n",
      "                     :                       +- Generate explode(split#294611), false, [split#294616]\n",
      "                     :                          +- Project [split#294611]\n",
      "                     :                             +- Project [Text_Index#294709, split(Text_Index#294709, ', , -1) AS split#294611]\n",
      "                     :                                +- Project [Topic_Name#294707, URL#294708, Text_Index#294709, split(Network#294601, ,, -1) AS Network#294606]\n",
      "                     :                                   +- Project [Topic_Name#294707, URL#294708, Text_Index#294709, regexp_replace(Network#294710, [\\[\\]\\'], , 1) AS Network#294601]\n",
      "                     :                                      +- LogicalRDD [Topic_Name#294707, URL#294708, Text_Index#294709, Network#294710], false\n",
      "                     +- Project [Explode#294645, split#294649, 1#294665, split#294649[1] AS 2#294669]\n",
      "                        +- Project [Explode#294645, split#294649, split#294649[0] AS 1#294665]\n",
      "                           +- Project [Explode#294645, split(Explode#294645, ->, -1) AS split#294649]\n",
      "                              +- Project [Explode#294645]\n",
      "                                 +- Project [Network#294642, Explode#294645]\n",
      "                                    +- Generate explode(Network#294642), false, [Explode#294645]\n",
      "                                       +- Project [Network#294606 AS Network#294642]\n",
      "                                          +- Project [Topic_Name#294674, URL#294675, Text_Index#294676, split(Network#294601, ,, -1) AS Network#294606]\n",
      "                                             +- Project [Topic_Name#294674, URL#294675, Text_Index#294676, regexp_replace(Network#294677, [\\[\\]\\'], , 1) AS Network#294601]\n",
      "                                                +- LogicalRDD [Topic_Name#294674, URL#294675, Text_Index#294676, Network#294677], false\n",
      "\n"
     ]
    },
    {
     "name": "stderr",
     "output_type": "stream",
     "text": [
      " 92%|█████████▏| 71/77 [02:10<00:08,  1.40s/it]"
     ]
    },
    {
     "name": "stdout",
     "output_type": "stream",
     "text": [
      "list index out of range\n"
     ]
    },
    {
     "name": "stderr",
     "output_type": "stream",
     "text": [
      " 96%|█████████▌| 74/77 [02:14<00:03,  1.23s/it]"
     ]
    },
    {
     "name": "stdout",
     "output_type": "stream",
     "text": [
      "list index out of range\n"
     ]
    },
    {
     "name": "stderr",
     "output_type": "stream",
     "text": [
      "100%|██████████| 77/77 [02:20<00:00,  1.83s/it]\n",
      " 10%|▉         | 8/81 [00:15<02:21,  1.94s/it]"
     ]
    },
    {
     "name": "stdout",
     "output_type": "stream",
     "text": [
      "local variable 'update_dict' referenced before assignment\n"
     ]
    },
    {
     "name": "stderr",
     "output_type": "stream",
     "text": [
      " 12%|█▏        | 10/81 [00:19<02:11,  1.85s/it]"
     ]
    },
    {
     "name": "stdout",
     "output_type": "stream",
     "text": [
      "local variable 'update_dict' referenced before assignment\n"
     ]
    },
    {
     "name": "stderr",
     "output_type": "stream",
     "text": [
      " 27%|██▋       | 22/81 [00:42<01:30,  1.54s/it]"
     ]
    },
    {
     "name": "stdout",
     "output_type": "stream",
     "text": [
      "[UNRESOLVED_COLUMN.WITH_SUGGESTION] A column or function parameter with name `3` cannot be resolved. Did you mean one of the following? [`1`, `2`].;\n",
      "'Filter NOT ('3 = NULL)\n",
      "+- Project [1#303612, 2#303645]\n",
      "   +- Project [Explode#303563, split#303567, 1#303612, 2#303645]\n",
      "      +- Project [id#303548, text#303539, length_of_text#303551, num_of_words#303555, Explode#303563, split#303567, 1#303612, text#303539 AS 2#303645]\n",
      "         +- Join RightOuter, (id#303548 = cast(2#303587 as int))\n",
      "            :- Project [id#303548, text#303539, length_of_text#303551, array_size(split(text#303539,  , -1)) AS num_of_words#303555]\n",
      "            :  +- Project [id#303548, text#303539, length(text#303539) AS length_of_text#303551]\n",
      "            :     +- Project [cast(id#303545 as int) AS id#303548, text#303539]\n",
      "            :        +- Project [regexp_replace(id#303536, [\\{\\}\"], , 1) AS id#303545, text#303539]\n",
      "            :           +- Project [id#303536, text#303539]\n",
      "            :              +- Project [split#303534, id#303536, split(split#303534, : ', -1)[1] AS text#303539]\n",
      "            :                 +- Project [split#303534, split(split#303534, : ', -1)[0] AS id#303536]\n",
      "            :                    +- Project [split#303534]\n",
      "            :                       +- Generate explode(split#303529), false, [split#303534]\n",
      "            :                          +- Project [split#303529]\n",
      "            :                             +- Project [Text_Index#303513, split(Text_Index#303513, ', , -1) AS split#303529]\n",
      "            :                                +- Project [Topic_Name#303511, URL#303512, Text_Index#303513, split(Network#303519, ,, -1) AS Network#303524]\n",
      "            :                                   +- Project [Topic_Name#303511, URL#303512, Text_Index#303513, regexp_replace(Network#303514, [\\[\\]\\'], , 1) AS Network#303519]\n",
      "            :                                      +- LogicalRDD [Topic_Name#303511, URL#303512, Text_Index#303513, Network#303514], false\n",
      "            +- Project [Explode#303563, split#303567, 1#303612, 2#303587]\n",
      "               +- Project [id#303548, text#303539, length_of_text#303551, num_of_words#303555, Explode#303563, split#303567, text#303539 AS 1#303612, 2#303587]\n",
      "                  +- Join RightOuter, (id#303548 = cast(1#303583 as int))\n",
      "                     :- Project [id#303548, text#303539, length_of_text#303551, array_size(split(text#303539,  , -1)) AS num_of_words#303555]\n",
      "                     :  +- Project [id#303548, text#303539, length(text#303539) AS length_of_text#303551]\n",
      "                     :     +- Project [cast(id#303545 as int) AS id#303548, text#303539]\n",
      "                     :        +- Project [regexp_replace(id#303536, [\\{\\}\"], , 1) AS id#303545, text#303539]\n",
      "                     :           +- Project [id#303536, text#303539]\n",
      "                     :              +- Project [split#303534, id#303536, split(split#303534, : ', -1)[1] AS text#303539]\n",
      "                     :                 +- Project [split#303534, split(split#303534, : ', -1)[0] AS id#303536]\n",
      "                     :                    +- Project [split#303534]\n",
      "                     :                       +- Generate explode(split#303529), false, [split#303534]\n",
      "                     :                          +- Project [split#303529]\n",
      "                     :                             +- Project [Text_Index#303627, split(Text_Index#303627, ', , -1) AS split#303529]\n",
      "                     :                                +- Project [Topic_Name#303625, URL#303626, Text_Index#303627, split(Network#303519, ,, -1) AS Network#303524]\n",
      "                     :                                   +- Project [Topic_Name#303625, URL#303626, Text_Index#303627, regexp_replace(Network#303628, [\\[\\]\\'], , 1) AS Network#303519]\n",
      "                     :                                      +- LogicalRDD [Topic_Name#303625, URL#303626, Text_Index#303627, Network#303628], false\n",
      "                     +- Project [Explode#303563, split#303567, 1#303583, split#303567[1] AS 2#303587]\n",
      "                        +- Project [Explode#303563, split#303567, split#303567[0] AS 1#303583]\n",
      "                           +- Project [Explode#303563, split(Explode#303563, ->, -1) AS split#303567]\n",
      "                              +- Project [Explode#303563]\n",
      "                                 +- Project [Network#303560, Explode#303563]\n",
      "                                    +- Generate explode(Network#303560), false, [Explode#303563]\n",
      "                                       +- Project [Network#303524 AS Network#303560]\n",
      "                                          +- Project [Topic_Name#303592, URL#303593, Text_Index#303594, split(Network#303519, ,, -1) AS Network#303524]\n",
      "                                             +- Project [Topic_Name#303592, URL#303593, Text_Index#303594, regexp_replace(Network#303595, [\\[\\]\\'], , 1) AS Network#303519]\n",
      "                                                +- LogicalRDD [Topic_Name#303592, URL#303593, Text_Index#303594, Network#303595], false\n",
      "\n"
     ]
    },
    {
     "name": "stderr",
     "output_type": "stream",
     "text": [
      " 28%|██▊       | 23/81 [00:44<01:36,  1.67s/it]"
     ]
    },
    {
     "name": "stdout",
     "output_type": "stream",
     "text": [
      "local variable 'update_dict' referenced before assignment\n"
     ]
    },
    {
     "name": "stderr",
     "output_type": "stream",
     "text": [
      " 30%|██▉       | 24/81 [00:44<01:14,  1.32s/it]"
     ]
    },
    {
     "name": "stdout",
     "output_type": "stream",
     "text": [
      "[UNRESOLVED_COLUMN.WITH_SUGGESTION] A column or function parameter with name `3` cannot be resolved. Did you mean one of the following? [`1`, `2`].;\n",
      "'Filter NOT ('3 = NULL)\n",
      "+- Project [1#304023, 2#304056]\n",
      "   +- Project [Explode#303974, split#303978, 1#304023, 2#304056]\n",
      "      +- Project [id#303959, text#303950, length_of_text#303962, num_of_words#303966, Explode#303974, split#303978, 1#304023, text#303950 AS 2#304056]\n",
      "         +- Join RightOuter, (id#303959 = cast(2#303998 as int))\n",
      "            :- Project [id#303959, text#303950, length_of_text#303962, array_size(split(text#303950,  , -1)) AS num_of_words#303966]\n",
      "            :  +- Project [id#303959, text#303950, length(text#303950) AS length_of_text#303962]\n",
      "            :     +- Project [cast(id#303956 as int) AS id#303959, text#303950]\n",
      "            :        +- Project [regexp_replace(id#303947, [\\{\\}\"], , 1) AS id#303956, text#303950]\n",
      "            :           +- Project [id#303947, text#303950]\n",
      "            :              +- Project [split#303945, id#303947, split(split#303945, : ', -1)[1] AS text#303950]\n",
      "            :                 +- Project [split#303945, split(split#303945, : ', -1)[0] AS id#303947]\n",
      "            :                    +- Project [split#303945]\n",
      "            :                       +- Generate explode(split#303940), false, [split#303945]\n",
      "            :                          +- Project [split#303940]\n",
      "            :                             +- Project [Text_Index#303924, split(Text_Index#303924, ', , -1) AS split#303940]\n",
      "            :                                +- Project [Topic_Name#303922, URL#303923, Text_Index#303924, split(Network#303930, ,, -1) AS Network#303935]\n",
      "            :                                   +- Project [Topic_Name#303922, URL#303923, Text_Index#303924, regexp_replace(Network#303925, [\\[\\]\\'], , 1) AS Network#303930]\n",
      "            :                                      +- LogicalRDD [Topic_Name#303922, URL#303923, Text_Index#303924, Network#303925], false\n",
      "            +- Project [Explode#303974, split#303978, 1#304023, 2#303998]\n",
      "               +- Project [id#303959, text#303950, length_of_text#303962, num_of_words#303966, Explode#303974, split#303978, text#303950 AS 1#304023, 2#303998]\n",
      "                  +- Join RightOuter, (id#303959 = cast(1#303994 as int))\n",
      "                     :- Project [id#303959, text#303950, length_of_text#303962, array_size(split(text#303950,  , -1)) AS num_of_words#303966]\n",
      "                     :  +- Project [id#303959, text#303950, length(text#303950) AS length_of_text#303962]\n",
      "                     :     +- Project [cast(id#303956 as int) AS id#303959, text#303950]\n",
      "                     :        +- Project [regexp_replace(id#303947, [\\{\\}\"], , 1) AS id#303956, text#303950]\n",
      "                     :           +- Project [id#303947, text#303950]\n",
      "                     :              +- Project [split#303945, id#303947, split(split#303945, : ', -1)[1] AS text#303950]\n",
      "                     :                 +- Project [split#303945, split(split#303945, : ', -1)[0] AS id#303947]\n",
      "                     :                    +- Project [split#303945]\n",
      "                     :                       +- Generate explode(split#303940), false, [split#303945]\n",
      "                     :                          +- Project [split#303940]\n",
      "                     :                             +- Project [Text_Index#304038, split(Text_Index#304038, ', , -1) AS split#303940]\n",
      "                     :                                +- Project [Topic_Name#304036, URL#304037, Text_Index#304038, split(Network#303930, ,, -1) AS Network#303935]\n",
      "                     :                                   +- Project [Topic_Name#304036, URL#304037, Text_Index#304038, regexp_replace(Network#304039, [\\[\\]\\'], , 1) AS Network#303930]\n",
      "                     :                                      +- LogicalRDD [Topic_Name#304036, URL#304037, Text_Index#304038, Network#304039], false\n",
      "                     +- Project [Explode#303974, split#303978, 1#303994, split#303978[1] AS 2#303998]\n",
      "                        +- Project [Explode#303974, split#303978, split#303978[0] AS 1#303994]\n",
      "                           +- Project [Explode#303974, split(Explode#303974, ->, -1) AS split#303978]\n",
      "                              +- Project [Explode#303974]\n",
      "                                 +- Project [Network#303971, Explode#303974]\n",
      "                                    +- Generate explode(Network#303971), false, [Explode#303974]\n",
      "                                       +- Project [Network#303935 AS Network#303971]\n",
      "                                          +- Project [Topic_Name#304003, URL#304004, Text_Index#304005, split(Network#303930, ,, -1) AS Network#303935]\n",
      "                                             +- Project [Topic_Name#304003, URL#304004, Text_Index#304005, regexp_replace(Network#304006, [\\[\\]\\'], , 1) AS Network#303930]\n",
      "                                                +- LogicalRDD [Topic_Name#304003, URL#304004, Text_Index#304005, Network#304006], false\n",
      "\n"
     ]
    },
    {
     "name": "stderr",
     "output_type": "stream",
     "text": [
      " 32%|███▏      | 26/81 [00:46<01:02,  1.14s/it]"
     ]
    },
    {
     "name": "stdout",
     "output_type": "stream",
     "text": [
      "[UNRESOLVED_COLUMN.WITH_SUGGESTION] A column or function parameter with name `3` cannot be resolved. Did you mean one of the following? [`1`, `2`].;\n",
      "'Filter NOT ('3 = NULL)\n",
      "+- Project [1#304373, 2#304406]\n",
      "   +- Project [Explode#304324, split#304328, 1#304373, 2#304406]\n",
      "      +- Project [id#304309, text#304300, length_of_text#304312, num_of_words#304316, Explode#304324, split#304328, 1#304373, text#304300 AS 2#304406]\n",
      "         +- Join RightOuter, (id#304309 = cast(2#304348 as int))\n",
      "            :- Project [id#304309, text#304300, length_of_text#304312, array_size(split(text#304300,  , -1)) AS num_of_words#304316]\n",
      "            :  +- Project [id#304309, text#304300, length(text#304300) AS length_of_text#304312]\n",
      "            :     +- Project [cast(id#304306 as int) AS id#304309, text#304300]\n",
      "            :        +- Project [regexp_replace(id#304297, [\\{\\}\"], , 1) AS id#304306, text#304300]\n",
      "            :           +- Project [id#304297, text#304300]\n",
      "            :              +- Project [split#304295, id#304297, split(split#304295, : ', -1)[1] AS text#304300]\n",
      "            :                 +- Project [split#304295, split(split#304295, : ', -1)[0] AS id#304297]\n",
      "            :                    +- Project [split#304295]\n",
      "            :                       +- Generate explode(split#304290), false, [split#304295]\n",
      "            :                          +- Project [split#304290]\n",
      "            :                             +- Project [Text_Index#304274, split(Text_Index#304274, ', , -1) AS split#304290]\n",
      "            :                                +- Project [Topic_Name#304272, URL#304273, Text_Index#304274, split(Network#304280, ,, -1) AS Network#304285]\n",
      "            :                                   +- Project [Topic_Name#304272, URL#304273, Text_Index#304274, regexp_replace(Network#304275, [\\[\\]\\'], , 1) AS Network#304280]\n",
      "            :                                      +- LogicalRDD [Topic_Name#304272, URL#304273, Text_Index#304274, Network#304275], false\n",
      "            +- Project [Explode#304324, split#304328, 1#304373, 2#304348]\n",
      "               +- Project [id#304309, text#304300, length_of_text#304312, num_of_words#304316, Explode#304324, split#304328, text#304300 AS 1#304373, 2#304348]\n",
      "                  +- Join RightOuter, (id#304309 = cast(1#304344 as int))\n",
      "                     :- Project [id#304309, text#304300, length_of_text#304312, array_size(split(text#304300,  , -1)) AS num_of_words#304316]\n",
      "                     :  +- Project [id#304309, text#304300, length(text#304300) AS length_of_text#304312]\n",
      "                     :     +- Project [cast(id#304306 as int) AS id#304309, text#304300]\n",
      "                     :        +- Project [regexp_replace(id#304297, [\\{\\}\"], , 1) AS id#304306, text#304300]\n",
      "                     :           +- Project [id#304297, text#304300]\n",
      "                     :              +- Project [split#304295, id#304297, split(split#304295, : ', -1)[1] AS text#304300]\n",
      "                     :                 +- Project [split#304295, split(split#304295, : ', -1)[0] AS id#304297]\n",
      "                     :                    +- Project [split#304295]\n",
      "                     :                       +- Generate explode(split#304290), false, [split#304295]\n",
      "                     :                          +- Project [split#304290]\n",
      "                     :                             +- Project [Text_Index#304388, split(Text_Index#304388, ', , -1) AS split#304290]\n",
      "                     :                                +- Project [Topic_Name#304386, URL#304387, Text_Index#304388, split(Network#304280, ,, -1) AS Network#304285]\n",
      "                     :                                   +- Project [Topic_Name#304386, URL#304387, Text_Index#304388, regexp_replace(Network#304389, [\\[\\]\\'], , 1) AS Network#304280]\n",
      "                     :                                      +- LogicalRDD [Topic_Name#304386, URL#304387, Text_Index#304388, Network#304389], false\n",
      "                     +- Project [Explode#304324, split#304328, 1#304344, split#304328[1] AS 2#304348]\n",
      "                        +- Project [Explode#304324, split#304328, split#304328[0] AS 1#304344]\n",
      "                           +- Project [Explode#304324, split(Explode#304324, ->, -1) AS split#304328]\n",
      "                              +- Project [Explode#304324]\n",
      "                                 +- Project [Network#304321, Explode#304324]\n",
      "                                    +- Generate explode(Network#304321), false, [Explode#304324]\n",
      "                                       +- Project [Network#304285 AS Network#304321]\n",
      "                                          +- Project [Topic_Name#304353, URL#304354, Text_Index#304355, split(Network#304280, ,, -1) AS Network#304285]\n",
      "                                             +- Project [Topic_Name#304353, URL#304354, Text_Index#304355, regexp_replace(Network#304356, [\\[\\]\\'], , 1) AS Network#304280]\n",
      "                                                +- LogicalRDD [Topic_Name#304353, URL#304354, Text_Index#304355, Network#304356], false\n",
      "\n"
     ]
    },
    {
     "name": "stderr",
     "output_type": "stream",
     "text": [
      " 33%|███▎      | 27/81 [00:47<00:50,  1.06it/s]"
     ]
    },
    {
     "name": "stdout",
     "output_type": "stream",
     "text": [
      "[UNRESOLVED_COLUMN.WITH_SUGGESTION] A column or function parameter with name `3` cannot be resolved. Did you mean one of the following? [`1`, `2`].;\n",
      "'Filter NOT ('3 = NULL)\n",
      "+- Project [1#304522, 2#304555]\n",
      "   +- Project [Explode#304473, split#304477, 1#304522, 2#304555]\n",
      "      +- Project [id#304458, text#304449, length_of_text#304461, num_of_words#304465, Explode#304473, split#304477, 1#304522, text#304449 AS 2#304555]\n",
      "         +- Join RightOuter, (id#304458 = cast(2#304497 as int))\n",
      "            :- Project [id#304458, text#304449, length_of_text#304461, array_size(split(text#304449,  , -1)) AS num_of_words#304465]\n",
      "            :  +- Project [id#304458, text#304449, length(text#304449) AS length_of_text#304461]\n",
      "            :     +- Project [cast(id#304455 as int) AS id#304458, text#304449]\n",
      "            :        +- Project [regexp_replace(id#304446, [\\{\\}\"], , 1) AS id#304455, text#304449]\n",
      "            :           +- Project [id#304446, text#304449]\n",
      "            :              +- Project [split#304444, id#304446, split(split#304444, : ', -1)[1] AS text#304449]\n",
      "            :                 +- Project [split#304444, split(split#304444, : ', -1)[0] AS id#304446]\n",
      "            :                    +- Project [split#304444]\n",
      "            :                       +- Generate explode(split#304439), false, [split#304444]\n",
      "            :                          +- Project [split#304439]\n",
      "            :                             +- Project [Text_Index#304423, split(Text_Index#304423, ', , -1) AS split#304439]\n",
      "            :                                +- Project [Topic_Name#304421, URL#304422, Text_Index#304423, split(Network#304429, ,, -1) AS Network#304434]\n",
      "            :                                   +- Project [Topic_Name#304421, URL#304422, Text_Index#304423, regexp_replace(Network#304424, [\\[\\]\\'], , 1) AS Network#304429]\n",
      "            :                                      +- LogicalRDD [Topic_Name#304421, URL#304422, Text_Index#304423, Network#304424], false\n",
      "            +- Project [Explode#304473, split#304477, 1#304522, 2#304497]\n",
      "               +- Project [id#304458, text#304449, length_of_text#304461, num_of_words#304465, Explode#304473, split#304477, text#304449 AS 1#304522, 2#304497]\n",
      "                  +- Join RightOuter, (id#304458 = cast(1#304493 as int))\n",
      "                     :- Project [id#304458, text#304449, length_of_text#304461, array_size(split(text#304449,  , -1)) AS num_of_words#304465]\n",
      "                     :  +- Project [id#304458, text#304449, length(text#304449) AS length_of_text#304461]\n",
      "                     :     +- Project [cast(id#304455 as int) AS id#304458, text#304449]\n",
      "                     :        +- Project [regexp_replace(id#304446, [\\{\\}\"], , 1) AS id#304455, text#304449]\n",
      "                     :           +- Project [id#304446, text#304449]\n",
      "                     :              +- Project [split#304444, id#304446, split(split#304444, : ', -1)[1] AS text#304449]\n",
      "                     :                 +- Project [split#304444, split(split#304444, : ', -1)[0] AS id#304446]\n",
      "                     :                    +- Project [split#304444]\n",
      "                     :                       +- Generate explode(split#304439), false, [split#304444]\n",
      "                     :                          +- Project [split#304439]\n",
      "                     :                             +- Project [Text_Index#304537, split(Text_Index#304537, ', , -1) AS split#304439]\n",
      "                     :                                +- Project [Topic_Name#304535, URL#304536, Text_Index#304537, split(Network#304429, ,, -1) AS Network#304434]\n",
      "                     :                                   +- Project [Topic_Name#304535, URL#304536, Text_Index#304537, regexp_replace(Network#304538, [\\[\\]\\'], , 1) AS Network#304429]\n",
      "                     :                                      +- LogicalRDD [Topic_Name#304535, URL#304536, Text_Index#304537, Network#304538], false\n",
      "                     +- Project [Explode#304473, split#304477, 1#304493, split#304477[1] AS 2#304497]\n",
      "                        +- Project [Explode#304473, split#304477, split#304477[0] AS 1#304493]\n",
      "                           +- Project [Explode#304473, split(Explode#304473, ->, -1) AS split#304477]\n",
      "                              +- Project [Explode#304473]\n",
      "                                 +- Project [Network#304470, Explode#304473]\n",
      "                                    +- Generate explode(Network#304470), false, [Explode#304473]\n",
      "                                       +- Project [Network#304434 AS Network#304470]\n",
      "                                          +- Project [Topic_Name#304502, URL#304503, Text_Index#304504, split(Network#304429, ,, -1) AS Network#304434]\n",
      "                                             +- Project [Topic_Name#304502, URL#304503, Text_Index#304504, regexp_replace(Network#304505, [\\[\\]\\'], , 1) AS Network#304429]\n",
      "                                                +- LogicalRDD [Topic_Name#304502, URL#304503, Text_Index#304504, Network#304505], false\n",
      "\n"
     ]
    },
    {
     "name": "stderr",
     "output_type": "stream",
     "text": [
      " 35%|███▍      | 28/81 [00:48<01:01,  1.16s/it]"
     ]
    },
    {
     "name": "stdout",
     "output_type": "stream",
     "text": [
      "local variable 'update_dict' referenced before assignment\n"
     ]
    },
    {
     "name": "stderr",
     "output_type": "stream",
     "text": [
      " 43%|████▎     | 35/81 [01:01<01:09,  1.51s/it]"
     ]
    },
    {
     "name": "stdout",
     "output_type": "stream",
     "text": [
      "list index out of range\n"
     ]
    },
    {
     "name": "stderr",
     "output_type": "stream",
     "text": [
      " 58%|█████▊    | 47/81 [01:23<00:52,  1.55s/it]"
     ]
    },
    {
     "name": "stdout",
     "output_type": "stream",
     "text": [
      "list index out of range\n"
     ]
    },
    {
     "name": "stderr",
     "output_type": "stream",
     "text": [
      " 59%|█████▉    | 48/81 [01:24<00:39,  1.21s/it]"
     ]
    },
    {
     "name": "stdout",
     "output_type": "stream",
     "text": [
      "list index out of range\n"
     ]
    },
    {
     "name": "stderr",
     "output_type": "stream",
     "text": [
      " 62%|██████▏   | 50/81 [01:29<00:58,  1.89s/it]"
     ]
    },
    {
     "name": "stdout",
     "output_type": "stream",
     "text": [
      "local variable 'update_dict' referenced before assignment\n"
     ]
    },
    {
     "name": "stderr",
     "output_type": "stream",
     "text": [
      " 65%|██████▌   | 53/81 [01:34<00:45,  1.63s/it]"
     ]
    },
    {
     "name": "stdout",
     "output_type": "stream",
     "text": [
      "list index out of range\n"
     ]
    },
    {
     "name": "stderr",
     "output_type": "stream",
     "text": [
      " 77%|███████▋  | 62/81 [01:49<00:26,  1.39s/it]"
     ]
    },
    {
     "name": "stdout",
     "output_type": "stream",
     "text": [
      "list index out of range\n"
     ]
    },
    {
     "name": "stderr",
     "output_type": "stream",
     "text": [
      "100%|██████████| 81/81 [02:29<00:00,  1.85s/it]\n",
      "  3%|▎         | 3/92 [00:04<01:56,  1.31s/it]"
     ]
    },
    {
     "name": "stdout",
     "output_type": "stream",
     "text": [
      "list index out of range\n"
     ]
    },
    {
     "name": "stderr",
     "output_type": "stream",
     "text": [
      "  5%|▌         | 5/92 [00:07<01:45,  1.21s/it]"
     ]
    },
    {
     "name": "stdout",
     "output_type": "stream",
     "text": [
      "list index out of range\n"
     ]
    },
    {
     "name": "stderr",
     "output_type": "stream",
     "text": [
      " 13%|█▎        | 12/92 [00:19<01:55,  1.44s/it]"
     ]
    },
    {
     "name": "stdout",
     "output_type": "stream",
     "text": [
      "list index out of range\n"
     ]
    },
    {
     "name": "stderr",
     "output_type": "stream",
     "text": [
      " 14%|█▍        | 13/92 [00:20<01:30,  1.14s/it]"
     ]
    },
    {
     "name": "stdout",
     "output_type": "stream",
     "text": [
      "list index out of range\n"
     ]
    },
    {
     "name": "stderr",
     "output_type": "stream",
     "text": [
      " 24%|██▍       | 22/92 [00:38<02:18,  1.97s/it]"
     ]
    },
    {
     "name": "stdout",
     "output_type": "stream",
     "text": [
      "local variable 'update_dict' referenced before assignment\n"
     ]
    },
    {
     "name": "stderr",
     "output_type": "stream",
     "text": [
      " 30%|███       | 28/92 [00:47<01:32,  1.45s/it]"
     ]
    },
    {
     "name": "stdout",
     "output_type": "stream",
     "text": [
      "[UNRESOLVED_COLUMN.WITH_SUGGESTION] A column or function parameter with name `3` cannot be resolved. Did you mean one of the following? [`1`, `2`].;\n",
      "'Filter NOT ('3 = NULL)\n",
      "+- Project [1#326810, 2#326843]\n",
      "   +- Project [Explode#326761, split#326765, 1#326810, 2#326843]\n",
      "      +- Project [id#326746, text#326737, length_of_text#326749, num_of_words#326753, Explode#326761, split#326765, 1#326810, text#326737 AS 2#326843]\n",
      "         +- Join RightOuter, (id#326746 = cast(2#326785 as int))\n",
      "            :- Project [id#326746, text#326737, length_of_text#326749, array_size(split(text#326737,  , -1)) AS num_of_words#326753]\n",
      "            :  +- Project [id#326746, text#326737, length(text#326737) AS length_of_text#326749]\n",
      "            :     +- Project [cast(id#326743 as int) AS id#326746, text#326737]\n",
      "            :        +- Project [regexp_replace(id#326734, [\\{\\}\"], , 1) AS id#326743, text#326737]\n",
      "            :           +- Project [id#326734, text#326737]\n",
      "            :              +- Project [split#326732, id#326734, split(split#326732, : ', -1)[1] AS text#326737]\n",
      "            :                 +- Project [split#326732, split(split#326732, : ', -1)[0] AS id#326734]\n",
      "            :                    +- Project [split#326732]\n",
      "            :                       +- Generate explode(split#326727), false, [split#326732]\n",
      "            :                          +- Project [split#326727]\n",
      "            :                             +- Project [Text_Index#326711, split(Text_Index#326711, ', , -1) AS split#326727]\n",
      "            :                                +- Project [Topic_Name#326709, URL#326710, Text_Index#326711, split(Network#326717, ,, -1) AS Network#326722]\n",
      "            :                                   +- Project [Topic_Name#326709, URL#326710, Text_Index#326711, regexp_replace(Network#326712, [\\[\\]\\'], , 1) AS Network#326717]\n",
      "            :                                      +- LogicalRDD [Topic_Name#326709, URL#326710, Text_Index#326711, Network#326712], false\n",
      "            +- Project [Explode#326761, split#326765, 1#326810, 2#326785]\n",
      "               +- Project [id#326746, text#326737, length_of_text#326749, num_of_words#326753, Explode#326761, split#326765, text#326737 AS 1#326810, 2#326785]\n",
      "                  +- Join RightOuter, (id#326746 = cast(1#326781 as int))\n",
      "                     :- Project [id#326746, text#326737, length_of_text#326749, array_size(split(text#326737,  , -1)) AS num_of_words#326753]\n",
      "                     :  +- Project [id#326746, text#326737, length(text#326737) AS length_of_text#326749]\n",
      "                     :     +- Project [cast(id#326743 as int) AS id#326746, text#326737]\n",
      "                     :        +- Project [regexp_replace(id#326734, [\\{\\}\"], , 1) AS id#326743, text#326737]\n",
      "                     :           +- Project [id#326734, text#326737]\n",
      "                     :              +- Project [split#326732, id#326734, split(split#326732, : ', -1)[1] AS text#326737]\n",
      "                     :                 +- Project [split#326732, split(split#326732, : ', -1)[0] AS id#326734]\n",
      "                     :                    +- Project [split#326732]\n",
      "                     :                       +- Generate explode(split#326727), false, [split#326732]\n",
      "                     :                          +- Project [split#326727]\n",
      "                     :                             +- Project [Text_Index#326825, split(Text_Index#326825, ', , -1) AS split#326727]\n",
      "                     :                                +- Project [Topic_Name#326823, URL#326824, Text_Index#326825, split(Network#326717, ,, -1) AS Network#326722]\n",
      "                     :                                   +- Project [Topic_Name#326823, URL#326824, Text_Index#326825, regexp_replace(Network#326826, [\\[\\]\\'], , 1) AS Network#326717]\n",
      "                     :                                      +- LogicalRDD [Topic_Name#326823, URL#326824, Text_Index#326825, Network#326826], false\n",
      "                     +- Project [Explode#326761, split#326765, 1#326781, split#326765[1] AS 2#326785]\n",
      "                        +- Project [Explode#326761, split#326765, split#326765[0] AS 1#326781]\n",
      "                           +- Project [Explode#326761, split(Explode#326761, ->, -1) AS split#326765]\n",
      "                              +- Project [Explode#326761]\n",
      "                                 +- Project [Network#326758, Explode#326761]\n",
      "                                    +- Generate explode(Network#326758), false, [Explode#326761]\n",
      "                                       +- Project [Network#326722 AS Network#326758]\n",
      "                                          +- Project [Topic_Name#326790, URL#326791, Text_Index#326792, split(Network#326717, ,, -1) AS Network#326722]\n",
      "                                             +- Project [Topic_Name#326790, URL#326791, Text_Index#326792, regexp_replace(Network#326793, [\\[\\]\\'], , 1) AS Network#326717]\n",
      "                                                +- LogicalRDD [Topic_Name#326790, URL#326791, Text_Index#326792, Network#326793], false\n",
      "\n"
     ]
    },
    {
     "name": "stderr",
     "output_type": "stream",
     "text": [
      " 33%|███▎      | 30/92 [00:50<01:16,  1.23s/it]"
     ]
    },
    {
     "name": "stdout",
     "output_type": "stream",
     "text": [
      "[UNRESOLVED_COLUMN.WITH_SUGGESTION] A column or function parameter with name `3` cannot be resolved. Did you mean one of the following? [`1`, `2`].;\n",
      "'Filter NOT ('3 = NULL)\n",
      "+- Project [1#327221, 2#327254]\n",
      "   +- Project [Explode#327172, split#327176, 1#327221, 2#327254]\n",
      "      +- Project [id#327157, text#327148, length_of_text#327160, num_of_words#327164, Explode#327172, split#327176, 1#327221, text#327148 AS 2#327254]\n",
      "         +- Join RightOuter, (id#327157 = cast(2#327196 as int))\n",
      "            :- Project [id#327157, text#327148, length_of_text#327160, array_size(split(text#327148,  , -1)) AS num_of_words#327164]\n",
      "            :  +- Project [id#327157, text#327148, length(text#327148) AS length_of_text#327160]\n",
      "            :     +- Project [cast(id#327154 as int) AS id#327157, text#327148]\n",
      "            :        +- Project [regexp_replace(id#327145, [\\{\\}\"], , 1) AS id#327154, text#327148]\n",
      "            :           +- Project [id#327145, text#327148]\n",
      "            :              +- Project [split#327143, id#327145, split(split#327143, : ', -1)[1] AS text#327148]\n",
      "            :                 +- Project [split#327143, split(split#327143, : ', -1)[0] AS id#327145]\n",
      "            :                    +- Project [split#327143]\n",
      "            :                       +- Generate explode(split#327138), false, [split#327143]\n",
      "            :                          +- Project [split#327138]\n",
      "            :                             +- Project [Text_Index#327122, split(Text_Index#327122, ', , -1) AS split#327138]\n",
      "            :                                +- Project [Topic_Name#327120, URL#327121, Text_Index#327122, split(Network#327128, ,, -1) AS Network#327133]\n",
      "            :                                   +- Project [Topic_Name#327120, URL#327121, Text_Index#327122, regexp_replace(Network#327123, [\\[\\]\\'], , 1) AS Network#327128]\n",
      "            :                                      +- LogicalRDD [Topic_Name#327120, URL#327121, Text_Index#327122, Network#327123], false\n",
      "            +- Project [Explode#327172, split#327176, 1#327221, 2#327196]\n",
      "               +- Project [id#327157, text#327148, length_of_text#327160, num_of_words#327164, Explode#327172, split#327176, text#327148 AS 1#327221, 2#327196]\n",
      "                  +- Join RightOuter, (id#327157 = cast(1#327192 as int))\n",
      "                     :- Project [id#327157, text#327148, length_of_text#327160, array_size(split(text#327148,  , -1)) AS num_of_words#327164]\n",
      "                     :  +- Project [id#327157, text#327148, length(text#327148) AS length_of_text#327160]\n",
      "                     :     +- Project [cast(id#327154 as int) AS id#327157, text#327148]\n",
      "                     :        +- Project [regexp_replace(id#327145, [\\{\\}\"], , 1) AS id#327154, text#327148]\n",
      "                     :           +- Project [id#327145, text#327148]\n",
      "                     :              +- Project [split#327143, id#327145, split(split#327143, : ', -1)[1] AS text#327148]\n",
      "                     :                 +- Project [split#327143, split(split#327143, : ', -1)[0] AS id#327145]\n",
      "                     :                    +- Project [split#327143]\n",
      "                     :                       +- Generate explode(split#327138), false, [split#327143]\n",
      "                     :                          +- Project [split#327138]\n",
      "                     :                             +- Project [Text_Index#327236, split(Text_Index#327236, ', , -1) AS split#327138]\n",
      "                     :                                +- Project [Topic_Name#327234, URL#327235, Text_Index#327236, split(Network#327128, ,, -1) AS Network#327133]\n",
      "                     :                                   +- Project [Topic_Name#327234, URL#327235, Text_Index#327236, regexp_replace(Network#327237, [\\[\\]\\'], , 1) AS Network#327128]\n",
      "                     :                                      +- LogicalRDD [Topic_Name#327234, URL#327235, Text_Index#327236, Network#327237], false\n",
      "                     +- Project [Explode#327172, split#327176, 1#327192, split#327176[1] AS 2#327196]\n",
      "                        +- Project [Explode#327172, split#327176, split#327176[0] AS 1#327192]\n",
      "                           +- Project [Explode#327172, split(Explode#327172, ->, -1) AS split#327176]\n",
      "                              +- Project [Explode#327172]\n",
      "                                 +- Project [Network#327169, Explode#327172]\n",
      "                                    +- Generate explode(Network#327169), false, [Explode#327172]\n",
      "                                       +- Project [Network#327133 AS Network#327169]\n",
      "                                          +- Project [Topic_Name#327201, URL#327202, Text_Index#327203, split(Network#327128, ,, -1) AS Network#327133]\n",
      "                                             +- Project [Topic_Name#327201, URL#327202, Text_Index#327203, regexp_replace(Network#327204, [\\[\\]\\'], , 1) AS Network#327128]\n",
      "                                                +- LogicalRDD [Topic_Name#327201, URL#327202, Text_Index#327203, Network#327204], false\n",
      "\n"
     ]
    },
    {
     "name": "stderr",
     "output_type": "stream",
     "text": [
      " 42%|████▏     | 39/92 [01:07<01:41,  1.92s/it]"
     ]
    },
    {
     "name": "stdout",
     "output_type": "stream",
     "text": [
      "local variable 'update_dict' referenced before assignment\n"
     ]
    },
    {
     "name": "stderr",
     "output_type": "stream",
     "text": [
      " 47%|████▋     | 43/92 [01:14<01:15,  1.54s/it]"
     ]
    },
    {
     "name": "stdout",
     "output_type": "stream",
     "text": [
      "[UNRESOLVED_COLUMN.WITH_SUGGESTION] A column or function parameter with name `3` cannot be resolved. Did you mean one of the following? [`1`, `2`].;\n",
      "'Filter NOT ('3 = NULL)\n",
      "+- Project [1#330769, 2#330802]\n",
      "   +- Project [Explode#330720, split#330724, 1#330769, 2#330802]\n",
      "      +- Project [id#330705, text#330696, length_of_text#330708, num_of_words#330712, Explode#330720, split#330724, 1#330769, text#330696 AS 2#330802]\n",
      "         +- Join RightOuter, (id#330705 = cast(2#330744 as int))\n",
      "            :- Project [id#330705, text#330696, length_of_text#330708, array_size(split(text#330696,  , -1)) AS num_of_words#330712]\n",
      "            :  +- Project [id#330705, text#330696, length(text#330696) AS length_of_text#330708]\n",
      "            :     +- Project [cast(id#330702 as int) AS id#330705, text#330696]\n",
      "            :        +- Project [regexp_replace(id#330693, [\\{\\}\"], , 1) AS id#330702, text#330696]\n",
      "            :           +- Project [id#330693, text#330696]\n",
      "            :              +- Project [split#330691, id#330693, split(split#330691, : ', -1)[1] AS text#330696]\n",
      "            :                 +- Project [split#330691, split(split#330691, : ', -1)[0] AS id#330693]\n",
      "            :                    +- Project [split#330691]\n",
      "            :                       +- Generate explode(split#330686), false, [split#330691]\n",
      "            :                          +- Project [split#330686]\n",
      "            :                             +- Project [Text_Index#330670, split(Text_Index#330670, ', , -1) AS split#330686]\n",
      "            :                                +- Project [Topic_Name#330668, URL#330669, Text_Index#330670, split(Network#330676, ,, -1) AS Network#330681]\n",
      "            :                                   +- Project [Topic_Name#330668, URL#330669, Text_Index#330670, regexp_replace(Network#330671, [\\[\\]\\'], , 1) AS Network#330676]\n",
      "            :                                      +- LogicalRDD [Topic_Name#330668, URL#330669, Text_Index#330670, Network#330671], false\n",
      "            +- Project [Explode#330720, split#330724, 1#330769, 2#330744]\n",
      "               +- Project [id#330705, text#330696, length_of_text#330708, num_of_words#330712, Explode#330720, split#330724, text#330696 AS 1#330769, 2#330744]\n",
      "                  +- Join RightOuter, (id#330705 = cast(1#330740 as int))\n",
      "                     :- Project [id#330705, text#330696, length_of_text#330708, array_size(split(text#330696,  , -1)) AS num_of_words#330712]\n",
      "                     :  +- Project [id#330705, text#330696, length(text#330696) AS length_of_text#330708]\n",
      "                     :     +- Project [cast(id#330702 as int) AS id#330705, text#330696]\n",
      "                     :        +- Project [regexp_replace(id#330693, [\\{\\}\"], , 1) AS id#330702, text#330696]\n",
      "                     :           +- Project [id#330693, text#330696]\n",
      "                     :              +- Project [split#330691, id#330693, split(split#330691, : ', -1)[1] AS text#330696]\n",
      "                     :                 +- Project [split#330691, split(split#330691, : ', -1)[0] AS id#330693]\n",
      "                     :                    +- Project [split#330691]\n",
      "                     :                       +- Generate explode(split#330686), false, [split#330691]\n",
      "                     :                          +- Project [split#330686]\n",
      "                     :                             +- Project [Text_Index#330784, split(Text_Index#330784, ', , -1) AS split#330686]\n",
      "                     :                                +- Project [Topic_Name#330782, URL#330783, Text_Index#330784, split(Network#330676, ,, -1) AS Network#330681]\n",
      "                     :                                   +- Project [Topic_Name#330782, URL#330783, Text_Index#330784, regexp_replace(Network#330785, [\\[\\]\\'], , 1) AS Network#330676]\n",
      "                     :                                      +- LogicalRDD [Topic_Name#330782, URL#330783, Text_Index#330784, Network#330785], false\n",
      "                     +- Project [Explode#330720, split#330724, 1#330740, split#330724[1] AS 2#330744]\n",
      "                        +- Project [Explode#330720, split#330724, split#330724[0] AS 1#330740]\n",
      "                           +- Project [Explode#330720, split(Explode#330720, ->, -1) AS split#330724]\n",
      "                              +- Project [Explode#330720]\n",
      "                                 +- Project [Network#330717, Explode#330720]\n",
      "                                    +- Generate explode(Network#330717), false, [Explode#330720]\n",
      "                                       +- Project [Network#330681 AS Network#330717]\n",
      "                                          +- Project [Topic_Name#330749, URL#330750, Text_Index#330751, split(Network#330676, ,, -1) AS Network#330681]\n",
      "                                             +- Project [Topic_Name#330749, URL#330750, Text_Index#330751, regexp_replace(Network#330752, [\\[\\]\\'], , 1) AS Network#330676]\n",
      "                                                +- LogicalRDD [Topic_Name#330749, URL#330750, Text_Index#330751, Network#330752], false\n",
      "\n"
     ]
    },
    {
     "name": "stderr",
     "output_type": "stream",
     "text": [
      " 48%|████▊     | 44/92 [01:14<00:58,  1.21s/it]"
     ]
    },
    {
     "name": "stdout",
     "output_type": "stream",
     "text": [
      "list index out of range\n"
     ]
    },
    {
     "name": "stderr",
     "output_type": "stream",
     "text": [
      " 50%|█████     | 46/92 [01:17<00:54,  1.19s/it]"
     ]
    },
    {
     "name": "stdout",
     "output_type": "stream",
     "text": [
      "[UNRESOLVED_COLUMN.WITH_SUGGESTION] A column or function parameter with name `3` cannot be resolved. Did you mean one of the following? [`1`, `2`].;\n",
      "'Filter NOT ('3 = NULL)\n",
      "+- Project [1#331322, 2#331355]\n",
      "   +- Project [Explode#331273, split#331277, 1#331322, 2#331355]\n",
      "      +- Project [id#331258, text#331249, length_of_text#331261, num_of_words#331265, Explode#331273, split#331277, 1#331322, text#331249 AS 2#331355]\n",
      "         +- Join RightOuter, (id#331258 = cast(2#331297 as int))\n",
      "            :- Project [id#331258, text#331249, length_of_text#331261, array_size(split(text#331249,  , -1)) AS num_of_words#331265]\n",
      "            :  +- Project [id#331258, text#331249, length(text#331249) AS length_of_text#331261]\n",
      "            :     +- Project [cast(id#331255 as int) AS id#331258, text#331249]\n",
      "            :        +- Project [regexp_replace(id#331246, [\\{\\}\"], , 1) AS id#331255, text#331249]\n",
      "            :           +- Project [id#331246, text#331249]\n",
      "            :              +- Project [split#331244, id#331246, split(split#331244, : ', -1)[1] AS text#331249]\n",
      "            :                 +- Project [split#331244, split(split#331244, : ', -1)[0] AS id#331246]\n",
      "            :                    +- Project [split#331244]\n",
      "            :                       +- Generate explode(split#331239), false, [split#331244]\n",
      "            :                          +- Project [split#331239]\n",
      "            :                             +- Project [Text_Index#331223, split(Text_Index#331223, ', , -1) AS split#331239]\n",
      "            :                                +- Project [Topic_Name#331221, URL#331222, Text_Index#331223, split(Network#331229, ,, -1) AS Network#331234]\n",
      "            :                                   +- Project [Topic_Name#331221, URL#331222, Text_Index#331223, regexp_replace(Network#331224, [\\[\\]\\'], , 1) AS Network#331229]\n",
      "            :                                      +- LogicalRDD [Topic_Name#331221, URL#331222, Text_Index#331223, Network#331224], false\n",
      "            +- Project [Explode#331273, split#331277, 1#331322, 2#331297]\n",
      "               +- Project [id#331258, text#331249, length_of_text#331261, num_of_words#331265, Explode#331273, split#331277, text#331249 AS 1#331322, 2#331297]\n",
      "                  +- Join RightOuter, (id#331258 = cast(1#331293 as int))\n",
      "                     :- Project [id#331258, text#331249, length_of_text#331261, array_size(split(text#331249,  , -1)) AS num_of_words#331265]\n",
      "                     :  +- Project [id#331258, text#331249, length(text#331249) AS length_of_text#331261]\n",
      "                     :     +- Project [cast(id#331255 as int) AS id#331258, text#331249]\n",
      "                     :        +- Project [regexp_replace(id#331246, [\\{\\}\"], , 1) AS id#331255, text#331249]\n",
      "                     :           +- Project [id#331246, text#331249]\n",
      "                     :              +- Project [split#331244, id#331246, split(split#331244, : ', -1)[1] AS text#331249]\n",
      "                     :                 +- Project [split#331244, split(split#331244, : ', -1)[0] AS id#331246]\n",
      "                     :                    +- Project [split#331244]\n",
      "                     :                       +- Generate explode(split#331239), false, [split#331244]\n",
      "                     :                          +- Project [split#331239]\n",
      "                     :                             +- Project [Text_Index#331337, split(Text_Index#331337, ', , -1) AS split#331239]\n",
      "                     :                                +- Project [Topic_Name#331335, URL#331336, Text_Index#331337, split(Network#331229, ,, -1) AS Network#331234]\n",
      "                     :                                   +- Project [Topic_Name#331335, URL#331336, Text_Index#331337, regexp_replace(Network#331338, [\\[\\]\\'], , 1) AS Network#331229]\n",
      "                     :                                      +- LogicalRDD [Topic_Name#331335, URL#331336, Text_Index#331337, Network#331338], false\n",
      "                     +- Project [Explode#331273, split#331277, 1#331293, split#331277[1] AS 2#331297]\n",
      "                        +- Project [Explode#331273, split#331277, split#331277[0] AS 1#331293]\n",
      "                           +- Project [Explode#331273, split(Explode#331273, ->, -1) AS split#331277]\n",
      "                              +- Project [Explode#331273]\n",
      "                                 +- Project [Network#331270, Explode#331273]\n",
      "                                    +- Generate explode(Network#331270), false, [Explode#331273]\n",
      "                                       +- Project [Network#331234 AS Network#331270]\n",
      "                                          +- Project [Topic_Name#331302, URL#331303, Text_Index#331304, split(Network#331229, ,, -1) AS Network#331234]\n",
      "                                             +- Project [Topic_Name#331302, URL#331303, Text_Index#331304, regexp_replace(Network#331305, [\\[\\]\\'], , 1) AS Network#331229]\n",
      "                                                +- LogicalRDD [Topic_Name#331302, URL#331303, Text_Index#331304, Network#331305], false\n",
      "\n"
     ]
    },
    {
     "name": "stderr",
     "output_type": "stream",
     "text": [
      " 52%|█████▏    | 48/92 [01:19<00:47,  1.08s/it]"
     ]
    },
    {
     "name": "stdout",
     "output_type": "stream",
     "text": [
      "list index out of range\n"
     ]
    },
    {
     "name": "stderr",
     "output_type": "stream",
     "text": [
      " 76%|███████▌  | 70/92 [02:03<00:33,  1.54s/it]"
     ]
    },
    {
     "name": "stdout",
     "output_type": "stream",
     "text": [
      "list index out of range\n"
     ]
    },
    {
     "name": "stderr",
     "output_type": "stream",
     "text": [
      " 83%|████████▎ | 76/92 [02:12<00:22,  1.41s/it]"
     ]
    },
    {
     "name": "stdout",
     "output_type": "stream",
     "text": [
      "list index out of range\n"
     ]
    },
    {
     "name": "stderr",
     "output_type": "stream",
     "text": [
      "100%|██████████| 92/92 [02:43<00:00,  1.78s/it]\n",
      "  4%|▍         | 3/76 [00:05<01:55,  1.58s/it]"
     ]
    },
    {
     "name": "stdout",
     "output_type": "stream",
     "text": [
      "[UNRESOLVED_COLUMN.WITH_SUGGESTION] A column or function parameter with name `3` cannot be resolved. Did you mean one of the following? [`1`].;\n",
      "'Filter NOT ('3 = NULL)\n",
      "+- Project [1#345181]\n",
      "   +- Project [Explode#345139, split#345143, 1#345181]\n",
      "      +- Project [id#345124, text#345115, length_of_text#345127, num_of_words#345131, Explode#345139, split#345143, text#345115 AS 1#345181]\n",
      "         +- Join RightOuter, (id#345124 = cast(1#345159 as int))\n",
      "            :- Project [id#345124, text#345115, length_of_text#345127, array_size(split(text#345115,  , -1)) AS num_of_words#345131]\n",
      "            :  +- Project [id#345124, text#345115, length(text#345115) AS length_of_text#345127]\n",
      "            :     +- Project [cast(id#345121 as int) AS id#345124, text#345115]\n",
      "            :        +- Project [regexp_replace(id#345112, [\\{\\}\"], , 1) AS id#345121, text#345115]\n",
      "            :           +- Project [id#345112, text#345115]\n",
      "            :              +- Project [split#345110, id#345112, split(split#345110, : ', -1)[1] AS text#345115]\n",
      "            :                 +- Project [split#345110, split(split#345110, : ', -1)[0] AS id#345112]\n",
      "            :                    +- Project [split#345110]\n",
      "            :                       +- Generate explode(split#345105), false, [split#345110]\n",
      "            :                          +- Project [split#345105]\n",
      "            :                             +- Project [Text_Index#345089, split(Text_Index#345089, ', , -1) AS split#345105]\n",
      "            :                                +- Project [Topic_Name#345087, URL#345088, Text_Index#345089, split(Network#345095, ,, -1) AS Network#345100]\n",
      "            :                                   +- Project [Topic_Name#345087, URL#345088, Text_Index#345089, regexp_replace(Network#345090, [\\[\\]\\'], , 1) AS Network#345095]\n",
      "            :                                      +- LogicalRDD [Topic_Name#345087, URL#345088, Text_Index#345089, Network#345090], false\n",
      "            +- Project [Explode#345139, split#345143, split#345143[0] AS 1#345159]\n",
      "               +- Project [Explode#345139, split(Explode#345139, ->, -1) AS split#345143]\n",
      "                  +- Project [Explode#345139]\n",
      "                     +- Project [Network#345136, Explode#345139]\n",
      "                        +- Generate explode(Network#345136), false, [Explode#345139]\n",
      "                           +- Project [Network#345100 AS Network#345136]\n",
      "                              +- Project [Topic_Name#345163, URL#345164, Text_Index#345165, split(Network#345095, ,, -1) AS Network#345100]\n",
      "                                 +- Project [Topic_Name#345163, URL#345164, Text_Index#345165, regexp_replace(Network#345166, [\\[\\]\\'], , 1) AS Network#345095]\n",
      "                                    +- LogicalRDD [Topic_Name#345163, URL#345164, Text_Index#345165, Network#345166], false\n",
      "\n"
     ]
    },
    {
     "name": "stderr",
     "output_type": "stream",
     "text": [
      " 12%|█▏        | 9/76 [00:16<01:42,  1.53s/it]"
     ]
    },
    {
     "name": "stdout",
     "output_type": "stream",
     "text": [
      "list index out of range\n"
     ]
    },
    {
     "name": "stderr",
     "output_type": "stream",
     "text": [
      " 20%|█▉        | 15/76 [00:28<02:02,  2.00s/it]"
     ]
    },
    {
     "name": "stdout",
     "output_type": "stream",
     "text": [
      "local variable 'update_dict' referenced before assignment\n"
     ]
    },
    {
     "name": "stderr",
     "output_type": "stream",
     "text": [
      " 37%|███▋      | 28/76 [00:51<01:08,  1.43s/it]"
     ]
    },
    {
     "name": "stdout",
     "output_type": "stream",
     "text": [
      "list index out of range\n"
     ]
    },
    {
     "name": "stderr",
     "output_type": "stream",
     "text": [
      " 45%|████▍     | 34/76 [01:03<01:04,  1.54s/it]"
     ]
    },
    {
     "name": "stdout",
     "output_type": "stream",
     "text": [
      "[UNRESOLVED_COLUMN.WITH_SUGGESTION] A column or function parameter with name `3` cannot be resolved. Did you mean one of the following? [`1`].;\n",
      "'Filter NOT ('3 = NULL)\n",
      "+- Project [1#353548]\n",
      "   +- Project [Explode#353506, split#353510, 1#353548]\n",
      "      +- Project [id#353491, text#353482, length_of_text#353494, num_of_words#353498, Explode#353506, split#353510, text#353482 AS 1#353548]\n",
      "         +- Join RightOuter, (id#353491 = cast(1#353526 as int))\n",
      "            :- Project [id#353491, text#353482, length_of_text#353494, array_size(split(text#353482,  , -1)) AS num_of_words#353498]\n",
      "            :  +- Project [id#353491, text#353482, length(text#353482) AS length_of_text#353494]\n",
      "            :     +- Project [cast(id#353488 as int) AS id#353491, text#353482]\n",
      "            :        +- Project [regexp_replace(id#353479, [\\{\\}\"], , 1) AS id#353488, text#353482]\n",
      "            :           +- Project [id#353479, text#353482]\n",
      "            :              +- Project [split#353477, id#353479, split(split#353477, : ', -1)[1] AS text#353482]\n",
      "            :                 +- Project [split#353477, split(split#353477, : ', -1)[0] AS id#353479]\n",
      "            :                    +- Project [split#353477]\n",
      "            :                       +- Generate explode(split#353472), false, [split#353477]\n",
      "            :                          +- Project [split#353472]\n",
      "            :                             +- Project [Text_Index#353456, split(Text_Index#353456, ', , -1) AS split#353472]\n",
      "            :                                +- Project [Topic_Name#353454, URL#353455, Text_Index#353456, split(Network#353462, ,, -1) AS Network#353467]\n",
      "            :                                   +- Project [Topic_Name#353454, URL#353455, Text_Index#353456, regexp_replace(Network#353457, [\\[\\]\\'], , 1) AS Network#353462]\n",
      "            :                                      +- LogicalRDD [Topic_Name#353454, URL#353455, Text_Index#353456, Network#353457], false\n",
      "            +- Project [Explode#353506, split#353510, split#353510[0] AS 1#353526]\n",
      "               +- Project [Explode#353506, split(Explode#353506, ->, -1) AS split#353510]\n",
      "                  +- Project [Explode#353506]\n",
      "                     +- Project [Network#353503, Explode#353506]\n",
      "                        +- Generate explode(Network#353503), false, [Explode#353506]\n",
      "                           +- Project [Network#353467 AS Network#353503]\n",
      "                              +- Project [Topic_Name#353530, URL#353531, Text_Index#353532, split(Network#353462, ,, -1) AS Network#353467]\n",
      "                                 +- Project [Topic_Name#353530, URL#353531, Text_Index#353532, regexp_replace(Network#353533, [\\[\\]\\'], , 1) AS Network#353462]\n",
      "                                    +- LogicalRDD [Topic_Name#353530, URL#353531, Text_Index#353532, Network#353533], false\n",
      "\n"
     ]
    },
    {
     "name": "stderr",
     "output_type": "stream",
     "text": [
      " 49%|████▊     | 37/76 [01:07<00:52,  1.36s/it]"
     ]
    },
    {
     "name": "stdout",
     "output_type": "stream",
     "text": [
      "[UNRESOLVED_COLUMN.WITH_SUGGESTION] A column or function parameter with name `3` cannot be resolved. Did you mean one of the following? [`1`, `2`].;\n",
      "'Filter NOT ('3 = NULL)\n",
      "+- Project [1#354124, 2#354157]\n",
      "   +- Project [Explode#354075, split#354079, 1#354124, 2#354157]\n",
      "      +- Project [id#354060, text#354051, length_of_text#354063, num_of_words#354067, Explode#354075, split#354079, 1#354124, text#354051 AS 2#354157]\n",
      "         +- Join RightOuter, (id#354060 = cast(2#354099 as int))\n",
      "            :- Project [id#354060, text#354051, length_of_text#354063, array_size(split(text#354051,  , -1)) AS num_of_words#354067]\n",
      "            :  +- Project [id#354060, text#354051, length(text#354051) AS length_of_text#354063]\n",
      "            :     +- Project [cast(id#354057 as int) AS id#354060, text#354051]\n",
      "            :        +- Project [regexp_replace(id#354048, [\\{\\}\"], , 1) AS id#354057, text#354051]\n",
      "            :           +- Project [id#354048, text#354051]\n",
      "            :              +- Project [split#354046, id#354048, split(split#354046, : ', -1)[1] AS text#354051]\n",
      "            :                 +- Project [split#354046, split(split#354046, : ', -1)[0] AS id#354048]\n",
      "            :                    +- Project [split#354046]\n",
      "            :                       +- Generate explode(split#354041), false, [split#354046]\n",
      "            :                          +- Project [split#354041]\n",
      "            :                             +- Project [Text_Index#354025, split(Text_Index#354025, ', , -1) AS split#354041]\n",
      "            :                                +- Project [Topic_Name#354023, URL#354024, Text_Index#354025, split(Network#354031, ,, -1) AS Network#354036]\n",
      "            :                                   +- Project [Topic_Name#354023, URL#354024, Text_Index#354025, regexp_replace(Network#354026, [\\[\\]\\'], , 1) AS Network#354031]\n",
      "            :                                      +- LogicalRDD [Topic_Name#354023, URL#354024, Text_Index#354025, Network#354026], false\n",
      "            +- Project [Explode#354075, split#354079, 1#354124, 2#354099]\n",
      "               +- Project [id#354060, text#354051, length_of_text#354063, num_of_words#354067, Explode#354075, split#354079, text#354051 AS 1#354124, 2#354099]\n",
      "                  +- Join RightOuter, (id#354060 = cast(1#354095 as int))\n",
      "                     :- Project [id#354060, text#354051, length_of_text#354063, array_size(split(text#354051,  , -1)) AS num_of_words#354067]\n",
      "                     :  +- Project [id#354060, text#354051, length(text#354051) AS length_of_text#354063]\n",
      "                     :     +- Project [cast(id#354057 as int) AS id#354060, text#354051]\n",
      "                     :        +- Project [regexp_replace(id#354048, [\\{\\}\"], , 1) AS id#354057, text#354051]\n",
      "                     :           +- Project [id#354048, text#354051]\n",
      "                     :              +- Project [split#354046, id#354048, split(split#354046, : ', -1)[1] AS text#354051]\n",
      "                     :                 +- Project [split#354046, split(split#354046, : ', -1)[0] AS id#354048]\n",
      "                     :                    +- Project [split#354046]\n",
      "                     :                       +- Generate explode(split#354041), false, [split#354046]\n",
      "                     :                          +- Project [split#354041]\n",
      "                     :                             +- Project [Text_Index#354139, split(Text_Index#354139, ', , -1) AS split#354041]\n",
      "                     :                                +- Project [Topic_Name#354137, URL#354138, Text_Index#354139, split(Network#354031, ,, -1) AS Network#354036]\n",
      "                     :                                   +- Project [Topic_Name#354137, URL#354138, Text_Index#354139, regexp_replace(Network#354140, [\\[\\]\\'], , 1) AS Network#354031]\n",
      "                     :                                      +- LogicalRDD [Topic_Name#354137, URL#354138, Text_Index#354139, Network#354140], false\n",
      "                     +- Project [Explode#354075, split#354079, 1#354095, split#354079[1] AS 2#354099]\n",
      "                        +- Project [Explode#354075, split#354079, split#354079[0] AS 1#354095]\n",
      "                           +- Project [Explode#354075, split(Explode#354075, ->, -1) AS split#354079]\n",
      "                              +- Project [Explode#354075]\n",
      "                                 +- Project [Network#354072, Explode#354075]\n",
      "                                    +- Generate explode(Network#354072), false, [Explode#354075]\n",
      "                                       +- Project [Network#354036 AS Network#354072]\n",
      "                                          +- Project [Topic_Name#354104, URL#354105, Text_Index#354106, split(Network#354031, ,, -1) AS Network#354036]\n",
      "                                             +- Project [Topic_Name#354104, URL#354105, Text_Index#354106, regexp_replace(Network#354107, [\\[\\]\\'], , 1) AS Network#354031]\n",
      "                                                +- LogicalRDD [Topic_Name#354104, URL#354105, Text_Index#354106, Network#354107], false\n",
      "\n"
     ]
    },
    {
     "name": "stderr",
     "output_type": "stream",
     "text": [
      " 57%|█████▋    | 43/76 [01:18<00:48,  1.46s/it]"
     ]
    },
    {
     "name": "stdout",
     "output_type": "stream",
     "text": [
      "list index out of range\n"
     ]
    },
    {
     "name": "stderr",
     "output_type": "stream",
     "text": [
      " 67%|██████▋   | 51/76 [01:32<00:36,  1.48s/it]"
     ]
    },
    {
     "name": "stdout",
     "output_type": "stream",
     "text": [
      "[UNRESOLVED_COLUMN.WITH_SUGGESTION] A column or function parameter with name `3` cannot be resolved. Did you mean one of the following? [`1`, `2`].;\n",
      "'Filter NOT ('3 = NULL)\n",
      "+- Project [1#357972, 2#358005]\n",
      "   +- Project [Explode#357923, split#357927, 1#357972, 2#358005]\n",
      "      +- Project [id#357908, text#357899, length_of_text#357911, num_of_words#357915, Explode#357923, split#357927, 1#357972, text#357899 AS 2#358005]\n",
      "         +- Join RightOuter, (id#357908 = cast(2#357947 as int))\n",
      "            :- Project [id#357908, text#357899, length_of_text#357911, array_size(split(text#357899,  , -1)) AS num_of_words#357915]\n",
      "            :  +- Project [id#357908, text#357899, length(text#357899) AS length_of_text#357911]\n",
      "            :     +- Project [cast(id#357905 as int) AS id#357908, text#357899]\n",
      "            :        +- Project [regexp_replace(id#357896, [\\{\\}\"], , 1) AS id#357905, text#357899]\n",
      "            :           +- Project [id#357896, text#357899]\n",
      "            :              +- Project [split#357894, id#357896, split(split#357894, : ', -1)[1] AS text#357899]\n",
      "            :                 +- Project [split#357894, split(split#357894, : ', -1)[0] AS id#357896]\n",
      "            :                    +- Project [split#357894]\n",
      "            :                       +- Generate explode(split#357889), false, [split#357894]\n",
      "            :                          +- Project [split#357889]\n",
      "            :                             +- Project [Text_Index#357873, split(Text_Index#357873, ', , -1) AS split#357889]\n",
      "            :                                +- Project [Topic_Name#357871, URL#357872, Text_Index#357873, split(Network#357879, ,, -1) AS Network#357884]\n",
      "            :                                   +- Project [Topic_Name#357871, URL#357872, Text_Index#357873, regexp_replace(Network#357874, [\\[\\]\\'], , 1) AS Network#357879]\n",
      "            :                                      +- LogicalRDD [Topic_Name#357871, URL#357872, Text_Index#357873, Network#357874], false\n",
      "            +- Project [Explode#357923, split#357927, 1#357972, 2#357947]\n",
      "               +- Project [id#357908, text#357899, length_of_text#357911, num_of_words#357915, Explode#357923, split#357927, text#357899 AS 1#357972, 2#357947]\n",
      "                  +- Join RightOuter, (id#357908 = cast(1#357943 as int))\n",
      "                     :- Project [id#357908, text#357899, length_of_text#357911, array_size(split(text#357899,  , -1)) AS num_of_words#357915]\n",
      "                     :  +- Project [id#357908, text#357899, length(text#357899) AS length_of_text#357911]\n",
      "                     :     +- Project [cast(id#357905 as int) AS id#357908, text#357899]\n",
      "                     :        +- Project [regexp_replace(id#357896, [\\{\\}\"], , 1) AS id#357905, text#357899]\n",
      "                     :           +- Project [id#357896, text#357899]\n",
      "                     :              +- Project [split#357894, id#357896, split(split#357894, : ', -1)[1] AS text#357899]\n",
      "                     :                 +- Project [split#357894, split(split#357894, : ', -1)[0] AS id#357896]\n",
      "                     :                    +- Project [split#357894]\n",
      "                     :                       +- Generate explode(split#357889), false, [split#357894]\n",
      "                     :                          +- Project [split#357889]\n",
      "                     :                             +- Project [Text_Index#357987, split(Text_Index#357987, ', , -1) AS split#357889]\n",
      "                     :                                +- Project [Topic_Name#357985, URL#357986, Text_Index#357987, split(Network#357879, ,, -1) AS Network#357884]\n",
      "                     :                                   +- Project [Topic_Name#357985, URL#357986, Text_Index#357987, regexp_replace(Network#357988, [\\[\\]\\'], , 1) AS Network#357879]\n",
      "                     :                                      +- LogicalRDD [Topic_Name#357985, URL#357986, Text_Index#357987, Network#357988], false\n",
      "                     +- Project [Explode#357923, split#357927, 1#357943, split#357927[1] AS 2#357947]\n",
      "                        +- Project [Explode#357923, split#357927, split#357927[0] AS 1#357943]\n",
      "                           +- Project [Explode#357923, split(Explode#357923, ->, -1) AS split#357927]\n",
      "                              +- Project [Explode#357923]\n",
      "                                 +- Project [Network#357920, Explode#357923]\n",
      "                                    +- Generate explode(Network#357920), false, [Explode#357923]\n",
      "                                       +- Project [Network#357884 AS Network#357920]\n",
      "                                          +- Project [Topic_Name#357952, URL#357953, Text_Index#357954, split(Network#357879, ,, -1) AS Network#357884]\n",
      "                                             +- Project [Topic_Name#357952, URL#357953, Text_Index#357954, regexp_replace(Network#357955, [\\[\\]\\'], , 1) AS Network#357879]\n",
      "                                                +- LogicalRDD [Topic_Name#357952, URL#357953, Text_Index#357954, Network#357955], false\n",
      "\n"
     ]
    },
    {
     "name": "stderr",
     "output_type": "stream",
     "text": [
      " 68%|██████▊   | 52/76 [01:32<00:27,  1.16s/it]"
     ]
    },
    {
     "name": "stdout",
     "output_type": "stream",
     "text": [
      "list index out of range\n"
     ]
    },
    {
     "name": "stderr",
     "output_type": "stream",
     "text": [
      " 83%|████████▎ | 63/76 [01:51<00:18,  1.40s/it]"
     ]
    },
    {
     "name": "stdout",
     "output_type": "stream",
     "text": [
      "list index out of range\n"
     ]
    },
    {
     "name": "stderr",
     "output_type": "stream",
     "text": [
      " 92%|█████████▏| 70/76 [02:05<00:11,  1.96s/it]"
     ]
    },
    {
     "name": "stdout",
     "output_type": "stream",
     "text": [
      "local variable 'update_dict' referenced before assignment\n"
     ]
    },
    {
     "name": "stderr",
     "output_type": "stream",
     "text": [
      " 95%|█████████▍| 72/76 [02:07<00:05,  1.50s/it]"
     ]
    },
    {
     "name": "stdout",
     "output_type": "stream",
     "text": [
      "[UNRESOLVED_COLUMN.WITH_SUGGESTION] A column or function parameter with name `3` cannot be resolved. Did you mean one of the following? [`1`, `2`].;\n",
      "'Filter NOT ('3 = NULL)\n",
      "+- Project [1#362947, 2#362980]\n",
      "   +- Project [Explode#362898, split#362902, 1#362947, 2#362980]\n",
      "      +- Project [id#362883, text#362874, length_of_text#362886, num_of_words#362890, Explode#362898, split#362902, 1#362947, text#362874 AS 2#362980]\n",
      "         +- Join RightOuter, (id#362883 = cast(2#362922 as int))\n",
      "            :- Project [id#362883, text#362874, length_of_text#362886, array_size(split(text#362874,  , -1)) AS num_of_words#362890]\n",
      "            :  +- Project [id#362883, text#362874, length(text#362874) AS length_of_text#362886]\n",
      "            :     +- Project [cast(id#362880 as int) AS id#362883, text#362874]\n",
      "            :        +- Project [regexp_replace(id#362871, [\\{\\}\"], , 1) AS id#362880, text#362874]\n",
      "            :           +- Project [id#362871, text#362874]\n",
      "            :              +- Project [split#362869, id#362871, split(split#362869, : ', -1)[1] AS text#362874]\n",
      "            :                 +- Project [split#362869, split(split#362869, : ', -1)[0] AS id#362871]\n",
      "            :                    +- Project [split#362869]\n",
      "            :                       +- Generate explode(split#362864), false, [split#362869]\n",
      "            :                          +- Project [split#362864]\n",
      "            :                             +- Project [Text_Index#362848, split(Text_Index#362848, ', , -1) AS split#362864]\n",
      "            :                                +- Project [Topic_Name#362846, URL#362847, Text_Index#362848, split(Network#362854, ,, -1) AS Network#362859]\n",
      "            :                                   +- Project [Topic_Name#362846, URL#362847, Text_Index#362848, regexp_replace(Network#362849, [\\[\\]\\'], , 1) AS Network#362854]\n",
      "            :                                      +- LogicalRDD [Topic_Name#362846, URL#362847, Text_Index#362848, Network#362849], false\n",
      "            +- Project [Explode#362898, split#362902, 1#362947, 2#362922]\n",
      "               +- Project [id#362883, text#362874, length_of_text#362886, num_of_words#362890, Explode#362898, split#362902, text#362874 AS 1#362947, 2#362922]\n",
      "                  +- Join RightOuter, (id#362883 = cast(1#362918 as int))\n",
      "                     :- Project [id#362883, text#362874, length_of_text#362886, array_size(split(text#362874,  , -1)) AS num_of_words#362890]\n",
      "                     :  +- Project [id#362883, text#362874, length(text#362874) AS length_of_text#362886]\n",
      "                     :     +- Project [cast(id#362880 as int) AS id#362883, text#362874]\n",
      "                     :        +- Project [regexp_replace(id#362871, [\\{\\}\"], , 1) AS id#362880, text#362874]\n",
      "                     :           +- Project [id#362871, text#362874]\n",
      "                     :              +- Project [split#362869, id#362871, split(split#362869, : ', -1)[1] AS text#362874]\n",
      "                     :                 +- Project [split#362869, split(split#362869, : ', -1)[0] AS id#362871]\n",
      "                     :                    +- Project [split#362869]\n",
      "                     :                       +- Generate explode(split#362864), false, [split#362869]\n",
      "                     :                          +- Project [split#362864]\n",
      "                     :                             +- Project [Text_Index#362962, split(Text_Index#362962, ', , -1) AS split#362864]\n",
      "                     :                                +- Project [Topic_Name#362960, URL#362961, Text_Index#362962, split(Network#362854, ,, -1) AS Network#362859]\n",
      "                     :                                   +- Project [Topic_Name#362960, URL#362961, Text_Index#362962, regexp_replace(Network#362963, [\\[\\]\\'], , 1) AS Network#362854]\n",
      "                     :                                      +- LogicalRDD [Topic_Name#362960, URL#362961, Text_Index#362962, Network#362963], false\n",
      "                     +- Project [Explode#362898, split#362902, 1#362918, split#362902[1] AS 2#362922]\n",
      "                        +- Project [Explode#362898, split#362902, split#362902[0] AS 1#362918]\n",
      "                           +- Project [Explode#362898, split(Explode#362898, ->, -1) AS split#362902]\n",
      "                              +- Project [Explode#362898]\n",
      "                                 +- Project [Network#362895, Explode#362898]\n",
      "                                    +- Generate explode(Network#362895), false, [Explode#362898]\n",
      "                                       +- Project [Network#362859 AS Network#362895]\n",
      "                                          +- Project [Topic_Name#362927, URL#362928, Text_Index#362929, split(Network#362854, ,, -1) AS Network#362859]\n",
      "                                             +- Project [Topic_Name#362927, URL#362928, Text_Index#362929, regexp_replace(Network#362930, [\\[\\]\\'], , 1) AS Network#362854]\n",
      "                                                +- LogicalRDD [Topic_Name#362927, URL#362928, Text_Index#362929, Network#362930], false\n",
      "\n"
     ]
    },
    {
     "name": "stderr",
     "output_type": "stream",
     "text": [
      "100%|██████████| 76/76 [02:15<00:00,  1.78s/it]\n",
      " 17%|█▋        | 13/76 [00:25<01:55,  1.83s/it]"
     ]
    },
    {
     "name": "stdout",
     "output_type": "stream",
     "text": [
      "local variable 'update_dict' referenced before assignment\n"
     ]
    },
    {
     "name": "stderr",
     "output_type": "stream",
     "text": [
      " 28%|██▊       | 21/76 [00:38<01:14,  1.35s/it]"
     ]
    },
    {
     "name": "stdout",
     "output_type": "stream",
     "text": [
      "[UNRESOLVED_COLUMN.WITH_SUGGESTION] A column or function parameter with name `3` cannot be resolved. Did you mean one of the following? [`1`, `2`].;\n",
      "'Filter NOT ('3 = NULL)\n",
      "+- Project [1#368769, 2#368802]\n",
      "   +- Project [Explode#368720, split#368724, 1#368769, 2#368802]\n",
      "      +- Project [id#368705, text#368696, length_of_text#368708, num_of_words#368712, Explode#368720, split#368724, 1#368769, text#368696 AS 2#368802]\n",
      "         +- Join RightOuter, (id#368705 = cast(2#368744 as int))\n",
      "            :- Project [id#368705, text#368696, length_of_text#368708, array_size(split(text#368696,  , -1)) AS num_of_words#368712]\n",
      "            :  +- Project [id#368705, text#368696, length(text#368696) AS length_of_text#368708]\n",
      "            :     +- Project [cast(id#368702 as int) AS id#368705, text#368696]\n",
      "            :        +- Project [regexp_replace(id#368693, [\\{\\}\"], , 1) AS id#368702, text#368696]\n",
      "            :           +- Project [id#368693, text#368696]\n",
      "            :              +- Project [split#368691, id#368693, split(split#368691, : ', -1)[1] AS text#368696]\n",
      "            :                 +- Project [split#368691, split(split#368691, : ', -1)[0] AS id#368693]\n",
      "            :                    +- Project [split#368691]\n",
      "            :                       +- Generate explode(split#368686), false, [split#368691]\n",
      "            :                          +- Project [split#368686]\n",
      "            :                             +- Project [Text_Index#368670, split(Text_Index#368670, ', , -1) AS split#368686]\n",
      "            :                                +- Project [Topic_Name#368668, URL#368669, Text_Index#368670, split(Network#368676, ,, -1) AS Network#368681]\n",
      "            :                                   +- Project [Topic_Name#368668, URL#368669, Text_Index#368670, regexp_replace(Network#368671, [\\[\\]\\'], , 1) AS Network#368676]\n",
      "            :                                      +- LogicalRDD [Topic_Name#368668, URL#368669, Text_Index#368670, Network#368671], false\n",
      "            +- Project [Explode#368720, split#368724, 1#368769, 2#368744]\n",
      "               +- Project [id#368705, text#368696, length_of_text#368708, num_of_words#368712, Explode#368720, split#368724, text#368696 AS 1#368769, 2#368744]\n",
      "                  +- Join RightOuter, (id#368705 = cast(1#368740 as int))\n",
      "                     :- Project [id#368705, text#368696, length_of_text#368708, array_size(split(text#368696,  , -1)) AS num_of_words#368712]\n",
      "                     :  +- Project [id#368705, text#368696, length(text#368696) AS length_of_text#368708]\n",
      "                     :     +- Project [cast(id#368702 as int) AS id#368705, text#368696]\n",
      "                     :        +- Project [regexp_replace(id#368693, [\\{\\}\"], , 1) AS id#368702, text#368696]\n",
      "                     :           +- Project [id#368693, text#368696]\n",
      "                     :              +- Project [split#368691, id#368693, split(split#368691, : ', -1)[1] AS text#368696]\n",
      "                     :                 +- Project [split#368691, split(split#368691, : ', -1)[0] AS id#368693]\n",
      "                     :                    +- Project [split#368691]\n",
      "                     :                       +- Generate explode(split#368686), false, [split#368691]\n",
      "                     :                          +- Project [split#368686]\n",
      "                     :                             +- Project [Text_Index#368784, split(Text_Index#368784, ', , -1) AS split#368686]\n",
      "                     :                                +- Project [Topic_Name#368782, URL#368783, Text_Index#368784, split(Network#368676, ,, -1) AS Network#368681]\n",
      "                     :                                   +- Project [Topic_Name#368782, URL#368783, Text_Index#368784, regexp_replace(Network#368785, [\\[\\]\\'], , 1) AS Network#368676]\n",
      "                     :                                      +- LogicalRDD [Topic_Name#368782, URL#368783, Text_Index#368784, Network#368785], false\n",
      "                     +- Project [Explode#368720, split#368724, 1#368740, split#368724[1] AS 2#368744]\n",
      "                        +- Project [Explode#368720, split#368724, split#368724[0] AS 1#368740]\n",
      "                           +- Project [Explode#368720, split(Explode#368720, ->, -1) AS split#368724]\n",
      "                              +- Project [Explode#368720]\n",
      "                                 +- Project [Network#368717, Explode#368720]\n",
      "                                    +- Generate explode(Network#368717), false, [Explode#368720]\n",
      "                                       +- Project [Network#368681 AS Network#368717]\n",
      "                                          +- Project [Topic_Name#368749, URL#368750, Text_Index#368751, split(Network#368676, ,, -1) AS Network#368681]\n",
      "                                             +- Project [Topic_Name#368749, URL#368750, Text_Index#368751, regexp_replace(Network#368752, [\\[\\]\\'], , 1) AS Network#368676]\n",
      "                                                +- LogicalRDD [Topic_Name#368749, URL#368750, Text_Index#368751, Network#368752], false\n",
      "\n"
     ]
    },
    {
     "name": "stderr",
     "output_type": "stream",
     "text": [
      " 32%|███▏      | 24/76 [00:42<01:06,  1.28s/it]"
     ]
    },
    {
     "name": "stdout",
     "output_type": "stream",
     "text": [
      "[UNRESOLVED_COLUMN.WITH_SUGGESTION] A column or function parameter with name `3` cannot be resolved. Did you mean one of the following? [`1`].;\n",
      "'Filter NOT ('3 = NULL)\n",
      "+- Project [1#369313]\n",
      "   +- Project [Explode#369271, split#369275, 1#369313]\n",
      "      +- Project [id#369256, text#369247, length_of_text#369259, num_of_words#369263, Explode#369271, split#369275, text#369247 AS 1#369313]\n",
      "         +- Join RightOuter, (id#369256 = cast(1#369291 as int))\n",
      "            :- Project [id#369256, text#369247, length_of_text#369259, array_size(split(text#369247,  , -1)) AS num_of_words#369263]\n",
      "            :  +- Project [id#369256, text#369247, length(text#369247) AS length_of_text#369259]\n",
      "            :     +- Project [cast(id#369253 as int) AS id#369256, text#369247]\n",
      "            :        +- Project [regexp_replace(id#369244, [\\{\\}\"], , 1) AS id#369253, text#369247]\n",
      "            :           +- Project [id#369244, text#369247]\n",
      "            :              +- Project [split#369242, id#369244, split(split#369242, : ', -1)[1] AS text#369247]\n",
      "            :                 +- Project [split#369242, split(split#369242, : ', -1)[0] AS id#369244]\n",
      "            :                    +- Project [split#369242]\n",
      "            :                       +- Generate explode(split#369237), false, [split#369242]\n",
      "            :                          +- Project [split#369237]\n",
      "            :                             +- Project [Text_Index#369221, split(Text_Index#369221, ', , -1) AS split#369237]\n",
      "            :                                +- Project [Topic_Name#369219, URL#369220, Text_Index#369221, split(Network#369227, ,, -1) AS Network#369232]\n",
      "            :                                   +- Project [Topic_Name#369219, URL#369220, Text_Index#369221, regexp_replace(Network#369222, [\\[\\]\\'], , 1) AS Network#369227]\n",
      "            :                                      +- LogicalRDD [Topic_Name#369219, URL#369220, Text_Index#369221, Network#369222], false\n",
      "            +- Project [Explode#369271, split#369275, split#369275[0] AS 1#369291]\n",
      "               +- Project [Explode#369271, split(Explode#369271, ->, -1) AS split#369275]\n",
      "                  +- Project [Explode#369271]\n",
      "                     +- Project [Network#369268, Explode#369271]\n",
      "                        +- Generate explode(Network#369268), false, [Explode#369271]\n",
      "                           +- Project [Network#369232 AS Network#369268]\n",
      "                              +- Project [Topic_Name#369295, URL#369296, Text_Index#369297, split(Network#369227, ,, -1) AS Network#369232]\n",
      "                                 +- Project [Topic_Name#369295, URL#369296, Text_Index#369297, regexp_replace(Network#369298, [\\[\\]\\'], , 1) AS Network#369227]\n",
      "                                    +- LogicalRDD [Topic_Name#369295, URL#369296, Text_Index#369297, Network#369298], false\n",
      "\n"
     ]
    },
    {
     "name": "stderr",
     "output_type": "stream",
     "text": [
      " 36%|███▌      | 27/76 [00:46<01:01,  1.25s/it]"
     ]
    },
    {
     "name": "stdout",
     "output_type": "stream",
     "text": [
      "[UNRESOLVED_COLUMN.WITH_SUGGESTION] A column or function parameter with name `3` cannot be resolved. Did you mean one of the following? [`1`].;\n",
      "'Filter NOT ('3 = NULL)\n",
      "+- Project [1#369952]\n",
      "   +- Project [Explode#369910, split#369914, 1#369952]\n",
      "      +- Project [id#369895, text#369886, length_of_text#369898, num_of_words#369902, Explode#369910, split#369914, text#369886 AS 1#369952]\n",
      "         +- Join RightOuter, (id#369895 = cast(1#369930 as int))\n",
      "            :- Project [id#369895, text#369886, length_of_text#369898, array_size(split(text#369886,  , -1)) AS num_of_words#369902]\n",
      "            :  +- Project [id#369895, text#369886, length(text#369886) AS length_of_text#369898]\n",
      "            :     +- Project [cast(id#369892 as int) AS id#369895, text#369886]\n",
      "            :        +- Project [regexp_replace(id#369883, [\\{\\}\"], , 1) AS id#369892, text#369886]\n",
      "            :           +- Project [id#369883, text#369886]\n",
      "            :              +- Project [split#369881, id#369883, split(split#369881, : ', -1)[1] AS text#369886]\n",
      "            :                 +- Project [split#369881, split(split#369881, : ', -1)[0] AS id#369883]\n",
      "            :                    +- Project [split#369881]\n",
      "            :                       +- Generate explode(split#369876), false, [split#369881]\n",
      "            :                          +- Project [split#369876]\n",
      "            :                             +- Project [Text_Index#369860, split(Text_Index#369860, ', , -1) AS split#369876]\n",
      "            :                                +- Project [Topic_Name#369858, URL#369859, Text_Index#369860, split(Network#369866, ,, -1) AS Network#369871]\n",
      "            :                                   +- Project [Topic_Name#369858, URL#369859, Text_Index#369860, regexp_replace(Network#369861, [\\[\\]\\'], , 1) AS Network#369866]\n",
      "            :                                      +- LogicalRDD [Topic_Name#369858, URL#369859, Text_Index#369860, Network#369861], false\n",
      "            +- Project [Explode#369910, split#369914, split#369914[0] AS 1#369930]\n",
      "               +- Project [Explode#369910, split(Explode#369910, ->, -1) AS split#369914]\n",
      "                  +- Project [Explode#369910]\n",
      "                     +- Project [Network#369907, Explode#369910]\n",
      "                        +- Generate explode(Network#369907), false, [Explode#369910]\n",
      "                           +- Project [Network#369871 AS Network#369907]\n",
      "                              +- Project [Topic_Name#369934, URL#369935, Text_Index#369936, split(Network#369866, ,, -1) AS Network#369871]\n",
      "                                 +- Project [Topic_Name#369934, URL#369935, Text_Index#369936, regexp_replace(Network#369937, [\\[\\]\\'], , 1) AS Network#369866]\n",
      "                                    +- LogicalRDD [Topic_Name#369934, URL#369935, Text_Index#369936, Network#369937], false\n",
      "\n"
     ]
    },
    {
     "name": "stderr",
     "output_type": "stream",
     "text": [
      " 43%|████▎     | 33/76 [00:57<01:16,  1.77s/it]"
     ]
    },
    {
     "name": "stdout",
     "output_type": "stream",
     "text": [
      "local variable 'update_dict' referenced before assignment\n"
     ]
    },
    {
     "name": "stderr",
     "output_type": "stream",
     "text": [
      " 68%|██████▊   | 52/76 [01:34<00:36,  1.53s/it]"
     ]
    },
    {
     "name": "stdout",
     "output_type": "stream",
     "text": [
      "[UNRESOLVED_COLUMN.WITH_SUGGESTION] A column or function parameter with name `3` cannot be resolved. Did you mean one of the following? [`1`, `2`].;\n",
      "'Filter NOT ('3 = NULL)\n",
      "+- Project [1#376583, 2#376616]\n",
      "   +- Project [Explode#376534, split#376538, 1#376583, 2#376616]\n",
      "      +- Project [id#376519, text#376510, length_of_text#376522, num_of_words#376526, Explode#376534, split#376538, 1#376583, text#376510 AS 2#376616]\n",
      "         +- Join RightOuter, (id#376519 = cast(2#376558 as int))\n",
      "            :- Project [id#376519, text#376510, length_of_text#376522, array_size(split(text#376510,  , -1)) AS num_of_words#376526]\n",
      "            :  +- Project [id#376519, text#376510, length(text#376510) AS length_of_text#376522]\n",
      "            :     +- Project [cast(id#376516 as int) AS id#376519, text#376510]\n",
      "            :        +- Project [regexp_replace(id#376507, [\\{\\}\"], , 1) AS id#376516, text#376510]\n",
      "            :           +- Project [id#376507, text#376510]\n",
      "            :              +- Project [split#376505, id#376507, split(split#376505, : ', -1)[1] AS text#376510]\n",
      "            :                 +- Project [split#376505, split(split#376505, : ', -1)[0] AS id#376507]\n",
      "            :                    +- Project [split#376505]\n",
      "            :                       +- Generate explode(split#376500), false, [split#376505]\n",
      "            :                          +- Project [split#376500]\n",
      "            :                             +- Project [Text_Index#376484, split(Text_Index#376484, ', , -1) AS split#376500]\n",
      "            :                                +- Project [Topic_Name#376482, URL#376483, Text_Index#376484, split(Network#376490, ,, -1) AS Network#376495]\n",
      "            :                                   +- Project [Topic_Name#376482, URL#376483, Text_Index#376484, regexp_replace(Network#376485, [\\[\\]\\'], , 1) AS Network#376490]\n",
      "            :                                      +- LogicalRDD [Topic_Name#376482, URL#376483, Text_Index#376484, Network#376485], false\n",
      "            +- Project [Explode#376534, split#376538, 1#376583, 2#376558]\n",
      "               +- Project [id#376519, text#376510, length_of_text#376522, num_of_words#376526, Explode#376534, split#376538, text#376510 AS 1#376583, 2#376558]\n",
      "                  +- Join RightOuter, (id#376519 = cast(1#376554 as int))\n",
      "                     :- Project [id#376519, text#376510, length_of_text#376522, array_size(split(text#376510,  , -1)) AS num_of_words#376526]\n",
      "                     :  +- Project [id#376519, text#376510, length(text#376510) AS length_of_text#376522]\n",
      "                     :     +- Project [cast(id#376516 as int) AS id#376519, text#376510]\n",
      "                     :        +- Project [regexp_replace(id#376507, [\\{\\}\"], , 1) AS id#376516, text#376510]\n",
      "                     :           +- Project [id#376507, text#376510]\n",
      "                     :              +- Project [split#376505, id#376507, split(split#376505, : ', -1)[1] AS text#376510]\n",
      "                     :                 +- Project [split#376505, split(split#376505, : ', -1)[0] AS id#376507]\n",
      "                     :                    +- Project [split#376505]\n",
      "                     :                       +- Generate explode(split#376500), false, [split#376505]\n",
      "                     :                          +- Project [split#376500]\n",
      "                     :                             +- Project [Text_Index#376598, split(Text_Index#376598, ', , -1) AS split#376500]\n",
      "                     :                                +- Project [Topic_Name#376596, URL#376597, Text_Index#376598, split(Network#376490, ,, -1) AS Network#376495]\n",
      "                     :                                   +- Project [Topic_Name#376596, URL#376597, Text_Index#376598, regexp_replace(Network#376599, [\\[\\]\\'], , 1) AS Network#376490]\n",
      "                     :                                      +- LogicalRDD [Topic_Name#376596, URL#376597, Text_Index#376598, Network#376599], false\n",
      "                     +- Project [Explode#376534, split#376538, 1#376554, split#376538[1] AS 2#376558]\n",
      "                        +- Project [Explode#376534, split#376538, split#376538[0] AS 1#376554]\n",
      "                           +- Project [Explode#376534, split(Explode#376534, ->, -1) AS split#376538]\n",
      "                              +- Project [Explode#376534]\n",
      "                                 +- Project [Network#376531, Explode#376534]\n",
      "                                    +- Generate explode(Network#376531), false, [Explode#376534]\n",
      "                                       +- Project [Network#376495 AS Network#376531]\n",
      "                                          +- Project [Topic_Name#376563, URL#376564, Text_Index#376565, split(Network#376490, ,, -1) AS Network#376495]\n",
      "                                             +- Project [Topic_Name#376563, URL#376564, Text_Index#376565, regexp_replace(Network#376566, [\\[\\]\\'], , 1) AS Network#376490]\n",
      "                                                +- LogicalRDD [Topic_Name#376563, URL#376564, Text_Index#376565, Network#376566], false\n",
      "\n"
     ]
    },
    {
     "name": "stderr",
     "output_type": "stream",
     "text": [
      " 75%|███████▌  | 57/76 [01:45<00:39,  2.10s/it]"
     ]
    },
    {
     "name": "stdout",
     "output_type": "stream",
     "text": [
      "0\n"
     ]
    },
    {
     "name": "stderr",
     "output_type": "stream",
     "text": [
      " 87%|████████▋ | 66/76 [02:01<00:15,  1.56s/it]"
     ]
    },
    {
     "name": "stdout",
     "output_type": "stream",
     "text": [
      "list index out of range\n"
     ]
    },
    {
     "name": "stderr",
     "output_type": "stream",
     "text": [
      " 92%|█████████▏| 70/76 [02:09<00:11,  1.93s/it]"
     ]
    },
    {
     "name": "stdout",
     "output_type": "stream",
     "text": [
      "local variable 'update_dict' referenced before assignment\n"
     ]
    },
    {
     "name": "stderr",
     "output_type": "stream",
     "text": [
      " 99%|█████████▊| 75/76 [02:19<00:01,  1.94s/it]"
     ]
    },
    {
     "name": "stdout",
     "output_type": "stream",
     "text": [
      "local variable 'update_dict' referenced before assignment\n"
     ]
    },
    {
     "name": "stderr",
     "output_type": "stream",
     "text": [
      "100%|██████████| 76/76 [02:22<00:00,  1.87s/it]\n",
      "  6%|▌         | 4/72 [00:07<01:40,  1.47s/it]"
     ]
    },
    {
     "name": "stdout",
     "output_type": "stream",
     "text": [
      "list index out of range\n"
     ]
    },
    {
     "name": "stderr",
     "output_type": "stream",
     "text": [
      "  7%|▋         | 5/72 [00:07<01:14,  1.11s/it]"
     ]
    },
    {
     "name": "stdout",
     "output_type": "stream",
     "text": [
      "list index out of range\n"
     ]
    },
    {
     "name": "stderr",
     "output_type": "stream",
     "text": [
      " 10%|▉         | 7/72 [00:10<01:11,  1.10s/it]"
     ]
    },
    {
     "name": "stdout",
     "output_type": "stream",
     "text": [
      "[UNRESOLVED_COLUMN.WITH_SUGGESTION] A column or function parameter with name `3` cannot be resolved. Did you mean one of the following? [`1`, `2`].;\n",
      "'Filter NOT ('3 = NULL)\n",
      "+- Project [1#384114, 2#384147]\n",
      "   +- Project [Explode#384065, split#384069, 1#384114, 2#384147]\n",
      "      +- Project [id#384050, text#384041, length_of_text#384053, num_of_words#384057, Explode#384065, split#384069, 1#384114, text#384041 AS 2#384147]\n",
      "         +- Join RightOuter, (id#384050 = cast(2#384089 as int))\n",
      "            :- Project [id#384050, text#384041, length_of_text#384053, array_size(split(text#384041,  , -1)) AS num_of_words#384057]\n",
      "            :  +- Project [id#384050, text#384041, length(text#384041) AS length_of_text#384053]\n",
      "            :     +- Project [cast(id#384047 as int) AS id#384050, text#384041]\n",
      "            :        +- Project [regexp_replace(id#384038, [\\{\\}\"], , 1) AS id#384047, text#384041]\n",
      "            :           +- Project [id#384038, text#384041]\n",
      "            :              +- Project [split#384036, id#384038, split(split#384036, : ', -1)[1] AS text#384041]\n",
      "            :                 +- Project [split#384036, split(split#384036, : ', -1)[0] AS id#384038]\n",
      "            :                    +- Project [split#384036]\n",
      "            :                       +- Generate explode(split#384031), false, [split#384036]\n",
      "            :                          +- Project [split#384031]\n",
      "            :                             +- Project [Text_Index#384015, split(Text_Index#384015, ', , -1) AS split#384031]\n",
      "            :                                +- Project [Topic_Name#384013, URL#384014, Text_Index#384015, split(Network#384021, ,, -1) AS Network#384026]\n",
      "            :                                   +- Project [Topic_Name#384013, URL#384014, Text_Index#384015, regexp_replace(Network#384016, [\\[\\]\\'], , 1) AS Network#384021]\n",
      "            :                                      +- LogicalRDD [Topic_Name#384013, URL#384014, Text_Index#384015, Network#384016], false\n",
      "            +- Project [Explode#384065, split#384069, 1#384114, 2#384089]\n",
      "               +- Project [id#384050, text#384041, length_of_text#384053, num_of_words#384057, Explode#384065, split#384069, text#384041 AS 1#384114, 2#384089]\n",
      "                  +- Join RightOuter, (id#384050 = cast(1#384085 as int))\n",
      "                     :- Project [id#384050, text#384041, length_of_text#384053, array_size(split(text#384041,  , -1)) AS num_of_words#384057]\n",
      "                     :  +- Project [id#384050, text#384041, length(text#384041) AS length_of_text#384053]\n",
      "                     :     +- Project [cast(id#384047 as int) AS id#384050, text#384041]\n",
      "                     :        +- Project [regexp_replace(id#384038, [\\{\\}\"], , 1) AS id#384047, text#384041]\n",
      "                     :           +- Project [id#384038, text#384041]\n",
      "                     :              +- Project [split#384036, id#384038, split(split#384036, : ', -1)[1] AS text#384041]\n",
      "                     :                 +- Project [split#384036, split(split#384036, : ', -1)[0] AS id#384038]\n",
      "                     :                    +- Project [split#384036]\n",
      "                     :                       +- Generate explode(split#384031), false, [split#384036]\n",
      "                     :                          +- Project [split#384031]\n",
      "                     :                             +- Project [Text_Index#384129, split(Text_Index#384129, ', , -1) AS split#384031]\n",
      "                     :                                +- Project [Topic_Name#384127, URL#384128, Text_Index#384129, split(Network#384021, ,, -1) AS Network#384026]\n",
      "                     :                                   +- Project [Topic_Name#384127, URL#384128, Text_Index#384129, regexp_replace(Network#384130, [\\[\\]\\'], , 1) AS Network#384021]\n",
      "                     :                                      +- LogicalRDD [Topic_Name#384127, URL#384128, Text_Index#384129, Network#384130], false\n",
      "                     +- Project [Explode#384065, split#384069, 1#384085, split#384069[1] AS 2#384089]\n",
      "                        +- Project [Explode#384065, split#384069, split#384069[0] AS 1#384085]\n",
      "                           +- Project [Explode#384065, split(Explode#384065, ->, -1) AS split#384069]\n",
      "                              +- Project [Explode#384065]\n",
      "                                 +- Project [Network#384062, Explode#384065]\n",
      "                                    +- Generate explode(Network#384062), false, [Explode#384065]\n",
      "                                       +- Project [Network#384026 AS Network#384062]\n",
      "                                          +- Project [Topic_Name#384094, URL#384095, Text_Index#384096, split(Network#384021, ,, -1) AS Network#384026]\n",
      "                                             +- Project [Topic_Name#384094, URL#384095, Text_Index#384096, regexp_replace(Network#384097, [\\[\\]\\'], , 1) AS Network#384021]\n",
      "                                                +- LogicalRDD [Topic_Name#384094, URL#384095, Text_Index#384096, Network#384097], false\n",
      "\n"
     ]
    },
    {
     "name": "stderr",
     "output_type": "stream",
     "text": [
      " 56%|█████▌    | 40/72 [01:17<00:52,  1.63s/it]"
     ]
    },
    {
     "name": "stdout",
     "output_type": "stream",
     "text": [
      "list index out of range\n"
     ]
    },
    {
     "name": "stderr",
     "output_type": "stream",
     "text": [
      " 61%|██████    | 44/72 [01:23<00:40,  1.45s/it]"
     ]
    },
    {
     "name": "stdout",
     "output_type": "stream",
     "text": [
      "[UNRESOLVED_COLUMN.WITH_SUGGESTION] A column or function parameter with name `3` cannot be resolved. Did you mean one of the following? [`1`, `2`].;\n",
      "'Filter NOT ('3 = NULL)\n",
      "+- Project [1#394419, 2#394452]\n",
      "   +- Project [Explode#394370, split#394374, 1#394419, 2#394452]\n",
      "      +- Project [id#394355, text#394346, length_of_text#394358, num_of_words#394362, Explode#394370, split#394374, 1#394419, text#394346 AS 2#394452]\n",
      "         +- Join RightOuter, (id#394355 = cast(2#394394 as int))\n",
      "            :- Project [id#394355, text#394346, length_of_text#394358, array_size(split(text#394346,  , -1)) AS num_of_words#394362]\n",
      "            :  +- Project [id#394355, text#394346, length(text#394346) AS length_of_text#394358]\n",
      "            :     +- Project [cast(id#394352 as int) AS id#394355, text#394346]\n",
      "            :        +- Project [regexp_replace(id#394343, [\\{\\}\"], , 1) AS id#394352, text#394346]\n",
      "            :           +- Project [id#394343, text#394346]\n",
      "            :              +- Project [split#394341, id#394343, split(split#394341, : ', -1)[1] AS text#394346]\n",
      "            :                 +- Project [split#394341, split(split#394341, : ', -1)[0] AS id#394343]\n",
      "            :                    +- Project [split#394341]\n",
      "            :                       +- Generate explode(split#394336), false, [split#394341]\n",
      "            :                          +- Project [split#394336]\n",
      "            :                             +- Project [Text_Index#394320, split(Text_Index#394320, ', , -1) AS split#394336]\n",
      "            :                                +- Project [Topic_Name#394318, URL#394319, Text_Index#394320, split(Network#394326, ,, -1) AS Network#394331]\n",
      "            :                                   +- Project [Topic_Name#394318, URL#394319, Text_Index#394320, regexp_replace(Network#394321, [\\[\\]\\'], , 1) AS Network#394326]\n",
      "            :                                      +- LogicalRDD [Topic_Name#394318, URL#394319, Text_Index#394320, Network#394321], false\n",
      "            +- Project [Explode#394370, split#394374, 1#394419, 2#394394]\n",
      "               +- Project [id#394355, text#394346, length_of_text#394358, num_of_words#394362, Explode#394370, split#394374, text#394346 AS 1#394419, 2#394394]\n",
      "                  +- Join RightOuter, (id#394355 = cast(1#394390 as int))\n",
      "                     :- Project [id#394355, text#394346, length_of_text#394358, array_size(split(text#394346,  , -1)) AS num_of_words#394362]\n",
      "                     :  +- Project [id#394355, text#394346, length(text#394346) AS length_of_text#394358]\n",
      "                     :     +- Project [cast(id#394352 as int) AS id#394355, text#394346]\n",
      "                     :        +- Project [regexp_replace(id#394343, [\\{\\}\"], , 1) AS id#394352, text#394346]\n",
      "                     :           +- Project [id#394343, text#394346]\n",
      "                     :              +- Project [split#394341, id#394343, split(split#394341, : ', -1)[1] AS text#394346]\n",
      "                     :                 +- Project [split#394341, split(split#394341, : ', -1)[0] AS id#394343]\n",
      "                     :                    +- Project [split#394341]\n",
      "                     :                       +- Generate explode(split#394336), false, [split#394341]\n",
      "                     :                          +- Project [split#394336]\n",
      "                     :                             +- Project [Text_Index#394434, split(Text_Index#394434, ', , -1) AS split#394336]\n",
      "                     :                                +- Project [Topic_Name#394432, URL#394433, Text_Index#394434, split(Network#394326, ,, -1) AS Network#394331]\n",
      "                     :                                   +- Project [Topic_Name#394432, URL#394433, Text_Index#394434, regexp_replace(Network#394435, [\\[\\]\\'], , 1) AS Network#394326]\n",
      "                     :                                      +- LogicalRDD [Topic_Name#394432, URL#394433, Text_Index#394434, Network#394435], false\n",
      "                     +- Project [Explode#394370, split#394374, 1#394390, split#394374[1] AS 2#394394]\n",
      "                        +- Project [Explode#394370, split#394374, split#394374[0] AS 1#394390]\n",
      "                           +- Project [Explode#394370, split(Explode#394370, ->, -1) AS split#394374]\n",
      "                              +- Project [Explode#394370]\n",
      "                                 +- Project [Network#394367, Explode#394370]\n",
      "                                    +- Generate explode(Network#394367), false, [Explode#394370]\n",
      "                                       +- Project [Network#394331 AS Network#394367]\n",
      "                                          +- Project [Topic_Name#394399, URL#394400, Text_Index#394401, split(Network#394326, ,, -1) AS Network#394331]\n",
      "                                             +- Project [Topic_Name#394399, URL#394400, Text_Index#394401, regexp_replace(Network#394402, [\\[\\]\\'], , 1) AS Network#394326]\n",
      "                                                +- LogicalRDD [Topic_Name#394399, URL#394400, Text_Index#394401, Network#394402], false\n",
      "\n"
     ]
    },
    {
     "name": "stderr",
     "output_type": "stream",
     "text": [
      " 62%|██████▎   | 45/72 [01:24<00:30,  1.15s/it]"
     ]
    },
    {
     "name": "stdout",
     "output_type": "stream",
     "text": [
      "[UNRESOLVED_COLUMN.WITH_SUGGESTION] A column or function parameter with name `3` cannot be resolved. Did you mean one of the following? [`1`, `2`].;\n",
      "'Filter NOT ('3 = NULL)\n",
      "+- Project [1#394568, 2#394601]\n",
      "   +- Project [Explode#394519, split#394523, 1#394568, 2#394601]\n",
      "      +- Project [id#394504, text#394495, length_of_text#394507, num_of_words#394511, Explode#394519, split#394523, 1#394568, text#394495 AS 2#394601]\n",
      "         +- Join RightOuter, (id#394504 = cast(2#394543 as int))\n",
      "            :- Project [id#394504, text#394495, length_of_text#394507, array_size(split(text#394495,  , -1)) AS num_of_words#394511]\n",
      "            :  +- Project [id#394504, text#394495, length(text#394495) AS length_of_text#394507]\n",
      "            :     +- Project [cast(id#394501 as int) AS id#394504, text#394495]\n",
      "            :        +- Project [regexp_replace(id#394492, [\\{\\}\"], , 1) AS id#394501, text#394495]\n",
      "            :           +- Project [id#394492, text#394495]\n",
      "            :              +- Project [split#394490, id#394492, split(split#394490, : ', -1)[1] AS text#394495]\n",
      "            :                 +- Project [split#394490, split(split#394490, : ', -1)[0] AS id#394492]\n",
      "            :                    +- Project [split#394490]\n",
      "            :                       +- Generate explode(split#394485), false, [split#394490]\n",
      "            :                          +- Project [split#394485]\n",
      "            :                             +- Project [Text_Index#394469, split(Text_Index#394469, ', , -1) AS split#394485]\n",
      "            :                                +- Project [Topic_Name#394467, URL#394468, Text_Index#394469, split(Network#394475, ,, -1) AS Network#394480]\n",
      "            :                                   +- Project [Topic_Name#394467, URL#394468, Text_Index#394469, regexp_replace(Network#394470, [\\[\\]\\'], , 1) AS Network#394475]\n",
      "            :                                      +- LogicalRDD [Topic_Name#394467, URL#394468, Text_Index#394469, Network#394470], false\n",
      "            +- Project [Explode#394519, split#394523, 1#394568, 2#394543]\n",
      "               +- Project [id#394504, text#394495, length_of_text#394507, num_of_words#394511, Explode#394519, split#394523, text#394495 AS 1#394568, 2#394543]\n",
      "                  +- Join RightOuter, (id#394504 = cast(1#394539 as int))\n",
      "                     :- Project [id#394504, text#394495, length_of_text#394507, array_size(split(text#394495,  , -1)) AS num_of_words#394511]\n",
      "                     :  +- Project [id#394504, text#394495, length(text#394495) AS length_of_text#394507]\n",
      "                     :     +- Project [cast(id#394501 as int) AS id#394504, text#394495]\n",
      "                     :        +- Project [regexp_replace(id#394492, [\\{\\}\"], , 1) AS id#394501, text#394495]\n",
      "                     :           +- Project [id#394492, text#394495]\n",
      "                     :              +- Project [split#394490, id#394492, split(split#394490, : ', -1)[1] AS text#394495]\n",
      "                     :                 +- Project [split#394490, split(split#394490, : ', -1)[0] AS id#394492]\n",
      "                     :                    +- Project [split#394490]\n",
      "                     :                       +- Generate explode(split#394485), false, [split#394490]\n",
      "                     :                          +- Project [split#394485]\n",
      "                     :                             +- Project [Text_Index#394583, split(Text_Index#394583, ', , -1) AS split#394485]\n",
      "                     :                                +- Project [Topic_Name#394581, URL#394582, Text_Index#394583, split(Network#394475, ,, -1) AS Network#394480]\n",
      "                     :                                   +- Project [Topic_Name#394581, URL#394582, Text_Index#394583, regexp_replace(Network#394584, [\\[\\]\\'], , 1) AS Network#394475]\n",
      "                     :                                      +- LogicalRDD [Topic_Name#394581, URL#394582, Text_Index#394583, Network#394584], false\n",
      "                     +- Project [Explode#394519, split#394523, 1#394539, split#394523[1] AS 2#394543]\n",
      "                        +- Project [Explode#394519, split#394523, split#394523[0] AS 1#394539]\n",
      "                           +- Project [Explode#394519, split(Explode#394519, ->, -1) AS split#394523]\n",
      "                              +- Project [Explode#394519]\n",
      "                                 +- Project [Network#394516, Explode#394519]\n",
      "                                    +- Generate explode(Network#394516), false, [Explode#394519]\n",
      "                                       +- Project [Network#394480 AS Network#394516]\n",
      "                                          +- Project [Topic_Name#394548, URL#394549, Text_Index#394550, split(Network#394475, ,, -1) AS Network#394480]\n",
      "                                             +- Project [Topic_Name#394548, URL#394549, Text_Index#394550, regexp_replace(Network#394551, [\\[\\]\\'], , 1) AS Network#394475]\n",
      "                                                +- LogicalRDD [Topic_Name#394548, URL#394549, Text_Index#394550, Network#394551], false\n",
      "\n"
     ]
    },
    {
     "name": "stderr",
     "output_type": "stream",
     "text": [
      " 65%|██████▌   | 47/72 [01:27<00:37,  1.49s/it]"
     ]
    },
    {
     "name": "stdout",
     "output_type": "stream",
     "text": [
      "0\n"
     ]
    },
    {
     "name": "stderr",
     "output_type": "stream",
     "text": [
      " 76%|███████▋  | 55/72 [01:43<00:30,  1.78s/it]"
     ]
    },
    {
     "name": "stdout",
     "output_type": "stream",
     "text": [
      "0\n"
     ]
    },
    {
     "name": "stderr",
     "output_type": "stream",
     "text": [
      "100%|██████████| 72/72 [02:15<00:00,  1.89s/it]\n",
      " 13%|█▎        | 8/62 [00:15<01:24,  1.57s/it]"
     ]
    },
    {
     "name": "stdout",
     "output_type": "stream",
     "text": [
      "list index out of range\n"
     ]
    },
    {
     "name": "stderr",
     "output_type": "stream",
     "text": [
      " 18%|█▊        | 11/62 [00:19<01:07,  1.33s/it]"
     ]
    },
    {
     "name": "stdout",
     "output_type": "stream",
     "text": [
      "list index out of range\n"
     ]
    },
    {
     "name": "stderr",
     "output_type": "stream",
     "text": [
      " 24%|██▍       | 15/62 [00:28<01:32,  1.97s/it]"
     ]
    },
    {
     "name": "stdout",
     "output_type": "stream",
     "text": [
      "local variable 'update_dict' referenced before assignment\n"
     ]
    },
    {
     "name": "stderr",
     "output_type": "stream",
     "text": [
      " 27%|██▋       | 17/62 [00:31<01:13,  1.63s/it]"
     ]
    },
    {
     "name": "stdout",
     "output_type": "stream",
     "text": [
      "list index out of range\n"
     ]
    },
    {
     "name": "stderr",
     "output_type": "stream",
     "text": [
      " 29%|██▉       | 18/62 [00:31<00:56,  1.28s/it]"
     ]
    },
    {
     "name": "stdout",
     "output_type": "stream",
     "text": [
      "[UNRESOLVED_COLUMN.WITH_SUGGESTION] A column or function parameter with name `3` cannot be resolved. Did you mean one of the following? [`1`, `2`].;\n",
      "'Filter NOT ('3 = NULL)\n",
      "+- Project [1#406738, 2#406771]\n",
      "   +- Project [Explode#406689, split#406693, 1#406738, 2#406771]\n",
      "      +- Project [id#406674, text#406665, length_of_text#406677, num_of_words#406681, Explode#406689, split#406693, 1#406738, text#406665 AS 2#406771]\n",
      "         +- Join RightOuter, (id#406674 = cast(2#406713 as int))\n",
      "            :- Project [id#406674, text#406665, length_of_text#406677, array_size(split(text#406665,  , -1)) AS num_of_words#406681]\n",
      "            :  +- Project [id#406674, text#406665, length(text#406665) AS length_of_text#406677]\n",
      "            :     +- Project [cast(id#406671 as int) AS id#406674, text#406665]\n",
      "            :        +- Project [regexp_replace(id#406662, [\\{\\}\"], , 1) AS id#406671, text#406665]\n",
      "            :           +- Project [id#406662, text#406665]\n",
      "            :              +- Project [split#406660, id#406662, split(split#406660, : ', -1)[1] AS text#406665]\n",
      "            :                 +- Project [split#406660, split(split#406660, : ', -1)[0] AS id#406662]\n",
      "            :                    +- Project [split#406660]\n",
      "            :                       +- Generate explode(split#406655), false, [split#406660]\n",
      "            :                          +- Project [split#406655]\n",
      "            :                             +- Project [Text_Index#406639, split(Text_Index#406639, ', , -1) AS split#406655]\n",
      "            :                                +- Project [Topic_Name#406637, URL#406638, Text_Index#406639, split(Network#406645, ,, -1) AS Network#406650]\n",
      "            :                                   +- Project [Topic_Name#406637, URL#406638, Text_Index#406639, regexp_replace(Network#406640, [\\[\\]\\'], , 1) AS Network#406645]\n",
      "            :                                      +- LogicalRDD [Topic_Name#406637, URL#406638, Text_Index#406639, Network#406640], false\n",
      "            +- Project [Explode#406689, split#406693, 1#406738, 2#406713]\n",
      "               +- Project [id#406674, text#406665, length_of_text#406677, num_of_words#406681, Explode#406689, split#406693, text#406665 AS 1#406738, 2#406713]\n",
      "                  +- Join RightOuter, (id#406674 = cast(1#406709 as int))\n",
      "                     :- Project [id#406674, text#406665, length_of_text#406677, array_size(split(text#406665,  , -1)) AS num_of_words#406681]\n",
      "                     :  +- Project [id#406674, text#406665, length(text#406665) AS length_of_text#406677]\n",
      "                     :     +- Project [cast(id#406671 as int) AS id#406674, text#406665]\n",
      "                     :        +- Project [regexp_replace(id#406662, [\\{\\}\"], , 1) AS id#406671, text#406665]\n",
      "                     :           +- Project [id#406662, text#406665]\n",
      "                     :              +- Project [split#406660, id#406662, split(split#406660, : ', -1)[1] AS text#406665]\n",
      "                     :                 +- Project [split#406660, split(split#406660, : ', -1)[0] AS id#406662]\n",
      "                     :                    +- Project [split#406660]\n",
      "                     :                       +- Generate explode(split#406655), false, [split#406660]\n",
      "                     :                          +- Project [split#406655]\n",
      "                     :                             +- Project [Text_Index#406753, split(Text_Index#406753, ', , -1) AS split#406655]\n",
      "                     :                                +- Project [Topic_Name#406751, URL#406752, Text_Index#406753, split(Network#406645, ,, -1) AS Network#406650]\n",
      "                     :                                   +- Project [Topic_Name#406751, URL#406752, Text_Index#406753, regexp_replace(Network#406754, [\\[\\]\\'], , 1) AS Network#406645]\n",
      "                     :                                      +- LogicalRDD [Topic_Name#406751, URL#406752, Text_Index#406753, Network#406754], false\n",
      "                     +- Project [Explode#406689, split#406693, 1#406709, split#406693[1] AS 2#406713]\n",
      "                        +- Project [Explode#406689, split#406693, split#406693[0] AS 1#406709]\n",
      "                           +- Project [Explode#406689, split(Explode#406689, ->, -1) AS split#406693]\n",
      "                              +- Project [Explode#406689]\n",
      "                                 +- Project [Network#406686, Explode#406689]\n",
      "                                    +- Generate explode(Network#406686), false, [Explode#406689]\n",
      "                                       +- Project [Network#406650 AS Network#406686]\n",
      "                                          +- Project [Topic_Name#406718, URL#406719, Text_Index#406720, split(Network#406645, ,, -1) AS Network#406650]\n",
      "                                             +- Project [Topic_Name#406718, URL#406719, Text_Index#406720, regexp_replace(Network#406721, [\\[\\]\\'], , 1) AS Network#406645]\n",
      "                                                +- LogicalRDD [Topic_Name#406718, URL#406719, Text_Index#406720, Network#406721], false\n",
      "\n"
     ]
    },
    {
     "name": "stderr",
     "output_type": "stream",
     "text": [
      " 32%|███▏      | 20/62 [00:34<00:50,  1.21s/it]"
     ]
    },
    {
     "name": "stdout",
     "output_type": "stream",
     "text": [
      "[UNRESOLVED_COLUMN.WITH_SUGGESTION] A column or function parameter with name `3` cannot be resolved. Did you mean one of the following? [`1`, `2`].;\n",
      "'Filter NOT ('3 = NULL)\n",
      "+- Project [1#407298, 2#407331]\n",
      "   +- Project [Explode#407249, split#407253, 1#407298, 2#407331]\n",
      "      +- Project [id#407234, text#407225, length_of_text#407237, num_of_words#407241, Explode#407249, split#407253, 1#407298, text#407225 AS 2#407331]\n",
      "         +- Join RightOuter, (id#407234 = cast(2#407273 as int))\n",
      "            :- Project [id#407234, text#407225, length_of_text#407237, array_size(split(text#407225,  , -1)) AS num_of_words#407241]\n",
      "            :  +- Project [id#407234, text#407225, length(text#407225) AS length_of_text#407237]\n",
      "            :     +- Project [cast(id#407231 as int) AS id#407234, text#407225]\n",
      "            :        +- Project [regexp_replace(id#407222, [\\{\\}\"], , 1) AS id#407231, text#407225]\n",
      "            :           +- Project [id#407222, text#407225]\n",
      "            :              +- Project [split#407220, id#407222, split(split#407220, : ', -1)[1] AS text#407225]\n",
      "            :                 +- Project [split#407220, split(split#407220, : ', -1)[0] AS id#407222]\n",
      "            :                    +- Project [split#407220]\n",
      "            :                       +- Generate explode(split#407215), false, [split#407220]\n",
      "            :                          +- Project [split#407215]\n",
      "            :                             +- Project [Text_Index#407199, split(Text_Index#407199, ', , -1) AS split#407215]\n",
      "            :                                +- Project [Topic_Name#407197, URL#407198, Text_Index#407199, split(Network#407205, ,, -1) AS Network#407210]\n",
      "            :                                   +- Project [Topic_Name#407197, URL#407198, Text_Index#407199, regexp_replace(Network#407200, [\\[\\]\\'], , 1) AS Network#407205]\n",
      "            :                                      +- LogicalRDD [Topic_Name#407197, URL#407198, Text_Index#407199, Network#407200], false\n",
      "            +- Project [Explode#407249, split#407253, 1#407298, 2#407273]\n",
      "               +- Project [id#407234, text#407225, length_of_text#407237, num_of_words#407241, Explode#407249, split#407253, text#407225 AS 1#407298, 2#407273]\n",
      "                  +- Join RightOuter, (id#407234 = cast(1#407269 as int))\n",
      "                     :- Project [id#407234, text#407225, length_of_text#407237, array_size(split(text#407225,  , -1)) AS num_of_words#407241]\n",
      "                     :  +- Project [id#407234, text#407225, length(text#407225) AS length_of_text#407237]\n",
      "                     :     +- Project [cast(id#407231 as int) AS id#407234, text#407225]\n",
      "                     :        +- Project [regexp_replace(id#407222, [\\{\\}\"], , 1) AS id#407231, text#407225]\n",
      "                     :           +- Project [id#407222, text#407225]\n",
      "                     :              +- Project [split#407220, id#407222, split(split#407220, : ', -1)[1] AS text#407225]\n",
      "                     :                 +- Project [split#407220, split(split#407220, : ', -1)[0] AS id#407222]\n",
      "                     :                    +- Project [split#407220]\n",
      "                     :                       +- Generate explode(split#407215), false, [split#407220]\n",
      "                     :                          +- Project [split#407215]\n",
      "                     :                             +- Project [Text_Index#407313, split(Text_Index#407313, ', , -1) AS split#407215]\n",
      "                     :                                +- Project [Topic_Name#407311, URL#407312, Text_Index#407313, split(Network#407205, ,, -1) AS Network#407210]\n",
      "                     :                                   +- Project [Topic_Name#407311, URL#407312, Text_Index#407313, regexp_replace(Network#407314, [\\[\\]\\'], , 1) AS Network#407205]\n",
      "                     :                                      +- LogicalRDD [Topic_Name#407311, URL#407312, Text_Index#407313, Network#407314], false\n",
      "                     +- Project [Explode#407249, split#407253, 1#407269, split#407253[1] AS 2#407273]\n",
      "                        +- Project [Explode#407249, split#407253, split#407253[0] AS 1#407269]\n",
      "                           +- Project [Explode#407249, split(Explode#407249, ->, -1) AS split#407253]\n",
      "                              +- Project [Explode#407249]\n",
      "                                 +- Project [Network#407246, Explode#407249]\n",
      "                                    +- Generate explode(Network#407246), false, [Explode#407249]\n",
      "                                       +- Project [Network#407210 AS Network#407246]\n",
      "                                          +- Project [Topic_Name#407278, URL#407279, Text_Index#407280, split(Network#407205, ,, -1) AS Network#407210]\n",
      "                                             +- Project [Topic_Name#407278, URL#407279, Text_Index#407280, regexp_replace(Network#407281, [\\[\\]\\'], , 1) AS Network#407205]\n",
      "                                                +- LogicalRDD [Topic_Name#407278, URL#407279, Text_Index#407280, Network#407281], false\n",
      "\n"
     ]
    },
    {
     "name": "stderr",
     "output_type": "stream",
     "text": [
      " 40%|████      | 25/62 [00:42<00:52,  1.43s/it]"
     ]
    },
    {
     "name": "stdout",
     "output_type": "stream",
     "text": [
      "list index out of range\n"
     ]
    },
    {
     "name": "stderr",
     "output_type": "stream",
     "text": [
      " 74%|███████▍  | 46/62 [01:24<00:26,  1.68s/it]"
     ]
    },
    {
     "name": "stdout",
     "output_type": "stream",
     "text": [
      "[UNRESOLVED_COLUMN.WITH_SUGGESTION] A column or function parameter with name `3` cannot be resolved. Did you mean one of the following? [`1`, `2`].;\n",
      "'Filter NOT ('3 = NULL)\n",
      "+- Project [1#414850, 2#414883]\n",
      "   +- Project [Explode#414801, split#414805, 1#414850, 2#414883]\n",
      "      +- Project [id#414786, text#414777, length_of_text#414789, num_of_words#414793, Explode#414801, split#414805, 1#414850, text#414777 AS 2#414883]\n",
      "         +- Join RightOuter, (id#414786 = cast(2#414825 as int))\n",
      "            :- Project [id#414786, text#414777, length_of_text#414789, array_size(split(text#414777,  , -1)) AS num_of_words#414793]\n",
      "            :  +- Project [id#414786, text#414777, length(text#414777) AS length_of_text#414789]\n",
      "            :     +- Project [cast(id#414783 as int) AS id#414786, text#414777]\n",
      "            :        +- Project [regexp_replace(id#414774, [\\{\\}\"], , 1) AS id#414783, text#414777]\n",
      "            :           +- Project [id#414774, text#414777]\n",
      "            :              +- Project [split#414772, id#414774, split(split#414772, : ', -1)[1] AS text#414777]\n",
      "            :                 +- Project [split#414772, split(split#414772, : ', -1)[0] AS id#414774]\n",
      "            :                    +- Project [split#414772]\n",
      "            :                       +- Generate explode(split#414767), false, [split#414772]\n",
      "            :                          +- Project [split#414767]\n",
      "            :                             +- Project [Text_Index#414751, split(Text_Index#414751, ', , -1) AS split#414767]\n",
      "            :                                +- Project [Topic_Name#414749, URL#414750, Text_Index#414751, split(Network#414757, ,, -1) AS Network#414762]\n",
      "            :                                   +- Project [Topic_Name#414749, URL#414750, Text_Index#414751, regexp_replace(Network#414752, [\\[\\]\\'], , 1) AS Network#414757]\n",
      "            :                                      +- LogicalRDD [Topic_Name#414749, URL#414750, Text_Index#414751, Network#414752], false\n",
      "            +- Project [Explode#414801, split#414805, 1#414850, 2#414825]\n",
      "               +- Project [id#414786, text#414777, length_of_text#414789, num_of_words#414793, Explode#414801, split#414805, text#414777 AS 1#414850, 2#414825]\n",
      "                  +- Join RightOuter, (id#414786 = cast(1#414821 as int))\n",
      "                     :- Project [id#414786, text#414777, length_of_text#414789, array_size(split(text#414777,  , -1)) AS num_of_words#414793]\n",
      "                     :  +- Project [id#414786, text#414777, length(text#414777) AS length_of_text#414789]\n",
      "                     :     +- Project [cast(id#414783 as int) AS id#414786, text#414777]\n",
      "                     :        +- Project [regexp_replace(id#414774, [\\{\\}\"], , 1) AS id#414783, text#414777]\n",
      "                     :           +- Project [id#414774, text#414777]\n",
      "                     :              +- Project [split#414772, id#414774, split(split#414772, : ', -1)[1] AS text#414777]\n",
      "                     :                 +- Project [split#414772, split(split#414772, : ', -1)[0] AS id#414774]\n",
      "                     :                    +- Project [split#414772]\n",
      "                     :                       +- Generate explode(split#414767), false, [split#414772]\n",
      "                     :                          +- Project [split#414767]\n",
      "                     :                             +- Project [Text_Index#414865, split(Text_Index#414865, ', , -1) AS split#414767]\n",
      "                     :                                +- Project [Topic_Name#414863, URL#414864, Text_Index#414865, split(Network#414757, ,, -1) AS Network#414762]\n",
      "                     :                                   +- Project [Topic_Name#414863, URL#414864, Text_Index#414865, regexp_replace(Network#414866, [\\[\\]\\'], , 1) AS Network#414757]\n",
      "                     :                                      +- LogicalRDD [Topic_Name#414863, URL#414864, Text_Index#414865, Network#414866], false\n",
      "                     +- Project [Explode#414801, split#414805, 1#414821, split#414805[1] AS 2#414825]\n",
      "                        +- Project [Explode#414801, split#414805, split#414805[0] AS 1#414821]\n",
      "                           +- Project [Explode#414801, split(Explode#414801, ->, -1) AS split#414805]\n",
      "                              +- Project [Explode#414801]\n",
      "                                 +- Project [Network#414798, Explode#414801]\n",
      "                                    +- Generate explode(Network#414798), false, [Explode#414801]\n",
      "                                       +- Project [Network#414762 AS Network#414798]\n",
      "                                          +- Project [Topic_Name#414830, URL#414831, Text_Index#414832, split(Network#414757, ,, -1) AS Network#414762]\n",
      "                                             +- Project [Topic_Name#414830, URL#414831, Text_Index#414832, regexp_replace(Network#414833, [\\[\\]\\'], , 1) AS Network#414757]\n",
      "                                                +- LogicalRDD [Topic_Name#414830, URL#414831, Text_Index#414832, Network#414833], false\n",
      "\n"
     ]
    },
    {
     "name": "stderr",
     "output_type": "stream",
     "text": [
      "100%|██████████| 62/62 [01:57<00:00,  1.89s/it]\n",
      "  9%|▉         | 8/85 [00:16<02:07,  1.66s/it]"
     ]
    },
    {
     "name": "stdout",
     "output_type": "stream",
     "text": [
      "list index out of range\n"
     ]
    },
    {
     "name": "stderr",
     "output_type": "stream",
     "text": [
      " 14%|█▍        | 12/85 [00:22<01:45,  1.45s/it]"
     ]
    },
    {
     "name": "stdout",
     "output_type": "stream",
     "text": [
      "[UNRESOLVED_COLUMN.WITH_SUGGESTION] A column or function parameter with name `3` cannot be resolved. Did you mean one of the following? [`1`, `2`].;\n",
      "'Filter NOT ('3 = NULL)\n",
      "+- Project [1#422465, 2#422498]\n",
      "   +- Project [Explode#422416, split#422420, 1#422465, 2#422498]\n",
      "      +- Project [id#422401, text#422392, length_of_text#422404, num_of_words#422408, Explode#422416, split#422420, 1#422465, text#422392 AS 2#422498]\n",
      "         +- Join RightOuter, (id#422401 = cast(2#422440 as int))\n",
      "            :- Project [id#422401, text#422392, length_of_text#422404, array_size(split(text#422392,  , -1)) AS num_of_words#422408]\n",
      "            :  +- Project [id#422401, text#422392, length(text#422392) AS length_of_text#422404]\n",
      "            :     +- Project [cast(id#422398 as int) AS id#422401, text#422392]\n",
      "            :        +- Project [regexp_replace(id#422389, [\\{\\}\"], , 1) AS id#422398, text#422392]\n",
      "            :           +- Project [id#422389, text#422392]\n",
      "            :              +- Project [split#422387, id#422389, split(split#422387, : ', -1)[1] AS text#422392]\n",
      "            :                 +- Project [split#422387, split(split#422387, : ', -1)[0] AS id#422389]\n",
      "            :                    +- Project [split#422387]\n",
      "            :                       +- Generate explode(split#422382), false, [split#422387]\n",
      "            :                          +- Project [split#422382]\n",
      "            :                             +- Project [Text_Index#422366, split(Text_Index#422366, ', , -1) AS split#422382]\n",
      "            :                                +- Project [Topic_Name#422364, URL#422365, Text_Index#422366, split(Network#422372, ,, -1) AS Network#422377]\n",
      "            :                                   +- Project [Topic_Name#422364, URL#422365, Text_Index#422366, regexp_replace(Network#422367, [\\[\\]\\'], , 1) AS Network#422372]\n",
      "            :                                      +- LogicalRDD [Topic_Name#422364, URL#422365, Text_Index#422366, Network#422367], false\n",
      "            +- Project [Explode#422416, split#422420, 1#422465, 2#422440]\n",
      "               +- Project [id#422401, text#422392, length_of_text#422404, num_of_words#422408, Explode#422416, split#422420, text#422392 AS 1#422465, 2#422440]\n",
      "                  +- Join RightOuter, (id#422401 = cast(1#422436 as int))\n",
      "                     :- Project [id#422401, text#422392, length_of_text#422404, array_size(split(text#422392,  , -1)) AS num_of_words#422408]\n",
      "                     :  +- Project [id#422401, text#422392, length(text#422392) AS length_of_text#422404]\n",
      "                     :     +- Project [cast(id#422398 as int) AS id#422401, text#422392]\n",
      "                     :        +- Project [regexp_replace(id#422389, [\\{\\}\"], , 1) AS id#422398, text#422392]\n",
      "                     :           +- Project [id#422389, text#422392]\n",
      "                     :              +- Project [split#422387, id#422389, split(split#422387, : ', -1)[1] AS text#422392]\n",
      "                     :                 +- Project [split#422387, split(split#422387, : ', -1)[0] AS id#422389]\n",
      "                     :                    +- Project [split#422387]\n",
      "                     :                       +- Generate explode(split#422382), false, [split#422387]\n",
      "                     :                          +- Project [split#422382]\n",
      "                     :                             +- Project [Text_Index#422480, split(Text_Index#422480, ', , -1) AS split#422382]\n",
      "                     :                                +- Project [Topic_Name#422478, URL#422479, Text_Index#422480, split(Network#422372, ,, -1) AS Network#422377]\n",
      "                     :                                   +- Project [Topic_Name#422478, URL#422479, Text_Index#422480, regexp_replace(Network#422481, [\\[\\]\\'], , 1) AS Network#422372]\n",
      "                     :                                      +- LogicalRDD [Topic_Name#422478, URL#422479, Text_Index#422480, Network#422481], false\n",
      "                     +- Project [Explode#422416, split#422420, 1#422436, split#422420[1] AS 2#422440]\n",
      "                        +- Project [Explode#422416, split#422420, split#422420[0] AS 1#422436]\n",
      "                           +- Project [Explode#422416, split(Explode#422416, ->, -1) AS split#422420]\n",
      "                              +- Project [Explode#422416]\n",
      "                                 +- Project [Network#422413, Explode#422416]\n",
      "                                    +- Generate explode(Network#422413), false, [Explode#422416]\n",
      "                                       +- Project [Network#422377 AS Network#422413]\n",
      "                                          +- Project [Topic_Name#422445, URL#422446, Text_Index#422447, split(Network#422372, ,, -1) AS Network#422377]\n",
      "                                             +- Project [Topic_Name#422445, URL#422446, Text_Index#422447, regexp_replace(Network#422448, [\\[\\]\\'], , 1) AS Network#422372]\n",
      "                                                +- LogicalRDD [Topic_Name#422445, URL#422446, Text_Index#422447, Network#422448], false\n",
      "\n"
     ]
    },
    {
     "name": "stderr",
     "output_type": "stream",
     "text": [
      " 16%|█▋        | 14/85 [00:26<01:54,  1.61s/it]"
     ]
    },
    {
     "name": "stdout",
     "output_type": "stream",
     "text": [
      "0\n"
     ]
    },
    {
     "name": "stderr",
     "output_type": "stream",
     "text": [
      " 18%|█▊        | 15/85 [00:26<01:27,  1.25s/it]"
     ]
    },
    {
     "name": "stdout",
     "output_type": "stream",
     "text": [
      "list index out of range\n"
     ]
    },
    {
     "name": "stderr",
     "output_type": "stream",
     "text": [
      " 20%|██        | 17/85 [00:29<01:16,  1.12s/it]"
     ]
    },
    {
     "name": "stdout",
     "output_type": "stream",
     "text": [
      "list index out of range\n"
     ]
    },
    {
     "name": "stderr",
     "output_type": "stream",
     "text": [
      " 39%|███▉      | 33/85 [01:02<01:50,  2.13s/it]"
     ]
    },
    {
     "name": "stdout",
     "output_type": "stream",
     "text": [
      "local variable 'update_dict' referenced before assignment\n"
     ]
    },
    {
     "name": "stderr",
     "output_type": "stream",
     "text": [
      " 49%|████▉     | 42/85 [01:18<01:00,  1.41s/it]"
     ]
    },
    {
     "name": "stdout",
     "output_type": "stream",
     "text": [
      "[UNRESOLVED_COLUMN.WITH_SUGGESTION] A column or function parameter with name `3` cannot be resolved. Did you mean one of the following? [`1`, `2`].;\n",
      "'Filter NOT ('3 = NULL)\n",
      "+- Project [1#430071, 2#430104]\n",
      "   +- Project [Explode#430022, split#430026, 1#430071, 2#430104]\n",
      "      +- Project [id#430007, text#429998, length_of_text#430010, num_of_words#430014, Explode#430022, split#430026, 1#430071, text#429998 AS 2#430104]\n",
      "         +- Join RightOuter, (id#430007 = cast(2#430046 as int))\n",
      "            :- Project [id#430007, text#429998, length_of_text#430010, array_size(split(text#429998,  , -1)) AS num_of_words#430014]\n",
      "            :  +- Project [id#430007, text#429998, length(text#429998) AS length_of_text#430010]\n",
      "            :     +- Project [cast(id#430004 as int) AS id#430007, text#429998]\n",
      "            :        +- Project [regexp_replace(id#429995, [\\{\\}\"], , 1) AS id#430004, text#429998]\n",
      "            :           +- Project [id#429995, text#429998]\n",
      "            :              +- Project [split#429993, id#429995, split(split#429993, : ', -1)[1] AS text#429998]\n",
      "            :                 +- Project [split#429993, split(split#429993, : ', -1)[0] AS id#429995]\n",
      "            :                    +- Project [split#429993]\n",
      "            :                       +- Generate explode(split#429988), false, [split#429993]\n",
      "            :                          +- Project [split#429988]\n",
      "            :                             +- Project [Text_Index#429972, split(Text_Index#429972, ', , -1) AS split#429988]\n",
      "            :                                +- Project [Topic_Name#429970, URL#429971, Text_Index#429972, split(Network#429978, ,, -1) AS Network#429983]\n",
      "            :                                   +- Project [Topic_Name#429970, URL#429971, Text_Index#429972, regexp_replace(Network#429973, [\\[\\]\\'], , 1) AS Network#429978]\n",
      "            :                                      +- LogicalRDD [Topic_Name#429970, URL#429971, Text_Index#429972, Network#429973], false\n",
      "            +- Project [Explode#430022, split#430026, 1#430071, 2#430046]\n",
      "               +- Project [id#430007, text#429998, length_of_text#430010, num_of_words#430014, Explode#430022, split#430026, text#429998 AS 1#430071, 2#430046]\n",
      "                  +- Join RightOuter, (id#430007 = cast(1#430042 as int))\n",
      "                     :- Project [id#430007, text#429998, length_of_text#430010, array_size(split(text#429998,  , -1)) AS num_of_words#430014]\n",
      "                     :  +- Project [id#430007, text#429998, length(text#429998) AS length_of_text#430010]\n",
      "                     :     +- Project [cast(id#430004 as int) AS id#430007, text#429998]\n",
      "                     :        +- Project [regexp_replace(id#429995, [\\{\\}\"], , 1) AS id#430004, text#429998]\n",
      "                     :           +- Project [id#429995, text#429998]\n",
      "                     :              +- Project [split#429993, id#429995, split(split#429993, : ', -1)[1] AS text#429998]\n",
      "                     :                 +- Project [split#429993, split(split#429993, : ', -1)[0] AS id#429995]\n",
      "                     :                    +- Project [split#429993]\n",
      "                     :                       +- Generate explode(split#429988), false, [split#429993]\n",
      "                     :                          +- Project [split#429988]\n",
      "                     :                             +- Project [Text_Index#430086, split(Text_Index#430086, ', , -1) AS split#429988]\n",
      "                     :                                +- Project [Topic_Name#430084, URL#430085, Text_Index#430086, split(Network#429978, ,, -1) AS Network#429983]\n",
      "                     :                                   +- Project [Topic_Name#430084, URL#430085, Text_Index#430086, regexp_replace(Network#430087, [\\[\\]\\'], , 1) AS Network#429978]\n",
      "                     :                                      +- LogicalRDD [Topic_Name#430084, URL#430085, Text_Index#430086, Network#430087], false\n",
      "                     +- Project [Explode#430022, split#430026, 1#430042, split#430026[1] AS 2#430046]\n",
      "                        +- Project [Explode#430022, split#430026, split#430026[0] AS 1#430042]\n",
      "                           +- Project [Explode#430022, split(Explode#430022, ->, -1) AS split#430026]\n",
      "                              +- Project [Explode#430022]\n",
      "                                 +- Project [Network#430019, Explode#430022]\n",
      "                                    +- Generate explode(Network#430019), false, [Explode#430022]\n",
      "                                       +- Project [Network#429983 AS Network#430019]\n",
      "                                          +- Project [Topic_Name#430051, URL#430052, Text_Index#430053, split(Network#429978, ,, -1) AS Network#429983]\n",
      "                                             +- Project [Topic_Name#430051, URL#430052, Text_Index#430053, regexp_replace(Network#430054, [\\[\\]\\'], , 1) AS Network#429978]\n",
      "                                                +- LogicalRDD [Topic_Name#430051, URL#430052, Text_Index#430053, Network#430054], false\n",
      "\n"
     ]
    },
    {
     "name": "stderr",
     "output_type": "stream",
     "text": [
      " 51%|█████     | 43/85 [01:19<00:47,  1.13s/it]"
     ]
    },
    {
     "name": "stdout",
     "output_type": "stream",
     "text": [
      "[UNRESOLVED_COLUMN.WITH_SUGGESTION] A column or function parameter with name `3` cannot be resolved. Did you mean one of the following? [`1`, `2`].;\n",
      "'Filter NOT ('3 = NULL)\n",
      "+- Project [1#430220, 2#430253]\n",
      "   +- Project [Explode#430171, split#430175, 1#430220, 2#430253]\n",
      "      +- Project [id#430156, text#430147, length_of_text#430159, num_of_words#430163, Explode#430171, split#430175, 1#430220, text#430147 AS 2#430253]\n",
      "         +- Join RightOuter, (id#430156 = cast(2#430195 as int))\n",
      "            :- Project [id#430156, text#430147, length_of_text#430159, array_size(split(text#430147,  , -1)) AS num_of_words#430163]\n",
      "            :  +- Project [id#430156, text#430147, length(text#430147) AS length_of_text#430159]\n",
      "            :     +- Project [cast(id#430153 as int) AS id#430156, text#430147]\n",
      "            :        +- Project [regexp_replace(id#430144, [\\{\\}\"], , 1) AS id#430153, text#430147]\n",
      "            :           +- Project [id#430144, text#430147]\n",
      "            :              +- Project [split#430142, id#430144, split(split#430142, : ', -1)[1] AS text#430147]\n",
      "            :                 +- Project [split#430142, split(split#430142, : ', -1)[0] AS id#430144]\n",
      "            :                    +- Project [split#430142]\n",
      "            :                       +- Generate explode(split#430137), false, [split#430142]\n",
      "            :                          +- Project [split#430137]\n",
      "            :                             +- Project [Text_Index#430121, split(Text_Index#430121, ', , -1) AS split#430137]\n",
      "            :                                +- Project [Topic_Name#430119, URL#430120, Text_Index#430121, split(Network#430127, ,, -1) AS Network#430132]\n",
      "            :                                   +- Project [Topic_Name#430119, URL#430120, Text_Index#430121, regexp_replace(Network#430122, [\\[\\]\\'], , 1) AS Network#430127]\n",
      "            :                                      +- LogicalRDD [Topic_Name#430119, URL#430120, Text_Index#430121, Network#430122], false\n",
      "            +- Project [Explode#430171, split#430175, 1#430220, 2#430195]\n",
      "               +- Project [id#430156, text#430147, length_of_text#430159, num_of_words#430163, Explode#430171, split#430175, text#430147 AS 1#430220, 2#430195]\n",
      "                  +- Join RightOuter, (id#430156 = cast(1#430191 as int))\n",
      "                     :- Project [id#430156, text#430147, length_of_text#430159, array_size(split(text#430147,  , -1)) AS num_of_words#430163]\n",
      "                     :  +- Project [id#430156, text#430147, length(text#430147) AS length_of_text#430159]\n",
      "                     :     +- Project [cast(id#430153 as int) AS id#430156, text#430147]\n",
      "                     :        +- Project [regexp_replace(id#430144, [\\{\\}\"], , 1) AS id#430153, text#430147]\n",
      "                     :           +- Project [id#430144, text#430147]\n",
      "                     :              +- Project [split#430142, id#430144, split(split#430142, : ', -1)[1] AS text#430147]\n",
      "                     :                 +- Project [split#430142, split(split#430142, : ', -1)[0] AS id#430144]\n",
      "                     :                    +- Project [split#430142]\n",
      "                     :                       +- Generate explode(split#430137), false, [split#430142]\n",
      "                     :                          +- Project [split#430137]\n",
      "                     :                             +- Project [Text_Index#430235, split(Text_Index#430235, ', , -1) AS split#430137]\n",
      "                     :                                +- Project [Topic_Name#430233, URL#430234, Text_Index#430235, split(Network#430127, ,, -1) AS Network#430132]\n",
      "                     :                                   +- Project [Topic_Name#430233, URL#430234, Text_Index#430235, regexp_replace(Network#430236, [\\[\\]\\'], , 1) AS Network#430127]\n",
      "                     :                                      +- LogicalRDD [Topic_Name#430233, URL#430234, Text_Index#430235, Network#430236], false\n",
      "                     +- Project [Explode#430171, split#430175, 1#430191, split#430175[1] AS 2#430195]\n",
      "                        +- Project [Explode#430171, split#430175, split#430175[0] AS 1#430191]\n",
      "                           +- Project [Explode#430171, split(Explode#430171, ->, -1) AS split#430175]\n",
      "                              +- Project [Explode#430171]\n",
      "                                 +- Project [Network#430168, Explode#430171]\n",
      "                                    +- Generate explode(Network#430168), false, [Explode#430171]\n",
      "                                       +- Project [Network#430132 AS Network#430168]\n",
      "                                          +- Project [Topic_Name#430200, URL#430201, Text_Index#430202, split(Network#430127, ,, -1) AS Network#430132]\n",
      "                                             +- Project [Topic_Name#430200, URL#430201, Text_Index#430202, regexp_replace(Network#430203, [\\[\\]\\'], , 1) AS Network#430127]\n",
      "                                                +- LogicalRDD [Topic_Name#430200, URL#430201, Text_Index#430202, Network#430203], false\n",
      "\n"
     ]
    },
    {
     "name": "stderr",
     "output_type": "stream",
     "text": [
      " 59%|█████▉    | 50/85 [01:31<00:49,  1.41s/it]"
     ]
    },
    {
     "name": "stdout",
     "output_type": "stream",
     "text": [
      "list index out of range\n"
     ]
    },
    {
     "name": "stderr",
     "output_type": "stream",
     "text": [
      " 61%|██████    | 52/85 [01:33<00:38,  1.17s/it]"
     ]
    },
    {
     "name": "stdout",
     "output_type": "stream",
     "text": [
      "list index out of range\n"
     ]
    },
    {
     "name": "stderr",
     "output_type": "stream",
     "text": [
      " 62%|██████▏   | 53/85 [01:35<00:47,  1.49s/it]"
     ]
    },
    {
     "name": "stdout",
     "output_type": "stream",
     "text": [
      "0\n"
     ]
    },
    {
     "name": "stderr",
     "output_type": "stream",
     "text": [
      " 73%|███████▎  | 62/85 [01:53<00:34,  1.52s/it]"
     ]
    },
    {
     "name": "stdout",
     "output_type": "stream",
     "text": [
      "[UNRESOLVED_COLUMN.WITH_SUGGESTION] A column or function parameter with name `3` cannot be resolved. Did you mean one of the following? [`1`, `2`].;\n",
      "'Filter NOT ('3 = NULL)\n",
      "+- Project [1#434951, 2#434984]\n",
      "   +- Project [Explode#434902, split#434906, 1#434951, 2#434984]\n",
      "      +- Project [id#434887, text#434878, length_of_text#434890, num_of_words#434894, Explode#434902, split#434906, 1#434951, text#434878 AS 2#434984]\n",
      "         +- Join RightOuter, (id#434887 = cast(2#434926 as int))\n",
      "            :- Project [id#434887, text#434878, length_of_text#434890, array_size(split(text#434878,  , -1)) AS num_of_words#434894]\n",
      "            :  +- Project [id#434887, text#434878, length(text#434878) AS length_of_text#434890]\n",
      "            :     +- Project [cast(id#434884 as int) AS id#434887, text#434878]\n",
      "            :        +- Project [regexp_replace(id#434875, [\\{\\}\"], , 1) AS id#434884, text#434878]\n",
      "            :           +- Project [id#434875, text#434878]\n",
      "            :              +- Project [split#434873, id#434875, split(split#434873, : ', -1)[1] AS text#434878]\n",
      "            :                 +- Project [split#434873, split(split#434873, : ', -1)[0] AS id#434875]\n",
      "            :                    +- Project [split#434873]\n",
      "            :                       +- Generate explode(split#434868), false, [split#434873]\n",
      "            :                          +- Project [split#434868]\n",
      "            :                             +- Project [Text_Index#434852, split(Text_Index#434852, ', , -1) AS split#434868]\n",
      "            :                                +- Project [Topic_Name#434850, URL#434851, Text_Index#434852, split(Network#434858, ,, -1) AS Network#434863]\n",
      "            :                                   +- Project [Topic_Name#434850, URL#434851, Text_Index#434852, regexp_replace(Network#434853, [\\[\\]\\'], , 1) AS Network#434858]\n",
      "            :                                      +- LogicalRDD [Topic_Name#434850, URL#434851, Text_Index#434852, Network#434853], false\n",
      "            +- Project [Explode#434902, split#434906, 1#434951, 2#434926]\n",
      "               +- Project [id#434887, text#434878, length_of_text#434890, num_of_words#434894, Explode#434902, split#434906, text#434878 AS 1#434951, 2#434926]\n",
      "                  +- Join RightOuter, (id#434887 = cast(1#434922 as int))\n",
      "                     :- Project [id#434887, text#434878, length_of_text#434890, array_size(split(text#434878,  , -1)) AS num_of_words#434894]\n",
      "                     :  +- Project [id#434887, text#434878, length(text#434878) AS length_of_text#434890]\n",
      "                     :     +- Project [cast(id#434884 as int) AS id#434887, text#434878]\n",
      "                     :        +- Project [regexp_replace(id#434875, [\\{\\}\"], , 1) AS id#434884, text#434878]\n",
      "                     :           +- Project [id#434875, text#434878]\n",
      "                     :              +- Project [split#434873, id#434875, split(split#434873, : ', -1)[1] AS text#434878]\n",
      "                     :                 +- Project [split#434873, split(split#434873, : ', -1)[0] AS id#434875]\n",
      "                     :                    +- Project [split#434873]\n",
      "                     :                       +- Generate explode(split#434868), false, [split#434873]\n",
      "                     :                          +- Project [split#434868]\n",
      "                     :                             +- Project [Text_Index#434966, split(Text_Index#434966, ', , -1) AS split#434868]\n",
      "                     :                                +- Project [Topic_Name#434964, URL#434965, Text_Index#434966, split(Network#434858, ,, -1) AS Network#434863]\n",
      "                     :                                   +- Project [Topic_Name#434964, URL#434965, Text_Index#434966, regexp_replace(Network#434967, [\\[\\]\\'], , 1) AS Network#434858]\n",
      "                     :                                      +- LogicalRDD [Topic_Name#434964, URL#434965, Text_Index#434966, Network#434967], false\n",
      "                     +- Project [Explode#434902, split#434906, 1#434922, split#434906[1] AS 2#434926]\n",
      "                        +- Project [Explode#434902, split#434906, split#434906[0] AS 1#434922]\n",
      "                           +- Project [Explode#434902, split(Explode#434902, ->, -1) AS split#434906]\n",
      "                              +- Project [Explode#434902]\n",
      "                                 +- Project [Network#434899, Explode#434902]\n",
      "                                    +- Generate explode(Network#434899), false, [Explode#434902]\n",
      "                                       +- Project [Network#434863 AS Network#434899]\n",
      "                                          +- Project [Topic_Name#434931, URL#434932, Text_Index#434933, split(Network#434858, ,, -1) AS Network#434863]\n",
      "                                             +- Project [Topic_Name#434931, URL#434932, Text_Index#434933, regexp_replace(Network#434934, [\\[\\]\\'], , 1) AS Network#434858]\n",
      "                                                +- LogicalRDD [Topic_Name#434931, URL#434932, Text_Index#434933, Network#434934], false\n",
      "\n"
     ]
    },
    {
     "name": "stderr",
     "output_type": "stream",
     "text": [
      " 79%|███████▉  | 67/85 [02:02<00:27,  1.54s/it]"
     ]
    },
    {
     "name": "stdout",
     "output_type": "stream",
     "text": [
      "list index out of range\n"
     ]
    },
    {
     "name": "stderr",
     "output_type": "stream",
     "text": [
      " 80%|████████  | 68/85 [02:04<00:27,  1.62s/it]"
     ]
    },
    {
     "name": "stdout",
     "output_type": "stream",
     "text": [
      "local variable 'update_dict' referenced before assignment\n"
     ]
    },
    {
     "name": "stderr",
     "output_type": "stream",
     "text": [
      " 81%|████████  | 69/85 [02:06<00:27,  1.71s/it]"
     ]
    },
    {
     "name": "stdout",
     "output_type": "stream",
     "text": [
      "local variable 'update_dict' referenced before assignment\n"
     ]
    },
    {
     "name": "stderr",
     "output_type": "stream",
     "text": [
      " 86%|████████▌ | 73/85 [02:14<00:23,  1.93s/it]"
     ]
    },
    {
     "name": "stdout",
     "output_type": "stream",
     "text": [
      "local variable 'update_dict' referenced before assignment\n"
     ]
    },
    {
     "name": "stderr",
     "output_type": "stream",
     "text": [
      " 87%|████████▋ | 74/85 [02:15<00:16,  1.47s/it]"
     ]
    },
    {
     "name": "stdout",
     "output_type": "stream",
     "text": [
      "list index out of range\n"
     ]
    },
    {
     "name": "stderr",
     "output_type": "stream",
     "text": [
      " 91%|█████████ | 77/85 [02:19<00:11,  1.39s/it]"
     ]
    },
    {
     "name": "stdout",
     "output_type": "stream",
     "text": [
      "[UNRESOLVED_COLUMN.WITH_SUGGESTION] A column or function parameter with name `3` cannot be resolved. Did you mean one of the following? [`1`, `2`].;\n",
      "'Filter NOT ('3 = NULL)\n",
      "+- Project [1#438975, 2#439008]\n",
      "   +- Project [Explode#438926, split#438930, 1#438975, 2#439008]\n",
      "      +- Project [id#438911, text#438902, length_of_text#438914, num_of_words#438918, Explode#438926, split#438930, 1#438975, text#438902 AS 2#439008]\n",
      "         +- Join RightOuter, (id#438911 = cast(2#438950 as int))\n",
      "            :- Project [id#438911, text#438902, length_of_text#438914, array_size(split(text#438902,  , -1)) AS num_of_words#438918]\n",
      "            :  +- Project [id#438911, text#438902, length(text#438902) AS length_of_text#438914]\n",
      "            :     +- Project [cast(id#438908 as int) AS id#438911, text#438902]\n",
      "            :        +- Project [regexp_replace(id#438899, [\\{\\}\"], , 1) AS id#438908, text#438902]\n",
      "            :           +- Project [id#438899, text#438902]\n",
      "            :              +- Project [split#438897, id#438899, split(split#438897, : ', -1)[1] AS text#438902]\n",
      "            :                 +- Project [split#438897, split(split#438897, : ', -1)[0] AS id#438899]\n",
      "            :                    +- Project [split#438897]\n",
      "            :                       +- Generate explode(split#438892), false, [split#438897]\n",
      "            :                          +- Project [split#438892]\n",
      "            :                             +- Project [Text_Index#438876, split(Text_Index#438876, ', , -1) AS split#438892]\n",
      "            :                                +- Project [Topic_Name#438874, URL#438875, Text_Index#438876, split(Network#438882, ,, -1) AS Network#438887]\n",
      "            :                                   +- Project [Topic_Name#438874, URL#438875, Text_Index#438876, regexp_replace(Network#438877, [\\[\\]\\'], , 1) AS Network#438882]\n",
      "            :                                      +- LogicalRDD [Topic_Name#438874, URL#438875, Text_Index#438876, Network#438877], false\n",
      "            +- Project [Explode#438926, split#438930, 1#438975, 2#438950]\n",
      "               +- Project [id#438911, text#438902, length_of_text#438914, num_of_words#438918, Explode#438926, split#438930, text#438902 AS 1#438975, 2#438950]\n",
      "                  +- Join RightOuter, (id#438911 = cast(1#438946 as int))\n",
      "                     :- Project [id#438911, text#438902, length_of_text#438914, array_size(split(text#438902,  , -1)) AS num_of_words#438918]\n",
      "                     :  +- Project [id#438911, text#438902, length(text#438902) AS length_of_text#438914]\n",
      "                     :     +- Project [cast(id#438908 as int) AS id#438911, text#438902]\n",
      "                     :        +- Project [regexp_replace(id#438899, [\\{\\}\"], , 1) AS id#438908, text#438902]\n",
      "                     :           +- Project [id#438899, text#438902]\n",
      "                     :              +- Project [split#438897, id#438899, split(split#438897, : ', -1)[1] AS text#438902]\n",
      "                     :                 +- Project [split#438897, split(split#438897, : ', -1)[0] AS id#438899]\n",
      "                     :                    +- Project [split#438897]\n",
      "                     :                       +- Generate explode(split#438892), false, [split#438897]\n",
      "                     :                          +- Project [split#438892]\n",
      "                     :                             +- Project [Text_Index#438990, split(Text_Index#438990, ', , -1) AS split#438892]\n",
      "                     :                                +- Project [Topic_Name#438988, URL#438989, Text_Index#438990, split(Network#438882, ,, -1) AS Network#438887]\n",
      "                     :                                   +- Project [Topic_Name#438988, URL#438989, Text_Index#438990, regexp_replace(Network#438991, [\\[\\]\\'], , 1) AS Network#438882]\n",
      "                     :                                      +- LogicalRDD [Topic_Name#438988, URL#438989, Text_Index#438990, Network#438991], false\n",
      "                     +- Project [Explode#438926, split#438930, 1#438946, split#438930[1] AS 2#438950]\n",
      "                        +- Project [Explode#438926, split#438930, split#438930[0] AS 1#438946]\n",
      "                           +- Project [Explode#438926, split(Explode#438926, ->, -1) AS split#438930]\n",
      "                              +- Project [Explode#438926]\n",
      "                                 +- Project [Network#438923, Explode#438926]\n",
      "                                    +- Generate explode(Network#438923), false, [Explode#438926]\n",
      "                                       +- Project [Network#438887 AS Network#438923]\n",
      "                                          +- Project [Topic_Name#438955, URL#438956, Text_Index#438957, split(Network#438882, ,, -1) AS Network#438887]\n",
      "                                             +- Project [Topic_Name#438955, URL#438956, Text_Index#438957, regexp_replace(Network#438958, [\\[\\]\\'], , 1) AS Network#438882]\n",
      "                                                +- LogicalRDD [Topic_Name#438955, URL#438956, Text_Index#438957, Network#438958], false\n",
      "\n"
     ]
    },
    {
     "name": "stderr",
     "output_type": "stream",
     "text": [
      " 98%|█████████▊| 83/85 [02:29<00:02,  1.37s/it]"
     ]
    },
    {
     "name": "stdout",
     "output_type": "stream",
     "text": [
      "list index out of range\n"
     ]
    },
    {
     "name": "stderr",
     "output_type": "stream",
     "text": [
      "100%|██████████| 85/85 [02:33<00:00,  1.81s/it]\n",
      "  8%|▊         | 6/79 [00:13<02:43,  2.23s/it]"
     ]
    },
    {
     "name": "stdout",
     "output_type": "stream",
     "text": [
      "local variable 'update_dict' referenced before assignment\n"
     ]
    },
    {
     "name": "stderr",
     "output_type": "stream",
     "text": [
      " 15%|█▌        | 12/79 [00:24<02:13,  1.99s/it]"
     ]
    },
    {
     "name": "stdout",
     "output_type": "stream",
     "text": [
      "0\n"
     ]
    },
    {
     "name": "stderr",
     "output_type": "stream",
     "text": [
      " 19%|█▉        | 15/79 [00:31<02:10,  2.05s/it]"
     ]
    },
    {
     "name": "stdout",
     "output_type": "stream",
     "text": [
      "0\n"
     ]
    },
    {
     "name": "stderr",
     "output_type": "stream",
     "text": [
      " 29%|██▉       | 23/79 [00:48<02:01,  2.18s/it]"
     ]
    },
    {
     "name": "stdout",
     "output_type": "stream",
     "text": [
      "maximum recursion depth exceeded while getting the repr of an object\n"
     ]
    },
    {
     "name": "stderr",
     "output_type": "stream",
     "text": [
      " 32%|███▏      | 25/79 [00:50<01:27,  1.62s/it]"
     ]
    },
    {
     "name": "stdout",
     "output_type": "stream",
     "text": [
      "[UNRESOLVED_COLUMN.WITH_SUGGESTION] A column or function parameter with name `3` cannot be resolved. Did you mean one of the following? [`1`].;\n",
      "'Filter NOT ('3 = NULL)\n",
      "+- Project [1#448139]\n",
      "   +- Project [Explode#448097, split#448101, 1#448139]\n",
      "      +- Project [id#448082, text#448073, length_of_text#448085, num_of_words#448089, Explode#448097, split#448101, text#448073 AS 1#448139]\n",
      "         +- Join RightOuter, (id#448082 = cast(1#448117 as int))\n",
      "            :- Project [id#448082, text#448073, length_of_text#448085, array_size(split(text#448073,  , -1)) AS num_of_words#448089]\n",
      "            :  +- Project [id#448082, text#448073, length(text#448073) AS length_of_text#448085]\n",
      "            :     +- Project [cast(id#448079 as int) AS id#448082, text#448073]\n",
      "            :        +- Project [regexp_replace(id#448070, [\\{\\}\"], , 1) AS id#448079, text#448073]\n",
      "            :           +- Project [id#448070, text#448073]\n",
      "            :              +- Project [split#448068, id#448070, split(split#448068, : ', -1)[1] AS text#448073]\n",
      "            :                 +- Project [split#448068, split(split#448068, : ', -1)[0] AS id#448070]\n",
      "            :                    +- Project [split#448068]\n",
      "            :                       +- Generate explode(split#448063), false, [split#448068]\n",
      "            :                          +- Project [split#448063]\n",
      "            :                             +- Project [Text_Index#448047, split(Text_Index#448047, ', , -1) AS split#448063]\n",
      "            :                                +- Project [Topic_Name#448045, URL#448046, Text_Index#448047, split(Network#448053, ,, -1) AS Network#448058]\n",
      "            :                                   +- Project [Topic_Name#448045, URL#448046, Text_Index#448047, regexp_replace(Network#448048, [\\[\\]\\'], , 1) AS Network#448053]\n",
      "            :                                      +- LogicalRDD [Topic_Name#448045, URL#448046, Text_Index#448047, Network#448048], false\n",
      "            +- Project [Explode#448097, split#448101, split#448101[0] AS 1#448117]\n",
      "               +- Project [Explode#448097, split(Explode#448097, ->, -1) AS split#448101]\n",
      "                  +- Project [Explode#448097]\n",
      "                     +- Project [Network#448094, Explode#448097]\n",
      "                        +- Generate explode(Network#448094), false, [Explode#448097]\n",
      "                           +- Project [Network#448058 AS Network#448094]\n",
      "                              +- Project [Topic_Name#448121, URL#448122, Text_Index#448123, split(Network#448053, ,, -1) AS Network#448058]\n",
      "                                 +- Project [Topic_Name#448121, URL#448122, Text_Index#448123, regexp_replace(Network#448124, [\\[\\]\\'], , 1) AS Network#448053]\n",
      "                                    +- LogicalRDD [Topic_Name#448121, URL#448122, Text_Index#448123, Network#448124], false\n",
      "\n"
     ]
    },
    {
     "name": "stderr",
     "output_type": "stream",
     "text": [
      " 41%|████      | 32/79 [01:03<01:12,  1.54s/it]"
     ]
    },
    {
     "name": "stdout",
     "output_type": "stream",
     "text": [
      "[UNRESOLVED_COLUMN.WITH_SUGGESTION] A column or function parameter with name `3` cannot be resolved. Did you mean one of the following? [`1`, `2`].;\n",
      "'Filter NOT ('3 = NULL)\n",
      "+- Project [1#449842, 2#449875]\n",
      "   +- Project [Explode#449793, split#449797, 1#449842, 2#449875]\n",
      "      +- Project [id#449778, text#449769, length_of_text#449781, num_of_words#449785, Explode#449793, split#449797, 1#449842, text#449769 AS 2#449875]\n",
      "         +- Join RightOuter, (id#449778 = cast(2#449817 as int))\n",
      "            :- Project [id#449778, text#449769, length_of_text#449781, array_size(split(text#449769,  , -1)) AS num_of_words#449785]\n",
      "            :  +- Project [id#449778, text#449769, length(text#449769) AS length_of_text#449781]\n",
      "            :     +- Project [cast(id#449775 as int) AS id#449778, text#449769]\n",
      "            :        +- Project [regexp_replace(id#449766, [\\{\\}\"], , 1) AS id#449775, text#449769]\n",
      "            :           +- Project [id#449766, text#449769]\n",
      "            :              +- Project [split#449764, id#449766, split(split#449764, : ', -1)[1] AS text#449769]\n",
      "            :                 +- Project [split#449764, split(split#449764, : ', -1)[0] AS id#449766]\n",
      "            :                    +- Project [split#449764]\n",
      "            :                       +- Generate explode(split#449759), false, [split#449764]\n",
      "            :                          +- Project [split#449759]\n",
      "            :                             +- Project [Text_Index#449743, split(Text_Index#449743, ', , -1) AS split#449759]\n",
      "            :                                +- Project [Topic_Name#449741, URL#449742, Text_Index#449743, split(Network#449749, ,, -1) AS Network#449754]\n",
      "            :                                   +- Project [Topic_Name#449741, URL#449742, Text_Index#449743, regexp_replace(Network#449744, [\\[\\]\\'], , 1) AS Network#449749]\n",
      "            :                                      +- LogicalRDD [Topic_Name#449741, URL#449742, Text_Index#449743, Network#449744], false\n",
      "            +- Project [Explode#449793, split#449797, 1#449842, 2#449817]\n",
      "               +- Project [id#449778, text#449769, length_of_text#449781, num_of_words#449785, Explode#449793, split#449797, text#449769 AS 1#449842, 2#449817]\n",
      "                  +- Join RightOuter, (id#449778 = cast(1#449813 as int))\n",
      "                     :- Project [id#449778, text#449769, length_of_text#449781, array_size(split(text#449769,  , -1)) AS num_of_words#449785]\n",
      "                     :  +- Project [id#449778, text#449769, length(text#449769) AS length_of_text#449781]\n",
      "                     :     +- Project [cast(id#449775 as int) AS id#449778, text#449769]\n",
      "                     :        +- Project [regexp_replace(id#449766, [\\{\\}\"], , 1) AS id#449775, text#449769]\n",
      "                     :           +- Project [id#449766, text#449769]\n",
      "                     :              +- Project [split#449764, id#449766, split(split#449764, : ', -1)[1] AS text#449769]\n",
      "                     :                 +- Project [split#449764, split(split#449764, : ', -1)[0] AS id#449766]\n",
      "                     :                    +- Project [split#449764]\n",
      "                     :                       +- Generate explode(split#449759), false, [split#449764]\n",
      "                     :                          +- Project [split#449759]\n",
      "                     :                             +- Project [Text_Index#449857, split(Text_Index#449857, ', , -1) AS split#449759]\n",
      "                     :                                +- Project [Topic_Name#449855, URL#449856, Text_Index#449857, split(Network#449749, ,, -1) AS Network#449754]\n",
      "                     :                                   +- Project [Topic_Name#449855, URL#449856, Text_Index#449857, regexp_replace(Network#449858, [\\[\\]\\'], , 1) AS Network#449749]\n",
      "                     :                                      +- LogicalRDD [Topic_Name#449855, URL#449856, Text_Index#449857, Network#449858], false\n",
      "                     +- Project [Explode#449793, split#449797, 1#449813, split#449797[1] AS 2#449817]\n",
      "                        +- Project [Explode#449793, split#449797, split#449797[0] AS 1#449813]\n",
      "                           +- Project [Explode#449793, split(Explode#449793, ->, -1) AS split#449797]\n",
      "                              +- Project [Explode#449793]\n",
      "                                 +- Project [Network#449790, Explode#449793]\n",
      "                                    +- Generate explode(Network#449790), false, [Explode#449793]\n",
      "                                       +- Project [Network#449754 AS Network#449790]\n",
      "                                          +- Project [Topic_Name#449822, URL#449823, Text_Index#449824, split(Network#449749, ,, -1) AS Network#449754]\n",
      "                                             +- Project [Topic_Name#449822, URL#449823, Text_Index#449824, regexp_replace(Network#449825, [\\[\\]\\'], , 1) AS Network#449749]\n",
      "                                                +- LogicalRDD [Topic_Name#449822, URL#449823, Text_Index#449824, Network#449825], false\n",
      "\n"
     ]
    },
    {
     "name": "stderr",
     "output_type": "stream",
     "text": [
      " 49%|████▉     | 39/79 [01:15<01:00,  1.50s/it]"
     ]
    },
    {
     "name": "stdout",
     "output_type": "stream",
     "text": [
      "[UNRESOLVED_COLUMN.WITH_SUGGESTION] A column or function parameter with name `3` cannot be resolved. Did you mean one of the following? [`1`].;\n",
      "'Filter NOT ('3 = NULL)\n",
      "+- Project [1#451635]\n",
      "   +- Project [Explode#451593, split#451597, 1#451635]\n",
      "      +- Project [id#451578, text#451569, length_of_text#451581, num_of_words#451585, Explode#451593, split#451597, text#451569 AS 1#451635]\n",
      "         +- Join RightOuter, (id#451578 = cast(1#451613 as int))\n",
      "            :- Project [id#451578, text#451569, length_of_text#451581, array_size(split(text#451569,  , -1)) AS num_of_words#451585]\n",
      "            :  +- Project [id#451578, text#451569, length(text#451569) AS length_of_text#451581]\n",
      "            :     +- Project [cast(id#451575 as int) AS id#451578, text#451569]\n",
      "            :        +- Project [regexp_replace(id#451566, [\\{\\}\"], , 1) AS id#451575, text#451569]\n",
      "            :           +- Project [id#451566, text#451569]\n",
      "            :              +- Project [split#451564, id#451566, split(split#451564, : ', -1)[1] AS text#451569]\n",
      "            :                 +- Project [split#451564, split(split#451564, : ', -1)[0] AS id#451566]\n",
      "            :                    +- Project [split#451564]\n",
      "            :                       +- Generate explode(split#451559), false, [split#451564]\n",
      "            :                          +- Project [split#451559]\n",
      "            :                             +- Project [Text_Index#451543, split(Text_Index#451543, ', , -1) AS split#451559]\n",
      "            :                                +- Project [Topic_Name#451541, URL#451542, Text_Index#451543, split(Network#451549, ,, -1) AS Network#451554]\n",
      "            :                                   +- Project [Topic_Name#451541, URL#451542, Text_Index#451543, regexp_replace(Network#451544, [\\[\\]\\'], , 1) AS Network#451549]\n",
      "            :                                      +- LogicalRDD [Topic_Name#451541, URL#451542, Text_Index#451543, Network#451544], false\n",
      "            +- Project [Explode#451593, split#451597, split#451597[0] AS 1#451613]\n",
      "               +- Project [Explode#451593, split(Explode#451593, ->, -1) AS split#451597]\n",
      "                  +- Project [Explode#451593]\n",
      "                     +- Project [Network#451590, Explode#451593]\n",
      "                        +- Generate explode(Network#451590), false, [Explode#451593]\n",
      "                           +- Project [Network#451554 AS Network#451590]\n",
      "                              +- Project [Topic_Name#451617, URL#451618, Text_Index#451619, split(Network#451549, ,, -1) AS Network#451554]\n",
      "                                 +- Project [Topic_Name#451617, URL#451618, Text_Index#451619, regexp_replace(Network#451620, [\\[\\]\\'], , 1) AS Network#451549]\n",
      "                                    +- LogicalRDD [Topic_Name#451617, URL#451618, Text_Index#451619, Network#451620], false\n",
      "\n"
     ]
    },
    {
     "name": "stderr",
     "output_type": "stream",
     "text": [
      " 56%|█████▌    | 44/79 [01:24<01:01,  1.74s/it]"
     ]
    },
    {
     "name": "stdout",
     "output_type": "stream",
     "text": [
      "local variable 'update_dict' referenced before assignment\n"
     ]
    },
    {
     "name": "stderr",
     "output_type": "stream",
     "text": [
      " 58%|█████▊    | 46/79 [01:27<00:47,  1.45s/it]"
     ]
    },
    {
     "name": "stdout",
     "output_type": "stream",
     "text": [
      "[UNRESOLVED_COLUMN.WITH_SUGGESTION] A column or function parameter with name `3` cannot be resolved. Did you mean one of the following? [`1`, `2`].;\n",
      "'Filter NOT ('3 = NULL)\n",
      "+- Project [1#453207, 2#453240]\n",
      "   +- Project [Explode#453158, split#453162, 1#453207, 2#453240]\n",
      "      +- Project [id#453143, text#453134, length_of_text#453146, num_of_words#453150, Explode#453158, split#453162, 1#453207, text#453134 AS 2#453240]\n",
      "         +- Join RightOuter, (id#453143 = cast(2#453182 as int))\n",
      "            :- Project [id#453143, text#453134, length_of_text#453146, array_size(split(text#453134,  , -1)) AS num_of_words#453150]\n",
      "            :  +- Project [id#453143, text#453134, length(text#453134) AS length_of_text#453146]\n",
      "            :     +- Project [cast(id#453140 as int) AS id#453143, text#453134]\n",
      "            :        +- Project [regexp_replace(id#453131, [\\{\\}\"], , 1) AS id#453140, text#453134]\n",
      "            :           +- Project [id#453131, text#453134]\n",
      "            :              +- Project [split#453129, id#453131, split(split#453129, : ', -1)[1] AS text#453134]\n",
      "            :                 +- Project [split#453129, split(split#453129, : ', -1)[0] AS id#453131]\n",
      "            :                    +- Project [split#453129]\n",
      "            :                       +- Generate explode(split#453124), false, [split#453129]\n",
      "            :                          +- Project [split#453124]\n",
      "            :                             +- Project [Text_Index#453108, split(Text_Index#453108, ', , -1) AS split#453124]\n",
      "            :                                +- Project [Topic_Name#453106, URL#453107, Text_Index#453108, split(Network#453114, ,, -1) AS Network#453119]\n",
      "            :                                   +- Project [Topic_Name#453106, URL#453107, Text_Index#453108, regexp_replace(Network#453109, [\\[\\]\\'], , 1) AS Network#453114]\n",
      "            :                                      +- LogicalRDD [Topic_Name#453106, URL#453107, Text_Index#453108, Network#453109], false\n",
      "            +- Project [Explode#453158, split#453162, 1#453207, 2#453182]\n",
      "               +- Project [id#453143, text#453134, length_of_text#453146, num_of_words#453150, Explode#453158, split#453162, text#453134 AS 1#453207, 2#453182]\n",
      "                  +- Join RightOuter, (id#453143 = cast(1#453178 as int))\n",
      "                     :- Project [id#453143, text#453134, length_of_text#453146, array_size(split(text#453134,  , -1)) AS num_of_words#453150]\n",
      "                     :  +- Project [id#453143, text#453134, length(text#453134) AS length_of_text#453146]\n",
      "                     :     +- Project [cast(id#453140 as int) AS id#453143, text#453134]\n",
      "                     :        +- Project [regexp_replace(id#453131, [\\{\\}\"], , 1) AS id#453140, text#453134]\n",
      "                     :           +- Project [id#453131, text#453134]\n",
      "                     :              +- Project [split#453129, id#453131, split(split#453129, : ', -1)[1] AS text#453134]\n",
      "                     :                 +- Project [split#453129, split(split#453129, : ', -1)[0] AS id#453131]\n",
      "                     :                    +- Project [split#453129]\n",
      "                     :                       +- Generate explode(split#453124), false, [split#453129]\n",
      "                     :                          +- Project [split#453124]\n",
      "                     :                             +- Project [Text_Index#453222, split(Text_Index#453222, ', , -1) AS split#453124]\n",
      "                     :                                +- Project [Topic_Name#453220, URL#453221, Text_Index#453222, split(Network#453114, ,, -1) AS Network#453119]\n",
      "                     :                                   +- Project [Topic_Name#453220, URL#453221, Text_Index#453222, regexp_replace(Network#453223, [\\[\\]\\'], , 1) AS Network#453114]\n",
      "                     :                                      +- LogicalRDD [Topic_Name#453220, URL#453221, Text_Index#453222, Network#453223], false\n",
      "                     +- Project [Explode#453158, split#453162, 1#453178, split#453162[1] AS 2#453182]\n",
      "                        +- Project [Explode#453158, split#453162, split#453162[0] AS 1#453178]\n",
      "                           +- Project [Explode#453158, split(Explode#453158, ->, -1) AS split#453162]\n",
      "                              +- Project [Explode#453158]\n",
      "                                 +- Project [Network#453155, Explode#453158]\n",
      "                                    +- Generate explode(Network#453155), false, [Explode#453158]\n",
      "                                       +- Project [Network#453119 AS Network#453155]\n",
      "                                          +- Project [Topic_Name#453187, URL#453188, Text_Index#453189, split(Network#453114, ,, -1) AS Network#453119]\n",
      "                                             +- Project [Topic_Name#453187, URL#453188, Text_Index#453189, regexp_replace(Network#453190, [\\[\\]\\'], , 1) AS Network#453114]\n",
      "                                                +- LogicalRDD [Topic_Name#453187, URL#453188, Text_Index#453189, Network#453190], false\n",
      "\n"
     ]
    },
    {
     "name": "stderr",
     "output_type": "stream",
     "text": [
      " 62%|██████▏   | 49/79 [01:31<00:39,  1.31s/it]"
     ]
    },
    {
     "name": "stdout",
     "output_type": "stream",
     "text": [
      "[UNRESOLVED_COLUMN.WITH_SUGGESTION] A column or function parameter with name `3` cannot be resolved. Did you mean one of the following? [`1`, `2`].;\n",
      "'Filter NOT ('3 = NULL)\n",
      "+- Project [1#453880, 2#453913]\n",
      "   +- Project [Explode#453831, split#453835, 1#453880, 2#453913]\n",
      "      +- Project [id#453816, text#453807, length_of_text#453819, num_of_words#453823, Explode#453831, split#453835, 1#453880, text#453807 AS 2#453913]\n",
      "         +- Join RightOuter, (id#453816 = cast(2#453855 as int))\n",
      "            :- Project [id#453816, text#453807, length_of_text#453819, array_size(split(text#453807,  , -1)) AS num_of_words#453823]\n",
      "            :  +- Project [id#453816, text#453807, length(text#453807) AS length_of_text#453819]\n",
      "            :     +- Project [cast(id#453813 as int) AS id#453816, text#453807]\n",
      "            :        +- Project [regexp_replace(id#453804, [\\{\\}\"], , 1) AS id#453813, text#453807]\n",
      "            :           +- Project [id#453804, text#453807]\n",
      "            :              +- Project [split#453802, id#453804, split(split#453802, : ', -1)[1] AS text#453807]\n",
      "            :                 +- Project [split#453802, split(split#453802, : ', -1)[0] AS id#453804]\n",
      "            :                    +- Project [split#453802]\n",
      "            :                       +- Generate explode(split#453797), false, [split#453802]\n",
      "            :                          +- Project [split#453797]\n",
      "            :                             +- Project [Text_Index#453781, split(Text_Index#453781, ', , -1) AS split#453797]\n",
      "            :                                +- Project [Topic_Name#453779, URL#453780, Text_Index#453781, split(Network#453787, ,, -1) AS Network#453792]\n",
      "            :                                   +- Project [Topic_Name#453779, URL#453780, Text_Index#453781, regexp_replace(Network#453782, [\\[\\]\\'], , 1) AS Network#453787]\n",
      "            :                                      +- LogicalRDD [Topic_Name#453779, URL#453780, Text_Index#453781, Network#453782], false\n",
      "            +- Project [Explode#453831, split#453835, 1#453880, 2#453855]\n",
      "               +- Project [id#453816, text#453807, length_of_text#453819, num_of_words#453823, Explode#453831, split#453835, text#453807 AS 1#453880, 2#453855]\n",
      "                  +- Join RightOuter, (id#453816 = cast(1#453851 as int))\n",
      "                     :- Project [id#453816, text#453807, length_of_text#453819, array_size(split(text#453807,  , -1)) AS num_of_words#453823]\n",
      "                     :  +- Project [id#453816, text#453807, length(text#453807) AS length_of_text#453819]\n",
      "                     :     +- Project [cast(id#453813 as int) AS id#453816, text#453807]\n",
      "                     :        +- Project [regexp_replace(id#453804, [\\{\\}\"], , 1) AS id#453813, text#453807]\n",
      "                     :           +- Project [id#453804, text#453807]\n",
      "                     :              +- Project [split#453802, id#453804, split(split#453802, : ', -1)[1] AS text#453807]\n",
      "                     :                 +- Project [split#453802, split(split#453802, : ', -1)[0] AS id#453804]\n",
      "                     :                    +- Project [split#453802]\n",
      "                     :                       +- Generate explode(split#453797), false, [split#453802]\n",
      "                     :                          +- Project [split#453797]\n",
      "                     :                             +- Project [Text_Index#453895, split(Text_Index#453895, ', , -1) AS split#453797]\n",
      "                     :                                +- Project [Topic_Name#453893, URL#453894, Text_Index#453895, split(Network#453787, ,, -1) AS Network#453792]\n",
      "                     :                                   +- Project [Topic_Name#453893, URL#453894, Text_Index#453895, regexp_replace(Network#453896, [\\[\\]\\'], , 1) AS Network#453787]\n",
      "                     :                                      +- LogicalRDD [Topic_Name#453893, URL#453894, Text_Index#453895, Network#453896], false\n",
      "                     +- Project [Explode#453831, split#453835, 1#453851, split#453835[1] AS 2#453855]\n",
      "                        +- Project [Explode#453831, split#453835, split#453835[0] AS 1#453851]\n",
      "                           +- Project [Explode#453831, split(Explode#453831, ->, -1) AS split#453835]\n",
      "                              +- Project [Explode#453831]\n",
      "                                 +- Project [Network#453828, Explode#453831]\n",
      "                                    +- Generate explode(Network#453828), false, [Explode#453831]\n",
      "                                       +- Project [Network#453792 AS Network#453828]\n",
      "                                          +- Project [Topic_Name#453860, URL#453861, Text_Index#453862, split(Network#453787, ,, -1) AS Network#453792]\n",
      "                                             +- Project [Topic_Name#453860, URL#453861, Text_Index#453862, regexp_replace(Network#453863, [\\[\\]\\'], , 1) AS Network#453787]\n",
      "                                                +- LogicalRDD [Topic_Name#453860, URL#453861, Text_Index#453862, Network#453863], false\n",
      "\n"
     ]
    },
    {
     "name": "stderr",
     "output_type": "stream",
     "text": [
      " 71%|███████   | 56/79 [01:43<00:40,  1.74s/it]"
     ]
    },
    {
     "name": "stdout",
     "output_type": "stream",
     "text": [
      "0\n"
     ]
    },
    {
     "name": "stderr",
     "output_type": "stream",
     "text": [
      " 72%|███████▏  | 57/79 [01:44<00:29,  1.36s/it]"
     ]
    },
    {
     "name": "stdout",
     "output_type": "stream",
     "text": [
      "[UNRESOLVED_COLUMN.WITH_SUGGESTION] A column or function parameter with name `3` cannot be resolved. Did you mean one of the following? [`1`, `2`].;\n",
      "'Filter NOT ('3 = NULL)\n",
      "+- Project [1#455619, 2#455652]\n",
      "   +- Project [Explode#455570, split#455574, 1#455619, 2#455652]\n",
      "      +- Project [id#455555, text#455546, length_of_text#455558, num_of_words#455562, Explode#455570, split#455574, 1#455619, text#455546 AS 2#455652]\n",
      "         +- Join RightOuter, (id#455555 = cast(2#455594 as int))\n",
      "            :- Project [id#455555, text#455546, length_of_text#455558, array_size(split(text#455546,  , -1)) AS num_of_words#455562]\n",
      "            :  +- Project [id#455555, text#455546, length(text#455546) AS length_of_text#455558]\n",
      "            :     +- Project [cast(id#455552 as int) AS id#455555, text#455546]\n",
      "            :        +- Project [regexp_replace(id#455543, [\\{\\}\"], , 1) AS id#455552, text#455546]\n",
      "            :           +- Project [id#455543, text#455546]\n",
      "            :              +- Project [split#455541, id#455543, split(split#455541, : ', -1)[1] AS text#455546]\n",
      "            :                 +- Project [split#455541, split(split#455541, : ', -1)[0] AS id#455543]\n",
      "            :                    +- Project [split#455541]\n",
      "            :                       +- Generate explode(split#455536), false, [split#455541]\n",
      "            :                          +- Project [split#455536]\n",
      "            :                             +- Project [Text_Index#455520, split(Text_Index#455520, ', , -1) AS split#455536]\n",
      "            :                                +- Project [Topic_Name#455518, URL#455519, Text_Index#455520, split(Network#455526, ,, -1) AS Network#455531]\n",
      "            :                                   +- Project [Topic_Name#455518, URL#455519, Text_Index#455520, regexp_replace(Network#455521, [\\[\\]\\'], , 1) AS Network#455526]\n",
      "            :                                      +- LogicalRDD [Topic_Name#455518, URL#455519, Text_Index#455520, Network#455521], false\n",
      "            +- Project [Explode#455570, split#455574, 1#455619, 2#455594]\n",
      "               +- Project [id#455555, text#455546, length_of_text#455558, num_of_words#455562, Explode#455570, split#455574, text#455546 AS 1#455619, 2#455594]\n",
      "                  +- Join RightOuter, (id#455555 = cast(1#455590 as int))\n",
      "                     :- Project [id#455555, text#455546, length_of_text#455558, array_size(split(text#455546,  , -1)) AS num_of_words#455562]\n",
      "                     :  +- Project [id#455555, text#455546, length(text#455546) AS length_of_text#455558]\n",
      "                     :     +- Project [cast(id#455552 as int) AS id#455555, text#455546]\n",
      "                     :        +- Project [regexp_replace(id#455543, [\\{\\}\"], , 1) AS id#455552, text#455546]\n",
      "                     :           +- Project [id#455543, text#455546]\n",
      "                     :              +- Project [split#455541, id#455543, split(split#455541, : ', -1)[1] AS text#455546]\n",
      "                     :                 +- Project [split#455541, split(split#455541, : ', -1)[0] AS id#455543]\n",
      "                     :                    +- Project [split#455541]\n",
      "                     :                       +- Generate explode(split#455536), false, [split#455541]\n",
      "                     :                          +- Project [split#455536]\n",
      "                     :                             +- Project [Text_Index#455634, split(Text_Index#455634, ', , -1) AS split#455536]\n",
      "                     :                                +- Project [Topic_Name#455632, URL#455633, Text_Index#455634, split(Network#455526, ,, -1) AS Network#455531]\n",
      "                     :                                   +- Project [Topic_Name#455632, URL#455633, Text_Index#455634, regexp_replace(Network#455635, [\\[\\]\\'], , 1) AS Network#455526]\n",
      "                     :                                      +- LogicalRDD [Topic_Name#455632, URL#455633, Text_Index#455634, Network#455635], false\n",
      "                     +- Project [Explode#455570, split#455574, 1#455590, split#455574[1] AS 2#455594]\n",
      "                        +- Project [Explode#455570, split#455574, split#455574[0] AS 1#455590]\n",
      "                           +- Project [Explode#455570, split(Explode#455570, ->, -1) AS split#455574]\n",
      "                              +- Project [Explode#455570]\n",
      "                                 +- Project [Network#455567, Explode#455570]\n",
      "                                    +- Generate explode(Network#455567), false, [Explode#455570]\n",
      "                                       +- Project [Network#455531 AS Network#455567]\n",
      "                                          +- Project [Topic_Name#455599, URL#455600, Text_Index#455601, split(Network#455526, ,, -1) AS Network#455531]\n",
      "                                             +- Project [Topic_Name#455599, URL#455600, Text_Index#455601, regexp_replace(Network#455602, [\\[\\]\\'], , 1) AS Network#455526]\n",
      "                                                +- LogicalRDD [Topic_Name#455599, URL#455600, Text_Index#455601, Network#455602], false\n",
      "\n"
     ]
    },
    {
     "name": "stderr",
     "output_type": "stream",
     "text": [
      " 80%|███████▉  | 63/79 [01:54<00:23,  1.45s/it]"
     ]
    },
    {
     "name": "stdout",
     "output_type": "stream",
     "text": [
      "list index out of range\n"
     ]
    },
    {
     "name": "stderr",
     "output_type": "stream",
     "text": [
      " 85%|████████▍ | 67/79 [02:01<00:16,  1.34s/it]"
     ]
    },
    {
     "name": "stdout",
     "output_type": "stream",
     "text": [
      "[UNRESOLVED_COLUMN.WITH_SUGGESTION] A column or function parameter with name `3` cannot be resolved. Did you mean one of the following? [`1`, `2`].;\n",
      "'Filter NOT ('3 = NULL)\n",
      "+- Project [1#458085, 2#458118]\n",
      "   +- Project [Explode#458036, split#458040, 1#458085, 2#458118]\n",
      "      +- Project [id#458021, text#458012, length_of_text#458024, num_of_words#458028, Explode#458036, split#458040, 1#458085, text#458012 AS 2#458118]\n",
      "         +- Join RightOuter, (id#458021 = cast(2#458060 as int))\n",
      "            :- Project [id#458021, text#458012, length_of_text#458024, array_size(split(text#458012,  , -1)) AS num_of_words#458028]\n",
      "            :  +- Project [id#458021, text#458012, length(text#458012) AS length_of_text#458024]\n",
      "            :     +- Project [cast(id#458018 as int) AS id#458021, text#458012]\n",
      "            :        +- Project [regexp_replace(id#458009, [\\{\\}\"], , 1) AS id#458018, text#458012]\n",
      "            :           +- Project [id#458009, text#458012]\n",
      "            :              +- Project [split#458007, id#458009, split(split#458007, : ', -1)[1] AS text#458012]\n",
      "            :                 +- Project [split#458007, split(split#458007, : ', -1)[0] AS id#458009]\n",
      "            :                    +- Project [split#458007]\n",
      "            :                       +- Generate explode(split#458002), false, [split#458007]\n",
      "            :                          +- Project [split#458002]\n",
      "            :                             +- Project [Text_Index#457986, split(Text_Index#457986, ', , -1) AS split#458002]\n",
      "            :                                +- Project [Topic_Name#457984, URL#457985, Text_Index#457986, split(Network#457992, ,, -1) AS Network#457997]\n",
      "            :                                   +- Project [Topic_Name#457984, URL#457985, Text_Index#457986, regexp_replace(Network#457987, [\\[\\]\\'], , 1) AS Network#457992]\n",
      "            :                                      +- LogicalRDD [Topic_Name#457984, URL#457985, Text_Index#457986, Network#457987], false\n",
      "            +- Project [Explode#458036, split#458040, 1#458085, 2#458060]\n",
      "               +- Project [id#458021, text#458012, length_of_text#458024, num_of_words#458028, Explode#458036, split#458040, text#458012 AS 1#458085, 2#458060]\n",
      "                  +- Join RightOuter, (id#458021 = cast(1#458056 as int))\n",
      "                     :- Project [id#458021, text#458012, length_of_text#458024, array_size(split(text#458012,  , -1)) AS num_of_words#458028]\n",
      "                     :  +- Project [id#458021, text#458012, length(text#458012) AS length_of_text#458024]\n",
      "                     :     +- Project [cast(id#458018 as int) AS id#458021, text#458012]\n",
      "                     :        +- Project [regexp_replace(id#458009, [\\{\\}\"], , 1) AS id#458018, text#458012]\n",
      "                     :           +- Project [id#458009, text#458012]\n",
      "                     :              +- Project [split#458007, id#458009, split(split#458007, : ', -1)[1] AS text#458012]\n",
      "                     :                 +- Project [split#458007, split(split#458007, : ', -1)[0] AS id#458009]\n",
      "                     :                    +- Project [split#458007]\n",
      "                     :                       +- Generate explode(split#458002), false, [split#458007]\n",
      "                     :                          +- Project [split#458002]\n",
      "                     :                             +- Project [Text_Index#458100, split(Text_Index#458100, ', , -1) AS split#458002]\n",
      "                     :                                +- Project [Topic_Name#458098, URL#458099, Text_Index#458100, split(Network#457992, ,, -1) AS Network#457997]\n",
      "                     :                                   +- Project [Topic_Name#458098, URL#458099, Text_Index#458100, regexp_replace(Network#458101, [\\[\\]\\'], , 1) AS Network#457992]\n",
      "                     :                                      +- LogicalRDD [Topic_Name#458098, URL#458099, Text_Index#458100, Network#458101], false\n",
      "                     +- Project [Explode#458036, split#458040, 1#458056, split#458040[1] AS 2#458060]\n",
      "                        +- Project [Explode#458036, split#458040, split#458040[0] AS 1#458056]\n",
      "                           +- Project [Explode#458036, split(Explode#458036, ->, -1) AS split#458040]\n",
      "                              +- Project [Explode#458036]\n",
      "                                 +- Project [Network#458033, Explode#458036]\n",
      "                                    +- Generate explode(Network#458033), false, [Explode#458036]\n",
      "                                       +- Project [Network#457997 AS Network#458033]\n",
      "                                          +- Project [Topic_Name#458065, URL#458066, Text_Index#458067, split(Network#457992, ,, -1) AS Network#457997]\n",
      "                                             +- Project [Topic_Name#458065, URL#458066, Text_Index#458067, regexp_replace(Network#458068, [\\[\\]\\'], , 1) AS Network#457992]\n",
      "                                                +- LogicalRDD [Topic_Name#458065, URL#458066, Text_Index#458067, Network#458068], false\n",
      "\n"
     ]
    },
    {
     "name": "stderr",
     "output_type": "stream",
     "text": [
      " 86%|████████▌ | 68/79 [02:01<00:11,  1.07s/it]"
     ]
    },
    {
     "name": "stdout",
     "output_type": "stream",
     "text": [
      "[UNRESOLVED_COLUMN.WITH_SUGGESTION] A column or function parameter with name `3` cannot be resolved. Did you mean one of the following? [`1`, `2`].;\n",
      "'Filter NOT ('3 = NULL)\n",
      "+- Project [1#458234, 2#458267]\n",
      "   +- Project [Explode#458185, split#458189, 1#458234, 2#458267]\n",
      "      +- Project [id#458170, text#458161, length_of_text#458173, num_of_words#458177, Explode#458185, split#458189, 1#458234, text#458161 AS 2#458267]\n",
      "         +- Join RightOuter, (id#458170 = cast(2#458209 as int))\n",
      "            :- Project [id#458170, text#458161, length_of_text#458173, array_size(split(text#458161,  , -1)) AS num_of_words#458177]\n",
      "            :  +- Project [id#458170, text#458161, length(text#458161) AS length_of_text#458173]\n",
      "            :     +- Project [cast(id#458167 as int) AS id#458170, text#458161]\n",
      "            :        +- Project [regexp_replace(id#458158, [\\{\\}\"], , 1) AS id#458167, text#458161]\n",
      "            :           +- Project [id#458158, text#458161]\n",
      "            :              +- Project [split#458156, id#458158, split(split#458156, : ', -1)[1] AS text#458161]\n",
      "            :                 +- Project [split#458156, split(split#458156, : ', -1)[0] AS id#458158]\n",
      "            :                    +- Project [split#458156]\n",
      "            :                       +- Generate explode(split#458151), false, [split#458156]\n",
      "            :                          +- Project [split#458151]\n",
      "            :                             +- Project [Text_Index#458135, split(Text_Index#458135, ', , -1) AS split#458151]\n",
      "            :                                +- Project [Topic_Name#458133, URL#458134, Text_Index#458135, split(Network#458141, ,, -1) AS Network#458146]\n",
      "            :                                   +- Project [Topic_Name#458133, URL#458134, Text_Index#458135, regexp_replace(Network#458136, [\\[\\]\\'], , 1) AS Network#458141]\n",
      "            :                                      +- LogicalRDD [Topic_Name#458133, URL#458134, Text_Index#458135, Network#458136], false\n",
      "            +- Project [Explode#458185, split#458189, 1#458234, 2#458209]\n",
      "               +- Project [id#458170, text#458161, length_of_text#458173, num_of_words#458177, Explode#458185, split#458189, text#458161 AS 1#458234, 2#458209]\n",
      "                  +- Join RightOuter, (id#458170 = cast(1#458205 as int))\n",
      "                     :- Project [id#458170, text#458161, length_of_text#458173, array_size(split(text#458161,  , -1)) AS num_of_words#458177]\n",
      "                     :  +- Project [id#458170, text#458161, length(text#458161) AS length_of_text#458173]\n",
      "                     :     +- Project [cast(id#458167 as int) AS id#458170, text#458161]\n",
      "                     :        +- Project [regexp_replace(id#458158, [\\{\\}\"], , 1) AS id#458167, text#458161]\n",
      "                     :           +- Project [id#458158, text#458161]\n",
      "                     :              +- Project [split#458156, id#458158, split(split#458156, : ', -1)[1] AS text#458161]\n",
      "                     :                 +- Project [split#458156, split(split#458156, : ', -1)[0] AS id#458158]\n",
      "                     :                    +- Project [split#458156]\n",
      "                     :                       +- Generate explode(split#458151), false, [split#458156]\n",
      "                     :                          +- Project [split#458151]\n",
      "                     :                             +- Project [Text_Index#458249, split(Text_Index#458249, ', , -1) AS split#458151]\n",
      "                     :                                +- Project [Topic_Name#458247, URL#458248, Text_Index#458249, split(Network#458141, ,, -1) AS Network#458146]\n",
      "                     :                                   +- Project [Topic_Name#458247, URL#458248, Text_Index#458249, regexp_replace(Network#458250, [\\[\\]\\'], , 1) AS Network#458141]\n",
      "                     :                                      +- LogicalRDD [Topic_Name#458247, URL#458248, Text_Index#458249, Network#458250], false\n",
      "                     +- Project [Explode#458185, split#458189, 1#458205, split#458189[1] AS 2#458209]\n",
      "                        +- Project [Explode#458185, split#458189, split#458189[0] AS 1#458205]\n",
      "                           +- Project [Explode#458185, split(Explode#458185, ->, -1) AS split#458189]\n",
      "                              +- Project [Explode#458185]\n",
      "                                 +- Project [Network#458182, Explode#458185]\n",
      "                                    +- Generate explode(Network#458182), false, [Explode#458185]\n",
      "                                       +- Project [Network#458146 AS Network#458182]\n",
      "                                          +- Project [Topic_Name#458214, URL#458215, Text_Index#458216, split(Network#458141, ,, -1) AS Network#458146]\n",
      "                                             +- Project [Topic_Name#458214, URL#458215, Text_Index#458216, regexp_replace(Network#458217, [\\[\\]\\'], , 1) AS Network#458141]\n",
      "                                                +- LogicalRDD [Topic_Name#458214, URL#458215, Text_Index#458216, Network#458217], false\n",
      "\n"
     ]
    },
    {
     "name": "stderr",
     "output_type": "stream",
     "text": [
      " 94%|█████████▎| 74/79 [02:12<00:07,  1.58s/it]"
     ]
    },
    {
     "name": "stdout",
     "output_type": "stream",
     "text": [
      "list index out of range\n"
     ]
    },
    {
     "name": "stderr",
     "output_type": "stream",
     "text": [
      "100%|██████████| 79/79 [02:22<00:00,  1.80s/it]\n",
      "  3%|▎         | 2/78 [00:02<01:18,  1.04s/it]"
     ]
    },
    {
     "name": "stdout",
     "output_type": "stream",
     "text": [
      "[UNRESOLVED_COLUMN.WITH_SUGGESTION] A column or function parameter with name `3` cannot be resolved. Did you mean one of the following? [`1`, `2`].;\n",
      "'Filter NOT ('3 = NULL)\n",
      "+- Project [1#461664, 2#461697]\n",
      "   +- Project [Explode#461615, split#461619, 1#461664, 2#461697]\n",
      "      +- Project [id#461600, text#461591, length_of_text#461603, num_of_words#461607, Explode#461615, split#461619, 1#461664, text#461591 AS 2#461697]\n",
      "         +- Join RightOuter, (id#461600 = cast(2#461639 as int))\n",
      "            :- Project [id#461600, text#461591, length_of_text#461603, array_size(split(text#461591,  , -1)) AS num_of_words#461607]\n",
      "            :  +- Project [id#461600, text#461591, length(text#461591) AS length_of_text#461603]\n",
      "            :     +- Project [cast(id#461597 as int) AS id#461600, text#461591]\n",
      "            :        +- Project [regexp_replace(id#461588, [\\{\\}\"], , 1) AS id#461597, text#461591]\n",
      "            :           +- Project [id#461588, text#461591]\n",
      "            :              +- Project [split#461586, id#461588, split(split#461586, : ', -1)[1] AS text#461591]\n",
      "            :                 +- Project [split#461586, split(split#461586, : ', -1)[0] AS id#461588]\n",
      "            :                    +- Project [split#461586]\n",
      "            :                       +- Generate explode(split#461581), false, [split#461586]\n",
      "            :                          +- Project [split#461581]\n",
      "            :                             +- Project [Text_Index#461565, split(Text_Index#461565, ', , -1) AS split#461581]\n",
      "            :                                +- Project [Topic_Name#461563, URL#461564, Text_Index#461565, split(Network#461571, ,, -1) AS Network#461576]\n",
      "            :                                   +- Project [Topic_Name#461563, URL#461564, Text_Index#461565, regexp_replace(Network#461566, [\\[\\]\\'], , 1) AS Network#461571]\n",
      "            :                                      +- LogicalRDD [Topic_Name#461563, URL#461564, Text_Index#461565, Network#461566], false\n",
      "            +- Project [Explode#461615, split#461619, 1#461664, 2#461639]\n",
      "               +- Project [id#461600, text#461591, length_of_text#461603, num_of_words#461607, Explode#461615, split#461619, text#461591 AS 1#461664, 2#461639]\n",
      "                  +- Join RightOuter, (id#461600 = cast(1#461635 as int))\n",
      "                     :- Project [id#461600, text#461591, length_of_text#461603, array_size(split(text#461591,  , -1)) AS num_of_words#461607]\n",
      "                     :  +- Project [id#461600, text#461591, length(text#461591) AS length_of_text#461603]\n",
      "                     :     +- Project [cast(id#461597 as int) AS id#461600, text#461591]\n",
      "                     :        +- Project [regexp_replace(id#461588, [\\{\\}\"], , 1) AS id#461597, text#461591]\n",
      "                     :           +- Project [id#461588, text#461591]\n",
      "                     :              +- Project [split#461586, id#461588, split(split#461586, : ', -1)[1] AS text#461591]\n",
      "                     :                 +- Project [split#461586, split(split#461586, : ', -1)[0] AS id#461588]\n",
      "                     :                    +- Project [split#461586]\n",
      "                     :                       +- Generate explode(split#461581), false, [split#461586]\n",
      "                     :                          +- Project [split#461581]\n",
      "                     :                             +- Project [Text_Index#461679, split(Text_Index#461679, ', , -1) AS split#461581]\n",
      "                     :                                +- Project [Topic_Name#461677, URL#461678, Text_Index#461679, split(Network#461571, ,, -1) AS Network#461576]\n",
      "                     :                                   +- Project [Topic_Name#461677, URL#461678, Text_Index#461679, regexp_replace(Network#461680, [\\[\\]\\'], , 1) AS Network#461571]\n",
      "                     :                                      +- LogicalRDD [Topic_Name#461677, URL#461678, Text_Index#461679, Network#461680], false\n",
      "                     +- Project [Explode#461615, split#461619, 1#461635, split#461619[1] AS 2#461639]\n",
      "                        +- Project [Explode#461615, split#461619, split#461619[0] AS 1#461635]\n",
      "                           +- Project [Explode#461615, split(Explode#461615, ->, -1) AS split#461619]\n",
      "                              +- Project [Explode#461615]\n",
      "                                 +- Project [Network#461612, Explode#461615]\n",
      "                                    +- Generate explode(Network#461612), false, [Explode#461615]\n",
      "                                       +- Project [Network#461576 AS Network#461612]\n",
      "                                          +- Project [Topic_Name#461644, URL#461645, Text_Index#461646, split(Network#461571, ,, -1) AS Network#461576]\n",
      "                                             +- Project [Topic_Name#461644, URL#461645, Text_Index#461646, regexp_replace(Network#461647, [\\[\\]\\'], , 1) AS Network#461571]\n",
      "                                                +- LogicalRDD [Topic_Name#461644, URL#461645, Text_Index#461646, Network#461647], false\n",
      "\n"
     ]
    },
    {
     "name": "stderr",
     "output_type": "stream",
     "text": [
      "  5%|▌         | 4/78 [00:06<02:04,  1.68s/it]"
     ]
    },
    {
     "name": "stdout",
     "output_type": "stream",
     "text": [
      "local variable 'update_dict' referenced before assignment\n"
     ]
    },
    {
     "name": "stderr",
     "output_type": "stream",
     "text": [
      " 31%|███       | 24/78 [00:44<01:27,  1.61s/it]"
     ]
    },
    {
     "name": "stdout",
     "output_type": "stream",
     "text": [
      "[UNRESOLVED_COLUMN.WITH_SUGGESTION] A column or function parameter with name `3` cannot be resolved. Did you mean one of the following? [`1`, `2`].;\n",
      "'Filter NOT ('3 = NULL)\n",
      "+- Project [1#467597, 2#467630]\n",
      "   +- Project [Explode#467548, split#467552, 1#467597, 2#467630]\n",
      "      +- Project [id#467533, text#467524, length_of_text#467536, num_of_words#467540, Explode#467548, split#467552, 1#467597, text#467524 AS 2#467630]\n",
      "         +- Join RightOuter, (id#467533 = cast(2#467572 as int))\n",
      "            :- Project [id#467533, text#467524, length_of_text#467536, array_size(split(text#467524,  , -1)) AS num_of_words#467540]\n",
      "            :  +- Project [id#467533, text#467524, length(text#467524) AS length_of_text#467536]\n",
      "            :     +- Project [cast(id#467530 as int) AS id#467533, text#467524]\n",
      "            :        +- Project [regexp_replace(id#467521, [\\{\\}\"], , 1) AS id#467530, text#467524]\n",
      "            :           +- Project [id#467521, text#467524]\n",
      "            :              +- Project [split#467519, id#467521, split(split#467519, : ', -1)[1] AS text#467524]\n",
      "            :                 +- Project [split#467519, split(split#467519, : ', -1)[0] AS id#467521]\n",
      "            :                    +- Project [split#467519]\n",
      "            :                       +- Generate explode(split#467514), false, [split#467519]\n",
      "            :                          +- Project [split#467514]\n",
      "            :                             +- Project [Text_Index#467498, split(Text_Index#467498, ', , -1) AS split#467514]\n",
      "            :                                +- Project [Topic_Name#467496, URL#467497, Text_Index#467498, split(Network#467504, ,, -1) AS Network#467509]\n",
      "            :                                   +- Project [Topic_Name#467496, URL#467497, Text_Index#467498, regexp_replace(Network#467499, [\\[\\]\\'], , 1) AS Network#467504]\n",
      "            :                                      +- LogicalRDD [Topic_Name#467496, URL#467497, Text_Index#467498, Network#467499], false\n",
      "            +- Project [Explode#467548, split#467552, 1#467597, 2#467572]\n",
      "               +- Project [id#467533, text#467524, length_of_text#467536, num_of_words#467540, Explode#467548, split#467552, text#467524 AS 1#467597, 2#467572]\n",
      "                  +- Join RightOuter, (id#467533 = cast(1#467568 as int))\n",
      "                     :- Project [id#467533, text#467524, length_of_text#467536, array_size(split(text#467524,  , -1)) AS num_of_words#467540]\n",
      "                     :  +- Project [id#467533, text#467524, length(text#467524) AS length_of_text#467536]\n",
      "                     :     +- Project [cast(id#467530 as int) AS id#467533, text#467524]\n",
      "                     :        +- Project [regexp_replace(id#467521, [\\{\\}\"], , 1) AS id#467530, text#467524]\n",
      "                     :           +- Project [id#467521, text#467524]\n",
      "                     :              +- Project [split#467519, id#467521, split(split#467519, : ', -1)[1] AS text#467524]\n",
      "                     :                 +- Project [split#467519, split(split#467519, : ', -1)[0] AS id#467521]\n",
      "                     :                    +- Project [split#467519]\n",
      "                     :                       +- Generate explode(split#467514), false, [split#467519]\n",
      "                     :                          +- Project [split#467514]\n",
      "                     :                             +- Project [Text_Index#467612, split(Text_Index#467612, ', , -1) AS split#467514]\n",
      "                     :                                +- Project [Topic_Name#467610, URL#467611, Text_Index#467612, split(Network#467504, ,, -1) AS Network#467509]\n",
      "                     :                                   +- Project [Topic_Name#467610, URL#467611, Text_Index#467612, regexp_replace(Network#467613, [\\[\\]\\'], , 1) AS Network#467504]\n",
      "                     :                                      +- LogicalRDD [Topic_Name#467610, URL#467611, Text_Index#467612, Network#467613], false\n",
      "                     +- Project [Explode#467548, split#467552, 1#467568, split#467552[1] AS 2#467572]\n",
      "                        +- Project [Explode#467548, split#467552, split#467552[0] AS 1#467568]\n",
      "                           +- Project [Explode#467548, split(Explode#467548, ->, -1) AS split#467552]\n",
      "                              +- Project [Explode#467548]\n",
      "                                 +- Project [Network#467545, Explode#467548]\n",
      "                                    +- Generate explode(Network#467545), false, [Explode#467548]\n",
      "                                       +- Project [Network#467509 AS Network#467545]\n",
      "                                          +- Project [Topic_Name#467577, URL#467578, Text_Index#467579, split(Network#467504, ,, -1) AS Network#467509]\n",
      "                                             +- Project [Topic_Name#467577, URL#467578, Text_Index#467579, regexp_replace(Network#467580, [\\[\\]\\'], , 1) AS Network#467504]\n",
      "                                                +- LogicalRDD [Topic_Name#467577, URL#467578, Text_Index#467579, Network#467580], false\n",
      "\n"
     ]
    },
    {
     "name": "stderr",
     "output_type": "stream",
     "text": [
      " 36%|███▌      | 28/78 [00:50<01:09,  1.40s/it]"
     ]
    },
    {
     "name": "stdout",
     "output_type": "stream",
     "text": [
      "[UNRESOLVED_COLUMN.WITH_SUGGESTION] A column or function parameter with name `3` cannot be resolved. Did you mean one of the following? [`1`, `2`].;\n",
      "'Filter NOT ('3 = NULL)\n",
      "+- Project [1#468602, 2#468635]\n",
      "   +- Project [Explode#468553, split#468557, 1#468602, 2#468635]\n",
      "      +- Project [id#468538, text#468529, length_of_text#468541, num_of_words#468545, Explode#468553, split#468557, 1#468602, text#468529 AS 2#468635]\n",
      "         +- Join RightOuter, (id#468538 = cast(2#468577 as int))\n",
      "            :- Project [id#468538, text#468529, length_of_text#468541, array_size(split(text#468529,  , -1)) AS num_of_words#468545]\n",
      "            :  +- Project [id#468538, text#468529, length(text#468529) AS length_of_text#468541]\n",
      "            :     +- Project [cast(id#468535 as int) AS id#468538, text#468529]\n",
      "            :        +- Project [regexp_replace(id#468526, [\\{\\}\"], , 1) AS id#468535, text#468529]\n",
      "            :           +- Project [id#468526, text#468529]\n",
      "            :              +- Project [split#468524, id#468526, split(split#468524, : ', -1)[1] AS text#468529]\n",
      "            :                 +- Project [split#468524, split(split#468524, : ', -1)[0] AS id#468526]\n",
      "            :                    +- Project [split#468524]\n",
      "            :                       +- Generate explode(split#468519), false, [split#468524]\n",
      "            :                          +- Project [split#468519]\n",
      "            :                             +- Project [Text_Index#468503, split(Text_Index#468503, ', , -1) AS split#468519]\n",
      "            :                                +- Project [Topic_Name#468501, URL#468502, Text_Index#468503, split(Network#468509, ,, -1) AS Network#468514]\n",
      "            :                                   +- Project [Topic_Name#468501, URL#468502, Text_Index#468503, regexp_replace(Network#468504, [\\[\\]\\'], , 1) AS Network#468509]\n",
      "            :                                      +- LogicalRDD [Topic_Name#468501, URL#468502, Text_Index#468503, Network#468504], false\n",
      "            +- Project [Explode#468553, split#468557, 1#468602, 2#468577]\n",
      "               +- Project [id#468538, text#468529, length_of_text#468541, num_of_words#468545, Explode#468553, split#468557, text#468529 AS 1#468602, 2#468577]\n",
      "                  +- Join RightOuter, (id#468538 = cast(1#468573 as int))\n",
      "                     :- Project [id#468538, text#468529, length_of_text#468541, array_size(split(text#468529,  , -1)) AS num_of_words#468545]\n",
      "                     :  +- Project [id#468538, text#468529, length(text#468529) AS length_of_text#468541]\n",
      "                     :     +- Project [cast(id#468535 as int) AS id#468538, text#468529]\n",
      "                     :        +- Project [regexp_replace(id#468526, [\\{\\}\"], , 1) AS id#468535, text#468529]\n",
      "                     :           +- Project [id#468526, text#468529]\n",
      "                     :              +- Project [split#468524, id#468526, split(split#468524, : ', -1)[1] AS text#468529]\n",
      "                     :                 +- Project [split#468524, split(split#468524, : ', -1)[0] AS id#468526]\n",
      "                     :                    +- Project [split#468524]\n",
      "                     :                       +- Generate explode(split#468519), false, [split#468524]\n",
      "                     :                          +- Project [split#468519]\n",
      "                     :                             +- Project [Text_Index#468617, split(Text_Index#468617, ', , -1) AS split#468519]\n",
      "                     :                                +- Project [Topic_Name#468615, URL#468616, Text_Index#468617, split(Network#468509, ,, -1) AS Network#468514]\n",
      "                     :                                   +- Project [Topic_Name#468615, URL#468616, Text_Index#468617, regexp_replace(Network#468618, [\\[\\]\\'], , 1) AS Network#468509]\n",
      "                     :                                      +- LogicalRDD [Topic_Name#468615, URL#468616, Text_Index#468617, Network#468618], false\n",
      "                     +- Project [Explode#468553, split#468557, 1#468573, split#468557[1] AS 2#468577]\n",
      "                        +- Project [Explode#468553, split#468557, split#468557[0] AS 1#468573]\n",
      "                           +- Project [Explode#468553, split(Explode#468553, ->, -1) AS split#468557]\n",
      "                              +- Project [Explode#468553]\n",
      "                                 +- Project [Network#468550, Explode#468553]\n",
      "                                    +- Generate explode(Network#468550), false, [Explode#468553]\n",
      "                                       +- Project [Network#468514 AS Network#468550]\n",
      "                                          +- Project [Topic_Name#468582, URL#468583, Text_Index#468584, split(Network#468509, ,, -1) AS Network#468514]\n",
      "                                             +- Project [Topic_Name#468582, URL#468583, Text_Index#468584, regexp_replace(Network#468585, [\\[\\]\\'], , 1) AS Network#468509]\n",
      "                                                +- LogicalRDD [Topic_Name#468582, URL#468583, Text_Index#468584, Network#468585], false\n",
      "\n"
     ]
    },
    {
     "name": "stderr",
     "output_type": "stream",
     "text": [
      " 40%|███▉      | 31/78 [00:54<01:03,  1.36s/it]"
     ]
    },
    {
     "name": "stdout",
     "output_type": "stream",
     "text": [
      "list index out of range\n"
     ]
    },
    {
     "name": "stderr",
     "output_type": "stream",
     "text": [
      " 54%|█████▍    | 42/78 [01:17<01:11,  1.99s/it]"
     ]
    },
    {
     "name": "stdout",
     "output_type": "stream",
     "text": [
      "local variable 'update_dict' referenced before assignment\n"
     ]
    },
    {
     "name": "stderr",
     "output_type": "stream",
     "text": [
      " 58%|█████▊    | 45/78 [01:22<00:51,  1.57s/it]"
     ]
    },
    {
     "name": "stdout",
     "output_type": "stream",
     "text": [
      "list index out of range\n"
     ]
    },
    {
     "name": "stderr",
     "output_type": "stream",
     "text": [
      " 64%|██████▍   | 50/78 [01:33<00:57,  2.04s/it]"
     ]
    },
    {
     "name": "stdout",
     "output_type": "stream",
     "text": [
      "local variable 'update_dict' referenced before assignment\n"
     ]
    },
    {
     "name": "stderr",
     "output_type": "stream",
     "text": [
      " 87%|████████▋ | 68/78 [02:07<00:16,  1.62s/it]"
     ]
    },
    {
     "name": "stdout",
     "output_type": "stream",
     "text": [
      "list index out of range\n"
     ]
    },
    {
     "name": "stderr",
     "output_type": "stream",
     "text": [
      " 92%|█████████▏| 72/78 [02:14<00:08,  1.44s/it]"
     ]
    },
    {
     "name": "stdout",
     "output_type": "stream",
     "text": [
      "list index out of range\n"
     ]
    },
    {
     "name": "stderr",
     "output_type": "stream",
     "text": [
      "100%|██████████| 78/78 [02:27<00:00,  1.89s/it]\n",
      "  5%|▌         | 4/74 [00:07<02:15,  1.93s/it]"
     ]
    },
    {
     "name": "stdout",
     "output_type": "stream",
     "text": [
      "local variable 'update_dict' referenced before assignment\n"
     ]
    },
    {
     "name": "stderr",
     "output_type": "stream",
     "text": [
      "  7%|▋         | 5/74 [00:08<01:35,  1.38s/it]"
     ]
    },
    {
     "name": "stdout",
     "output_type": "stream",
     "text": [
      "list index out of range\n"
     ]
    },
    {
     "name": "stderr",
     "output_type": "stream",
     "text": [
      "  8%|▊         | 6/74 [00:10<01:42,  1.50s/it]"
     ]
    },
    {
     "name": "stdout",
     "output_type": "stream",
     "text": [
      "local variable 'update_dict' referenced before assignment\n"
     ]
    },
    {
     "name": "stderr",
     "output_type": "stream",
     "text": [
      " 49%|████▊     | 36/74 [01:15<01:18,  2.07s/it]"
     ]
    },
    {
     "name": "stdout",
     "output_type": "stream",
     "text": [
      "local variable 'update_dict' referenced before assignment\n"
     ]
    },
    {
     "name": "stderr",
     "output_type": "stream",
     "text": [
      " 57%|█████▋    | 42/74 [01:26<00:53,  1.69s/it]"
     ]
    },
    {
     "name": "stdout",
     "output_type": "stream",
     "text": [
      "list index out of range\n"
     ]
    },
    {
     "name": "stderr",
     "output_type": "stream",
     "text": [
      " 82%|████████▏ | 61/74 [02:06<00:27,  2.11s/it]"
     ]
    },
    {
     "name": "stdout",
     "output_type": "stream",
     "text": [
      "local variable 'update_dict' referenced before assignment\n"
     ]
    },
    {
     "name": "stderr",
     "output_type": "stream",
     "text": [
      "100%|██████████| 74/74 [02:31<00:00,  2.05s/it]\n",
      " 10%|▉         | 7/71 [00:13<02:01,  1.91s/it]"
     ]
    },
    {
     "name": "stdout",
     "output_type": "stream",
     "text": [
      "local variable 'update_dict' referenced before assignment\n"
     ]
    },
    {
     "name": "stderr",
     "output_type": "stream",
     "text": [
      " 17%|█▋        | 12/71 [00:23<01:53,  1.92s/it]"
     ]
    },
    {
     "name": "stdout",
     "output_type": "stream",
     "text": [
      "local variable 'update_dict' referenced before assignment\n"
     ]
    },
    {
     "name": "stderr",
     "output_type": "stream",
     "text": [
      " 20%|█▉        | 14/71 [00:25<01:23,  1.47s/it]"
     ]
    },
    {
     "name": "stdout",
     "output_type": "stream",
     "text": [
      "[UNRESOLVED_COLUMN.WITH_SUGGESTION] A column or function parameter with name `3` cannot be resolved. Did you mean one of the following? [`1`, `2`].;\n",
      "'Filter NOT ('3 = NULL)\n",
      "+- Project [1#508606, 2#508639]\n",
      "   +- Project [Explode#508557, split#508561, 1#508606, 2#508639]\n",
      "      +- Project [id#508542, text#508533, length_of_text#508545, num_of_words#508549, Explode#508557, split#508561, 1#508606, text#508533 AS 2#508639]\n",
      "         +- Join RightOuter, (id#508542 = cast(2#508581 as int))\n",
      "            :- Project [id#508542, text#508533, length_of_text#508545, array_size(split(text#508533,  , -1)) AS num_of_words#508549]\n",
      "            :  +- Project [id#508542, text#508533, length(text#508533) AS length_of_text#508545]\n",
      "            :     +- Project [cast(id#508539 as int) AS id#508542, text#508533]\n",
      "            :        +- Project [regexp_replace(id#508530, [\\{\\}\"], , 1) AS id#508539, text#508533]\n",
      "            :           +- Project [id#508530, text#508533]\n",
      "            :              +- Project [split#508528, id#508530, split(split#508528, : ', -1)[1] AS text#508533]\n",
      "            :                 +- Project [split#508528, split(split#508528, : ', -1)[0] AS id#508530]\n",
      "            :                    +- Project [split#508528]\n",
      "            :                       +- Generate explode(split#508523), false, [split#508528]\n",
      "            :                          +- Project [split#508523]\n",
      "            :                             +- Project [Text_Index#508507, split(Text_Index#508507, ', , -1) AS split#508523]\n",
      "            :                                +- Project [Topic_Name#508505, URL#508506, Text_Index#508507, split(Network#508513, ,, -1) AS Network#508518]\n",
      "            :                                   +- Project [Topic_Name#508505, URL#508506, Text_Index#508507, regexp_replace(Network#508508, [\\[\\]\\'], , 1) AS Network#508513]\n",
      "            :                                      +- LogicalRDD [Topic_Name#508505, URL#508506, Text_Index#508507, Network#508508], false\n",
      "            +- Project [Explode#508557, split#508561, 1#508606, 2#508581]\n",
      "               +- Project [id#508542, text#508533, length_of_text#508545, num_of_words#508549, Explode#508557, split#508561, text#508533 AS 1#508606, 2#508581]\n",
      "                  +- Join RightOuter, (id#508542 = cast(1#508577 as int))\n",
      "                     :- Project [id#508542, text#508533, length_of_text#508545, array_size(split(text#508533,  , -1)) AS num_of_words#508549]\n",
      "                     :  +- Project [id#508542, text#508533, length(text#508533) AS length_of_text#508545]\n",
      "                     :     +- Project [cast(id#508539 as int) AS id#508542, text#508533]\n",
      "                     :        +- Project [regexp_replace(id#508530, [\\{\\}\"], , 1) AS id#508539, text#508533]\n",
      "                     :           +- Project [id#508530, text#508533]\n",
      "                     :              +- Project [split#508528, id#508530, split(split#508528, : ', -1)[1] AS text#508533]\n",
      "                     :                 +- Project [split#508528, split(split#508528, : ', -1)[0] AS id#508530]\n",
      "                     :                    +- Project [split#508528]\n",
      "                     :                       +- Generate explode(split#508523), false, [split#508528]\n",
      "                     :                          +- Project [split#508523]\n",
      "                     :                             +- Project [Text_Index#508621, split(Text_Index#508621, ', , -1) AS split#508523]\n",
      "                     :                                +- Project [Topic_Name#508619, URL#508620, Text_Index#508621, split(Network#508513, ,, -1) AS Network#508518]\n",
      "                     :                                   +- Project [Topic_Name#508619, URL#508620, Text_Index#508621, regexp_replace(Network#508622, [\\[\\]\\'], , 1) AS Network#508513]\n",
      "                     :                                      +- LogicalRDD [Topic_Name#508619, URL#508620, Text_Index#508621, Network#508622], false\n",
      "                     +- Project [Explode#508557, split#508561, 1#508577, split#508561[1] AS 2#508581]\n",
      "                        +- Project [Explode#508557, split#508561, split#508561[0] AS 1#508577]\n",
      "                           +- Project [Explode#508557, split(Explode#508557, ->, -1) AS split#508561]\n",
      "                              +- Project [Explode#508557]\n",
      "                                 +- Project [Network#508554, Explode#508557]\n",
      "                                    +- Generate explode(Network#508554), false, [Explode#508557]\n",
      "                                       +- Project [Network#508518 AS Network#508554]\n",
      "                                          +- Project [Topic_Name#508586, URL#508587, Text_Index#508588, split(Network#508513, ,, -1) AS Network#508518]\n",
      "                                             +- Project [Topic_Name#508586, URL#508587, Text_Index#508588, regexp_replace(Network#508589, [\\[\\]\\'], , 1) AS Network#508513]\n",
      "                                                +- LogicalRDD [Topic_Name#508586, URL#508587, Text_Index#508588, Network#508589], false\n",
      "\n"
     ]
    },
    {
     "name": "stderr",
     "output_type": "stream",
     "text": [
      " 21%|██        | 15/71 [00:28<01:35,  1.71s/it]"
     ]
    },
    {
     "name": "stdout",
     "output_type": "stream",
     "text": [
      "local variable 'update_dict' referenced before assignment\n"
     ]
    },
    {
     "name": "stderr",
     "output_type": "stream",
     "text": [
      " 28%|██▊       | 20/71 [00:38<01:36,  1.89s/it]"
     ]
    },
    {
     "name": "stdout",
     "output_type": "stream",
     "text": [
      "local variable 'update_dict' referenced before assignment\n"
     ]
    },
    {
     "name": "stderr",
     "output_type": "stream",
     "text": [
      " 52%|█████▏    | 37/71 [01:09<00:51,  1.52s/it]"
     ]
    },
    {
     "name": "stdout",
     "output_type": "stream",
     "text": [
      "[UNRESOLVED_COLUMN.WITH_SUGGESTION] A column or function parameter with name `3` cannot be resolved. Did you mean one of the following? [`1`, `2`].;\n",
      "'Filter NOT ('3 = NULL)\n",
      "+- Project [1#515273, 2#515306]\n",
      "   +- Project [Explode#515224, split#515228, 1#515273, 2#515306]\n",
      "      +- Project [id#515209, text#515200, length_of_text#515212, num_of_words#515216, Explode#515224, split#515228, 1#515273, text#515200 AS 2#515306]\n",
      "         +- Join RightOuter, (id#515209 = cast(2#515248 as int))\n",
      "            :- Project [id#515209, text#515200, length_of_text#515212, array_size(split(text#515200,  , -1)) AS num_of_words#515216]\n",
      "            :  +- Project [id#515209, text#515200, length(text#515200) AS length_of_text#515212]\n",
      "            :     +- Project [cast(id#515206 as int) AS id#515209, text#515200]\n",
      "            :        +- Project [regexp_replace(id#515197, [\\{\\}\"], , 1) AS id#515206, text#515200]\n",
      "            :           +- Project [id#515197, text#515200]\n",
      "            :              +- Project [split#515195, id#515197, split(split#515195, : ', -1)[1] AS text#515200]\n",
      "            :                 +- Project [split#515195, split(split#515195, : ', -1)[0] AS id#515197]\n",
      "            :                    +- Project [split#515195]\n",
      "            :                       +- Generate explode(split#515190), false, [split#515195]\n",
      "            :                          +- Project [split#515190]\n",
      "            :                             +- Project [Text_Index#515174, split(Text_Index#515174, ', , -1) AS split#515190]\n",
      "            :                                +- Project [Topic_Name#515172, URL#515173, Text_Index#515174, split(Network#515180, ,, -1) AS Network#515185]\n",
      "            :                                   +- Project [Topic_Name#515172, URL#515173, Text_Index#515174, regexp_replace(Network#515175, [\\[\\]\\'], , 1) AS Network#515180]\n",
      "            :                                      +- LogicalRDD [Topic_Name#515172, URL#515173, Text_Index#515174, Network#515175], false\n",
      "            +- Project [Explode#515224, split#515228, 1#515273, 2#515248]\n",
      "               +- Project [id#515209, text#515200, length_of_text#515212, num_of_words#515216, Explode#515224, split#515228, text#515200 AS 1#515273, 2#515248]\n",
      "                  +- Join RightOuter, (id#515209 = cast(1#515244 as int))\n",
      "                     :- Project [id#515209, text#515200, length_of_text#515212, array_size(split(text#515200,  , -1)) AS num_of_words#515216]\n",
      "                     :  +- Project [id#515209, text#515200, length(text#515200) AS length_of_text#515212]\n",
      "                     :     +- Project [cast(id#515206 as int) AS id#515209, text#515200]\n",
      "                     :        +- Project [regexp_replace(id#515197, [\\{\\}\"], , 1) AS id#515206, text#515200]\n",
      "                     :           +- Project [id#515197, text#515200]\n",
      "                     :              +- Project [split#515195, id#515197, split(split#515195, : ', -1)[1] AS text#515200]\n",
      "                     :                 +- Project [split#515195, split(split#515195, : ', -1)[0] AS id#515197]\n",
      "                     :                    +- Project [split#515195]\n",
      "                     :                       +- Generate explode(split#515190), false, [split#515195]\n",
      "                     :                          +- Project [split#515190]\n",
      "                     :                             +- Project [Text_Index#515288, split(Text_Index#515288, ', , -1) AS split#515190]\n",
      "                     :                                +- Project [Topic_Name#515286, URL#515287, Text_Index#515288, split(Network#515180, ,, -1) AS Network#515185]\n",
      "                     :                                   +- Project [Topic_Name#515286, URL#515287, Text_Index#515288, regexp_replace(Network#515289, [\\[\\]\\'], , 1) AS Network#515180]\n",
      "                     :                                      +- LogicalRDD [Topic_Name#515286, URL#515287, Text_Index#515288, Network#515289], false\n",
      "                     +- Project [Explode#515224, split#515228, 1#515244, split#515228[1] AS 2#515248]\n",
      "                        +- Project [Explode#515224, split#515228, split#515228[0] AS 1#515244]\n",
      "                           +- Project [Explode#515224, split(Explode#515224, ->, -1) AS split#515228]\n",
      "                              +- Project [Explode#515224]\n",
      "                                 +- Project [Network#515221, Explode#515224]\n",
      "                                    +- Generate explode(Network#515221), false, [Explode#515224]\n",
      "                                       +- Project [Network#515185 AS Network#515221]\n",
      "                                          +- Project [Topic_Name#515253, URL#515254, Text_Index#515255, split(Network#515180, ,, -1) AS Network#515185]\n",
      "                                             +- Project [Topic_Name#515253, URL#515254, Text_Index#515255, regexp_replace(Network#515256, [\\[\\]\\'], , 1) AS Network#515180]\n",
      "                                                +- LogicalRDD [Topic_Name#515253, URL#515254, Text_Index#515255, Network#515256], false\n",
      "\n"
     ]
    },
    {
     "name": "stderr",
     "output_type": "stream",
     "text": [
      " 55%|█████▍    | 39/71 [01:11<00:40,  1.25s/it]"
     ]
    },
    {
     "name": "stdout",
     "output_type": "stream",
     "text": [
      "[UNRESOLVED_COLUMN.WITH_SUGGESTION] A column or function parameter with name `3` cannot be resolved. Did you mean one of the following? [`1`, `2`].;\n",
      "'Filter NOT ('3 = NULL)\n",
      "+- Project [1#515684, 2#515717]\n",
      "   +- Project [Explode#515635, split#515639, 1#515684, 2#515717]\n",
      "      +- Project [id#515620, text#515611, length_of_text#515623, num_of_words#515627, Explode#515635, split#515639, 1#515684, text#515611 AS 2#515717]\n",
      "         +- Join RightOuter, (id#515620 = cast(2#515659 as int))\n",
      "            :- Project [id#515620, text#515611, length_of_text#515623, array_size(split(text#515611,  , -1)) AS num_of_words#515627]\n",
      "            :  +- Project [id#515620, text#515611, length(text#515611) AS length_of_text#515623]\n",
      "            :     +- Project [cast(id#515617 as int) AS id#515620, text#515611]\n",
      "            :        +- Project [regexp_replace(id#515608, [\\{\\}\"], , 1) AS id#515617, text#515611]\n",
      "            :           +- Project [id#515608, text#515611]\n",
      "            :              +- Project [split#515606, id#515608, split(split#515606, : ', -1)[1] AS text#515611]\n",
      "            :                 +- Project [split#515606, split(split#515606, : ', -1)[0] AS id#515608]\n",
      "            :                    +- Project [split#515606]\n",
      "            :                       +- Generate explode(split#515601), false, [split#515606]\n",
      "            :                          +- Project [split#515601]\n",
      "            :                             +- Project [Text_Index#515585, split(Text_Index#515585, ', , -1) AS split#515601]\n",
      "            :                                +- Project [Topic_Name#515583, URL#515584, Text_Index#515585, split(Network#515591, ,, -1) AS Network#515596]\n",
      "            :                                   +- Project [Topic_Name#515583, URL#515584, Text_Index#515585, regexp_replace(Network#515586, [\\[\\]\\'], , 1) AS Network#515591]\n",
      "            :                                      +- LogicalRDD [Topic_Name#515583, URL#515584, Text_Index#515585, Network#515586], false\n",
      "            +- Project [Explode#515635, split#515639, 1#515684, 2#515659]\n",
      "               +- Project [id#515620, text#515611, length_of_text#515623, num_of_words#515627, Explode#515635, split#515639, text#515611 AS 1#515684, 2#515659]\n",
      "                  +- Join RightOuter, (id#515620 = cast(1#515655 as int))\n",
      "                     :- Project [id#515620, text#515611, length_of_text#515623, array_size(split(text#515611,  , -1)) AS num_of_words#515627]\n",
      "                     :  +- Project [id#515620, text#515611, length(text#515611) AS length_of_text#515623]\n",
      "                     :     +- Project [cast(id#515617 as int) AS id#515620, text#515611]\n",
      "                     :        +- Project [regexp_replace(id#515608, [\\{\\}\"], , 1) AS id#515617, text#515611]\n",
      "                     :           +- Project [id#515608, text#515611]\n",
      "                     :              +- Project [split#515606, id#515608, split(split#515606, : ', -1)[1] AS text#515611]\n",
      "                     :                 +- Project [split#515606, split(split#515606, : ', -1)[0] AS id#515608]\n",
      "                     :                    +- Project [split#515606]\n",
      "                     :                       +- Generate explode(split#515601), false, [split#515606]\n",
      "                     :                          +- Project [split#515601]\n",
      "                     :                             +- Project [Text_Index#515699, split(Text_Index#515699, ', , -1) AS split#515601]\n",
      "                     :                                +- Project [Topic_Name#515697, URL#515698, Text_Index#515699, split(Network#515591, ,, -1) AS Network#515596]\n",
      "                     :                                   +- Project [Topic_Name#515697, URL#515698, Text_Index#515699, regexp_replace(Network#515700, [\\[\\]\\'], , 1) AS Network#515591]\n",
      "                     :                                      +- LogicalRDD [Topic_Name#515697, URL#515698, Text_Index#515699, Network#515700], false\n",
      "                     +- Project [Explode#515635, split#515639, 1#515655, split#515639[1] AS 2#515659]\n",
      "                        +- Project [Explode#515635, split#515639, split#515639[0] AS 1#515655]\n",
      "                           +- Project [Explode#515635, split(Explode#515635, ->, -1) AS split#515639]\n",
      "                              +- Project [Explode#515635]\n",
      "                                 +- Project [Network#515632, Explode#515635]\n",
      "                                    +- Generate explode(Network#515632), false, [Explode#515635]\n",
      "                                       +- Project [Network#515596 AS Network#515632]\n",
      "                                          +- Project [Topic_Name#515664, URL#515665, Text_Index#515666, split(Network#515591, ,, -1) AS Network#515596]\n",
      "                                             +- Project [Topic_Name#515664, URL#515665, Text_Index#515666, regexp_replace(Network#515667, [\\[\\]\\'], , 1) AS Network#515591]\n",
      "                                                +- LogicalRDD [Topic_Name#515664, URL#515665, Text_Index#515666, Network#515667], false\n",
      "\n"
     ]
    },
    {
     "name": "stderr",
     "output_type": "stream",
     "text": [
      " 56%|█████▋    | 40/71 [01:12<00:31,  1.02s/it]"
     ]
    },
    {
     "name": "stdout",
     "output_type": "stream",
     "text": [
      "[UNRESOLVED_COLUMN.WITH_SUGGESTION] A column or function parameter with name `3` cannot be resolved. Did you mean one of the following? [`1`, `2`].;\n",
      "'Filter NOT ('3 = NULL)\n",
      "+- Project [1#515833, 2#515866]\n",
      "   +- Project [Explode#515784, split#515788, 1#515833, 2#515866]\n",
      "      +- Project [id#515769, text#515760, length_of_text#515772, num_of_words#515776, Explode#515784, split#515788, 1#515833, text#515760 AS 2#515866]\n",
      "         +- Join RightOuter, (id#515769 = cast(2#515808 as int))\n",
      "            :- Project [id#515769, text#515760, length_of_text#515772, array_size(split(text#515760,  , -1)) AS num_of_words#515776]\n",
      "            :  +- Project [id#515769, text#515760, length(text#515760) AS length_of_text#515772]\n",
      "            :     +- Project [cast(id#515766 as int) AS id#515769, text#515760]\n",
      "            :        +- Project [regexp_replace(id#515757, [\\{\\}\"], , 1) AS id#515766, text#515760]\n",
      "            :           +- Project [id#515757, text#515760]\n",
      "            :              +- Project [split#515755, id#515757, split(split#515755, : ', -1)[1] AS text#515760]\n",
      "            :                 +- Project [split#515755, split(split#515755, : ', -1)[0] AS id#515757]\n",
      "            :                    +- Project [split#515755]\n",
      "            :                       +- Generate explode(split#515750), false, [split#515755]\n",
      "            :                          +- Project [split#515750]\n",
      "            :                             +- Project [Text_Index#515734, split(Text_Index#515734, ', , -1) AS split#515750]\n",
      "            :                                +- Project [Topic_Name#515732, URL#515733, Text_Index#515734, split(Network#515740, ,, -1) AS Network#515745]\n",
      "            :                                   +- Project [Topic_Name#515732, URL#515733, Text_Index#515734, regexp_replace(Network#515735, [\\[\\]\\'], , 1) AS Network#515740]\n",
      "            :                                      +- LogicalRDD [Topic_Name#515732, URL#515733, Text_Index#515734, Network#515735], false\n",
      "            +- Project [Explode#515784, split#515788, 1#515833, 2#515808]\n",
      "               +- Project [id#515769, text#515760, length_of_text#515772, num_of_words#515776, Explode#515784, split#515788, text#515760 AS 1#515833, 2#515808]\n",
      "                  +- Join RightOuter, (id#515769 = cast(1#515804 as int))\n",
      "                     :- Project [id#515769, text#515760, length_of_text#515772, array_size(split(text#515760,  , -1)) AS num_of_words#515776]\n",
      "                     :  +- Project [id#515769, text#515760, length(text#515760) AS length_of_text#515772]\n",
      "                     :     +- Project [cast(id#515766 as int) AS id#515769, text#515760]\n",
      "                     :        +- Project [regexp_replace(id#515757, [\\{\\}\"], , 1) AS id#515766, text#515760]\n",
      "                     :           +- Project [id#515757, text#515760]\n",
      "                     :              +- Project [split#515755, id#515757, split(split#515755, : ', -1)[1] AS text#515760]\n",
      "                     :                 +- Project [split#515755, split(split#515755, : ', -1)[0] AS id#515757]\n",
      "                     :                    +- Project [split#515755]\n",
      "                     :                       +- Generate explode(split#515750), false, [split#515755]\n",
      "                     :                          +- Project [split#515750]\n",
      "                     :                             +- Project [Text_Index#515848, split(Text_Index#515848, ', , -1) AS split#515750]\n",
      "                     :                                +- Project [Topic_Name#515846, URL#515847, Text_Index#515848, split(Network#515740, ,, -1) AS Network#515745]\n",
      "                     :                                   +- Project [Topic_Name#515846, URL#515847, Text_Index#515848, regexp_replace(Network#515849, [\\[\\]\\'], , 1) AS Network#515740]\n",
      "                     :                                      +- LogicalRDD [Topic_Name#515846, URL#515847, Text_Index#515848, Network#515849], false\n",
      "                     +- Project [Explode#515784, split#515788, 1#515804, split#515788[1] AS 2#515808]\n",
      "                        +- Project [Explode#515784, split#515788, split#515788[0] AS 1#515804]\n",
      "                           +- Project [Explode#515784, split(Explode#515784, ->, -1) AS split#515788]\n",
      "                              +- Project [Explode#515784]\n",
      "                                 +- Project [Network#515781, Explode#515784]\n",
      "                                    +- Generate explode(Network#515781), false, [Explode#515784]\n",
      "                                       +- Project [Network#515745 AS Network#515781]\n",
      "                                          +- Project [Topic_Name#515813, URL#515814, Text_Index#515815, split(Network#515740, ,, -1) AS Network#515745]\n",
      "                                             +- Project [Topic_Name#515813, URL#515814, Text_Index#515815, regexp_replace(Network#515816, [\\[\\]\\'], , 1) AS Network#515740]\n",
      "                                                +- LogicalRDD [Topic_Name#515813, URL#515814, Text_Index#515815, Network#515816], false\n",
      "\n"
     ]
    },
    {
     "name": "stderr",
     "output_type": "stream",
     "text": [
      " 59%|█████▉    | 42/71 [01:15<00:32,  1.11s/it]"
     ]
    },
    {
     "name": "stdout",
     "output_type": "stream",
     "text": [
      "list index out of range\n"
     ]
    },
    {
     "name": "stderr",
     "output_type": "stream",
     "text": [
      " 61%|██████    | 43/71 [01:15<00:25,  1.10it/s]"
     ]
    },
    {
     "name": "stdout",
     "output_type": "stream",
     "text": [
      "list index out of range\n"
     ]
    },
    {
     "name": "stderr",
     "output_type": "stream",
     "text": [
      " 65%|██████▍   | 46/71 [01:20<00:29,  1.17s/it]"
     ]
    },
    {
     "name": "stdout",
     "output_type": "stream",
     "text": [
      "list index out of range\n"
     ]
    },
    {
     "name": "stderr",
     "output_type": "stream",
     "text": [
      " 66%|██████▌   | 47/71 [01:20<00:22,  1.05it/s]"
     ]
    },
    {
     "name": "stdout",
     "output_type": "stream",
     "text": [
      "[UNRESOLVED_COLUMN.WITH_SUGGESTION] A column or function parameter with name `3` cannot be resolved. Did you mean one of the following? [`1`, `2`].;\n",
      "'Filter NOT ('3 = NULL)\n",
      "+- Project [1#517203, 2#517236]\n",
      "   +- Project [Explode#517154, split#517158, 1#517203, 2#517236]\n",
      "      +- Project [id#517139, text#517130, length_of_text#517142, num_of_words#517146, Explode#517154, split#517158, 1#517203, text#517130 AS 2#517236]\n",
      "         +- Join RightOuter, (id#517139 = cast(2#517178 as int))\n",
      "            :- Project [id#517139, text#517130, length_of_text#517142, array_size(split(text#517130,  , -1)) AS num_of_words#517146]\n",
      "            :  +- Project [id#517139, text#517130, length(text#517130) AS length_of_text#517142]\n",
      "            :     +- Project [cast(id#517136 as int) AS id#517139, text#517130]\n",
      "            :        +- Project [regexp_replace(id#517127, [\\{\\}\"], , 1) AS id#517136, text#517130]\n",
      "            :           +- Project [id#517127, text#517130]\n",
      "            :              +- Project [split#517125, id#517127, split(split#517125, : ', -1)[1] AS text#517130]\n",
      "            :                 +- Project [split#517125, split(split#517125, : ', -1)[0] AS id#517127]\n",
      "            :                    +- Project [split#517125]\n",
      "            :                       +- Generate explode(split#517120), false, [split#517125]\n",
      "            :                          +- Project [split#517120]\n",
      "            :                             +- Project [Text_Index#517104, split(Text_Index#517104, ', , -1) AS split#517120]\n",
      "            :                                +- Project [Topic_Name#517102, URL#517103, Text_Index#517104, split(Network#517110, ,, -1) AS Network#517115]\n",
      "            :                                   +- Project [Topic_Name#517102, URL#517103, Text_Index#517104, regexp_replace(Network#517105, [\\[\\]\\'], , 1) AS Network#517110]\n",
      "            :                                      +- LogicalRDD [Topic_Name#517102, URL#517103, Text_Index#517104, Network#517105], false\n",
      "            +- Project [Explode#517154, split#517158, 1#517203, 2#517178]\n",
      "               +- Project [id#517139, text#517130, length_of_text#517142, num_of_words#517146, Explode#517154, split#517158, text#517130 AS 1#517203, 2#517178]\n",
      "                  +- Join RightOuter, (id#517139 = cast(1#517174 as int))\n",
      "                     :- Project [id#517139, text#517130, length_of_text#517142, array_size(split(text#517130,  , -1)) AS num_of_words#517146]\n",
      "                     :  +- Project [id#517139, text#517130, length(text#517130) AS length_of_text#517142]\n",
      "                     :     +- Project [cast(id#517136 as int) AS id#517139, text#517130]\n",
      "                     :        +- Project [regexp_replace(id#517127, [\\{\\}\"], , 1) AS id#517136, text#517130]\n",
      "                     :           +- Project [id#517127, text#517130]\n",
      "                     :              +- Project [split#517125, id#517127, split(split#517125, : ', -1)[1] AS text#517130]\n",
      "                     :                 +- Project [split#517125, split(split#517125, : ', -1)[0] AS id#517127]\n",
      "                     :                    +- Project [split#517125]\n",
      "                     :                       +- Generate explode(split#517120), false, [split#517125]\n",
      "                     :                          +- Project [split#517120]\n",
      "                     :                             +- Project [Text_Index#517218, split(Text_Index#517218, ', , -1) AS split#517120]\n",
      "                     :                                +- Project [Topic_Name#517216, URL#517217, Text_Index#517218, split(Network#517110, ,, -1) AS Network#517115]\n",
      "                     :                                   +- Project [Topic_Name#517216, URL#517217, Text_Index#517218, regexp_replace(Network#517219, [\\[\\]\\'], , 1) AS Network#517110]\n",
      "                     :                                      +- LogicalRDD [Topic_Name#517216, URL#517217, Text_Index#517218, Network#517219], false\n",
      "                     +- Project [Explode#517154, split#517158, 1#517174, split#517158[1] AS 2#517178]\n",
      "                        +- Project [Explode#517154, split#517158, split#517158[0] AS 1#517174]\n",
      "                           +- Project [Explode#517154, split(Explode#517154, ->, -1) AS split#517158]\n",
      "                              +- Project [Explode#517154]\n",
      "                                 +- Project [Network#517151, Explode#517154]\n",
      "                                    +- Generate explode(Network#517151), false, [Explode#517154]\n",
      "                                       +- Project [Network#517115 AS Network#517151]\n",
      "                                          +- Project [Topic_Name#517183, URL#517184, Text_Index#517185, split(Network#517110, ,, -1) AS Network#517115]\n",
      "                                             +- Project [Topic_Name#517183, URL#517184, Text_Index#517185, regexp_replace(Network#517186, [\\[\\]\\'], , 1) AS Network#517110]\n",
      "                                                +- LogicalRDD [Topic_Name#517183, URL#517184, Text_Index#517185, Network#517186], false\n",
      "\n"
     ]
    },
    {
     "name": "stderr",
     "output_type": "stream",
     "text": [
      " 72%|███████▏  | 51/71 [01:26<00:24,  1.23s/it]"
     ]
    },
    {
     "name": "stdout",
     "output_type": "stream",
     "text": [
      "[UNRESOLVED_COLUMN.WITH_SUGGESTION] A column or function parameter with name `3` cannot be resolved. Did you mean one of the following? [`1`, `2`].;\n",
      "'Filter NOT ('3 = NULL)\n",
      "+- Project [1#518147, 2#518180]\n",
      "   +- Project [Explode#518098, split#518102, 1#518147, 2#518180]\n",
      "      +- Project [id#518083, text#518074, length_of_text#518086, num_of_words#518090, Explode#518098, split#518102, 1#518147, text#518074 AS 2#518180]\n",
      "         +- Join RightOuter, (id#518083 = cast(2#518122 as int))\n",
      "            :- Project [id#518083, text#518074, length_of_text#518086, array_size(split(text#518074,  , -1)) AS num_of_words#518090]\n",
      "            :  +- Project [id#518083, text#518074, length(text#518074) AS length_of_text#518086]\n",
      "            :     +- Project [cast(id#518080 as int) AS id#518083, text#518074]\n",
      "            :        +- Project [regexp_replace(id#518071, [\\{\\}\"], , 1) AS id#518080, text#518074]\n",
      "            :           +- Project [id#518071, text#518074]\n",
      "            :              +- Project [split#518069, id#518071, split(split#518069, : ', -1)[1] AS text#518074]\n",
      "            :                 +- Project [split#518069, split(split#518069, : ', -1)[0] AS id#518071]\n",
      "            :                    +- Project [split#518069]\n",
      "            :                       +- Generate explode(split#518064), false, [split#518069]\n",
      "            :                          +- Project [split#518064]\n",
      "            :                             +- Project [Text_Index#518048, split(Text_Index#518048, ', , -1) AS split#518064]\n",
      "            :                                +- Project [Topic_Name#518046, URL#518047, Text_Index#518048, split(Network#518054, ,, -1) AS Network#518059]\n",
      "            :                                   +- Project [Topic_Name#518046, URL#518047, Text_Index#518048, regexp_replace(Network#518049, [\\[\\]\\'], , 1) AS Network#518054]\n",
      "            :                                      +- LogicalRDD [Topic_Name#518046, URL#518047, Text_Index#518048, Network#518049], false\n",
      "            +- Project [Explode#518098, split#518102, 1#518147, 2#518122]\n",
      "               +- Project [id#518083, text#518074, length_of_text#518086, num_of_words#518090, Explode#518098, split#518102, text#518074 AS 1#518147, 2#518122]\n",
      "                  +- Join RightOuter, (id#518083 = cast(1#518118 as int))\n",
      "                     :- Project [id#518083, text#518074, length_of_text#518086, array_size(split(text#518074,  , -1)) AS num_of_words#518090]\n",
      "                     :  +- Project [id#518083, text#518074, length(text#518074) AS length_of_text#518086]\n",
      "                     :     +- Project [cast(id#518080 as int) AS id#518083, text#518074]\n",
      "                     :        +- Project [regexp_replace(id#518071, [\\{\\}\"], , 1) AS id#518080, text#518074]\n",
      "                     :           +- Project [id#518071, text#518074]\n",
      "                     :              +- Project [split#518069, id#518071, split(split#518069, : ', -1)[1] AS text#518074]\n",
      "                     :                 +- Project [split#518069, split(split#518069, : ', -1)[0] AS id#518071]\n",
      "                     :                    +- Project [split#518069]\n",
      "                     :                       +- Generate explode(split#518064), false, [split#518069]\n",
      "                     :                          +- Project [split#518064]\n",
      "                     :                             +- Project [Text_Index#518162, split(Text_Index#518162, ', , -1) AS split#518064]\n",
      "                     :                                +- Project [Topic_Name#518160, URL#518161, Text_Index#518162, split(Network#518054, ,, -1) AS Network#518059]\n",
      "                     :                                   +- Project [Topic_Name#518160, URL#518161, Text_Index#518162, regexp_replace(Network#518163, [\\[\\]\\'], , 1) AS Network#518054]\n",
      "                     :                                      +- LogicalRDD [Topic_Name#518160, URL#518161, Text_Index#518162, Network#518163], false\n",
      "                     +- Project [Explode#518098, split#518102, 1#518118, split#518102[1] AS 2#518122]\n",
      "                        +- Project [Explode#518098, split#518102, split#518102[0] AS 1#518118]\n",
      "                           +- Project [Explode#518098, split(Explode#518098, ->, -1) AS split#518102]\n",
      "                              +- Project [Explode#518098]\n",
      "                                 +- Project [Network#518095, Explode#518098]\n",
      "                                    +- Generate explode(Network#518095), false, [Explode#518098]\n",
      "                                       +- Project [Network#518059 AS Network#518095]\n",
      "                                          +- Project [Topic_Name#518127, URL#518128, Text_Index#518129, split(Network#518054, ,, -1) AS Network#518059]\n",
      "                                             +- Project [Topic_Name#518127, URL#518128, Text_Index#518129, regexp_replace(Network#518130, [\\[\\]\\'], , 1) AS Network#518054]\n",
      "                                                +- LogicalRDD [Topic_Name#518127, URL#518128, Text_Index#518129, Network#518130], false\n",
      "\n"
     ]
    },
    {
     "name": "stderr",
     "output_type": "stream",
     "text": [
      " 73%|███████▎  | 52/71 [01:27<00:19,  1.02s/it]"
     ]
    },
    {
     "name": "stdout",
     "output_type": "stream",
     "text": [
      "[UNRESOLVED_COLUMN.WITH_SUGGESTION] A column or function parameter with name `3` cannot be resolved. Did you mean one of the following? [`1`, `2`].;\n",
      "'Filter NOT ('3 = NULL)\n",
      "+- Project [1#518296, 2#518329]\n",
      "   +- Project [Explode#518247, split#518251, 1#518296, 2#518329]\n",
      "      +- Project [id#518232, text#518223, length_of_text#518235, num_of_words#518239, Explode#518247, split#518251, 1#518296, text#518223 AS 2#518329]\n",
      "         +- Join RightOuter, (id#518232 = cast(2#518271 as int))\n",
      "            :- Project [id#518232, text#518223, length_of_text#518235, array_size(split(text#518223,  , -1)) AS num_of_words#518239]\n",
      "            :  +- Project [id#518232, text#518223, length(text#518223) AS length_of_text#518235]\n",
      "            :     +- Project [cast(id#518229 as int) AS id#518232, text#518223]\n",
      "            :        +- Project [regexp_replace(id#518220, [\\{\\}\"], , 1) AS id#518229, text#518223]\n",
      "            :           +- Project [id#518220, text#518223]\n",
      "            :              +- Project [split#518218, id#518220, split(split#518218, : ', -1)[1] AS text#518223]\n",
      "            :                 +- Project [split#518218, split(split#518218, : ', -1)[0] AS id#518220]\n",
      "            :                    +- Project [split#518218]\n",
      "            :                       +- Generate explode(split#518213), false, [split#518218]\n",
      "            :                          +- Project [split#518213]\n",
      "            :                             +- Project [Text_Index#518197, split(Text_Index#518197, ', , -1) AS split#518213]\n",
      "            :                                +- Project [Topic_Name#518195, URL#518196, Text_Index#518197, split(Network#518203, ,, -1) AS Network#518208]\n",
      "            :                                   +- Project [Topic_Name#518195, URL#518196, Text_Index#518197, regexp_replace(Network#518198, [\\[\\]\\'], , 1) AS Network#518203]\n",
      "            :                                      +- LogicalRDD [Topic_Name#518195, URL#518196, Text_Index#518197, Network#518198], false\n",
      "            +- Project [Explode#518247, split#518251, 1#518296, 2#518271]\n",
      "               +- Project [id#518232, text#518223, length_of_text#518235, num_of_words#518239, Explode#518247, split#518251, text#518223 AS 1#518296, 2#518271]\n",
      "                  +- Join RightOuter, (id#518232 = cast(1#518267 as int))\n",
      "                     :- Project [id#518232, text#518223, length_of_text#518235, array_size(split(text#518223,  , -1)) AS num_of_words#518239]\n",
      "                     :  +- Project [id#518232, text#518223, length(text#518223) AS length_of_text#518235]\n",
      "                     :     +- Project [cast(id#518229 as int) AS id#518232, text#518223]\n",
      "                     :        +- Project [regexp_replace(id#518220, [\\{\\}\"], , 1) AS id#518229, text#518223]\n",
      "                     :           +- Project [id#518220, text#518223]\n",
      "                     :              +- Project [split#518218, id#518220, split(split#518218, : ', -1)[1] AS text#518223]\n",
      "                     :                 +- Project [split#518218, split(split#518218, : ', -1)[0] AS id#518220]\n",
      "                     :                    +- Project [split#518218]\n",
      "                     :                       +- Generate explode(split#518213), false, [split#518218]\n",
      "                     :                          +- Project [split#518213]\n",
      "                     :                             +- Project [Text_Index#518311, split(Text_Index#518311, ', , -1) AS split#518213]\n",
      "                     :                                +- Project [Topic_Name#518309, URL#518310, Text_Index#518311, split(Network#518203, ,, -1) AS Network#518208]\n",
      "                     :                                   +- Project [Topic_Name#518309, URL#518310, Text_Index#518311, regexp_replace(Network#518312, [\\[\\]\\'], , 1) AS Network#518203]\n",
      "                     :                                      +- LogicalRDD [Topic_Name#518309, URL#518310, Text_Index#518311, Network#518312], false\n",
      "                     +- Project [Explode#518247, split#518251, 1#518267, split#518251[1] AS 2#518271]\n",
      "                        +- Project [Explode#518247, split#518251, split#518251[0] AS 1#518267]\n",
      "                           +- Project [Explode#518247, split(Explode#518247, ->, -1) AS split#518251]\n",
      "                              +- Project [Explode#518247]\n",
      "                                 +- Project [Network#518244, Explode#518247]\n",
      "                                    +- Generate explode(Network#518244), false, [Explode#518247]\n",
      "                                       +- Project [Network#518208 AS Network#518244]\n",
      "                                          +- Project [Topic_Name#518276, URL#518277, Text_Index#518278, split(Network#518203, ,, -1) AS Network#518208]\n",
      "                                             +- Project [Topic_Name#518276, URL#518277, Text_Index#518278, regexp_replace(Network#518279, [\\[\\]\\'], , 1) AS Network#518203]\n",
      "                                                +- LogicalRDD [Topic_Name#518276, URL#518277, Text_Index#518278, Network#518279], false\n",
      "\n"
     ]
    },
    {
     "name": "stderr",
     "output_type": "stream",
     "text": [
      " 77%|███████▋  | 55/71 [01:34<00:29,  1.86s/it]"
     ]
    },
    {
     "name": "stdout",
     "output_type": "stream",
     "text": [
      "local variable 'update_dict' referenced before assignment\n"
     ]
    },
    {
     "name": "stderr",
     "output_type": "stream",
     "text": [
      " 80%|████████  | 57/71 [01:38<00:29,  2.10s/it]"
     ]
    },
    {
     "name": "stdout",
     "output_type": "stream",
     "text": [
      "local variable 'update_dict' referenced before assignment\n"
     ]
    },
    {
     "name": "stderr",
     "output_type": "stream",
     "text": [
      " 82%|████████▏ | 58/71 [01:40<00:25,  1.97s/it]"
     ]
    },
    {
     "name": "stdout",
     "output_type": "stream",
     "text": [
      "local variable 'update_dict' referenced before assignment\n"
     ]
    },
    {
     "name": "stderr",
     "output_type": "stream",
     "text": [
      " 83%|████████▎ | 59/71 [01:42<00:23,  1.98s/it]"
     ]
    },
    {
     "name": "stdout",
     "output_type": "stream",
     "text": [
      "local variable 'update_dict' referenced before assignment\n"
     ]
    },
    {
     "name": "stderr",
     "output_type": "stream",
     "text": [
      " 86%|████████▌ | 61/71 [01:46<00:20,  2.02s/it]"
     ]
    },
    {
     "name": "stdout",
     "output_type": "stream",
     "text": [
      "local variable 'update_dict' referenced before assignment\n"
     ]
    },
    {
     "name": "stderr",
     "output_type": "stream",
     "text": [
      " 87%|████████▋ | 62/71 [01:48<00:19,  2.13s/it]"
     ]
    },
    {
     "name": "stdout",
     "output_type": "stream",
     "text": [
      "local variable 'update_dict' referenced before assignment\n"
     ]
    },
    {
     "name": "stderr",
     "output_type": "stream",
     "text": [
      " 89%|████████▊ | 63/71 [01:49<00:13,  1.63s/it]"
     ]
    },
    {
     "name": "stdout",
     "output_type": "stream",
     "text": [
      "list index out of range\n"
     ]
    },
    {
     "name": "stderr",
     "output_type": "stream",
     "text": [
      "100%|██████████| 71/71 [02:04<00:00,  1.76s/it]\n",
      " 18%|█▊        | 13/71 [00:25<01:55,  1.98s/it]"
     ]
    },
    {
     "name": "stdout",
     "output_type": "stream",
     "text": [
      "local variable 'update_dict' referenced before assignment\n"
     ]
    },
    {
     "name": "stderr",
     "output_type": "stream",
     "text": [
      " 23%|██▎       | 16/71 [00:30<01:33,  1.70s/it]"
     ]
    },
    {
     "name": "stdout",
     "output_type": "stream",
     "text": [
      "[UNRESOLVED_COLUMN.WITH_SUGGESTION] A column or function parameter with name `3` cannot be resolved. Did you mean one of the following? [`1`].;\n",
      "'Filter NOT ('3 = NULL)\n",
      "+- Project [1#528133]\n",
      "   +- Project [Explode#528091, split#528095, 1#528133]\n",
      "      +- Project [id#528076, text#528067, length_of_text#528079, num_of_words#528083, Explode#528091, split#528095, text#528067 AS 1#528133]\n",
      "         +- Join RightOuter, (id#528076 = cast(1#528111 as int))\n",
      "            :- Project [id#528076, text#528067, length_of_text#528079, array_size(split(text#528067,  , -1)) AS num_of_words#528083]\n",
      "            :  +- Project [id#528076, text#528067, length(text#528067) AS length_of_text#528079]\n",
      "            :     +- Project [cast(id#528073 as int) AS id#528076, text#528067]\n",
      "            :        +- Project [regexp_replace(id#528064, [\\{\\}\"], , 1) AS id#528073, text#528067]\n",
      "            :           +- Project [id#528064, text#528067]\n",
      "            :              +- Project [split#528062, id#528064, split(split#528062, : ', -1)[1] AS text#528067]\n",
      "            :                 +- Project [split#528062, split(split#528062, : ', -1)[0] AS id#528064]\n",
      "            :                    +- Project [split#528062]\n",
      "            :                       +- Generate explode(split#528057), false, [split#528062]\n",
      "            :                          +- Project [split#528057]\n",
      "            :                             +- Project [Text_Index#528041, split(Text_Index#528041, ', , -1) AS split#528057]\n",
      "            :                                +- Project [Topic_Name#528039, URL#528040, Text_Index#528041, split(Network#528047, ,, -1) AS Network#528052]\n",
      "            :                                   +- Project [Topic_Name#528039, URL#528040, Text_Index#528041, regexp_replace(Network#528042, [\\[\\]\\'], , 1) AS Network#528047]\n",
      "            :                                      +- LogicalRDD [Topic_Name#528039, URL#528040, Text_Index#528041, Network#528042], false\n",
      "            +- Project [Explode#528091, split#528095, split#528095[0] AS 1#528111]\n",
      "               +- Project [Explode#528091, split(Explode#528091, ->, -1) AS split#528095]\n",
      "                  +- Project [Explode#528091]\n",
      "                     +- Project [Network#528088, Explode#528091]\n",
      "                        +- Generate explode(Network#528088), false, [Explode#528091]\n",
      "                           +- Project [Network#528052 AS Network#528088]\n",
      "                              +- Project [Topic_Name#528115, URL#528116, Text_Index#528117, split(Network#528047, ,, -1) AS Network#528052]\n",
      "                                 +- Project [Topic_Name#528115, URL#528116, Text_Index#528117, regexp_replace(Network#528118, [\\[\\]\\'], , 1) AS Network#528047]\n",
      "                                    +- LogicalRDD [Topic_Name#528115, URL#528116, Text_Index#528117, Network#528118], false\n",
      "\n"
     ]
    },
    {
     "name": "stderr",
     "output_type": "stream",
     "text": [
      " 24%|██▍       | 17/71 [00:32<01:37,  1.80s/it]"
     ]
    },
    {
     "name": "stdout",
     "output_type": "stream",
     "text": [
      "local variable 'update_dict' referenced before assignment\n"
     ]
    },
    {
     "name": "stderr",
     "output_type": "stream",
     "text": [
      " 46%|████▋     | 33/71 [01:04<01:14,  1.95s/it]"
     ]
    },
    {
     "name": "stdout",
     "output_type": "stream",
     "text": [
      "local variable 'update_dict' referenced before assignment\n"
     ]
    },
    {
     "name": "stderr",
     "output_type": "stream",
     "text": [
      " 48%|████▊     | 34/71 [01:06<01:10,  1.92s/it]"
     ]
    },
    {
     "name": "stdout",
     "output_type": "stream",
     "text": [
      "local variable 'update_dict' referenced before assignment\n"
     ]
    },
    {
     "name": "stderr",
     "output_type": "stream",
     "text": [
      " 49%|████▉     | 35/71 [01:08<01:08,  1.91s/it]"
     ]
    },
    {
     "name": "stdout",
     "output_type": "stream",
     "text": [
      "local variable 'update_dict' referenced before assignment\n"
     ]
    },
    {
     "name": "stderr",
     "output_type": "stream",
     "text": [
      " 52%|█████▏    | 37/71 [01:12<01:03,  1.87s/it]"
     ]
    },
    {
     "name": "stdout",
     "output_type": "stream",
     "text": [
      "local variable 'update_dict' referenced before assignment\n"
     ]
    },
    {
     "name": "stderr",
     "output_type": "stream",
     "text": [
      " 55%|█████▍    | 39/71 [01:16<01:04,  2.03s/it]"
     ]
    },
    {
     "name": "stdout",
     "output_type": "stream",
     "text": [
      "local variable 'update_dict' referenced before assignment\n"
     ]
    },
    {
     "name": "stderr",
     "output_type": "stream",
     "text": [
      " 56%|█████▋    | 40/71 [01:18<01:01,  2.00s/it]"
     ]
    },
    {
     "name": "stdout",
     "output_type": "stream",
     "text": [
      "local variable 'update_dict' referenced before assignment\n"
     ]
    },
    {
     "name": "stderr",
     "output_type": "stream",
     "text": [
      " 61%|██████    | 43/71 [01:23<00:43,  1.57s/it]"
     ]
    },
    {
     "name": "stdout",
     "output_type": "stream",
     "text": [
      "list index out of range\n"
     ]
    },
    {
     "name": "stderr",
     "output_type": "stream",
     "text": [
      " 75%|███████▍  | 53/71 [01:44<00:37,  2.09s/it]"
     ]
    },
    {
     "name": "stdout",
     "output_type": "stream",
     "text": [
      "local variable 'update_dict' referenced before assignment\n"
     ]
    },
    {
     "name": "stderr",
     "output_type": "stream",
     "text": [
      " 79%|███████▉  | 56/71 [01:49<00:24,  1.66s/it]"
     ]
    },
    {
     "name": "stdout",
     "output_type": "stream",
     "text": [
      "list index out of range\n"
     ]
    },
    {
     "name": "stderr",
     "output_type": "stream",
     "text": [
      " 87%|████████▋ | 62/71 [02:00<00:13,  1.53s/it]"
     ]
    },
    {
     "name": "stdout",
     "output_type": "stream",
     "text": [
      "[UNRESOLVED_COLUMN.WITH_SUGGESTION] A column or function parameter with name `3` cannot be resolved. Did you mean one of the following? [`1`, `2`].;\n",
      "'Filter NOT ('3 = NULL)\n",
      "+- Project [1#541024, 2#541057]\n",
      "   +- Project [Explode#540975, split#540979, 1#541024, 2#541057]\n",
      "      +- Project [id#540960, text#540951, length_of_text#540963, num_of_words#540967, Explode#540975, split#540979, 1#541024, text#540951 AS 2#541057]\n",
      "         +- Join RightOuter, (id#540960 = cast(2#540999 as int))\n",
      "            :- Project [id#540960, text#540951, length_of_text#540963, array_size(split(text#540951,  , -1)) AS num_of_words#540967]\n",
      "            :  +- Project [id#540960, text#540951, length(text#540951) AS length_of_text#540963]\n",
      "            :     +- Project [cast(id#540957 as int) AS id#540960, text#540951]\n",
      "            :        +- Project [regexp_replace(id#540948, [\\{\\}\"], , 1) AS id#540957, text#540951]\n",
      "            :           +- Project [id#540948, text#540951]\n",
      "            :              +- Project [split#540946, id#540948, split(split#540946, : ', -1)[1] AS text#540951]\n",
      "            :                 +- Project [split#540946, split(split#540946, : ', -1)[0] AS id#540948]\n",
      "            :                    +- Project [split#540946]\n",
      "            :                       +- Generate explode(split#540941), false, [split#540946]\n",
      "            :                          +- Project [split#540941]\n",
      "            :                             +- Project [Text_Index#540925, split(Text_Index#540925, ', , -1) AS split#540941]\n",
      "            :                                +- Project [Topic_Name#540923, URL#540924, Text_Index#540925, split(Network#540931, ,, -1) AS Network#540936]\n",
      "            :                                   +- Project [Topic_Name#540923, URL#540924, Text_Index#540925, regexp_replace(Network#540926, [\\[\\]\\'], , 1) AS Network#540931]\n",
      "            :                                      +- LogicalRDD [Topic_Name#540923, URL#540924, Text_Index#540925, Network#540926], false\n",
      "            +- Project [Explode#540975, split#540979, 1#541024, 2#540999]\n",
      "               +- Project [id#540960, text#540951, length_of_text#540963, num_of_words#540967, Explode#540975, split#540979, text#540951 AS 1#541024, 2#540999]\n",
      "                  +- Join RightOuter, (id#540960 = cast(1#540995 as int))\n",
      "                     :- Project [id#540960, text#540951, length_of_text#540963, array_size(split(text#540951,  , -1)) AS num_of_words#540967]\n",
      "                     :  +- Project [id#540960, text#540951, length(text#540951) AS length_of_text#540963]\n",
      "                     :     +- Project [cast(id#540957 as int) AS id#540960, text#540951]\n",
      "                     :        +- Project [regexp_replace(id#540948, [\\{\\}\"], , 1) AS id#540957, text#540951]\n",
      "                     :           +- Project [id#540948, text#540951]\n",
      "                     :              +- Project [split#540946, id#540948, split(split#540946, : ', -1)[1] AS text#540951]\n",
      "                     :                 +- Project [split#540946, split(split#540946, : ', -1)[0] AS id#540948]\n",
      "                     :                    +- Project [split#540946]\n",
      "                     :                       +- Generate explode(split#540941), false, [split#540946]\n",
      "                     :                          +- Project [split#540941]\n",
      "                     :                             +- Project [Text_Index#541039, split(Text_Index#541039, ', , -1) AS split#540941]\n",
      "                     :                                +- Project [Topic_Name#541037, URL#541038, Text_Index#541039, split(Network#540931, ,, -1) AS Network#540936]\n",
      "                     :                                   +- Project [Topic_Name#541037, URL#541038, Text_Index#541039, regexp_replace(Network#541040, [\\[\\]\\'], , 1) AS Network#540931]\n",
      "                     :                                      +- LogicalRDD [Topic_Name#541037, URL#541038, Text_Index#541039, Network#541040], false\n",
      "                     +- Project [Explode#540975, split#540979, 1#540995, split#540979[1] AS 2#540999]\n",
      "                        +- Project [Explode#540975, split#540979, split#540979[0] AS 1#540995]\n",
      "                           +- Project [Explode#540975, split(Explode#540975, ->, -1) AS split#540979]\n",
      "                              +- Project [Explode#540975]\n",
      "                                 +- Project [Network#540972, Explode#540975]\n",
      "                                    +- Generate explode(Network#540972), false, [Explode#540975]\n",
      "                                       +- Project [Network#540936 AS Network#540972]\n",
      "                                          +- Project [Topic_Name#541004, URL#541005, Text_Index#541006, split(Network#540931, ,, -1) AS Network#540936]\n",
      "                                             +- Project [Topic_Name#541004, URL#541005, Text_Index#541006, regexp_replace(Network#541007, [\\[\\]\\'], , 1) AS Network#540931]\n",
      "                                                +- LogicalRDD [Topic_Name#541004, URL#541005, Text_Index#541006, Network#541007], false\n",
      "\n"
     ]
    },
    {
     "name": "stderr",
     "output_type": "stream",
     "text": [
      " 94%|█████████▍| 67/71 [02:09<00:06,  1.61s/it]"
     ]
    },
    {
     "name": "stdout",
     "output_type": "stream",
     "text": [
      "[UNRESOLVED_COLUMN.WITH_SUGGESTION] A column or function parameter with name `3` cannot be resolved. Did you mean one of the following? [`1`, `2`].;\n",
      "'Filter NOT ('3 = NULL)\n",
      "+- Project [1#542300, 2#542333]\n",
      "   +- Project [Explode#542251, split#542255, 1#542300, 2#542333]\n",
      "      +- Project [id#542236, text#542227, length_of_text#542239, num_of_words#542243, Explode#542251, split#542255, 1#542300, text#542227 AS 2#542333]\n",
      "         +- Join RightOuter, (id#542236 = cast(2#542275 as int))\n",
      "            :- Project [id#542236, text#542227, length_of_text#542239, array_size(split(text#542227,  , -1)) AS num_of_words#542243]\n",
      "            :  +- Project [id#542236, text#542227, length(text#542227) AS length_of_text#542239]\n",
      "            :     +- Project [cast(id#542233 as int) AS id#542236, text#542227]\n",
      "            :        +- Project [regexp_replace(id#542224, [\\{\\}\"], , 1) AS id#542233, text#542227]\n",
      "            :           +- Project [id#542224, text#542227]\n",
      "            :              +- Project [split#542222, id#542224, split(split#542222, : ', -1)[1] AS text#542227]\n",
      "            :                 +- Project [split#542222, split(split#542222, : ', -1)[0] AS id#542224]\n",
      "            :                    +- Project [split#542222]\n",
      "            :                       +- Generate explode(split#542217), false, [split#542222]\n",
      "            :                          +- Project [split#542217]\n",
      "            :                             +- Project [Text_Index#542201, split(Text_Index#542201, ', , -1) AS split#542217]\n",
      "            :                                +- Project [Topic_Name#542199, URL#542200, Text_Index#542201, split(Network#542207, ,, -1) AS Network#542212]\n",
      "            :                                   +- Project [Topic_Name#542199, URL#542200, Text_Index#542201, regexp_replace(Network#542202, [\\[\\]\\'], , 1) AS Network#542207]\n",
      "            :                                      +- LogicalRDD [Topic_Name#542199, URL#542200, Text_Index#542201, Network#542202], false\n",
      "            +- Project [Explode#542251, split#542255, 1#542300, 2#542275]\n",
      "               +- Project [id#542236, text#542227, length_of_text#542239, num_of_words#542243, Explode#542251, split#542255, text#542227 AS 1#542300, 2#542275]\n",
      "                  +- Join RightOuter, (id#542236 = cast(1#542271 as int))\n",
      "                     :- Project [id#542236, text#542227, length_of_text#542239, array_size(split(text#542227,  , -1)) AS num_of_words#542243]\n",
      "                     :  +- Project [id#542236, text#542227, length(text#542227) AS length_of_text#542239]\n",
      "                     :     +- Project [cast(id#542233 as int) AS id#542236, text#542227]\n",
      "                     :        +- Project [regexp_replace(id#542224, [\\{\\}\"], , 1) AS id#542233, text#542227]\n",
      "                     :           +- Project [id#542224, text#542227]\n",
      "                     :              +- Project [split#542222, id#542224, split(split#542222, : ', -1)[1] AS text#542227]\n",
      "                     :                 +- Project [split#542222, split(split#542222, : ', -1)[0] AS id#542224]\n",
      "                     :                    +- Project [split#542222]\n",
      "                     :                       +- Generate explode(split#542217), false, [split#542222]\n",
      "                     :                          +- Project [split#542217]\n",
      "                     :                             +- Project [Text_Index#542315, split(Text_Index#542315, ', , -1) AS split#542217]\n",
      "                     :                                +- Project [Topic_Name#542313, URL#542314, Text_Index#542315, split(Network#542207, ,, -1) AS Network#542212]\n",
      "                     :                                   +- Project [Topic_Name#542313, URL#542314, Text_Index#542315, regexp_replace(Network#542316, [\\[\\]\\'], , 1) AS Network#542207]\n",
      "                     :                                      +- LogicalRDD [Topic_Name#542313, URL#542314, Text_Index#542315, Network#542316], false\n",
      "                     +- Project [Explode#542251, split#542255, 1#542271, split#542255[1] AS 2#542275]\n",
      "                        +- Project [Explode#542251, split#542255, split#542255[0] AS 1#542271]\n",
      "                           +- Project [Explode#542251, split(Explode#542251, ->, -1) AS split#542255]\n",
      "                              +- Project [Explode#542251]\n",
      "                                 +- Project [Network#542248, Explode#542251]\n",
      "                                    +- Generate explode(Network#542248), false, [Explode#542251]\n",
      "                                       +- Project [Network#542212 AS Network#542248]\n",
      "                                          +- Project [Topic_Name#542280, URL#542281, Text_Index#542282, split(Network#542207, ,, -1) AS Network#542212]\n",
      "                                             +- Project [Topic_Name#542280, URL#542281, Text_Index#542282, regexp_replace(Network#542283, [\\[\\]\\'], , 1) AS Network#542207]\n",
      "                                                +- LogicalRDD [Topic_Name#542280, URL#542281, Text_Index#542282, Network#542283], false\n",
      "\n"
     ]
    },
    {
     "name": "stderr",
     "output_type": "stream",
     "text": [
      "100%|██████████| 71/71 [02:17<00:00,  1.94s/it]\n",
      "  4%|▍         | 3/78 [00:05<02:16,  1.82s/it]"
     ]
    },
    {
     "name": "stdout",
     "output_type": "stream",
     "text": [
      "local variable 'update_dict' referenced before assignment\n"
     ]
    },
    {
     "name": "stderr",
     "output_type": "stream",
     "text": [
      "  6%|▋         | 5/78 [00:09<02:13,  1.83s/it]"
     ]
    },
    {
     "name": "stdout",
     "output_type": "stream",
     "text": [
      "local variable 'update_dict' referenced before assignment\n"
     ]
    },
    {
     "name": "stderr",
     "output_type": "stream",
     "text": [
      " 14%|█▍        | 11/78 [00:18<01:33,  1.40s/it]"
     ]
    },
    {
     "name": "stdout",
     "output_type": "stream",
     "text": [
      "list index out of range\n"
     ]
    },
    {
     "name": "stderr",
     "output_type": "stream",
     "text": [
      " 21%|██        | 16/78 [00:28<02:00,  1.94s/it]"
     ]
    },
    {
     "name": "stdout",
     "output_type": "stream",
     "text": [
      "local variable 'update_dict' referenced before assignment\n"
     ]
    },
    {
     "name": "stderr",
     "output_type": "stream",
     "text": [
      " 22%|██▏       | 17/78 [00:29<01:56,  1.91s/it]"
     ]
    },
    {
     "name": "stdout",
     "output_type": "stream",
     "text": [
      "local variable 'update_dict' referenced before assignment\n"
     ]
    },
    {
     "name": "stderr",
     "output_type": "stream",
     "text": [
      " 24%|██▍       | 19/78 [00:34<01:57,  2.00s/it]"
     ]
    },
    {
     "name": "stdout",
     "output_type": "stream",
     "text": [
      "local variable 'update_dict' referenced before assignment\n"
     ]
    },
    {
     "name": "stderr",
     "output_type": "stream",
     "text": [
      " 26%|██▌       | 20/78 [00:36<01:57,  2.03s/it]"
     ]
    },
    {
     "name": "stdout",
     "output_type": "stream",
     "text": [
      "local variable 'update_dict' referenced before assignment\n"
     ]
    },
    {
     "name": "stderr",
     "output_type": "stream",
     "text": [
      " 28%|██▊       | 22/78 [00:39<01:46,  1.90s/it]"
     ]
    },
    {
     "name": "stdout",
     "output_type": "stream",
     "text": [
      "local variable 'update_dict' referenced before assignment\n"
     ]
    },
    {
     "name": "stderr",
     "output_type": "stream",
     "text": [
      " 41%|████      | 32/78 [00:58<01:10,  1.54s/it]"
     ]
    },
    {
     "name": "stdout",
     "output_type": "stream",
     "text": [
      "list index out of range\n"
     ]
    },
    {
     "name": "stderr",
     "output_type": "stream",
     "text": [
      " 45%|████▍     | 35/78 [01:02<00:57,  1.33s/it]"
     ]
    },
    {
     "name": "stdout",
     "output_type": "stream",
     "text": [
      "[UNRESOLVED_COLUMN.WITH_SUGGESTION] A column or function parameter with name `3` cannot be resolved. Did you mean one of the following? [`1`, `2`].;\n",
      "'Filter NOT ('3 = NULL)\n",
      "+- Project [1#552573, 2#552606]\n",
      "   +- Project [Explode#552524, split#552528, 1#552573, 2#552606]\n",
      "      +- Project [id#552509, text#552500, length_of_text#552512, num_of_words#552516, Explode#552524, split#552528, 1#552573, text#552500 AS 2#552606]\n",
      "         +- Join RightOuter, (id#552509 = cast(2#552548 as int))\n",
      "            :- Project [id#552509, text#552500, length_of_text#552512, array_size(split(text#552500,  , -1)) AS num_of_words#552516]\n",
      "            :  +- Project [id#552509, text#552500, length(text#552500) AS length_of_text#552512]\n",
      "            :     +- Project [cast(id#552506 as int) AS id#552509, text#552500]\n",
      "            :        +- Project [regexp_replace(id#552497, [\\{\\}\"], , 1) AS id#552506, text#552500]\n",
      "            :           +- Project [id#552497, text#552500]\n",
      "            :              +- Project [split#552495, id#552497, split(split#552495, : ', -1)[1] AS text#552500]\n",
      "            :                 +- Project [split#552495, split(split#552495, : ', -1)[0] AS id#552497]\n",
      "            :                    +- Project [split#552495]\n",
      "            :                       +- Generate explode(split#552490), false, [split#552495]\n",
      "            :                          +- Project [split#552490]\n",
      "            :                             +- Project [Text_Index#552474, split(Text_Index#552474, ', , -1) AS split#552490]\n",
      "            :                                +- Project [Topic_Name#552472, URL#552473, Text_Index#552474, split(Network#552480, ,, -1) AS Network#552485]\n",
      "            :                                   +- Project [Topic_Name#552472, URL#552473, Text_Index#552474, regexp_replace(Network#552475, [\\[\\]\\'], , 1) AS Network#552480]\n",
      "            :                                      +- LogicalRDD [Topic_Name#552472, URL#552473, Text_Index#552474, Network#552475], false\n",
      "            +- Project [Explode#552524, split#552528, 1#552573, 2#552548]\n",
      "               +- Project [id#552509, text#552500, length_of_text#552512, num_of_words#552516, Explode#552524, split#552528, text#552500 AS 1#552573, 2#552548]\n",
      "                  +- Join RightOuter, (id#552509 = cast(1#552544 as int))\n",
      "                     :- Project [id#552509, text#552500, length_of_text#552512, array_size(split(text#552500,  , -1)) AS num_of_words#552516]\n",
      "                     :  +- Project [id#552509, text#552500, length(text#552500) AS length_of_text#552512]\n",
      "                     :     +- Project [cast(id#552506 as int) AS id#552509, text#552500]\n",
      "                     :        +- Project [regexp_replace(id#552497, [\\{\\}\"], , 1) AS id#552506, text#552500]\n",
      "                     :           +- Project [id#552497, text#552500]\n",
      "                     :              +- Project [split#552495, id#552497, split(split#552495, : ', -1)[1] AS text#552500]\n",
      "                     :                 +- Project [split#552495, split(split#552495, : ', -1)[0] AS id#552497]\n",
      "                     :                    +- Project [split#552495]\n",
      "                     :                       +- Generate explode(split#552490), false, [split#552495]\n",
      "                     :                          +- Project [split#552490]\n",
      "                     :                             +- Project [Text_Index#552588, split(Text_Index#552588, ', , -1) AS split#552490]\n",
      "                     :                                +- Project [Topic_Name#552586, URL#552587, Text_Index#552588, split(Network#552480, ,, -1) AS Network#552485]\n",
      "                     :                                   +- Project [Topic_Name#552586, URL#552587, Text_Index#552588, regexp_replace(Network#552589, [\\[\\]\\'], , 1) AS Network#552480]\n",
      "                     :                                      +- LogicalRDD [Topic_Name#552586, URL#552587, Text_Index#552588, Network#552589], false\n",
      "                     +- Project [Explode#552524, split#552528, 1#552544, split#552528[1] AS 2#552548]\n",
      "                        +- Project [Explode#552524, split#552528, split#552528[0] AS 1#552544]\n",
      "                           +- Project [Explode#552524, split(Explode#552524, ->, -1) AS split#552528]\n",
      "                              +- Project [Explode#552524]\n",
      "                                 +- Project [Network#552521, Explode#552524]\n",
      "                                    +- Generate explode(Network#552521), false, [Explode#552524]\n",
      "                                       +- Project [Network#552485 AS Network#552521]\n",
      "                                          +- Project [Topic_Name#552553, URL#552554, Text_Index#552555, split(Network#552480, ,, -1) AS Network#552485]\n",
      "                                             +- Project [Topic_Name#552553, URL#552554, Text_Index#552555, regexp_replace(Network#552556, [\\[\\]\\'], , 1) AS Network#552480]\n",
      "                                                +- LogicalRDD [Topic_Name#552553, URL#552554, Text_Index#552555, Network#552556], false\n",
      "\n"
     ]
    },
    {
     "name": "stderr",
     "output_type": "stream",
     "text": [
      " 50%|█████     | 39/78 [01:11<01:11,  1.83s/it]"
     ]
    },
    {
     "name": "stdout",
     "output_type": "stream",
     "text": [
      "local variable 'update_dict' referenced before assignment\n"
     ]
    },
    {
     "name": "stderr",
     "output_type": "stream",
     "text": [
      " 51%|█████▏    | 40/78 [01:12<01:07,  1.78s/it]"
     ]
    },
    {
     "name": "stdout",
     "output_type": "stream",
     "text": [
      "0\n"
     ]
    },
    {
     "name": "stderr",
     "output_type": "stream",
     "text": [
      " 53%|█████▎    | 41/78 [01:14<01:07,  1.83s/it]"
     ]
    },
    {
     "name": "stdout",
     "output_type": "stream",
     "text": [
      "local variable 'update_dict' referenced before assignment\n"
     ]
    },
    {
     "name": "stderr",
     "output_type": "stream",
     "text": [
      " 55%|█████▌    | 43/78 [01:18<01:03,  1.81s/it]"
     ]
    },
    {
     "name": "stdout",
     "output_type": "stream",
     "text": [
      "local variable 'update_dict' referenced before assignment\n"
     ]
    },
    {
     "name": "stderr",
     "output_type": "stream",
     "text": [
      " 56%|█████▋    | 44/78 [01:18<00:47,  1.39s/it]"
     ]
    },
    {
     "name": "stdout",
     "output_type": "stream",
     "text": [
      "list index out of range\n"
     ]
    },
    {
     "name": "stderr",
     "output_type": "stream",
     "text": [
      " 58%|█████▊    | 45/78 [01:19<00:36,  1.11s/it]"
     ]
    },
    {
     "name": "stdout",
     "output_type": "stream",
     "text": [
      "[UNRESOLVED_COLUMN.WITH_SUGGESTION] A column or function parameter with name `3` cannot be resolved. Did you mean one of the following? [`1`, `2`].;\n",
      "'Filter NOT ('3 = NULL)\n",
      "+- Project [1#554865, 2#554898]\n",
      "   +- Project [Explode#554816, split#554820, 1#554865, 2#554898]\n",
      "      +- Project [id#554801, text#554792, length_of_text#554804, num_of_words#554808, Explode#554816, split#554820, 1#554865, text#554792 AS 2#554898]\n",
      "         +- Join RightOuter, (id#554801 = cast(2#554840 as int))\n",
      "            :- Project [id#554801, text#554792, length_of_text#554804, array_size(split(text#554792,  , -1)) AS num_of_words#554808]\n",
      "            :  +- Project [id#554801, text#554792, length(text#554792) AS length_of_text#554804]\n",
      "            :     +- Project [cast(id#554798 as int) AS id#554801, text#554792]\n",
      "            :        +- Project [regexp_replace(id#554789, [\\{\\}\"], , 1) AS id#554798, text#554792]\n",
      "            :           +- Project [id#554789, text#554792]\n",
      "            :              +- Project [split#554787, id#554789, split(split#554787, : ', -1)[1] AS text#554792]\n",
      "            :                 +- Project [split#554787, split(split#554787, : ', -1)[0] AS id#554789]\n",
      "            :                    +- Project [split#554787]\n",
      "            :                       +- Generate explode(split#554782), false, [split#554787]\n",
      "            :                          +- Project [split#554782]\n",
      "            :                             +- Project [Text_Index#554766, split(Text_Index#554766, ', , -1) AS split#554782]\n",
      "            :                                +- Project [Topic_Name#554764, URL#554765, Text_Index#554766, split(Network#554772, ,, -1) AS Network#554777]\n",
      "            :                                   +- Project [Topic_Name#554764, URL#554765, Text_Index#554766, regexp_replace(Network#554767, [\\[\\]\\'], , 1) AS Network#554772]\n",
      "            :                                      +- LogicalRDD [Topic_Name#554764, URL#554765, Text_Index#554766, Network#554767], false\n",
      "            +- Project [Explode#554816, split#554820, 1#554865, 2#554840]\n",
      "               +- Project [id#554801, text#554792, length_of_text#554804, num_of_words#554808, Explode#554816, split#554820, text#554792 AS 1#554865, 2#554840]\n",
      "                  +- Join RightOuter, (id#554801 = cast(1#554836 as int))\n",
      "                     :- Project [id#554801, text#554792, length_of_text#554804, array_size(split(text#554792,  , -1)) AS num_of_words#554808]\n",
      "                     :  +- Project [id#554801, text#554792, length(text#554792) AS length_of_text#554804]\n",
      "                     :     +- Project [cast(id#554798 as int) AS id#554801, text#554792]\n",
      "                     :        +- Project [regexp_replace(id#554789, [\\{\\}\"], , 1) AS id#554798, text#554792]\n",
      "                     :           +- Project [id#554789, text#554792]\n",
      "                     :              +- Project [split#554787, id#554789, split(split#554787, : ', -1)[1] AS text#554792]\n",
      "                     :                 +- Project [split#554787, split(split#554787, : ', -1)[0] AS id#554789]\n",
      "                     :                    +- Project [split#554787]\n",
      "                     :                       +- Generate explode(split#554782), false, [split#554787]\n",
      "                     :                          +- Project [split#554782]\n",
      "                     :                             +- Project [Text_Index#554880, split(Text_Index#554880, ', , -1) AS split#554782]\n",
      "                     :                                +- Project [Topic_Name#554878, URL#554879, Text_Index#554880, split(Network#554772, ,, -1) AS Network#554777]\n",
      "                     :                                   +- Project [Topic_Name#554878, URL#554879, Text_Index#554880, regexp_replace(Network#554881, [\\[\\]\\'], , 1) AS Network#554772]\n",
      "                     :                                      +- LogicalRDD [Topic_Name#554878, URL#554879, Text_Index#554880, Network#554881], false\n",
      "                     +- Project [Explode#554816, split#554820, 1#554836, split#554820[1] AS 2#554840]\n",
      "                        +- Project [Explode#554816, split#554820, split#554820[0] AS 1#554836]\n",
      "                           +- Project [Explode#554816, split(Explode#554816, ->, -1) AS split#554820]\n",
      "                              +- Project [Explode#554816]\n",
      "                                 +- Project [Network#554813, Explode#554816]\n",
      "                                    +- Generate explode(Network#554813), false, [Explode#554816]\n",
      "                                       +- Project [Network#554777 AS Network#554813]\n",
      "                                          +- Project [Topic_Name#554845, URL#554846, Text_Index#554847, split(Network#554772, ,, -1) AS Network#554777]\n",
      "                                             +- Project [Topic_Name#554845, URL#554846, Text_Index#554847, regexp_replace(Network#554848, [\\[\\]\\'], , 1) AS Network#554772]\n",
      "                                                +- LogicalRDD [Topic_Name#554845, URL#554846, Text_Index#554847, Network#554848], false\n",
      "\n"
     ]
    },
    {
     "name": "stderr",
     "output_type": "stream",
     "text": [
      " 59%|█████▉    | 46/78 [01:21<00:41,  1.31s/it]"
     ]
    },
    {
     "name": "stdout",
     "output_type": "stream",
     "text": [
      "local variable 'update_dict' referenced before assignment\n"
     ]
    },
    {
     "name": "stderr",
     "output_type": "stream",
     "text": [
      " 62%|██████▏   | 48/78 [01:25<00:50,  1.67s/it]"
     ]
    },
    {
     "name": "stdout",
     "output_type": "stream",
     "text": [
      "local variable 'update_dict' referenced before assignment\n"
     ]
    },
    {
     "name": "stderr",
     "output_type": "stream",
     "text": [
      " 68%|██████▊   | 53/78 [01:33<00:36,  1.45s/it]"
     ]
    },
    {
     "name": "stdout",
     "output_type": "stream",
     "text": [
      "list index out of range\n"
     ]
    },
    {
     "name": "stderr",
     "output_type": "stream",
     "text": [
      " 71%|███████   | 55/78 [01:36<00:37,  1.61s/it]"
     ]
    },
    {
     "name": "stdout",
     "output_type": "stream",
     "text": [
      "local variable 'update_dict' referenced before assignment\n"
     ]
    },
    {
     "name": "stderr",
     "output_type": "stream",
     "text": [
      " 72%|███████▏  | 56/78 [01:38<00:36,  1.67s/it]"
     ]
    },
    {
     "name": "stdout",
     "output_type": "stream",
     "text": [
      "local variable 'update_dict' referenced before assignment\n"
     ]
    },
    {
     "name": "stderr",
     "output_type": "stream",
     "text": [
      "100%|██████████| 78/78 [02:21<00:00,  1.81s/it]\n",
      "  3%|▎         | 2/66 [00:03<01:57,  1.83s/it]"
     ]
    },
    {
     "name": "stdout",
     "output_type": "stream",
     "text": [
      "local variable 'update_dict' referenced before assignment\n"
     ]
    },
    {
     "name": "stderr",
     "output_type": "stream",
     "text": [
      " 18%|█▊        | 12/66 [00:21<01:17,  1.44s/it]"
     ]
    },
    {
     "name": "stdout",
     "output_type": "stream",
     "text": [
      "[UNRESOLVED_COLUMN.WITH_SUGGESTION] A column or function parameter with name `3` cannot be resolved. Did you mean one of the following? [`1`, `2`].;\n",
      "'Filter NOT ('3 = NULL)\n",
      "+- Project [1#566168, 2#566201]\n",
      "   +- Project [Explode#566119, split#566123, 1#566168, 2#566201]\n",
      "      +- Project [id#566104, text#566095, length_of_text#566107, num_of_words#566111, Explode#566119, split#566123, 1#566168, text#566095 AS 2#566201]\n",
      "         +- Join RightOuter, (id#566104 = cast(2#566143 as int))\n",
      "            :- Project [id#566104, text#566095, length_of_text#566107, array_size(split(text#566095,  , -1)) AS num_of_words#566111]\n",
      "            :  +- Project [id#566104, text#566095, length(text#566095) AS length_of_text#566107]\n",
      "            :     +- Project [cast(id#566101 as int) AS id#566104, text#566095]\n",
      "            :        +- Project [regexp_replace(id#566092, [\\{\\}\"], , 1) AS id#566101, text#566095]\n",
      "            :           +- Project [id#566092, text#566095]\n",
      "            :              +- Project [split#566090, id#566092, split(split#566090, : ', -1)[1] AS text#566095]\n",
      "            :                 +- Project [split#566090, split(split#566090, : ', -1)[0] AS id#566092]\n",
      "            :                    +- Project [split#566090]\n",
      "            :                       +- Generate explode(split#566085), false, [split#566090]\n",
      "            :                          +- Project [split#566085]\n",
      "            :                             +- Project [Text_Index#566069, split(Text_Index#566069, ', , -1) AS split#566085]\n",
      "            :                                +- Project [Topic_Name#566067, URL#566068, Text_Index#566069, split(Network#566075, ,, -1) AS Network#566080]\n",
      "            :                                   +- Project [Topic_Name#566067, URL#566068, Text_Index#566069, regexp_replace(Network#566070, [\\[\\]\\'], , 1) AS Network#566075]\n",
      "            :                                      +- LogicalRDD [Topic_Name#566067, URL#566068, Text_Index#566069, Network#566070], false\n",
      "            +- Project [Explode#566119, split#566123, 1#566168, 2#566143]\n",
      "               +- Project [id#566104, text#566095, length_of_text#566107, num_of_words#566111, Explode#566119, split#566123, text#566095 AS 1#566168, 2#566143]\n",
      "                  +- Join RightOuter, (id#566104 = cast(1#566139 as int))\n",
      "                     :- Project [id#566104, text#566095, length_of_text#566107, array_size(split(text#566095,  , -1)) AS num_of_words#566111]\n",
      "                     :  +- Project [id#566104, text#566095, length(text#566095) AS length_of_text#566107]\n",
      "                     :     +- Project [cast(id#566101 as int) AS id#566104, text#566095]\n",
      "                     :        +- Project [regexp_replace(id#566092, [\\{\\}\"], , 1) AS id#566101, text#566095]\n",
      "                     :           +- Project [id#566092, text#566095]\n",
      "                     :              +- Project [split#566090, id#566092, split(split#566090, : ', -1)[1] AS text#566095]\n",
      "                     :                 +- Project [split#566090, split(split#566090, : ', -1)[0] AS id#566092]\n",
      "                     :                    +- Project [split#566090]\n",
      "                     :                       +- Generate explode(split#566085), false, [split#566090]\n",
      "                     :                          +- Project [split#566085]\n",
      "                     :                             +- Project [Text_Index#566183, split(Text_Index#566183, ', , -1) AS split#566085]\n",
      "                     :                                +- Project [Topic_Name#566181, URL#566182, Text_Index#566183, split(Network#566075, ,, -1) AS Network#566080]\n",
      "                     :                                   +- Project [Topic_Name#566181, URL#566182, Text_Index#566183, regexp_replace(Network#566184, [\\[\\]\\'], , 1) AS Network#566075]\n",
      "                     :                                      +- LogicalRDD [Topic_Name#566181, URL#566182, Text_Index#566183, Network#566184], false\n",
      "                     +- Project [Explode#566119, split#566123, 1#566139, split#566123[1] AS 2#566143]\n",
      "                        +- Project [Explode#566119, split#566123, split#566123[0] AS 1#566139]\n",
      "                           +- Project [Explode#566119, split(Explode#566119, ->, -1) AS split#566123]\n",
      "                              +- Project [Explode#566119]\n",
      "                                 +- Project [Network#566116, Explode#566119]\n",
      "                                    +- Generate explode(Network#566116), false, [Explode#566119]\n",
      "                                       +- Project [Network#566080 AS Network#566116]\n",
      "                                          +- Project [Topic_Name#566148, URL#566149, Text_Index#566150, split(Network#566075, ,, -1) AS Network#566080]\n",
      "                                             +- Project [Topic_Name#566148, URL#566149, Text_Index#566150, regexp_replace(Network#566151, [\\[\\]\\'], , 1) AS Network#566075]\n",
      "                                                +- LogicalRDD [Topic_Name#566148, URL#566149, Text_Index#566150, Network#566151], false\n",
      "\n"
     ]
    },
    {
     "name": "stderr",
     "output_type": "stream",
     "text": [
      " 24%|██▍       | 16/66 [00:26<01:04,  1.30s/it]"
     ]
    },
    {
     "name": "stdout",
     "output_type": "stream",
     "text": [
      "[UNRESOLVED_COLUMN.WITH_SUGGESTION] A column or function parameter with name `3` cannot be resolved. Did you mean one of the following? [`1`].;\n",
      "'Filter NOT ('3 = NULL)\n",
      "+- Project [1#566974]\n",
      "   +- Project [Explode#566932, split#566936, 1#566974]\n",
      "      +- Project [id#566917, text#566908, length_of_text#566920, num_of_words#566924, Explode#566932, split#566936, text#566908 AS 1#566974]\n",
      "         +- Join RightOuter, (id#566917 = cast(1#566952 as int))\n",
      "            :- Project [id#566917, text#566908, length_of_text#566920, array_size(split(text#566908,  , -1)) AS num_of_words#566924]\n",
      "            :  +- Project [id#566917, text#566908, length(text#566908) AS length_of_text#566920]\n",
      "            :     +- Project [cast(id#566914 as int) AS id#566917, text#566908]\n",
      "            :        +- Project [regexp_replace(id#566905, [\\{\\}\"], , 1) AS id#566914, text#566908]\n",
      "            :           +- Project [id#566905, text#566908]\n",
      "            :              +- Project [split#566903, id#566905, split(split#566903, : ', -1)[1] AS text#566908]\n",
      "            :                 +- Project [split#566903, split(split#566903, : ', -1)[0] AS id#566905]\n",
      "            :                    +- Project [split#566903]\n",
      "            :                       +- Generate explode(split#566898), false, [split#566903]\n",
      "            :                          +- Project [split#566898]\n",
      "            :                             +- Project [Text_Index#566882, split(Text_Index#566882, ', , -1) AS split#566898]\n",
      "            :                                +- Project [Topic_Name#566880, URL#566881, Text_Index#566882, split(Network#566888, ,, -1) AS Network#566893]\n",
      "            :                                   +- Project [Topic_Name#566880, URL#566881, Text_Index#566882, regexp_replace(Network#566883, [\\[\\]\\'], , 1) AS Network#566888]\n",
      "            :                                      +- LogicalRDD [Topic_Name#566880, URL#566881, Text_Index#566882, Network#566883], false\n",
      "            +- Project [Explode#566932, split#566936, split#566936[0] AS 1#566952]\n",
      "               +- Project [Explode#566932, split(Explode#566932, ->, -1) AS split#566936]\n",
      "                  +- Project [Explode#566932]\n",
      "                     +- Project [Network#566929, Explode#566932]\n",
      "                        +- Generate explode(Network#566929), false, [Explode#566932]\n",
      "                           +- Project [Network#566893 AS Network#566929]\n",
      "                              +- Project [Topic_Name#566956, URL#566957, Text_Index#566958, split(Network#566888, ,, -1) AS Network#566893]\n",
      "                                 +- Project [Topic_Name#566956, URL#566957, Text_Index#566958, regexp_replace(Network#566959, [\\[\\]\\'], , 1) AS Network#566888]\n",
      "                                    +- LogicalRDD [Topic_Name#566956, URL#566957, Text_Index#566958, Network#566959], false\n",
      "\n"
     ]
    },
    {
     "name": "stderr",
     "output_type": "stream",
     "text": [
      " 42%|████▏     | 28/66 [00:49<01:17,  2.03s/it]"
     ]
    },
    {
     "name": "stdout",
     "output_type": "stream",
     "text": [
      "local variable 'update_dict' referenced before assignment\n"
     ]
    },
    {
     "name": "stderr",
     "output_type": "stream",
     "text": [
      " 61%|██████    | 40/66 [01:10<00:39,  1.51s/it]"
     ]
    },
    {
     "name": "stdout",
     "output_type": "stream",
     "text": [
      "[UNRESOLVED_COLUMN.WITH_SUGGESTION] A column or function parameter with name `3` cannot be resolved. Did you mean one of the following? [`1`, `2`].;\n",
      "'Filter NOT ('3 = NULL)\n",
      "+- Project [1#573124, 2#573157]\n",
      "   +- Project [Explode#573075, split#573079, 1#573124, 2#573157]\n",
      "      +- Project [id#573060, text#573051, length_of_text#573063, num_of_words#573067, Explode#573075, split#573079, 1#573124, text#573051 AS 2#573157]\n",
      "         +- Join RightOuter, (id#573060 = cast(2#573099 as int))\n",
      "            :- Project [id#573060, text#573051, length_of_text#573063, array_size(split(text#573051,  , -1)) AS num_of_words#573067]\n",
      "            :  +- Project [id#573060, text#573051, length(text#573051) AS length_of_text#573063]\n",
      "            :     +- Project [cast(id#573057 as int) AS id#573060, text#573051]\n",
      "            :        +- Project [regexp_replace(id#573048, [\\{\\}\"], , 1) AS id#573057, text#573051]\n",
      "            :           +- Project [id#573048, text#573051]\n",
      "            :              +- Project [split#573046, id#573048, split(split#573046, : ', -1)[1] AS text#573051]\n",
      "            :                 +- Project [split#573046, split(split#573046, : ', -1)[0] AS id#573048]\n",
      "            :                    +- Project [split#573046]\n",
      "            :                       +- Generate explode(split#573041), false, [split#573046]\n",
      "            :                          +- Project [split#573041]\n",
      "            :                             +- Project [Text_Index#573025, split(Text_Index#573025, ', , -1) AS split#573041]\n",
      "            :                                +- Project [Topic_Name#573023, URL#573024, Text_Index#573025, split(Network#573031, ,, -1) AS Network#573036]\n",
      "            :                                   +- Project [Topic_Name#573023, URL#573024, Text_Index#573025, regexp_replace(Network#573026, [\\[\\]\\'], , 1) AS Network#573031]\n",
      "            :                                      +- LogicalRDD [Topic_Name#573023, URL#573024, Text_Index#573025, Network#573026], false\n",
      "            +- Project [Explode#573075, split#573079, 1#573124, 2#573099]\n",
      "               +- Project [id#573060, text#573051, length_of_text#573063, num_of_words#573067, Explode#573075, split#573079, text#573051 AS 1#573124, 2#573099]\n",
      "                  +- Join RightOuter, (id#573060 = cast(1#573095 as int))\n",
      "                     :- Project [id#573060, text#573051, length_of_text#573063, array_size(split(text#573051,  , -1)) AS num_of_words#573067]\n",
      "                     :  +- Project [id#573060, text#573051, length(text#573051) AS length_of_text#573063]\n",
      "                     :     +- Project [cast(id#573057 as int) AS id#573060, text#573051]\n",
      "                     :        +- Project [regexp_replace(id#573048, [\\{\\}\"], , 1) AS id#573057, text#573051]\n",
      "                     :           +- Project [id#573048, text#573051]\n",
      "                     :              +- Project [split#573046, id#573048, split(split#573046, : ', -1)[1] AS text#573051]\n",
      "                     :                 +- Project [split#573046, split(split#573046, : ', -1)[0] AS id#573048]\n",
      "                     :                    +- Project [split#573046]\n",
      "                     :                       +- Generate explode(split#573041), false, [split#573046]\n",
      "                     :                          +- Project [split#573041]\n",
      "                     :                             +- Project [Text_Index#573139, split(Text_Index#573139, ', , -1) AS split#573041]\n",
      "                     :                                +- Project [Topic_Name#573137, URL#573138, Text_Index#573139, split(Network#573031, ,, -1) AS Network#573036]\n",
      "                     :                                   +- Project [Topic_Name#573137, URL#573138, Text_Index#573139, regexp_replace(Network#573140, [\\[\\]\\'], , 1) AS Network#573031]\n",
      "                     :                                      +- LogicalRDD [Topic_Name#573137, URL#573138, Text_Index#573139, Network#573140], false\n",
      "                     +- Project [Explode#573075, split#573079, 1#573095, split#573079[1] AS 2#573099]\n",
      "                        +- Project [Explode#573075, split#573079, split#573079[0] AS 1#573095]\n",
      "                           +- Project [Explode#573075, split(Explode#573075, ->, -1) AS split#573079]\n",
      "                              +- Project [Explode#573075]\n",
      "                                 +- Project [Network#573072, Explode#573075]\n",
      "                                    +- Generate explode(Network#573072), false, [Explode#573075]\n",
      "                                       +- Project [Network#573036 AS Network#573072]\n",
      "                                          +- Project [Topic_Name#573104, URL#573105, Text_Index#573106, split(Network#573031, ,, -1) AS Network#573036]\n",
      "                                             +- Project [Topic_Name#573104, URL#573105, Text_Index#573106, regexp_replace(Network#573107, [\\[\\]\\'], , 1) AS Network#573031]\n",
      "                                                +- LogicalRDD [Topic_Name#573104, URL#573105, Text_Index#573106, Network#573107], false\n",
      "\n"
     ]
    },
    {
     "name": "stderr",
     "output_type": "stream",
     "text": [
      " 65%|██████▌   | 43/66 [01:14<00:30,  1.32s/it]"
     ]
    },
    {
     "name": "stdout",
     "output_type": "stream",
     "text": [
      "list index out of range\n"
     ]
    },
    {
     "name": "stderr",
     "output_type": "stream",
     "text": [
      " 71%|███████   | 47/66 [01:22<00:33,  1.78s/it]"
     ]
    },
    {
     "name": "stdout",
     "output_type": "stream",
     "text": [
      "local variable 'update_dict' referenced before assignment\n"
     ]
    },
    {
     "name": "stderr",
     "output_type": "stream",
     "text": [
      " 83%|████████▎ | 55/66 [01:36<00:15,  1.41s/it]"
     ]
    },
    {
     "name": "stdout",
     "output_type": "stream",
     "text": [
      "list index out of range\n"
     ]
    },
    {
     "name": "stderr",
     "output_type": "stream",
     "text": [
      " 97%|█████████▋| 64/66 [01:53<00:03,  1.83s/it]"
     ]
    },
    {
     "name": "stdout",
     "output_type": "stream",
     "text": [
      "0\n"
     ]
    },
    {
     "name": "stderr",
     "output_type": "stream",
     "text": [
      "100%|██████████| 66/66 [01:57<00:00,  1.78s/it]\n",
      " 15%|█▍        | 11/74 [00:19<01:29,  1.42s/it]"
     ]
    },
    {
     "name": "stdout",
     "output_type": "stream",
     "text": [
      "[UNRESOLVED_COLUMN.WITH_SUGGESTION] A column or function parameter with name `3` cannot be resolved. Did you mean one of the following? [`1`].;\n",
      "'Filter NOT ('3 = NULL)\n",
      "+- Project [1#581949]\n",
      "   +- Project [Explode#581907, split#581911, 1#581949]\n",
      "      +- Project [id#581892, text#581883, length_of_text#581895, num_of_words#581899, Explode#581907, split#581911, text#581883 AS 1#581949]\n",
      "         +- Join RightOuter, (id#581892 = cast(1#581927 as int))\n",
      "            :- Project [id#581892, text#581883, length_of_text#581895, array_size(split(text#581883,  , -1)) AS num_of_words#581899]\n",
      "            :  +- Project [id#581892, text#581883, length(text#581883) AS length_of_text#581895]\n",
      "            :     +- Project [cast(id#581889 as int) AS id#581892, text#581883]\n",
      "            :        +- Project [regexp_replace(id#581880, [\\{\\}\"], , 1) AS id#581889, text#581883]\n",
      "            :           +- Project [id#581880, text#581883]\n",
      "            :              +- Project [split#581878, id#581880, split(split#581878, : ', -1)[1] AS text#581883]\n",
      "            :                 +- Project [split#581878, split(split#581878, : ', -1)[0] AS id#581880]\n",
      "            :                    +- Project [split#581878]\n",
      "            :                       +- Generate explode(split#581873), false, [split#581878]\n",
      "            :                          +- Project [split#581873]\n",
      "            :                             +- Project [Text_Index#581857, split(Text_Index#581857, ', , -1) AS split#581873]\n",
      "            :                                +- Project [Topic_Name#581855, URL#581856, Text_Index#581857, split(Network#581863, ,, -1) AS Network#581868]\n",
      "            :                                   +- Project [Topic_Name#581855, URL#581856, Text_Index#581857, regexp_replace(Network#581858, [\\[\\]\\'], , 1) AS Network#581863]\n",
      "            :                                      +- LogicalRDD [Topic_Name#581855, URL#581856, Text_Index#581857, Network#581858], false\n",
      "            +- Project [Explode#581907, split#581911, split#581911[0] AS 1#581927]\n",
      "               +- Project [Explode#581907, split(Explode#581907, ->, -1) AS split#581911]\n",
      "                  +- Project [Explode#581907]\n",
      "                     +- Project [Network#581904, Explode#581907]\n",
      "                        +- Generate explode(Network#581904), false, [Explode#581907]\n",
      "                           +- Project [Network#581868 AS Network#581904]\n",
      "                              +- Project [Topic_Name#581931, URL#581932, Text_Index#581933, split(Network#581863, ,, -1) AS Network#581868]\n",
      "                                 +- Project [Topic_Name#581931, URL#581932, Text_Index#581933, regexp_replace(Network#581934, [\\[\\]\\'], , 1) AS Network#581863]\n",
      "                                    +- LogicalRDD [Topic_Name#581931, URL#581932, Text_Index#581933, Network#581934], false\n",
      "\n"
     ]
    },
    {
     "name": "stderr",
     "output_type": "stream",
     "text": [
      " 18%|█▊        | 13/74 [00:21<01:13,  1.21s/it]"
     ]
    },
    {
     "name": "stdout",
     "output_type": "stream",
     "text": [
      "list index out of range\n"
     ]
    },
    {
     "name": "stderr",
     "output_type": "stream",
     "text": [
      " 19%|█▉        | 14/74 [00:21<00:58,  1.02it/s]"
     ]
    },
    {
     "name": "stdout",
     "output_type": "stream",
     "text": [
      "list index out of range\n"
     ]
    },
    {
     "name": "stderr",
     "output_type": "stream",
     "text": [
      " 22%|██▏       | 16/74 [00:25<01:23,  1.44s/it]"
     ]
    },
    {
     "name": "stdout",
     "output_type": "stream",
     "text": [
      "local variable 'update_dict' referenced before assignment\n"
     ]
    },
    {
     "name": "stderr",
     "output_type": "stream",
     "text": [
      " 24%|██▍       | 18/74 [00:29<01:30,  1.61s/it]"
     ]
    },
    {
     "name": "stdout",
     "output_type": "stream",
     "text": [
      "0\n"
     ]
    },
    {
     "name": "stderr",
     "output_type": "stream",
     "text": [
      " 28%|██▊       | 21/74 [00:35<01:38,  1.86s/it]"
     ]
    },
    {
     "name": "stdout",
     "output_type": "stream",
     "text": [
      "local variable 'update_dict' referenced before assignment\n"
     ]
    },
    {
     "name": "stderr",
     "output_type": "stream",
     "text": [
      " 31%|███       | 23/74 [00:38<01:33,  1.84s/it]"
     ]
    },
    {
     "name": "stdout",
     "output_type": "stream",
     "text": [
      "0\n"
     ]
    },
    {
     "name": "stderr",
     "output_type": "stream",
     "text": [
      " 58%|█████▊    | 43/74 [01:17<00:47,  1.53s/it]"
     ]
    },
    {
     "name": "stdout",
     "output_type": "stream",
     "text": [
      "list index out of range\n"
     ]
    },
    {
     "name": "stderr",
     "output_type": "stream",
     "text": [
      " 93%|█████████▎| 69/74 [02:08<00:07,  1.58s/it]"
     ]
    },
    {
     "name": "stdout",
     "output_type": "stream",
     "text": [
      "list index out of range\n"
     ]
    },
    {
     "name": "stderr",
     "output_type": "stream",
     "text": [
      "100%|██████████| 74/74 [02:19<00:00,  1.89s/it]\n",
      " 13%|█▎        | 9/70 [00:18<01:40,  1.65s/it]"
     ]
    },
    {
     "name": "stdout",
     "output_type": "stream",
     "text": [
      "[UNRESOLVED_COLUMN.WITH_SUGGESTION] A column or function parameter with name `3` cannot be resolved. Did you mean one of the following? [`1`, `2`].;\n",
      "'Filter NOT ('3 = NULL)\n",
      "+- Project [1#601872, 2#601905]\n",
      "   +- Project [Explode#601823, split#601827, 1#601872, 2#601905]\n",
      "      +- Project [id#601808, text#601799, length_of_text#601811, num_of_words#601815, Explode#601823, split#601827, 1#601872, text#601799 AS 2#601905]\n",
      "         +- Join RightOuter, (id#601808 = cast(2#601847 as int))\n",
      "            :- Project [id#601808, text#601799, length_of_text#601811, array_size(split(text#601799,  , -1)) AS num_of_words#601815]\n",
      "            :  +- Project [id#601808, text#601799, length(text#601799) AS length_of_text#601811]\n",
      "            :     +- Project [cast(id#601805 as int) AS id#601808, text#601799]\n",
      "            :        +- Project [regexp_replace(id#601796, [\\{\\}\"], , 1) AS id#601805, text#601799]\n",
      "            :           +- Project [id#601796, text#601799]\n",
      "            :              +- Project [split#601794, id#601796, split(split#601794, : ', -1)[1] AS text#601799]\n",
      "            :                 +- Project [split#601794, split(split#601794, : ', -1)[0] AS id#601796]\n",
      "            :                    +- Project [split#601794]\n",
      "            :                       +- Generate explode(split#601789), false, [split#601794]\n",
      "            :                          +- Project [split#601789]\n",
      "            :                             +- Project [Text_Index#601773, split(Text_Index#601773, ', , -1) AS split#601789]\n",
      "            :                                +- Project [Topic_Name#601771, URL#601772, Text_Index#601773, split(Network#601779, ,, -1) AS Network#601784]\n",
      "            :                                   +- Project [Topic_Name#601771, URL#601772, Text_Index#601773, regexp_replace(Network#601774, [\\[\\]\\'], , 1) AS Network#601779]\n",
      "            :                                      +- LogicalRDD [Topic_Name#601771, URL#601772, Text_Index#601773, Network#601774], false\n",
      "            +- Project [Explode#601823, split#601827, 1#601872, 2#601847]\n",
      "               +- Project [id#601808, text#601799, length_of_text#601811, num_of_words#601815, Explode#601823, split#601827, text#601799 AS 1#601872, 2#601847]\n",
      "                  +- Join RightOuter, (id#601808 = cast(1#601843 as int))\n",
      "                     :- Project [id#601808, text#601799, length_of_text#601811, array_size(split(text#601799,  , -1)) AS num_of_words#601815]\n",
      "                     :  +- Project [id#601808, text#601799, length(text#601799) AS length_of_text#601811]\n",
      "                     :     +- Project [cast(id#601805 as int) AS id#601808, text#601799]\n",
      "                     :        +- Project [regexp_replace(id#601796, [\\{\\}\"], , 1) AS id#601805, text#601799]\n",
      "                     :           +- Project [id#601796, text#601799]\n",
      "                     :              +- Project [split#601794, id#601796, split(split#601794, : ', -1)[1] AS text#601799]\n",
      "                     :                 +- Project [split#601794, split(split#601794, : ', -1)[0] AS id#601796]\n",
      "                     :                    +- Project [split#601794]\n",
      "                     :                       +- Generate explode(split#601789), false, [split#601794]\n",
      "                     :                          +- Project [split#601789]\n",
      "                     :                             +- Project [Text_Index#601887, split(Text_Index#601887, ', , -1) AS split#601789]\n",
      "                     :                                +- Project [Topic_Name#601885, URL#601886, Text_Index#601887, split(Network#601779, ,, -1) AS Network#601784]\n",
      "                     :                                   +- Project [Topic_Name#601885, URL#601886, Text_Index#601887, regexp_replace(Network#601888, [\\[\\]\\'], , 1) AS Network#601779]\n",
      "                     :                                      +- LogicalRDD [Topic_Name#601885, URL#601886, Text_Index#601887, Network#601888], false\n",
      "                     +- Project [Explode#601823, split#601827, 1#601843, split#601827[1] AS 2#601847]\n",
      "                        +- Project [Explode#601823, split#601827, split#601827[0] AS 1#601843]\n",
      "                           +- Project [Explode#601823, split(Explode#601823, ->, -1) AS split#601827]\n",
      "                              +- Project [Explode#601823]\n",
      "                                 +- Project [Network#601820, Explode#601823]\n",
      "                                    +- Generate explode(Network#601820), false, [Explode#601823]\n",
      "                                       +- Project [Network#601784 AS Network#601820]\n",
      "                                          +- Project [Topic_Name#601852, URL#601853, Text_Index#601854, split(Network#601779, ,, -1) AS Network#601784]\n",
      "                                             +- Project [Topic_Name#601852, URL#601853, Text_Index#601854, regexp_replace(Network#601855, [\\[\\]\\'], , 1) AS Network#601779]\n",
      "                                                +- LogicalRDD [Topic_Name#601852, URL#601853, Text_Index#601854, Network#601855], false\n",
      "\n"
     ]
    },
    {
     "name": "stderr",
     "output_type": "stream",
     "text": [
      " 24%|██▍       | 17/70 [00:34<01:25,  1.61s/it]"
     ]
    },
    {
     "name": "stdout",
     "output_type": "stream",
     "text": [
      "list index out of range\n"
     ]
    },
    {
     "name": "stderr",
     "output_type": "stream",
     "text": [
      " 26%|██▌       | 18/70 [00:34<01:06,  1.27s/it]"
     ]
    },
    {
     "name": "stdout",
     "output_type": "stream",
     "text": [
      "[UNRESOLVED_COLUMN.WITH_SUGGESTION] A column or function parameter with name `3` cannot be resolved. Did you mean one of the following? [`1`, `2`].;\n",
      "'Filter NOT ('3 = NULL)\n",
      "+- Project [1#604112, 2#604145]\n",
      "   +- Project [Explode#604063, split#604067, 1#604112, 2#604145]\n",
      "      +- Project [id#604048, text#604039, length_of_text#604051, num_of_words#604055, Explode#604063, split#604067, 1#604112, text#604039 AS 2#604145]\n",
      "         +- Join RightOuter, (id#604048 = cast(2#604087 as int))\n",
      "            :- Project [id#604048, text#604039, length_of_text#604051, array_size(split(text#604039,  , -1)) AS num_of_words#604055]\n",
      "            :  +- Project [id#604048, text#604039, length(text#604039) AS length_of_text#604051]\n",
      "            :     +- Project [cast(id#604045 as int) AS id#604048, text#604039]\n",
      "            :        +- Project [regexp_replace(id#604036, [\\{\\}\"], , 1) AS id#604045, text#604039]\n",
      "            :           +- Project [id#604036, text#604039]\n",
      "            :              +- Project [split#604034, id#604036, split(split#604034, : ', -1)[1] AS text#604039]\n",
      "            :                 +- Project [split#604034, split(split#604034, : ', -1)[0] AS id#604036]\n",
      "            :                    +- Project [split#604034]\n",
      "            :                       +- Generate explode(split#604029), false, [split#604034]\n",
      "            :                          +- Project [split#604029]\n",
      "            :                             +- Project [Text_Index#604013, split(Text_Index#604013, ', , -1) AS split#604029]\n",
      "            :                                +- Project [Topic_Name#604011, URL#604012, Text_Index#604013, split(Network#604019, ,, -1) AS Network#604024]\n",
      "            :                                   +- Project [Topic_Name#604011, URL#604012, Text_Index#604013, regexp_replace(Network#604014, [\\[\\]\\'], , 1) AS Network#604019]\n",
      "            :                                      +- LogicalRDD [Topic_Name#604011, URL#604012, Text_Index#604013, Network#604014], false\n",
      "            +- Project [Explode#604063, split#604067, 1#604112, 2#604087]\n",
      "               +- Project [id#604048, text#604039, length_of_text#604051, num_of_words#604055, Explode#604063, split#604067, text#604039 AS 1#604112, 2#604087]\n",
      "                  +- Join RightOuter, (id#604048 = cast(1#604083 as int))\n",
      "                     :- Project [id#604048, text#604039, length_of_text#604051, array_size(split(text#604039,  , -1)) AS num_of_words#604055]\n",
      "                     :  +- Project [id#604048, text#604039, length(text#604039) AS length_of_text#604051]\n",
      "                     :     +- Project [cast(id#604045 as int) AS id#604048, text#604039]\n",
      "                     :        +- Project [regexp_replace(id#604036, [\\{\\}\"], , 1) AS id#604045, text#604039]\n",
      "                     :           +- Project [id#604036, text#604039]\n",
      "                     :              +- Project [split#604034, id#604036, split(split#604034, : ', -1)[1] AS text#604039]\n",
      "                     :                 +- Project [split#604034, split(split#604034, : ', -1)[0] AS id#604036]\n",
      "                     :                    +- Project [split#604034]\n",
      "                     :                       +- Generate explode(split#604029), false, [split#604034]\n",
      "                     :                          +- Project [split#604029]\n",
      "                     :                             +- Project [Text_Index#604127, split(Text_Index#604127, ', , -1) AS split#604029]\n",
      "                     :                                +- Project [Topic_Name#604125, URL#604126, Text_Index#604127, split(Network#604019, ,, -1) AS Network#604024]\n",
      "                     :                                   +- Project [Topic_Name#604125, URL#604126, Text_Index#604127, regexp_replace(Network#604128, [\\[\\]\\'], , 1) AS Network#604019]\n",
      "                     :                                      +- LogicalRDD [Topic_Name#604125, URL#604126, Text_Index#604127, Network#604128], false\n",
      "                     +- Project [Explode#604063, split#604067, 1#604083, split#604067[1] AS 2#604087]\n",
      "                        +- Project [Explode#604063, split#604067, split#604067[0] AS 1#604083]\n",
      "                           +- Project [Explode#604063, split(Explode#604063, ->, -1) AS split#604067]\n",
      "                              +- Project [Explode#604063]\n",
      "                                 +- Project [Network#604060, Explode#604063]\n",
      "                                    +- Generate explode(Network#604060), false, [Explode#604063]\n",
      "                                       +- Project [Network#604024 AS Network#604060]\n",
      "                                          +- Project [Topic_Name#604092, URL#604093, Text_Index#604094, split(Network#604019, ,, -1) AS Network#604024]\n",
      "                                             +- Project [Topic_Name#604092, URL#604093, Text_Index#604094, regexp_replace(Network#604095, [\\[\\]\\'], , 1) AS Network#604019]\n",
      "                                                +- LogicalRDD [Topic_Name#604092, URL#604093, Text_Index#604094, Network#604095], false\n",
      "\n"
     ]
    },
    {
     "name": "stderr",
     "output_type": "stream",
     "text": [
      " 29%|██▊       | 20/70 [00:37<00:58,  1.18s/it]"
     ]
    },
    {
     "name": "stdout",
     "output_type": "stream",
     "text": [
      "list index out of range\n"
     ]
    },
    {
     "name": "stderr",
     "output_type": "stream",
     "text": [
      " 34%|███▍      | 24/70 [00:44<01:16,  1.66s/it]"
     ]
    },
    {
     "name": "stdout",
     "output_type": "stream",
     "text": [
      "0\n"
     ]
    },
    {
     "name": "stderr",
     "output_type": "stream",
     "text": [
      " 46%|████▌     | 32/70 [00:59<00:59,  1.57s/it]"
     ]
    },
    {
     "name": "stdout",
     "output_type": "stream",
     "text": [
      "list index out of range\n"
     ]
    },
    {
     "name": "stderr",
     "output_type": "stream",
     "text": [
      " 56%|█████▌    | 39/70 [01:12<00:46,  1.51s/it]"
     ]
    },
    {
     "name": "stdout",
     "output_type": "stream",
     "text": [
      "list index out of range\n"
     ]
    },
    {
     "name": "stderr",
     "output_type": "stream",
     "text": [
      " 60%|██████    | 42/70 [01:17<00:42,  1.52s/it]"
     ]
    },
    {
     "name": "stdout",
     "output_type": "stream",
     "text": [
      "list index out of range\n"
     ]
    },
    {
     "name": "stderr",
     "output_type": "stream",
     "text": [
      " 69%|██████▊   | 48/70 [01:28<00:32,  1.49s/it]"
     ]
    },
    {
     "name": "stdout",
     "output_type": "stream",
     "text": [
      "list index out of range\n"
     ]
    },
    {
     "name": "stderr",
     "output_type": "stream",
     "text": [
      " 99%|█████████▊| 69/70 [02:09<00:01,  1.77s/it]"
     ]
    },
    {
     "name": "stdout",
     "output_type": "stream",
     "text": [
      "0\n"
     ]
    },
    {
     "name": "stderr",
     "output_type": "stream",
     "text": [
      "100%|██████████| 70/70 [02:11<00:00,  1.88s/it]\n",
      " 11%|█▏        | 10/88 [00:19<02:09,  1.66s/it]"
     ]
    },
    {
     "name": "stdout",
     "output_type": "stream",
     "text": [
      "list index out of range\n"
     ]
    },
    {
     "name": "stderr",
     "output_type": "stream",
     "text": [
      " 20%|██        | 18/88 [00:33<01:41,  1.45s/it]"
     ]
    },
    {
     "name": "stdout",
     "output_type": "stream",
     "text": [
      "list index out of range\n"
     ]
    },
    {
     "name": "stderr",
     "output_type": "stream",
     "text": [
      " 38%|███▊      | 33/88 [01:03<01:41,  1.85s/it]"
     ]
    },
    {
     "name": "stdout",
     "output_type": "stream",
     "text": [
      "0\n"
     ]
    },
    {
     "name": "stderr",
     "output_type": "stream",
     "text": [
      " 53%|█████▎    | 47/88 [01:28<00:58,  1.43s/it]"
     ]
    },
    {
     "name": "stdout",
     "output_type": "stream",
     "text": [
      "[UNRESOLVED_COLUMN.WITH_SUGGESTION] A column or function parameter with name `3` cannot be resolved. Did you mean one of the following? [`1`, `2`].;\n",
      "'Filter NOT ('3 = NULL)\n",
      "+- Project [1#629929, 2#629962]\n",
      "   +- Project [Explode#629880, split#629884, 1#629929, 2#629962]\n",
      "      +- Project [id#629865, text#629856, length_of_text#629868, num_of_words#629872, Explode#629880, split#629884, 1#629929, text#629856 AS 2#629962]\n",
      "         +- Join RightOuter, (id#629865 = cast(2#629904 as int))\n",
      "            :- Project [id#629865, text#629856, length_of_text#629868, array_size(split(text#629856,  , -1)) AS num_of_words#629872]\n",
      "            :  +- Project [id#629865, text#629856, length(text#629856) AS length_of_text#629868]\n",
      "            :     +- Project [cast(id#629862 as int) AS id#629865, text#629856]\n",
      "            :        +- Project [regexp_replace(id#629853, [\\{\\}\"], , 1) AS id#629862, text#629856]\n",
      "            :           +- Project [id#629853, text#629856]\n",
      "            :              +- Project [split#629851, id#629853, split(split#629851, : ', -1)[1] AS text#629856]\n",
      "            :                 +- Project [split#629851, split(split#629851, : ', -1)[0] AS id#629853]\n",
      "            :                    +- Project [split#629851]\n",
      "            :                       +- Generate explode(split#629846), false, [split#629851]\n",
      "            :                          +- Project [split#629846]\n",
      "            :                             +- Project [Text_Index#629830, split(Text_Index#629830, ', , -1) AS split#629846]\n",
      "            :                                +- Project [Topic_Name#629828, URL#629829, Text_Index#629830, split(Network#629836, ,, -1) AS Network#629841]\n",
      "            :                                   +- Project [Topic_Name#629828, URL#629829, Text_Index#629830, regexp_replace(Network#629831, [\\[\\]\\'], , 1) AS Network#629836]\n",
      "            :                                      +- LogicalRDD [Topic_Name#629828, URL#629829, Text_Index#629830, Network#629831], false\n",
      "            +- Project [Explode#629880, split#629884, 1#629929, 2#629904]\n",
      "               +- Project [id#629865, text#629856, length_of_text#629868, num_of_words#629872, Explode#629880, split#629884, text#629856 AS 1#629929, 2#629904]\n",
      "                  +- Join RightOuter, (id#629865 = cast(1#629900 as int))\n",
      "                     :- Project [id#629865, text#629856, length_of_text#629868, array_size(split(text#629856,  , -1)) AS num_of_words#629872]\n",
      "                     :  +- Project [id#629865, text#629856, length(text#629856) AS length_of_text#629868]\n",
      "                     :     +- Project [cast(id#629862 as int) AS id#629865, text#629856]\n",
      "                     :        +- Project [regexp_replace(id#629853, [\\{\\}\"], , 1) AS id#629862, text#629856]\n",
      "                     :           +- Project [id#629853, text#629856]\n",
      "                     :              +- Project [split#629851, id#629853, split(split#629851, : ', -1)[1] AS text#629856]\n",
      "                     :                 +- Project [split#629851, split(split#629851, : ', -1)[0] AS id#629853]\n",
      "                     :                    +- Project [split#629851]\n",
      "                     :                       +- Generate explode(split#629846), false, [split#629851]\n",
      "                     :                          +- Project [split#629846]\n",
      "                     :                             +- Project [Text_Index#629944, split(Text_Index#629944, ', , -1) AS split#629846]\n",
      "                     :                                +- Project [Topic_Name#629942, URL#629943, Text_Index#629944, split(Network#629836, ,, -1) AS Network#629841]\n",
      "                     :                                   +- Project [Topic_Name#629942, URL#629943, Text_Index#629944, regexp_replace(Network#629945, [\\[\\]\\'], , 1) AS Network#629836]\n",
      "                     :                                      +- LogicalRDD [Topic_Name#629942, URL#629943, Text_Index#629944, Network#629945], false\n",
      "                     +- Project [Explode#629880, split#629884, 1#629900, split#629884[1] AS 2#629904]\n",
      "                        +- Project [Explode#629880, split#629884, split#629884[0] AS 1#629900]\n",
      "                           +- Project [Explode#629880, split(Explode#629880, ->, -1) AS split#629884]\n",
      "                              +- Project [Explode#629880]\n",
      "                                 +- Project [Network#629877, Explode#629880]\n",
      "                                    +- Generate explode(Network#629877), false, [Explode#629880]\n",
      "                                       +- Project [Network#629841 AS Network#629877]\n",
      "                                          +- Project [Topic_Name#629909, URL#629910, Text_Index#629911, split(Network#629836, ,, -1) AS Network#629841]\n",
      "                                             +- Project [Topic_Name#629909, URL#629910, Text_Index#629911, regexp_replace(Network#629912, [\\[\\]\\'], , 1) AS Network#629836]\n",
      "                                                +- LogicalRDD [Topic_Name#629909, URL#629910, Text_Index#629911, Network#629912], false\n",
      "\n"
     ]
    },
    {
     "name": "stderr",
     "output_type": "stream",
     "text": [
      " 58%|█████▊    | 51/88 [01:34<00:52,  1.42s/it]"
     ]
    },
    {
     "name": "stdout",
     "output_type": "stream",
     "text": [
      "list index out of range\n"
     ]
    },
    {
     "name": "stderr",
     "output_type": "stream",
     "text": [
      " 59%|█████▉    | 52/88 [01:35<00:41,  1.15s/it]"
     ]
    },
    {
     "name": "stdout",
     "output_type": "stream",
     "text": [
      "[UNRESOLVED_COLUMN.WITH_SUGGESTION] A column or function parameter with name `3` cannot be resolved. Did you mean one of the following? [`1`, `2`].;\n",
      "'Filter NOT ('3 = NULL)\n",
      "+- Project [1#630875, 2#630908]\n",
      "   +- Project [Explode#630826, split#630830, 1#630875, 2#630908]\n",
      "      +- Project [id#630811, text#630802, length_of_text#630814, num_of_words#630818, Explode#630826, split#630830, 1#630875, text#630802 AS 2#630908]\n",
      "         +- Join RightOuter, (id#630811 = cast(2#630850 as int))\n",
      "            :- Project [id#630811, text#630802, length_of_text#630814, array_size(split(text#630802,  , -1)) AS num_of_words#630818]\n",
      "            :  +- Project [id#630811, text#630802, length(text#630802) AS length_of_text#630814]\n",
      "            :     +- Project [cast(id#630808 as int) AS id#630811, text#630802]\n",
      "            :        +- Project [regexp_replace(id#630799, [\\{\\}\"], , 1) AS id#630808, text#630802]\n",
      "            :           +- Project [id#630799, text#630802]\n",
      "            :              +- Project [split#630797, id#630799, split(split#630797, : ', -1)[1] AS text#630802]\n",
      "            :                 +- Project [split#630797, split(split#630797, : ', -1)[0] AS id#630799]\n",
      "            :                    +- Project [split#630797]\n",
      "            :                       +- Generate explode(split#630792), false, [split#630797]\n",
      "            :                          +- Project [split#630792]\n",
      "            :                             +- Project [Text_Index#630776, split(Text_Index#630776, ', , -1) AS split#630792]\n",
      "            :                                +- Project [Topic_Name#630774, URL#630775, Text_Index#630776, split(Network#630782, ,, -1) AS Network#630787]\n",
      "            :                                   +- Project [Topic_Name#630774, URL#630775, Text_Index#630776, regexp_replace(Network#630777, [\\[\\]\\'], , 1) AS Network#630782]\n",
      "            :                                      +- LogicalRDD [Topic_Name#630774, URL#630775, Text_Index#630776, Network#630777], false\n",
      "            +- Project [Explode#630826, split#630830, 1#630875, 2#630850]\n",
      "               +- Project [id#630811, text#630802, length_of_text#630814, num_of_words#630818, Explode#630826, split#630830, text#630802 AS 1#630875, 2#630850]\n",
      "                  +- Join RightOuter, (id#630811 = cast(1#630846 as int))\n",
      "                     :- Project [id#630811, text#630802, length_of_text#630814, array_size(split(text#630802,  , -1)) AS num_of_words#630818]\n",
      "                     :  +- Project [id#630811, text#630802, length(text#630802) AS length_of_text#630814]\n",
      "                     :     +- Project [cast(id#630808 as int) AS id#630811, text#630802]\n",
      "                     :        +- Project [regexp_replace(id#630799, [\\{\\}\"], , 1) AS id#630808, text#630802]\n",
      "                     :           +- Project [id#630799, text#630802]\n",
      "                     :              +- Project [split#630797, id#630799, split(split#630797, : ', -1)[1] AS text#630802]\n",
      "                     :                 +- Project [split#630797, split(split#630797, : ', -1)[0] AS id#630799]\n",
      "                     :                    +- Project [split#630797]\n",
      "                     :                       +- Generate explode(split#630792), false, [split#630797]\n",
      "                     :                          +- Project [split#630792]\n",
      "                     :                             +- Project [Text_Index#630890, split(Text_Index#630890, ', , -1) AS split#630792]\n",
      "                     :                                +- Project [Topic_Name#630888, URL#630889, Text_Index#630890, split(Network#630782, ,, -1) AS Network#630787]\n",
      "                     :                                   +- Project [Topic_Name#630888, URL#630889, Text_Index#630890, regexp_replace(Network#630891, [\\[\\]\\'], , 1) AS Network#630782]\n",
      "                     :                                      +- LogicalRDD [Topic_Name#630888, URL#630889, Text_Index#630890, Network#630891], false\n",
      "                     +- Project [Explode#630826, split#630830, 1#630846, split#630830[1] AS 2#630850]\n",
      "                        +- Project [Explode#630826, split#630830, split#630830[0] AS 1#630846]\n",
      "                           +- Project [Explode#630826, split(Explode#630826, ->, -1) AS split#630830]\n",
      "                              +- Project [Explode#630826]\n",
      "                                 +- Project [Network#630823, Explode#630826]\n",
      "                                    +- Generate explode(Network#630823), false, [Explode#630826]\n",
      "                                       +- Project [Network#630787 AS Network#630823]\n",
      "                                          +- Project [Topic_Name#630855, URL#630856, Text_Index#630857, split(Network#630782, ,, -1) AS Network#630787]\n",
      "                                             +- Project [Topic_Name#630855, URL#630856, Text_Index#630857, regexp_replace(Network#630858, [\\[\\]\\'], , 1) AS Network#630782]\n",
      "                                                +- LogicalRDD [Topic_Name#630855, URL#630856, Text_Index#630857, Network#630858], false\n",
      "\n"
     ]
    },
    {
     "name": "stderr",
     "output_type": "stream",
     "text": [
      " 60%|██████    | 53/88 [01:35<00:33,  1.04it/s]"
     ]
    },
    {
     "name": "stdout",
     "output_type": "stream",
     "text": [
      "[UNRESOLVED_COLUMN.WITH_SUGGESTION] A column or function parameter with name `3` cannot be resolved. Did you mean one of the following? [`1`, `2`].;\n",
      "'Filter NOT ('3 = NULL)\n",
      "+- Project [1#631024, 2#631057]\n",
      "   +- Project [Explode#630975, split#630979, 1#631024, 2#631057]\n",
      "      +- Project [id#630960, text#630951, length_of_text#630963, num_of_words#630967, Explode#630975, split#630979, 1#631024, text#630951 AS 2#631057]\n",
      "         +- Join RightOuter, (id#630960 = cast(2#630999 as int))\n",
      "            :- Project [id#630960, text#630951, length_of_text#630963, array_size(split(text#630951,  , -1)) AS num_of_words#630967]\n",
      "            :  +- Project [id#630960, text#630951, length(text#630951) AS length_of_text#630963]\n",
      "            :     +- Project [cast(id#630957 as int) AS id#630960, text#630951]\n",
      "            :        +- Project [regexp_replace(id#630948, [\\{\\}\"], , 1) AS id#630957, text#630951]\n",
      "            :           +- Project [id#630948, text#630951]\n",
      "            :              +- Project [split#630946, id#630948, split(split#630946, : ', -1)[1] AS text#630951]\n",
      "            :                 +- Project [split#630946, split(split#630946, : ', -1)[0] AS id#630948]\n",
      "            :                    +- Project [split#630946]\n",
      "            :                       +- Generate explode(split#630941), false, [split#630946]\n",
      "            :                          +- Project [split#630941]\n",
      "            :                             +- Project [Text_Index#630925, split(Text_Index#630925, ', , -1) AS split#630941]\n",
      "            :                                +- Project [Topic_Name#630923, URL#630924, Text_Index#630925, split(Network#630931, ,, -1) AS Network#630936]\n",
      "            :                                   +- Project [Topic_Name#630923, URL#630924, Text_Index#630925, regexp_replace(Network#630926, [\\[\\]\\'], , 1) AS Network#630931]\n",
      "            :                                      +- LogicalRDD [Topic_Name#630923, URL#630924, Text_Index#630925, Network#630926], false\n",
      "            +- Project [Explode#630975, split#630979, 1#631024, 2#630999]\n",
      "               +- Project [id#630960, text#630951, length_of_text#630963, num_of_words#630967, Explode#630975, split#630979, text#630951 AS 1#631024, 2#630999]\n",
      "                  +- Join RightOuter, (id#630960 = cast(1#630995 as int))\n",
      "                     :- Project [id#630960, text#630951, length_of_text#630963, array_size(split(text#630951,  , -1)) AS num_of_words#630967]\n",
      "                     :  +- Project [id#630960, text#630951, length(text#630951) AS length_of_text#630963]\n",
      "                     :     +- Project [cast(id#630957 as int) AS id#630960, text#630951]\n",
      "                     :        +- Project [regexp_replace(id#630948, [\\{\\}\"], , 1) AS id#630957, text#630951]\n",
      "                     :           +- Project [id#630948, text#630951]\n",
      "                     :              +- Project [split#630946, id#630948, split(split#630946, : ', -1)[1] AS text#630951]\n",
      "                     :                 +- Project [split#630946, split(split#630946, : ', -1)[0] AS id#630948]\n",
      "                     :                    +- Project [split#630946]\n",
      "                     :                       +- Generate explode(split#630941), false, [split#630946]\n",
      "                     :                          +- Project [split#630941]\n",
      "                     :                             +- Project [Text_Index#631039, split(Text_Index#631039, ', , -1) AS split#630941]\n",
      "                     :                                +- Project [Topic_Name#631037, URL#631038, Text_Index#631039, split(Network#630931, ,, -1) AS Network#630936]\n",
      "                     :                                   +- Project [Topic_Name#631037, URL#631038, Text_Index#631039, regexp_replace(Network#631040, [\\[\\]\\'], , 1) AS Network#630931]\n",
      "                     :                                      +- LogicalRDD [Topic_Name#631037, URL#631038, Text_Index#631039, Network#631040], false\n",
      "                     +- Project [Explode#630975, split#630979, 1#630995, split#630979[1] AS 2#630999]\n",
      "                        +- Project [Explode#630975, split#630979, split#630979[0] AS 1#630995]\n",
      "                           +- Project [Explode#630975, split(Explode#630975, ->, -1) AS split#630979]\n",
      "                              +- Project [Explode#630975]\n",
      "                                 +- Project [Network#630972, Explode#630975]\n",
      "                                    +- Generate explode(Network#630972), false, [Explode#630975]\n",
      "                                       +- Project [Network#630936 AS Network#630972]\n",
      "                                          +- Project [Topic_Name#631004, URL#631005, Text_Index#631006, split(Network#630931, ,, -1) AS Network#630936]\n",
      "                                             +- Project [Topic_Name#631004, URL#631005, Text_Index#631006, regexp_replace(Network#631007, [\\[\\]\\'], , 1) AS Network#630931]\n",
      "                                                +- LogicalRDD [Topic_Name#631004, URL#631005, Text_Index#631006, Network#631007], false\n",
      "\n"
     ]
    },
    {
     "name": "stderr",
     "output_type": "stream",
     "text": [
      " 62%|██████▎   | 55/88 [01:37<00:31,  1.03it/s]"
     ]
    },
    {
     "name": "stdout",
     "output_type": "stream",
     "text": [
      "list index out of range\n"
     ]
    },
    {
     "name": "stderr",
     "output_type": "stream",
     "text": [
      " 64%|██████▎   | 56/88 [01:38<00:25,  1.25it/s]"
     ]
    },
    {
     "name": "stdout",
     "output_type": "stream",
     "text": [
      "list index out of range\n"
     ]
    },
    {
     "name": "stderr",
     "output_type": "stream",
     "text": [
      " 65%|██████▍   | 57/88 [01:38<00:21,  1.46it/s]"
     ]
    },
    {
     "name": "stdout",
     "output_type": "stream",
     "text": [
      "list index out of range\n"
     ]
    },
    {
     "name": "stderr",
     "output_type": "stream",
     "text": [
      " 66%|██████▌   | 58/88 [01:39<00:18,  1.65it/s]"
     ]
    },
    {
     "name": "stdout",
     "output_type": "stream",
     "text": [
      "list index out of range\n"
     ]
    },
    {
     "name": "stderr",
     "output_type": "stream",
     "text": [
      " 67%|██████▋   | 59/88 [01:39<00:16,  1.79it/s]"
     ]
    },
    {
     "name": "stdout",
     "output_type": "stream",
     "text": [
      "list index out of range\n"
     ]
    },
    {
     "name": "stderr",
     "output_type": "stream",
     "text": [
      " 68%|██████▊   | 60/88 [01:39<00:14,  1.92it/s]"
     ]
    },
    {
     "name": "stdout",
     "output_type": "stream",
     "text": [
      "list index out of range\n"
     ]
    },
    {
     "name": "stderr",
     "output_type": "stream",
     "text": [
      " 69%|██████▉   | 61/88 [01:40<00:13,  2.05it/s]"
     ]
    },
    {
     "name": "stdout",
     "output_type": "stream",
     "text": [
      "list index out of range\n"
     ]
    },
    {
     "name": "stderr",
     "output_type": "stream",
     "text": [
      " 70%|███████   | 62/88 [01:40<00:12,  2.10it/s]"
     ]
    },
    {
     "name": "stdout",
     "output_type": "stream",
     "text": [
      "list index out of range\n"
     ]
    },
    {
     "name": "stderr",
     "output_type": "stream",
     "text": [
      " 72%|███████▏  | 63/88 [01:41<00:11,  2.21it/s]"
     ]
    },
    {
     "name": "stdout",
     "output_type": "stream",
     "text": [
      "list index out of range\n"
     ]
    },
    {
     "name": "stderr",
     "output_type": "stream",
     "text": [
      " 73%|███████▎  | 64/88 [01:41<00:10,  2.23it/s]"
     ]
    },
    {
     "name": "stdout",
     "output_type": "stream",
     "text": [
      "list index out of range\n"
     ]
    },
    {
     "name": "stderr",
     "output_type": "stream",
     "text": [
      " 74%|███████▍  | 65/88 [01:42<00:10,  2.22it/s]"
     ]
    },
    {
     "name": "stdout",
     "output_type": "stream",
     "text": [
      "list index out of range\n"
     ]
    },
    {
     "name": "stderr",
     "output_type": "stream",
     "text": [
      " 75%|███████▌  | 66/88 [01:42<00:09,  2.25it/s]"
     ]
    },
    {
     "name": "stdout",
     "output_type": "stream",
     "text": [
      "list index out of range\n"
     ]
    },
    {
     "name": "stderr",
     "output_type": "stream",
     "text": [
      " 76%|███████▌  | 67/88 [01:42<00:09,  2.29it/s]"
     ]
    },
    {
     "name": "stdout",
     "output_type": "stream",
     "text": [
      "list index out of range\n"
     ]
    },
    {
     "name": "stderr",
     "output_type": "stream",
     "text": [
      " 77%|███████▋  | 68/88 [01:43<00:08,  2.35it/s]"
     ]
    },
    {
     "name": "stdout",
     "output_type": "stream",
     "text": [
      "list index out of range\n"
     ]
    },
    {
     "name": "stderr",
     "output_type": "stream",
     "text": [
      " 78%|███████▊  | 69/88 [01:43<00:08,  2.37it/s]"
     ]
    },
    {
     "name": "stdout",
     "output_type": "stream",
     "text": [
      "list index out of range\n"
     ]
    },
    {
     "name": "stderr",
     "output_type": "stream",
     "text": [
      " 80%|███████▉  | 70/88 [01:44<00:07,  2.38it/s]"
     ]
    },
    {
     "name": "stdout",
     "output_type": "stream",
     "text": [
      "list index out of range\n"
     ]
    },
    {
     "name": "stderr",
     "output_type": "stream",
     "text": [
      " 81%|████████  | 71/88 [01:44<00:07,  2.42it/s]"
     ]
    },
    {
     "name": "stdout",
     "output_type": "stream",
     "text": [
      "list index out of range\n"
     ]
    },
    {
     "name": "stderr",
     "output_type": "stream",
     "text": [
      " 82%|████████▏ | 72/88 [01:45<00:06,  2.38it/s]"
     ]
    },
    {
     "name": "stdout",
     "output_type": "stream",
     "text": [
      "list index out of range\n"
     ]
    },
    {
     "name": "stderr",
     "output_type": "stream",
     "text": [
      " 83%|████████▎ | 73/88 [01:45<00:06,  2.27it/s]"
     ]
    },
    {
     "name": "stdout",
     "output_type": "stream",
     "text": [
      "list index out of range\n"
     ]
    },
    {
     "name": "stderr",
     "output_type": "stream",
     "text": [
      " 84%|████████▍ | 74/88 [01:45<00:06,  2.28it/s]"
     ]
    },
    {
     "name": "stdout",
     "output_type": "stream",
     "text": [
      "list index out of range\n"
     ]
    },
    {
     "name": "stderr",
     "output_type": "stream",
     "text": [
      " 85%|████████▌ | 75/88 [01:46<00:05,  2.34it/s]"
     ]
    },
    {
     "name": "stdout",
     "output_type": "stream",
     "text": [
      "list index out of range\n"
     ]
    },
    {
     "name": "stderr",
     "output_type": "stream",
     "text": [
      " 86%|████████▋ | 76/88 [01:46<00:05,  2.39it/s]"
     ]
    },
    {
     "name": "stdout",
     "output_type": "stream",
     "text": [
      "list index out of range\n"
     ]
    },
    {
     "name": "stderr",
     "output_type": "stream",
     "text": [
      " 88%|████████▊ | 77/88 [01:47<00:04,  2.40it/s]"
     ]
    },
    {
     "name": "stdout",
     "output_type": "stream",
     "text": [
      "list index out of range\n"
     ]
    },
    {
     "name": "stderr",
     "output_type": "stream",
     "text": [
      " 89%|████████▊ | 78/88 [01:47<00:04,  2.43it/s]"
     ]
    },
    {
     "name": "stdout",
     "output_type": "stream",
     "text": [
      "list index out of range\n"
     ]
    },
    {
     "name": "stderr",
     "output_type": "stream",
     "text": [
      " 90%|████████▉ | 79/88 [01:47<00:03,  2.44it/s]"
     ]
    },
    {
     "name": "stdout",
     "output_type": "stream",
     "text": [
      "list index out of range\n"
     ]
    },
    {
     "name": "stderr",
     "output_type": "stream",
     "text": [
      " 91%|█████████ | 80/88 [01:48<00:03,  2.37it/s]"
     ]
    },
    {
     "name": "stdout",
     "output_type": "stream",
     "text": [
      "list index out of range\n"
     ]
    },
    {
     "name": "stderr",
     "output_type": "stream",
     "text": [
      " 92%|█████████▏| 81/88 [01:48<00:03,  2.31it/s]"
     ]
    },
    {
     "name": "stdout",
     "output_type": "stream",
     "text": [
      "list index out of range\n"
     ]
    },
    {
     "name": "stderr",
     "output_type": "stream",
     "text": [
      " 93%|█████████▎| 82/88 [01:49<00:02,  2.36it/s]"
     ]
    },
    {
     "name": "stdout",
     "output_type": "stream",
     "text": [
      "list index out of range\n"
     ]
    },
    {
     "name": "stderr",
     "output_type": "stream",
     "text": [
      " 94%|█████████▍| 83/88 [01:49<00:02,  2.35it/s]"
     ]
    },
    {
     "name": "stdout",
     "output_type": "stream",
     "text": [
      "list index out of range\n"
     ]
    },
    {
     "name": "stderr",
     "output_type": "stream",
     "text": [
      " 95%|█████████▌| 84/88 [01:50<00:01,  2.33it/s]"
     ]
    },
    {
     "name": "stdout",
     "output_type": "stream",
     "text": [
      "list index out of range\n"
     ]
    },
    {
     "name": "stderr",
     "output_type": "stream",
     "text": [
      " 97%|█████████▋| 85/88 [01:50<00:01,  2.37it/s]"
     ]
    },
    {
     "name": "stdout",
     "output_type": "stream",
     "text": [
      "list index out of range\n"
     ]
    },
    {
     "name": "stderr",
     "output_type": "stream",
     "text": [
      " 99%|█████████▉| 87/88 [01:54<00:01,  1.33s/it]"
     ]
    },
    {
     "name": "stdout",
     "output_type": "stream",
     "text": [
      "local variable 'update_dict' referenced before assignment\n"
     ]
    },
    {
     "name": "stderr",
     "output_type": "stream",
     "text": [
      "100%|██████████| 88/88 [01:56<00:00,  1.33s/it]\n",
      " 46%|████▌     | 11/24 [00:20<00:19,  1.53s/it]"
     ]
    },
    {
     "name": "stdout",
     "output_type": "stream",
     "text": [
      "[UNRESOLVED_COLUMN.WITH_SUGGESTION] A column or function parameter with name `3` cannot be resolved. Did you mean one of the following? [`1`, `2`].;\n",
      "'Filter NOT ('3 = NULL)\n",
      "+- Project [1#636887, 2#636920]\n",
      "   +- Project [Explode#636838, split#636842, 1#636887, 2#636920]\n",
      "      +- Project [id#636823, text#636814, length_of_text#636826, num_of_words#636830, Explode#636838, split#636842, 1#636887, text#636814 AS 2#636920]\n",
      "         +- Join RightOuter, (id#636823 = cast(2#636862 as int))\n",
      "            :- Project [id#636823, text#636814, length_of_text#636826, array_size(split(text#636814,  , -1)) AS num_of_words#636830]\n",
      "            :  +- Project [id#636823, text#636814, length(text#636814) AS length_of_text#636826]\n",
      "            :     +- Project [cast(id#636820 as int) AS id#636823, text#636814]\n",
      "            :        +- Project [regexp_replace(id#636811, [\\{\\}\"], , 1) AS id#636820, text#636814]\n",
      "            :           +- Project [id#636811, text#636814]\n",
      "            :              +- Project [split#636809, id#636811, split(split#636809, : ', -1)[1] AS text#636814]\n",
      "            :                 +- Project [split#636809, split(split#636809, : ', -1)[0] AS id#636811]\n",
      "            :                    +- Project [split#636809]\n",
      "            :                       +- Generate explode(split#636804), false, [split#636809]\n",
      "            :                          +- Project [split#636804]\n",
      "            :                             +- Project [Text_Index#636788, split(Text_Index#636788, ', , -1) AS split#636804]\n",
      "            :                                +- Project [Topic_Name#636786, URL#636787, Text_Index#636788, split(Network#636794, ,, -1) AS Network#636799]\n",
      "            :                                   +- Project [Topic_Name#636786, URL#636787, Text_Index#636788, regexp_replace(Network#636789, [\\[\\]\\'], , 1) AS Network#636794]\n",
      "            :                                      +- LogicalRDD [Topic_Name#636786, URL#636787, Text_Index#636788, Network#636789], false\n",
      "            +- Project [Explode#636838, split#636842, 1#636887, 2#636862]\n",
      "               +- Project [id#636823, text#636814, length_of_text#636826, num_of_words#636830, Explode#636838, split#636842, text#636814 AS 1#636887, 2#636862]\n",
      "                  +- Join RightOuter, (id#636823 = cast(1#636858 as int))\n",
      "                     :- Project [id#636823, text#636814, length_of_text#636826, array_size(split(text#636814,  , -1)) AS num_of_words#636830]\n",
      "                     :  +- Project [id#636823, text#636814, length(text#636814) AS length_of_text#636826]\n",
      "                     :     +- Project [cast(id#636820 as int) AS id#636823, text#636814]\n",
      "                     :        +- Project [regexp_replace(id#636811, [\\{\\}\"], , 1) AS id#636820, text#636814]\n",
      "                     :           +- Project [id#636811, text#636814]\n",
      "                     :              +- Project [split#636809, id#636811, split(split#636809, : ', -1)[1] AS text#636814]\n",
      "                     :                 +- Project [split#636809, split(split#636809, : ', -1)[0] AS id#636811]\n",
      "                     :                    +- Project [split#636809]\n",
      "                     :                       +- Generate explode(split#636804), false, [split#636809]\n",
      "                     :                          +- Project [split#636804]\n",
      "                     :                             +- Project [Text_Index#636902, split(Text_Index#636902, ', , -1) AS split#636804]\n",
      "                     :                                +- Project [Topic_Name#636900, URL#636901, Text_Index#636902, split(Network#636794, ,, -1) AS Network#636799]\n",
      "                     :                                   +- Project [Topic_Name#636900, URL#636901, Text_Index#636902, regexp_replace(Network#636903, [\\[\\]\\'], , 1) AS Network#636794]\n",
      "                     :                                      +- LogicalRDD [Topic_Name#636900, URL#636901, Text_Index#636902, Network#636903], false\n",
      "                     +- Project [Explode#636838, split#636842, 1#636858, split#636842[1] AS 2#636862]\n",
      "                        +- Project [Explode#636838, split#636842, split#636842[0] AS 1#636858]\n",
      "                           +- Project [Explode#636838, split(Explode#636838, ->, -1) AS split#636842]\n",
      "                              +- Project [Explode#636838]\n",
      "                                 +- Project [Network#636835, Explode#636838]\n",
      "                                    +- Generate explode(Network#636835), false, [Explode#636838]\n",
      "                                       +- Project [Network#636799 AS Network#636835]\n",
      "                                          +- Project [Topic_Name#636867, URL#636868, Text_Index#636869, split(Network#636794, ,, -1) AS Network#636799]\n",
      "                                             +- Project [Topic_Name#636867, URL#636868, Text_Index#636869, regexp_replace(Network#636870, [\\[\\]\\'], , 1) AS Network#636794]\n",
      "                                                +- LogicalRDD [Topic_Name#636867, URL#636868, Text_Index#636869, Network#636870], false\n",
      "\n"
     ]
    },
    {
     "name": "stderr",
     "output_type": "stream",
     "text": [
      " 58%|█████▊    | 14/24 [00:24<00:13,  1.35s/it]"
     ]
    },
    {
     "name": "stdout",
     "output_type": "stream",
     "text": [
      "[UNRESOLVED_COLUMN.WITH_SUGGESTION] A column or function parameter with name `3` cannot be resolved. Did you mean one of the following? [`1`, `2`].;\n",
      "'Filter NOT ('3 = NULL)\n",
      "+- Project [1#637499, 2#637532]\n",
      "   +- Project [Explode#637450, split#637454, 1#637499, 2#637532]\n",
      "      +- Project [id#637435, text#637426, length_of_text#637438, num_of_words#637442, Explode#637450, split#637454, 1#637499, text#637426 AS 2#637532]\n",
      "         +- Join RightOuter, (id#637435 = cast(2#637474 as int))\n",
      "            :- Project [id#637435, text#637426, length_of_text#637438, array_size(split(text#637426,  , -1)) AS num_of_words#637442]\n",
      "            :  +- Project [id#637435, text#637426, length(text#637426) AS length_of_text#637438]\n",
      "            :     +- Project [cast(id#637432 as int) AS id#637435, text#637426]\n",
      "            :        +- Project [regexp_replace(id#637423, [\\{\\}\"], , 1) AS id#637432, text#637426]\n",
      "            :           +- Project [id#637423, text#637426]\n",
      "            :              +- Project [split#637421, id#637423, split(split#637421, : ', -1)[1] AS text#637426]\n",
      "            :                 +- Project [split#637421, split(split#637421, : ', -1)[0] AS id#637423]\n",
      "            :                    +- Project [split#637421]\n",
      "            :                       +- Generate explode(split#637416), false, [split#637421]\n",
      "            :                          +- Project [split#637416]\n",
      "            :                             +- Project [Text_Index#637400, split(Text_Index#637400, ', , -1) AS split#637416]\n",
      "            :                                +- Project [Topic_Name#637398, URL#637399, Text_Index#637400, split(Network#637406, ,, -1) AS Network#637411]\n",
      "            :                                   +- Project [Topic_Name#637398, URL#637399, Text_Index#637400, regexp_replace(Network#637401, [\\[\\]\\'], , 1) AS Network#637406]\n",
      "            :                                      +- LogicalRDD [Topic_Name#637398, URL#637399, Text_Index#637400, Network#637401], false\n",
      "            +- Project [Explode#637450, split#637454, 1#637499, 2#637474]\n",
      "               +- Project [id#637435, text#637426, length_of_text#637438, num_of_words#637442, Explode#637450, split#637454, text#637426 AS 1#637499, 2#637474]\n",
      "                  +- Join RightOuter, (id#637435 = cast(1#637470 as int))\n",
      "                     :- Project [id#637435, text#637426, length_of_text#637438, array_size(split(text#637426,  , -1)) AS num_of_words#637442]\n",
      "                     :  +- Project [id#637435, text#637426, length(text#637426) AS length_of_text#637438]\n",
      "                     :     +- Project [cast(id#637432 as int) AS id#637435, text#637426]\n",
      "                     :        +- Project [regexp_replace(id#637423, [\\{\\}\"], , 1) AS id#637432, text#637426]\n",
      "                     :           +- Project [id#637423, text#637426]\n",
      "                     :              +- Project [split#637421, id#637423, split(split#637421, : ', -1)[1] AS text#637426]\n",
      "                     :                 +- Project [split#637421, split(split#637421, : ', -1)[0] AS id#637423]\n",
      "                     :                    +- Project [split#637421]\n",
      "                     :                       +- Generate explode(split#637416), false, [split#637421]\n",
      "                     :                          +- Project [split#637416]\n",
      "                     :                             +- Project [Text_Index#637514, split(Text_Index#637514, ', , -1) AS split#637416]\n",
      "                     :                                +- Project [Topic_Name#637512, URL#637513, Text_Index#637514, split(Network#637406, ,, -1) AS Network#637411]\n",
      "                     :                                   +- Project [Topic_Name#637512, URL#637513, Text_Index#637514, regexp_replace(Network#637515, [\\[\\]\\'], , 1) AS Network#637406]\n",
      "                     :                                      +- LogicalRDD [Topic_Name#637512, URL#637513, Text_Index#637514, Network#637515], false\n",
      "                     +- Project [Explode#637450, split#637454, 1#637470, split#637454[1] AS 2#637474]\n",
      "                        +- Project [Explode#637450, split#637454, split#637454[0] AS 1#637470]\n",
      "                           +- Project [Explode#637450, split(Explode#637450, ->, -1) AS split#637454]\n",
      "                              +- Project [Explode#637450]\n",
      "                                 +- Project [Network#637447, Explode#637450]\n",
      "                                    +- Generate explode(Network#637447), false, [Explode#637450]\n",
      "                                       +- Project [Network#637411 AS Network#637447]\n",
      "                                          +- Project [Topic_Name#637479, URL#637480, Text_Index#637481, split(Network#637406, ,, -1) AS Network#637411]\n",
      "                                             +- Project [Topic_Name#637479, URL#637480, Text_Index#637481, regexp_replace(Network#637482, [\\[\\]\\'], , 1) AS Network#637406]\n",
      "                                                +- LogicalRDD [Topic_Name#637479, URL#637480, Text_Index#637481, Network#637482], false\n",
      "\n"
     ]
    },
    {
     "name": "stderr",
     "output_type": "stream",
     "text": [
      " 71%|███████   | 17/24 [00:28<00:08,  1.23s/it]"
     ]
    },
    {
     "name": "stdout",
     "output_type": "stream",
     "text": [
      "[UNRESOLVED_COLUMN.WITH_SUGGESTION] A column or function parameter with name `3` cannot be resolved. Did you mean one of the following? [`1`, `2`].;\n",
      "'Filter NOT ('3 = NULL)\n",
      "+- Project [1#638050, 2#638083]\n",
      "   +- Project [Explode#638001, split#638005, 1#638050, 2#638083]\n",
      "      +- Project [id#637986, text#637977, length_of_text#637989, num_of_words#637993, Explode#638001, split#638005, 1#638050, text#637977 AS 2#638083]\n",
      "         +- Join RightOuter, (id#637986 = cast(2#638025 as int))\n",
      "            :- Project [id#637986, text#637977, length_of_text#637989, array_size(split(text#637977,  , -1)) AS num_of_words#637993]\n",
      "            :  +- Project [id#637986, text#637977, length(text#637977) AS length_of_text#637989]\n",
      "            :     +- Project [cast(id#637983 as int) AS id#637986, text#637977]\n",
      "            :        +- Project [regexp_replace(id#637974, [\\{\\}\"], , 1) AS id#637983, text#637977]\n",
      "            :           +- Project [id#637974, text#637977]\n",
      "            :              +- Project [split#637972, id#637974, split(split#637972, : ', -1)[1] AS text#637977]\n",
      "            :                 +- Project [split#637972, split(split#637972, : ', -1)[0] AS id#637974]\n",
      "            :                    +- Project [split#637972]\n",
      "            :                       +- Generate explode(split#637967), false, [split#637972]\n",
      "            :                          +- Project [split#637967]\n",
      "            :                             +- Project [Text_Index#637951, split(Text_Index#637951, ', , -1) AS split#637967]\n",
      "            :                                +- Project [Topic_Name#637949, URL#637950, Text_Index#637951, split(Network#637957, ,, -1) AS Network#637962]\n",
      "            :                                   +- Project [Topic_Name#637949, URL#637950, Text_Index#637951, regexp_replace(Network#637952, [\\[\\]\\'], , 1) AS Network#637957]\n",
      "            :                                      +- LogicalRDD [Topic_Name#637949, URL#637950, Text_Index#637951, Network#637952], false\n",
      "            +- Project [Explode#638001, split#638005, 1#638050, 2#638025]\n",
      "               +- Project [id#637986, text#637977, length_of_text#637989, num_of_words#637993, Explode#638001, split#638005, text#637977 AS 1#638050, 2#638025]\n",
      "                  +- Join RightOuter, (id#637986 = cast(1#638021 as int))\n",
      "                     :- Project [id#637986, text#637977, length_of_text#637989, array_size(split(text#637977,  , -1)) AS num_of_words#637993]\n",
      "                     :  +- Project [id#637986, text#637977, length(text#637977) AS length_of_text#637989]\n",
      "                     :     +- Project [cast(id#637983 as int) AS id#637986, text#637977]\n",
      "                     :        +- Project [regexp_replace(id#637974, [\\{\\}\"], , 1) AS id#637983, text#637977]\n",
      "                     :           +- Project [id#637974, text#637977]\n",
      "                     :              +- Project [split#637972, id#637974, split(split#637972, : ', -1)[1] AS text#637977]\n",
      "                     :                 +- Project [split#637972, split(split#637972, : ', -1)[0] AS id#637974]\n",
      "                     :                    +- Project [split#637972]\n",
      "                     :                       +- Generate explode(split#637967), false, [split#637972]\n",
      "                     :                          +- Project [split#637967]\n",
      "                     :                             +- Project [Text_Index#638065, split(Text_Index#638065, ', , -1) AS split#637967]\n",
      "                     :                                +- Project [Topic_Name#638063, URL#638064, Text_Index#638065, split(Network#637957, ,, -1) AS Network#637962]\n",
      "                     :                                   +- Project [Topic_Name#638063, URL#638064, Text_Index#638065, regexp_replace(Network#638066, [\\[\\]\\'], , 1) AS Network#637957]\n",
      "                     :                                      +- LogicalRDD [Topic_Name#638063, URL#638064, Text_Index#638065, Network#638066], false\n",
      "                     +- Project [Explode#638001, split#638005, 1#638021, split#638005[1] AS 2#638025]\n",
      "                        +- Project [Explode#638001, split#638005, split#638005[0] AS 1#638021]\n",
      "                           +- Project [Explode#638001, split(Explode#638001, ->, -1) AS split#638005]\n",
      "                              +- Project [Explode#638001]\n",
      "                                 +- Project [Network#637998, Explode#638001]\n",
      "                                    +- Generate explode(Network#637998), false, [Explode#638001]\n",
      "                                       +- Project [Network#637962 AS Network#637998]\n",
      "                                          +- Project [Topic_Name#638030, URL#638031, Text_Index#638032, split(Network#637957, ,, -1) AS Network#637962]\n",
      "                                             +- Project [Topic_Name#638030, URL#638031, Text_Index#638032, regexp_replace(Network#638033, [\\[\\]\\'], , 1) AS Network#637957]\n",
      "                                                +- LogicalRDD [Topic_Name#638030, URL#638031, Text_Index#638032, Network#638033], false\n",
      "\n"
     ]
    },
    {
     "name": "stderr",
     "output_type": "stream",
     "text": [
      "100%|██████████| 24/24 [00:43<00:00,  1.79s/it]\n",
      "  9%|▉         | 5/54 [00:09<01:32,  1.88s/it]"
     ]
    },
    {
     "name": "stdout",
     "output_type": "stream",
     "text": [
      "local variable 'update_dict' referenced before assignment\n"
     ]
    },
    {
     "name": "stderr",
     "output_type": "stream",
     "text": [
      " 11%|█         | 6/54 [00:11<01:28,  1.84s/it]"
     ]
    },
    {
     "name": "stdout",
     "output_type": "stream",
     "text": [
      "local variable 'update_dict' referenced before assignment\n"
     ]
    },
    {
     "name": "stderr",
     "output_type": "stream",
     "text": [
      " 17%|█▋        | 9/54 [00:15<01:00,  1.34s/it]"
     ]
    },
    {
     "name": "stdout",
     "output_type": "stream",
     "text": [
      "list index out of range\n"
     ]
    },
    {
     "name": "stderr",
     "output_type": "stream",
     "text": [
      " 20%|██        | 11/54 [00:17<00:51,  1.20s/it]"
     ]
    },
    {
     "name": "stdout",
     "output_type": "stream",
     "text": [
      "list index out of range\n"
     ]
    },
    {
     "name": "stderr",
     "output_type": "stream",
     "text": [
      " 43%|████▎     | 23/54 [00:43<00:50,  1.63s/it]"
     ]
    },
    {
     "name": "stdout",
     "output_type": "stream",
     "text": [
      "list index out of range\n"
     ]
    },
    {
     "name": "stderr",
     "output_type": "stream",
     "text": [
      " 46%|████▋     | 25/54 [00:46<00:41,  1.43s/it]"
     ]
    },
    {
     "name": "stdout",
     "output_type": "stream",
     "text": [
      "list index out of range\n"
     ]
    },
    {
     "name": "stderr",
     "output_type": "stream",
     "text": [
      " 50%|█████     | 27/54 [00:49<00:36,  1.36s/it]"
     ]
    },
    {
     "name": "stdout",
     "output_type": "stream",
     "text": [
      "list index out of range\n"
     ]
    },
    {
     "name": "stderr",
     "output_type": "stream",
     "text": [
      " 67%|██████▋   | 36/54 [01:09<00:39,  2.19s/it]"
     ]
    },
    {
     "name": "stdout",
     "output_type": "stream",
     "text": [
      "local variable 'update_dict' referenced before assignment\n"
     ]
    },
    {
     "name": "stderr",
     "output_type": "stream",
     "text": [
      " 93%|█████████▎| 50/54 [01:39<00:06,  1.65s/it]"
     ]
    },
    {
     "name": "stdout",
     "output_type": "stream",
     "text": [
      "list index out of range\n"
     ]
    },
    {
     "name": "stderr",
     "output_type": "stream",
     "text": [
      " 96%|█████████▋| 52/54 [01:42<00:03,  1.74s/it]"
     ]
    },
    {
     "name": "stdout",
     "output_type": "stream",
     "text": [
      "0\n"
     ]
    },
    {
     "name": "stderr",
     "output_type": "stream",
     "text": [
      "100%|██████████| 54/54 [01:47<00:00,  1.98s/it]\n",
      " 21%|██        | 15/73 [00:32<01:59,  2.07s/it]"
     ]
    },
    {
     "name": "stdout",
     "output_type": "stream",
     "text": [
      "local variable 'update_dict' referenced before assignment\n"
     ]
    },
    {
     "name": "stderr",
     "output_type": "stream",
     "text": [
      " 26%|██▌       | 19/73 [00:39<01:24,  1.57s/it]"
     ]
    },
    {
     "name": "stdout",
     "output_type": "stream",
     "text": [
      "list index out of range\n"
     ]
    },
    {
     "name": "stderr",
     "output_type": "stream",
     "text": [
      " 59%|█████▉    | 43/73 [01:30<00:50,  1.69s/it]"
     ]
    },
    {
     "name": "stdout",
     "output_type": "stream",
     "text": [
      "list index out of range\n"
     ]
    },
    {
     "name": "stderr",
     "output_type": "stream",
     "text": [
      " 67%|██████▋   | 49/73 [01:43<00:52,  2.18s/it]"
     ]
    },
    {
     "name": "stdout",
     "output_type": "stream",
     "text": [
      "local variable 'update_dict' referenced before assignment\n"
     ]
    },
    {
     "name": "stderr",
     "output_type": "stream",
     "text": [
      " 75%|███████▌  | 55/73 [01:55<00:37,  2.09s/it]"
     ]
    },
    {
     "name": "stdout",
     "output_type": "stream",
     "text": [
      "local variable 'update_dict' referenced before assignment\n"
     ]
    },
    {
     "name": "stderr",
     "output_type": "stream",
     "text": [
      " 78%|███████▊  | 57/73 [01:57<00:24,  1.56s/it]"
     ]
    },
    {
     "name": "stdout",
     "output_type": "stream",
     "text": [
      "list index out of range\n"
     ]
    },
    {
     "name": "stderr",
     "output_type": "stream",
     "text": [
      " 82%|████████▏ | 60/73 [02:03<00:23,  1.77s/it]"
     ]
    },
    {
     "name": "stdout",
     "output_type": "stream",
     "text": [
      "0\n"
     ]
    },
    {
     "name": "stderr",
     "output_type": "stream",
     "text": [
      " 89%|████████▉ | 65/73 [02:10<00:11,  1.38s/it]"
     ]
    },
    {
     "name": "stdout",
     "output_type": "stream",
     "text": [
      "[UNRESOLVED_COLUMN.WITH_SUGGESTION] A column or function parameter with name `3` cannot be resolved. Did you mean one of the following? [`1`, `2`].;\n",
      "'Filter NOT ('3 = NULL)\n",
      "+- Project [1#672800, 2#672833]\n",
      "   +- Project [Explode#672751, split#672755, 1#672800, 2#672833]\n",
      "      +- Project [id#672736, text#672727, length_of_text#672739, num_of_words#672743, Explode#672751, split#672755, 1#672800, text#672727 AS 2#672833]\n",
      "         +- Join RightOuter, (id#672736 = cast(2#672775 as int))\n",
      "            :- Project [id#672736, text#672727, length_of_text#672739, array_size(split(text#672727,  , -1)) AS num_of_words#672743]\n",
      "            :  +- Project [id#672736, text#672727, length(text#672727) AS length_of_text#672739]\n",
      "            :     +- Project [cast(id#672733 as int) AS id#672736, text#672727]\n",
      "            :        +- Project [regexp_replace(id#672724, [\\{\\}\"], , 1) AS id#672733, text#672727]\n",
      "            :           +- Project [id#672724, text#672727]\n",
      "            :              +- Project [split#672722, id#672724, split(split#672722, : ', -1)[1] AS text#672727]\n",
      "            :                 +- Project [split#672722, split(split#672722, : ', -1)[0] AS id#672724]\n",
      "            :                    +- Project [split#672722]\n",
      "            :                       +- Generate explode(split#672717), false, [split#672722]\n",
      "            :                          +- Project [split#672717]\n",
      "            :                             +- Project [Text_Index#672701, split(Text_Index#672701, ', , -1) AS split#672717]\n",
      "            :                                +- Project [Topic_Name#672699, URL#672700, Text_Index#672701, split(Network#672707, ,, -1) AS Network#672712]\n",
      "            :                                   +- Project [Topic_Name#672699, URL#672700, Text_Index#672701, regexp_replace(Network#672702, [\\[\\]\\'], , 1) AS Network#672707]\n",
      "            :                                      +- LogicalRDD [Topic_Name#672699, URL#672700, Text_Index#672701, Network#672702], false\n",
      "            +- Project [Explode#672751, split#672755, 1#672800, 2#672775]\n",
      "               +- Project [id#672736, text#672727, length_of_text#672739, num_of_words#672743, Explode#672751, split#672755, text#672727 AS 1#672800, 2#672775]\n",
      "                  +- Join RightOuter, (id#672736 = cast(1#672771 as int))\n",
      "                     :- Project [id#672736, text#672727, length_of_text#672739, array_size(split(text#672727,  , -1)) AS num_of_words#672743]\n",
      "                     :  +- Project [id#672736, text#672727, length(text#672727) AS length_of_text#672739]\n",
      "                     :     +- Project [cast(id#672733 as int) AS id#672736, text#672727]\n",
      "                     :        +- Project [regexp_replace(id#672724, [\\{\\}\"], , 1) AS id#672733, text#672727]\n",
      "                     :           +- Project [id#672724, text#672727]\n",
      "                     :              +- Project [split#672722, id#672724, split(split#672722, : ', -1)[1] AS text#672727]\n",
      "                     :                 +- Project [split#672722, split(split#672722, : ', -1)[0] AS id#672724]\n",
      "                     :                    +- Project [split#672722]\n",
      "                     :                       +- Generate explode(split#672717), false, [split#672722]\n",
      "                     :                          +- Project [split#672717]\n",
      "                     :                             +- Project [Text_Index#672815, split(Text_Index#672815, ', , -1) AS split#672717]\n",
      "                     :                                +- Project [Topic_Name#672813, URL#672814, Text_Index#672815, split(Network#672707, ,, -1) AS Network#672712]\n",
      "                     :                                   +- Project [Topic_Name#672813, URL#672814, Text_Index#672815, regexp_replace(Network#672816, [\\[\\]\\'], , 1) AS Network#672707]\n",
      "                     :                                      +- LogicalRDD [Topic_Name#672813, URL#672814, Text_Index#672815, Network#672816], false\n",
      "                     +- Project [Explode#672751, split#672755, 1#672771, split#672755[1] AS 2#672775]\n",
      "                        +- Project [Explode#672751, split#672755, split#672755[0] AS 1#672771]\n",
      "                           +- Project [Explode#672751, split(Explode#672751, ->, -1) AS split#672755]\n",
      "                              +- Project [Explode#672751]\n",
      "                                 +- Project [Network#672748, Explode#672751]\n",
      "                                    +- Generate explode(Network#672748), false, [Explode#672751]\n",
      "                                       +- Project [Network#672712 AS Network#672748]\n",
      "                                          +- Project [Topic_Name#672780, URL#672781, Text_Index#672782, split(Network#672707, ,, -1) AS Network#672712]\n",
      "                                             +- Project [Topic_Name#672780, URL#672781, Text_Index#672782, regexp_replace(Network#672783, [\\[\\]\\'], , 1) AS Network#672707]\n",
      "                                                +- LogicalRDD [Topic_Name#672780, URL#672781, Text_Index#672782, Network#672783], false\n",
      "\n"
     ]
    },
    {
     "name": "stderr",
     "output_type": "stream",
     "text": [
      " 90%|█████████ | 66/73 [02:12<00:10,  1.48s/it]"
     ]
    },
    {
     "name": "stdout",
     "output_type": "stream",
     "text": [
      "0\n"
     ]
    },
    {
     "name": "stderr",
     "output_type": "stream",
     "text": [
      " 92%|█████████▏| 67/73 [02:14<00:09,  1.62s/it]"
     ]
    },
    {
     "name": "stdout",
     "output_type": "stream",
     "text": [
      "0\n"
     ]
    },
    {
     "name": "stderr",
     "output_type": "stream",
     "text": [
      " 99%|█████████▊| 72/73 [02:24<00:01,  1.65s/it]"
     ]
    },
    {
     "name": "stdout",
     "output_type": "stream",
     "text": [
      "[UNRESOLVED_COLUMN.WITH_SUGGESTION] A column or function parameter with name `3` cannot be resolved. Did you mean one of the following? [`1`, `2`].;\n",
      "'Filter NOT ('3 = NULL)\n",
      "+- Project [1#674670, 2#674703]\n",
      "   +- Project [Explode#674621, split#674625, 1#674670, 2#674703]\n",
      "      +- Project [id#674606, text#674597, length_of_text#674609, num_of_words#674613, Explode#674621, split#674625, 1#674670, text#674597 AS 2#674703]\n",
      "         +- Join RightOuter, (id#674606 = cast(2#674645 as int))\n",
      "            :- Project [id#674606, text#674597, length_of_text#674609, array_size(split(text#674597,  , -1)) AS num_of_words#674613]\n",
      "            :  +- Project [id#674606, text#674597, length(text#674597) AS length_of_text#674609]\n",
      "            :     +- Project [cast(id#674603 as int) AS id#674606, text#674597]\n",
      "            :        +- Project [regexp_replace(id#674594, [\\{\\}\"], , 1) AS id#674603, text#674597]\n",
      "            :           +- Project [id#674594, text#674597]\n",
      "            :              +- Project [split#674592, id#674594, split(split#674592, : ', -1)[1] AS text#674597]\n",
      "            :                 +- Project [split#674592, split(split#674592, : ', -1)[0] AS id#674594]\n",
      "            :                    +- Project [split#674592]\n",
      "            :                       +- Generate explode(split#674587), false, [split#674592]\n",
      "            :                          +- Project [split#674587]\n",
      "            :                             +- Project [Text_Index#674571, split(Text_Index#674571, ', , -1) AS split#674587]\n",
      "            :                                +- Project [Topic_Name#674569, URL#674570, Text_Index#674571, split(Network#674577, ,, -1) AS Network#674582]\n",
      "            :                                   +- Project [Topic_Name#674569, URL#674570, Text_Index#674571, regexp_replace(Network#674572, [\\[\\]\\'], , 1) AS Network#674577]\n",
      "            :                                      +- LogicalRDD [Topic_Name#674569, URL#674570, Text_Index#674571, Network#674572], false\n",
      "            +- Project [Explode#674621, split#674625, 1#674670, 2#674645]\n",
      "               +- Project [id#674606, text#674597, length_of_text#674609, num_of_words#674613, Explode#674621, split#674625, text#674597 AS 1#674670, 2#674645]\n",
      "                  +- Join RightOuter, (id#674606 = cast(1#674641 as int))\n",
      "                     :- Project [id#674606, text#674597, length_of_text#674609, array_size(split(text#674597,  , -1)) AS num_of_words#674613]\n",
      "                     :  +- Project [id#674606, text#674597, length(text#674597) AS length_of_text#674609]\n",
      "                     :     +- Project [cast(id#674603 as int) AS id#674606, text#674597]\n",
      "                     :        +- Project [regexp_replace(id#674594, [\\{\\}\"], , 1) AS id#674603, text#674597]\n",
      "                     :           +- Project [id#674594, text#674597]\n",
      "                     :              +- Project [split#674592, id#674594, split(split#674592, : ', -1)[1] AS text#674597]\n",
      "                     :                 +- Project [split#674592, split(split#674592, : ', -1)[0] AS id#674594]\n",
      "                     :                    +- Project [split#674592]\n",
      "                     :                       +- Generate explode(split#674587), false, [split#674592]\n",
      "                     :                          +- Project [split#674587]\n",
      "                     :                             +- Project [Text_Index#674685, split(Text_Index#674685, ', , -1) AS split#674587]\n",
      "                     :                                +- Project [Topic_Name#674683, URL#674684, Text_Index#674685, split(Network#674577, ,, -1) AS Network#674582]\n",
      "                     :                                   +- Project [Topic_Name#674683, URL#674684, Text_Index#674685, regexp_replace(Network#674686, [\\[\\]\\'], , 1) AS Network#674577]\n",
      "                     :                                      +- LogicalRDD [Topic_Name#674683, URL#674684, Text_Index#674685, Network#674686], false\n",
      "                     +- Project [Explode#674621, split#674625, 1#674641, split#674625[1] AS 2#674645]\n",
      "                        +- Project [Explode#674621, split#674625, split#674625[0] AS 1#674641]\n",
      "                           +- Project [Explode#674621, split(Explode#674621, ->, -1) AS split#674625]\n",
      "                              +- Project [Explode#674621]\n",
      "                                 +- Project [Network#674618, Explode#674621]\n",
      "                                    +- Generate explode(Network#674618), false, [Explode#674621]\n",
      "                                       +- Project [Network#674582 AS Network#674618]\n",
      "                                          +- Project [Topic_Name#674650, URL#674651, Text_Index#674652, split(Network#674577, ,, -1) AS Network#674582]\n",
      "                                             +- Project [Topic_Name#674650, URL#674651, Text_Index#674652, regexp_replace(Network#674653, [\\[\\]\\'], , 1) AS Network#674577]\n",
      "                                                +- LogicalRDD [Topic_Name#674650, URL#674651, Text_Index#674652, Network#674653], false\n",
      "\n"
     ]
    },
    {
     "name": "stderr",
     "output_type": "stream",
     "text": [
      "100%|██████████| 73/73 [02:26<00:00,  2.01s/it]\n",
      "  2%|▏         | 2/86 [00:03<02:41,  1.92s/it]"
     ]
    },
    {
     "name": "stdout",
     "output_type": "stream",
     "text": [
      "local variable 'update_dict' referenced before assignment\n"
     ]
    },
    {
     "name": "stderr",
     "output_type": "stream",
     "text": [
      " 20%|█▉        | 17/86 [00:34<02:04,  1.80s/it]"
     ]
    },
    {
     "name": "stdout",
     "output_type": "stream",
     "text": [
      "0\n"
     ]
    },
    {
     "name": "stderr",
     "output_type": "stream",
     "text": [
      " 21%|██        | 18/86 [00:34<01:36,  1.42s/it]"
     ]
    },
    {
     "name": "stdout",
     "output_type": "stream",
     "text": [
      "[UNRESOLVED_COLUMN.WITH_SUGGESTION] A column or function parameter with name `3` cannot be resolved. Did you mean one of the following? [`1`, `2`].;\n",
      "'Filter NOT ('3 = NULL)\n",
      "+- Project [1#679268, 2#679301]\n",
      "   +- Project [Explode#679219, split#679223, 1#679268, 2#679301]\n",
      "      +- Project [id#679204, text#679195, length_of_text#679207, num_of_words#679211, Explode#679219, split#679223, 1#679268, text#679195 AS 2#679301]\n",
      "         +- Join RightOuter, (id#679204 = cast(2#679243 as int))\n",
      "            :- Project [id#679204, text#679195, length_of_text#679207, array_size(split(text#679195,  , -1)) AS num_of_words#679211]\n",
      "            :  +- Project [id#679204, text#679195, length(text#679195) AS length_of_text#679207]\n",
      "            :     +- Project [cast(id#679201 as int) AS id#679204, text#679195]\n",
      "            :        +- Project [regexp_replace(id#679192, [\\{\\}\"], , 1) AS id#679201, text#679195]\n",
      "            :           +- Project [id#679192, text#679195]\n",
      "            :              +- Project [split#679190, id#679192, split(split#679190, : ', -1)[1] AS text#679195]\n",
      "            :                 +- Project [split#679190, split(split#679190, : ', -1)[0] AS id#679192]\n",
      "            :                    +- Project [split#679190]\n",
      "            :                       +- Generate explode(split#679185), false, [split#679190]\n",
      "            :                          +- Project [split#679185]\n",
      "            :                             +- Project [Text_Index#679169, split(Text_Index#679169, ', , -1) AS split#679185]\n",
      "            :                                +- Project [Topic_Name#679167, URL#679168, Text_Index#679169, split(Network#679175, ,, -1) AS Network#679180]\n",
      "            :                                   +- Project [Topic_Name#679167, URL#679168, Text_Index#679169, regexp_replace(Network#679170, [\\[\\]\\'], , 1) AS Network#679175]\n",
      "            :                                      +- LogicalRDD [Topic_Name#679167, URL#679168, Text_Index#679169, Network#679170], false\n",
      "            +- Project [Explode#679219, split#679223, 1#679268, 2#679243]\n",
      "               +- Project [id#679204, text#679195, length_of_text#679207, num_of_words#679211, Explode#679219, split#679223, text#679195 AS 1#679268, 2#679243]\n",
      "                  +- Join RightOuter, (id#679204 = cast(1#679239 as int))\n",
      "                     :- Project [id#679204, text#679195, length_of_text#679207, array_size(split(text#679195,  , -1)) AS num_of_words#679211]\n",
      "                     :  +- Project [id#679204, text#679195, length(text#679195) AS length_of_text#679207]\n",
      "                     :     +- Project [cast(id#679201 as int) AS id#679204, text#679195]\n",
      "                     :        +- Project [regexp_replace(id#679192, [\\{\\}\"], , 1) AS id#679201, text#679195]\n",
      "                     :           +- Project [id#679192, text#679195]\n",
      "                     :              +- Project [split#679190, id#679192, split(split#679190, : ', -1)[1] AS text#679195]\n",
      "                     :                 +- Project [split#679190, split(split#679190, : ', -1)[0] AS id#679192]\n",
      "                     :                    +- Project [split#679190]\n",
      "                     :                       +- Generate explode(split#679185), false, [split#679190]\n",
      "                     :                          +- Project [split#679185]\n",
      "                     :                             +- Project [Text_Index#679283, split(Text_Index#679283, ', , -1) AS split#679185]\n",
      "                     :                                +- Project [Topic_Name#679281, URL#679282, Text_Index#679283, split(Network#679175, ,, -1) AS Network#679180]\n",
      "                     :                                   +- Project [Topic_Name#679281, URL#679282, Text_Index#679283, regexp_replace(Network#679284, [\\[\\]\\'], , 1) AS Network#679175]\n",
      "                     :                                      +- LogicalRDD [Topic_Name#679281, URL#679282, Text_Index#679283, Network#679284], false\n",
      "                     +- Project [Explode#679219, split#679223, 1#679239, split#679223[1] AS 2#679243]\n",
      "                        +- Project [Explode#679219, split#679223, split#679223[0] AS 1#679239]\n",
      "                           +- Project [Explode#679219, split(Explode#679219, ->, -1) AS split#679223]\n",
      "                              +- Project [Explode#679219]\n",
      "                                 +- Project [Network#679216, Explode#679219]\n",
      "                                    +- Generate explode(Network#679216), false, [Explode#679219]\n",
      "                                       +- Project [Network#679180 AS Network#679216]\n",
      "                                          +- Project [Topic_Name#679248, URL#679249, Text_Index#679250, split(Network#679175, ,, -1) AS Network#679180]\n",
      "                                             +- Project [Topic_Name#679248, URL#679249, Text_Index#679250, regexp_replace(Network#679251, [\\[\\]\\'], , 1) AS Network#679175]\n",
      "                                                +- LogicalRDD [Topic_Name#679248, URL#679249, Text_Index#679250, Network#679251], false\n",
      "\n"
     ]
    },
    {
     "name": "stderr",
     "output_type": "stream",
     "text": [
      " 24%|██▍       | 21/86 [00:38<01:22,  1.26s/it]"
     ]
    },
    {
     "name": "stdout",
     "output_type": "stream",
     "text": [
      "list index out of range\n"
     ]
    },
    {
     "name": "stderr",
     "output_type": "stream",
     "text": [
      " 35%|███▍      | 30/86 [00:57<02:02,  2.19s/it]"
     ]
    },
    {
     "name": "stdout",
     "output_type": "stream",
     "text": [
      "local variable 'update_dict' referenced before assignment\n"
     ]
    },
    {
     "name": "stderr",
     "output_type": "stream",
     "text": [
      " 36%|███▌      | 31/86 [00:59<01:56,  2.11s/it]"
     ]
    },
    {
     "name": "stdout",
     "output_type": "stream",
     "text": [
      "local variable 'update_dict' referenced before assignment\n"
     ]
    },
    {
     "name": "stderr",
     "output_type": "stream",
     "text": [
      " 55%|█████▍    | 47/86 [01:31<01:01,  1.58s/it]"
     ]
    },
    {
     "name": "stdout",
     "output_type": "stream",
     "text": [
      "list index out of range\n"
     ]
    },
    {
     "name": "stderr",
     "output_type": "stream",
     "text": [
      " 62%|██████▏   | 53/86 [01:44<01:08,  2.09s/it]"
     ]
    },
    {
     "name": "stdout",
     "output_type": "stream",
     "text": [
      "local variable 'update_dict' referenced before assignment\n"
     ]
    },
    {
     "name": "stderr",
     "output_type": "stream",
     "text": [
      " 63%|██████▎   | 54/86 [01:44<00:51,  1.60s/it]"
     ]
    },
    {
     "name": "stdout",
     "output_type": "stream",
     "text": [
      "[UNRESOLVED_COLUMN.WITH_SUGGESTION] A column or function parameter with name `3` cannot be resolved. Did you mean one of the following? [`1`, `2`].;\n",
      "'Filter NOT ('3 = NULL)\n",
      "+- Project [1#688159, 2#688192]\n",
      "   +- Project [Explode#688110, split#688114, 1#688159, 2#688192]\n",
      "      +- Project [id#688095, text#688086, length_of_text#688098, num_of_words#688102, Explode#688110, split#688114, 1#688159, text#688086 AS 2#688192]\n",
      "         +- Join RightOuter, (id#688095 = cast(2#688134 as int))\n",
      "            :- Project [id#688095, text#688086, length_of_text#688098, array_size(split(text#688086,  , -1)) AS num_of_words#688102]\n",
      "            :  +- Project [id#688095, text#688086, length(text#688086) AS length_of_text#688098]\n",
      "            :     +- Project [cast(id#688092 as int) AS id#688095, text#688086]\n",
      "            :        +- Project [regexp_replace(id#688083, [\\{\\}\"], , 1) AS id#688092, text#688086]\n",
      "            :           +- Project [id#688083, text#688086]\n",
      "            :              +- Project [split#688081, id#688083, split(split#688081, : ', -1)[1] AS text#688086]\n",
      "            :                 +- Project [split#688081, split(split#688081, : ', -1)[0] AS id#688083]\n",
      "            :                    +- Project [split#688081]\n",
      "            :                       +- Generate explode(split#688076), false, [split#688081]\n",
      "            :                          +- Project [split#688076]\n",
      "            :                             +- Project [Text_Index#688060, split(Text_Index#688060, ', , -1) AS split#688076]\n",
      "            :                                +- Project [Topic_Name#688058, URL#688059, Text_Index#688060, split(Network#688066, ,, -1) AS Network#688071]\n",
      "            :                                   +- Project [Topic_Name#688058, URL#688059, Text_Index#688060, regexp_replace(Network#688061, [\\[\\]\\'], , 1) AS Network#688066]\n",
      "            :                                      +- LogicalRDD [Topic_Name#688058, URL#688059, Text_Index#688060, Network#688061], false\n",
      "            +- Project [Explode#688110, split#688114, 1#688159, 2#688134]\n",
      "               +- Project [id#688095, text#688086, length_of_text#688098, num_of_words#688102, Explode#688110, split#688114, text#688086 AS 1#688159, 2#688134]\n",
      "                  +- Join RightOuter, (id#688095 = cast(1#688130 as int))\n",
      "                     :- Project [id#688095, text#688086, length_of_text#688098, array_size(split(text#688086,  , -1)) AS num_of_words#688102]\n",
      "                     :  +- Project [id#688095, text#688086, length(text#688086) AS length_of_text#688098]\n",
      "                     :     +- Project [cast(id#688092 as int) AS id#688095, text#688086]\n",
      "                     :        +- Project [regexp_replace(id#688083, [\\{\\}\"], , 1) AS id#688092, text#688086]\n",
      "                     :           +- Project [id#688083, text#688086]\n",
      "                     :              +- Project [split#688081, id#688083, split(split#688081, : ', -1)[1] AS text#688086]\n",
      "                     :                 +- Project [split#688081, split(split#688081, : ', -1)[0] AS id#688083]\n",
      "                     :                    +- Project [split#688081]\n",
      "                     :                       +- Generate explode(split#688076), false, [split#688081]\n",
      "                     :                          +- Project [split#688076]\n",
      "                     :                             +- Project [Text_Index#688174, split(Text_Index#688174, ', , -1) AS split#688076]\n",
      "                     :                                +- Project [Topic_Name#688172, URL#688173, Text_Index#688174, split(Network#688066, ,, -1) AS Network#688071]\n",
      "                     :                                   +- Project [Topic_Name#688172, URL#688173, Text_Index#688174, regexp_replace(Network#688175, [\\[\\]\\'], , 1) AS Network#688066]\n",
      "                     :                                      +- LogicalRDD [Topic_Name#688172, URL#688173, Text_Index#688174, Network#688175], false\n",
      "                     +- Project [Explode#688110, split#688114, 1#688130, split#688114[1] AS 2#688134]\n",
      "                        +- Project [Explode#688110, split#688114, split#688114[0] AS 1#688130]\n",
      "                           +- Project [Explode#688110, split(Explode#688110, ->, -1) AS split#688114]\n",
      "                              +- Project [Explode#688110]\n",
      "                                 +- Project [Network#688107, Explode#688110]\n",
      "                                    +- Generate explode(Network#688107), false, [Explode#688110]\n",
      "                                       +- Project [Network#688071 AS Network#688107]\n",
      "                                          +- Project [Topic_Name#688139, URL#688140, Text_Index#688141, split(Network#688066, ,, -1) AS Network#688071]\n",
      "                                             +- Project [Topic_Name#688139, URL#688140, Text_Index#688141, regexp_replace(Network#688142, [\\[\\]\\'], , 1) AS Network#688066]\n",
      "                                                +- LogicalRDD [Topic_Name#688139, URL#688140, Text_Index#688141, Network#688142], false\n",
      "\n"
     ]
    },
    {
     "name": "stderr",
     "output_type": "stream",
     "text": [
      " 64%|██████▍   | 55/86 [01:45<00:38,  1.25s/it]"
     ]
    },
    {
     "name": "stdout",
     "output_type": "stream",
     "text": [
      "list index out of range\n"
     ]
    },
    {
     "name": "stderr",
     "output_type": "stream",
     "text": [
      " 69%|██████▊   | 59/86 [01:51<00:36,  1.36s/it]"
     ]
    },
    {
     "name": "stdout",
     "output_type": "stream",
     "text": [
      "[UNRESOLVED_COLUMN.WITH_SUGGESTION] A column or function parameter with name `3` cannot be resolved. Did you mean one of the following? [`1`].;\n",
      "'Filter NOT ('3 = NULL)\n",
      "+- Project [1#689299]\n",
      "   +- Project [Explode#689257, split#689261, 1#689299]\n",
      "      +- Project [id#689242, text#689233, length_of_text#689245, num_of_words#689249, Explode#689257, split#689261, text#689233 AS 1#689299]\n",
      "         +- Join RightOuter, (id#689242 = cast(1#689277 as int))\n",
      "            :- Project [id#689242, text#689233, length_of_text#689245, array_size(split(text#689233,  , -1)) AS num_of_words#689249]\n",
      "            :  +- Project [id#689242, text#689233, length(text#689233) AS length_of_text#689245]\n",
      "            :     +- Project [cast(id#689239 as int) AS id#689242, text#689233]\n",
      "            :        +- Project [regexp_replace(id#689230, [\\{\\}\"], , 1) AS id#689239, text#689233]\n",
      "            :           +- Project [id#689230, text#689233]\n",
      "            :              +- Project [split#689228, id#689230, split(split#689228, : ', -1)[1] AS text#689233]\n",
      "            :                 +- Project [split#689228, split(split#689228, : ', -1)[0] AS id#689230]\n",
      "            :                    +- Project [split#689228]\n",
      "            :                       +- Generate explode(split#689223), false, [split#689228]\n",
      "            :                          +- Project [split#689223]\n",
      "            :                             +- Project [Text_Index#689207, split(Text_Index#689207, ', , -1) AS split#689223]\n",
      "            :                                +- Project [Topic_Name#689205, URL#689206, Text_Index#689207, split(Network#689213, ,, -1) AS Network#689218]\n",
      "            :                                   +- Project [Topic_Name#689205, URL#689206, Text_Index#689207, regexp_replace(Network#689208, [\\[\\]\\'], , 1) AS Network#689213]\n",
      "            :                                      +- LogicalRDD [Topic_Name#689205, URL#689206, Text_Index#689207, Network#689208], false\n",
      "            +- Project [Explode#689257, split#689261, split#689261[0] AS 1#689277]\n",
      "               +- Project [Explode#689257, split(Explode#689257, ->, -1) AS split#689261]\n",
      "                  +- Project [Explode#689257]\n",
      "                     +- Project [Network#689254, Explode#689257]\n",
      "                        +- Generate explode(Network#689254), false, [Explode#689257]\n",
      "                           +- Project [Network#689218 AS Network#689254]\n",
      "                              +- Project [Topic_Name#689281, URL#689282, Text_Index#689283, split(Network#689213, ,, -1) AS Network#689218]\n",
      "                                 +- Project [Topic_Name#689281, URL#689282, Text_Index#689283, regexp_replace(Network#689284, [\\[\\]\\'], , 1) AS Network#689213]\n",
      "                                    +- LogicalRDD [Topic_Name#689281, URL#689282, Text_Index#689283, Network#689284], false\n",
      "\n"
     ]
    },
    {
     "name": "stderr",
     "output_type": "stream",
     "text": [
      " 71%|███████   | 61/86 [01:53<00:28,  1.16s/it]"
     ]
    },
    {
     "name": "stdout",
     "output_type": "stream",
     "text": [
      "list index out of range\n"
     ]
    },
    {
     "name": "stderr",
     "output_type": "stream",
     "text": [
      " 72%|███████▏  | 62/86 [01:54<00:22,  1.06it/s]"
     ]
    },
    {
     "name": "stdout",
     "output_type": "stream",
     "text": [
      "list index out of range\n"
     ]
    },
    {
     "name": "stderr",
     "output_type": "stream",
     "text": [
      " 73%|███████▎  | 63/86 [01:54<00:18,  1.27it/s]"
     ]
    },
    {
     "name": "stdout",
     "output_type": "stream",
     "text": [
      "list index out of range\n"
     ]
    },
    {
     "name": "stderr",
     "output_type": "stream",
     "text": [
      " 74%|███████▍  | 64/86 [01:55<00:14,  1.47it/s]"
     ]
    },
    {
     "name": "stdout",
     "output_type": "stream",
     "text": [
      "list index out of range\n"
     ]
    },
    {
     "name": "stderr",
     "output_type": "stream",
     "text": [
      " 76%|███████▌  | 65/86 [01:55<00:12,  1.65it/s]"
     ]
    },
    {
     "name": "stdout",
     "output_type": "stream",
     "text": [
      "list index out of range\n"
     ]
    },
    {
     "name": "stderr",
     "output_type": "stream",
     "text": [
      " 77%|███████▋  | 66/86 [01:55<00:11,  1.80it/s]"
     ]
    },
    {
     "name": "stdout",
     "output_type": "stream",
     "text": [
      "list index out of range\n"
     ]
    },
    {
     "name": "stderr",
     "output_type": "stream",
     "text": [
      " 78%|███████▊  | 67/86 [01:56<00:10,  1.90it/s]"
     ]
    },
    {
     "name": "stdout",
     "output_type": "stream",
     "text": [
      "list index out of range\n"
     ]
    },
    {
     "name": "stderr",
     "output_type": "stream",
     "text": [
      " 79%|███████▉  | 68/86 [01:56<00:08,  2.05it/s]"
     ]
    },
    {
     "name": "stdout",
     "output_type": "stream",
     "text": [
      "list index out of range\n"
     ]
    },
    {
     "name": "stderr",
     "output_type": "stream",
     "text": [
      " 80%|████████  | 69/86 [01:57<00:08,  2.11it/s]"
     ]
    },
    {
     "name": "stdout",
     "output_type": "stream",
     "text": [
      "list index out of range\n"
     ]
    },
    {
     "name": "stderr",
     "output_type": "stream",
     "text": [
      " 81%|████████▏ | 70/86 [01:57<00:07,  2.14it/s]"
     ]
    },
    {
     "name": "stdout",
     "output_type": "stream",
     "text": [
      "list index out of range\n"
     ]
    },
    {
     "name": "stderr",
     "output_type": "stream",
     "text": [
      " 83%|████████▎ | 71/86 [01:58<00:06,  2.18it/s]"
     ]
    },
    {
     "name": "stdout",
     "output_type": "stream",
     "text": [
      "list index out of range\n"
     ]
    },
    {
     "name": "stderr",
     "output_type": "stream",
     "text": [
      " 84%|████████▎ | 72/86 [01:58<00:06,  2.22it/s]"
     ]
    },
    {
     "name": "stdout",
     "output_type": "stream",
     "text": [
      "list index out of range\n"
     ]
    },
    {
     "name": "stderr",
     "output_type": "stream",
     "text": [
      " 85%|████████▍ | 73/86 [01:59<00:05,  2.20it/s]"
     ]
    },
    {
     "name": "stdout",
     "output_type": "stream",
     "text": [
      "list index out of range\n"
     ]
    },
    {
     "name": "stderr",
     "output_type": "stream",
     "text": [
      " 86%|████████▌ | 74/86 [01:59<00:05,  2.24it/s]"
     ]
    },
    {
     "name": "stdout",
     "output_type": "stream",
     "text": [
      "list index out of range\n"
     ]
    },
    {
     "name": "stderr",
     "output_type": "stream",
     "text": [
      " 87%|████████▋ | 75/86 [01:59<00:04,  2.26it/s]"
     ]
    },
    {
     "name": "stdout",
     "output_type": "stream",
     "text": [
      "list index out of range\n"
     ]
    },
    {
     "name": "stderr",
     "output_type": "stream",
     "text": [
      " 88%|████████▊ | 76/86 [02:00<00:04,  2.29it/s]"
     ]
    },
    {
     "name": "stdout",
     "output_type": "stream",
     "text": [
      "list index out of range\n"
     ]
    },
    {
     "name": "stderr",
     "output_type": "stream",
     "text": [
      " 90%|████████▉ | 77/86 [02:00<00:03,  2.27it/s]"
     ]
    },
    {
     "name": "stdout",
     "output_type": "stream",
     "text": [
      "list index out of range\n"
     ]
    },
    {
     "name": "stderr",
     "output_type": "stream",
     "text": [
      " 91%|█████████ | 78/86 [02:01<00:03,  2.31it/s]"
     ]
    },
    {
     "name": "stdout",
     "output_type": "stream",
     "text": [
      "list index out of range\n"
     ]
    },
    {
     "name": "stderr",
     "output_type": "stream",
     "text": [
      " 92%|█████████▏| 79/86 [02:01<00:03,  2.27it/s]"
     ]
    },
    {
     "name": "stdout",
     "output_type": "stream",
     "text": [
      "list index out of range\n"
     ]
    },
    {
     "name": "stderr",
     "output_type": "stream",
     "text": [
      " 94%|█████████▍| 81/86 [02:05<00:05,  1.18s/it]"
     ]
    },
    {
     "name": "stdout",
     "output_type": "stream",
     "text": [
      "local variable 'update_dict' referenced before assignment\n"
     ]
    },
    {
     "name": "stderr",
     "output_type": "stream",
     "text": [
      " 95%|█████████▌| 82/86 [02:05<00:03,  1.05it/s]"
     ]
    },
    {
     "name": "stdout",
     "output_type": "stream",
     "text": [
      "list index out of range\n"
     ]
    },
    {
     "name": "stderr",
     "output_type": "stream",
     "text": [
      " 97%|█████████▋| 83/86 [02:06<00:02,  1.26it/s]"
     ]
    },
    {
     "name": "stdout",
     "output_type": "stream",
     "text": [
      "list index out of range\n"
     ]
    },
    {
     "name": "stderr",
     "output_type": "stream",
     "text": [
      "100%|██████████| 86/86 [02:11<00:00,  1.53s/it]\n",
      " 15%|█▌        | 9/60 [00:15<01:13,  1.45s/it]"
     ]
    },
    {
     "name": "stdout",
     "output_type": "stream",
     "text": [
      "list index out of range\n"
     ]
    },
    {
     "name": "stderr",
     "output_type": "stream",
     "text": [
      " 30%|███       | 18/60 [00:33<01:23,  1.99s/it]"
     ]
    },
    {
     "name": "stdout",
     "output_type": "stream",
     "text": [
      "0\n"
     ]
    },
    {
     "name": "stderr",
     "output_type": "stream",
     "text": [
      " 38%|███▊      | 23/60 [00:43<01:15,  2.03s/it]"
     ]
    },
    {
     "name": "stdout",
     "output_type": "stream",
     "text": [
      "local variable 'update_dict' referenced before assignment\n"
     ]
    },
    {
     "name": "stderr",
     "output_type": "stream",
     "text": [
      " 47%|████▋     | 28/60 [00:51<00:46,  1.44s/it]"
     ]
    },
    {
     "name": "stdout",
     "output_type": "stream",
     "text": [
      "list index out of range\n"
     ]
    },
    {
     "name": "stderr",
     "output_type": "stream",
     "text": [
      " 48%|████▊     | 29/60 [00:52<00:35,  1.13s/it]"
     ]
    },
    {
     "name": "stdout",
     "output_type": "stream",
     "text": [
      "list index out of range\n"
     ]
    },
    {
     "name": "stderr",
     "output_type": "stream",
     "text": [
      " 68%|██████▊   | 41/60 [01:15<00:36,  1.94s/it]"
     ]
    },
    {
     "name": "stdout",
     "output_type": "stream",
     "text": [
      "local variable 'update_dict' referenced before assignment\n"
     ]
    },
    {
     "name": "stderr",
     "output_type": "stream",
     "text": [
      " 78%|███████▊  | 47/60 [01:25<00:19,  1.51s/it]"
     ]
    },
    {
     "name": "stdout",
     "output_type": "stream",
     "text": [
      "list index out of range\n"
     ]
    },
    {
     "name": "stderr",
     "output_type": "stream",
     "text": [
      " 92%|█████████▏| 55/60 [01:39<00:07,  1.45s/it]"
     ]
    },
    {
     "name": "stdout",
     "output_type": "stream",
     "text": [
      "list index out of range\n"
     ]
    },
    {
     "name": "stderr",
     "output_type": "stream",
     "text": [
      " 93%|█████████▎| 56/60 [01:39<00:04,  1.14s/it]"
     ]
    },
    {
     "name": "stdout",
     "output_type": "stream",
     "text": [
      "list index out of range\n"
     ]
    },
    {
     "name": "stderr",
     "output_type": "stream",
     "text": [
      "100%|██████████| 60/60 [01:48<00:00,  1.80s/it]\n",
      "  7%|▋         | 6/86 [00:10<01:51,  1.39s/it]"
     ]
    },
    {
     "name": "stdout",
     "output_type": "stream",
     "text": [
      "list index out of range\n"
     ]
    },
    {
     "name": "stderr",
     "output_type": "stream",
     "text": [
      " 15%|█▌        | 13/86 [00:22<01:55,  1.59s/it]"
     ]
    },
    {
     "name": "stdout",
     "output_type": "stream",
     "text": [
      "[UNRESOLVED_COLUMN.WITH_SUGGESTION] A column or function parameter with name `3` cannot be resolved. Did you mean one of the following? [`1`, `2`].;\n",
      "'Filter NOT ('3 = NULL)\n",
      "+- Project [1#710853, 2#710886]\n",
      "   +- Project [Explode#710804, split#710808, 1#710853, 2#710886]\n",
      "      +- Project [id#710789, text#710780, length_of_text#710792, num_of_words#710796, Explode#710804, split#710808, 1#710853, text#710780 AS 2#710886]\n",
      "         +- Join RightOuter, (id#710789 = cast(2#710828 as int))\n",
      "            :- Project [id#710789, text#710780, length_of_text#710792, array_size(split(text#710780,  , -1)) AS num_of_words#710796]\n",
      "            :  +- Project [id#710789, text#710780, length(text#710780) AS length_of_text#710792]\n",
      "            :     +- Project [cast(id#710786 as int) AS id#710789, text#710780]\n",
      "            :        +- Project [regexp_replace(id#710777, [\\{\\}\"], , 1) AS id#710786, text#710780]\n",
      "            :           +- Project [id#710777, text#710780]\n",
      "            :              +- Project [split#710775, id#710777, split(split#710775, : ', -1)[1] AS text#710780]\n",
      "            :                 +- Project [split#710775, split(split#710775, : ', -1)[0] AS id#710777]\n",
      "            :                    +- Project [split#710775]\n",
      "            :                       +- Generate explode(split#710770), false, [split#710775]\n",
      "            :                          +- Project [split#710770]\n",
      "            :                             +- Project [Text_Index#710754, split(Text_Index#710754, ', , -1) AS split#710770]\n",
      "            :                                +- Project [Topic_Name#710752, URL#710753, Text_Index#710754, split(Network#710760, ,, -1) AS Network#710765]\n",
      "            :                                   +- Project [Topic_Name#710752, URL#710753, Text_Index#710754, regexp_replace(Network#710755, [\\[\\]\\'], , 1) AS Network#710760]\n",
      "            :                                      +- LogicalRDD [Topic_Name#710752, URL#710753, Text_Index#710754, Network#710755], false\n",
      "            +- Project [Explode#710804, split#710808, 1#710853, 2#710828]\n",
      "               +- Project [id#710789, text#710780, length_of_text#710792, num_of_words#710796, Explode#710804, split#710808, text#710780 AS 1#710853, 2#710828]\n",
      "                  +- Join RightOuter, (id#710789 = cast(1#710824 as int))\n",
      "                     :- Project [id#710789, text#710780, length_of_text#710792, array_size(split(text#710780,  , -1)) AS num_of_words#710796]\n",
      "                     :  +- Project [id#710789, text#710780, length(text#710780) AS length_of_text#710792]\n",
      "                     :     +- Project [cast(id#710786 as int) AS id#710789, text#710780]\n",
      "                     :        +- Project [regexp_replace(id#710777, [\\{\\}\"], , 1) AS id#710786, text#710780]\n",
      "                     :           +- Project [id#710777, text#710780]\n",
      "                     :              +- Project [split#710775, id#710777, split(split#710775, : ', -1)[1] AS text#710780]\n",
      "                     :                 +- Project [split#710775, split(split#710775, : ', -1)[0] AS id#710777]\n",
      "                     :                    +- Project [split#710775]\n",
      "                     :                       +- Generate explode(split#710770), false, [split#710775]\n",
      "                     :                          +- Project [split#710770]\n",
      "                     :                             +- Project [Text_Index#710868, split(Text_Index#710868, ', , -1) AS split#710770]\n",
      "                     :                                +- Project [Topic_Name#710866, URL#710867, Text_Index#710868, split(Network#710760, ,, -1) AS Network#710765]\n",
      "                     :                                   +- Project [Topic_Name#710866, URL#710867, Text_Index#710868, regexp_replace(Network#710869, [\\[\\]\\'], , 1) AS Network#710760]\n",
      "                     :                                      +- LogicalRDD [Topic_Name#710866, URL#710867, Text_Index#710868, Network#710869], false\n",
      "                     +- Project [Explode#710804, split#710808, 1#710824, split#710808[1] AS 2#710828]\n",
      "                        +- Project [Explode#710804, split#710808, split#710808[0] AS 1#710824]\n",
      "                           +- Project [Explode#710804, split(Explode#710804, ->, -1) AS split#710808]\n",
      "                              +- Project [Explode#710804]\n",
      "                                 +- Project [Network#710801, Explode#710804]\n",
      "                                    +- Generate explode(Network#710801), false, [Explode#710804]\n",
      "                                       +- Project [Network#710765 AS Network#710801]\n",
      "                                          +- Project [Topic_Name#710833, URL#710834, Text_Index#710835, split(Network#710760, ,, -1) AS Network#710765]\n",
      "                                             +- Project [Topic_Name#710833, URL#710834, Text_Index#710835, regexp_replace(Network#710836, [\\[\\]\\'], , 1) AS Network#710760]\n",
      "                                                +- LogicalRDD [Topic_Name#710833, URL#710834, Text_Index#710835, Network#710836], false\n",
      "\n"
     ]
    },
    {
     "name": "stderr",
     "output_type": "stream",
     "text": [
      " 17%|█▋        | 15/86 [00:25<01:37,  1.38s/it]"
     ]
    },
    {
     "name": "stdout",
     "output_type": "stream",
     "text": [
      "[UNRESOLVED_COLUMN.WITH_SUGGESTION] A column or function parameter with name `3` cannot be resolved. Did you mean one of the following? [`1`, `2`].;\n",
      "'Filter NOT ('3 = NULL)\n",
      "+- Project [1#711334, 2#711367]\n",
      "   +- Project [Explode#711285, split#711289, 1#711334, 2#711367]\n",
      "      +- Project [id#711270, text#711261, length_of_text#711273, num_of_words#711277, Explode#711285, split#711289, 1#711334, text#711261 AS 2#711367]\n",
      "         +- Join RightOuter, (id#711270 = cast(2#711309 as int))\n",
      "            :- Project [id#711270, text#711261, length_of_text#711273, array_size(split(text#711261,  , -1)) AS num_of_words#711277]\n",
      "            :  +- Project [id#711270, text#711261, length(text#711261) AS length_of_text#711273]\n",
      "            :     +- Project [cast(id#711267 as int) AS id#711270, text#711261]\n",
      "            :        +- Project [regexp_replace(id#711258, [\\{\\}\"], , 1) AS id#711267, text#711261]\n",
      "            :           +- Project [id#711258, text#711261]\n",
      "            :              +- Project [split#711256, id#711258, split(split#711256, : ', -1)[1] AS text#711261]\n",
      "            :                 +- Project [split#711256, split(split#711256, : ', -1)[0] AS id#711258]\n",
      "            :                    +- Project [split#711256]\n",
      "            :                       +- Generate explode(split#711251), false, [split#711256]\n",
      "            :                          +- Project [split#711251]\n",
      "            :                             +- Project [Text_Index#711235, split(Text_Index#711235, ', , -1) AS split#711251]\n",
      "            :                                +- Project [Topic_Name#711233, URL#711234, Text_Index#711235, split(Network#711241, ,, -1) AS Network#711246]\n",
      "            :                                   +- Project [Topic_Name#711233, URL#711234, Text_Index#711235, regexp_replace(Network#711236, [\\[\\]\\'], , 1) AS Network#711241]\n",
      "            :                                      +- LogicalRDD [Topic_Name#711233, URL#711234, Text_Index#711235, Network#711236], false\n",
      "            +- Project [Explode#711285, split#711289, 1#711334, 2#711309]\n",
      "               +- Project [id#711270, text#711261, length_of_text#711273, num_of_words#711277, Explode#711285, split#711289, text#711261 AS 1#711334, 2#711309]\n",
      "                  +- Join RightOuter, (id#711270 = cast(1#711305 as int))\n",
      "                     :- Project [id#711270, text#711261, length_of_text#711273, array_size(split(text#711261,  , -1)) AS num_of_words#711277]\n",
      "                     :  +- Project [id#711270, text#711261, length(text#711261) AS length_of_text#711273]\n",
      "                     :     +- Project [cast(id#711267 as int) AS id#711270, text#711261]\n",
      "                     :        +- Project [regexp_replace(id#711258, [\\{\\}\"], , 1) AS id#711267, text#711261]\n",
      "                     :           +- Project [id#711258, text#711261]\n",
      "                     :              +- Project [split#711256, id#711258, split(split#711256, : ', -1)[1] AS text#711261]\n",
      "                     :                 +- Project [split#711256, split(split#711256, : ', -1)[0] AS id#711258]\n",
      "                     :                    +- Project [split#711256]\n",
      "                     :                       +- Generate explode(split#711251), false, [split#711256]\n",
      "                     :                          +- Project [split#711251]\n",
      "                     :                             +- Project [Text_Index#711349, split(Text_Index#711349, ', , -1) AS split#711251]\n",
      "                     :                                +- Project [Topic_Name#711347, URL#711348, Text_Index#711349, split(Network#711241, ,, -1) AS Network#711246]\n",
      "                     :                                   +- Project [Topic_Name#711347, URL#711348, Text_Index#711349, regexp_replace(Network#711350, [\\[\\]\\'], , 1) AS Network#711241]\n",
      "                     :                                      +- LogicalRDD [Topic_Name#711347, URL#711348, Text_Index#711349, Network#711350], false\n",
      "                     +- Project [Explode#711285, split#711289, 1#711305, split#711289[1] AS 2#711309]\n",
      "                        +- Project [Explode#711285, split#711289, split#711289[0] AS 1#711305]\n",
      "                           +- Project [Explode#711285, split(Explode#711285, ->, -1) AS split#711289]\n",
      "                              +- Project [Explode#711285]\n",
      "                                 +- Project [Network#711282, Explode#711285]\n",
      "                                    +- Generate explode(Network#711282), false, [Explode#711285]\n",
      "                                       +- Project [Network#711246 AS Network#711282]\n",
      "                                          +- Project [Topic_Name#711314, URL#711315, Text_Index#711316, split(Network#711241, ,, -1) AS Network#711246]\n",
      "                                             +- Project [Topic_Name#711314, URL#711315, Text_Index#711316, regexp_replace(Network#711317, [\\[\\]\\'], , 1) AS Network#711241]\n",
      "                                                +- LogicalRDD [Topic_Name#711314, URL#711315, Text_Index#711316, Network#711317], false\n",
      "\n"
     ]
    },
    {
     "name": "stderr",
     "output_type": "stream",
     "text": [
      " 20%|█▉        | 17/86 [00:29<01:52,  1.63s/it]"
     ]
    },
    {
     "name": "stdout",
     "output_type": "stream",
     "text": [
      "0\n"
     ]
    },
    {
     "name": "stderr",
     "output_type": "stream",
     "text": [
      " 26%|██▌       | 22/86 [00:38<01:35,  1.49s/it]"
     ]
    },
    {
     "name": "stdout",
     "output_type": "stream",
     "text": [
      "[UNRESOLVED_COLUMN.WITH_SUGGESTION] A column or function parameter with name `3` cannot be resolved. Did you mean one of the following? [`1`, `2`].;\n",
      "'Filter NOT ('3 = NULL)\n",
      "+- Project [1#713134, 2#713167]\n",
      "   +- Project [Explode#713085, split#713089, 1#713134, 2#713167]\n",
      "      +- Project [id#713070, text#713061, length_of_text#713073, num_of_words#713077, Explode#713085, split#713089, 1#713134, text#713061 AS 2#713167]\n",
      "         +- Join RightOuter, (id#713070 = cast(2#713109 as int))\n",
      "            :- Project [id#713070, text#713061, length_of_text#713073, array_size(split(text#713061,  , -1)) AS num_of_words#713077]\n",
      "            :  +- Project [id#713070, text#713061, length(text#713061) AS length_of_text#713073]\n",
      "            :     +- Project [cast(id#713067 as int) AS id#713070, text#713061]\n",
      "            :        +- Project [regexp_replace(id#713058, [\\{\\}\"], , 1) AS id#713067, text#713061]\n",
      "            :           +- Project [id#713058, text#713061]\n",
      "            :              +- Project [split#713056, id#713058, split(split#713056, : ', -1)[1] AS text#713061]\n",
      "            :                 +- Project [split#713056, split(split#713056, : ', -1)[0] AS id#713058]\n",
      "            :                    +- Project [split#713056]\n",
      "            :                       +- Generate explode(split#713051), false, [split#713056]\n",
      "            :                          +- Project [split#713051]\n",
      "            :                             +- Project [Text_Index#713035, split(Text_Index#713035, ', , -1) AS split#713051]\n",
      "            :                                +- Project [Topic_Name#713033, URL#713034, Text_Index#713035, split(Network#713041, ,, -1) AS Network#713046]\n",
      "            :                                   +- Project [Topic_Name#713033, URL#713034, Text_Index#713035, regexp_replace(Network#713036, [\\[\\]\\'], , 1) AS Network#713041]\n",
      "            :                                      +- LogicalRDD [Topic_Name#713033, URL#713034, Text_Index#713035, Network#713036], false\n",
      "            +- Project [Explode#713085, split#713089, 1#713134, 2#713109]\n",
      "               +- Project [id#713070, text#713061, length_of_text#713073, num_of_words#713077, Explode#713085, split#713089, text#713061 AS 1#713134, 2#713109]\n",
      "                  +- Join RightOuter, (id#713070 = cast(1#713105 as int))\n",
      "                     :- Project [id#713070, text#713061, length_of_text#713073, array_size(split(text#713061,  , -1)) AS num_of_words#713077]\n",
      "                     :  +- Project [id#713070, text#713061, length(text#713061) AS length_of_text#713073]\n",
      "                     :     +- Project [cast(id#713067 as int) AS id#713070, text#713061]\n",
      "                     :        +- Project [regexp_replace(id#713058, [\\{\\}\"], , 1) AS id#713067, text#713061]\n",
      "                     :           +- Project [id#713058, text#713061]\n",
      "                     :              +- Project [split#713056, id#713058, split(split#713056, : ', -1)[1] AS text#713061]\n",
      "                     :                 +- Project [split#713056, split(split#713056, : ', -1)[0] AS id#713058]\n",
      "                     :                    +- Project [split#713056]\n",
      "                     :                       +- Generate explode(split#713051), false, [split#713056]\n",
      "                     :                          +- Project [split#713051]\n",
      "                     :                             +- Project [Text_Index#713149, split(Text_Index#713149, ', , -1) AS split#713051]\n",
      "                     :                                +- Project [Topic_Name#713147, URL#713148, Text_Index#713149, split(Network#713041, ,, -1) AS Network#713046]\n",
      "                     :                                   +- Project [Topic_Name#713147, URL#713148, Text_Index#713149, regexp_replace(Network#713150, [\\[\\]\\'], , 1) AS Network#713041]\n",
      "                     :                                      +- LogicalRDD [Topic_Name#713147, URL#713148, Text_Index#713149, Network#713150], false\n",
      "                     +- Project [Explode#713085, split#713089, 1#713105, split#713089[1] AS 2#713109]\n",
      "                        +- Project [Explode#713085, split#713089, split#713089[0] AS 1#713105]\n",
      "                           +- Project [Explode#713085, split(Explode#713085, ->, -1) AS split#713089]\n",
      "                              +- Project [Explode#713085]\n",
      "                                 +- Project [Network#713082, Explode#713085]\n",
      "                                    +- Generate explode(Network#713082), false, [Explode#713085]\n",
      "                                       +- Project [Network#713046 AS Network#713082]\n",
      "                                          +- Project [Topic_Name#713114, URL#713115, Text_Index#713116, split(Network#713041, ,, -1) AS Network#713046]\n",
      "                                             +- Project [Topic_Name#713114, URL#713115, Text_Index#713116, regexp_replace(Network#713117, [\\[\\]\\'], , 1) AS Network#713041]\n",
      "                                                +- LogicalRDD [Topic_Name#713114, URL#713115, Text_Index#713116, Network#713117], false\n",
      "\n"
     ]
    },
    {
     "name": "stderr",
     "output_type": "stream",
     "text": [
      " 28%|██▊       | 24/86 [00:41<01:41,  1.63s/it]"
     ]
    },
    {
     "name": "stdout",
     "output_type": "stream",
     "text": [
      "0\n"
     ]
    },
    {
     "name": "stderr",
     "output_type": "stream",
     "text": [
      " 29%|██▉       | 25/86 [00:42<01:18,  1.28s/it]"
     ]
    },
    {
     "name": "stdout",
     "output_type": "stream",
     "text": [
      "[UNRESOLVED_COLUMN.WITH_SUGGESTION] A column or function parameter with name `3` cannot be resolved. Did you mean one of the following? [`1`, `2`].;\n",
      "'Filter NOT ('3 = NULL)\n",
      "+- Project [1#713746, 2#713779]\n",
      "   +- Project [Explode#713697, split#713701, 1#713746, 2#713779]\n",
      "      +- Project [id#713682, text#713673, length_of_text#713685, num_of_words#713689, Explode#713697, split#713701, 1#713746, text#713673 AS 2#713779]\n",
      "         +- Join RightOuter, (id#713682 = cast(2#713721 as int))\n",
      "            :- Project [id#713682, text#713673, length_of_text#713685, array_size(split(text#713673,  , -1)) AS num_of_words#713689]\n",
      "            :  +- Project [id#713682, text#713673, length(text#713673) AS length_of_text#713685]\n",
      "            :     +- Project [cast(id#713679 as int) AS id#713682, text#713673]\n",
      "            :        +- Project [regexp_replace(id#713670, [\\{\\}\"], , 1) AS id#713679, text#713673]\n",
      "            :           +- Project [id#713670, text#713673]\n",
      "            :              +- Project [split#713668, id#713670, split(split#713668, : ', -1)[1] AS text#713673]\n",
      "            :                 +- Project [split#713668, split(split#713668, : ', -1)[0] AS id#713670]\n",
      "            :                    +- Project [split#713668]\n",
      "            :                       +- Generate explode(split#713663), false, [split#713668]\n",
      "            :                          +- Project [split#713663]\n",
      "            :                             +- Project [Text_Index#713647, split(Text_Index#713647, ', , -1) AS split#713663]\n",
      "            :                                +- Project [Topic_Name#713645, URL#713646, Text_Index#713647, split(Network#713653, ,, -1) AS Network#713658]\n",
      "            :                                   +- Project [Topic_Name#713645, URL#713646, Text_Index#713647, regexp_replace(Network#713648, [\\[\\]\\'], , 1) AS Network#713653]\n",
      "            :                                      +- LogicalRDD [Topic_Name#713645, URL#713646, Text_Index#713647, Network#713648], false\n",
      "            +- Project [Explode#713697, split#713701, 1#713746, 2#713721]\n",
      "               +- Project [id#713682, text#713673, length_of_text#713685, num_of_words#713689, Explode#713697, split#713701, text#713673 AS 1#713746, 2#713721]\n",
      "                  +- Join RightOuter, (id#713682 = cast(1#713717 as int))\n",
      "                     :- Project [id#713682, text#713673, length_of_text#713685, array_size(split(text#713673,  , -1)) AS num_of_words#713689]\n",
      "                     :  +- Project [id#713682, text#713673, length(text#713673) AS length_of_text#713685]\n",
      "                     :     +- Project [cast(id#713679 as int) AS id#713682, text#713673]\n",
      "                     :        +- Project [regexp_replace(id#713670, [\\{\\}\"], , 1) AS id#713679, text#713673]\n",
      "                     :           +- Project [id#713670, text#713673]\n",
      "                     :              +- Project [split#713668, id#713670, split(split#713668, : ', -1)[1] AS text#713673]\n",
      "                     :                 +- Project [split#713668, split(split#713668, : ', -1)[0] AS id#713670]\n",
      "                     :                    +- Project [split#713668]\n",
      "                     :                       +- Generate explode(split#713663), false, [split#713668]\n",
      "                     :                          +- Project [split#713663]\n",
      "                     :                             +- Project [Text_Index#713761, split(Text_Index#713761, ', , -1) AS split#713663]\n",
      "                     :                                +- Project [Topic_Name#713759, URL#713760, Text_Index#713761, split(Network#713653, ,, -1) AS Network#713658]\n",
      "                     :                                   +- Project [Topic_Name#713759, URL#713760, Text_Index#713761, regexp_replace(Network#713762, [\\[\\]\\'], , 1) AS Network#713653]\n",
      "                     :                                      +- LogicalRDD [Topic_Name#713759, URL#713760, Text_Index#713761, Network#713762], false\n",
      "                     +- Project [Explode#713697, split#713701, 1#713717, split#713701[1] AS 2#713721]\n",
      "                        +- Project [Explode#713697, split#713701, split#713701[0] AS 1#713717]\n",
      "                           +- Project [Explode#713697, split(Explode#713697, ->, -1) AS split#713701]\n",
      "                              +- Project [Explode#713697]\n",
      "                                 +- Project [Network#713694, Explode#713697]\n",
      "                                    +- Generate explode(Network#713694), false, [Explode#713697]\n",
      "                                       +- Project [Network#713658 AS Network#713694]\n",
      "                                          +- Project [Topic_Name#713726, URL#713727, Text_Index#713728, split(Network#713653, ,, -1) AS Network#713658]\n",
      "                                             +- Project [Topic_Name#713726, URL#713727, Text_Index#713728, regexp_replace(Network#713729, [\\[\\]\\'], , 1) AS Network#713653]\n",
      "                                                +- LogicalRDD [Topic_Name#713726, URL#713727, Text_Index#713728, Network#713729], false\n",
      "\n"
     ]
    },
    {
     "name": "stderr",
     "output_type": "stream",
     "text": [
      " 31%|███▏      | 27/86 [00:45<01:27,  1.49s/it]"
     ]
    },
    {
     "name": "stdout",
     "output_type": "stream",
     "text": [
      "0\n"
     ]
    },
    {
     "name": "stderr",
     "output_type": "stream",
     "text": [
      " 33%|███▎      | 28/86 [00:47<01:32,  1.59s/it]"
     ]
    },
    {
     "name": "stdout",
     "output_type": "stream",
     "text": [
      "0\n"
     ]
    },
    {
     "name": "stderr",
     "output_type": "stream",
     "text": [
      " 34%|███▎      | 29/86 [00:47<01:10,  1.24s/it]"
     ]
    },
    {
     "name": "stdout",
     "output_type": "stream",
     "text": [
      "list index out of range\n"
     ]
    },
    {
     "name": "stderr",
     "output_type": "stream",
     "text": [
      " 42%|████▏     | 36/86 [01:00<01:10,  1.40s/it]"
     ]
    },
    {
     "name": "stdout",
     "output_type": "stream",
     "text": [
      "list index out of range\n"
     ]
    },
    {
     "name": "stderr",
     "output_type": "stream",
     "text": [
      " 52%|█████▏    | 45/86 [01:17<00:59,  1.45s/it]"
     ]
    },
    {
     "name": "stdout",
     "output_type": "stream",
     "text": [
      "[UNRESOLVED_COLUMN.WITH_SUGGESTION] A column or function parameter with name `3` cannot be resolved. Did you mean one of the following? [`1`, `2`].;\n",
      "'Filter NOT ('3 = NULL)\n",
      "+- Project [1#718154, 2#718187]\n",
      "   +- Project [Explode#718105, split#718109, 1#718154, 2#718187]\n",
      "      +- Project [id#718090, text#718081, length_of_text#718093, num_of_words#718097, Explode#718105, split#718109, 1#718154, text#718081 AS 2#718187]\n",
      "         +- Join RightOuter, (id#718090 = cast(2#718129 as int))\n",
      "            :- Project [id#718090, text#718081, length_of_text#718093, array_size(split(text#718081,  , -1)) AS num_of_words#718097]\n",
      "            :  +- Project [id#718090, text#718081, length(text#718081) AS length_of_text#718093]\n",
      "            :     +- Project [cast(id#718087 as int) AS id#718090, text#718081]\n",
      "            :        +- Project [regexp_replace(id#718078, [\\{\\}\"], , 1) AS id#718087, text#718081]\n",
      "            :           +- Project [id#718078, text#718081]\n",
      "            :              +- Project [split#718076, id#718078, split(split#718076, : ', -1)[1] AS text#718081]\n",
      "            :                 +- Project [split#718076, split(split#718076, : ', -1)[0] AS id#718078]\n",
      "            :                    +- Project [split#718076]\n",
      "            :                       +- Generate explode(split#718071), false, [split#718076]\n",
      "            :                          +- Project [split#718071]\n",
      "            :                             +- Project [Text_Index#718055, split(Text_Index#718055, ', , -1) AS split#718071]\n",
      "            :                                +- Project [Topic_Name#718053, URL#718054, Text_Index#718055, split(Network#718061, ,, -1) AS Network#718066]\n",
      "            :                                   +- Project [Topic_Name#718053, URL#718054, Text_Index#718055, regexp_replace(Network#718056, [\\[\\]\\'], , 1) AS Network#718061]\n",
      "            :                                      +- LogicalRDD [Topic_Name#718053, URL#718054, Text_Index#718055, Network#718056], false\n",
      "            +- Project [Explode#718105, split#718109, 1#718154, 2#718129]\n",
      "               +- Project [id#718090, text#718081, length_of_text#718093, num_of_words#718097, Explode#718105, split#718109, text#718081 AS 1#718154, 2#718129]\n",
      "                  +- Join RightOuter, (id#718090 = cast(1#718125 as int))\n",
      "                     :- Project [id#718090, text#718081, length_of_text#718093, array_size(split(text#718081,  , -1)) AS num_of_words#718097]\n",
      "                     :  +- Project [id#718090, text#718081, length(text#718081) AS length_of_text#718093]\n",
      "                     :     +- Project [cast(id#718087 as int) AS id#718090, text#718081]\n",
      "                     :        +- Project [regexp_replace(id#718078, [\\{\\}\"], , 1) AS id#718087, text#718081]\n",
      "                     :           +- Project [id#718078, text#718081]\n",
      "                     :              +- Project [split#718076, id#718078, split(split#718076, : ', -1)[1] AS text#718081]\n",
      "                     :                 +- Project [split#718076, split(split#718076, : ', -1)[0] AS id#718078]\n",
      "                     :                    +- Project [split#718076]\n",
      "                     :                       +- Generate explode(split#718071), false, [split#718076]\n",
      "                     :                          +- Project [split#718071]\n",
      "                     :                             +- Project [Text_Index#718169, split(Text_Index#718169, ', , -1) AS split#718071]\n",
      "                     :                                +- Project [Topic_Name#718167, URL#718168, Text_Index#718169, split(Network#718061, ,, -1) AS Network#718066]\n",
      "                     :                                   +- Project [Topic_Name#718167, URL#718168, Text_Index#718169, regexp_replace(Network#718170, [\\[\\]\\'], , 1) AS Network#718061]\n",
      "                     :                                      +- LogicalRDD [Topic_Name#718167, URL#718168, Text_Index#718169, Network#718170], false\n",
      "                     +- Project [Explode#718105, split#718109, 1#718125, split#718109[1] AS 2#718129]\n",
      "                        +- Project [Explode#718105, split#718109, split#718109[0] AS 1#718125]\n",
      "                           +- Project [Explode#718105, split(Explode#718105, ->, -1) AS split#718109]\n",
      "                              +- Project [Explode#718105]\n",
      "                                 +- Project [Network#718102, Explode#718105]\n",
      "                                    +- Generate explode(Network#718102), false, [Explode#718105]\n",
      "                                       +- Project [Network#718066 AS Network#718102]\n",
      "                                          +- Project [Topic_Name#718134, URL#718135, Text_Index#718136, split(Network#718061, ,, -1) AS Network#718066]\n",
      "                                             +- Project [Topic_Name#718134, URL#718135, Text_Index#718136, regexp_replace(Network#718137, [\\[\\]\\'], , 1) AS Network#718061]\n",
      "                                                +- LogicalRDD [Topic_Name#718134, URL#718135, Text_Index#718136, Network#718137], false\n",
      "\n"
     ]
    },
    {
     "name": "stderr",
     "output_type": "stream",
     "text": [
      " 56%|█████▌    | 48/86 [01:22<00:54,  1.43s/it]"
     ]
    },
    {
     "name": "stdout",
     "output_type": "stream",
     "text": [
      "list index out of range\n"
     ]
    },
    {
     "name": "stderr",
     "output_type": "stream",
     "text": [
      " 83%|████████▎ | 71/86 [02:05<00:24,  1.65s/it]"
     ]
    },
    {
     "name": "stdout",
     "output_type": "stream",
     "text": [
      "[UNRESOLVED_COLUMN.WITH_SUGGESTION] A column or function parameter with name `3` cannot be resolved. Did you mean one of the following? [`1`, `2`].;\n",
      "'Filter NOT ('3 = NULL)\n",
      "+- Project [1#724649, 2#724682]\n",
      "   +- Project [Explode#724600, split#724604, 1#724649, 2#724682]\n",
      "      +- Project [id#724585, text#724576, length_of_text#724588, num_of_words#724592, Explode#724600, split#724604, 1#724649, text#724576 AS 2#724682]\n",
      "         +- Join RightOuter, (id#724585 = cast(2#724624 as int))\n",
      "            :- Project [id#724585, text#724576, length_of_text#724588, array_size(split(text#724576,  , -1)) AS num_of_words#724592]\n",
      "            :  +- Project [id#724585, text#724576, length(text#724576) AS length_of_text#724588]\n",
      "            :     +- Project [cast(id#724582 as int) AS id#724585, text#724576]\n",
      "            :        +- Project [regexp_replace(id#724573, [\\{\\}\"], , 1) AS id#724582, text#724576]\n",
      "            :           +- Project [id#724573, text#724576]\n",
      "            :              +- Project [split#724571, id#724573, split(split#724571, : ', -1)[1] AS text#724576]\n",
      "            :                 +- Project [split#724571, split(split#724571, : ', -1)[0] AS id#724573]\n",
      "            :                    +- Project [split#724571]\n",
      "            :                       +- Generate explode(split#724566), false, [split#724571]\n",
      "            :                          +- Project [split#724566]\n",
      "            :                             +- Project [Text_Index#724550, split(Text_Index#724550, ', , -1) AS split#724566]\n",
      "            :                                +- Project [Topic_Name#724548, URL#724549, Text_Index#724550, split(Network#724556, ,, -1) AS Network#724561]\n",
      "            :                                   +- Project [Topic_Name#724548, URL#724549, Text_Index#724550, regexp_replace(Network#724551, [\\[\\]\\'], , 1) AS Network#724556]\n",
      "            :                                      +- LogicalRDD [Topic_Name#724548, URL#724549, Text_Index#724550, Network#724551], false\n",
      "            +- Project [Explode#724600, split#724604, 1#724649, 2#724624]\n",
      "               +- Project [id#724585, text#724576, length_of_text#724588, num_of_words#724592, Explode#724600, split#724604, text#724576 AS 1#724649, 2#724624]\n",
      "                  +- Join RightOuter, (id#724585 = cast(1#724620 as int))\n",
      "                     :- Project [id#724585, text#724576, length_of_text#724588, array_size(split(text#724576,  , -1)) AS num_of_words#724592]\n",
      "                     :  +- Project [id#724585, text#724576, length(text#724576) AS length_of_text#724588]\n",
      "                     :     +- Project [cast(id#724582 as int) AS id#724585, text#724576]\n",
      "                     :        +- Project [regexp_replace(id#724573, [\\{\\}\"], , 1) AS id#724582, text#724576]\n",
      "                     :           +- Project [id#724573, text#724576]\n",
      "                     :              +- Project [split#724571, id#724573, split(split#724571, : ', -1)[1] AS text#724576]\n",
      "                     :                 +- Project [split#724571, split(split#724571, : ', -1)[0] AS id#724573]\n",
      "                     :                    +- Project [split#724571]\n",
      "                     :                       +- Generate explode(split#724566), false, [split#724571]\n",
      "                     :                          +- Project [split#724566]\n",
      "                     :                             +- Project [Text_Index#724664, split(Text_Index#724664, ', , -1) AS split#724566]\n",
      "                     :                                +- Project [Topic_Name#724662, URL#724663, Text_Index#724664, split(Network#724556, ,, -1) AS Network#724561]\n",
      "                     :                                   +- Project [Topic_Name#724662, URL#724663, Text_Index#724664, regexp_replace(Network#724665, [\\[\\]\\'], , 1) AS Network#724556]\n",
      "                     :                                      +- LogicalRDD [Topic_Name#724662, URL#724663, Text_Index#724664, Network#724665], false\n",
      "                     +- Project [Explode#724600, split#724604, 1#724620, split#724604[1] AS 2#724624]\n",
      "                        +- Project [Explode#724600, split#724604, split#724604[0] AS 1#724620]\n",
      "                           +- Project [Explode#724600, split(Explode#724600, ->, -1) AS split#724604]\n",
      "                              +- Project [Explode#724600]\n",
      "                                 +- Project [Network#724597, Explode#724600]\n",
      "                                    +- Generate explode(Network#724597), false, [Explode#724600]\n",
      "                                       +- Project [Network#724561 AS Network#724597]\n",
      "                                          +- Project [Topic_Name#724629, URL#724630, Text_Index#724631, split(Network#724556, ,, -1) AS Network#724561]\n",
      "                                             +- Project [Topic_Name#724629, URL#724630, Text_Index#724631, regexp_replace(Network#724632, [\\[\\]\\'], , 1) AS Network#724556]\n",
      "                                                +- LogicalRDD [Topic_Name#724629, URL#724630, Text_Index#724631, Network#724632], false\n",
      "\n"
     ]
    },
    {
     "name": "stderr",
     "output_type": "stream",
     "text": [
      " 94%|█████████▍| 81/86 [02:25<00:08,  1.61s/it]"
     ]
    },
    {
     "name": "stdout",
     "output_type": "stream",
     "text": [
      "list index out of range\n"
     ]
    },
    {
     "name": "stderr",
     "output_type": "stream",
     "text": [
      " 98%|█████████▊| 84/86 [02:29<00:02,  1.32s/it]"
     ]
    },
    {
     "name": "stdout",
     "output_type": "stream",
     "text": [
      "list index out of range\n"
     ]
    },
    {
     "name": "stderr",
     "output_type": "stream",
     "text": [
      "100%|██████████| 86/86 [02:33<00:00,  1.78s/it]\n",
      "  5%|▌         | 5/94 [00:08<02:12,  1.49s/it]"
     ]
    },
    {
     "name": "stdout",
     "output_type": "stream",
     "text": [
      "list index out of range\n"
     ]
    },
    {
     "name": "stderr",
     "output_type": "stream",
     "text": [
      " 13%|█▎        | 12/94 [00:21<02:09,  1.58s/it]"
     ]
    },
    {
     "name": "stdout",
     "output_type": "stream",
     "text": [
      "[UNRESOLVED_COLUMN.WITH_SUGGESTION] A column or function parameter with name `3` cannot be resolved. Did you mean one of the following? [`1`, `2`].;\n",
      "'Filter NOT ('3 = NULL)\n",
      "+- Project [1#731814, 2#731847]\n",
      "   +- Project [Explode#731765, split#731769, 1#731814, 2#731847]\n",
      "      +- Project [id#731750, text#731741, length_of_text#731753, num_of_words#731757, Explode#731765, split#731769, 1#731814, text#731741 AS 2#731847]\n",
      "         +- Join RightOuter, (id#731750 = cast(2#731789 as int))\n",
      "            :- Project [id#731750, text#731741, length_of_text#731753, array_size(split(text#731741,  , -1)) AS num_of_words#731757]\n",
      "            :  +- Project [id#731750, text#731741, length(text#731741) AS length_of_text#731753]\n",
      "            :     +- Project [cast(id#731747 as int) AS id#731750, text#731741]\n",
      "            :        +- Project [regexp_replace(id#731738, [\\{\\}\"], , 1) AS id#731747, text#731741]\n",
      "            :           +- Project [id#731738, text#731741]\n",
      "            :              +- Project [split#731736, id#731738, split(split#731736, : ', -1)[1] AS text#731741]\n",
      "            :                 +- Project [split#731736, split(split#731736, : ', -1)[0] AS id#731738]\n",
      "            :                    +- Project [split#731736]\n",
      "            :                       +- Generate explode(split#731731), false, [split#731736]\n",
      "            :                          +- Project [split#731731]\n",
      "            :                             +- Project [Text_Index#731715, split(Text_Index#731715, ', , -1) AS split#731731]\n",
      "            :                                +- Project [Topic_Name#731713, URL#731714, Text_Index#731715, split(Network#731721, ,, -1) AS Network#731726]\n",
      "            :                                   +- Project [Topic_Name#731713, URL#731714, Text_Index#731715, regexp_replace(Network#731716, [\\[\\]\\'], , 1) AS Network#731721]\n",
      "            :                                      +- LogicalRDD [Topic_Name#731713, URL#731714, Text_Index#731715, Network#731716], false\n",
      "            +- Project [Explode#731765, split#731769, 1#731814, 2#731789]\n",
      "               +- Project [id#731750, text#731741, length_of_text#731753, num_of_words#731757, Explode#731765, split#731769, text#731741 AS 1#731814, 2#731789]\n",
      "                  +- Join RightOuter, (id#731750 = cast(1#731785 as int))\n",
      "                     :- Project [id#731750, text#731741, length_of_text#731753, array_size(split(text#731741,  , -1)) AS num_of_words#731757]\n",
      "                     :  +- Project [id#731750, text#731741, length(text#731741) AS length_of_text#731753]\n",
      "                     :     +- Project [cast(id#731747 as int) AS id#731750, text#731741]\n",
      "                     :        +- Project [regexp_replace(id#731738, [\\{\\}\"], , 1) AS id#731747, text#731741]\n",
      "                     :           +- Project [id#731738, text#731741]\n",
      "                     :              +- Project [split#731736, id#731738, split(split#731736, : ', -1)[1] AS text#731741]\n",
      "                     :                 +- Project [split#731736, split(split#731736, : ', -1)[0] AS id#731738]\n",
      "                     :                    +- Project [split#731736]\n",
      "                     :                       +- Generate explode(split#731731), false, [split#731736]\n",
      "                     :                          +- Project [split#731731]\n",
      "                     :                             +- Project [Text_Index#731829, split(Text_Index#731829, ', , -1) AS split#731731]\n",
      "                     :                                +- Project [Topic_Name#731827, URL#731828, Text_Index#731829, split(Network#731721, ,, -1) AS Network#731726]\n",
      "                     :                                   +- Project [Topic_Name#731827, URL#731828, Text_Index#731829, regexp_replace(Network#731830, [\\[\\]\\'], , 1) AS Network#731721]\n",
      "                     :                                      +- LogicalRDD [Topic_Name#731827, URL#731828, Text_Index#731829, Network#731830], false\n",
      "                     +- Project [Explode#731765, split#731769, 1#731785, split#731769[1] AS 2#731789]\n",
      "                        +- Project [Explode#731765, split#731769, split#731769[0] AS 1#731785]\n",
      "                           +- Project [Explode#731765, split(Explode#731765, ->, -1) AS split#731769]\n",
      "                              +- Project [Explode#731765]\n",
      "                                 +- Project [Network#731762, Explode#731765]\n",
      "                                    +- Generate explode(Network#731762), false, [Explode#731765]\n",
      "                                       +- Project [Network#731726 AS Network#731762]\n",
      "                                          +- Project [Topic_Name#731794, URL#731795, Text_Index#731796, split(Network#731721, ,, -1) AS Network#731726]\n",
      "                                             +- Project [Topic_Name#731794, URL#731795, Text_Index#731796, regexp_replace(Network#731797, [\\[\\]\\'], , 1) AS Network#731721]\n",
      "                                                +- LogicalRDD [Topic_Name#731794, URL#731795, Text_Index#731796, Network#731797], false\n",
      "\n"
     ]
    },
    {
     "name": "stderr",
     "output_type": "stream",
     "text": [
      " 14%|█▍        | 13/94 [00:21<01:41,  1.25s/it]"
     ]
    },
    {
     "name": "stdout",
     "output_type": "stream",
     "text": [
      "[UNRESOLVED_COLUMN.WITH_SUGGESTION] A column or function parameter with name `3` cannot be resolved. Did you mean one of the following? [`1`, `2`].;\n",
      "'Filter NOT ('3 = NULL)\n",
      "+- Project [1#731963, 2#731996]\n",
      "   +- Project [Explode#731914, split#731918, 1#731963, 2#731996]\n",
      "      +- Project [id#731899, text#731890, length_of_text#731902, num_of_words#731906, Explode#731914, split#731918, 1#731963, text#731890 AS 2#731996]\n",
      "         +- Join RightOuter, (id#731899 = cast(2#731938 as int))\n",
      "            :- Project [id#731899, text#731890, length_of_text#731902, array_size(split(text#731890,  , -1)) AS num_of_words#731906]\n",
      "            :  +- Project [id#731899, text#731890, length(text#731890) AS length_of_text#731902]\n",
      "            :     +- Project [cast(id#731896 as int) AS id#731899, text#731890]\n",
      "            :        +- Project [regexp_replace(id#731887, [\\{\\}\"], , 1) AS id#731896, text#731890]\n",
      "            :           +- Project [id#731887, text#731890]\n",
      "            :              +- Project [split#731885, id#731887, split(split#731885, : ', -1)[1] AS text#731890]\n",
      "            :                 +- Project [split#731885, split(split#731885, : ', -1)[0] AS id#731887]\n",
      "            :                    +- Project [split#731885]\n",
      "            :                       +- Generate explode(split#731880), false, [split#731885]\n",
      "            :                          +- Project [split#731880]\n",
      "            :                             +- Project [Text_Index#731864, split(Text_Index#731864, ', , -1) AS split#731880]\n",
      "            :                                +- Project [Topic_Name#731862, URL#731863, Text_Index#731864, split(Network#731870, ,, -1) AS Network#731875]\n",
      "            :                                   +- Project [Topic_Name#731862, URL#731863, Text_Index#731864, regexp_replace(Network#731865, [\\[\\]\\'], , 1) AS Network#731870]\n",
      "            :                                      +- LogicalRDD [Topic_Name#731862, URL#731863, Text_Index#731864, Network#731865], false\n",
      "            +- Project [Explode#731914, split#731918, 1#731963, 2#731938]\n",
      "               +- Project [id#731899, text#731890, length_of_text#731902, num_of_words#731906, Explode#731914, split#731918, text#731890 AS 1#731963, 2#731938]\n",
      "                  +- Join RightOuter, (id#731899 = cast(1#731934 as int))\n",
      "                     :- Project [id#731899, text#731890, length_of_text#731902, array_size(split(text#731890,  , -1)) AS num_of_words#731906]\n",
      "                     :  +- Project [id#731899, text#731890, length(text#731890) AS length_of_text#731902]\n",
      "                     :     +- Project [cast(id#731896 as int) AS id#731899, text#731890]\n",
      "                     :        +- Project [regexp_replace(id#731887, [\\{\\}\"], , 1) AS id#731896, text#731890]\n",
      "                     :           +- Project [id#731887, text#731890]\n",
      "                     :              +- Project [split#731885, id#731887, split(split#731885, : ', -1)[1] AS text#731890]\n",
      "                     :                 +- Project [split#731885, split(split#731885, : ', -1)[0] AS id#731887]\n",
      "                     :                    +- Project [split#731885]\n",
      "                     :                       +- Generate explode(split#731880), false, [split#731885]\n",
      "                     :                          +- Project [split#731880]\n",
      "                     :                             +- Project [Text_Index#731978, split(Text_Index#731978, ', , -1) AS split#731880]\n",
      "                     :                                +- Project [Topic_Name#731976, URL#731977, Text_Index#731978, split(Network#731870, ,, -1) AS Network#731875]\n",
      "                     :                                   +- Project [Topic_Name#731976, URL#731977, Text_Index#731978, regexp_replace(Network#731979, [\\[\\]\\'], , 1) AS Network#731870]\n",
      "                     :                                      +- LogicalRDD [Topic_Name#731976, URL#731977, Text_Index#731978, Network#731979], false\n",
      "                     +- Project [Explode#731914, split#731918, 1#731934, split#731918[1] AS 2#731938]\n",
      "                        +- Project [Explode#731914, split#731918, split#731918[0] AS 1#731934]\n",
      "                           +- Project [Explode#731914, split(Explode#731914, ->, -1) AS split#731918]\n",
      "                              +- Project [Explode#731914]\n",
      "                                 +- Project [Network#731911, Explode#731914]\n",
      "                                    +- Generate explode(Network#731911), false, [Explode#731914]\n",
      "                                       +- Project [Network#731875 AS Network#731911]\n",
      "                                          +- Project [Topic_Name#731943, URL#731944, Text_Index#731945, split(Network#731870, ,, -1) AS Network#731875]\n",
      "                                             +- Project [Topic_Name#731943, URL#731944, Text_Index#731945, regexp_replace(Network#731946, [\\[\\]\\'], , 1) AS Network#731870]\n",
      "                                                +- LogicalRDD [Topic_Name#731943, URL#731944, Text_Index#731945, Network#731946], false\n",
      "\n"
     ]
    },
    {
     "name": "stderr",
     "output_type": "stream",
     "text": [
      " 23%|██▎       | 22/94 [00:37<01:45,  1.46s/it]"
     ]
    },
    {
     "name": "stdout",
     "output_type": "stream",
     "text": [
      "[UNRESOLVED_COLUMN.WITH_SUGGESTION] A column or function parameter with name `3` cannot be resolved. Did you mean one of the following? [`1`, `2`].;\n",
      "'Filter NOT ('3 = NULL)\n",
      "+- Project [1#734287, 2#734320]\n",
      "   +- Project [Explode#734238, split#734242, 1#734287, 2#734320]\n",
      "      +- Project [id#734223, text#734214, length_of_text#734226, num_of_words#734230, Explode#734238, split#734242, 1#734287, text#734214 AS 2#734320]\n",
      "         +- Join RightOuter, (id#734223 = cast(2#734262 as int))\n",
      "            :- Project [id#734223, text#734214, length_of_text#734226, array_size(split(text#734214,  , -1)) AS num_of_words#734230]\n",
      "            :  +- Project [id#734223, text#734214, length(text#734214) AS length_of_text#734226]\n",
      "            :     +- Project [cast(id#734220 as int) AS id#734223, text#734214]\n",
      "            :        +- Project [regexp_replace(id#734211, [\\{\\}\"], , 1) AS id#734220, text#734214]\n",
      "            :           +- Project [id#734211, text#734214]\n",
      "            :              +- Project [split#734209, id#734211, split(split#734209, : ', -1)[1] AS text#734214]\n",
      "            :                 +- Project [split#734209, split(split#734209, : ', -1)[0] AS id#734211]\n",
      "            :                    +- Project [split#734209]\n",
      "            :                       +- Generate explode(split#734204), false, [split#734209]\n",
      "            :                          +- Project [split#734204]\n",
      "            :                             +- Project [Text_Index#734188, split(Text_Index#734188, ', , -1) AS split#734204]\n",
      "            :                                +- Project [Topic_Name#734186, URL#734187, Text_Index#734188, split(Network#734194, ,, -1) AS Network#734199]\n",
      "            :                                   +- Project [Topic_Name#734186, URL#734187, Text_Index#734188, regexp_replace(Network#734189, [\\[\\]\\'], , 1) AS Network#734194]\n",
      "            :                                      +- LogicalRDD [Topic_Name#734186, URL#734187, Text_Index#734188, Network#734189], false\n",
      "            +- Project [Explode#734238, split#734242, 1#734287, 2#734262]\n",
      "               +- Project [id#734223, text#734214, length_of_text#734226, num_of_words#734230, Explode#734238, split#734242, text#734214 AS 1#734287, 2#734262]\n",
      "                  +- Join RightOuter, (id#734223 = cast(1#734258 as int))\n",
      "                     :- Project [id#734223, text#734214, length_of_text#734226, array_size(split(text#734214,  , -1)) AS num_of_words#734230]\n",
      "                     :  +- Project [id#734223, text#734214, length(text#734214) AS length_of_text#734226]\n",
      "                     :     +- Project [cast(id#734220 as int) AS id#734223, text#734214]\n",
      "                     :        +- Project [regexp_replace(id#734211, [\\{\\}\"], , 1) AS id#734220, text#734214]\n",
      "                     :           +- Project [id#734211, text#734214]\n",
      "                     :              +- Project [split#734209, id#734211, split(split#734209, : ', -1)[1] AS text#734214]\n",
      "                     :                 +- Project [split#734209, split(split#734209, : ', -1)[0] AS id#734211]\n",
      "                     :                    +- Project [split#734209]\n",
      "                     :                       +- Generate explode(split#734204), false, [split#734209]\n",
      "                     :                          +- Project [split#734204]\n",
      "                     :                             +- Project [Text_Index#734302, split(Text_Index#734302, ', , -1) AS split#734204]\n",
      "                     :                                +- Project [Topic_Name#734300, URL#734301, Text_Index#734302, split(Network#734194, ,, -1) AS Network#734199]\n",
      "                     :                                   +- Project [Topic_Name#734300, URL#734301, Text_Index#734302, regexp_replace(Network#734303, [\\[\\]\\'], , 1) AS Network#734194]\n",
      "                     :                                      +- LogicalRDD [Topic_Name#734300, URL#734301, Text_Index#734302, Network#734303], false\n",
      "                     +- Project [Explode#734238, split#734242, 1#734258, split#734242[1] AS 2#734262]\n",
      "                        +- Project [Explode#734238, split#734242, split#734242[0] AS 1#734258]\n",
      "                           +- Project [Explode#734238, split(Explode#734238, ->, -1) AS split#734242]\n",
      "                              +- Project [Explode#734238]\n",
      "                                 +- Project [Network#734235, Explode#734238]\n",
      "                                    +- Generate explode(Network#734235), false, [Explode#734238]\n",
      "                                       +- Project [Network#734199 AS Network#734235]\n",
      "                                          +- Project [Topic_Name#734267, URL#734268, Text_Index#734269, split(Network#734194, ,, -1) AS Network#734199]\n",
      "                                             +- Project [Topic_Name#734267, URL#734268, Text_Index#734269, regexp_replace(Network#734270, [\\[\\]\\'], , 1) AS Network#734194]\n",
      "                                                +- LogicalRDD [Topic_Name#734267, URL#734268, Text_Index#734269, Network#734270], false\n",
      "\n"
     ]
    },
    {
     "name": "stderr",
     "output_type": "stream",
     "text": [
      " 37%|███▋      | 35/94 [01:01<01:50,  1.87s/it]"
     ]
    },
    {
     "name": "stdout",
     "output_type": "stream",
     "text": [
      "local variable 'update_dict' referenced before assignment\n"
     ]
    },
    {
     "name": "stderr",
     "output_type": "stream",
     "text": [
      " 45%|████▍     | 42/94 [01:15<01:24,  1.62s/it]"
     ]
    },
    {
     "name": "stdout",
     "output_type": "stream",
     "text": [
      "[UNRESOLVED_COLUMN.WITH_SUGGESTION] A column or function parameter with name `3` cannot be resolved. Did you mean one of the following? [`1`, `2`].;\n",
      "'Filter NOT ('3 = NULL)\n",
      "+- Project [1#739443, 2#739476]\n",
      "   +- Project [Explode#739394, split#739398, 1#739443, 2#739476]\n",
      "      +- Project [id#739379, text#739370, length_of_text#739382, num_of_words#739386, Explode#739394, split#739398, 1#739443, text#739370 AS 2#739476]\n",
      "         +- Join RightOuter, (id#739379 = cast(2#739418 as int))\n",
      "            :- Project [id#739379, text#739370, length_of_text#739382, array_size(split(text#739370,  , -1)) AS num_of_words#739386]\n",
      "            :  +- Project [id#739379, text#739370, length(text#739370) AS length_of_text#739382]\n",
      "            :     +- Project [cast(id#739376 as int) AS id#739379, text#739370]\n",
      "            :        +- Project [regexp_replace(id#739367, [\\{\\}\"], , 1) AS id#739376, text#739370]\n",
      "            :           +- Project [id#739367, text#739370]\n",
      "            :              +- Project [split#739365, id#739367, split(split#739365, : ', -1)[1] AS text#739370]\n",
      "            :                 +- Project [split#739365, split(split#739365, : ', -1)[0] AS id#739367]\n",
      "            :                    +- Project [split#739365]\n",
      "            :                       +- Generate explode(split#739360), false, [split#739365]\n",
      "            :                          +- Project [split#739360]\n",
      "            :                             +- Project [Text_Index#739344, split(Text_Index#739344, ', , -1) AS split#739360]\n",
      "            :                                +- Project [Topic_Name#739342, URL#739343, Text_Index#739344, split(Network#739350, ,, -1) AS Network#739355]\n",
      "            :                                   +- Project [Topic_Name#739342, URL#739343, Text_Index#739344, regexp_replace(Network#739345, [\\[\\]\\'], , 1) AS Network#739350]\n",
      "            :                                      +- LogicalRDD [Topic_Name#739342, URL#739343, Text_Index#739344, Network#739345], false\n",
      "            +- Project [Explode#739394, split#739398, 1#739443, 2#739418]\n",
      "               +- Project [id#739379, text#739370, length_of_text#739382, num_of_words#739386, Explode#739394, split#739398, text#739370 AS 1#739443, 2#739418]\n",
      "                  +- Join RightOuter, (id#739379 = cast(1#739414 as int))\n",
      "                     :- Project [id#739379, text#739370, length_of_text#739382, array_size(split(text#739370,  , -1)) AS num_of_words#739386]\n",
      "                     :  +- Project [id#739379, text#739370, length(text#739370) AS length_of_text#739382]\n",
      "                     :     +- Project [cast(id#739376 as int) AS id#739379, text#739370]\n",
      "                     :        +- Project [regexp_replace(id#739367, [\\{\\}\"], , 1) AS id#739376, text#739370]\n",
      "                     :           +- Project [id#739367, text#739370]\n",
      "                     :              +- Project [split#739365, id#739367, split(split#739365, : ', -1)[1] AS text#739370]\n",
      "                     :                 +- Project [split#739365, split(split#739365, : ', -1)[0] AS id#739367]\n",
      "                     :                    +- Project [split#739365]\n",
      "                     :                       +- Generate explode(split#739360), false, [split#739365]\n",
      "                     :                          +- Project [split#739360]\n",
      "                     :                             +- Project [Text_Index#739458, split(Text_Index#739458, ', , -1) AS split#739360]\n",
      "                     :                                +- Project [Topic_Name#739456, URL#739457, Text_Index#739458, split(Network#739350, ,, -1) AS Network#739355]\n",
      "                     :                                   +- Project [Topic_Name#739456, URL#739457, Text_Index#739458, regexp_replace(Network#739459, [\\[\\]\\'], , 1) AS Network#739350]\n",
      "                     :                                      +- LogicalRDD [Topic_Name#739456, URL#739457, Text_Index#739458, Network#739459], false\n",
      "                     +- Project [Explode#739394, split#739398, 1#739414, split#739398[1] AS 2#739418]\n",
      "                        +- Project [Explode#739394, split#739398, split#739398[0] AS 1#739414]\n",
      "                           +- Project [Explode#739394, split(Explode#739394, ->, -1) AS split#739398]\n",
      "                              +- Project [Explode#739394]\n",
      "                                 +- Project [Network#739391, Explode#739394]\n",
      "                                    +- Generate explode(Network#739391), false, [Explode#739394]\n",
      "                                       +- Project [Network#739355 AS Network#739391]\n",
      "                                          +- Project [Topic_Name#739423, URL#739424, Text_Index#739425, split(Network#739350, ,, -1) AS Network#739355]\n",
      "                                             +- Project [Topic_Name#739423, URL#739424, Text_Index#739425, regexp_replace(Network#739426, [\\[\\]\\'], , 1) AS Network#739350]\n",
      "                                                +- LogicalRDD [Topic_Name#739423, URL#739424, Text_Index#739425, Network#739426], false\n",
      "\n"
     ]
    },
    {
     "name": "stderr",
     "output_type": "stream",
     "text": [
      " 73%|███████▎  | 69/94 [02:09<00:35,  1.43s/it]"
     ]
    },
    {
     "name": "stdout",
     "output_type": "stream",
     "text": [
      "list index out of range\n"
     ]
    },
    {
     "name": "stderr",
     "output_type": "stream",
     "text": [
      " 74%|███████▍  | 70/94 [02:11<00:38,  1.60s/it]"
     ]
    },
    {
     "name": "stdout",
     "output_type": "stream",
     "text": [
      "local variable 'update_dict' referenced before assignment\n"
     ]
    },
    {
     "name": "stderr",
     "output_type": "stream",
     "text": [
      " 76%|███████▌  | 71/94 [02:11<00:29,  1.27s/it]"
     ]
    },
    {
     "name": "stdout",
     "output_type": "stream",
     "text": [
      "[UNRESOLVED_COLUMN.WITH_SUGGESTION] A column or function parameter with name `3` cannot be resolved. Did you mean one of the following? [`1`, `2`].;\n",
      "'Filter NOT ('3 = NULL)\n",
      "+- Project [1#747817, 2#747850]\n",
      "   +- Project [Explode#747768, split#747772, 1#747817, 2#747850]\n",
      "      +- Project [id#747753, text#747744, length_of_text#747756, num_of_words#747760, Explode#747768, split#747772, 1#747817, text#747744 AS 2#747850]\n",
      "         +- Join RightOuter, (id#747753 = cast(2#747792 as int))\n",
      "            :- Project [id#747753, text#747744, length_of_text#747756, array_size(split(text#747744,  , -1)) AS num_of_words#747760]\n",
      "            :  +- Project [id#747753, text#747744, length(text#747744) AS length_of_text#747756]\n",
      "            :     +- Project [cast(id#747750 as int) AS id#747753, text#747744]\n",
      "            :        +- Project [regexp_replace(id#747741, [\\{\\}\"], , 1) AS id#747750, text#747744]\n",
      "            :           +- Project [id#747741, text#747744]\n",
      "            :              +- Project [split#747739, id#747741, split(split#747739, : ', -1)[1] AS text#747744]\n",
      "            :                 +- Project [split#747739, split(split#747739, : ', -1)[0] AS id#747741]\n",
      "            :                    +- Project [split#747739]\n",
      "            :                       +- Generate explode(split#747734), false, [split#747739]\n",
      "            :                          +- Project [split#747734]\n",
      "            :                             +- Project [Text_Index#747718, split(Text_Index#747718, ', , -1) AS split#747734]\n",
      "            :                                +- Project [Topic_Name#747716, URL#747717, Text_Index#747718, split(Network#747724, ,, -1) AS Network#747729]\n",
      "            :                                   +- Project [Topic_Name#747716, URL#747717, Text_Index#747718, regexp_replace(Network#747719, [\\[\\]\\'], , 1) AS Network#747724]\n",
      "            :                                      +- LogicalRDD [Topic_Name#747716, URL#747717, Text_Index#747718, Network#747719], false\n",
      "            +- Project [Explode#747768, split#747772, 1#747817, 2#747792]\n",
      "               +- Project [id#747753, text#747744, length_of_text#747756, num_of_words#747760, Explode#747768, split#747772, text#747744 AS 1#747817, 2#747792]\n",
      "                  +- Join RightOuter, (id#747753 = cast(1#747788 as int))\n",
      "                     :- Project [id#747753, text#747744, length_of_text#747756, array_size(split(text#747744,  , -1)) AS num_of_words#747760]\n",
      "                     :  +- Project [id#747753, text#747744, length(text#747744) AS length_of_text#747756]\n",
      "                     :     +- Project [cast(id#747750 as int) AS id#747753, text#747744]\n",
      "                     :        +- Project [regexp_replace(id#747741, [\\{\\}\"], , 1) AS id#747750, text#747744]\n",
      "                     :           +- Project [id#747741, text#747744]\n",
      "                     :              +- Project [split#747739, id#747741, split(split#747739, : ', -1)[1] AS text#747744]\n",
      "                     :                 +- Project [split#747739, split(split#747739, : ', -1)[0] AS id#747741]\n",
      "                     :                    +- Project [split#747739]\n",
      "                     :                       +- Generate explode(split#747734), false, [split#747739]\n",
      "                     :                          +- Project [split#747734]\n",
      "                     :                             +- Project [Text_Index#747832, split(Text_Index#747832, ', , -1) AS split#747734]\n",
      "                     :                                +- Project [Topic_Name#747830, URL#747831, Text_Index#747832, split(Network#747724, ,, -1) AS Network#747729]\n",
      "                     :                                   +- Project [Topic_Name#747830, URL#747831, Text_Index#747832, regexp_replace(Network#747833, [\\[\\]\\'], , 1) AS Network#747724]\n",
      "                     :                                      +- LogicalRDD [Topic_Name#747830, URL#747831, Text_Index#747832, Network#747833], false\n",
      "                     +- Project [Explode#747768, split#747772, 1#747788, split#747772[1] AS 2#747792]\n",
      "                        +- Project [Explode#747768, split#747772, split#747772[0] AS 1#747788]\n",
      "                           +- Project [Explode#747768, split(Explode#747768, ->, -1) AS split#747772]\n",
      "                              +- Project [Explode#747768]\n",
      "                                 +- Project [Network#747765, Explode#747768]\n",
      "                                    +- Generate explode(Network#747765), false, [Explode#747768]\n",
      "                                       +- Project [Network#747729 AS Network#747765]\n",
      "                                          +- Project [Topic_Name#747797, URL#747798, Text_Index#747799, split(Network#747724, ,, -1) AS Network#747729]\n",
      "                                             +- Project [Topic_Name#747797, URL#747798, Text_Index#747799, regexp_replace(Network#747800, [\\[\\]\\'], , 1) AS Network#747724]\n",
      "                                                +- LogicalRDD [Topic_Name#747797, URL#747798, Text_Index#747799, Network#747800], false\n",
      "\n"
     ]
    },
    {
     "name": "stderr",
     "output_type": "stream",
     "text": [
      " 77%|███████▋  | 72/94 [02:12<00:22,  1.03s/it]"
     ]
    },
    {
     "name": "stdout",
     "output_type": "stream",
     "text": [
      "[UNRESOLVED_COLUMN.WITH_SUGGESTION] A column or function parameter with name `3` cannot be resolved. Did you mean one of the following? [`1`, `2`].;\n",
      "'Filter NOT ('3 = NULL)\n",
      "+- Project [1#747966, 2#747999]\n",
      "   +- Project [Explode#747917, split#747921, 1#747966, 2#747999]\n",
      "      +- Project [id#747902, text#747893, length_of_text#747905, num_of_words#747909, Explode#747917, split#747921, 1#747966, text#747893 AS 2#747999]\n",
      "         +- Join RightOuter, (id#747902 = cast(2#747941 as int))\n",
      "            :- Project [id#747902, text#747893, length_of_text#747905, array_size(split(text#747893,  , -1)) AS num_of_words#747909]\n",
      "            :  +- Project [id#747902, text#747893, length(text#747893) AS length_of_text#747905]\n",
      "            :     +- Project [cast(id#747899 as int) AS id#747902, text#747893]\n",
      "            :        +- Project [regexp_replace(id#747890, [\\{\\}\"], , 1) AS id#747899, text#747893]\n",
      "            :           +- Project [id#747890, text#747893]\n",
      "            :              +- Project [split#747888, id#747890, split(split#747888, : ', -1)[1] AS text#747893]\n",
      "            :                 +- Project [split#747888, split(split#747888, : ', -1)[0] AS id#747890]\n",
      "            :                    +- Project [split#747888]\n",
      "            :                       +- Generate explode(split#747883), false, [split#747888]\n",
      "            :                          +- Project [split#747883]\n",
      "            :                             +- Project [Text_Index#747867, split(Text_Index#747867, ', , -1) AS split#747883]\n",
      "            :                                +- Project [Topic_Name#747865, URL#747866, Text_Index#747867, split(Network#747873, ,, -1) AS Network#747878]\n",
      "            :                                   +- Project [Topic_Name#747865, URL#747866, Text_Index#747867, regexp_replace(Network#747868, [\\[\\]\\'], , 1) AS Network#747873]\n",
      "            :                                      +- LogicalRDD [Topic_Name#747865, URL#747866, Text_Index#747867, Network#747868], false\n",
      "            +- Project [Explode#747917, split#747921, 1#747966, 2#747941]\n",
      "               +- Project [id#747902, text#747893, length_of_text#747905, num_of_words#747909, Explode#747917, split#747921, text#747893 AS 1#747966, 2#747941]\n",
      "                  +- Join RightOuter, (id#747902 = cast(1#747937 as int))\n",
      "                     :- Project [id#747902, text#747893, length_of_text#747905, array_size(split(text#747893,  , -1)) AS num_of_words#747909]\n",
      "                     :  +- Project [id#747902, text#747893, length(text#747893) AS length_of_text#747905]\n",
      "                     :     +- Project [cast(id#747899 as int) AS id#747902, text#747893]\n",
      "                     :        +- Project [regexp_replace(id#747890, [\\{\\}\"], , 1) AS id#747899, text#747893]\n",
      "                     :           +- Project [id#747890, text#747893]\n",
      "                     :              +- Project [split#747888, id#747890, split(split#747888, : ', -1)[1] AS text#747893]\n",
      "                     :                 +- Project [split#747888, split(split#747888, : ', -1)[0] AS id#747890]\n",
      "                     :                    +- Project [split#747888]\n",
      "                     :                       +- Generate explode(split#747883), false, [split#747888]\n",
      "                     :                          +- Project [split#747883]\n",
      "                     :                             +- Project [Text_Index#747981, split(Text_Index#747981, ', , -1) AS split#747883]\n",
      "                     :                                +- Project [Topic_Name#747979, URL#747980, Text_Index#747981, split(Network#747873, ,, -1) AS Network#747878]\n",
      "                     :                                   +- Project [Topic_Name#747979, URL#747980, Text_Index#747981, regexp_replace(Network#747982, [\\[\\]\\'], , 1) AS Network#747873]\n",
      "                     :                                      +- LogicalRDD [Topic_Name#747979, URL#747980, Text_Index#747981, Network#747982], false\n",
      "                     +- Project [Explode#747917, split#747921, 1#747937, split#747921[1] AS 2#747941]\n",
      "                        +- Project [Explode#747917, split#747921, split#747921[0] AS 1#747937]\n",
      "                           +- Project [Explode#747917, split(Explode#747917, ->, -1) AS split#747921]\n",
      "                              +- Project [Explode#747917]\n",
      "                                 +- Project [Network#747914, Explode#747917]\n",
      "                                    +- Generate explode(Network#747914), false, [Explode#747917]\n",
      "                                       +- Project [Network#747878 AS Network#747914]\n",
      "                                          +- Project [Topic_Name#747946, URL#747947, Text_Index#747948, split(Network#747873, ,, -1) AS Network#747878]\n",
      "                                             +- Project [Topic_Name#747946, URL#747947, Text_Index#747948, regexp_replace(Network#747949, [\\[\\]\\'], , 1) AS Network#747873]\n",
      "                                                +- LogicalRDD [Topic_Name#747946, URL#747947, Text_Index#747948, Network#747949], false\n",
      "\n"
     ]
    },
    {
     "name": "stderr",
     "output_type": "stream",
     "text": [
      "100%|██████████| 94/94 [02:57<00:00,  1.89s/it]\n",
      " 11%|█         | 6/56 [00:12<01:37,  1.95s/it]"
     ]
    },
    {
     "name": "stdout",
     "output_type": "stream",
     "text": [
      "local variable 'update_dict' referenced before assignment\n"
     ]
    },
    {
     "name": "stderr",
     "output_type": "stream",
     "text": [
      " 14%|█▍        | 8/56 [00:16<01:35,  1.99s/it]"
     ]
    },
    {
     "name": "stdout",
     "output_type": "stream",
     "text": [
      "local variable 'update_dict' referenced before assignment\n"
     ]
    },
    {
     "name": "stderr",
     "output_type": "stream",
     "text": [
      " 41%|████      | 23/56 [00:45<00:51,  1.55s/it]"
     ]
    },
    {
     "name": "stdout",
     "output_type": "stream",
     "text": [
      "[UNRESOLVED_COLUMN.WITH_SUGGESTION] A column or function parameter with name `3` cannot be resolved. Did you mean one of the following? [`1`, `2`].;\n",
      "'Filter NOT ('3 = NULL)\n",
      "+- Project [1#760498, 2#760531]\n",
      "   +- Project [Explode#760449, split#760453, 1#760498, 2#760531]\n",
      "      +- Project [id#760434, text#760425, length_of_text#760437, num_of_words#760441, Explode#760449, split#760453, 1#760498, text#760425 AS 2#760531]\n",
      "         +- Join RightOuter, (id#760434 = cast(2#760473 as int))\n",
      "            :- Project [id#760434, text#760425, length_of_text#760437, array_size(split(text#760425,  , -1)) AS num_of_words#760441]\n",
      "            :  +- Project [id#760434, text#760425, length(text#760425) AS length_of_text#760437]\n",
      "            :     +- Project [cast(id#760431 as int) AS id#760434, text#760425]\n",
      "            :        +- Project [regexp_replace(id#760422, [\\{\\}\"], , 1) AS id#760431, text#760425]\n",
      "            :           +- Project [id#760422, text#760425]\n",
      "            :              +- Project [split#760420, id#760422, split(split#760420, : ', -1)[1] AS text#760425]\n",
      "            :                 +- Project [split#760420, split(split#760420, : ', -1)[0] AS id#760422]\n",
      "            :                    +- Project [split#760420]\n",
      "            :                       +- Generate explode(split#760415), false, [split#760420]\n",
      "            :                          +- Project [split#760415]\n",
      "            :                             +- Project [Text_Index#760399, split(Text_Index#760399, ', , -1) AS split#760415]\n",
      "            :                                +- Project [Topic_Name#760397, URL#760398, Text_Index#760399, split(Network#760405, ,, -1) AS Network#760410]\n",
      "            :                                   +- Project [Topic_Name#760397, URL#760398, Text_Index#760399, regexp_replace(Network#760400, [\\[\\]\\'], , 1) AS Network#760405]\n",
      "            :                                      +- LogicalRDD [Topic_Name#760397, URL#760398, Text_Index#760399, Network#760400], false\n",
      "            +- Project [Explode#760449, split#760453, 1#760498, 2#760473]\n",
      "               +- Project [id#760434, text#760425, length_of_text#760437, num_of_words#760441, Explode#760449, split#760453, text#760425 AS 1#760498, 2#760473]\n",
      "                  +- Join RightOuter, (id#760434 = cast(1#760469 as int))\n",
      "                     :- Project [id#760434, text#760425, length_of_text#760437, array_size(split(text#760425,  , -1)) AS num_of_words#760441]\n",
      "                     :  +- Project [id#760434, text#760425, length(text#760425) AS length_of_text#760437]\n",
      "                     :     +- Project [cast(id#760431 as int) AS id#760434, text#760425]\n",
      "                     :        +- Project [regexp_replace(id#760422, [\\{\\}\"], , 1) AS id#760431, text#760425]\n",
      "                     :           +- Project [id#760422, text#760425]\n",
      "                     :              +- Project [split#760420, id#760422, split(split#760420, : ', -1)[1] AS text#760425]\n",
      "                     :                 +- Project [split#760420, split(split#760420, : ', -1)[0] AS id#760422]\n",
      "                     :                    +- Project [split#760420]\n",
      "                     :                       +- Generate explode(split#760415), false, [split#760420]\n",
      "                     :                          +- Project [split#760415]\n",
      "                     :                             +- Project [Text_Index#760513, split(Text_Index#760513, ', , -1) AS split#760415]\n",
      "                     :                                +- Project [Topic_Name#760511, URL#760512, Text_Index#760513, split(Network#760405, ,, -1) AS Network#760410]\n",
      "                     :                                   +- Project [Topic_Name#760511, URL#760512, Text_Index#760513, regexp_replace(Network#760514, [\\[\\]\\'], , 1) AS Network#760405]\n",
      "                     :                                      +- LogicalRDD [Topic_Name#760511, URL#760512, Text_Index#760513, Network#760514], false\n",
      "                     +- Project [Explode#760449, split#760453, 1#760469, split#760453[1] AS 2#760473]\n",
      "                        +- Project [Explode#760449, split#760453, split#760453[0] AS 1#760469]\n",
      "                           +- Project [Explode#760449, split(Explode#760449, ->, -1) AS split#760453]\n",
      "                              +- Project [Explode#760449]\n",
      "                                 +- Project [Network#760446, Explode#760449]\n",
      "                                    +- Generate explode(Network#760446), false, [Explode#760449]\n",
      "                                       +- Project [Network#760410 AS Network#760446]\n",
      "                                          +- Project [Topic_Name#760478, URL#760479, Text_Index#760480, split(Network#760405, ,, -1) AS Network#760410]\n",
      "                                             +- Project [Topic_Name#760478, URL#760479, Text_Index#760480, regexp_replace(Network#760481, [\\[\\]\\'], , 1) AS Network#760405]\n",
      "                                                +- LogicalRDD [Topic_Name#760478, URL#760479, Text_Index#760480, Network#760481], false\n",
      "\n"
     ]
    },
    {
     "name": "stderr",
     "output_type": "stream",
     "text": [
      " 75%|███████▌  | 42/56 [01:21<00:25,  1.84s/it]"
     ]
    },
    {
     "name": "stdout",
     "output_type": "stream",
     "text": [
      "0\n"
     ]
    },
    {
     "name": "stderr",
     "output_type": "stream",
     "text": [
      " 88%|████████▊ | 49/56 [01:34<00:11,  1.68s/it]"
     ]
    },
    {
     "name": "stdout",
     "output_type": "stream",
     "text": [
      "list index out of range\n"
     ]
    },
    {
     "name": "stderr",
     "output_type": "stream",
     "text": [
      " 91%|█████████ | 51/56 [01:38<00:09,  1.80s/it]"
     ]
    },
    {
     "name": "stdout",
     "output_type": "stream",
     "text": [
      "local variable 'update_dict' referenced before assignment\n"
     ]
    },
    {
     "name": "stderr",
     "output_type": "stream",
     "text": [
      " 98%|█████████▊| 55/56 [01:45<00:01,  1.54s/it]"
     ]
    },
    {
     "name": "stdout",
     "output_type": "stream",
     "text": [
      "list index out of range\n"
     ]
    },
    {
     "name": "stderr",
     "output_type": "stream",
     "text": [
      "100%|██████████| 56/56 [01:47<00:00,  1.92s/it]\n",
      " 18%|█▊        | 14/76 [00:26<01:30,  1.46s/it]"
     ]
    },
    {
     "name": "stdout",
     "output_type": "stream",
     "text": [
      "[UNRESOLVED_COLUMN.WITH_SUGGESTION] A column or function parameter with name `3` cannot be resolved. Did you mean one of the following? [`1`, `2`].;\n",
      "'Filter NOT ('3 = NULL)\n",
      "+- Project [1#773332, 2#773365]\n",
      "   +- Project [Explode#773283, split#773287, 1#773332, 2#773365]\n",
      "      +- Project [id#773268, text#773259, length_of_text#773271, num_of_words#773275, Explode#773283, split#773287, 1#773332, text#773259 AS 2#773365]\n",
      "         +- Join RightOuter, (id#773268 = cast(2#773307 as int))\n",
      "            :- Project [id#773268, text#773259, length_of_text#773271, array_size(split(text#773259,  , -1)) AS num_of_words#773275]\n",
      "            :  +- Project [id#773268, text#773259, length(text#773259) AS length_of_text#773271]\n",
      "            :     +- Project [cast(id#773265 as int) AS id#773268, text#773259]\n",
      "            :        +- Project [regexp_replace(id#773256, [\\{\\}\"], , 1) AS id#773265, text#773259]\n",
      "            :           +- Project [id#773256, text#773259]\n",
      "            :              +- Project [split#773254, id#773256, split(split#773254, : ', -1)[1] AS text#773259]\n",
      "            :                 +- Project [split#773254, split(split#773254, : ', -1)[0] AS id#773256]\n",
      "            :                    +- Project [split#773254]\n",
      "            :                       +- Generate explode(split#773249), false, [split#773254]\n",
      "            :                          +- Project [split#773249]\n",
      "            :                             +- Project [Text_Index#773233, split(Text_Index#773233, ', , -1) AS split#773249]\n",
      "            :                                +- Project [Topic_Name#773231, URL#773232, Text_Index#773233, split(Network#773239, ,, -1) AS Network#773244]\n",
      "            :                                   +- Project [Topic_Name#773231, URL#773232, Text_Index#773233, regexp_replace(Network#773234, [\\[\\]\\'], , 1) AS Network#773239]\n",
      "            :                                      +- LogicalRDD [Topic_Name#773231, URL#773232, Text_Index#773233, Network#773234], false\n",
      "            +- Project [Explode#773283, split#773287, 1#773332, 2#773307]\n",
      "               +- Project [id#773268, text#773259, length_of_text#773271, num_of_words#773275, Explode#773283, split#773287, text#773259 AS 1#773332, 2#773307]\n",
      "                  +- Join RightOuter, (id#773268 = cast(1#773303 as int))\n",
      "                     :- Project [id#773268, text#773259, length_of_text#773271, array_size(split(text#773259,  , -1)) AS num_of_words#773275]\n",
      "                     :  +- Project [id#773268, text#773259, length(text#773259) AS length_of_text#773271]\n",
      "                     :     +- Project [cast(id#773265 as int) AS id#773268, text#773259]\n",
      "                     :        +- Project [regexp_replace(id#773256, [\\{\\}\"], , 1) AS id#773265, text#773259]\n",
      "                     :           +- Project [id#773256, text#773259]\n",
      "                     :              +- Project [split#773254, id#773256, split(split#773254, : ', -1)[1] AS text#773259]\n",
      "                     :                 +- Project [split#773254, split(split#773254, : ', -1)[0] AS id#773256]\n",
      "                     :                    +- Project [split#773254]\n",
      "                     :                       +- Generate explode(split#773249), false, [split#773254]\n",
      "                     :                          +- Project [split#773249]\n",
      "                     :                             +- Project [Text_Index#773347, split(Text_Index#773347, ', , -1) AS split#773249]\n",
      "                     :                                +- Project [Topic_Name#773345, URL#773346, Text_Index#773347, split(Network#773239, ,, -1) AS Network#773244]\n",
      "                     :                                   +- Project [Topic_Name#773345, URL#773346, Text_Index#773347, regexp_replace(Network#773348, [\\[\\]\\'], , 1) AS Network#773239]\n",
      "                     :                                      +- LogicalRDD [Topic_Name#773345, URL#773346, Text_Index#773347, Network#773348], false\n",
      "                     +- Project [Explode#773283, split#773287, 1#773303, split#773287[1] AS 2#773307]\n",
      "                        +- Project [Explode#773283, split#773287, split#773287[0] AS 1#773303]\n",
      "                           +- Project [Explode#773283, split(Explode#773283, ->, -1) AS split#773287]\n",
      "                              +- Project [Explode#773283]\n",
      "                                 +- Project [Network#773280, Explode#773283]\n",
      "                                    +- Generate explode(Network#773280), false, [Explode#773283]\n",
      "                                       +- Project [Network#773244 AS Network#773280]\n",
      "                                          +- Project [Topic_Name#773312, URL#773313, Text_Index#773314, split(Network#773239, ,, -1) AS Network#773244]\n",
      "                                             +- Project [Topic_Name#773312, URL#773313, Text_Index#773314, regexp_replace(Network#773315, [\\[\\]\\'], , 1) AS Network#773239]\n",
      "                                                +- LogicalRDD [Topic_Name#773312, URL#773313, Text_Index#773314, Network#773315], false\n",
      "\n"
     ]
    },
    {
     "name": "stderr",
     "output_type": "stream",
     "text": [
      " 38%|███▊      | 29/76 [00:55<01:16,  1.63s/it]"
     ]
    },
    {
     "name": "stdout",
     "output_type": "stream",
     "text": [
      "list index out of range\n"
     ]
    },
    {
     "name": "stderr",
     "output_type": "stream",
     "text": [
      " 58%|█████▊    | 44/76 [01:27<01:05,  2.03s/it]"
     ]
    }
   ],
   "source": [
    "for file in files:\n",
    "    data = spark.read.csv('../Data/GraphAgent/cleaned_data/{}.tsv'.format(str(file)),sep='\\t',header=True)\n",
    "    all_rows = data.collect()\n",
    "    training_data_df = pd.DataFrame()\n",
    "    for row_iter in tqdm(all_rows):\n",
    "        try:\n",
    "            link = row_iter[1]\n",
    "            df,num_of_loops = data_transformation_pyspark(row_iter)\n",
    "            new_dict,parent_node,unique_keys = dataframe_to_dict(df,num_of_loops)\n",
    "            unique_keys = [i for i in unique_keys if len(i.split(\" \")) < 30]\n",
    "            filter_dict = get_network_graph(parent_node,unique_keys)\n",
    "            network_str = str(filter_dict).replace(\"{}\",\"\").replace(\"'\",\"\").replace(\"\\\\n\",\"\").replace(\"\\\\\",\"\")\n",
    "            training_data = {\"path\":[],\"chunk\":[]}\n",
    "            training_data = get_values(new_dict[parent_node],\"\",training_data)\n",
    "            df = pd.DataFrame.from_dict(training_data)\n",
    "            df[\"path\"] = parent_node+df[\"path\"]\n",
    "            df[\"network\"] = [network_str]*len(df[\"path\"])\n",
    "            df[\"source\"] = [link]*len(df[\"path\"])\n",
    "            # questionList = collect_questions(df[\"chunk\"].tolist())\n",
    "            # df[\"questions\"] = questionList\n",
    "            training_data_df = training_data_df._append(df)\n",
    "        except Exception as e:\n",
    "            print(e)\n",
    "            continue\n",
    "    training_data_df = training_data_df.explode('chunk')\n",
    "    training_data[\"chunk\"] = [str(i) for i in list(training_data[\"chunk\"])]\n",
    "    training_data_df.to_csv(\"../Data/GraphAgent/training_data/{}.tsv\".format(str(file)),sep='\\t', index=False)"
   ]
  },
  {
   "cell_type": "code",
   "execution_count": null,
   "id": "e554faec-186c-436a-bef7-1cd1ef8ac647",
   "metadata": {},
   "outputs": [],
   "source": []
  }
 ],
 "metadata": {
  "kernelspec": {
   "display_name": "Python 3 (ipykernel)",
   "language": "python",
   "name": "python3"
  },
  "language_info": {
   "codemirror_mode": {
    "name": "ipython",
    "version": 3
   },
   "file_extension": ".py",
   "mimetype": "text/x-python",
   "name": "python",
   "nbconvert_exporter": "python",
   "pygments_lexer": "ipython3",
   "version": "3.9.19"
  }
 },
 "nbformat": 4,
 "nbformat_minor": 5
}
