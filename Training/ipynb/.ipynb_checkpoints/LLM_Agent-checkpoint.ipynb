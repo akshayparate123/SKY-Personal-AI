{
 "cells": [
  {
   "cell_type": "code",
   "execution_count": 1,
   "id": "43ed3d8d-c1b5-4faa-a407-74c2ea2ac297",
   "metadata": {},
   "outputs": [
    {
     "name": "stderr",
     "output_type": "stream",
     "text": [
      "C:\\Users\\Akshay\\anaconda3\\envs\\tf\\lib\\site-packages\\tqdm\\auto.py:21: TqdmWarning: IProgress not found. Please update jupyter and ipywidgets. See https://ipywidgets.readthedocs.io/en/stable/user_install.html\n",
      "  from .autonotebook import tqdm as notebook_tqdm\n"
     ]
    }
   ],
   "source": [
    "from datasets import load_dataset\n",
    "import pandas as pd\n",
    "import matplotlib.pyplot as plt\n",
    "import warnings\n",
    "warnings.filterwarnings(\"ignore\")"
   ]
  },
  {
   "cell_type": "code",
   "execution_count": 2,
   "id": "af10254f-11ef-476d-962d-d4bedb85e739",
   "metadata": {},
   "outputs": [],
   "source": [
    "# ds1 = load_dataset(\"jordane95/msmarco-passage-corpus-with-query\")\n",
    "# ds2 = load_dataset(\"SetFit/insincere-questions\")\n",
    "ds3 = load_dataset(\"anon-betterbench/betterbench-b1-all-questions\")"
   ]
  },
  {
   "cell_type": "code",
   "execution_count": 17,
   "id": "bf3e8d6f-b947-4efb-820c-3be64477dd84",
   "metadata": {},
   "outputs": [],
   "source": [
    "df3 = ds3['train'].to_pandas()"
   ]
  },
  {
   "cell_type": "code",
   "execution_count": 18,
   "id": "9a4cba5a-c955-45ac-9c13-47b0ab7e4837",
   "metadata": {
    "scrolled": true
   },
   "outputs": [
    {
     "data": {
      "text/html": [
       "<div>\n",
       "<style scoped>\n",
       "    .dataframe tbody tr th:only-of-type {\n",
       "        vertical-align: middle;\n",
       "    }\n",
       "\n",
       "    .dataframe tbody tr th {\n",
       "        vertical-align: top;\n",
       "    }\n",
       "\n",
       "    .dataframe thead th {\n",
       "        text-align: right;\n",
       "    }\n",
       "</style>\n",
       "<table border=\"1\" class=\"dataframe\">\n",
       "  <thead>\n",
       "    <tr style=\"text-align: right;\">\n",
       "      <th></th>\n",
       "      <th>title</th>\n",
       "      <th>chunk_uuid</th>\n",
       "      <th>chunk_location_id</th>\n",
       "      <th>chunk_size</th>\n",
       "      <th>chunk</th>\n",
       "      <th>summary</th>\n",
       "      <th>document_type</th>\n",
       "      <th>document_name</th>\n",
       "      <th>unique_document_id</th>\n",
       "      <th>source_text</th>\n",
       "      <th>...</th>\n",
       "      <th>reasoning</th>\n",
       "      <th>kind</th>\n",
       "      <th>estimated_difficulty</th>\n",
       "      <th>generating_model</th>\n",
       "      <th>citation_match_statistics</th>\n",
       "      <th>question_identifier</th>\n",
       "      <th>previous_chunk_uuid</th>\n",
       "      <th>previous_chunk</th>\n",
       "      <th>next_chunk_uuid</th>\n",
       "      <th>next_chunk</th>\n",
       "    </tr>\n",
       "  </thead>\n",
       "  <tbody>\n",
       "    <tr>\n",
       "      <th>0</th>\n",
       "      <td>Three ways McKinsey is partnering to transform...</td>\n",
       "      <td>2199f6af-4f4f-46da-ab11-a5d164d3e92d</td>\n",
       "      <td>0</td>\n",
       "      <td>1354</td>\n",
       "      <td>September 27, 2024A projected 80 percent of si...</td>\n",
       "      <td>This document highlights McKinsey's efforts to...</td>\n",
       "      <td>corporate</td>\n",
       "      <td>mckinsey_blog_post</td>\n",
       "      <td>f3370f14-180d-4375-8255-7c41417a61c9</td>\n",
       "      <td># Three ways McKinsey is partnering to transfo...</td>\n",
       "      <td>...</td>\n",
       "      <td>The chunk describes the Mentu program as being...</td>\n",
       "      <td>analytical</td>\n",
       "      <td>3</td>\n",
       "      <td>gpt-4o-mini</td>\n",
       "      <td>{'match_ratio_mean': 1.0, 'match_ratio_median'...</td>\n",
       "      <td>6d19739f-9d9a-419a-bb36-00bfc9fe0c6d</td>\n",
       "      <td>None</td>\n",
       "      <td>No previous chunk, end of document.</td>\n",
       "      <td>89de7b59-4f68-486e-b800-ec9956b3cd8f</td>\n",
       "      <td>“Every mission is highly relevant, and student...</td>\n",
       "    </tr>\n",
       "    <tr>\n",
       "      <th>1</th>\n",
       "      <td>Three ways McKinsey is partnering to transform...</td>\n",
       "      <td>2199f6af-4f4f-46da-ab11-a5d164d3e92d</td>\n",
       "      <td>0</td>\n",
       "      <td>1354</td>\n",
       "      <td>September 27, 2024A projected 80 percent of si...</td>\n",
       "      <td>This document highlights McKinsey's efforts to...</td>\n",
       "      <td>corporate</td>\n",
       "      <td>mckinsey_blog_post</td>\n",
       "      <td>f3370f14-180d-4375-8255-7c41417a61c9</td>\n",
       "      <td># Three ways McKinsey is partnering to transfo...</td>\n",
       "      <td>...</td>\n",
       "      <td>The chunk explicitly states that the lack of r...</td>\n",
       "      <td>analytical</td>\n",
       "      <td>4</td>\n",
       "      <td>gpt-4o-mini</td>\n",
       "      <td>{'match_ratio_mean': 1.0, 'match_ratio_median'...</td>\n",
       "      <td>633b998e-1809-44cc-811a-0bc822cf4634</td>\n",
       "      <td>None</td>\n",
       "      <td>No previous chunk, end of document.</td>\n",
       "      <td>89de7b59-4f68-486e-b800-ec9956b3cd8f</td>\n",
       "      <td>“Every mission is highly relevant, and student...</td>\n",
       "    </tr>\n",
       "    <tr>\n",
       "      <th>2</th>\n",
       "      <td>Three ways McKinsey is partnering to transform...</td>\n",
       "      <td>2199f6af-4f4f-46da-ab11-a5d164d3e92d</td>\n",
       "      <td>0</td>\n",
       "      <td>1354</td>\n",
       "      <td>September 27, 2024A projected 80 percent of si...</td>\n",
       "      <td>This document highlights McKinsey's efforts to...</td>\n",
       "      <td>corporate</td>\n",
       "      <td>mckinsey_blog_post</td>\n",
       "      <td>f3370f14-180d-4375-8255-7c41417a61c9</td>\n",
       "      <td># Three ways McKinsey is partnering to transfo...</td>\n",
       "      <td>...</td>\n",
       "      <td>This question encourages the application of in...</td>\n",
       "      <td>application</td>\n",
       "      <td>4</td>\n",
       "      <td>gpt-4o-mini</td>\n",
       "      <td>{'match_ratio_mean': 1.0, 'match_ratio_median'...</td>\n",
       "      <td>2fd7aeaf-7034-49f2-aa2b-f5253165157b</td>\n",
       "      <td>None</td>\n",
       "      <td>No previous chunk, end of document.</td>\n",
       "      <td>89de7b59-4f68-486e-b800-ec9956b3cd8f</td>\n",
       "      <td>“Every mission is highly relevant, and student...</td>\n",
       "    </tr>\n",
       "    <tr>\n",
       "      <th>3</th>\n",
       "      <td>Three ways McKinsey is partnering to transform...</td>\n",
       "      <td>2199f6af-4f4f-46da-ab11-a5d164d3e92d</td>\n",
       "      <td>0</td>\n",
       "      <td>1354</td>\n",
       "      <td>September 27, 2024A projected 80 percent of si...</td>\n",
       "      <td>This document highlights McKinsey's efforts to...</td>\n",
       "      <td>corporate</td>\n",
       "      <td>mckinsey_blog_post</td>\n",
       "      <td>f3370f14-180d-4375-8255-7c41417a61c9</td>\n",
       "      <td># Three ways McKinsey is partnering to transfo...</td>\n",
       "      <td>...</td>\n",
       "      <td>This question encourages the exploration of va...</td>\n",
       "      <td>application</td>\n",
       "      <td>3</td>\n",
       "      <td>gpt-4o-mini</td>\n",
       "      <td>{'match_ratio_mean': 1.0, 'match_ratio_median'...</td>\n",
       "      <td>45af7741-6cda-4241-849b-0254c6fbc136</td>\n",
       "      <td>None</td>\n",
       "      <td>No previous chunk, end of document.</td>\n",
       "      <td>89de7b59-4f68-486e-b800-ec9956b3cd8f</td>\n",
       "      <td>“Every mission is highly relevant, and student...</td>\n",
       "    </tr>\n",
       "    <tr>\n",
       "      <th>4</th>\n",
       "      <td>Three ways McKinsey is partnering to transform...</td>\n",
       "      <td>2199f6af-4f4f-46da-ab11-a5d164d3e92d</td>\n",
       "      <td>0</td>\n",
       "      <td>1354</td>\n",
       "      <td>September 27, 2024A projected 80 percent of si...</td>\n",
       "      <td>This document highlights McKinsey's efforts to...</td>\n",
       "      <td>corporate</td>\n",
       "      <td>mckinsey_blog_post</td>\n",
       "      <td>f3370f14-180d-4375-8255-7c41417a61c9</td>\n",
       "      <td># Three ways McKinsey is partnering to transfo...</td>\n",
       "      <td>...</td>\n",
       "      <td>Understanding how AI is utilized in the Mentu ...</td>\n",
       "      <td>clarification</td>\n",
       "      <td>3</td>\n",
       "      <td>gpt-4o-mini</td>\n",
       "      <td>{'match_ratio_mean': 1.0, 'match_ratio_median'...</td>\n",
       "      <td>42e72de5-47f3-4cf7-a020-5857d64396a0</td>\n",
       "      <td>None</td>\n",
       "      <td>No previous chunk, end of document.</td>\n",
       "      <td>89de7b59-4f68-486e-b800-ec9956b3cd8f</td>\n",
       "      <td>“Every mission is highly relevant, and student...</td>\n",
       "    </tr>\n",
       "  </tbody>\n",
       "</table>\n",
       "<p>5 rows × 27 columns</p>\n",
       "</div>"
      ],
      "text/plain": [
       "                                               title  \\\n",
       "0  Three ways McKinsey is partnering to transform...   \n",
       "1  Three ways McKinsey is partnering to transform...   \n",
       "2  Three ways McKinsey is partnering to transform...   \n",
       "3  Three ways McKinsey is partnering to transform...   \n",
       "4  Three ways McKinsey is partnering to transform...   \n",
       "\n",
       "                             chunk_uuid  chunk_location_id  chunk_size  \\\n",
       "0  2199f6af-4f4f-46da-ab11-a5d164d3e92d                  0        1354   \n",
       "1  2199f6af-4f4f-46da-ab11-a5d164d3e92d                  0        1354   \n",
       "2  2199f6af-4f4f-46da-ab11-a5d164d3e92d                  0        1354   \n",
       "3  2199f6af-4f4f-46da-ab11-a5d164d3e92d                  0        1354   \n",
       "4  2199f6af-4f4f-46da-ab11-a5d164d3e92d                  0        1354   \n",
       "\n",
       "                                               chunk  \\\n",
       "0  September 27, 2024A projected 80 percent of si...   \n",
       "1  September 27, 2024A projected 80 percent of si...   \n",
       "2  September 27, 2024A projected 80 percent of si...   \n",
       "3  September 27, 2024A projected 80 percent of si...   \n",
       "4  September 27, 2024A projected 80 percent of si...   \n",
       "\n",
       "                                             summary document_type  \\\n",
       "0  This document highlights McKinsey's efforts to...     corporate   \n",
       "1  This document highlights McKinsey's efforts to...     corporate   \n",
       "2  This document highlights McKinsey's efforts to...     corporate   \n",
       "3  This document highlights McKinsey's efforts to...     corporate   \n",
       "4  This document highlights McKinsey's efforts to...     corporate   \n",
       "\n",
       "        document_name                    unique_document_id  \\\n",
       "0  mckinsey_blog_post  f3370f14-180d-4375-8255-7c41417a61c9   \n",
       "1  mckinsey_blog_post  f3370f14-180d-4375-8255-7c41417a61c9   \n",
       "2  mckinsey_blog_post  f3370f14-180d-4375-8255-7c41417a61c9   \n",
       "3  mckinsey_blog_post  f3370f14-180d-4375-8255-7c41417a61c9   \n",
       "4  mckinsey_blog_post  f3370f14-180d-4375-8255-7c41417a61c9   \n",
       "\n",
       "                                         source_text  ...  \\\n",
       "0  # Three ways McKinsey is partnering to transfo...  ...   \n",
       "1  # Three ways McKinsey is partnering to transfo...  ...   \n",
       "2  # Three ways McKinsey is partnering to transfo...  ...   \n",
       "3  # Three ways McKinsey is partnering to transfo...  ...   \n",
       "4  # Three ways McKinsey is partnering to transfo...  ...   \n",
       "\n",
       "                                           reasoning           kind  \\\n",
       "0  The chunk describes the Mentu program as being...     analytical   \n",
       "1  The chunk explicitly states that the lack of r...     analytical   \n",
       "2  This question encourages the application of in...    application   \n",
       "3  This question encourages the exploration of va...    application   \n",
       "4  Understanding how AI is utilized in the Mentu ...  clarification   \n",
       "\n",
       "  estimated_difficulty generating_model  \\\n",
       "0                    3      gpt-4o-mini   \n",
       "1                    4      gpt-4o-mini   \n",
       "2                    4      gpt-4o-mini   \n",
       "3                    3      gpt-4o-mini   \n",
       "4                    3      gpt-4o-mini   \n",
       "\n",
       "                           citation_match_statistics  \\\n",
       "0  {'match_ratio_mean': 1.0, 'match_ratio_median'...   \n",
       "1  {'match_ratio_mean': 1.0, 'match_ratio_median'...   \n",
       "2  {'match_ratio_mean': 1.0, 'match_ratio_median'...   \n",
       "3  {'match_ratio_mean': 1.0, 'match_ratio_median'...   \n",
       "4  {'match_ratio_mean': 1.0, 'match_ratio_median'...   \n",
       "\n",
       "                    question_identifier previous_chunk_uuid  \\\n",
       "0  6d19739f-9d9a-419a-bb36-00bfc9fe0c6d                None   \n",
       "1  633b998e-1809-44cc-811a-0bc822cf4634                None   \n",
       "2  2fd7aeaf-7034-49f2-aa2b-f5253165157b                None   \n",
       "3  45af7741-6cda-4241-849b-0254c6fbc136                None   \n",
       "4  42e72de5-47f3-4cf7-a020-5857d64396a0                None   \n",
       "\n",
       "                        previous_chunk                       next_chunk_uuid  \\\n",
       "0  No previous chunk, end of document.  89de7b59-4f68-486e-b800-ec9956b3cd8f   \n",
       "1  No previous chunk, end of document.  89de7b59-4f68-486e-b800-ec9956b3cd8f   \n",
       "2  No previous chunk, end of document.  89de7b59-4f68-486e-b800-ec9956b3cd8f   \n",
       "3  No previous chunk, end of document.  89de7b59-4f68-486e-b800-ec9956b3cd8f   \n",
       "4  No previous chunk, end of document.  89de7b59-4f68-486e-b800-ec9956b3cd8f   \n",
       "\n",
       "                                          next_chunk  \n",
       "0  “Every mission is highly relevant, and student...  \n",
       "1  “Every mission is highly relevant, and student...  \n",
       "2  “Every mission is highly relevant, and student...  \n",
       "3  “Every mission is highly relevant, and student...  \n",
       "4  “Every mission is highly relevant, and student...  \n",
       "\n",
       "[5 rows x 27 columns]"
      ]
     },
     "execution_count": 18,
     "metadata": {},
     "output_type": "execute_result"
    }
   ],
   "source": [
    "df3.head()"
   ]
  },
  {
   "cell_type": "code",
   "execution_count": 19,
   "id": "5319af97-ae03-4023-b9fd-1a0ca947c1c9",
   "metadata": {},
   "outputs": [],
   "source": [
    "df3 = df3[[\"title\",\"chunk\",\"document_type\",\"document_analysis\",\"chunk_analysis\",\n",
    "           \"potential_question_directions\",\"best_direction\",\"question\",\"answer\",\"kind\"]]\n",
    "df3 = df3[df3[\"kind\"] != \"true-false\"]\n",
    "df3.reset_index(inplace = True)\n",
    "df3.drop(\"index\",axis = 1,inplace = True)"
   ]
  },
  {
   "cell_type": "code",
   "execution_count": 20,
   "id": "2234268b-df7e-4da4-b353-abc48fc03e2e",
   "metadata": {
    "scrolled": true
   },
   "outputs": [
    {
     "data": {
      "text/html": [
       "<div>\n",
       "<style scoped>\n",
       "    .dataframe tbody tr th:only-of-type {\n",
       "        vertical-align: middle;\n",
       "    }\n",
       "\n",
       "    .dataframe tbody tr th {\n",
       "        vertical-align: top;\n",
       "    }\n",
       "\n",
       "    .dataframe thead th {\n",
       "        text-align: right;\n",
       "    }\n",
       "</style>\n",
       "<table border=\"1\" class=\"dataframe\">\n",
       "  <thead>\n",
       "    <tr style=\"text-align: right;\">\n",
       "      <th></th>\n",
       "      <th>title</th>\n",
       "      <th>chunk</th>\n",
       "      <th>document_type</th>\n",
       "      <th>document_analysis</th>\n",
       "      <th>chunk_analysis</th>\n",
       "      <th>potential_question_directions</th>\n",
       "      <th>best_direction</th>\n",
       "      <th>question</th>\n",
       "      <th>answer</th>\n",
       "      <th>kind</th>\n",
       "    </tr>\n",
       "  </thead>\n",
       "  <tbody>\n",
       "    <tr>\n",
       "      <th>0</th>\n",
       "      <td>Three ways McKinsey is partnering to transform...</td>\n",
       "      <td>September 27, 2024A projected 80 percent of si...</td>\n",
       "      <td>corporate</td>\n",
       "      <td>The document discusses McKinsey's initiatives ...</td>\n",
       "      <td>This chunk highlights the alarming statistic t...</td>\n",
       "      <td>[What are the implications of the statistic re...</td>\n",
       "      <td>The best question to ask is: 'How does the Men...</td>\n",
       "      <td>How does the Mentu program aim to engage stude...</td>\n",
       "      <td>The Mentu program aims to engage students by p...</td>\n",
       "      <td>analytical</td>\n",
       "    </tr>\n",
       "    <tr>\n",
       "      <th>1</th>\n",
       "      <td>Three ways McKinsey is partnering to transform...</td>\n",
       "      <td>September 27, 2024A projected 80 percent of si...</td>\n",
       "      <td>corporate</td>\n",
       "      <td>The document outlines McKinsey's strategic par...</td>\n",
       "      <td>The chunk presents a critical issue in Latin A...</td>\n",
       "      <td>[What challenges do students in Latin America ...</td>\n",
       "      <td>The best question to ask is: 'What potential l...</td>\n",
       "      <td>What potential long-term effects could the lac...</td>\n",
       "      <td>The lack of reading comprehension among sixth ...</td>\n",
       "      <td>analytical</td>\n",
       "    </tr>\n",
       "    <tr>\n",
       "      <th>2</th>\n",
       "      <td>Three ways McKinsey is partnering to transform...</td>\n",
       "      <td>September 27, 2024A projected 80 percent of si...</td>\n",
       "      <td>corporate</td>\n",
       "      <td>The document discusses McKinsey's initiatives ...</td>\n",
       "      <td>This chunk highlights the alarming statistic t...</td>\n",
       "      <td>[How could the Mentu program be adapted for us...</td>\n",
       "      <td>The best question to ask is: 'How can the succ...</td>\n",
       "      <td>How can the success of Mentu in Colombia infor...</td>\n",
       "      <td>The success of Mentu can inform educational st...</td>\n",
       "      <td>application</td>\n",
       "    </tr>\n",
       "    <tr>\n",
       "      <th>3</th>\n",
       "      <td>Three ways McKinsey is partnering to transform...</td>\n",
       "      <td>September 27, 2024A projected 80 percent of si...</td>\n",
       "      <td>corporate</td>\n",
       "      <td>The document discusses McKinsey's initiatives ...</td>\n",
       "      <td>This chunk highlights the alarming statistic t...</td>\n",
       "      <td>[How could the Mentu program be adapted for us...</td>\n",
       "      <td>The best question to ask is: 'What strategies ...</td>\n",
       "      <td>What strategies could be implemented to increa...</td>\n",
       "      <td>Strategies to increase student engagement in p...</td>\n",
       "      <td>application</td>\n",
       "    </tr>\n",
       "    <tr>\n",
       "      <th>4</th>\n",
       "      <td>Three ways McKinsey is partnering to transform...</td>\n",
       "      <td>September 27, 2024A projected 80 percent of si...</td>\n",
       "      <td>corporate</td>\n",
       "      <td>The document discusses McKinsey's initiatives ...</td>\n",
       "      <td>This chunk highlights the alarming statistic t...</td>\n",
       "      <td>[What specific skills does the Mentu program a...</td>\n",
       "      <td>The best question to ask is: 'How does the Men...</td>\n",
       "      <td>How does the Mentu program utilize AI in teach...</td>\n",
       "      <td>The Mentu program uses AI to create an engagin...</td>\n",
       "      <td>clarification</td>\n",
       "    </tr>\n",
       "  </tbody>\n",
       "</table>\n",
       "</div>"
      ],
      "text/plain": [
       "                                               title  \\\n",
       "0  Three ways McKinsey is partnering to transform...   \n",
       "1  Three ways McKinsey is partnering to transform...   \n",
       "2  Three ways McKinsey is partnering to transform...   \n",
       "3  Three ways McKinsey is partnering to transform...   \n",
       "4  Three ways McKinsey is partnering to transform...   \n",
       "\n",
       "                                               chunk document_type  \\\n",
       "0  September 27, 2024A projected 80 percent of si...     corporate   \n",
       "1  September 27, 2024A projected 80 percent of si...     corporate   \n",
       "2  September 27, 2024A projected 80 percent of si...     corporate   \n",
       "3  September 27, 2024A projected 80 percent of si...     corporate   \n",
       "4  September 27, 2024A projected 80 percent of si...     corporate   \n",
       "\n",
       "                                   document_analysis  \\\n",
       "0  The document discusses McKinsey's initiatives ...   \n",
       "1  The document outlines McKinsey's strategic par...   \n",
       "2  The document discusses McKinsey's initiatives ...   \n",
       "3  The document discusses McKinsey's initiatives ...   \n",
       "4  The document discusses McKinsey's initiatives ...   \n",
       "\n",
       "                                      chunk_analysis  \\\n",
       "0  This chunk highlights the alarming statistic t...   \n",
       "1  The chunk presents a critical issue in Latin A...   \n",
       "2  This chunk highlights the alarming statistic t...   \n",
       "3  This chunk highlights the alarming statistic t...   \n",
       "4  This chunk highlights the alarming statistic t...   \n",
       "\n",
       "                       potential_question_directions  \\\n",
       "0  [What are the implications of the statistic re...   \n",
       "1  [What challenges do students in Latin America ...   \n",
       "2  [How could the Mentu program be adapted for us...   \n",
       "3  [How could the Mentu program be adapted for us...   \n",
       "4  [What specific skills does the Mentu program a...   \n",
       "\n",
       "                                      best_direction  \\\n",
       "0  The best question to ask is: 'How does the Men...   \n",
       "1  The best question to ask is: 'What potential l...   \n",
       "2  The best question to ask is: 'How can the succ...   \n",
       "3  The best question to ask is: 'What strategies ...   \n",
       "4  The best question to ask is: 'How does the Men...   \n",
       "\n",
       "                                            question  \\\n",
       "0  How does the Mentu program aim to engage stude...   \n",
       "1  What potential long-term effects could the lac...   \n",
       "2  How can the success of Mentu in Colombia infor...   \n",
       "3  What strategies could be implemented to increa...   \n",
       "4  How does the Mentu program utilize AI in teach...   \n",
       "\n",
       "                                              answer           kind  \n",
       "0  The Mentu program aims to engage students by p...     analytical  \n",
       "1  The lack of reading comprehension among sixth ...     analytical  \n",
       "2  The success of Mentu can inform educational st...    application  \n",
       "3  Strategies to increase student engagement in p...    application  \n",
       "4  The Mentu program uses AI to create an engagin...  clarification  "
      ]
     },
     "execution_count": 20,
     "metadata": {},
     "output_type": "execute_result"
    }
   ],
   "source": [
    "df3.head()"
   ]
  },
  {
   "cell_type": "code",
   "execution_count": 21,
   "id": "fdb4973b-d71d-4ed5-9943-4e90dfe4f5db",
   "metadata": {},
   "outputs": [
    {
     "data": {
      "text/html": [
       "<div>\n",
       "<style scoped>\n",
       "    .dataframe tbody tr th:only-of-type {\n",
       "        vertical-align: middle;\n",
       "    }\n",
       "\n",
       "    .dataframe tbody tr th {\n",
       "        vertical-align: top;\n",
       "    }\n",
       "\n",
       "    .dataframe thead th {\n",
       "        text-align: right;\n",
       "    }\n",
       "</style>\n",
       "<table border=\"1\" class=\"dataframe\">\n",
       "  <thead>\n",
       "    <tr style=\"text-align: right;\">\n",
       "      <th></th>\n",
       "      <th>title</th>\n",
       "      <th>chunk</th>\n",
       "      <th>document_analysis</th>\n",
       "      <th>chunk_analysis</th>\n",
       "      <th>potential_question_directions</th>\n",
       "      <th>best_direction</th>\n",
       "      <th>question</th>\n",
       "      <th>answer</th>\n",
       "      <th>kind</th>\n",
       "    </tr>\n",
       "    <tr>\n",
       "      <th>document_type</th>\n",
       "      <th></th>\n",
       "      <th></th>\n",
       "      <th></th>\n",
       "      <th></th>\n",
       "      <th></th>\n",
       "      <th></th>\n",
       "      <th></th>\n",
       "      <th></th>\n",
       "      <th></th>\n",
       "    </tr>\n",
       "  </thead>\n",
       "  <tbody>\n",
       "    <tr>\n",
       "      <th>corporate</th>\n",
       "      <td>21245</td>\n",
       "      <td>21245</td>\n",
       "      <td>21245</td>\n",
       "      <td>21245</td>\n",
       "      <td>21245</td>\n",
       "      <td>21245</td>\n",
       "      <td>21245</td>\n",
       "      <td>21245</td>\n",
       "      <td>21245</td>\n",
       "    </tr>\n",
       "    <tr>\n",
       "      <th>financial</th>\n",
       "      <td>5141</td>\n",
       "      <td>5141</td>\n",
       "      <td>5141</td>\n",
       "      <td>5141</td>\n",
       "      <td>5141</td>\n",
       "      <td>5141</td>\n",
       "      <td>5141</td>\n",
       "      <td>5141</td>\n",
       "      <td>5141</td>\n",
       "    </tr>\n",
       "    <tr>\n",
       "      <th>government</th>\n",
       "      <td>96246</td>\n",
       "      <td>96246</td>\n",
       "      <td>96246</td>\n",
       "      <td>96246</td>\n",
       "      <td>96246</td>\n",
       "      <td>96246</td>\n",
       "      <td>96246</td>\n",
       "      <td>96246</td>\n",
       "      <td>96246</td>\n",
       "    </tr>\n",
       "    <tr>\n",
       "      <th>health</th>\n",
       "      <td>35368</td>\n",
       "      <td>35368</td>\n",
       "      <td>35368</td>\n",
       "      <td>35368</td>\n",
       "      <td>35368</td>\n",
       "      <td>35368</td>\n",
       "      <td>35368</td>\n",
       "      <td>35368</td>\n",
       "      <td>35368</td>\n",
       "    </tr>\n",
       "    <tr>\n",
       "      <th>legal</th>\n",
       "      <td>56152</td>\n",
       "      <td>56152</td>\n",
       "      <td>56152</td>\n",
       "      <td>56152</td>\n",
       "      <td>56152</td>\n",
       "      <td>56152</td>\n",
       "      <td>56152</td>\n",
       "      <td>56152</td>\n",
       "      <td>56152</td>\n",
       "    </tr>\n",
       "    <tr>\n",
       "      <th>misc</th>\n",
       "      <td>19469</td>\n",
       "      <td>19469</td>\n",
       "      <td>19469</td>\n",
       "      <td>19469</td>\n",
       "      <td>19469</td>\n",
       "      <td>19469</td>\n",
       "      <td>19469</td>\n",
       "      <td>19469</td>\n",
       "      <td>19469</td>\n",
       "    </tr>\n",
       "    <tr>\n",
       "      <th>news</th>\n",
       "      <td>4976</td>\n",
       "      <td>4976</td>\n",
       "      <td>4976</td>\n",
       "      <td>4976</td>\n",
       "      <td>4976</td>\n",
       "      <td>4976</td>\n",
       "      <td>4976</td>\n",
       "      <td>4976</td>\n",
       "      <td>4976</td>\n",
       "    </tr>\n",
       "    <tr>\n",
       "      <th>research</th>\n",
       "      <td>55936</td>\n",
       "      <td>55936</td>\n",
       "      <td>55936</td>\n",
       "      <td>55936</td>\n",
       "      <td>55936</td>\n",
       "      <td>55936</td>\n",
       "      <td>55936</td>\n",
       "      <td>55936</td>\n",
       "      <td>55936</td>\n",
       "    </tr>\n",
       "  </tbody>\n",
       "</table>\n",
       "</div>"
      ],
      "text/plain": [
       "               title  chunk  document_analysis  chunk_analysis  \\\n",
       "document_type                                                    \n",
       "corporate      21245  21245              21245           21245   \n",
       "financial       5141   5141               5141            5141   \n",
       "government     96246  96246              96246           96246   \n",
       "health         35368  35368              35368           35368   \n",
       "legal          56152  56152              56152           56152   \n",
       "misc           19469  19469              19469           19469   \n",
       "news            4976   4976               4976            4976   \n",
       "research       55936  55936              55936           55936   \n",
       "\n",
       "               potential_question_directions  best_direction  question  \\\n",
       "document_type                                                            \n",
       "corporate                              21245           21245     21245   \n",
       "financial                               5141            5141      5141   \n",
       "government                             96246           96246     96246   \n",
       "health                                 35368           35368     35368   \n",
       "legal                                  56152           56152     56152   \n",
       "misc                                   19469           19469     19469   \n",
       "news                                    4976            4976      4976   \n",
       "research                               55936           55936     55936   \n",
       "\n",
       "               answer   kind  \n",
       "document_type                 \n",
       "corporate       21245  21245  \n",
       "financial        5141   5141  \n",
       "government      96246  96246  \n",
       "health          35368  35368  \n",
       "legal           56152  56152  \n",
       "misc            19469  19469  \n",
       "news             4976   4976  \n",
       "research        55936  55936  "
      ]
     },
     "execution_count": 21,
     "metadata": {},
     "output_type": "execute_result"
    }
   ],
   "source": [
    "df3.groupby(\"document_type\").count()"
   ]
  },
  {
   "cell_type": "code",
   "execution_count": 22,
   "id": "d998bf57-3c4f-42ad-9253-82803e221efd",
   "metadata": {},
   "outputs": [],
   "source": [
    "#analytical application clarification conceptual counterfactual edge case factual false premise open-ended\ttrue-false"
   ]
  },
  {
   "cell_type": "code",
   "execution_count": 23,
   "id": "34505c35-e2e2-4fec-ba30-ddff869c9f4e",
   "metadata": {},
   "outputs": [
    {
     "data": {
      "text/plain": [
       "Series([], Name: potential_question_directions, dtype: object)"
      ]
     },
     "execution_count": 23,
     "metadata": {},
     "output_type": "execute_result"
    }
   ],
   "source": [
    "#Removed since this kind doesnt contains questions.\n",
    "df3[df3[\"kind\"] == \"true-false\"][\"potential_question_directions\"]"
   ]
  },
  {
   "cell_type": "code",
   "execution_count": 24,
   "id": "0bcd025e-0a41-4d3b-8120-ad1f379999f3",
   "metadata": {},
   "outputs": [],
   "source": [
    "import re\n",
    "def clean_latex(text):\n",
    "    # Remove LaTeX commands like {\\\\displaystyle}, {\\\\text{}}, etc.\n",
    "    cleaned_text = re.sub(r'\\\\displaystyle|\\\\text\\{.*?\\}', '', text)\n",
    "    \n",
    "    # Remove any LaTeX curly braces and unnecessary whitespaces\n",
    "    cleaned_text = re.sub(r'\\\\[a-z]+|{|}', '', cleaned_text)\n",
    "    \n",
    "    # Replace LaTeX-specific representations like \\\\dots with their equivalent\n",
    "    cleaned_text = re.sub(r'\\\\dots', '...', cleaned_text)\n",
    "    \n",
    "    # Remove multiple spaces introduced by LaTeX removal\n",
    "    cleaned_text = re.sub(r'\\s+', ' ', cleaned_text).strip()\n",
    "    \n",
    "    return cleaned_text"
   ]
  },
  {
   "cell_type": "code",
   "execution_count": 25,
   "id": "2189554b-b5ac-4cae-8e75-4faa8e9108b4",
   "metadata": {},
   "outputs": [],
   "source": [
    "# df3[\"chunk\"] = [clean_latex(i) for i in list(df3[\"chunk\"])]"
   ]
  },
  {
   "cell_type": "code",
   "execution_count": 26,
   "id": "ea3e26ca-2cdc-4c49-8870-211827f78c7c",
   "metadata": {},
   "outputs": [],
   "source": [
    "temp = df3[df3[\"document_type\"] == \"research\"]\n",
    "temp.reset_index(inplace=True)"
   ]
  },
  {
   "cell_type": "code",
   "execution_count": 27,
   "id": "034966b4-3af0-4367-979d-46569ea10ba4",
   "metadata": {},
   "outputs": [
    {
     "name": "stdout",
     "output_type": "stream",
     "text": [
      "% Template for Blind SLT-2024 paper; to be used with: % spconf.sty - ICASSP/ICIP LaTeX style file, and % IEEEbib.bst - IEEE bibliography style file. % -------------------------------------------------------------------------- % Source file for this paper's figures are here: https://docs.google.com/presentation/d/1z9X-JeSFIzI1VpzOLs2WTltX1I03vqQiLkUnE8YEBFE/edit?usp=sharing \\documentclass{article} \\usepackage{spconf,amsmath,graphicx} \\usepackage{amsfonts} \\usepackage{verbatim, tcolorbox} \\usepackage{multicol} \\usepackage{multirow} \\usepackage{graphicx} \\usepackage{hyperref} % Example definitions.\n",
      "\n",
      "[]\n",
      "application\n",
      "\n",
      "% -------------------- \\def\\x{{\\mathbf x}} \\def\\L{{\\cal L}} \\newcommand{\\dilek}[1]{\\textcolor{red}{[\\textbf{Dilek:} #1]}} \\newcommand{\\suvodip}[1]{\\textcolor{green}{[\\textbf{SD:} #1]}} \\newcommand{\\jenny}[1]{\\textcolor{blue} {[\\textbf{Jenny:} #1]}} \\title{Confidence Estimation for LLM-Based Dialogue State Tracking} \\name{Yi-Jyun Sun, Suvodip Dey, Dilek Hakkani-Tür, Gokhan Tur } \\address{University of Illinois Urbana-Champaign} \\begin{document} \\ninept % \\maketitle % \\begin{abstract} Estimation of a model's confidence on its outputs is critical for Conversational AI systems based on large language models (LLMs), especially for reducing hallucination and preventing over-reliance.\n",
      "\n",
      "['How can confidence estimation methods be applied to improve the performance of a specific dialogue system?'\n",
      " 'What implications does the reduction of hallucination in LLMs have for user trust in conversational AI?'\n",
      " 'In what ways could over-reliance on model outputs affect the outcomes of a task-oriented dialogue system?'\n",
      " 'How might the findings on confidence score calibration influence future research in dialogue systems?']\n",
      "application\n",
      "\n",
      "To mitigate this problem, recent studies \\cite{xiong2023can, tian2023just, kuhn2023semantic, mielke2022reducing} have focused on measuring model uncertainty to quantify the reliability of their outputs. Reliability in dialogue systems refers to the system’s ability to consistently understand user inputs, retrieve relevant results or information when needed, generate appropriate responses, and handle uncertainties or errors effectively. A promising approach to improving reliability is through the estimation of confidence scores, which aim to provide a quantitative measure of the system’s uncertainty in its outputs. By incorporating confidence scores, dialogue systems can better manage uncertainties, identify potential errors, and make more informed decisions. For instance, a system with high confidence in its response can proceed smoothly, while one with low confidence can seek clarification from the user or escalate the query to a human operator. This dynamic adjustment based on confidence scores not only enhances the system’s reliability but also improves its overall performance and user satisfaction. \\begin{figure}[t] \\includegraphics[width=0.95\\linewidth]{TODS-Approach.png} \\caption{Example interaction in our TODS approach, showing DST and its outputs with confidence scores.}\n",
      "\n",
      "['What is the significance of measuring model uncertainty in dialogue systems?'\n",
      " 'How do confidence scores improve the reliability of dialogue systems?'\n",
      " 'What does reliability in dialogue systems entail?'\n",
      " 'What actions can a dialogue system take based on its confidence score?']\n",
      "factual\n",
      "\n",
      "By multiplying these two confidence scores, we obtain a pair confidence score that reflects the confidence in the accuracy of both the slot and its corresponding value. In our preliminary experimentation, we tested whether using just the score of the slot or the value may result in better performance for the slot-value pair and converged to using the multiplied confidence in the equation above. From the task completion perspective, both the slot and the value should be accurate for retrieving accurate information from knowledge sources.\\\\ \\textit{B. Scores derived using The Surface Form:} This is a complementary approach, showing the logits in a non-generative fashion, so no beam search is necessary. We just compute the score of each given token in a response string using the LLM: \\begin{equation} \\mathrm{Conf}_{i}^{(\\text{LLM})} = \\log P(i|C_{<i};\\theta) \\end{equation} where $\\mathrm{Conf}_{i}^{(\\text{LLM})}$ denotes the confidence score of token $i$ with context $C_{<i}$, using the LLM with weights $\\theta$ following the Llama/GPT-style architecture~\\cite{radford2019language}.\n",
      "\n",
      "['How does multiplying the confidence scores of a slot and its value improve the accuracy of DST?'\n",
      " 'What are the advantages of using the surface form method for confidence score estimation?'\n",
      " 'How does the surface form method differ from the softmax-based approach in terms of computational requirements?'\n",
      " 'Why is it important to ensure both the slot and value are accurate for task completion in DST?']\n",
      "analytical\n",
      "\n",
      "This shows that handling uncertainty using confidence scores can boost the performance of zero-shot DST prediction. On the other hand, for the few-shot scenario, GPT-4 outperforms the Llama3 models. % \\suvodip{add explanation ....}. However, we can observe two additional things here. Firstly, The performance of the fine-tuned Llama3 is not far behind GPT-4, which is encouraging. Secondly, it demonstrates a superior confidence score, explained in detail in Section~\\ref{sec:confidence}. Additionally, experiments using the Mistral-7B model, detailed in Appendix Section G, show similar trends, further validating the applicability of our methods to different open-weight models. % with no in-context examples in the instruction input to the model. This performance surpasses that of the GPT4 with in-context examples sampled from the training dataset. % the JGA score with Llama-3 is about 0.14, whereas GPT-4 results in JGA of about 0.35 using a zero-shot approach. Fine-tuning Llama-3 using the MultiWOZ training set results in the highest JGA of 0.446 with no in-context examples in the instruction input to the model.\n",
      "\n",
      "['What would happen if the confidence scores were completely unreliable?'\n",
      " 'How would the performance change if the fine-tuned Llama3 model was used in a completely different domain?'\n",
      " 'What if the number of few-shot examples was increased significantly?'\n",
      " 'How would the results differ if the models were not fine-tuned at all?'\n",
      " 'What if the confidence scores were perfect but the DST predictions were poor?']\n",
      "edge case\n",
      "\n",
      "We report results both with and without controls. These controls include the age, gender, and educational level of the head of the household, the household size, an index of household assets, an index of livestock assets, and cloud cover for the week. When possible, we use Liang-Zeger cluster-robust standard errors at the unit of randomization: the household. This corrects for heteroskedasticity and serial correlation when we have multiple observations for a household. However, when the outcome is aggregated to a single value for the entire six week period, we only have one observation per household. In these cases, we implement Eicker-Huber-White robust standard errors to account for heteroskedasticity, since serial correlation, by construction, is no longer present. \\section{Results} We present results on the intermediate outcome of stove adoption, followed by results on our main outcomes of interest: dietary composition, cooking frequency, and fuel use. Before considering specific outcomes of interest, it is important to understand how the treated respond to their treatment status. We do this by estimating the ATE of being given a solar stove on actually using a solar stove to preapre a dish. While being assigned a stove is random, the choice to use the stove to prepare a given dish is not.\\footnote{As a robustness check, we use the difference between assignment and use to estimate the local average treatment effect (LATE) in Online Appendix~\\ref{app:robust}.}\n",
      "\n",
      "['What statistical methods are employed to account for variability in the data?'\n",
      " 'How do the controls used in the analysis impact the interpretation of the results?'\n",
      " \"What does the choice of using ATE and LATE indicate about the study's design?\"\n",
      " 'In what ways does the methodology ensure the reliability of the findings regarding stove usage?'\n",
      " \"How does the random assignment of solar stoves influence the study's conclusions?\"]\n",
      "analytical\n",
      "\n",
      "Some obvious questions arise: What sets the speed limit on human behavior? And what can that teach us about the neural mechanisms of cognition? Before attempting an answer, we should agree on the magnitude of the question, which sets an expectation for the magnitude of the answer. We need to explain \\emph{a factor of a million} (conservatively), namely the ratio between peripheral information processing and the overall throughput of the brain. Numerically speaking, this may be the largest unexplained number in brain science. This order of magnitude sets a filter for hypothetical solutions. Suppose, for example, that a particular hypothesis explains why people process information two times faster in one task condition than in another. That might be enough for a paper in a prominent journal, but the tiny effect size doesn't even make a dent in the paradox. Obviously we should move on and read a different article. Next, we should consider whether one can simply deny the paradox. For many people, the claim that human mental activity is rather slow touches a sensitive nerve. Here we consider some of the objections that have been raised. \\subsection{What about photographic memory?} It is a popular belief that some people can memorize an entire page of text from a short glimpse, and then recall it as though they were reading an internal photograph.\n",
      "\n",
      "['Is it true that humans can process information at speeds exceeding 10 bits per second?'\n",
      " 'Does the document claim that photographic memory is a well-supported phenomenon?'\n",
      " 'Is the speed limit on human behavior set by the number of neurons in the brain?'\n",
      " 'Can the paradox of slow behavior be easily denied according to the document?']\n",
      "false premise\n",
      "\n",
      "This is especially critical for the dialogues spanning multiple domains, such as first finding an attraction place followed by booking a taxi to go there. We explored multiple prompt designs, varying along two dimensions: zero-shot vs. few-shot and predicting all slots at once vs. one slot at a time. Few-shot prompts include DST-related examples, while asking for all slots allows a single LLM call, compared to multiple calls for individual slots. These four prompt variants are detailed in the supplementary material. Like previous work, we instructed the LLM to output in JSON format, using in-context examples. A simplified slot-filling prompt for a single slot is shown below. \\scriptsize \\begin{verbatim} In the domain of ``train'', extract ``departure'' slot which specifies the departure station Do not capture any other values. If not specified, do not respond to that slot-value. ---------------------Example: context: Customer: I need to get a train from cambridge to Norwich. belief state: {departure: cambridge} \\end{verbatim} \\normalsize \\subsection{Confidence Score Estimation} In this study, we experiment with both open- and closed-weight models.\n",
      "\n",
      "['What would happen if all prompts were designed in a zero-shot manner?'\n",
      " 'How would the system perform if all slots were predicted at once?'\n",
      " 'What if the LLM was instructed to output in a non-JSON format?']\n",
      "edge case\n",
      "\n",
      "For all other outcomes (primary nutritional outcomes; secondary fuel outcomes), we estimate the intent-to-treat (ITT) effects with the following model: \\begin{equation} Y_{ht} = \\alpha + \\beta T_{h} + X_{h}' \\gamma +\\mu_{v} + \\phi_{g} + \\epsilon_{ht}. \\label{eq:itt} \\end{equation} \\noindent Here $Y_{ht}$ represents the outcome for household \\textit{h} during time \\textit{t}. All other variables are as defined in Equation~\\eqref{eq:ate}. Each of the models above is estimated at a variety of levels of aggregation. The primary unit of observation in the analysis is a dish, which is composed of a variety of ingredients and is cooked using a single heat source: solar stove or a type of biomass fuel.\\footnote{See the food diary in Online Appendix \\ref{sec:app_b} for more information on the structure of the data.} We can then aggregate dishes into meals (breakfast, lunch, or dinner), and meals into days, days into weeks, and weeks into a single aggregate value for the household for the entire six weeks.\n",
      "\n",
      "['What if the study had controlled for additional variables, such as the type of food being cooked or the number of people in the household?'\n",
      " 'How might the results have differed if the study had used a different statistical model, such as a generalized linear mixed model?'\n",
      " 'What would be the implications if the solar stove adoption rate had been higher or lower than the observed 40%?']\n",
      "counterfactual\n",
      "\n",
      "We measure cooking frequency as either the number of dishes prepared in a meal or the number of meals skipped by a household. For each of our measures, we present estimates with and without controls by day, week, and overall. The results in Table~\\ref{tab:freq_out} show that households assigned a solar stove did not significantly change their cooking frequency. In general, the coefficients are in the direction we would expect; coefficients on the number of dishes prepared are positive and coefficients on the number of meals skipped are negative. This suggests that households are preparing more dishes at each meal and skipping fewer meals. On average, households in the control prepare about five dishes a day. Households with solar stoves prepare 0.1 more dishes or about two percent more dishes a day. Over the length of the experiment treatment households only prepare three more dishes than control households. More economically and nutritionally meaningful effects are present for meals skipped. Treatment households skip about one less meal than control households, who skip on average 26 meals during the 42 days of the study. It is more difficult to interpret the null findings for cooking frequency than the null results for dietary composition. Given that solar stoves provide another method of cooking that can augment cooking with fuel, and that using the stove is free of monetary costs, one would expect an increase in cooking frequency, particularly is households are energy stacking.\n",
      "\n",
      "['What would happen if the study was conducted during a non-harvest season?'\n",
      " 'How might the results differ if the intervention was synchronized with the agricultural planting season?'\n",
      " 'What if the study was extended to a longer period, say a year, instead of six weeks?']\n",
      "edge case\n",
      "\n"
     ]
    }
   ],
   "source": [
    "random_num = [1,20,100,500,1000,2000,5000,10000,20000,21000]\n",
    "for i in random_num:\n",
    "    print(temp[\"chunk\"][i])\n",
    "    print()\n",
    "    print(temp[\"potential_question_directions\"][i])\n",
    "    print(temp[\"kind\"][i])\n",
    "    print()"
   ]
  },
  {
   "cell_type": "code",
   "execution_count": 32,
   "id": "cdf7cd60-cae6-480e-8bd4-de19c272c747",
   "metadata": {},
   "outputs": [
    {
     "name": "stderr",
     "output_type": "stream",
     "text": [
      "  6%|▌         | 16474/294533 [00:19<05:10, 894.24it/s] Token indices sequence length is longer than the specified maximum sequence length for this model (1412 > 1024). Running this sequence through the model will result in indexing errors\n",
      "100%|██████████| 294533/294533 [05:46<00:00, 850.58it/s] \n"
     ]
    }
   ],
   "source": [
    "from transformers import BartForConditionalGeneration, BartTokenizer, TrainingArguments\n",
    "from tqdm import tqdm\n",
    "tokenizer = BartTokenizer.from_pretrained('facebook/bart-large')\n",
    "tokenizedLengthList = []\n",
    "for chunk in tqdm(list(df3[\"chunk\"])):\n",
    "    input_tokenized = tokenizer(chunk,return_tensors='pt')\n",
    "    tokenizedLength = len(input_tokenized[\"input_ids\"][0])\n",
    "    tokenizedLengthList.append(tokenizedLength)"
   ]
  },
  {
   "cell_type": "code",
   "execution_count": 52,
   "id": "0983aa9c-37d2-433a-b531-fadb4491fd15",
   "metadata": {
    "scrolled": true
   },
   "outputs": [
    {
     "data": {
      "text/plain": [
       "[<matplotlib.lines.Line2D at 0x1e763cb6910>]"
      ]
     },
     "execution_count": 52,
     "metadata": {},
     "output_type": "execute_result"
    },
    {
     "data": {
      "image/png": "[encoded data removed]",
      "text/plain": [
       "<Figure size 640x480 with 1 Axes>"
      ]
     },
     "metadata": {},
     "output_type": "display_data"
    }
   ],
   "source": [
    "plt.plot(tokenizedLengthList)"
   ]
  },
  {
   "cell_type": "code",
   "execution_count": 50,
   "id": "815493f7-93c1-4ac6-8efc-91ffe66b9500",
   "metadata": {},
   "outputs": [],
   "source": [
    "df3[\"chunkTokenLength\"] = tokenizedLengthList"
   ]
  },
  {
   "cell_type": "code",
   "execution_count": 56,
   "id": "ba3b7e0a-081e-414a-9aaa-13fba6f013be",
   "metadata": {},
   "outputs": [
    {
     "name": "stderr",
     "output_type": "stream",
     "text": [
      "100%|██████████| 294533/294533 [01:56<00:00, 2529.97it/s]\n"
     ]
    }
   ],
   "source": [
    "tokenizedLengthList = []\n",
    "for question in tqdm(list(df3[\"potential_question_directions\"])):\n",
    "    input_tokenized = tokenizer(str(question),return_tensors='pt')\n",
    "    tokenizedLength = len(input_tokenized[\"input_ids\"][0])\n",
    "    tokenizedLengthList.append(tokenizedLength)"
   ]
  },
  {
   "cell_type": "code",
   "execution_count": 57,
   "id": "5d14c54f-9971-4734-b9a2-26b3809fe2cc",
   "metadata": {
    "scrolled": true
   },
   "outputs": [
    {
     "data": {
      "text/plain": [
       "[<matplotlib.lines.Line2D at 0x1e764157370>]"
      ]
     },
     "execution_count": 57,
     "metadata": {},
     "output_type": "execute_result"
    },
    {
     "data": {
      "image/png": "[encoded data removed]",
      "text/plain": [
       "<Figure size 640x480 with 1 Axes>"
      ]
     },
     "metadata": {},
     "output_type": "display_data"
    }
   ],
   "source": [
    "plt.plot(tokenizedLengthList)"
   ]
  },
  {
   "cell_type": "code",
   "execution_count": 58,
   "id": "7d5b96c8-39da-428d-94c3-9a133767a8e6",
   "metadata": {},
   "outputs": [],
   "source": [
    "df3[\"questionTokenLength\"] = tokenizedLengthList"
   ]
  },
  {
   "cell_type": "code",
   "execution_count": 61,
   "id": "0f5ad0ca-9c6b-4575-acd2-7db5fc456291",
   "metadata": {},
   "outputs": [],
   "source": [
    "df3 = df3[df3[\"questionTokenLength\"]<220]"
   ]
  },
  {
   "cell_type": "code",
   "execution_count": 63,
   "id": "c3d2ad2e-74da-49d3-b161-847af4a61193",
   "metadata": {},
   "outputs": [],
   "source": [
    "df3 = df3[df3[\"chunkTokenLength\"] < 1000]"
   ]
  },
  {
   "cell_type": "code",
   "execution_count": 65,
   "id": "4ef299e3-cb44-48d6-ac1a-7c5516ddaec3",
   "metadata": {},
   "outputs": [],
   "source": [
    "df3.reset_index(inplace=True)"
   ]
  },
  {
   "cell_type": "code",
   "execution_count": 76,
   "id": "847edb6f-c8fd-4c0b-8a12-32c1dff02cd4",
   "metadata": {},
   "outputs": [
    {
     "name": "stderr",
     "output_type": "stream",
     "text": [
      "C:\\Users\\Akshay\\AppData\\Local\\Temp\\ipykernel_7612\\766189919.py:3: SettingWithCopyWarning: \n",
      "A value is trying to be set on a copy of a slice from a DataFrame\n",
      "\n",
      "See the caveats in the documentation: https://pandas.pydata.org/pandas-docs/stable/user_guide/indexing.html#returning-a-view-versus-a-copy\n",
      "  df3.drop(\"index\",axis = 1,inplace = True)\n"
     ]
    }
   ],
   "source": [
    "df3.sample(frac = 1)\n",
    "df3.reset_index(inplace=True)\n",
    "df3.drop(\"index\",axis = 1,inplace = True)"
   ]
  },
  {
   "cell_type": "code",
   "execution_count": null,
   "id": "8a24d434-1675-4cfa-9de9-d3c5cfcaa64a",
   "metadata": {},
   "outputs": [],
   "source": []
  },
  {
   "cell_type": "code",
   "execution_count": 78,
   "id": "39daea60-aa52-4344-88e2-6e1e6cbf4b63",
   "metadata": {},
   "outputs": [],
   "source": [
    "df3.to_csv(\"../Data/CleanedDatasets/QuestionGenerator.csv\")"
   ]
  },
  {
   "cell_type": "code",
   "execution_count": 2,
   "id": "63576171-a744-49a1-8d7b-c50384febcec",
   "metadata": {},
   "outputs": [],
   "source": [
    "df3 = pd.read_csv(\"../Data/CleanedDatasets/QuestionGenerator.csv\")"
   ]
  },
  {
   "cell_type": "code",
   "execution_count": 3,
   "id": "33de1d0d-1007-4a1e-92b7-803f42f85123",
   "metadata": {},
   "outputs": [],
   "source": [
    "from sklearn.model_selection import train_test_split\n",
    "X_train, X_test, y_train, y_test = train_test_split(df3[\"chunk\"],df3[\"potential_question_directions\"], test_size=0.1, random_state=42)\n",
    "X_test, X_valid, y_test, y_valid = train_test_split(X_test,y_test, test_size=0.5, random_state=42)"
   ]
  },
  {
   "cell_type": "code",
   "execution_count": 4,
   "id": "c23fe3e2-ed68-41e3-83b9-080c3597d7c8",
   "metadata": {},
   "outputs": [],
   "source": [
    "from transformers import BartForConditionalGeneration, BartTokenizer\n",
    "import torch\n",
    "device = torch.device('cuda' if torch.cuda.is_available() else 'cpu')\n",
    "model_name = '../Saved_Models/QuestionGenerator/fine-tuned-bert-sentiment_{}'.format(\"2024_11_18_1\")\n",
    "tokenizer = BartTokenizer.from_pretrained(model_name)\n",
    "model = BartForConditionalGeneration.from_pretrained(model_name)\n",
    "model = model.to(device)"
   ]
  },
  {
   "cell_type": "code",
   "execution_count": 15,
   "id": "c8974286-7748-48b3-b5f0-549766010368",
   "metadata": {
    "scrolled": true
   },
   "outputs": [
    {
     "name": "stdout",
     "output_type": "stream",
     "text": [
      "Pred Answer: ['What are the limitations of naive fine-tuning according to human evaluators?'\n",
      " 'How does the preference agent perform without access to zero-shot baseline information?']\n",
      "\n",
      "Pred Answer: [\"What is the dissent's approach to historical analysis in the context of the Second Amendment?\"\n",
      " 'How does the author argue that historical laws were inadequate in addressing domestic violence?'\n",
      " \"What are the implications of a rigid adherence to history in constitutional interpretation, according to the text?\"]\n",
      "\n",
      "Pred Answer: ['What is the difference between LATE and ITT in the context of this study?'\n",
      " 'Why are the coefficients on dietary diversity measures statistically insignificant in LARA?']\n",
      "\n",
      "Pred Answer: ['What are the key features of the Sienna modeling framework that make it suitable for large-scale modeling and validation?'\n",
      " 'How does the use of Julia and JuMP in the Grid Analysis and Visualization Interface enhance the capabilities of Sienza?']\n",
      "\n",
      "Pred Answer: [\"What is the significance of the Court's decision in United States v. Zackey Rahimi for individuals subject to domestic violence restraining orders?\"\n",
      " \"How does the Bruen framework influence the interpretation of Second Amendment rights in the context of domestic firearm possession?\"]\n",
      "\n"
     ]
    }
   ],
   "source": [
    "li = [110,20,50,100,345]\n",
    "for idx in li:\n",
    "    input_text = X_test.tolist()[idx]\n",
    "    # print(input_text)\n",
    "    # print()\n",
    "    input_ids = tokenizer.encode(input_text, return_tensors='pt').to(device)\n",
    "    output = model.generate(\n",
    "        input_ids, \n",
    "        max_length=220, \n",
    "        num_beams=1, \n",
    "        early_stopping=True, \n",
    "        no_repeat_ngram_size=2,  # Prevent repeating n-grams\n",
    "        num_return_sequences=1,  # Number of sequences to return\n",
    "        temperature=1,  # Sampling temperature\n",
    "        top_k=0,  # Top-K sampling\n",
    "        top_p=1.0  # Top-p (nucleus) sampling\n",
    "    )\n",
    "    response = tokenizer.decode(output[0], skip_special_tokens=True)\n",
    "    # print(\"True Answer\",y_test.tolist()[idx])\n",
    "    print(\"Pred Answer:\", response)\n",
    "    print()"
   ]
  },
  {
   "cell_type": "code",
   "execution_count": 26,
   "id": "f338b0b6-aaea-4841-b31c-341e2c03b365",
   "metadata": {},
   "outputs": [],
   "source": [
    "query = \"The architecture of a generic GNN implements the following fundamental layers:[6]Permutation equivariant: a permutation equivariant layer maps a representation of a graph into an updated representation of the same graph. In the literature, permutation equivariant layers are implemented via pairwise message passing between graph nodes.[6][11] Intuitively, in a message passing layer, nodes update their representations by aggregating the messages received from their immediate neighbours. As such, each message passing layer increases the receptive field of the GNN by one hop.Local pooling: a local pooling layer coarsens the graph via downsampling. Local pooling is used to increase the receptive field of a GNN, in a similar fashion to pooling layers in convolutional neural networks. Examples include k-nearest neighbours pooling, top-k pooling,[26] and self-attention pooling.[27]Global pooling: a global pooling layer, also known as readout layer, provides fixed-size representation of the whole graph. The global pooling layer must be permutation invariant, such that permutations in the ordering of graph nodes and edges do not alter the final output.[28] Examples include element-wise sum, mean or maximum.It has been demonstrated that GNNs cannot be more expressive than the Weisfeiler–Leman Graph Isomorphism Test.[29][30] In practice, this means that there exist different graph structures (e.g., molecules with the same atoms but different bonds) that cannot be distinguished by GNNs. More powerful GNNs operating on higher-dimension geometries such as simplicial complexes can be designed.[31][32][10] As of 2022, whether or not future architectures will overcome the message passing primitive is an open research question.[11]\""
   ]
  },
  {
   "cell_type": "code",
   "execution_count": 28,
   "id": "6b92bbaa-5f4a-4a4b-986e-55ce25ebe590",
   "metadata": {},
   "outputs": [
    {
     "name": "stdout",
     "output_type": "stream",
     "text": [
      "The architecture of a generic GNN implements the following fundamental layers:[6]Permutation equivariant: a permutation equivariant layer maps a representation of a graph into an updated representation of the same graph. In the literature, permutation equivariant layers are implemented via pairwise message passing between graph nodes.[6][11] Intuitively, in a message passing layer, nodes update their representations by aggregating the messages received from their immediate neighbours. As such, each message passing layer increases the receptive field of the GNN by one hop.Local pooling: a local pooling layer coarsens the graph via downsampling. Local pooling is used to increase the receptive field of a GNN, in a similar fashion to pooling layers in convolutional neural networks. Examples include k-nearest neighbours pooling, top-k pooling,[26] and self-attention pooling.[27]Global pooling: a global pooling layer, also known as readout layer, provides fixed-size representation of the whole graph. The global pooling layer must be permutation invariant, such that permutations in the ordering of graph nodes and edges do not alter the final output.[28] Examples include element-wise sum, mean or maximum.It has been demonstrated that GNNs cannot be more expressive than the Weisfeiler–Leman Graph Isomorphism Test.[29][30] In practice, this means that there exist different graph structures (e.g., molecules with the same atoms but different bonds) that cannot be distinguished by GNNs. More powerful GNNs operating on higher-dimension geometries such as simplicial complexes can be designed.[31][32][10] As of 2022, whether or not future architectures will overcome the message passing primitive is an open research question.[11]\n",
      "\n",
      "Pred Answer: ['What is the purpose of the permutation equivariant layer in the context of a generic GNN?'\n",
      " 'How does the local pooling layer contribute to the efficiency of convolutional neural networks?']\n",
      "\n"
     ]
    }
   ],
   "source": [
    "input_text = query\n",
    "print(input_text)\n",
    "print()\n",
    "input_ids = tokenizer.encode(input_text, return_tensors='pt').to(device)\n",
    "output = model.generate(\n",
    "    input_ids, \n",
    "    max_length=220, \n",
    "    num_beams=5, \n",
    "    early_stopping=True, \n",
    "    no_repeat_ngram_size=2,  # Prevent repeating n-grams\n",
    "    num_return_sequences=1,  # Number of sequences to return\n",
    "    temperature=0.7,  # Sampling temperature\n",
    "    top_k=50,  # Top-K sampling\n",
    "    top_p=0.9  # Top-p (nucleus) sampling\n",
    ")\n",
    "response = tokenizer.decode(output[0], skip_special_tokens=True)\n",
    "# print(\"True Answer\",y_test.tolist()[idx])\n",
    "print(\"Pred Answer:\", response)\n",
    "print()"
   ]
  },
  {
   "cell_type": "markdown",
   "id": "e611e9b2-2fa4-42cb-b75b-0b6d3d7646f2",
   "metadata": {},
   "source": [
    "## Merge Data : get all files from data location and merge it into a single file"
   ]
  },
  {
   "cell_type": "code",
   "execution_count": 11,
   "id": "d41703b5-e500-4007-98b0-1c37074be3bd",
   "metadata": {},
   "outputs": [],
   "source": [
    "import os\n",
    "import pandas as pd\n",
    "from tqdm import tqdm"
   ]
  },
  {
   "cell_type": "code",
   "execution_count": 25,
   "id": "d6cdea19-d79d-4515-a837-56dbb7183986",
   "metadata": {},
   "outputs": [],
   "source": [
    "def get_all_files():\n",
    "    # Get the list of all files and directories\n",
    "    path = \"../Data/GraphAgent/raw_data/\"\n",
    "    dir_list = os.listdir(path)\n",
    "    # prints all files\n",
    "    return dir_list"
   ]
  },
  {
   "cell_type": "code",
   "execution_count": 26,
   "id": "664c2b31-fbaa-4dfc-90ce-9a5c34e77244",
   "metadata": {},
   "outputs": [],
   "source": [
    "files = get_all_files()"
   ]
  },
  {
   "cell_type": "code",
   "execution_count": 27,
   "id": "4d8d326d-67ed-43ad-9f64-b40807a0578e",
   "metadata": {},
   "outputs": [],
   "source": [
    "# df = pd.DataFrame()\n",
    "# for file in tqdm(files):\n",
    "#     df = df._append(pd.read_csv(\"../Data/GraphAgent/{}\".format(file),sep=\"\\t\"))"
   ]
  },
  {
   "cell_type": "code",
   "execution_count": 28,
   "id": "d0f7e0cf-2ae5-4606-bf40-04e554e710c0",
   "metadata": {},
   "outputs": [
    {
     "data": {
      "text/plain": [
       "'1.tsv'"
      ]
     },
     "execution_count": 28,
     "metadata": {},
     "output_type": "execute_result"
    }
   ],
   "source": [
    "files[0]"
   ]
  },
  {
   "cell_type": "code",
   "execution_count": 35,
   "id": "d0b57123-eecc-446b-93d5-8392ea54a472",
   "metadata": {},
   "outputs": [],
   "source": [
    "for file in tqdm(files):\n",
    "    df = pd.read_csv(\"../Data/GraphAgent/raw_data/{}\".format(file),sep=\"\\t\")\n",
    "    df.drop(\"All_Tags\",axis = 1,inplace = True)\n",
    "    df.to_csv('../Data/GraphAgent/cleaned_data/{}'.format(file),sep='\\t', index=False)"
   ]
  },
  {
   "cell_type": "code",
   "execution_count": 32,
   "id": "0da5293b-a24e-4435-bc2e-a2eae2627e92",
   "metadata": {},
   "outputs": [
    {
     "data": {
      "text/html": [
       "<div>\n",
       "<style scoped>\n",
       "    .dataframe tbody tr th:only-of-type {\n",
       "        vertical-align: middle;\n",
       "    }\n",
       "\n",
       "    .dataframe tbody tr th {\n",
       "        vertical-align: top;\n",
       "    }\n",
       "\n",
       "    .dataframe thead th {\n",
       "        text-align: right;\n",
       "    }\n",
       "</style>\n",
       "<table border=\"1\" class=\"dataframe\">\n",
       "  <thead>\n",
       "    <tr style=\"text-align: right;\">\n",
       "      <th></th>\n",
       "      <th>Topic_Name</th>\n",
       "      <th>URL</th>\n",
       "      <th>Text_Index</th>\n",
       "      <th>Network</th>\n",
       "    </tr>\n",
       "  </thead>\n",
       "  <tbody>\n",
       "    <tr>\n",
       "      <th>0</th>\n",
       "      <td>machine learning</td>\n",
       "      <td>https://en.wikipedia.org/wiki/machine_learning</td>\n",
       "      <td>{0: 'Machine learning', 1: 'Supervised learnin...</td>\n",
       "      <td>['0-&gt;1', '0-&gt;2', '0-&gt;3', '0-&gt;4', '0-&gt;5', '0-&gt;6...</td>\n",
       "    </tr>\n",
       "    <tr>\n",
       "      <th>1</th>\n",
       "      <td>automated machine learning</td>\n",
       "      <td>https://learn.microsoft.com/en-us/azure/machin...</td>\n",
       "      <td>{0: 'What is automated machine learning (AutoM...</td>\n",
       "      <td>['0-&gt;1', '0-&gt;2', '0-&gt;3', '4-&gt;5', '4-&gt;6', '4-&gt;7...</td>\n",
       "    </tr>\n",
       "    <tr>\n",
       "      <th>2</th>\n",
       "      <td>automated machine learning</td>\n",
       "      <td>https://www.automl.org/automl/</td>\n",
       "      <td>{0: 'AutoML', 1: 'AutoML', 2: 'What is AutoML?...</td>\n",
       "      <td>['0', '1', '2-&gt;3', ['2-&gt;4-&gt;5', '2-&gt;4-&gt;6', '2-&gt;...</td>\n",
       "    </tr>\n",
       "    <tr>\n",
       "      <th>3</th>\n",
       "      <td>automated machine learning</td>\n",
       "      <td>https://builtin.com/machine-learning/automl-au...</td>\n",
       "      <td>{0: 'AutoML: What Is Automated Machine Learnin...</td>\n",
       "      <td>['0-&gt;1', '0-&gt;2', ['0-&gt;3-&gt;4', '0-&gt;3-&gt;5'], ['0-&gt;...</td>\n",
       "    </tr>\n",
       "    <tr>\n",
       "      <th>4</th>\n",
       "      <td>automated machine learning</td>\n",
       "      <td>https://www.run.ai/guides/automl</td>\n",
       "      <td>{0: 'AutoML', 1: 'Webinar: Transforming AI for...</td>\n",
       "      <td>['0-&gt;1', '0-&gt;2', '3', ['4-&gt;5-&gt;6', '4-&gt;5-&gt;7', '...</td>\n",
       "    </tr>\n",
       "  </tbody>\n",
       "</table>\n",
       "</div>"
      ],
      "text/plain": [
       "                   Topic_Name  \\\n",
       "0            machine learning   \n",
       "1  automated machine learning   \n",
       "2  automated machine learning   \n",
       "3  automated machine learning   \n",
       "4  automated machine learning   \n",
       "\n",
       "                                                 URL  \\\n",
       "0     https://en.wikipedia.org/wiki/machine_learning   \n",
       "1  https://learn.microsoft.com/en-us/azure/machin...   \n",
       "2                     https://www.automl.org/automl/   \n",
       "3  https://builtin.com/machine-learning/automl-au...   \n",
       "4                   https://www.run.ai/guides/automl   \n",
       "\n",
       "                                          Text_Index  \\\n",
       "0  {0: 'Machine learning', 1: 'Supervised learnin...   \n",
       "1  {0: 'What is automated machine learning (AutoM...   \n",
       "2  {0: 'AutoML', 1: 'AutoML', 2: 'What is AutoML?...   \n",
       "3  {0: 'AutoML: What Is Automated Machine Learnin...   \n",
       "4  {0: 'AutoML', 1: 'Webinar: Transforming AI for...   \n",
       "\n",
       "                                             Network  \n",
       "0  ['0->1', '0->2', '0->3', '0->4', '0->5', '0->6...  \n",
       "1  ['0->1', '0->2', '0->3', '4->5', '4->6', '4->7...  \n",
       "2  ['0', '1', '2->3', ['2->4->5', '2->4->6', '2->...  \n",
       "3  ['0->1', '0->2', ['0->3->4', '0->3->5'], ['0->...  \n",
       "4  ['0->1', '0->2', '3', ['4->5->6', '4->5->7', '...  "
      ]
     },
     "execution_count": 32,
     "metadata": {},
     "output_type": "execute_result"
    }
   ],
   "source": [
    "df.head()"
   ]
  },
  {
   "cell_type": "code",
   "execution_count": 85,
   "id": "9c078267-5128-4570-8ce5-23055ae7c54d",
   "metadata": {},
   "outputs": [],
   "source": [
    "df = pd.read_csv('../Data/GraphAgent/{}.tsv'.format(\"All_Files_Combined\"),sep='\\t')"
   ]
  },
  {
   "cell_type": "code",
   "execution_count": 86,
   "id": "eb5fc92d-a300-46c0-a31f-37b5489ffe6c",
   "metadata": {},
   "outputs": [],
   "source": []
  },
  {
   "cell_type": "code",
   "execution_count": 87,
   "id": "774c3a8d-c83f-4a0c-a9dd-be05f97dac9d",
   "metadata": {},
   "outputs": [],
   "source": [
    "df.to_csv('../Data/GraphAgent/{}.tsv'.format(\"All_Files_Combined\"),sep='\\t', index=False)"
   ]
  },
  {
   "cell_type": "code",
   "execution_count": 9,
   "id": "a4b7164c-e057-42fb-b83f-4444daec1f60",
   "metadata": {},
   "outputs": [
    {
     "data": {
      "text/html": [
       "<div>\n",
       "<style scoped>\n",
       "    .dataframe tbody tr th:only-of-type {\n",
       "        vertical-align: middle;\n",
       "    }\n",
       "\n",
       "    .dataframe tbody tr th {\n",
       "        vertical-align: top;\n",
       "    }\n",
       "\n",
       "    .dataframe thead th {\n",
       "        text-align: right;\n",
       "    }\n",
       "</style>\n",
       "<table border=\"1\" class=\"dataframe\">\n",
       "  <thead>\n",
       "    <tr style=\"text-align: right;\">\n",
       "      <th></th>\n",
       "      <th>Topic_Name</th>\n",
       "      <th>URL</th>\n",
       "      <th>All_Tags</th>\n",
       "      <th>Text_Index</th>\n",
       "      <th>Network</th>\n",
       "    </tr>\n",
       "  </thead>\n",
       "  <tbody>\n",
       "    <tr>\n",
       "      <th>0</th>\n",
       "      <td>machine learning</td>\n",
       "      <td>https://en.wikipedia.org/wiki/machine_learning</td>\n",
       "      <td>[&lt;h1 class=\"firstHeading mw-first-heading\" id=...</td>\n",
       "      <td>{0: 'Machine learning', 1: 'Supervised learnin...</td>\n",
       "      <td>['0-&gt;1', '0-&gt;2', '0-&gt;3', '0-&gt;4', '0-&gt;5', '0-&gt;6...</td>\n",
       "    </tr>\n",
       "    <tr>\n",
       "      <th>1</th>\n",
       "      <td>automated machine learning</td>\n",
       "      <td>https://learn.microsoft.com/en-us/azure/machin...</td>\n",
       "      <td>[&lt;h1 id=\"what-is-automated-machine-learning-au...</td>\n",
       "      <td>{0: 'What is automated machine learning (AutoM...</td>\n",
       "      <td>['0-&gt;1', '0-&gt;2', '0-&gt;3', '4-&gt;5', '4-&gt;6', '4-&gt;7...</td>\n",
       "    </tr>\n",
       "    <tr>\n",
       "      <th>2</th>\n",
       "      <td>automated machine learning</td>\n",
       "      <td>https://www.automl.org/automl/</td>\n",
       "      <td>[&lt;h1&gt;AutoML&lt;/h1&gt;, &lt;h1&gt;AutoML&lt;/h1&gt;, &lt;h1&gt;What is...</td>\n",
       "      <td>{0: 'AutoML', 1: 'AutoML', 2: 'What is AutoML?...</td>\n",
       "      <td>['0', '1', '2-&gt;3', ['2-&gt;4-&gt;5', '2-&gt;4-&gt;6', '2-&gt;...</td>\n",
       "    </tr>\n",
       "    <tr>\n",
       "      <th>3</th>\n",
       "      <td>automated machine learning</td>\n",
       "      <td>https://builtin.com/machine-learning/automl-au...</td>\n",
       "      <td>[&lt;h1 class=\"fw-bold fs-xl fs-md-4xl text-white...</td>\n",
       "      <td>{0: 'AutoML: What Is Automated Machine Learnin...</td>\n",
       "      <td>['0-&gt;1', '0-&gt;2', ['0-&gt;3-&gt;4', '0-&gt;3-&gt;5'], ['0-&gt;...</td>\n",
       "    </tr>\n",
       "    <tr>\n",
       "      <th>4</th>\n",
       "      <td>automated machine learning</td>\n",
       "      <td>https://www.run.ai/guides/automl</td>\n",
       "      <td>[&lt;h1 class=\"guide-headline\"&gt;AutoML&lt;/h1&gt;, &lt;p cl...</td>\n",
       "      <td>{0: 'AutoML', 1: 'Webinar: Transforming AI for...</td>\n",
       "      <td>['0-&gt;1', '0-&gt;2', '3', ['4-&gt;5-&gt;6', '4-&gt;5-&gt;7', '...</td>\n",
       "    </tr>\n",
       "  </tbody>\n",
       "</table>\n",
       "</div>"
      ],
      "text/plain": [
       "                   Topic_Name  \\\n",
       "0            machine learning   \n",
       "1  automated machine learning   \n",
       "2  automated machine learning   \n",
       "3  automated machine learning   \n",
       "4  automated machine learning   \n",
       "\n",
       "                                                 URL  \\\n",
       "0     https://en.wikipedia.org/wiki/machine_learning   \n",
       "1  https://learn.microsoft.com/en-us/azure/machin...   \n",
       "2                     https://www.automl.org/automl/   \n",
       "3  https://builtin.com/machine-learning/automl-au...   \n",
       "4                   https://www.run.ai/guides/automl   \n",
       "\n",
       "                                            All_Tags  \\\n",
       "0  [<h1 class=\"firstHeading mw-first-heading\" id=...   \n",
       "1  [<h1 id=\"what-is-automated-machine-learning-au...   \n",
       "2  [<h1>AutoML</h1>, <h1>AutoML</h1>, <h1>What is...   \n",
       "3  [<h1 class=\"fw-bold fs-xl fs-md-4xl text-white...   \n",
       "4  [<h1 class=\"guide-headline\">AutoML</h1>, <p cl...   \n",
       "\n",
       "                                          Text_Index  \\\n",
       "0  {0: 'Machine learning', 1: 'Supervised learnin...   \n",
       "1  {0: 'What is automated machine learning (AutoM...   \n",
       "2  {0: 'AutoML', 1: 'AutoML', 2: 'What is AutoML?...   \n",
       "3  {0: 'AutoML: What Is Automated Machine Learnin...   \n",
       "4  {0: 'AutoML', 1: 'Webinar: Transforming AI for...   \n",
       "\n",
       "                                             Network  \n",
       "0  ['0->1', '0->2', '0->3', '0->4', '0->5', '0->6...  \n",
       "1  ['0->1', '0->2', '0->3', '4->5', '4->6', '4->7...  \n",
       "2  ['0', '1', '2->3', ['2->4->5', '2->4->6', '2->...  \n",
       "3  ['0->1', '0->2', ['0->3->4', '0->3->5'], ['0->...  \n",
       "4  ['0->1', '0->2', '3', ['4->5->6', '4->5->7', '...  "
      ]
     },
     "execution_count": 9,
     "metadata": {},
     "output_type": "execute_result"
    }
   ],
   "source": [
    "df.head()"
   ]
  },
  {
   "cell_type": "code",
   "execution_count": 139,
   "id": "1f090454-0511-42ae-a791-59607bb710c9",
   "metadata": {
    "scrolled": true
   },
   "outputs": [],
   "source": [
    "# df[\"Network\"][0].replace(\"[\",\"\").replace(\"]\",\"\").replace(\"'\",\"\").split(\",\")"
   ]
  },
  {
   "cell_type": "code",
   "execution_count": 153,
   "id": "3097f7f2-fbe5-40e5-ba1e-3a06c7278c51",
   "metadata": {},
   "outputs": [
    {
     "data": {
      "text/plain": [
       "\"0: 'Machine learning', 1: 'Supervised learning', 2: 'Unsupervised learning', 3: 'Semi-supervised learning', 4: 'Self-supervised learning', 5: 'Reinforcement learning', 6: 'Meta-learning', 7: 'Online learning', 8: 'Batch learning', 9: 'Curriculum learning', 10: 'Rule-based learning', 11: 'Neuro-symbolic AI', 12: 'Neuromorphic engineering', 13: 'Quantum machine learning', 14: 'Classification', 15: 'Generative modeling', 16: 'Regression', 17: 'Clustering', 18: 'Dimensionality reduction', 19: 'Density estimation', 20: 'Anomaly detection', 21: 'Data cleaning', 22: 'AutoML', 23: 'Association rules', 24: 'Semantic analysis', 25: 'Structured prediction', 26: 'Feature engineering', 27: 'Feature learning', 28: 'Learning to rank', 29: 'Grammar induction', 30: 'Ontology learning', 31: 'Multimodal learning', 32: 'Apprenticeship learning', 33: 'Decision trees', 34: 'Ensembles\\\\nBagging\\\\nBoosting\\\\nRandom forest', 35: 'Bagging', 36: 'Boosting', 37: 'Random forest', 38: 'k-NN', 39: 'Linear regression', 40: 'Naive Bayes', 41: 'Artificial neural networks', 42: 'Logistic regression', 43: 'Perceptron', 44: 'Relevance vector machine (RVM)', 45: 'Support vector machine (SVM)', 46: 'BIRCH', 47: 'CURE', 48: 'Hierarchical', 49: 'k-means', 50: 'Fuzzy', 51: 'Expectation–maximization (EM)', 52: 'DBSCAN', 53: 'OPTICS', 54: 'Mean shift', 55: 'Factor analysis', 56: 'CCA', 57: 'ICA', 58: 'LDA', 59: 'NMF', 60: 'PCA', 61: 'PGD', 62: 't-SNE', 63: 'SDL', 64: 'Graphical models\\\\nBayes net\\\\nConditional random field\\\\nHidden Markov', 65: 'Bayes net', 66: 'Conditional random field', 67: 'Hidden Markov', 68: 'RANSAC', 69: 'k-NN', 70: 'Local outlier factor', 71: 'Isolation forest', 72: 'Autoencoder', 73: 'Deep learning', 74: 'Feedforward neural network', 75: 'Recurrent neural network\\\\nLSTM\\\\nGRU\\\\nESN\\\\nreservoir computing', 76: 'LSTM', 77: 'GRU', 78: 'ESN', 79: 'reservoir computing', 80: 'Boltzmann machine\\\\nRestricted', 81: 'Restricted', 82: 'GAN', 83: 'Diffusion model', 84: 'SOM', 85: 'Convolutional neural network\\\\nU-Net\\\\nLeNet\\\\nAlexNet\\\\nDeepDream', 86: 'U-Net', 87: 'LeNet', 88: 'AlexNet', 89: 'DeepDream', 90: 'Neural radiance field', 91: 'Transformer\\\\nVision', 92: 'Vision', 93: 'Mamba', 94: 'Spiking neural network', 95: 'Memtransistor', 96: 'Electrochemical RAM (ECRAM)', 97: 'Q-learning', 98: 'SARSA', 99: 'Temporal difference (TD)', 100: 'Multi-agent\\\\nSelf-play', 101: 'Self-play', 102: 'Active learning', 103: 'Crowdsourcing', 104: 'Human-in-the-loop', 105: 'RLHF', 106: 'Coefficient of determination', 107: 'Confusion matrix', 108: 'Learning curve', 109: 'ROC curve', 110: 'Kernel machines', 111: 'Bias–variance tradeoff', 112: 'Computational learning theory', 113: 'Empirical risk minimization', 114: 'Occam learning', 115: 'PAC learning', 116: 'Statistical learning', 117: 'VC theory', 118: 'ECML PKDD', 119: 'NeurIPS', 120: 'ICML', 121: 'ICLR', 122: 'IJCAI', 123: 'ML', 124: 'JMLR', 125: 'Glossary of artificial intelligence', 126: 'List of datasets for machine-learning research\\\\nList of datasets in computer vision and image processing', 127: 'List of datasets in computer vision and image processing', 128: 'Outline of machine learning', 129: 'v', 130: 't', 131: 'e', 132: 'Artificial general intelligence', 133: 'Intelligent agent', 134: 'Recursive self-improvement', 135: 'Planning', 136: 'Computer vision', 137: 'General game playing', 138: 'Knowledge reasoning', 139: 'Natural language processing', 140: 'Robotics', 141: 'AI safety', 142: 'Machine learning', 143: 'Symbolic', 144: 'Deep learning', 145: 'Bayesian networks', 146: 'Evolutionary algorithms', 147: 'Hybrid intelligent systems', 148: 'Systems integration', 149: 'Bioinformatics', 150: 'Deepfake', 151: 'Earth sciences', 152: ' Finance ', 153: 'Generative AI\\\\nArt\\\\nAudio\\\\nMusic', 154: 'Art', 155: 'Audio', 156: 'Music', 157: 'Government', 158: 'Healthcare\\\\nMental health', 159: 'Mental health', 160: 'Industry', 161: 'Translation', 162: ' Military ', 163: 'Physics', 164: 'Projects', 165: 'Artificial consciousness', 166: 'Chinese room', 167: 'Friendly AI', 168: 'Control problem/Takeover', 169: 'Ethics', 170: 'Existential risk', 171: 'Regulation', 172: 'Turing test', 173: 'Timeline', 174: 'Progress', 175: 'AI winter', 176: 'AI boom', 177: 'Glossary', 178: 'v', 179: 't', 180: 'e', 181: 'Machine learning (ML) is a field of study in artificial intelligence concerned with the development and study of statistical algorithms that can learn from data and generalize to unseen data, and thus perform tasks without explicit instructions.[1] Advances in the field of deep learning have allowed neural networks to surpass many previous approaches in performance.[2]\\\\n', 182: 'ML finds application in many fields, including natural language processing, computer vision, speech recognition, email filtering, agriculture, and medicine.[3][4] The application of ML to business problems is known as predictive analytics.\\\\n', 183: 'Statistics and mathematical optimization (mathematical programming) methods comprise the foundations of mac\""
      ]
     },
     "execution_count": 153,
     "metadata": {},
     "output_type": "execute_result"
    }
   ],
   "source": [
    "df[\"Text_Index\"][0][1:5000]"
   ]
  },
  {
   "cell_type": "code",
   "execution_count": 7,
   "id": "4e154ebf-adea-432d-b289-5e58a54ae252",
   "metadata": {},
   "outputs": [
    {
     "data": {
      "text/html": [
       "<div>\n",
       "<style scoped>\n",
       "    .dataframe tbody tr th:only-of-type {\n",
       "        vertical-align: middle;\n",
       "    }\n",
       "\n",
       "    .dataframe tbody tr th {\n",
       "        vertical-align: top;\n",
       "    }\n",
       "\n",
       "    .dataframe thead th {\n",
       "        text-align: right;\n",
       "    }\n",
       "</style>\n",
       "<table border=\"1\" class=\"dataframe\">\n",
       "  <thead>\n",
       "    <tr style=\"text-align: right;\">\n",
       "      <th></th>\n",
       "      <th>Topic_Name</th>\n",
       "      <th>All_Tags</th>\n",
       "      <th>Text_Index</th>\n",
       "      <th>Network</th>\n",
       "    </tr>\n",
       "    <tr>\n",
       "      <th>URL</th>\n",
       "      <th></th>\n",
       "      <th></th>\n",
       "      <th></th>\n",
       "      <th></th>\n",
       "    </tr>\n",
       "  </thead>\n",
       "  <tbody>\n",
       "    <tr>\n",
       "      <th>http://147.162.114.155/articles/List_of_fluid_flows_named_after_people</th>\n",
       "      <td>1</td>\n",
       "      <td>1</td>\n",
       "      <td>1</td>\n",
       "      <td>1</td>\n",
       "    </tr>\n",
       "    <tr>\n",
       "      <th>http://147.162.114.155/articles/List_of_hydrodynamic_instabilities_named_after_people</th>\n",
       "      <td>1</td>\n",
       "      <td>1</td>\n",
       "      <td>1</td>\n",
       "      <td>1</td>\n",
       "    </tr>\n",
       "    <tr>\n",
       "      <th>http://4liberty.eu/parable-of-broken-window-as-public-policy-principle/</th>\n",
       "      <td>1</td>\n",
       "      <td>1</td>\n",
       "      <td>1</td>\n",
       "      <td>1</td>\n",
       "    </tr>\n",
       "    <tr>\n",
       "      <th>http://96kulimarathahistory.blogspot.com/</th>\n",
       "      <td>1</td>\n",
       "      <td>1</td>\n",
       "      <td>1</td>\n",
       "      <td>1</td>\n",
       "    </tr>\n",
       "    <tr>\n",
       "      <th>http://96kulimarathahistory.blogspot.com/2015/05/the-list-of-main-clans-and-their-sub.html</th>\n",
       "      <td>1</td>\n",
       "      <td>1</td>\n",
       "      <td>1</td>\n",
       "      <td>1</td>\n",
       "    </tr>\n",
       "    <tr>\n",
       "      <th>...</th>\n",
       "      <td>...</td>\n",
       "      <td>...</td>\n",
       "      <td>...</td>\n",
       "      <td>...</td>\n",
       "    </tr>\n",
       "    <tr>\n",
       "      <th>https://zoltandienes.com/poetry/why-johnny-cant-add/</th>\n",
       "      <td>1</td>\n",
       "      <td>1</td>\n",
       "      <td>1</td>\n",
       "      <td>1</td>\n",
       "    </tr>\n",
       "    <tr>\n",
       "      <th>https://zoox.com/</th>\n",
       "      <td>1</td>\n",
       "      <td>1</td>\n",
       "      <td>1</td>\n",
       "      <td>1</td>\n",
       "    </tr>\n",
       "    <tr>\n",
       "      <th>https://zumalo.com/epic/enhancing-human-intelligence-ii/</th>\n",
       "      <td>1</td>\n",
       "      <td>1</td>\n",
       "      <td>1</td>\n",
       "      <td>1</td>\n",
       "    </tr>\n",
       "    <tr>\n",
       "      <th>https://zupan.ai/blog/what-is-product-durability</th>\n",
       "      <td>1</td>\n",
       "      <td>1</td>\n",
       "      <td>1</td>\n",
       "      <td>1</td>\n",
       "    </tr>\n",
       "    <tr>\n",
       "      <th>https://zzz.bwh.harvard.edu/plink/psnp.shtml</th>\n",
       "      <td>1</td>\n",
       "      <td>1</td>\n",
       "      <td>1</td>\n",
       "      <td>1</td>\n",
       "    </tr>\n",
       "  </tbody>\n",
       "</table>\n",
       "<p>58524 rows × 4 columns</p>\n",
       "</div>"
      ],
      "text/plain": [
       "                                                    Topic_Name  All_Tags  \\\n",
       "URL                                                                        \n",
       "http://147.162.114.155/articles/List_of_fluid_f...           1         1   \n",
       "http://147.162.114.155/articles/List_of_hydrody...           1         1   \n",
       "http://4liberty.eu/parable-of-broken-window-as-...           1         1   \n",
       "http://96kulimarathahistory.blogspot.com/                    1         1   \n",
       "http://96kulimarathahistory.blogspot.com/2015/0...           1         1   \n",
       "...                                                        ...       ...   \n",
       "https://zoltandienes.com/poetry/why-johnny-cant...           1         1   \n",
       "https://zoox.com/                                            1         1   \n",
       "https://zumalo.com/epic/enhancing-human-intelli...           1         1   \n",
       "https://zupan.ai/blog/what-is-product-durability             1         1   \n",
       "https://zzz.bwh.harvard.edu/plink/psnp.shtml                 1         1   \n",
       "\n",
       "                                                    Text_Index  Network  \n",
       "URL                                                                      \n",
       "http://147.162.114.155/articles/List_of_fluid_f...           1        1  \n",
       "http://147.162.114.155/articles/List_of_hydrody...           1        1  \n",
       "http://4liberty.eu/parable-of-broken-window-as-...           1        1  \n",
       "http://96kulimarathahistory.blogspot.com/                    1        1  \n",
       "http://96kulimarathahistory.blogspot.com/2015/0...           1        1  \n",
       "...                                                        ...      ...  \n",
       "https://zoltandienes.com/poetry/why-johnny-cant...           1        1  \n",
       "https://zoox.com/                                            1        1  \n",
       "https://zumalo.com/epic/enhancing-human-intelli...           1        1  \n",
       "https://zupan.ai/blog/what-is-product-durability             1        1  \n",
       "https://zzz.bwh.harvard.edu/plink/psnp.shtml                 1        1  \n",
       "\n",
       "[58524 rows x 4 columns]"
      ]
     },
     "execution_count": 7,
     "metadata": {},
     "output_type": "execute_result"
    }
   ],
   "source": [
    "df.groupby(\"URL\").count()"
   ]
  },
  {
   "cell_type": "code",
   "execution_count": 13,
   "id": "32c83cfd-75f7-4c59-91e2-5252d2db95a7",
   "metadata": {},
   "outputs": [],
   "source": [
    "# fgf = pd.read_csv(\"../Data/GraphAgent/1.tsv\",sep='\\t')\n",
    "# fgf.drop(\"All_Tags\",axis = 1,inplace = True)\n",
    "# fgf.to_csv(\"../Data/GraphAgent/test.tsv\",sep='\\t', index=False)"
   ]
  },
  {
   "cell_type": "markdown",
   "id": "d79f6b88-d43d-42dc-860c-31db71a93749",
   "metadata": {},
   "source": [
    "## Data Cleaning using Spark"
   ]
  },
  {
   "cell_type": "code",
   "execution_count": 1,
   "id": "c91a1c5b-0f4a-4756-b0c4-dedf0a79a807",
   "metadata": {},
   "outputs": [],
   "source": [
    "from pyspark.sql import SparkSession\n",
    "import pyspark.sql.functions as F\n",
    "import pandas as pd\n",
    "from tqdm import tqdm\n",
    "from pyspark.sql.types import StructType, StructField, StringType\n",
    "import warnings\n",
    "warnings.filterwarnings(\"ignore\")"
   ]
  },
  {
   "cell_type": "code",
   "execution_count": 2,
   "id": "a964831c-5c69-4006-954f-6c68c36a4560",
   "metadata": {},
   "outputs": [],
   "source": [
    "import os\n",
    "import sys\n",
    "\n",
    "os.environ['PYSPARK_PYTHON'] = sys.executable\n",
    "os.environ['PYSPARK_DRIVER_PYTHON'] = sys.executable"
   ]
  },
  {
   "cell_type": "code",
   "execution_count": 3,
   "id": "838afa8d-01b2-4293-b113-918d3f97ba7d",
   "metadata": {},
   "outputs": [],
   "source": [
    "# spark = SparkSession.builder.getOrCreate()"
   ]
  },
  {
   "cell_type": "code",
   "execution_count": 4,
   "id": "21c5118d-0749-4fb9-9f08-5094e42c2c00",
   "metadata": {},
   "outputs": [],
   "source": [
    "spark = SparkSession.builder \\\n",
    "    .master(\"local\") \\\n",
    "    .config(\"spark.driver.memory\", \"8g\") \\\n",
    "    .config(\"spark.executor.memory\", \"8g\") \\\n",
    "    .appName(\"DataCleaning\") \\\n",
    "    .getOrCreate()"
   ]
  },
  {
   "cell_type": "code",
   "execution_count": 5,
   "id": "77524d99-2d00-4380-b479-fb518b814430",
   "metadata": {},
   "outputs": [],
   "source": [
    "def data_transformation_pyspark(row_iter):\n",
    "    schema = StructType([StructField(\"Topic_Name\", StringType(), True), StructField(\"URL\", StringType(), True),\\\n",
    "                     StructField(\"Text_Index\", StringType(), True), StructField(\"Network\", StringType(), True)])\n",
    "    d1 = spark.createDataFrame([(row_iter[0], row_iter[1], row_iter[2], row_iter[3])],schema=schema)\n",
    "    d1 = d1.withColumn(\"Network\",F.regexp_replace(F.col(\"Network\"),r\"[\\[\\]\\']\",\"\"))\\\n",
    "           .withColumn(\"Network\",F.split(F.col(\"Network\"),\",\"))\n",
    "    index_data = d1.select(\"Text_Index\",F.split(F.col(\"Text_Index\"),\"', \").alias(\"split\"))\n",
    "    index_data = index_data.drop(\"Text_Index\")\n",
    "    index_data = index_data.withColumn(\"split\",F.explode(\"split\"))\n",
    "    index_data = index_data.withColumn(\"id\",F.split(F.col(\"split\"),\": '\").getItem(0))\\\n",
    "                            .withColumn(\"text\",F.split(F.col(\"split\"),\": '\").getItem(1))\\\n",
    "                            .drop(F.col(\"split\"))\\\n",
    "                            .withColumn(\"id\",F.regexp_replace(F.col(\"id\"),\"[\\{\\}\\\"]\",\"\"))\\\n",
    "                            .withColumn(\"id\",F.col(\"id\").cast('int'))\n",
    "    index_data = index_data.withColumn(\"length_of_text\",F.length(F.col(\"text\")))\\\n",
    "                            .withColumn(\"num_of_words\",F.array_size(F.split(F.col(\"text\"),\" \")))\n",
    "    network_data = d1.select(F.col(\"Network\").alias(\"Network\"))\n",
    "    network_data = network_data.withColumn(\"Explode\",F.explode(F.col(\"Network\")))\\\n",
    "                            .drop(F.col(\"Network\"))\\\n",
    "                            .withColumn(\"split\",F.split(F.col(\"Explode\"),\"->\"))\n",
    "    grouped_network_data = network_data.withColumn(\"num_of_nodes\",F.array_size(F.col(\"split\")))\\\n",
    "                                        .groupby(F.col(\"num_of_nodes\")).count()\n",
    "    try:\n",
    "        num_of_loops = grouped_network_data.orderBy(F.col(\"num_of_nodes\"),ascending = False).take(1)[0][0]\n",
    "    except Exception as e:\n",
    "        return pd.DataFrame(),0\n",
    "    for loop in range(0,num_of_loops):\n",
    "        network_data = network_data.withColumn(str(loop + 1), F.col(\"split\").getItem(loop))\n",
    "    joined_data = network_data\n",
    "    for loop in range(1,num_of_loops+1):\n",
    "        joined_data = index_data.join(joined_data,index_data[\"id\"] == joined_data[str(loop)],\"right\")\n",
    "        joined_data = joined_data.withColumn(str(loop),F.col(\"text\"))\n",
    "        joined_data = joined_data.drop(\"id\",\"text\",\"length_of_text\",\"num_of_words\")\n",
    "    joined_data = joined_data.drop(\"Explode\",\"split\")\n",
    "    if num_of_loops > 2:\n",
    "        joined_data = joined_data.where(F.col(\"3\")!='NULL')\n",
    "        df = joined_data.toPandas()\n",
    "        return df,num_of_loops\n",
    "    else:\n",
    "        return pd.DataFrame(),num_of_loops"
   ]
  },
  {
   "cell_type": "code",
   "execution_count": 6,
   "id": "b748bb5c-cae3-4fe8-b4de-b28878ad9f82",
   "metadata": {},
   "outputs": [],
   "source": [
    "def dataframe_to_dict(df,num_of_loops):\n",
    "    unique_keys = []\n",
    "    uniques = []\n",
    "    for i in range(1,num_of_loops+1):\n",
    "        uniques.append(df[str(i)].unique().tolist())\n",
    "    df.drop(df[df[\"2\"].isin(['See also','References','Sources','Further reading','External links'])].index,axis = 0,inplace = True)\n",
    "    df.drop_duplicates(inplace=True)\n",
    "    df.reset_index(inplace=True)\n",
    "    parent_node = df[\"1\"][0]\n",
    "    new_dict = {parent_node:{}}\n",
    "    for i in range(0,len(df)):\n",
    "        counter = 0\n",
    "        row = df.loc[i].tolist()\n",
    "        row = [j for j in row if j != None]\n",
    "        # print(i)\n",
    "        # print(\"Levels==========================\",len(row))\n",
    "        for r in range(0,len(row)):\n",
    "            #At first level, it will update the dict\n",
    "            if r == 0:\n",
    "                update_dict = new_dict[parent_node]\n",
    "                # print(r,\"at 0\",update_dict)\n",
    "            #If only 3 levels are present, it will create its own key and append\n",
    "            elif r == (len(row)-1) and len(row) == 2:\n",
    "                unique_keys.append(\"my_summary\")\n",
    "                if \"my_summary\" in list(update_dict.keys()):\n",
    "                    update_dict[\"my_summary\"].append(row[r])\n",
    "                else:\n",
    "                    update_dict[\"my_summary\"] = [row[r]]\n",
    "                # print(r,\"at 1\",update_dict)\n",
    "            # When the loop reaches the last level, It will append the value\n",
    "            elif r == (len(row)-1):\n",
    "                try:\n",
    "                    update_dict.append(row[r])\n",
    "                    # print(r,\"at 2\",update_dict)\n",
    "                except Exception as e:\n",
    "                    # print(update_dict)\n",
    "                    print(e)\n",
    "            # When the loop is in mid levels\n",
    "            else:\n",
    "                unique_keys.append(row[r])\n",
    "                try:\n",
    "                    flag_aks = True \n",
    "                    if isinstance(update_dict,list):\n",
    "                        for aks in range(0,len(update_dict)):\n",
    "                            if isinstance(update_dict[aks],dict):\n",
    "                                if row[r] in list(update_dict[aks].keys()):\n",
    "                                    update_dict = update_dict[aks][row[r]]\n",
    "                                    flag_aks = False\n",
    "                                    break\n",
    "                        if flag_aks:\n",
    "                            update_dict.append({row[r]:[]})\n",
    "                            update_dict = update_dict[-1][row[r]]\n",
    "                    #This is the condition if the key is present and it is expecting a value in next loop\n",
    "                    elif row[r] in list(update_dict.keys()) and r - (len(row)-2) == 0:\n",
    "                        update_dict = update_dict[row[r]]\n",
    "                        if isinstance(update_dict,dict):\n",
    "                            update_dict[str(counter)] = []\n",
    "                            update_dict = update_dict[str(counter)]\n",
    "                        else:\n",
    "                            pass\n",
    "                    #If key is in dict\n",
    "                    elif row[r] in list(update_dict.keys()):\n",
    "                        update_dict = update_dict[row[r]]\n",
    "                        # print(r,\"Key present\",update_dict)\n",
    "                    #If key is not present\n",
    "                    else:\n",
    "                        #Expecting value in next loop\n",
    "                        if r - (len(row)-2) == 0:\n",
    "                            update_dict[row[r]] = []\n",
    "                            update_dict = update_dict[row[r]]\n",
    "                            # print(r,\"Key not present but last key\",update_dict)\n",
    "                        # Expecting key in next loop\n",
    "                        else:\n",
    "                            update_dict[row[r]] = {}\n",
    "                            update_dict = update_dict[row[r]]\n",
    "                            # print(r,\"Key not present\",update_dict)\n",
    "                except Exception as e:\n",
    "                    print(e)\n",
    "    return new_dict[parent_node],parent_node,unique_keys"
   ]
  },
  {
   "cell_type": "code",
   "execution_count": 7,
   "id": "95297f94-1e27-498e-ad50-c2d60ea7da45",
   "metadata": {},
   "outputs": [],
   "source": [
    "def get_network_graph(parent_node,unique_keys):\n",
    "    filter_dict = {parent_node:{}}\n",
    "    for u in unique_keys:\n",
    "        if u == parent_node:\n",
    "            update_dict = filter_dict[parent_node]\n",
    "        else:\n",
    "            if u in list(update_dict.keys()):\n",
    "                update_dict = update_dict[u]\n",
    "            else:\n",
    "                update_dict[u] = {}\n",
    "                update_dict = update_dict[u]\n",
    "    return filter_dict"
   ]
  },
  {
   "cell_type": "code",
   "execution_count": 8,
   "id": "5c891d83-be68-466e-a0e8-6a1ea79439d4",
   "metadata": {},
   "outputs": [],
   "source": [
    "def get_values(data,tracker,training_data):\n",
    "    if isinstance(data,list):\n",
    "        training_data[\"chunk\"].append(data)\n",
    "        training_data[\"path\"].append(tracker)\n",
    "        return training_data\n",
    "    else:\n",
    "        for idx,d in enumerate(data.keys()):\n",
    "            tracker = tracker+\"->\"+d\n",
    "            new_data = data[d]\n",
    "            training_data = get_values(new_data,tracker,training_data)\n",
    "            tracker = \"->\".join(tracker.split(\"->\")[:-1])\n",
    "            # print(\"New\",tracker)\n",
    "            # if idx == 3:\n",
    "            #     break\n",
    "        return training_data"
   ]
  },
  {
   "cell_type": "code",
   "execution_count": 9,
   "id": "ea60c069-893f-4ae6-83fa-cc4569731e01",
   "metadata": {},
   "outputs": [],
   "source": [
    "# from transformers import BartForConditionalGeneration, BartTokenizer\n",
    "# import torch\n",
    "# device = torch.device('cuda' if torch.cuda.is_available() else 'cpu')\n",
    "# model_name = '../Saved_Models/QuestionGenerator/fine-tuned-bert-sentiment_{}'.format(\"2024_11_18_1\")\n",
    "# tokenizer = BartTokenizer.from_pretrained(model_name)\n",
    "# model = BartForConditionalGeneration.from_pretrained(model_name)\n",
    "# model = model.to(device)\n",
    "# def generate_questions(input_text):\n",
    "#     # print(input_text)\n",
    "#     # print()\n",
    "#     input_ids = tokenizer.encode(input_text, return_tensors='pt').to(device)\n",
    "#     output = model.generate(\n",
    "#         input_ids, \n",
    "#         max_length=100, \n",
    "#         num_beams=3, \n",
    "#         early_stopping=True, \n",
    "#         no_repeat_ngram_size=2,  # Prevent repeating n-grams\n",
    "#         num_return_sequences=1,  # Number of sequences to return\n",
    "#         temperature=0.7,  # Sampling temperature\n",
    "#         top_k=50,  # Top-K sampling\n",
    "#         top_p=0.9  # Top-p (nucleus) sampling\n",
    "#     )\n",
    "#     response = tokenizer.decode(output[0], skip_special_tokens=True)\n",
    "#     return response.replace(\"[\",\"\").replace(\"]\",\"\")"
   ]
  },
  {
   "cell_type": "code",
   "execution_count": 10,
   "id": "1b9007f2-a37c-45ab-bb27-105c8d74086e",
   "metadata": {},
   "outputs": [],
   "source": [
    "# def collect_questions(chunkList):\n",
    "#     questionList = []\n",
    "#     if len(chunkList) < 5:\n",
    "#         return questionList\n",
    "#     for chunk in chunkList:\n",
    "#         tempList = []\n",
    "#         if isinstance(chunk,list):\n",
    "#             #Generate question for individual chunk\n",
    "#             for context in chunk:\n",
    "#                 context = str(context)\n",
    "#                 context = context.replace(\"\\\\n\",\"\").replace(\"\\\\t\",\"\").replace(\"\\\\\",\"\")\n",
    "#                 split_context = context.split(\" \")\n",
    "#                 if len(split_context) > 500:\n",
    "#                     for s in range(0,len(split_context),500):\n",
    "#                         context = \" \".join(split_context[s:s+500])\n",
    "#                         tempList.append(generate_questions(context))\n",
    "#                 else:\n",
    "#                     tempList.append(generate_questions(context))\n",
    "#             questionList.append(tempList)\n",
    "#         else:\n",
    "#             context = str(chunk)\n",
    "#             context = context.replace(\"\\\\n\",\"\").replace(\"\\\\t\",\"\").replace(\"\\\\\",\"\")\n",
    "#             split_context = context.split(\" \")\n",
    "#             if len(split_context) > 500:\n",
    "#                 for s in range(0,len(split_context),500):\n",
    "#                     context = \" \".join(split_context[s:s+500])\n",
    "#                     tempList.append(generate_questions(context))\n",
    "#                 questionList.append(tempList)\n",
    "#             else:\n",
    "#                 questionList.append(generate_questions(str(chunk)))\n",
    "#     return questionList"
   ]
  },
  {
   "cell_type": "code",
   "execution_count": 11,
   "id": "c079d284-4adb-44c7-8f6e-f54b8078eebb",
   "metadata": {},
   "outputs": [],
   "source": [
    "def get_all_files():\n",
    "    # Get the list of all files and directories\n",
    "    path = \"../Data/GraphAgent/cleaned_data/\"\n",
    "    dir_list = os.listdir(path)\n",
    "    # prints all files\n",
    "    return dir_list\n",
    "files = get_all_files()"
   ]
  },
  {
   "cell_type": "code",
   "execution_count": 12,
   "id": "0ae5dcce-44ca-4d6c-bc99-ffd19d2caefc",
   "metadata": {},
   "outputs": [],
   "source": [
    "files = [int(i.split(\".\")[0]) for i in files]\n",
    "files.sort()"
   ]
  },
  {
   "cell_type": "code",
   "execution_count": null,
   "id": "369336fc-0f27-4030-9161-e03a24cd46a1",
   "metadata": {},
   "outputs": [],
   "source": []
  },
  {
   "cell_type": "code",
   "execution_count": 14,
   "id": "43b2bbd8-ab1c-489e-bdba-8b896b7af2fa",
   "metadata": {
    "scrolled": true
   },
   "outputs": [
    {
     "name": "stderr",
     "output_type": "stream",
     "text": [
      "100%|██████████| 50/50 [01:58<00:00,  2.38s/it]\n",
      "100%|██████████| 64/64 [02:21<00:00,  2.21s/it]\n",
      "  3%|▎         | 2/68 [00:05<03:10,  2.89s/it]ERROR:root:KeyboardInterrupt while sending command.\n",
      "Traceback (most recent call last):\n",
      "  File \"C:\\Users\\Akshay\\anaconda3\\envs\\tf\\lib\\site-packages\\py4j\\java_gateway.py\", line 1038, in send_command\n",
      "    response = connection.send_command(command)\n",
      "  File \"C:\\Users\\Akshay\\anaconda3\\envs\\tf\\lib\\site-packages\\py4j\\clientserver.py\", line 511, in send_command\n",
      "    answer = smart_decode(self.stream.readline()[:-1])\n",
      "  File \"C:\\Users\\Akshay\\anaconda3\\envs\\tf\\lib\\socket.py\", line 704, in readinto\n",
      "    return self._sock.recv_into(b)\n",
      "KeyboardInterrupt\n",
      "  3%|▎         | 2/68 [00:09<05:14,  4.77s/it]\n"
     ]
    },
    {
     "ename": "KeyboardInterrupt",
     "evalue": "",
     "output_type": "error",
     "traceback": [
      "\u001b[1;31m---------------------------------------------------------------------------\u001b[0m",
      "\u001b[1;31mKeyboardInterrupt\u001b[0m                         Traceback (most recent call last)",
      "Cell \u001b[1;32mIn[14], line 8\u001b[0m\n\u001b[0;32m      6\u001b[0m \u001b[38;5;28;01mtry\u001b[39;00m:\n\u001b[0;32m      7\u001b[0m     link \u001b[38;5;241m=\u001b[39m row_iter[\u001b[38;5;241m1\u001b[39m]\n\u001b[1;32m----> 8\u001b[0m     df,num_of_loops \u001b[38;5;241m=\u001b[39m \u001b[43mdata_transformation_pyspark\u001b[49m\u001b[43m(\u001b[49m\u001b[43mrow_iter\u001b[49m\u001b[43m)\u001b[49m\n\u001b[0;32m      9\u001b[0m     \u001b[38;5;28;01mif\u001b[39;00m \u001b[38;5;28mlen\u001b[39m(df)\u001b[38;5;241m<\u001b[39m\u001b[38;5;241m=\u001b[39m\u001b[38;5;241m5\u001b[39m:\n\u001b[0;32m     10\u001b[0m         \u001b[38;5;28;01mcontinue\u001b[39;00m\n",
      "Cell \u001b[1;32mIn[5], line 37\u001b[0m, in \u001b[0;36mdata_transformation_pyspark\u001b[1;34m(row_iter)\u001b[0m\n\u001b[0;32m     35\u001b[0m \u001b[38;5;28;01mif\u001b[39;00m num_of_loops \u001b[38;5;241m>\u001b[39m \u001b[38;5;241m2\u001b[39m:\n\u001b[0;32m     36\u001b[0m     joined_data \u001b[38;5;241m=\u001b[39m joined_data\u001b[38;5;241m.\u001b[39mwhere(F\u001b[38;5;241m.\u001b[39mcol(\u001b[38;5;124m\"\u001b[39m\u001b[38;5;124m3\u001b[39m\u001b[38;5;124m\"\u001b[39m)\u001b[38;5;241m!=\u001b[39m\u001b[38;5;124m'\u001b[39m\u001b[38;5;124mNULL\u001b[39m\u001b[38;5;124m'\u001b[39m)\n\u001b[1;32m---> 37\u001b[0m     df \u001b[38;5;241m=\u001b[39m \u001b[43mjoined_data\u001b[49m\u001b[38;5;241;43m.\u001b[39;49m\u001b[43mtoPandas\u001b[49m\u001b[43m(\u001b[49m\u001b[43m)\u001b[49m\n\u001b[0;32m     38\u001b[0m     \u001b[38;5;28;01mreturn\u001b[39;00m df,num_of_loops\n\u001b[0;32m     39\u001b[0m \u001b[38;5;28;01melse\u001b[39;00m:\n",
      "File \u001b[1;32m~\\anaconda3\\envs\\tf\\lib\\site-packages\\pyspark\\sql\\pandas\\conversion.py:202\u001b[0m, in \u001b[0;36mPandasConversionMixin.toPandas\u001b[1;34m(self)\u001b[0m\n\u001b[0;32m    199\u001b[0m             \u001b[38;5;28;01mraise\u001b[39;00m\n\u001b[0;32m    201\u001b[0m \u001b[38;5;66;03m# Below is toPandas without Arrow optimization.\u001b[39;00m\n\u001b[1;32m--> 202\u001b[0m rows \u001b[38;5;241m=\u001b[39m \u001b[38;5;28;43mself\u001b[39;49m\u001b[38;5;241;43m.\u001b[39;49m\u001b[43mcollect\u001b[49m\u001b[43m(\u001b[49m\u001b[43m)\u001b[49m\n\u001b[0;32m    203\u001b[0m \u001b[38;5;28;01mif\u001b[39;00m \u001b[38;5;28mlen\u001b[39m(rows) \u001b[38;5;241m>\u001b[39m \u001b[38;5;241m0\u001b[39m:\n\u001b[0;32m    204\u001b[0m     pdf \u001b[38;5;241m=\u001b[39m pd\u001b[38;5;241m.\u001b[39mDataFrame\u001b[38;5;241m.\u001b[39mfrom_records(\n\u001b[0;32m    205\u001b[0m         rows, index\u001b[38;5;241m=\u001b[39m\u001b[38;5;28mrange\u001b[39m(\u001b[38;5;28mlen\u001b[39m(rows)), columns\u001b[38;5;241m=\u001b[39m\u001b[38;5;28mself\u001b[39m\u001b[38;5;241m.\u001b[39mcolumns  \u001b[38;5;66;03m# type: ignore[arg-type]\u001b[39;00m\n\u001b[0;32m    206\u001b[0m     )\n",
      "File \u001b[1;32m~\\anaconda3\\envs\\tf\\lib\\site-packages\\pyspark\\sql\\dataframe.py:1263\u001b[0m, in \u001b[0;36mDataFrame.collect\u001b[1;34m(self)\u001b[0m\n\u001b[0;32m   1243\u001b[0m \u001b[38;5;250m\u001b[39m\u001b[38;5;124;03m\"\"\"Returns all the records as a list of :class:`Row`.\u001b[39;00m\n\u001b[0;32m   1244\u001b[0m \n\u001b[0;32m   1245\u001b[0m \u001b[38;5;124;03m.. versionadded:: 1.3.0\u001b[39;00m\n\u001b[1;32m   (...)\u001b[0m\n\u001b[0;32m   1260\u001b[0m \u001b[38;5;124;03m[Row(age=14, name='Tom'), Row(age=23, name='Alice'), Row(age=16, name='Bob')]\u001b[39;00m\n\u001b[0;32m   1261\u001b[0m \u001b[38;5;124;03m\"\"\"\u001b[39;00m\n\u001b[0;32m   1262\u001b[0m \u001b[38;5;28;01mwith\u001b[39;00m SCCallSiteSync(\u001b[38;5;28mself\u001b[39m\u001b[38;5;241m.\u001b[39m_sc):\n\u001b[1;32m-> 1263\u001b[0m     sock_info \u001b[38;5;241m=\u001b[39m \u001b[38;5;28;43mself\u001b[39;49m\u001b[38;5;241;43m.\u001b[39;49m\u001b[43m_jdf\u001b[49m\u001b[38;5;241;43m.\u001b[39;49m\u001b[43mcollectToPython\u001b[49m\u001b[43m(\u001b[49m\u001b[43m)\u001b[49m\n\u001b[0;32m   1264\u001b[0m \u001b[38;5;28;01mreturn\u001b[39;00m \u001b[38;5;28mlist\u001b[39m(_load_from_socket(sock_info, BatchedSerializer(CPickleSerializer())))\n",
      "File \u001b[1;32m~\\anaconda3\\envs\\tf\\lib\\site-packages\\py4j\\java_gateway.py:1321\u001b[0m, in \u001b[0;36mJavaMember.__call__\u001b[1;34m(self, *args)\u001b[0m\n\u001b[0;32m   1314\u001b[0m args_command, temp_args \u001b[38;5;241m=\u001b[39m \u001b[38;5;28mself\u001b[39m\u001b[38;5;241m.\u001b[39m_build_args(\u001b[38;5;241m*\u001b[39margs)\n\u001b[0;32m   1316\u001b[0m command \u001b[38;5;241m=\u001b[39m proto\u001b[38;5;241m.\u001b[39mCALL_COMMAND_NAME \u001b[38;5;241m+\u001b[39m\\\n\u001b[0;32m   1317\u001b[0m     \u001b[38;5;28mself\u001b[39m\u001b[38;5;241m.\u001b[39mcommand_header \u001b[38;5;241m+\u001b[39m\\\n\u001b[0;32m   1318\u001b[0m     args_command \u001b[38;5;241m+\u001b[39m\\\n\u001b[0;32m   1319\u001b[0m     proto\u001b[38;5;241m.\u001b[39mEND_COMMAND_PART\n\u001b[1;32m-> 1321\u001b[0m answer \u001b[38;5;241m=\u001b[39m \u001b[38;5;28;43mself\u001b[39;49m\u001b[38;5;241;43m.\u001b[39;49m\u001b[43mgateway_client\u001b[49m\u001b[38;5;241;43m.\u001b[39;49m\u001b[43msend_command\u001b[49m\u001b[43m(\u001b[49m\u001b[43mcommand\u001b[49m\u001b[43m)\u001b[49m\n\u001b[0;32m   1322\u001b[0m return_value \u001b[38;5;241m=\u001b[39m get_return_value(\n\u001b[0;32m   1323\u001b[0m     answer, \u001b[38;5;28mself\u001b[39m\u001b[38;5;241m.\u001b[39mgateway_client, \u001b[38;5;28mself\u001b[39m\u001b[38;5;241m.\u001b[39mtarget_id, \u001b[38;5;28mself\u001b[39m\u001b[38;5;241m.\u001b[39mname)\n\u001b[0;32m   1325\u001b[0m \u001b[38;5;28;01mfor\u001b[39;00m temp_arg \u001b[38;5;129;01min\u001b[39;00m temp_args:\n",
      "File \u001b[1;32m~\\anaconda3\\envs\\tf\\lib\\site-packages\\py4j\\java_gateway.py:1038\u001b[0m, in \u001b[0;36mGatewayClient.send_command\u001b[1;34m(self, command, retry, binary)\u001b[0m\n\u001b[0;32m   1036\u001b[0m connection \u001b[38;5;241m=\u001b[39m \u001b[38;5;28mself\u001b[39m\u001b[38;5;241m.\u001b[39m_get_connection()\n\u001b[0;32m   1037\u001b[0m \u001b[38;5;28;01mtry\u001b[39;00m:\n\u001b[1;32m-> 1038\u001b[0m     response \u001b[38;5;241m=\u001b[39m \u001b[43mconnection\u001b[49m\u001b[38;5;241;43m.\u001b[39;49m\u001b[43msend_command\u001b[49m\u001b[43m(\u001b[49m\u001b[43mcommand\u001b[49m\u001b[43m)\u001b[49m\n\u001b[0;32m   1039\u001b[0m     \u001b[38;5;28;01mif\u001b[39;00m binary:\n\u001b[0;32m   1040\u001b[0m         \u001b[38;5;28;01mreturn\u001b[39;00m response, \u001b[38;5;28mself\u001b[39m\u001b[38;5;241m.\u001b[39m_create_connection_guard(connection)\n",
      "File \u001b[1;32m~\\anaconda3\\envs\\tf\\lib\\site-packages\\py4j\\clientserver.py:511\u001b[0m, in \u001b[0;36mClientServerConnection.send_command\u001b[1;34m(self, command)\u001b[0m\n\u001b[0;32m    509\u001b[0m \u001b[38;5;28;01mtry\u001b[39;00m:\n\u001b[0;32m    510\u001b[0m     \u001b[38;5;28;01mwhile\u001b[39;00m \u001b[38;5;28;01mTrue\u001b[39;00m:\n\u001b[1;32m--> 511\u001b[0m         answer \u001b[38;5;241m=\u001b[39m smart_decode(\u001b[38;5;28;43mself\u001b[39;49m\u001b[38;5;241;43m.\u001b[39;49m\u001b[43mstream\u001b[49m\u001b[38;5;241;43m.\u001b[39;49m\u001b[43mreadline\u001b[49m\u001b[43m(\u001b[49m\u001b[43m)\u001b[49m[:\u001b[38;5;241m-\u001b[39m\u001b[38;5;241m1\u001b[39m])\n\u001b[0;32m    512\u001b[0m         logger\u001b[38;5;241m.\u001b[39mdebug(\u001b[38;5;124m\"\u001b[39m\u001b[38;5;124mAnswer received: \u001b[39m\u001b[38;5;132;01m{0}\u001b[39;00m\u001b[38;5;124m\"\u001b[39m\u001b[38;5;241m.\u001b[39mformat(answer))\n\u001b[0;32m    513\u001b[0m         \u001b[38;5;66;03m# Happens when a the other end is dead. There might be an empty\u001b[39;00m\n\u001b[0;32m    514\u001b[0m         \u001b[38;5;66;03m# answer before the socket raises an error.\u001b[39;00m\n",
      "File \u001b[1;32m~\\anaconda3\\envs\\tf\\lib\\socket.py:704\u001b[0m, in \u001b[0;36mSocketIO.readinto\u001b[1;34m(self, b)\u001b[0m\n\u001b[0;32m    702\u001b[0m \u001b[38;5;28;01mwhile\u001b[39;00m \u001b[38;5;28;01mTrue\u001b[39;00m:\n\u001b[0;32m    703\u001b[0m     \u001b[38;5;28;01mtry\u001b[39;00m:\n\u001b[1;32m--> 704\u001b[0m         \u001b[38;5;28;01mreturn\u001b[39;00m \u001b[38;5;28;43mself\u001b[39;49m\u001b[38;5;241;43m.\u001b[39;49m\u001b[43m_sock\u001b[49m\u001b[38;5;241;43m.\u001b[39;49m\u001b[43mrecv_into\u001b[49m\u001b[43m(\u001b[49m\u001b[43mb\u001b[49m\u001b[43m)\u001b[49m\n\u001b[0;32m    705\u001b[0m     \u001b[38;5;28;01mexcept\u001b[39;00m timeout:\n\u001b[0;32m    706\u001b[0m         \u001b[38;5;28mself\u001b[39m\u001b[38;5;241m.\u001b[39m_timeout_occurred \u001b[38;5;241m=\u001b[39m \u001b[38;5;28;01mTrue\u001b[39;00m\n",
      "\u001b[1;31mKeyboardInterrupt\u001b[0m: "
     ]
    }
   ],
   "source": [
    "for file in files[391:]:\n",
    "    data = spark.read.csv('../Data/GraphAgent/cleaned_data/{}.tsv'.format(str(file)),sep='\\t',header=True)\n",
    "    all_rows = data.collect()\n",
    "    training_data_df = pd.DataFrame()\n",
    "    for row_iter in tqdm(all_rows):\n",
    "        try:\n",
    "            link = row_iter[1]\n",
    "            df,num_of_loops = data_transformation_pyspark(row_iter)\n",
    "            if len(df)<=5:\n",
    "                continue\n",
    "            new_dict,parent_node,unique_keys = dataframe_to_dict(df,num_of_loops)\n",
    "            unique_keys = [i for i in unique_keys if len(i.split(\" \")) < 30]\n",
    "            filter_dict = get_network_graph(parent_node,unique_keys)\n",
    "            network_str = str(filter_dict).replace(\"{}\",\"\").replace(\"'\",\"\").replace(\"\\\\n\",\"\").replace(\"\\\\\",\"\")\n",
    "            training_data = {\"path\":[],\"chunk\":[]}\n",
    "            training_data = get_values(new_dict[parent_node],\"\",training_data)\n",
    "            df = pd.DataFrame.from_dict(training_data)\n",
    "            df[\"path\"] = parent_node+df[\"path\"]\n",
    "            df[\"network\"] = [network_str]*len(df[\"path\"])\n",
    "            df[\"source\"] = [link]*len(df[\"path\"])\n",
    "            # questionList = collect_questions(df[\"chunk\"].tolist())\n",
    "            # df[\"questions\"] = questionList\n",
    "            training_data_df = training_data_df._append(df)\n",
    "        except Exception as e:\n",
    "            continue\n",
    "    training_data_df = training_data_df.explode('chunk')\n",
    "    training_data[\"chunk\"] = [str(i) for i in list(training_data[\"chunk\"])]\n",
    "    training_data_df.to_csv(\"../Data/GraphAgent/training_data/{}.tsv\".format(str(file)),sep='\\t', index=False)"
   ]
  },
  {
   "cell_type": "code",
   "execution_count": 28,
   "id": "e554faec-186c-436a-bef7-1cd1ef8ac647",
   "metadata": {},
   "outputs": [],
   "source": [
    "df = pd.read_csv(\"../Data/GraphAgent/final.tsv\",sep='\\t')"
   ]
  },
  {
   "cell_type": "code",
   "execution_count": 29,
   "id": "56abdaaf-05e4-4465-a98b-08d142952099",
   "metadata": {},
   "outputs": [
    {
     "data": {
      "text/html": [
       "<div>\n",
       "<style scoped>\n",
       "    .dataframe tbody tr th:only-of-type {\n",
       "        vertical-align: middle;\n",
       "    }\n",
       "\n",
       "    .dataframe tbody tr th {\n",
       "        vertical-align: top;\n",
       "    }\n",
       "\n",
       "    .dataframe thead th {\n",
       "        text-align: right;\n",
       "    }\n",
       "</style>\n",
       "<table border=\"1\" class=\"dataframe\">\n",
       "  <thead>\n",
       "    <tr style=\"text-align: right;\">\n",
       "      <th></th>\n",
       "      <th>index</th>\n",
       "      <th>path</th>\n",
       "      <th>chunk</th>\n",
       "      <th>network</th>\n",
       "      <th>source</th>\n",
       "      <th>questions</th>\n",
       "    </tr>\n",
       "  </thead>\n",
       "  <tbody>\n",
       "    <tr>\n",
       "      <th>0</th>\n",
       "      <td>0</td>\n",
       "      <td>Machine learning-&gt;History</td>\n",
       "      <td>The term machine learning was coined in 1959 b...</td>\n",
       "      <td>{Machine learning: {History: , Relationships t...</td>\n",
       "      <td>https://en.wikipedia.org/wiki/machine_learning</td>\n",
       "      <td>What is the significance of the term machine l...</td>\n",
       "    </tr>\n",
       "    <tr>\n",
       "      <th>1</th>\n",
       "      <td>0</td>\n",
       "      <td>Machine learning-&gt;History</td>\n",
       "      <td>The term machine learning was coined in 1959 b...</td>\n",
       "      <td>{Machine learning: {History: , Relationships t...</td>\n",
       "      <td>https://en.wikipedia.org/wiki/machine_learning</td>\n",
       "      <td>How does the use of the synonym self-teaching...</td>\n",
       "    </tr>\n",
       "    <tr>\n",
       "      <th>2</th>\n",
       "      <td>0</td>\n",
       "      <td>Machine learning-&gt;History</td>\n",
       "      <td>The term machine learning was coined in 1959 b...</td>\n",
       "      <td>{Machine learning: {History: , Relationships t...</td>\n",
       "      <td>https://en.wikipedia.org/wiki/machine_learning</td>\n",
       "      <td>What is meant bymachine learning in the docum...</td>\n",
       "    </tr>\n",
       "    <tr>\n",
       "      <th>3</th>\n",
       "      <td>0</td>\n",
       "      <td>Machine learning-&gt;History</td>\n",
       "      <td>The term machine learning was coined in 1959 b...</td>\n",
       "      <td>{Machine learning: {History: , Relationships t...</td>\n",
       "      <td>https://en.wikipedia.org/wiki/machine_learning</td>\n",
       "      <td>Who is Arthur Samuel, and what is his role in...</td>\n",
       "    </tr>\n",
       "    <tr>\n",
       "      <th>4</th>\n",
       "      <td>1</td>\n",
       "      <td>Machine learning-&gt;History</td>\n",
       "      <td>Tom M. Mitchell provided a widely quoted, more...</td>\n",
       "      <td>{Machine learning: {History: , Relationships t...</td>\n",
       "      <td>https://en.wikipedia.org/wiki/machine_learning</td>\n",
       "      <td>What if the definition of machine learning wer...</td>\n",
       "    </tr>\n",
       "  </tbody>\n",
       "</table>\n",
       "</div>"
      ],
      "text/plain": [
       "   index                       path  \\\n",
       "0      0  Machine learning->History   \n",
       "1      0  Machine learning->History   \n",
       "2      0  Machine learning->History   \n",
       "3      0  Machine learning->History   \n",
       "4      1  Machine learning->History   \n",
       "\n",
       "                                               chunk  \\\n",
       "0  The term machine learning was coined in 1959 b...   \n",
       "1  The term machine learning was coined in 1959 b...   \n",
       "2  The term machine learning was coined in 1959 b...   \n",
       "3  The term machine learning was coined in 1959 b...   \n",
       "4  Tom M. Mitchell provided a widely quoted, more...   \n",
       "\n",
       "                                             network  \\\n",
       "0  {Machine learning: {History: , Relationships t...   \n",
       "1  {Machine learning: {History: , Relationships t...   \n",
       "2  {Machine learning: {History: , Relationships t...   \n",
       "3  {Machine learning: {History: , Relationships t...   \n",
       "4  {Machine learning: {History: , Relationships t...   \n",
       "\n",
       "                                           source  \\\n",
       "0  https://en.wikipedia.org/wiki/machine_learning   \n",
       "1  https://en.wikipedia.org/wiki/machine_learning   \n",
       "2  https://en.wikipedia.org/wiki/machine_learning   \n",
       "3  https://en.wikipedia.org/wiki/machine_learning   \n",
       "4  https://en.wikipedia.org/wiki/machine_learning   \n",
       "\n",
       "                                           questions  \n",
       "0  What is the significance of the term machine l...  \n",
       "1   How does the use of the synonym self-teaching...  \n",
       "2   What is meant bymachine learning in the docum...  \n",
       "3   Who is Arthur Samuel, and what is his role in...  \n",
       "4  What if the definition of machine learning wer...  "
      ]
     },
     "execution_count": 29,
     "metadata": {},
     "output_type": "execute_result"
    }
   ],
   "source": [
    "df.head()"
   ]
  },
  {
   "cell_type": "code",
   "execution_count": 30,
   "id": "8d4a462a-1a3d-4bf5-8476-2f9d03aa8dc4",
   "metadata": {},
   "outputs": [],
   "source": [
    "df[\"network\"] = \"<question>\" + df[\"questions\"]+ \"<network>\" + df[\"network\"]"
   ]
  },
  {
   "cell_type": "code",
   "execution_count": 31,
   "id": "ea4884fe-e524-49a3-8241-551cef059942",
   "metadata": {},
   "outputs": [
    {
     "data": {
      "text/plain": [
       "'<question>What is the significance of the term machine learning in the context of computer gaming and artificial intelligence?<network>{Machine learning: {History: , Relationships to other fields: {Artificial intelligence: , Data compression: , Data mining: , Generalization: , Statistics: , Statistical physics: },  Theory: , Approaches: {Machine learning approaches are traditionally divided into three broad categories, which correspond to learning paradigms, depending on the nature of the \"\"signal\"\" or \"\"feedback\"\" available to the learning system:: , Supervised learning: , Unsupervised learning: , Semi-supervised learning: , Reinforcement learning: , Dimensionality reduction: , Other types: {Self-learning: , Feature learning: , Sparse dictionary learning: , Anomaly detection: , Robot learning: , Association rules: }}, Models: {Artificial neural networks: , Regression analysis: , Bayesian networks: , Gaussian processes: , Genetic algorithms: }, There are many applications for machine learning, including:: , Limitations: {Bias: , Explainability: , Overfitting: , Other limitations and vulnerabilities: }, Model assessments: , Ethics: , Neuromorphic computing: {physical neural networks: }, Embedded machine learning: , Software: {Free and open-source software: , Proprietary software with free and open-source editions: , Proprietary software: }, Journals: , Conferences: }}'"
      ]
     },
     "execution_count": 31,
     "metadata": {},
     "output_type": "execute_result"
    }
   ],
   "source": [
    "df[\"network\"][0]"
   ]
  },
  {
   "cell_type": "code",
   "execution_count": 17,
   "id": "a2359be0-639e-4d87-93d3-f1c0910a7798",
   "metadata": {},
   "outputs": [],
   "source": [
    "average_length_network = [len(i.replace(\":\",\"\").split(\" \")) for i in list(df[\"network\"])]"
   ]
  },
  {
   "cell_type": "code",
   "execution_count": 20,
   "id": "e8a6ef34-53d6-4412-96b9-d1a92e6f8b8f",
   "metadata": {},
   "outputs": [],
   "source": [
    "df[\"length_network\"] = average_length_network"
   ]
  },
  {
   "cell_type": "code",
   "execution_count": null,
   "id": "7e95575b-b194-4850-9f04-3b91f858aadf",
   "metadata": {},
   "outputs": [],
   "source": []
  },
  {
   "cell_type": "code",
   "execution_count": 22,
   "id": "5c9e1f9f-5527-40fe-b89c-02eb722a3715",
   "metadata": {},
   "outputs": [],
   "source": [
    "df = df[df[\"length_network\"] < 1024]"
   ]
  },
  {
   "cell_type": "code",
   "execution_count": 24,
   "id": "98fac922-70f0-4aa7-a3ce-5457003b1b97",
   "metadata": {},
   "outputs": [
    {
     "data": {
      "text/plain": [
       "1183351"
      ]
     },
     "execution_count": 24,
     "metadata": {},
     "output_type": "execute_result"
    }
   ],
   "source": [
    "len(df)"
   ]
  },
  {
   "cell_type": "code",
   "execution_count": 23,
   "id": "128b4289-9cf4-430f-92c9-29d57b9769c9",
   "metadata": {},
   "outputs": [
    {
     "data": {
      "text/plain": [
       "[<matplotlib.lines.Line2D at 0x19da122af40>]"
      ]
     },
     "execution_count": 23,
     "metadata": {},
     "output_type": "execute_result"
    },
    {
     "data": {
      "image/png": "[encoded data removed]",
      "text/plain": [
       "<Figure size 640x480 with 1 Axes>"
      ]
     },
     "metadata": {},
     "output_type": "display_data"
    }
   ],
   "source": [
    "import matplotlib.pyplot as plt\n",
    "plt.plot(df[\"length_network\"])"
   ]
  },
  {
   "cell_type": "code",
   "execution_count": null,
   "id": "0e3cde2a-5c7f-48b3-b1d2-e679e5ce10e4",
   "metadata": {},
   "outputs": [],
   "source": []
  }
 ],
 "metadata": {
  "kernelspec": {
   "display_name": "Python 3 (ipykernel)",
   "language": "python",
   "name": "python3"
  },
  "language_info": {
   "codemirror_mode": {
    "name": "ipython",
    "version": 3
   },
   "file_extension": ".py",
   "mimetype": "text/x-python",
   "name": "python",
   "nbconvert_exporter": "python",
   "pygments_lexer": "ipython3",
   "version": "3.9.19"
  }
 },
 "nbformat": 4,
 "nbformat_minor": 5
}
