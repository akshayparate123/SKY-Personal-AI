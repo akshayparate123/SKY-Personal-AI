{
 "cells": [
  {
   "cell_type": "code",
   "execution_count": 2,
   "id": "70b22e3c-917f-4898-9e98-3093bbcd3c47",
   "metadata": {},
   "outputs": [
    {
     "name": "stderr",
     "output_type": "stream",
     "text": [
      "C:\\Users\\Akshay\\anaconda3\\envs\\tf\\lib\\site-packages\\tqdm\\auto.py:21: TqdmWarning: IProgress not found. Please update jupyter and ipywidgets. See https://ipywidgets.readthedocs.io/en/stable/user_install.html\n",
      "  from .autonotebook import tqdm as notebook_tqdm\n"
     ]
    }
   ],
   "source": [
    "from datasets import load_dataset\n",
    "import warnings\n",
    "import pandas as pd\n",
    "import numpy as np\n",
    "import matplotlib.pyplot as plt\n",
    "from transformers import BartForConditionalGeneration, BartTokenizer, Trainer, TrainingArguments, DataCollatorForSeq2Seq\n",
    "from sklearn.model_selection import train_test_split\n",
    "warnings.filterwarnings(\"ignore\")"
   ]
  },
  {
   "cell_type": "code",
   "execution_count": null,
   "id": "37cc35be-ccea-4ac5-b126-19fca55cdd04",
   "metadata": {},
   "outputs": [],
   "source": []
  },
  {
   "cell_type": "markdown",
   "id": "7ca03017-0fc8-44c8-bbc6-112c22f0d4e5",
   "metadata": {},
   "source": [
    "### Rephrased Sentence"
   ]
  },
  {
   "cell_type": "code",
   "execution_count": 2,
   "id": "c959a0d8-c4ec-441d-8190-806e7586376f",
   "metadata": {},
   "outputs": [],
   "source": [
    "rephrased = [\"Could you provide a summary of this {paragraph/document/article} in {short/brief/detail}?\",\n",
    "\"Can you give me a brief overview of this {paragraph/document/article}?\",\n",
    "\"Would you mind summarizing this {paragraph/document/article} in {short/brief/detail}?\",\n",
    "\"Can you offer a concise summary of this {paragraph/document/article}?\",\n",
    "\"Please summarize this {paragraph/document/article} in {short/brief/detail}.\",\n",
    "\"Can you condense this {paragraph/document/article} into a {short/brief/detail} summary?\",\n",
    "\"Could you sum up this {paragraph/document/article} for me in {short/brief/detail}?\",\n",
    "\"Can you outline this {paragraph/document/article} in {short/brief/detail}?\",\n",
    "\"Would you summarize this {paragraph/document/article} in {short/brief/detail} for me?\",\n",
    "\"Can you provide a brief synopsis of this {paragraph/document/article}?\",\n",
    "\"Could you summarize the key points of this {paragraph/document/article} in {short/brief/detail}?\",\n",
    "\"Can you give a short summary of this {paragraph/document/article}?\",\n",
    "\"Please provide a brief summary of this {paragraph/document/article}.\",\n",
    "\"Can you summarize this {paragraph/document/article} in {short/brief/detail} for me?\",\n",
    "\"Could you offer a detailed summary of this {paragraph/document/article}?\",\n",
    "\"Would you give me a quick summary of this {paragraph/document/article}?\",\n",
    "\"Can you briefly summarize this {paragraph/document/article} for me?\",\n",
    "\"Could you provide a concise summary of this {paragraph/document/article}?\",\n",
    "\"Can you write a summary of this {paragraph/document/article} in {short/brief/detail}?\",\n",
    "\"Would you mind providing a summary of this {paragraph/document/article} in {short/brief/detail}?\",\n",
    "\"Can you sum up the main points of this {paragraph/document/article}?\",\n",
    "\"Could you give an overview of this {paragraph/document/article} in {short/brief/detail}?\",\n",
    "\"Please summarize the content of this {paragraph/document/article} in {short/brief/detail}.\",\n",
    "\"Can you offer a brief summary of this {paragraph/document/article}?\",\n",
    "\"Could you outline the key points of this {paragraph/document/article} in {short/brief/detail}?\",\n",
    "\"Would you mind giving a short summary of this {paragraph/document/article}?\",\n",
    "\"Can you summarize the main ideas of this {paragraph/document/article} in {short/brief/detail}?\",\n",
    "\"Could you provide an outline of this {paragraph/document/article} in {short/brief/detail}?\",\n",
    "\"Please condense this {paragraph/document/article} into a {short/brief/detail} summary.\",\n",
    "\"Can you give me a quick overview of this {paragraph/document/article}?\",\n",
    "\"Could you provide a brief overview of this {paragraph/document/article} in {short/brief/detail}?\",\n",
    "\"Would you summarize the content of this {paragraph/document/article} for me in {short/brief/detail}?\",\n",
    "\"Can you briefly outline this {paragraph/document/article} in {short/brief/detail}?\",\n",
    "\"Could you give a summary of this {paragraph/document/article} in {short/brief/detail}?\",\n",
    "\"Please provide an overview of this {paragraph/document/article} in {short/brief/detail}.\",\n",
    "\"Can you summarize the key ideas of this {paragraph/document/article} in {short/brief/detail}?\",\n",
    "\"Could you write a brief summary of this {paragraph/document/article} for me?\",\n",
    "\"Would you mind summarizing the key points of this {paragraph/document/article} in {short/brief/detail}?\",\n",
    "\"Can you give a brief synopsis of this {paragraph/document/article}?\",\n",
    "\"Could you sum up the main ideas of this {paragraph/document/article} in {short/brief/detail}?\",\n",
    "\"Please summarize the main points of this {paragraph/document/article} in {short/brief/detail}.\",\n",
    "\"Can you provide an overview of this {paragraph/document/article}?\",\n",
    "\"Could you offer a summary of this {paragraph/document/article} in {short/brief/detail}?\",\n",
    "\"Would you summarize this {paragraph/document/article} in {short/brief/detail}?\",\n",
    "\"Can you briefly summarize the main points of this {paragraph/document/article}?\",\n",
    "\"Could you condense this {paragraph/document/article} into a {short/brief/detail} summary for me?\",\n",
    "\"Please provide a brief synopsis of this {paragraph/document/article}.\",\n",
    "\"Can you summarize the key points of this {paragraph/document/article}?\",\n",
    "\"Could you offer a concise summary of this {paragraph/document/article}?\",\n",
    "\"Would you mind giving a quick summary of this {paragraph/document/article}?\",\n",
    "\"Can you give a detailed summary of this {paragraph/document/article}?\",\n",
    "\"Could you provide a quick overview of this {paragraph/document/article}?\",\n",
    "\"Please summarize the main ideas of this {paragraph/document/article} in {short/brief/detail}.\",\n",
    "\"Can you briefly summarize this {paragraph/document/article}?\",\n",
    "\"Could you sum up this {paragraph/document/article} in {short/brief/detail} for me?\",\n",
    "\"Would you provide an outline of this {paragraph/document/article}?\",\n",
    "\"Can you summarize the content of this {paragraph/document/article}?\",\n",
    "\"Could you offer an overview of this {paragraph/document/article} in {short/brief/detail}?\",\n",
    "\"Please give a brief summary of this {paragraph/document/article}.\",\n",
    "\"Can you write a concise summary of this {paragraph/document/article}?\",\n",
    "\"Could you summarize this {paragraph/document/article} for me in {short/brief/detail}?\",\n",
    "\"Would you mind providing an overview of this {paragraph/document/article} in {short/brief/detail}?\",\n",
    "\"Can you briefly summarize the key points of this {paragraph/document/article}?\",\n",
    "\"Could you offer a detailed summary of this {paragraph/document/article}?\",\n",
    "\"Please provide a quick summary of this {paragraph/document/article}.\",\n",
    "\"Can you summarize the main points of this {paragraph/document/article}?\",\n",
    "\"Could you give an overview of this {paragraph/document/article}?\",\n",
    "\"Would you summarize this {paragraph/document/article} for me?\",\n",
    "\"Can you briefly summarize the content of this {paragraph/document/article}?\",\n",
    "\"Could you sum up the key ideas of this {paragraph/document/article} in {short/brief/detail}?\",\n",
    "\"Please provide an outline of this {paragraph/document/article} in {short/brief/detail}.\",\n",
    "\"Can you summarize the key points of this {paragraph/document/article} in {short/brief/detail}?\",\n",
    "\"Could you offer a concise summary of this {paragraph/document/article} for me?\",\n",
    "\"Would you mind giving an overview of this {paragraph/document/article} in {short/brief/detail}?\",\n",
    "\"Can you briefly outline the main points of this {paragraph/document/article}?\",\n",
    "\"Could you provide a summary of the content of this {paragraph/document/article} in {short/brief/detail}?\",\n",
    "\"Please give a concise summary of this {paragraph/document/article}.\",\n",
    "\"Can you summarize this {paragraph/document/article} in {short/brief/detail}?\",\n",
    "\"Could you offer an overview of this {paragraph/document/article} for me?\",\n",
    "\"Would you mind summarizing the main ideas of this {paragraph/document/article}?\",\n",
    "\"Can you briefly summarize the key points of this {paragraph/document/article} in {short/brief/detail}?\",\n",
    "\"Could you provide a detailed summary of this {paragraph/document/article} in {short/brief/detail}?\",\n",
    "\"Please sum up the content of this {paragraph/document/article}.\",\n",
    "\"Can you give a brief overview of this {paragraph/document/article} in {short/brief/detail}?\",\n",
    "\"Could you outline the main ideas of this {paragraph/document/article} in {short/brief/detail}?\",\n",
    "\"Would you summarize this {paragraph/document/article} in {short/brief/detail}?\",\n",
    "\"Can you provide a summary of the main points of this {paragraph/document/article}?\",\n",
    "\"Could you offer a summary of this {paragraph/document/article}?\",\n",
    "\"Please give a quick summary of this {paragraph/document/article}.\",\n",
    "\"Can you briefly outline this {paragraph/document/article} in {short/brief/detail}?\",\n",
    "\"Could you summarize the main ideas of this {paragraph/document/article}?\",\n",
    "\"Would you mind summarizing the key points of this {paragraph/document/article}?\",\n",
    "\"Can you offer a summary of the content of this {paragraph/document/article}?\",\n",
    "\"Could you give a brief overview of the main points of this {paragraph/document/article}?\",\n",
    "\"Please provide a concise summary of the key ideas in this {paragraph/document/article}.\",\n",
    "\"Can you give a quick overview of the main points of this {paragraph/document/article}?\",\n",
    "\"Could you offer a brief synopsis of this {paragraph/document/article}?\",\n",
    "\"Would you summarize the content of this {paragraph/document/article} in {short/brief/detail}?\",\n",
    "\"Can you condense this {paragraph/document/article} into a summary?\",\n",
    "\"Could you sum up the main points of this {paragraph/document/article} for me?\"]"
   ]
  },
  {
   "cell_type": "code",
   "execution_count": 3,
   "id": "d49fed33-4329-46c6-ba75-77a589450c3f",
   "metadata": {},
   "outputs": [],
   "source": [
    "option_1 = [\"depth\",\"full\",\"detail\"]\n",
    "option_2 = [\"short\",\"brief\"]\n",
    "option_3 = [\"paragraph\",\"document\",\"article\",\"essay\",\"book\",\"text\",\"file\"]\n",
    "option_4 = [\"paragraph\",\"document\",\"article\"]"
   ]
  },
  {
   "cell_type": "code",
   "execution_count": 4,
   "id": "cf2787d5-7bc2-4b76-98ba-bd94855ec981",
   "metadata": {},
   "outputs": [],
   "source": [
    "import random\n",
    "def random_option_generation(lst):\n",
    "    return random.choice(lst)\n",
    "    "
   ]
  },
  {
   "cell_type": "code",
   "execution_count": 5,
   "id": "7a5fbe7d-96c2-4ffc-af2d-c11f45ff5848",
   "metadata": {},
   "outputs": [],
   "source": [
    "random_phrase = random_option_generation(option_1)"
   ]
  },
  {
   "cell_type": "code",
   "execution_count": 6,
   "id": "64e901be-e137-4ba3-8288-2210cbaa1c0d",
   "metadata": {},
   "outputs": [
    {
     "data": {
      "text/plain": [
       "'detail'"
      ]
     },
     "execution_count": 6,
     "metadata": {},
     "output_type": "execute_result"
    }
   ],
   "source": [
    "random_phrase"
   ]
  },
  {
   "cell_type": "markdown",
   "id": "3a2306dc-0035-46c9-8ee9-e2038f9d34e8",
   "metadata": {},
   "source": [
    "### Dataset"
   ]
  },
  {
   "cell_type": "code",
   "execution_count": 7,
   "id": "701db9a4-db02-4cde-b7cf-745f17c146b3",
   "metadata": {},
   "outputs": [],
   "source": [
    "training_df = pd.DataFrame()\n",
    "testing_df = pd.DataFrame()\n",
    "validation_df = pd.DataFrame()"
   ]
  },
  {
   "cell_type": "code",
   "execution_count": 8,
   "id": "19d32365-477c-453f-8518-145bc8a8ce79",
   "metadata": {},
   "outputs": [],
   "source": [
    "ds = load_dataset(\"Daye34/student_feedback_pattern_recognition_large_summary\")\n",
    "agent_1_training = ds[\"train\"][\"feedback\"]\n",
    "agent_1_training = [i.replace(\"[\",\"\").replace(\"]\",\"\") for i in agent_1_training]\n",
    "agent_2_training = ds[\"train\"][\"summary\"]\n",
    "agent_1_testing = ds[\"test\"][\"feedback\"]\n",
    "agent_1_testing = [i.replace(\"[\",\"\").replace(\"]\",\"\") for i in agent_1_testing]\n",
    "agent_2_testing = ds[\"test\"][\"summary\"]\n",
    "agent_1_validation = ds[\"validation\"][\"feedback\"]\n",
    "agent_1_validation = [i.replace(\"[\",\"\").replace(\"]\",\"\") for i in agent_1_validation]\n",
    "agent_2_validation = ds[\"validation\"][\"summary\"]"
   ]
  },
  {
   "cell_type": "code",
   "execution_count": 9,
   "id": "df0ae2b0-e237-41aa-ac14-490159579702",
   "metadata": {},
   "outputs": [
    {
     "data": {
      "text/plain": [
       "DatasetDict({\n",
       "    train: Dataset({\n",
       "        features: ['id', 'student_name', 'feedback', 'type_of_feedback', 'feedback_source', 'summary'],\n",
       "        num_rows: 7000\n",
       "    })\n",
       "    validation: Dataset({\n",
       "        features: ['id', 'student_name', 'feedback', 'type_of_feedback', 'feedback_source', 'summary'],\n",
       "        num_rows: 1500\n",
       "    })\n",
       "    test: Dataset({\n",
       "        features: ['id', 'student_name', 'feedback', 'type_of_feedback', 'feedback_source', 'summary'],\n",
       "        num_rows: 1500\n",
       "    })\n",
       "})"
      ]
     },
     "execution_count": 9,
     "metadata": {},
     "output_type": "execute_result"
    }
   ],
   "source": [
    "ds"
   ]
  },
  {
   "cell_type": "code",
   "execution_count": 10,
   "id": "53721259-15eb-4a54-9258-1be445ef4f8c",
   "metadata": {},
   "outputs": [],
   "source": [
    "ds_2 = load_dataset(\"tau/multi_news\")\n",
    "agent_1_training.extend([i.replace(\"|||||\",\"\") for i in ds_2[\"train\"][\"document\"]])\n",
    "agent_1_testing.extend([i.replace(\"|||||\",\"\") for i in ds_2[\"test\"][\"document\"]])\n",
    "agent_1_validation.extend([i.replace(\"|||||\",\"\") for i in ds_2[\"validation\"][\"document\"]])\n",
    "agent_2_training.extend([i.replace(\"-\",\"\") for i in ds_2[\"train\"][\"summary\"]])\n",
    "agent_2_testing.extend([i.replace(\"-\",\"\") for i in ds_2[\"test\"][\"summary\"]])\n",
    "agent_2_validation.extend([i.replace(\"-\",\"\") for i in ds_2[\"validation\"][\"summary\"]])"
   ]
  },
  {
   "cell_type": "code",
   "execution_count": 11,
   "id": "c5837527-17af-4358-abc3-1f61447a60db",
   "metadata": {},
   "outputs": [
    {
     "data": {
      "text/plain": [
       "DatasetDict({\n",
       "    train: Dataset({\n",
       "        features: ['document', 'summary'],\n",
       "        num_rows: 44972\n",
       "    })\n",
       "    validation: Dataset({\n",
       "        features: ['document', 'summary'],\n",
       "        num_rows: 5622\n",
       "    })\n",
       "    test: Dataset({\n",
       "        features: ['document', 'summary'],\n",
       "        num_rows: 5622\n",
       "    })\n",
       "})"
      ]
     },
     "execution_count": 11,
     "metadata": {},
     "output_type": "execute_result"
    }
   ],
   "source": [
    "ds_2"
   ]
  },
  {
   "cell_type": "code",
   "execution_count": 12,
   "id": "07642892-a5f7-4d0d-890b-d9b5af658884",
   "metadata": {},
   "outputs": [],
   "source": [
    "ds_3 = load_dataset(\"EdinburghNLP/xsum\")\n",
    "agent_1_training.extend(ds_3[\"train\"][\"document\"])\n",
    "agent_1_testing.extend(ds_3[\"test\"][\"document\"])\n",
    "agent_1_validation.extend(ds_3[\"validation\"][\"document\"])\n",
    "agent_2_training.extend(ds_3[\"train\"][\"summary\"])\n",
    "agent_2_testing.extend(ds_3[\"test\"][\"summary\"])\n",
    "agent_2_validation.extend(ds_3[\"validation\"][\"summary\"])"
   ]
  },
  {
   "cell_type": "code",
   "execution_count": 13,
   "id": "9bd6c0e2-b41c-4cbd-bfb8-e090e2811162",
   "metadata": {},
   "outputs": [
    {
     "data": {
      "text/plain": [
       "DatasetDict({\n",
       "    train: Dataset({\n",
       "        features: ['document', 'summary', 'id'],\n",
       "        num_rows: 204045\n",
       "    })\n",
       "    validation: Dataset({\n",
       "        features: ['document', 'summary', 'id'],\n",
       "        num_rows: 11332\n",
       "    })\n",
       "    test: Dataset({\n",
       "        features: ['document', 'summary', 'id'],\n",
       "        num_rows: 11334\n",
       "    })\n",
       "})"
      ]
     },
     "execution_count": 13,
     "metadata": {},
     "output_type": "execute_result"
    }
   ],
   "source": [
    "ds_3"
   ]
  },
  {
   "cell_type": "code",
   "execution_count": null,
   "id": "f3d88ff2-9c51-4d6c-9237-752cdb9d7d18",
   "metadata": {},
   "outputs": [],
   "source": []
  },
  {
   "cell_type": "code",
   "execution_count": 14,
   "id": "21c7907f-c454-45d6-bdac-09f787c12834",
   "metadata": {},
   "outputs": [],
   "source": [
    "ds_4_train = pd.read_csv(\"../Data/Summary/News Text Summarization/cnn_dailymail/train.csv\")\n",
    "ds_4_test = pd.read_csv(\"../Data/Summary/News Text Summarization/cnn_dailymail/test.csv\")\n",
    "ds_4_validation = pd.read_csv(\"../Data/Summary/News Text Summarization/cnn_dailymail/validation.csv\")\n",
    "\n",
    "agent_1_training.extend(ds_4_train[\"article\"])\n",
    "agent_1_testing.extend(ds_4_test[\"article\"])\n",
    "agent_1_validation.extend(ds_4_validation[\"article\"])\n",
    "agent_2_training.extend(ds_4_train[\"highlights\"])\n",
    "agent_2_testing.extend(ds_4_test[\"highlights\"])\n",
    "agent_2_validation.extend(ds_4_validation[\"highlights\"])"
   ]
  },
  {
   "cell_type": "code",
   "execution_count": 3,
   "id": "5e50e861-a62e-461b-952d-173b0700bd72",
   "metadata": {},
   "outputs": [],
   "source": [
    "dS_5 = pd.read_csv(\"../Data/Summary/new summarization/data.csv\")"
   ]
  },
  {
   "cell_type": "code",
   "execution_count": 13,
   "id": "984a420d-1518-4e8c-bed7-674475215da7",
   "metadata": {},
   "outputs": [
    {
     "data": {
      "text/plain": [
       "\"An Australian father who is believed to have been brainwashed by the preachings of Islamic extremist Musa Cerantonio has joined the ranks of terror group Islamic State to fight in the Middle East. According to Twitter, Zia Abdul Haq's current location is in an IS-controlled area of Ash-Shaam, also known as Syria. Friends of the 33-year-old believed the man from Logan - south of Brisbane - was moving to Syria to look for a new wife after the breakdown of his marriage, but The Courier Mail has revealed Abdul Haq is in fact fighting with the extremist organisation. Scroll down for video . The friends of Zia Abdul Haq says the father-of-one, from Logan, is a 'good-hearted guy' Two of Australia's most notorious jihadists Khaled Sharrouf and Mohamed Elomar are part of the same group. Abdul Haq is one of the latest of three men who are believed to have joined IS, including Melbourne's Abu Khaled al-Cambodi and Mounir Raad. The 33-year-old's friends described him as a 'good-hearted guy' but had been 'brainwashed' by Cerantonio - who is believed to be an influential IS figure - after hearing the radical sheik speak in Brisbane two years ago. The 33-year-old's friends claim he was brainwashed by prominent IS supporter, Musa Cerantonio - a radical sheik . 'He wasn’t a bad guy but he fell off the rails and under the spell of the extremists,' friend Yehya El-Kholed told The Courier Mail. 'Sheik Cerantonio is a hypocrite because while he urges people to go to Syria, he won’t go himself.' Since he landed in Syria, Abdul Haq - who came to Australia in his 20s and took up a job as a finance officer - has been actively posting photos depicting life as a fighter for IS on the social media site. These include M16 training, jihadists playing violent video games and cooking up a shared meal. But like Sharrouf and Elomar, Abdul Haq - who has a young son - has used Twitter as platform to fire off threatening messages, including one to foreign forces to 'bring dead body bag for each of your soldiers'. Most recently, he took aim at the U.S. saying 'Send you (men) to fight us, your drones are useless on the ground'  and 'How come you fight #IS with your gays & lesbians army' on Saturday night. Abdul Haq has also hit back at media outlets circulating news about him. 'Many lies about me in Australian news. =/,' he tweeted within half an hour of reports emerging. Since arriving in Syria Abdul Haq has been posting photos on Twitter of what it is like being an IS fighter . Last month Musa Cerantonio was deported back to Australia from the Philippines after he was arrested after breaching the Philippines' immigration laws. Changing his name from Robert Edward, the 29-year-old was detained in the central Filipino city of Cebu where he was believed to have been hiding from Australian authorities, despite claiming on Twitter he had arrived in the Middle East just days before his arrest. He was found with a Filipino fashion designer claiming to be his wife, inside an apartment. Australian authorities cancelled his passport, triggering his arrest and leaving without any documentation. He was then set free when he arrived in Melbourne after deportation as he had not broken any Australian laws. Musa Cerantonio is thought to be an influential IS figure and Abdul Haq is believed to have taken up extremist views after hearing the sheik speak in 2012 in Brisbane .\""
      ]
     },
     "execution_count": 13,
     "metadata": {},
     "output_type": "execute_result"
    }
   ],
   "source": [
    "dS_5[\"Content\"][6]"
   ]
  },
  {
   "cell_type": "code",
   "execution_count": 14,
   "id": "526e2025-a916-40c3-808f-100d254e0fd5",
   "metadata": {},
   "outputs": [
    {
     "data": {
      "text/plain": [
       "\"Zia Abdul Haq is believed to be fighting in Syria for the terror group .\\nFriends say he is a 'good-hearted guy' who went to Syria to find a wife .\\nThe 33-year-old has a young son who was from a previous marriage .\\nAbdul Haq is from Logan which is located south of Brisbane .\\nHe came to Australia in his 20s and was employed as a finance officer .\""
      ]
     },
     "execution_count": 14,
     "metadata": {},
     "output_type": "execute_result"
    }
   ],
   "source": [
    "dS_5[\"Summary\"][6]"
   ]
  },
  {
   "cell_type": "code",
   "execution_count": 16,
   "id": "d033cb04-e0b1-441e-af12-5c9325b7ec49",
   "metadata": {},
   "outputs": [],
   "source": [
    "X_train, X_test, y_train, y_test = train_test_split(dS_5[\"Content\"],dS_5[\"Summary\"], test_size=0.2, random_state=42)\n",
    "X_test, X_valid, y_test, y_valid = train_test_split(X_test,y_test, test_size=0.5, random_state=42)"
   ]
  },
  {
   "cell_type": "code",
   "execution_count": 17,
   "id": "5045683a-e0f0-4f05-987b-8e58ce779bd6",
   "metadata": {},
   "outputs": [],
   "source": [
    "agent_1_training.extend(X_train)\n",
    "agent_1_testing.extend(X_test)\n",
    "agent_1_validation.extend(X_valid)\n",
    "agent_2_training.extend(y_train)\n",
    "agent_2_testing.extend(y_test)\n",
    "agent_2_validation.extend(y_valid)"
   ]
  },
  {
   "cell_type": "code",
   "execution_count": 18,
   "id": "c598b651-15d5-4f38-966f-8adf11a91a25",
   "metadata": {},
   "outputs": [
    {
     "data": {
      "text/plain": [
       "1239546"
      ]
     },
     "execution_count": 18,
     "metadata": {},
     "output_type": "execute_result"
    }
   ],
   "source": [
    "len(agent_1_training)"
   ]
  },
  {
   "cell_type": "code",
   "execution_count": 19,
   "id": "1b3fea33-0485-4c02-8e1e-0472e576b1c0",
   "metadata": {},
   "outputs": [],
   "source": [
    "validation_df[\"agent_1\"] = agent_1_validation\n",
    "validation_df[\"agent_2\"] = agent_2_validation\n",
    "testing_df[\"agent_1\"] = agent_1_testing\n",
    "testing_df[\"agent_2\"] = agent_2_testing\n",
    "training_df[\"agent_1\"] = agent_1_training\n",
    "training_df[\"agent_2\"] = agent_2_training"
   ]
  },
  {
   "cell_type": "code",
   "execution_count": 20,
   "id": "df686eba-0b10-4521-ada8-b439dbf121fe",
   "metadata": {},
   "outputs": [],
   "source": [
    "training_df.dropna(inplace = True)\n",
    "validation_df.dropna(inplace = True)\n",
    "testing_df.dropna(inplace = True)"
   ]
  },
  {
   "cell_type": "code",
   "execution_count": 21,
   "id": "7efcde32-f638-43cc-b19d-a8505079c7d2",
   "metadata": {},
   "outputs": [
    {
     "name": "stdout",
     "output_type": "stream",
     "text": [
      "CUDA available: True\n",
      "CUDA version: 12.1\n",
      "Device count: 1\n",
      "Current device: 0\n",
      "Device name: NVIDIA GeForce RTX 4090\n"
     ]
    }
   ],
   "source": [
    "import torch\n",
    "torch.cuda.empty_cache()\n",
    "print(\"CUDA available:\", torch.cuda.is_available())\n",
    "print(\"CUDA version:\", torch.version.cuda)\n",
    "print(\"Device count:\", torch.cuda.device_count())\n",
    "print(\"Current device:\", torch.cuda.current_device())\n",
    "print(\"Device name:\", torch.cuda.get_device_name(torch.cuda.current_device()))\n",
    "device = torch.device('cuda' if torch.cuda.is_available() else 'cpu')\n",
    "tokenizer = BartTokenizer.from_pretrained('facebook/bart-large')\n",
    "model = BartForConditionalGeneration.from_pretrained('facebook/bart-large').to(device)\n",
    "model = model.to(device)"
   ]
  },
  {
   "cell_type": "code",
   "execution_count": null,
   "id": "75adbb61-4f06-4d1d-8656-7ee2646db192",
   "metadata": {},
   "outputs": [],
   "source": []
  },
  {
   "cell_type": "markdown",
   "id": "0e0bdc1d-f2aa-4dd6-82d1-a5053be6f74f",
   "metadata": {},
   "source": [
    "### Chunking Text"
   ]
  },
  {
   "cell_type": "code",
   "execution_count": 22,
   "id": "9a641c5f-d25f-4f24-8744-12eded01432b",
   "metadata": {
    "scrolled": true
   },
   "outputs": [],
   "source": [
    "import math\n",
    "def chunk_text(agent_1,agent_2):\n",
    "    agent_1_extended = []\n",
    "    agent_2_extended = []\n",
    "    blackListIndex = []\n",
    "    counter = 0\n",
    "    tokenizedLengthList = []\n",
    "    for input_text,output_text in zip(agent_1,agent_2):\n",
    "        if counter % 100 == 0:\n",
    "            print(f'\\rProgress: {counter}/{len(agent_1)}', end='', flush=True)\n",
    "            \n",
    "        try:\n",
    "            input_tokenized = tokenizer(input_text,return_tensors='pt')\n",
    "            tokenizedLength = len(input_tokenized[\"input_ids\"][0])\n",
    "            tokenizedLengthList.append(tokenizedLength)\n",
    "            random_phrase = random_option_generation(rephrased).replace(\"{paragraph/document/article}\",random_option_generation(option_4))\n",
    "        except Exception as e:\n",
    "            print(e)\n",
    "            continue\n",
    "        if \"{short/brief/detail}\" in random_phrase:\n",
    "            if len(output_text) <=200:\n",
    "                random_phrase = random_phrase.replace(\"{short/brief/detail}\",\"short\")\n",
    "            elif len(output_text) > 200 and len(output_text) <= 330:\n",
    "                random_phrase = random_phrase.replace(\"{short/brief/detail}\",\"brief\")\n",
    "            else:\n",
    "                random_phrase = random_phrase.replace(\"{short/brief/detail}\",random_option_generation(option_1))\n",
    "        if tokenizedLength > 510 and tokenizedLength < 1500:\n",
    "            blackListIndex.append(counter)\n",
    "            num_of_loops = math.ceil(tokenizedLength/510)\n",
    "            slice_length = math.ceil(len(input_text)/num_of_loops)\n",
    "            for i in range(0,num_of_loops):\n",
    "                if i == 0:\n",
    "                    agent_1_extended.append(\"agent_1:\"+random_phrase+(input_text[i*slice_length:(i*slice_length)+slice_length]))\n",
    "                else:\n",
    "                    agent_1_extended.append(\"agent_1:\"+\"<summary>\"+(input_text[(i*slice_length)-50:(i*slice_length)+slice_length]))\n",
    "                agent_2_extended.append(\"agent_2:\"+output_text)\n",
    "        else:\n",
    "            agent_1_extended.append(\"agent_1:\"+random_phrase+input_text)\n",
    "            agent_2_extended.append(\"agent_2:\"+output_text)\n",
    "        counter = counter+1\n",
    "    return agent_1_extended,agent_2_extended,tokenizedLengthList"
   ]
  },
  {
   "cell_type": "code",
   "execution_count": null,
   "id": "3cfc5eae-7f3c-42a0-bf0e-6e592ee887fb",
   "metadata": {},
   "outputs": [],
   "source": []
  },
  {
   "cell_type": "code",
   "execution_count": 23,
   "id": "7897d3a6-f854-4ab4-b7de-0c5424b33a2b",
   "metadata": {},
   "outputs": [],
   "source": [
    "training_df = pd.DataFrame()\n",
    "testing_df = pd.DataFrame()\n",
    "validation_df = pd.DataFrame()"
   ]
  },
  {
   "cell_type": "code",
   "execution_count": 24,
   "id": "ca27cbbb-a8f4-4ee4-820e-ad4f96434e9d",
   "metadata": {
    "scrolled": true
   },
   "outputs": [
    {
     "name": "stdout",
     "output_type": "stream",
     "text": [
      "Progress: 7000/1239546"
     ]
    },
    {
     "name": "stderr",
     "output_type": "stream",
     "text": [
      "Token indices sequence length is longer than the specified maximum sequence length for this model (1237 > 1024). Running this sequence through the model will result in indexing errors\n"
     ]
    },
    {
     "name": "stdout",
     "output_type": "stream",
     "text": [
      "Progress: 550100/1239546text input must be of type `str` (single example), `List[str]` (batch or single pretokenized example) or `List[List[str]]` (batch of pretokenized examples).\n",
      "Progress: 567500/1239546text input must be of type `str` (single example), `List[str]` (batch or single pretokenized example) or `List[List[str]]` (batch of pretokenized examples).\n",
      "Progress: 575300/1239546text input must be of type `str` (single example), `List[str]` (batch or single pretokenized example) or `List[List[str]]` (batch of pretokenized examples).\n",
      "Progress: 614500/1239546text input must be of type `str` (single example), `List[str]` (batch or single pretokenized example) or `List[List[str]]` (batch of pretokenized examples).\n",
      "Progress: 623600/1239546text input must be of type `str` (single example), `List[str]` (batch or single pretokenized example) or `List[List[str]]` (batch of pretokenized examples).\n",
      "Progress: 638100/1239546text input must be of type `str` (single example), `List[str]` (batch or single pretokenized example) or `List[List[str]]` (batch of pretokenized examples).\n",
      "Progress: 649700/1239546text input must be of type `str` (single example), `List[str]` (batch or single pretokenized example) or `List[List[str]]` (batch of pretokenized examples).\n",
      "Progress: 732100/1239546text input must be of type `str` (single example), `List[str]` (batch or single pretokenized example) or `List[List[str]]` (batch of pretokenized examples).\n",
      "Progress: 733600/1239546text input must be of type `str` (single example), `List[str]` (batch or single pretokenized example) or `List[List[str]]` (batch of pretokenized examples).\n",
      "Progress: 748300/1239546text input must be of type `str` (single example), `List[str]` (batch or single pretokenized example) or `List[List[str]]` (batch of pretokenized examples).\n",
      "Progress: 781600/1239546text input must be of type `str` (single example), `List[str]` (batch or single pretokenized example) or `List[List[str]]` (batch of pretokenized examples).\n",
      "Progress: 793600/1239546text input must be of type `str` (single example), `List[str]` (batch or single pretokenized example) or `List[List[str]]` (batch of pretokenized examples).\n",
      "Progress: 828400/1239546text input must be of type `str` (single example), `List[str]` (batch or single pretokenized example) or `List[List[str]]` (batch of pretokenized examples).\n",
      "Progress: 852000/1239546text input must be of type `str` (single example), `List[str]` (batch or single pretokenized example) or `List[List[str]]` (batch of pretokenized examples).\n",
      "Progress: 856700/1239546text input must be of type `str` (single example), `List[str]` (batch or single pretokenized example) or `List[List[str]]` (batch of pretokenized examples).\n",
      "Progress: 864900/1239546text input must be of type `str` (single example), `List[str]` (batch or single pretokenized example) or `List[List[str]]` (batch of pretokenized examples).\n",
      "Progress: 892200/1239546text input must be of type `str` (single example), `List[str]` (batch or single pretokenized example) or `List[List[str]]` (batch of pretokenized examples).\n",
      "Progress: 955600/1239546text input must be of type `str` (single example), `List[str]` (batch or single pretokenized example) or `List[List[str]]` (batch of pretokenized examples).\n",
      "Progress: 1121600/1239546text input must be of type `str` (single example), `List[str]` (batch or single pretokenized example) or `List[List[str]]` (batch of pretokenized examples).\n",
      "Progress: 1141500/1239546text input must be of type `str` (single example), `List[str]` (batch or single pretokenized example) or `List[List[str]]` (batch of pretokenized examples).\n",
      "Progress: 1150000/1239546text input must be of type `str` (single example), `List[str]` (batch or single pretokenized example) or `List[List[str]]` (batch of pretokenized examples).\n",
      "Progress: 1157100/1239546text input must be of type `str` (single example), `List[str]` (batch or single pretokenized example) or `List[List[str]]` (batch of pretokenized examples).\n",
      "Progress: 1164500/1239546text input must be of type `str` (single example), `List[str]` (batch or single pretokenized example) or `List[List[str]]` (batch of pretokenized examples).\n",
      "Progress: 1187500/1239546text input must be of type `str` (single example), `List[str]` (batch or single pretokenized example) or `List[List[str]]` (batch of pretokenized examples).\n",
      "Progress: 1187900/1239546text input must be of type `str` (single example), `List[str]` (batch or single pretokenized example) or `List[List[str]]` (batch of pretokenized examples).\n",
      "Progress: 1190700/1239546text input must be of type `str` (single example), `List[str]` (batch or single pretokenized example) or `List[List[str]]` (batch of pretokenized examples).\n",
      "Progress: 1233400/1239546text input must be of type `str` (single example), `List[str]` (batch or single pretokenized example) or `List[List[str]]` (batch of pretokenized examples).\n",
      "Progress: 1239500/1239546"
     ]
    }
   ],
   "source": [
    "agent_1_training_chunks,agent_2_training_chunks,tokenizedLengthList = chunk_text(agent_1_training,agent_2_training)"
   ]
  },
  {
   "cell_type": "code",
   "execution_count": 25,
   "id": "203edf8b-c6b7-4805-ab35-4ed6ef5e3dd0",
   "metadata": {},
   "outputs": [],
   "source": [
    "training_df[\"agent_1\"] = agent_1_training_chunks\n",
    "training_df[\"agent_2\"] = agent_2_training_chunks\n",
    "training_df.to_csv(\"../Data/CleanedDatasets/Summary_training.csv\")"
   ]
  },
  {
   "cell_type": "code",
   "execution_count": 28,
   "id": "079833a8-3974-4a01-b0a0-153d17d11adf",
   "metadata": {},
   "outputs": [
    {
     "data": {
      "text/html": [
       "<div>\n",
       "<style scoped>\n",
       "    .dataframe tbody tr th:only-of-type {\n",
       "        vertical-align: middle;\n",
       "    }\n",
       "\n",
       "    .dataframe tbody tr th {\n",
       "        vertical-align: top;\n",
       "    }\n",
       "\n",
       "    .dataframe thead th {\n",
       "        text-align: right;\n",
       "    }\n",
       "</style>\n",
       "<table border=\"1\" class=\"dataframe\">\n",
       "  <thead>\n",
       "    <tr style=\"text-align: right;\">\n",
       "      <th></th>\n",
       "      <th>agent_1</th>\n",
       "      <th>agent_2</th>\n",
       "    </tr>\n",
       "  </thead>\n",
       "  <tbody>\n",
       "    <tr>\n",
       "      <th>0</th>\n",
       "      <td>agent_1:Could you write a brief summary of thi...</td>\n",
       "      <td>agent_2:The course offered a solid foundation ...</td>\n",
       "    </tr>\n",
       "    <tr>\n",
       "      <th>1</th>\n",
       "      <td>agent_1:Can you offer a concise summary of thi...</td>\n",
       "      <td>agent_2:The introductory pattern recognition c...</td>\n",
       "    </tr>\n",
       "    <tr>\n",
       "      <th>2</th>\n",
       "      <td>agent_1:Can you summarize the key points of th...</td>\n",
       "      <td>agent_2:The introductory pattern recognition c...</td>\n",
       "    </tr>\n",
       "    <tr>\n",
       "      <th>3</th>\n",
       "      <td>agent_1:Can you provide a brief synopsis of th...</td>\n",
       "      <td>agent_2:The Pattern Recognition course struggl...</td>\n",
       "    </tr>\n",
       "    <tr>\n",
       "      <th>4</th>\n",
       "      <td>agent_1:Could you outline the main ideas of th...</td>\n",
       "      <td>agent_2:The Pattern Recognition course was an ...</td>\n",
       "    </tr>\n",
       "    <tr>\n",
       "      <th>...</th>\n",
       "      <td>...</td>\n",
       "      <td>...</td>\n",
       "    </tr>\n",
       "    <tr>\n",
       "      <th>2131996</th>\n",
       "      <td>agent_1:Would you summarize this article in br...</td>\n",
       "      <td>agent_2:Plans to expand Anfield have been subm...</td>\n",
       "    </tr>\n",
       "    <tr>\n",
       "      <th>2131997</th>\n",
       "      <td>agent_1:&lt;summary&gt; would be determined by certa...</td>\n",
       "      <td>agent_2:Plans to expand Anfield have been subm...</td>\n",
       "    </tr>\n",
       "    <tr>\n",
       "      <th>2131998</th>\n",
       "      <td>agent_1:Please summarize the main ideas of thi...</td>\n",
       "      <td>agent_2:Consumers get constant pitches for her...</td>\n",
       "    </tr>\n",
       "    <tr>\n",
       "      <th>2131999</th>\n",
       "      <td>agent_1:&lt;summary&gt;t be pre-approved by the Food...</td>\n",
       "      <td>agent_2:Consumers get constant pitches for her...</td>\n",
       "    </tr>\n",
       "    <tr>\n",
       "      <th>2132000</th>\n",
       "      <td>agent_1:&lt;summary&gt;the midst of a great national...</td>\n",
       "      <td>agent_2:Consumers get constant pitches for her...</td>\n",
       "    </tr>\n",
       "  </tbody>\n",
       "</table>\n",
       "<p>2132001 rows × 2 columns</p>\n",
       "</div>"
      ],
      "text/plain": [
       "                                                   agent_1  \\\n",
       "0        agent_1:Could you write a brief summary of thi...   \n",
       "1        agent_1:Can you offer a concise summary of thi...   \n",
       "2        agent_1:Can you summarize the key points of th...   \n",
       "3        agent_1:Can you provide a brief synopsis of th...   \n",
       "4        agent_1:Could you outline the main ideas of th...   \n",
       "...                                                    ...   \n",
       "2131996  agent_1:Would you summarize this article in br...   \n",
       "2131997  agent_1:<summary> would be determined by certa...   \n",
       "2131998  agent_1:Please summarize the main ideas of thi...   \n",
       "2131999  agent_1:<summary>t be pre-approved by the Food...   \n",
       "2132000  agent_1:<summary>the midst of a great national...   \n",
       "\n",
       "                                                   agent_2  \n",
       "0        agent_2:The course offered a solid foundation ...  \n",
       "1        agent_2:The introductory pattern recognition c...  \n",
       "2        agent_2:The introductory pattern recognition c...  \n",
       "3        agent_2:The Pattern Recognition course struggl...  \n",
       "4        agent_2:The Pattern Recognition course was an ...  \n",
       "...                                                    ...  \n",
       "2131996  agent_2:Plans to expand Anfield have been subm...  \n",
       "2131997  agent_2:Plans to expand Anfield have been subm...  \n",
       "2131998  agent_2:Consumers get constant pitches for her...  \n",
       "2131999  agent_2:Consumers get constant pitches for her...  \n",
       "2132000  agent_2:Consumers get constant pitches for her...  \n",
       "\n",
       "[2132001 rows x 2 columns]"
      ]
     },
     "execution_count": 28,
     "metadata": {},
     "output_type": "execute_result"
    }
   ],
   "source": [
    "training_df"
   ]
  },
  {
   "cell_type": "code",
   "execution_count": null,
   "id": "466e1217-d262-4d75-87da-6cbe2378baee",
   "metadata": {},
   "outputs": [],
   "source": []
  },
  {
   "cell_type": "code",
   "execution_count": null,
   "id": "168d86a1-9ae2-4170-a5ee-9dc91302860a",
   "metadata": {},
   "outputs": [],
   "source": []
  },
  {
   "cell_type": "code",
   "execution_count": null,
   "id": "e6ef700a-6d47-4d70-a887-5793da4bae8a",
   "metadata": {},
   "outputs": [],
   "source": []
  },
  {
   "cell_type": "code",
   "execution_count": 26,
   "id": "aac6f04e-2249-4dea-9b7a-25ac64dec1ab",
   "metadata": {},
   "outputs": [
    {
     "name": "stdout",
     "output_type": "stream",
     "text": [
      "Progress: 54400/116998text input must be of type `str` (single example), `List[str]` (batch or single pretokenized example) or `List[List[str]]` (batch of pretokenized examples).\n",
      "Progress: 116900/116998"
     ]
    }
   ],
   "source": [
    "agent_1_testing_chunks,agent_2_testing_chunks,tokenizedLengthList = chunk_text(agent_1_testing,agent_2_testing)\n",
    "testing_df[\"agent_1\"] = agent_1_testing_chunks\n",
    "testing_df[\"agent_2\"] = agent_2_testing_chunks\n",
    "testing_df.to_csv(\"../Data/CleanedDatasets/Summary_testing.csv\")"
   ]
  },
  {
   "cell_type": "code",
   "execution_count": null,
   "id": "37010925-c4ce-4f7e-a945-a1b5e18ed339",
   "metadata": {},
   "outputs": [],
   "source": []
  },
  {
   "cell_type": "code",
   "execution_count": 27,
   "id": "ffe2ca46-b33a-4712-bef4-16b45fbc346d",
   "metadata": {},
   "outputs": [
    {
     "name": "stdout",
     "output_type": "stream",
     "text": [
      "Progress: 44300/118875text input must be of type `str` (single example), `List[str]` (batch or single pretokenized example) or `List[List[str]]` (batch of pretokenized examples).\n",
      "Progress: 65000/118875text input must be of type `str` (single example), `List[str]` (batch or single pretokenized example) or `List[List[str]]` (batch of pretokenized examples).\n",
      "Progress: 75600/118875text input must be of type `str` (single example), `List[str]` (batch or single pretokenized example) or `List[List[str]]` (batch of pretokenized examples).\n",
      "Progress: 84100/118875text input must be of type `str` (single example), `List[str]` (batch or single pretokenized example) or `List[List[str]]` (batch of pretokenized examples).\n",
      "Progress: 92500/118875text input must be of type `str` (single example), `List[str]` (batch or single pretokenized example) or `List[List[str]]` (batch of pretokenized examples).\n",
      "Progress: 112200/118875text input must be of type `str` (single example), `List[str]` (batch or single pretokenized example) or `List[List[str]]` (batch of pretokenized examples).\n",
      "Progress: 118800/118875"
     ]
    }
   ],
   "source": [
    "agent_1_validation_chunks,agent_2_validation_chunks,tokenizedLengthList = chunk_text(agent_1_validation,agent_2_validation)\n",
    "validation_df[\"agent_1\"] = agent_1_validation_chunks\n",
    "validation_df[\"agent_2\"] = agent_2_validation_chunks\n",
    "validation_df.to_csv(\"../Data/CleanedDatasets/Summary_validation.csv\")"
   ]
  },
  {
   "cell_type": "code",
   "execution_count": 29,
   "id": "a89c6a20-59ba-4322-bcd1-150edcaa397b",
   "metadata": {},
   "outputs": [
    {
     "data": {
      "text/html": [
       "<div>\n",
       "<style scoped>\n",
       "    .dataframe tbody tr th:only-of-type {\n",
       "        vertical-align: middle;\n",
       "    }\n",
       "\n",
       "    .dataframe tbody tr th {\n",
       "        vertical-align: top;\n",
       "    }\n",
       "\n",
       "    .dataframe thead th {\n",
       "        text-align: right;\n",
       "    }\n",
       "</style>\n",
       "<table border=\"1\" class=\"dataframe\">\n",
       "  <thead>\n",
       "    <tr style=\"text-align: right;\">\n",
       "      <th></th>\n",
       "      <th>agent_1</th>\n",
       "      <th>agent_2</th>\n",
       "    </tr>\n",
       "  </thead>\n",
       "  <tbody>\n",
       "    <tr>\n",
       "      <th>0</th>\n",
       "      <td>agent_1:Would you give me a quick summary of t...</td>\n",
       "      <td>agent_2:The course offered a solid foundation ...</td>\n",
       "    </tr>\n",
       "    <tr>\n",
       "      <th>1</th>\n",
       "      <td>agent_1:Please provide a quick summary of this...</td>\n",
       "      <td>agent_2:The introductory pattern recognition c...</td>\n",
       "    </tr>\n",
       "    <tr>\n",
       "      <th>2</th>\n",
       "      <td>agent_1:Would you summarize this article for m...</td>\n",
       "      <td>agent_2:The pattern recognition course provide...</td>\n",
       "    </tr>\n",
       "    <tr>\n",
       "      <th>3</th>\n",
       "      <td>agent_1:Would you give me a quick summary of t...</td>\n",
       "      <td>agent_2:The introductory course on pattern rec...</td>\n",
       "    </tr>\n",
       "    <tr>\n",
       "      <th>4</th>\n",
       "      <td>agent_1:Please summarize this document in dept...</td>\n",
       "      <td>agent_2:The pattern recognition course, aimed ...</td>\n",
       "    </tr>\n",
       "    <tr>\n",
       "      <th>...</th>\n",
       "      <td>...</td>\n",
       "      <td>...</td>\n",
       "    </tr>\n",
       "    <tr>\n",
       "      <th>203471</th>\n",
       "      <td>agent_1:Could you summarize this paragraph for...</td>\n",
       "      <td>agent_2:More nurses and midwives are leaving t...</td>\n",
       "    </tr>\n",
       "    <tr>\n",
       "      <th>203472</th>\n",
       "      <td>agent_1:&lt;summary&gt; number working in the NHS - ...</td>\n",
       "      <td>agent_2:More nurses and midwives are leaving t...</td>\n",
       "    </tr>\n",
       "    <tr>\n",
       "      <th>203473</th>\n",
       "      <td>agent_1:Could you offer a summary of this para...</td>\n",
       "      <td>agent_2:The app brings together ancient painti...</td>\n",
       "    </tr>\n",
       "    <tr>\n",
       "      <th>203474</th>\n",
       "      <td>agent_1:Could you offer a summary of this docu...</td>\n",
       "      <td>agent_2:Vicky Jennings felt ashamed after her ...</td>\n",
       "    </tr>\n",
       "    <tr>\n",
       "      <th>203475</th>\n",
       "      <td>agent_1:&lt;summary&gt;ng World. She had originally ...</td>\n",
       "      <td>agent_2:Vicky Jennings felt ashamed after her ...</td>\n",
       "    </tr>\n",
       "  </tbody>\n",
       "</table>\n",
       "<p>203476 rows × 2 columns</p>\n",
       "</div>"
      ],
      "text/plain": [
       "                                                  agent_1  \\\n",
       "0       agent_1:Would you give me a quick summary of t...   \n",
       "1       agent_1:Please provide a quick summary of this...   \n",
       "2       agent_1:Would you summarize this article for m...   \n",
       "3       agent_1:Would you give me a quick summary of t...   \n",
       "4       agent_1:Please summarize this document in dept...   \n",
       "...                                                   ...   \n",
       "203471  agent_1:Could you summarize this paragraph for...   \n",
       "203472  agent_1:<summary> number working in the NHS - ...   \n",
       "203473  agent_1:Could you offer a summary of this para...   \n",
       "203474  agent_1:Could you offer a summary of this docu...   \n",
       "203475  agent_1:<summary>ng World. She had originally ...   \n",
       "\n",
       "                                                  agent_2  \n",
       "0       agent_2:The course offered a solid foundation ...  \n",
       "1       agent_2:The introductory pattern recognition c...  \n",
       "2       agent_2:The pattern recognition course provide...  \n",
       "3       agent_2:The introductory course on pattern rec...  \n",
       "4       agent_2:The pattern recognition course, aimed ...  \n",
       "...                                                   ...  \n",
       "203471  agent_2:More nurses and midwives are leaving t...  \n",
       "203472  agent_2:More nurses and midwives are leaving t...  \n",
       "203473  agent_2:The app brings together ancient painti...  \n",
       "203474  agent_2:Vicky Jennings felt ashamed after her ...  \n",
       "203475  agent_2:Vicky Jennings felt ashamed after her ...  \n",
       "\n",
       "[203476 rows x 2 columns]"
      ]
     },
     "execution_count": 29,
     "metadata": {},
     "output_type": "execute_result"
    }
   ],
   "source": [
    "validation_df"
   ]
  },
  {
   "cell_type": "code",
   "execution_count": null,
   "id": "dceaa619-e822-4f21-906e-f82265fb4dd9",
   "metadata": {},
   "outputs": [],
   "source": [
    "# training_df[\"agent_1\"] = agent_1_training_chunks\n",
    "# training_df[\"agent_2\"] = agent_2_training_chunks"
   ]
  },
  {
   "cell_type": "code",
   "execution_count": null,
   "id": "03e4b3c9-2951-4f8e-9972-ecf1928f8975",
   "metadata": {},
   "outputs": [],
   "source": [
    "# training_df.to_csv(\"../Data/ConversationalData/Summary_training.csv\")"
   ]
  },
  {
   "cell_type": "code",
   "execution_count": null,
   "id": "1259b104-ba67-4ea2-a77d-de5b8826e118",
   "metadata": {},
   "outputs": [],
   "source": [
    "# training_df.head()"
   ]
  },
  {
   "cell_type": "code",
   "execution_count": 30,
   "id": "b1c4d6fb-a11a-4e60-afab-8184d3203d59",
   "metadata": {},
   "outputs": [],
   "source": [
    "df = pd.read_csv(\"../Data/CleanedDatasets/Summary_training.csv\")"
   ]
  },
  {
   "cell_type": "code",
   "execution_count": 31,
   "id": "f968f6d1-b776-4123-8913-e4141f9a7dc5",
   "metadata": {},
   "outputs": [
    {
     "data": {
      "text/html": [
       "<div>\n",
       "<style scoped>\n",
       "    .dataframe tbody tr th:only-of-type {\n",
       "        vertical-align: middle;\n",
       "    }\n",
       "\n",
       "    .dataframe tbody tr th {\n",
       "        vertical-align: top;\n",
       "    }\n",
       "\n",
       "    .dataframe thead th {\n",
       "        text-align: right;\n",
       "    }\n",
       "</style>\n",
       "<table border=\"1\" class=\"dataframe\">\n",
       "  <thead>\n",
       "    <tr style=\"text-align: right;\">\n",
       "      <th></th>\n",
       "      <th>Unnamed: 0</th>\n",
       "      <th>agent_1</th>\n",
       "      <th>agent_2</th>\n",
       "    </tr>\n",
       "  </thead>\n",
       "  <tbody>\n",
       "    <tr>\n",
       "      <th>0</th>\n",
       "      <td>0</td>\n",
       "      <td>agent_1:Could you write a brief summary of thi...</td>\n",
       "      <td>agent_2:The course offered a solid foundation ...</td>\n",
       "    </tr>\n",
       "    <tr>\n",
       "      <th>1</th>\n",
       "      <td>1</td>\n",
       "      <td>agent_1:Can you offer a concise summary of thi...</td>\n",
       "      <td>agent_2:The introductory pattern recognition c...</td>\n",
       "    </tr>\n",
       "    <tr>\n",
       "      <th>2</th>\n",
       "      <td>2</td>\n",
       "      <td>agent_1:Can you summarize the key points of th...</td>\n",
       "      <td>agent_2:The introductory pattern recognition c...</td>\n",
       "    </tr>\n",
       "    <tr>\n",
       "      <th>3</th>\n",
       "      <td>3</td>\n",
       "      <td>agent_1:Can you provide a brief synopsis of th...</td>\n",
       "      <td>agent_2:The Pattern Recognition course struggl...</td>\n",
       "    </tr>\n",
       "    <tr>\n",
       "      <th>4</th>\n",
       "      <td>4</td>\n",
       "      <td>agent_1:Could you outline the main ideas of th...</td>\n",
       "      <td>agent_2:The Pattern Recognition course was an ...</td>\n",
       "    </tr>\n",
       "    <tr>\n",
       "      <th>...</th>\n",
       "      <td>...</td>\n",
       "      <td>...</td>\n",
       "      <td>...</td>\n",
       "    </tr>\n",
       "    <tr>\n",
       "      <th>2131996</th>\n",
       "      <td>2131996</td>\n",
       "      <td>agent_1:Would you summarize this article in br...</td>\n",
       "      <td>agent_2:Plans to expand Anfield have been subm...</td>\n",
       "    </tr>\n",
       "    <tr>\n",
       "      <th>2131997</th>\n",
       "      <td>2131997</td>\n",
       "      <td>agent_1:&lt;summary&gt; would be determined by certa...</td>\n",
       "      <td>agent_2:Plans to expand Anfield have been subm...</td>\n",
       "    </tr>\n",
       "    <tr>\n",
       "      <th>2131998</th>\n",
       "      <td>2131998</td>\n",
       "      <td>agent_1:Please summarize the main ideas of thi...</td>\n",
       "      <td>agent_2:Consumers get constant pitches for her...</td>\n",
       "    </tr>\n",
       "    <tr>\n",
       "      <th>2131999</th>\n",
       "      <td>2131999</td>\n",
       "      <td>agent_1:&lt;summary&gt;t be pre-approved by the Food...</td>\n",
       "      <td>agent_2:Consumers get constant pitches for her...</td>\n",
       "    </tr>\n",
       "    <tr>\n",
       "      <th>2132000</th>\n",
       "      <td>2132000</td>\n",
       "      <td>agent_1:&lt;summary&gt;the midst of a great national...</td>\n",
       "      <td>agent_2:Consumers get constant pitches for her...</td>\n",
       "    </tr>\n",
       "  </tbody>\n",
       "</table>\n",
       "<p>2132001 rows × 3 columns</p>\n",
       "</div>"
      ],
      "text/plain": [
       "         Unnamed: 0                                            agent_1  \\\n",
       "0                 0  agent_1:Could you write a brief summary of thi...   \n",
       "1                 1  agent_1:Can you offer a concise summary of thi...   \n",
       "2                 2  agent_1:Can you summarize the key points of th...   \n",
       "3                 3  agent_1:Can you provide a brief synopsis of th...   \n",
       "4                 4  agent_1:Could you outline the main ideas of th...   \n",
       "...             ...                                                ...   \n",
       "2131996     2131996  agent_1:Would you summarize this article in br...   \n",
       "2131997     2131997  agent_1:<summary> would be determined by certa...   \n",
       "2131998     2131998  agent_1:Please summarize the main ideas of thi...   \n",
       "2131999     2131999  agent_1:<summary>t be pre-approved by the Food...   \n",
       "2132000     2132000  agent_1:<summary>the midst of a great national...   \n",
       "\n",
       "                                                   agent_2  \n",
       "0        agent_2:The course offered a solid foundation ...  \n",
       "1        agent_2:The introductory pattern recognition c...  \n",
       "2        agent_2:The introductory pattern recognition c...  \n",
       "3        agent_2:The Pattern Recognition course struggl...  \n",
       "4        agent_2:The Pattern Recognition course was an ...  \n",
       "...                                                    ...  \n",
       "2131996  agent_2:Plans to expand Anfield have been subm...  \n",
       "2131997  agent_2:Plans to expand Anfield have been subm...  \n",
       "2131998  agent_2:Consumers get constant pitches for her...  \n",
       "2131999  agent_2:Consumers get constant pitches for her...  \n",
       "2132000  agent_2:Consumers get constant pitches for her...  \n",
       "\n",
       "[2132001 rows x 3 columns]"
      ]
     },
     "execution_count": 31,
     "metadata": {},
     "output_type": "execute_result"
    }
   ],
   "source": [
    "df"
   ]
  },
  {
   "cell_type": "code",
   "execution_count": 32,
   "id": "20c698e9-dbcb-4ffa-ae5f-96eba2db3273",
   "metadata": {},
   "outputs": [
    {
     "data": {
      "text/plain": [
       "\"agent_1:Could you write a brief summary of this paragraph for me?'This introductory subject course provided a mixed bag of read experiences. On the positive side, the instructor clearly presented the core concepts, making them accessible to most students. The course materials were also helpful, offering additional information that complemented the lectures. This combination provided a solid foundation for further exploration of the field. However, there were areas where the course could improve. Firstly, while the breadth of topics covered was appropriate, some important areas feel rushed and superficial, leaving some students with a shallow understanding. Additionally, while the instructor was knowledgeable, the course trust heavily on traditional lectures, which can sometimes feel peaceful and disengaging. Incorporating more interactive activities, such as collaborative projects, simulation, or even debates on relevant topics, could significantly enhance engagement and foster deeper eruditeness. Overall, the course provided a decent introduction to the subject matter, but it has the potential to be much solid. By addressing the areas of improvement, particularly by incorporating more in - depth exploration, interactive learning activities, and a diverse teaching approach, the course could provide a more valuable and enrich learning experience for future students.'\""
      ]
     },
     "execution_count": 32,
     "metadata": {},
     "output_type": "execute_result"
    }
   ],
   "source": [
    "df[\"agent_1\"][0]"
   ]
  },
  {
   "cell_type": "code",
   "execution_count": 33,
   "id": "7800b4a7-5820-49b5-b6a8-afcadd91fbc2",
   "metadata": {},
   "outputs": [
    {
     "data": {
      "text/plain": [
       "'agent_2:The course offered a solid foundation for exploration in an introductory subject, with a clear instructor and helpful materials. However, it could improve by incorporating more interactive activities, addressing superficial topics, and incorporating a diverse teaching approach. This would enhance engagement and foster deeper learning, making the course a more valuable and enriching experience for future students.'"
      ]
     },
     "execution_count": 33,
     "metadata": {},
     "output_type": "execute_result"
    }
   ],
   "source": [
    "df[\"agent_2\"][0]"
   ]
  },
  {
   "cell_type": "code",
   "execution_count": null,
   "id": "366f22ae-b056-4db2-aaaf-8d646e90b950",
   "metadata": {},
   "outputs": [],
   "source": []
  }
 ],
 "metadata": {
  "kernelspec": {
   "display_name": "Python 3 (ipykernel)",
   "language": "python",
   "name": "python3"
  },
  "language_info": {
   "codemirror_mode": {
    "name": "ipython",
    "version": 3
   },
   "file_extension": ".py",
   "mimetype": "text/x-python",
   "name": "python",
   "nbconvert_exporter": "python",
   "pygments_lexer": "ipython3",
   "version": "3.9.19"
  }
 },
 "nbformat": 4,
 "nbformat_minor": 5
}
