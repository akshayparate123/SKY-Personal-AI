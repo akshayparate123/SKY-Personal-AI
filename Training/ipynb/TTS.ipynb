{
 "cells": [
  {
   "cell_type": "code",
   "execution_count": 8,
   "id": "dab3895d-ef1f-43cd-a461-8a8bdf5cf20a",
   "metadata": {},
   "outputs": [
    {
     "data": {
      "text/plain": [
       "0"
      ]
     },
     "execution_count": 8,
     "metadata": {},
     "output_type": "execute_result"
    }
   ],
   "source": [
    "from gtts import gTTS\n",
    "\n",
    "# This module is imported so that we can \n",
    "# play the converted audio\n",
    "import os\n",
    "\n",
    "# The text that you want to convert to audio\n",
    "mytext = 'Hello my name is Akshay Paraate. What is your name ?'\n",
    "\n",
    "# Language in which you want to conver\"t\n",
    "language = 'en'\n",
    "\n",
    "# Passing the text and language to the engine, \n",
    "# here we have marked slow=False. Which tells \n",
    "# the module that the converted audio should \n",
    "# have a high speed\n",
    "myobj = gTTS(text=mytext, lang=language, slow=False)\n",
    "\n",
    "# Saving the converted audio in a mp3 file named\n",
    "# welcome\n",
    "myobj.save(\"welcome.mp3\")\n",
    "\n",
    "# Playing the converted file\n",
    "os.system(\"start welcome.mp3\")"
   ]
  },
  {
   "cell_type": "code",
   "execution_count": 1,
   "id": "406309f2-a3d7-4fdf-b938-1c4762b772b6",
   "metadata": {},
   "outputs": [],
   "source": [
    "import pandas as pd\n",
    "import time\n",
    "df = pd.read_csv(\"../Data/CleanedDatasets/Greetings.csv\")"
   ]
  },
  {
   "cell_type": "code",
   "execution_count": 2,
   "id": "d9d541be-65d1-426a-b5e3-314938facd24",
   "metadata": {},
   "outputs": [],
   "source": [
    "agent_1 = df[\"agent_1\"].tolist()[720:]\n",
    "agent_2 = df[\"agent_2\"].tolist()[720:]"
   ]
  },
  {
   "cell_type": "code",
   "execution_count": null,
   "id": "f7855b4f-c404-474f-887b-deed62d42d63",
   "metadata": {},
   "outputs": [],
   "source": []
  },
  {
   "cell_type": "code",
   "execution_count": 1,
   "id": "4f416250-b2db-414f-a9dc-2981d1a9adaa",
   "metadata": {},
   "outputs": [],
   "source": [
    "import pyttsx3\n",
    "def speak(msg,voice):\n",
    "    engine = pyttsx3.init()\n",
    "    voices = engine.getProperty('voices')\n",
    "    engine.setProperty('voice', voices[voice].id)\n",
    "    # rate = engine.getProperty('rate')   # getting details of current speaking rate\n",
    "    # print (rate)                        #printing current voice rate\n",
    "    engine.setProperty('rate', 160)     # setting up new voice rate\n",
    "    engine.say(msg)\n",
    "    engine.runAndWait()"
   ]
  },
  {
   "cell_type": "code",
   "execution_count": null,
   "id": "59d6a6c6-1e14-4773-a65d-4d6177c62bef",
   "metadata": {},
   "outputs": [],
   "source": [
    "for i,j in zip(agent_1,agent_2):\n",
    "    speak(i,1)\n",
    "    time.sleep(1)\n",
    "    speak(j,0)"
   ]
  },
  {
   "cell_type": "code",
   "execution_count": 20,
   "id": "4d74de7c-4e83-46e9-81d6-23a22c6c84f8",
   "metadata": {},
   "outputs": [],
   "source": [
    "speak(\"majha naav kay aahe?\",0)"
   ]
  },
  {
   "cell_type": "code",
   "execution_count": 4,
   "id": "5263ed7a-ffe9-408b-aaa3-d4332e3b3523",
   "metadata": {},
   "outputs": [
    {
     "name": "stdout",
     "output_type": "stream",
     "text": [
      "word None 1 84020\n",
      "word None 1 168040\n"
     ]
    }
   ],
   "source": [
    "engine = pyttsx3.init()\n",
    "voices = engine.getProperty('voices')\n",
    "for voice in voices:\n",
    "   engine.setProperty('voice', voice.id)\n",
    "   engine.say('The quick brown fox jumped over the lazy dog.')\n",
    "engine.runAndWait()"
   ]
  },
  {
   "cell_type": "markdown",
   "id": "aef6f0b6-1654-40ff-9a41-8aaf5a25998b",
   "metadata": {},
   "source": [
    "# Voice Authentication"
   ]
  },
  {
   "cell_type": "code",
   "execution_count": 7,
   "id": "b10d49f4-83b1-4fce-8edd-46ade6287a6c",
   "metadata": {},
   "outputs": [
    {
     "name": "stdout",
     "output_type": "stream",
     "text": [
      "Recording...\n",
      "Recording saved as my_voice.wav\n"
     ]
    }
   ],
   "source": [
    "import sounddevice as sd\n",
    "import numpy as np\n",
    "from scipy.io.wavfile import write\n",
    "\n",
    "def record_voice(filename, duration=5, fs=16000):\n",
    "    print(\"Recording...\")\n",
    "    recording = sd.rec(int(duration * fs), samplerate=fs, channels=1)\n",
    "    sd.wait()  # Wait until the recording is finished\n",
    "    write(filename, fs, recording)\n",
    "    print(f\"Recording saved as {filename}\")\n",
    "    \n",
    "# Record a 5-second audio file\n",
    "record_voice(\"my_voice.wav\")\n"
   ]
  },
  {
   "cell_type": "code",
   "execution_count": 10,
   "id": "9f476aba-036c-490e-8b5b-c6bfc6e76cb0",
   "metadata": {},
   "outputs": [
    {
     "name": "stdout",
     "output_type": "stream",
     "text": [
      "[[ -5.54089313  -8.90170629  -1.95821894 ...  -6.62965626  -4.81039682\n",
      "   -2.56791257]\n",
      " [-15.52669898 -24.32531748  -3.97061923 ...  -6.14095021  -7.31395415\n",
      "  -14.76207229]\n",
      " [-15.49887563 -16.24770921  -1.4572681  ... -11.38929046  -6.76023666\n",
      "  -13.66097952]\n",
      " ...\n",
      " [-10.02871232 -27.62901367  -2.85689361 ...  -6.2085217    0.6542444\n",
      "   -2.38108227]\n",
      " [-10.09830035 -27.63948003  -3.92664972 ...  -5.25125762  -1.79836638\n",
      "    0.12898212]\n",
      " [-10.36757289 -27.36155785  -3.46909555 ...  -4.95530222   3.93757352\n",
      "   10.15320033]]\n"
     ]
    }
   ],
   "source": [
    "import numpy as np\n",
    "import scipy.io.wavfile as wav\n",
    "from python_speech_features import mfcc\n",
    "\n",
    "# Load audio file\n",
    "rate, signal = wav.read(\"my_voice.wav\")\n",
    "\n",
    "# Extract MFCC features\n",
    "mfcc_features = mfcc(signal, rate, numcep=13)\n",
    "print(mfcc_features)"
   ]
  },
  {
   "cell_type": "code",
   "execution_count": 30,
   "id": "e66a14fa-541b-4a4a-b635-9ab7454cc3d6",
   "metadata": {},
   "outputs": [],
   "source": [
    "import soundfile as sf\n",
    "import numpy as np\n",
    "import speech_recognition as sr\n",
    "from sklearn.metrics import pairwise\n",
    "\n",
    "# Function to extract audio features (raw audio data)\n",
    "def extract_features(filename):\n",
    "    audio_data, sample_rate = sf.read(filename)\n",
    "    return audio_data\n",
    "\n",
    "# Function to compare two audio features\n",
    "def compare_features(reference_features, test_features):\n",
    "    # Determine the length of the longer feature vector\n",
    "    max_length = max(len(reference_features), len(test_features))\n",
    "    \n",
    "    # Pad the shorter vector with zeros\n",
    "    reference_padded = np.pad(reference_features, (0, max_length - len(reference_features)), 'constant')\n",
    "    test_padded = np.pad(test_features, (0, max_length - len(test_features)), 'constant')\n",
    "\n",
    "    # Calculate similarity\n",
    "    similarity = pairwise.cosine_similarity([reference_padded], [test_padded])\n",
    "    return similarity[0][0]\n",
    "\n",
    "# Voice authentication function\n",
    "def voice_authentication(reference_file, test_file, threshold=0.8):\n",
    "    reference_features = extract_features(reference_file)\n",
    "    test_features = extract_features(test_file)\n",
    "\n",
    "    similarity_score = compare_features(reference_features, test_features)\n",
    "\n",
    "    print(f\"Similarity Score: {similarity_score}\")\n",
    "    \n",
    "    if similarity_score > threshold:\n",
    "        print(\"Authentication Successful!\")\n",
    "    else:\n",
    "        print(\"Authentication Failed!\")\n",
    "\n",
    "def record_voice(filename):\n",
    "    recognizer = sr.Recognizer()\n",
    "    with sr.Microphone() as source:\n",
    "        print(\"Please say something...\")\n",
    "        audio = recognizer.listen(source)\n",
    "\n",
    "    # Convert raw audio data to a NumPy array\n",
    "    raw_data = audio.get_raw_data()\n",
    "    audio_data = np.frombuffer(raw_data, dtype=np.int16)  # Convert bytes to int16 array\n",
    "\n",
    "    # Save the recorded audio as a WAV file\n",
    "    with sf.SoundFile(filename, 'w', samplerate=44100, channels=1, subtype='PCM_16') as f:\n",
    "        f.write(audio_data)\n",
    "    print(f\"Audio recorded and saved as {filename}\")"
   ]
  },
  {
   "cell_type": "code",
   "execution_count": 31,
   "id": "c1df8c90-3734-44a1-8219-9895d1d3dc9d",
   "metadata": {},
   "outputs": [
    {
     "name": "stdout",
     "output_type": "stream",
     "text": [
      "Please say something...\n",
      "Audio recorded and saved as test.wav\n",
      "Similarity Score: -0.019325016436276248\n",
      "Authentication Failed!\n"
     ]
    }
   ],
   "source": [
    "import sounddevice as sd\n",
    "reference_audio = \"my_voice.wav\"  # Path to reference audio file\n",
    "test_audio = \"test.wav\"              # Path to test audio file\n",
    "\n",
    "# Record a new test audio sample\n",
    "record_voice(test_audio)\n",
    "# Perform voice authentication\n",
    "voice_authentication(reference_audio, test_audio)"
   ]
  },
  {
   "cell_type": "code",
   "execution_count": null,
   "id": "d3623026-7484-4de5-b287-3ab60bd72f9b",
   "metadata": {},
   "outputs": [],
   "source": []
  },
  {
   "cell_type": "code",
   "execution_count": null,
   "id": "06ff18c7-49ea-46df-a0b2-29f51ad1899f",
   "metadata": {},
   "outputs": [],
   "source": []
  }
 ],
 "metadata": {
  "kernelspec": {
   "display_name": "Python 3 (ipykernel)",
   "language": "python",
   "name": "python3"
  },
  "language_info": {
   "codemirror_mode": {
    "name": "ipython",
    "version": 3
   },
   "file_extension": ".py",
   "mimetype": "text/x-python",
   "name": "python",
   "nbconvert_exporter": "python",
   "pygments_lexer": "ipython3",
   "version": "3.9.19"
  }
 },
 "nbformat": 4,
 "nbformat_minor": 5
}
