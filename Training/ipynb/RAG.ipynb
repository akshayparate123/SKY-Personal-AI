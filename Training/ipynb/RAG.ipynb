{
 "cells": [
  {
   "cell_type": "code",
   "execution_count": null,
   "id": "9c725e54-05a1-4c9a-99a0-d22bbe85a8b6",
   "metadata": {
    "scrolled": true
   },
   "outputs": [],
   "source": [
    "# !pip install --upgrade \"protobuf==3.20\"\n",
    "# !pip install networkx"
   ]
  },
  {
   "cell_type": "code",
   "execution_count": 1,
   "id": "d6a379d2-7c82-44cd-afe7-ae1e749ec892",
   "metadata": {},
   "outputs": [
    {
     "name": "stderr",
     "output_type": "stream",
     "text": [
      "C:\\Users\\Akshay\\anaconda3\\envs\\tf\\lib\\site-packages\\tqdm\\auto.py:21: TqdmWarning: IProgress not found. Please update jupyter and ipywidgets. See https://ipywidgets.readthedocs.io/en/stable/user_install.html\n",
      "  from .autonotebook import tqdm as notebook_tqdm\n"
     ]
    }
   ],
   "source": [
    "from datasets import load_dataset\n",
    "import warnings\n",
    "import pandas as pd\n",
    "import numpy as np\n",
    "import matplotlib.pyplot as plt\n",
    "import networkx as nx\n",
    "# from transformers import BartForConditionalGeneration, BartTokenizer, Trainer, TrainingArguments, DataCollatorForSeq2Seq\n",
    "from transformers import BartForConditionalGeneration, BartTokenizer, TrainingArguments\n",
    "from sklearn.model_selection import train_test_split\n",
    "warnings.filterwarnings(\"ignore\")\n",
    "import requests\n",
    "from bs4 import BeautifulSoup\n",
    "import pandas as pd\n",
    "from tqdm import tqdm\n",
    "import threading\n",
    "import time\n",
    "from threading import Thread\n",
    "from pyspark.sql import SparkSession\n",
    "from pyspark.sql.functions import udf, explode, col, arrays_zip\n",
    "from pyspark.sql.types import StructType, StructField, StringType, IntegerType, ArrayType\n",
    "import math\n",
    "import random\n",
    "import chromadb\n",
    "from chromadb.config import Settings\n",
    "chroma_client = chromadb.PersistentClient(path=\"./\")\n",
    "from pyspark.sql import functions as F\n",
    "import sqlite3\n",
    "import re\n",
    "import torch\n",
    "import torch.nn.functional as torchF\n",
    "import findspark\n",
    "from googlesearch import search\n",
    "findspark.init()"
   ]
  },
  {
   "cell_type": "code",
   "execution_count": 3,
   "id": "b2a5784b-0f54-4cd7-9583-95f3f9262a63",
   "metadata": {},
   "outputs": [],
   "source": [
    "# spark = SparkSession.builder \\\n",
    "#     .master(\"local\") \\\n",
    "#     .config(\"spark.driver.memory\", \"2g\") \\\n",
    "#     .config(\"spark.executor.memory\", \"2g\") \\\n",
    "#     .appName(\"test\") \\\n",
    "#     .getOrCreate()\n",
    "# df = spark.createDataFrame([(1, 'Alice'), (2, 'Bob')], ['id', 'name'])\n",
    "# df.show()"
   ]
  },
  {
   "cell_type": "markdown",
   "id": "dfd4183c-ba9a-4713-a473-9652a6783eab",
   "metadata": {},
   "source": [
    "### Context Based Dataset"
   ]
  },
  {
   "cell_type": "code",
   "execution_count": 29,
   "id": "080dcec0-f051-495e-8156-cfce3328e233",
   "metadata": {},
   "outputs": [],
   "source": [
    "dataset_1 = load_dataset(\"9wimu9/eli5_mult_answers_en_no_answer_in_context\") # in deep\n",
    "dataset_2 = load_dataset(\"mlxen/squad_1_1_smallcase_context\") #one word\n",
    "dataset_3 = load_dataset(\"nbtpj/multi-context-long-answer-dataset\") # in short\n",
    "dataset_8 = load_dataset(\"LasRuinasCirculares/sft_correct\")\n",
    "dataset_9 = load_dataset(\"robbiegwaldd/rephrase_train\") # all\n",
    "ds = load_dataset(\"addy88/nq-question-answeronly\")\n",
    "ds = load_dataset(\"iarfmoose/question_generator\")\n",
    "ds = load_dataset(\"sc2qa/sc2q_commoncrawl_large\")"
   ]
  },
  {
   "cell_type": "code",
   "execution_count": 30,
   "id": "ec2d2eb5-c9b1-4acd-97cc-020be5c8abcb",
   "metadata": {},
   "outputs": [
    {
     "data": {
      "text/plain": [
       "DatasetDict({\n",
       "    train: Dataset({\n",
       "        features: ['question', 'contexts', 'gold_answer'],\n",
       "        num_rows: 71236\n",
       "    })\n",
       "    test: Dataset({\n",
       "        features: ['question', 'contexts', 'gold_answer'],\n",
       "        num_rows: 7916\n",
       "    })\n",
       "})"
      ]
     },
     "execution_count": 30,
     "metadata": {},
     "output_type": "execute_result"
    }
   ],
   "source": [
    "dataset_1"
   ]
  },
  {
   "cell_type": "code",
   "execution_count": 31,
   "id": "480eac2d-d4c0-453e-9d24-86ab9aefd0f8",
   "metadata": {},
   "outputs": [],
   "source": [
    "agent_1 = dataset_1[\"train\"][\"question\"]\n",
    "raw_context = dataset_1[\"train\"][\"contexts\"]\n",
    "modified_context = []\n",
    "for c in raw_context:\n",
    "    final_string = \"\"\n",
    "    for i in c:\n",
    "        final_string = final_string+\" \"+ i\n",
    "    modified_context.append(final_string)\n",
    "context = modified_context\n",
    "agent_2 = dataset_1[\"train\"][\"gold_answer\"]"
   ]
  },
  {
   "cell_type": "code",
   "execution_count": 32,
   "id": "fa842db5-a791-471f-b83c-bdeae45158e8",
   "metadata": {},
   "outputs": [],
   "source": [
    "agent_1.extend(dataset_2[\"train\"][\"question\"])\n",
    "context.extend(dataset_2[\"train\"][\"context\"])\n",
    "agent_2.extend([i[\"text\"][0] for i in dataset_2[\"train\"][\"answers\"]])\n",
    "\n",
    "agent_1.extend([i.split(\"Question:\")[1].replace(\"Answer:\",\"\") for i in dataset_8[\"train\"][\"instruction\"]])\n",
    "context.extend([i.replace(\"Evidence:\",\"\").replace(\"**\",\"\").split(\"Question:\")[0].replace(\"\\n\",\"\") for i in dataset_8[\"train\"][\"instruction\"]])\n",
    "agent_2.extend(dataset_8[\"train\"][\"output\"])"
   ]
  },
  {
   "cell_type": "code",
   "execution_count": null,
   "id": "1b74b680-72dd-44c0-89af-0922731fdfef",
   "metadata": {},
   "outputs": [],
   "source": []
  },
  {
   "cell_type": "code",
   "execution_count": 33,
   "id": "e107141a-a661-45a2-95d9-efae13f15f99",
   "metadata": {},
   "outputs": [],
   "source": [
    "channelNames =[\"pubmed_qa_X_squad_num_channel_1_test\",\"pubmed_qa_X_squad_num_channel_1_train\",\"pubmed_qa_X_squad_num_channel_2_test\",\"pubmed_qa_X_squad_num_channel_2_train\",\"pubmed_qa_X_squad_num_channel_3_test\",\"pubmed_qa_X_squad_num_channel_3_train\",\"pubmed_qa_X_squad_num_channel_4_test\",\"pubmed_qa_X_squad_num_channel_4_train\",\"pubmed_qa_num_channel_1_test\",\"pubmed_qa_num_channel_1_train\",\"pubmed_qa_num_channel_2_test\",\"pubmed_qa_num_channel_2_train\",\"pubmed_qa_num_channel_3_test\",\"pubmed_qa_num_channel_3_train\",\"pubmed_qa_num_channel_4_test\",\"pubmed_qa_num_channel_4_train\",\"squad_num_channel_1_test\",\"squad_num_channel_1_train\",\"squad_num_channel_2_test\",\"squad_num_channel_2_train\",\"squad_num_channel_3_test\",\"squad_num_channel_3_train\",\"squad_num_channel_4_test\",\"squad_num_channel_4_train\"]"
   ]
  },
  {
   "cell_type": "code",
   "execution_count": 34,
   "id": "fdf94cdd-d86a-4a5a-82b6-2397553294e9",
   "metadata": {
    "scrolled": true
   },
   "outputs": [],
   "source": [
    "question = []\n",
    "cont = []\n",
    "answer = []\n",
    "for channel in channelNames:\n",
    "    question.extend([i[0].split(\"<||||>\")[0] for i in dataset_3[channel][\"context\"]])\n",
    "    cont.extend([i[0].split(\"<||||>\")[1] for i in dataset_3[channel][\"context\"]])\n",
    "    answer.extend([i for i in dataset_3[channel][\"answer\"]])\n",
    "temp_df = pd.DataFrame()\n",
    "temp_df[\"question\"] = question\n",
    "temp_df[\"cont\"] = cont\n",
    "temp_df[\"answer\"] = answer\n",
    "df = temp_df.drop_duplicates(subset=['question','cont','answer'], keep='first')\n",
    "agent_1.extend(df[\"question\"].tolist())\n",
    "context.extend(df[\"cont\"].tolist())\n",
    "agent_2.extend(df[\"answer\"].tolist())"
   ]
  },
  {
   "cell_type": "code",
   "execution_count": 35,
   "id": "44ec1e40-ac8b-4813-997e-b1af74f2a62c",
   "metadata": {},
   "outputs": [],
   "source": [
    "datasets = [\"bart-base-squad.end2end.amazon\",\"bart-base-squad.end2end.new_wiki\",\"bart-base-squad.end2end.nyt\",\"bart-base-squad.end2end.reddit\",\"bart-base-squad.multitask.amazon\",\"bart-base-squad.multitask.new_wiki\",\"bart-base-squad.multitask.nyt\",\"bart-base-squad.multitask.reddit\",\"bart-base-squad.pipeline.amazon\",\"bart-base-squad.pipeline.new_wiki\",\"bart-base-squad.pipeline.nyt\",\"bart-base-squad.pipeline.reddit\",\"bart-base-squad.qg_reference.amazon\",\"bart-base-squad.qg_reference.new_wiki\",\"bart-base-squad.qg_reference.nyt\",\"bart-base-squad.qg_reference.reddit\",\"bart-large-squad.end2end.amazon\",\"bart-large-squad.end2end.new_wiki\",\"bart-large-squad.end2end.nyt\",\"bart-large-squad.end2end.reddit\",\"bart-large-squad.multitask.amazon\",\"bart-large-squad.multitask.new_wiki\",\"bart-large-squad.multitask.nyt\",\"bart-large-squad.multitask.reddit\",\"bart-large-squad.pipeline.amazon\",\"bart-large-squad.pipeline.new_wiki\",\"bart-large-squad.pipeline.nyt\",\"bart-large-squad.pipeline.reddit\",\"bart-large-squad.qg_reference.amazon\",\"bart-large-squad.qg_reference.new_wiki\",\"bart-large-squad.qg_reference.nyt\",\"bart-large-squad.qg_reference.reddit\",\"t5-base-squad.end2end.amazon\",\"t5-base-squad.end2end.new_wiki\",\"t5-base-squad.end2end.nyt\",\"t5-base-squad.end2end.reddit\",\"t5-base-squad.multitask.amazon\",\"t5-base-squad.multitask.new_wiki\",\"t5-base-squad.multitask.nyt\",\"t5-base-squad.multitask.reddit\",\"t5-base-squad.pipeline.amazon\",\"t5-base-squad.pipeline.new_wiki\",\"t5-base-squad.pipeline.nyt\",\"t5-base-squad.pipeline.reddit\",\"t5-base-squad.qg_reference.amazon\",\"t5-base-squad.qg_reference.new_wiki\",\"t5-base-squad.qg_reference.nyt\",\"t5-base-squad.qg_reference.reddit\",\"t5-large-squad.end2end.amazon\",\"t5-large-squad.end2end.new_wiki\"]"
   ]
  },
  {
   "cell_type": "code",
   "execution_count": 36,
   "id": "7ccd3579-5197-4e97-9d2d-520ca4b7ddaf",
   "metadata": {},
   "outputs": [
    {
     "name": "stderr",
     "output_type": "stream",
     "text": [
      "100%|██████████| 50/50 [01:00<00:00,  1.21s/it]\n"
     ]
    }
   ],
   "source": [
    "for i in tqdm(range(0,len(datasets))):\n",
    "    # print(f'\\rDataset Name: {dataset}', end='', flush=True)\n",
    "    ds = load_dataset(\"lmqg/qa_squadshifts_synthetic\", datasets[i])\n",
    "    agent_1.extend(i for i in ds[\"train\"][\"question\"])\n",
    "    context.extend(i for i in ds[\"train\"][\"context\"])\n",
    "    agent_2.extend(i[\"text\"][0] for i in ds[\"train\"][\"answers\"])"
   ]
  },
  {
   "cell_type": "code",
   "execution_count": 37,
   "id": "17a8e6cd-5941-4807-901d-2b63795f09f3",
   "metadata": {},
   "outputs": [
    {
     "data": {
      "text/plain": [
       "DatasetDict({\n",
       "    train: Dataset({\n",
       "        features: ['id', 'original_snippet', 'rephrased_snippet'],\n",
       "        num_rows: 291032\n",
       "    })\n",
       "})"
      ]
     },
     "execution_count": 37,
     "metadata": {},
     "output_type": "execute_result"
    }
   ],
   "source": [
    "dataset_9"
   ]
  },
  {
   "cell_type": "code",
   "execution_count": 38,
   "id": "33933026-2739-45fb-b51c-4954b0d4710b",
   "metadata": {},
   "outputs": [
    {
     "data": {
      "text/plain": [
       "1469571"
      ]
     },
     "execution_count": 38,
     "metadata": {},
     "output_type": "execute_result"
    }
   ],
   "source": [
    "len(agent_1)"
   ]
  },
  {
   "cell_type": "code",
   "execution_count": 39,
   "id": "f4e96e63-3dcf-48b9-9c30-d6c38f9c866c",
   "metadata": {},
   "outputs": [
    {
     "name": "stderr",
     "output_type": "stream",
     "text": [
      "100%|██████████| 291032/291032 [00:00<00:00, 369566.84it/s]\n"
     ]
    }
   ],
   "source": [
    "questions = []\n",
    "answers = []\n",
    "conte = []\n",
    "split_qa = [i.split(\"\\n\\n\") for i in dataset_9[\"train\"][\"rephrased_snippet\"]]\n",
    "cont = [i.replace(\"\\n\",\"\") for i in dataset_9[\"train\"][\"original_snippet\"]]\n",
    "for i in tqdm(range(0,len(split_qa))):\n",
    "    q = [];a = [];c = []\n",
    "    if \"\\nAnswer\" not in split_qa[i][0]:\n",
    "        if len(split_qa[i]) % 2 != 0:\n",
    "            split_qa[i] = split_qa[i][:-1]\n",
    "        for j in range(0,len(split_qa[i]),2):\n",
    "            q.append(split_qa[i][j])\n",
    "            a.append(split_qa[i][j+1])\n",
    "            c.append(cont[i])\n",
    "    else:\n",
    "        new_split = [j.split(\"\\n\") for j in split_qa[i]]\n",
    "        for j in range(0,len(new_split)):\n",
    "            if len(new_split[j]) %2 !=0:\n",
    "                continue\n",
    "            q.append(new_split[j][0].replace(\"Question:\",\"\"))\n",
    "            a.append(new_split[j][1].replace(\"Answer:\",\"\"))\n",
    "            c.append(cont[i])\n",
    "    answers.extend(a)\n",
    "    questions.extend(q)\n",
    "    conte.extend(c)\n",
    "    # print(len(answers),len(questions))\n",
    "    # print(split_qa[i])\n",
    "agent_1.extend(questions)\n",
    "context.extend(conte)\n",
    "agent_2.extend(answers)"
   ]
  },
  {
   "cell_type": "code",
   "execution_count": 40,
   "id": "01a34bf1-b866-4fc3-9fab-b788012ca849",
   "metadata": {},
   "outputs": [
    {
     "data": {
      "text/plain": [
       "1802143"
      ]
     },
     "execution_count": 40,
     "metadata": {},
     "output_type": "execute_result"
    }
   ],
   "source": [
    "len(agent_1)"
   ]
  },
  {
   "cell_type": "code",
   "execution_count": 41,
   "id": "99e8d9de-e436-4064-a053-9f2b1a1f992f",
   "metadata": {},
   "outputs": [
    {
     "data": {
      "text/plain": [
       "1802143"
      ]
     },
     "execution_count": 41,
     "metadata": {},
     "output_type": "execute_result"
    }
   ],
   "source": [
    "len(context)"
   ]
  },
  {
   "cell_type": "code",
   "execution_count": 42,
   "id": "b9171f1e-c1f3-4a18-9f1f-124f3ba916a9",
   "metadata": {},
   "outputs": [
    {
     "data": {
      "text/plain": [
       "1802143"
      ]
     },
     "execution_count": 42,
     "metadata": {},
     "output_type": "execute_result"
    }
   ],
   "source": [
    "len(agent_2)"
   ]
  },
  {
   "cell_type": "code",
   "execution_count": 43,
   "id": "b0ef1d5f-ada4-4cd9-9fbb-a017a0a8180f",
   "metadata": {},
   "outputs": [],
   "source": [
    "temp_df = pd.DataFrame()\n",
    "temp_df[\"agent_1\"] = agent_1\n",
    "temp_df[\"context\"] = context\n",
    "temp_df[\"agent_2\"] = agent_2"
   ]
  },
  {
   "cell_type": "code",
   "execution_count": 5,
   "id": "8e09e709-eca8-4c04-9688-abcb852f7c72",
   "metadata": {},
   "outputs": [],
   "source": [
    "temp_df.to_csv(\"../Data/CleanedDatasets/ContextBasedQuestions.csv\")"
   ]
  },
  {
   "cell_type": "code",
   "execution_count": 16,
   "id": "5b564f60-1d29-40ec-b265-e360fa3ef5b1",
   "metadata": {},
   "outputs": [],
   "source": [
    "temp_df = pd.read_csv(\"../Data/CleanedDatasets/ContextBasedQuestions.csv\")"
   ]
  },
  {
   "cell_type": "code",
   "execution_count": 40,
   "id": "e198ec01-a6fe-4902-8fea-9f314a08a239",
   "metadata": {},
   "outputs": [
    {
     "data": {
      "text/html": [
       "<div>\n",
       "<style scoped>\n",
       "    .dataframe tbody tr th:only-of-type {\n",
       "        vertical-align: middle;\n",
       "    }\n",
       "\n",
       "    .dataframe tbody tr th {\n",
       "        vertical-align: top;\n",
       "    }\n",
       "\n",
       "    .dataframe thead th {\n",
       "        text-align: right;\n",
       "    }\n",
       "</style>\n",
       "<table border=\"1\" class=\"dataframe\">\n",
       "  <thead>\n",
       "    <tr style=\"text-align: right;\">\n",
       "      <th></th>\n",
       "      <th>agent_2</th>\n",
       "      <th>agent_1</th>\n",
       "    </tr>\n",
       "  </thead>\n",
       "  <tbody>\n",
       "    <tr>\n",
       "      <th>0</th>\n",
       "      <td>agent_2:These foods contain certain sugars tha...</td>\n",
       "      <td>&lt;context&gt;  Actually it is because most of peop...</td>\n",
       "    </tr>\n",
       "    <tr>\n",
       "      <th>1</th>\n",
       "      <td>agent_2:I'd answer the question but the defaul...</td>\n",
       "      <td>&lt;context&gt;  The decay of false vacuum is a fasc...</td>\n",
       "    </tr>\n",
       "    <tr>\n",
       "      <th>2</th>\n",
       "      <td>agent_2:Essentially the events in Crimea threa...</td>\n",
       "      <td>&lt;context&gt;  National Sovereignty is a very big ...</td>\n",
       "    </tr>\n",
       "    <tr>\n",
       "      <th>3</th>\n",
       "      <td>agent_2:To have as little protection as is saf...</td>\n",
       "      <td>&lt;context&gt;  Most helmets are pretty similar in ...</td>\n",
       "    </tr>\n",
       "    <tr>\n",
       "      <th>4</th>\n",
       "      <td>agent_2:Your eyes are magnificent sensors, and...</td>\n",
       "      <td>&lt;context&gt;  The reason is that a camera is basi...</td>\n",
       "    </tr>\n",
       "  </tbody>\n",
       "</table>\n",
       "</div>"
      ],
      "text/plain": [
       "                                             agent_2  \\\n",
       "0  agent_2:These foods contain certain sugars tha...   \n",
       "1  agent_2:I'd answer the question but the defaul...   \n",
       "2  agent_2:Essentially the events in Crimea threa...   \n",
       "3  agent_2:To have as little protection as is saf...   \n",
       "4  agent_2:Your eyes are magnificent sensors, and...   \n",
       "\n",
       "                                             agent_1  \n",
       "0  <context>  Actually it is because most of peop...  \n",
       "1  <context>  The decay of false vacuum is a fasc...  \n",
       "2  <context>  National Sovereignty is a very big ...  \n",
       "3  <context>  Most helmets are pretty similar in ...  \n",
       "4  <context>  The reason is that a camera is basi...  "
      ]
     },
     "execution_count": 40,
     "metadata": {},
     "output_type": "execute_result"
    }
   ],
   "source": [
    "temp_df.head()"
   ]
  },
  {
   "cell_type": "code",
   "execution_count": 18,
   "id": "a6532a20-97ae-4c1a-902b-4d83dea290d1",
   "metadata": {},
   "outputs": [],
   "source": [
    "temp_df[\"agent_2\"] = \"agent_2:\"+temp_df[\"agent_2\"]\n",
    "temp_df[\"agent_1\"] = \"<context> \" + temp_df[\"context\"] + \"agent_1:\"+temp_df[\"old_agent_1\"]"
   ]
  },
  {
   "cell_type": "code",
   "execution_count": 19,
   "id": "e2508138-20d6-4649-9de9-848fc98da729",
   "metadata": {},
   "outputs": [],
   "source": [
    "temp_df.dropna(inplace = True)\n",
    "temp_df.reset_index(inplace=True)"
   ]
  },
  {
   "cell_type": "code",
   "execution_count": null,
   "id": "a2d7aed2-0ec7-4dcb-a111-5113af5ca6cb",
   "metadata": {},
   "outputs": [],
   "source": []
  },
  {
   "cell_type": "code",
   "execution_count": 36,
   "id": "06f63fe5-368f-41c4-888a-e6dc0b81a4d8",
   "metadata": {},
   "outputs": [
    {
     "name": "stderr",
     "output_type": "stream",
     "text": [
      "  0%|          | 0/1799426 [00:00<?, ?it/s]Token indices sequence length is longer than the specified maximum sequence length for this model (1401 > 1024). Running this sequence through the model will result in indexing errors\n",
      "100%|██████████| 1799426/1799426 [45:44<00:00, 655.72it/s] \n"
     ]
    }
   ],
   "source": [
    "import math\n",
    "tokenizer = BartTokenizer.from_pretrained('facebook/bart-large')\n",
    "agent_1_extended = []\n",
    "agent_2_extended = []\n",
    "tokenizedLengthList = []\n",
    "idx = 0\n",
    "for input_text in tqdm(temp_df[\"agent_1\"].to_list()):\n",
    "    try:\n",
    "        input_tokenized = tokenizer(input_text,return_tensors='pt')\n",
    "        tokenizedLength = len(input_tokenized[\"input_ids\"][0])\n",
    "        tokenizedLengthList.append(tokenizedLength)\n",
    "        if tokenizedLength < 510:\n",
    "            agent_1_extended.append(input_text)\n",
    "            agent_2_extended.append(temp_df[\"agent_2\"][idx])\n",
    "    except Exception as e:\n",
    "        print(e)\n",
    "    idx = idx+1\n",
    "    # if tokenizedLength > 510 and tokenizedLength < 1500:\n",
    "        \n",
    "    #         num_of_loops = math.ceil(tokenizedLength/510)\n",
    "    #         slice_length = math.ceil(len(input_text)/num_of_loops)\n",
    "    #         for i in range(0,num_of_loops):\n",
    "    #             if i == 0:\n",
    "    #                 agent_1_extended.append(\"agent_1:\"+(input_text[i*slice_length:(i*slice_length)+slice_length])+\"<question>\"+temp_df[\"old_agent_1\"][idx])\n",
    "    #             else:\n",
    "    #                 agent_1_extended.append(\"agent_1:\"+\"<context>\"+(input_text[(i*slice_length)-50:(i*slice_length)+slice_length])+\"<question>\"+temp_df[\"old_agent_1\"][idx])\n",
    "    \n",
    "    # else:\n",
    "    #     agent_1_extended.append(\"agent_1:\"+input_text)"
   ]
  },
  {
   "cell_type": "code",
   "execution_count": 37,
   "id": "43fbe6ac-67eb-46cb-ac4c-a6ccea026b38",
   "metadata": {},
   "outputs": [
    {
     "data": {
      "text/plain": [
       "1400831"
      ]
     },
     "execution_count": 37,
     "metadata": {},
     "output_type": "execute_result"
    }
   ],
   "source": [
    "len(agent_1_extended)"
   ]
  },
  {
   "cell_type": "code",
   "execution_count": 38,
   "id": "ca6c8887-3b4a-4876-920c-00f8aa9e7baf",
   "metadata": {},
   "outputs": [
    {
     "data": {
      "text/plain": [
       "1400831"
      ]
     },
     "execution_count": 38,
     "metadata": {},
     "output_type": "execute_result"
    }
   ],
   "source": [
    "len(agent_2_extended)"
   ]
  },
  {
   "cell_type": "code",
   "execution_count": 39,
   "id": "84788807-f494-4ced-bbd9-31cee65eb0cf",
   "metadata": {},
   "outputs": [],
   "source": [
    "temp_df = pd.DataFrame()\n",
    "temp_df[\"agent_2\"] =agent_2_extended\n",
    "temp_df[\"agent_1\"] =agent_1_extended"
   ]
  },
  {
   "cell_type": "code",
   "execution_count": 11,
   "id": "24cd8236-afd2-4c82-b885-c400b6a58fbb",
   "metadata": {},
   "outputs": [
    {
     "data": {
      "text/plain": [
       "'<context>  National Sovereignty is a very big deal so anytime a country (especially a country with nukes) starts to reject previously agreed upon borders it is a big deal.\\n\\nThe reason you should care is that Russia has been for quite sometime trying to maintain some degree of influence over several former Soviet republics.  As some of these states move away from Russia, it is going to cause conflict and potentially a full blown war. likely to evolve into nothing\\n\\ncrimea was granted to ukraine as a restitution gift and well over half the population is in favour of annexation\\n\\nthey already speak russian and maintain russian culture\\n\\nputin is a total dick but once this blows over they will pay lower taxes to an equally corrupt government and receive additional social benefits\\n\\nyeah, its a huge problem that a part of a country is essentially being taken over but it hardly sets precedent for speculations of a third world war\\n\\nagent_1:what is the big deal about russia invading ukraine and taking over crimea, and what do i, as a us citizen have to worry about it?'"
      ]
     },
     "execution_count": 11,
     "metadata": {},
     "output_type": "execute_result"
    }
   ],
   "source": [
    "agent_1_extended[2]"
   ]
  },
  {
   "cell_type": "code",
   "execution_count": 55,
   "id": "24687bb3-c02b-40dc-be77-d953121909ae",
   "metadata": {},
   "outputs": [],
   "source": [
    "temp_df.to_csv(\"../Data/CleanedDatasets/ContextBasedQuestions.csv\")"
   ]
  },
  {
   "cell_type": "code",
   "execution_count": 53,
   "id": "6cfbb514-ada6-4fae-a7ac-67bc8db4f902",
   "metadata": {},
   "outputs": [
    {
     "data": {
      "text/plain": [
       "\"<context> 5 best Java seeds for Minecraft 1.19 updateThe 1.19 update for Minecraft introduced many new features. \\xa0Two major biomes, Deep Dark and Mangrove Swamp, have been added to the game and are quickly becoming quite popular.The two biomes are arguably the biggest addition to the game. \\xa0Deep Dark and Mangrove Swamp both provide reasons to visit them, but there's only one problem: they can be difficult to find.Minecraft seeds to try in Java Edition version 1.19Multiple Blue Rings\\xa0Note: The 1.18 update introduced seed universality, so seeds will work on both versions with minimal differences. \\xa0The main differences are when moving from Java to Bedrock, but not vice versa.The ancient city in 1.19 is a new but extremely rare structure. \\xa0It's a challenge to trace a regular Deep Dark with just the Skulk and the Warden. \\xa0Most of those found do not even contain any ancient cities.Seed: -457009213479927390This seed puts players into an amazing spawn. \\xa0Gamers come right next to a village, which is always good for getting loot and other items.Seed: -6709148406763899126Good loot can be a dealbreaker for many Minecraft gamers. \\xa0If a particular seed has good loot, such as diamonds in a blacksmith's chest, players are more willing to try it. \\xa0This seed does not necessarily have that, but there is something even more rare in it.Seed: -2110863992403414331The seeds are devoid of a mangrove swamp village because they do not exist. \\xa0However, this village originates from swamps, so it matters.Seed: 1450778142214593647Mangrove swamps are a big part of the Minecraft 1.19 update, and players want to find it. \\xa0Luckily, this Java seed gives gamers that opportunity. \\xa0It also has a very unique biome generation.Seed: 6705098208300174216agent_1: What are the two major biomes in Minecraft 1.19 and how do they differ from Deep Dark and Mangrove Swamp?\""
      ]
     },
     "execution_count": 53,
     "metadata": {},
     "output_type": "execute_result"
    }
   ],
   "source": [
    "temp_df[\"agent_1\"][1400700]"
   ]
  },
  {
   "cell_type": "code",
   "execution_count": 54,
   "id": "d2e83014-4dd7-4388-a9f4-4e48c932c981",
   "metadata": {},
   "outputs": [
    {
     "data": {
      "text/plain": [
       "'agent_2: In Minecraft 1.19, there are two new biomes added: \"Deep Dark\" and \"Mangrove Swamp\". The Deep Dark biome provides reasons to visit it but can be difficult to find due to its location near a swamp. Meanwhile, the Mangrove Swamp biome has only one problem - it can be difficult to find as well. Minecraft seeds like -457009213479927390, -6709148406763899126, and -2110863992403414331 can be used to trace a Deep Dark with just the Skulk and Warden. These seeds contain good loot but do not necessarily have Mangrove Swamp as they are located in swamps instead of in the swamp biome. The seeds -2110863992403414331 and 1450778142214593647 can be used to find Mangrove Swamp by using a village as an alternative spawn point. The seeds -6709148406763899126 and 6705'"
      ]
     },
     "execution_count": 54,
     "metadata": {},
     "output_type": "execute_result"
    }
   ],
   "source": [
    "temp_df[\"agent_2\"][1400700]"
   ]
  },
  {
   "cell_type": "markdown",
   "id": "362406fe-3022-4d03-987e-bf2e1a6ac1ac",
   "metadata": {
    "jp-MarkdownHeadingCollapsed": true
   },
   "source": [
    "### RAG Pipeline using Chroma Database"
   ]
  },
  {
   "cell_type": "code",
   "execution_count": 2,
   "id": "e488c1af-51a5-4674-a23d-b8dc88db0893",
   "metadata": {},
   "outputs": [],
   "source": [
    "torch.cuda.empty_cache()\n",
    "device = torch.device('cuda' if torch.cuda.is_available() else 'cpu')\n",
    "model_name = '../Saved_Models/Sky/fine-tuned-bert-sentiment_2024_10_04_0'\n",
    "tokenizer = BartTokenizer.from_pretrained(model_name)\n",
    "model = BartForConditionalGeneration.from_pretrained(model_name)\n",
    "model = model.to(device)\n",
    "# data_collator = DataCollatorForSeq2Seq(tokenizer, model=model)"
   ]
  },
  {
   "cell_type": "markdown",
   "id": "eddfc833-c36c-4103-a16a-cc8a5660e49f",
   "metadata": {
    "jp-MarkdownHeadingCollapsed": true
   },
   "source": [
    "#### Data Cleaning"
   ]
  },
  {
   "cell_type": "code",
   "execution_count": 3,
   "id": "edf38a1b-1a84-49e7-a7c2-b93b6f7a0c8b",
   "metadata": {},
   "outputs": [],
   "source": [
    "def clean_latex(text):\n",
    "    # Remove LaTeX commands like {\\\\displaystyle}, {\\\\text{}}, etc.\n",
    "    cleaned_text = re.sub(r'\\\\displaystyle|\\\\text\\{.*?\\}', '', text)\n",
    "    \n",
    "    # Remove any LaTeX curly braces and unnecessary whitespaces\n",
    "    cleaned_text = re.sub(r'\\\\[a-z]+|{|}', '', cleaned_text)\n",
    "    \n",
    "    # Replace LaTeX-specific representations like \\\\dots with their equivalent\n",
    "    cleaned_text = re.sub(r'\\\\dots', '...', cleaned_text)\n",
    "    \n",
    "    # Remove multiple spaces introduced by LaTeX removal\n",
    "    cleaned_text = re.sub(r'\\s+', ' ', cleaned_text).strip()\n",
    "    \n",
    "    return cleaned_text"
   ]
  },
  {
   "cell_type": "code",
   "execution_count": 4,
   "id": "4c86d4f3-edb3-47d4-b03d-b68dd637592e",
   "metadata": {},
   "outputs": [],
   "source": [
    "class ThreadWithReturnValue(Thread):\n",
    "    def __init__(self, group=None, target=None, name=None,\n",
    "                 args=(), kwargs={}, Verbose=None):\n",
    "        Thread.__init__(self, group, target, name, args, kwargs)\n",
    "        self._return = None\n",
    "\n",
    "    def run(self):\n",
    "        if self._target is not None:\n",
    "            self._return = self._target(*self._args,\n",
    "                                                **self._kwargs)\n",
    "    def join(self, *args):\n",
    "        Thread.join(self, *args)\n",
    "        return self._return"
   ]
  },
  {
   "cell_type": "code",
   "execution_count": 5,
   "id": "082e8261-7f77-43db-bb06-c37bdf97251d",
   "metadata": {},
   "outputs": [],
   "source": [
    "def data_mining(website):\n",
    "    filtered_content = \"\"\n",
    "    if (\".gov\" not in website) and (\"linkedin.com\" not in website) and (\"reddit.com\" not in website):\n",
    "        URL = website\n",
    "        r = requests.get(URL) \n",
    "        soup = BeautifulSoup(r.content, 'html5lib')\n",
    "        for tag in soup(['nav', 'header', 'footer', 'script', 'style', 'aside']):\n",
    "            tag.decompose()\n",
    "        for tag in soup.find_all(['h1', 'h2', 'h3', 'h4', 'p', 'li','strong']):\n",
    "            filtered_content = filtered_content+tag.get_text()\n",
    "        remove_latex = clean_latex(filtered_content)\n",
    "        chunks = create_chunks(remove_latex)\n",
    "    return chunks\n"
   ]
  },
  {
   "cell_type": "code",
   "execution_count": 6,
   "id": "e9d94dbc-f4d6-43ed-804e-60cf322d2ae1",
   "metadata": {},
   "outputs": [],
   "source": [
    "def get_google_search_links(query):\n",
    "    return [link for link in search(query)]"
   ]
  },
  {
   "cell_type": "code",
   "execution_count": 7,
   "id": "21937f70-d5e8-4699-8aee-5a4acd65aa55",
   "metadata": {},
   "outputs": [],
   "source": [
    "def create_chunks(cleaned_data):\n",
    "    ids_list = []\n",
    "    final_chunks = []\n",
    "    random_number = random.randint(0,10000000000)\n",
    "    loop = math.ceil(len(cleaned_data)/2000)\n",
    "    for i in range(0,loop):\n",
    "        if i ==0:\n",
    "            final_chunks.append(cleaned_data[(i*2000):(i+1)*2000])\n",
    "        else:\n",
    "            final_chunks.append(cleaned_data[(i*2000)-500:(i+1)*2000])\n",
    "        ids_list.append(str(random_number+(i/50)))\n",
    "    return (final_chunks,ids_list)\n",
    "    # return final_chunks"
   ]
  },
  {
   "cell_type": "code",
   "execution_count": 22,
   "id": "c6bbd08d-f753-4d51-bcf6-66565a9ef153",
   "metadata": {},
   "outputs": [],
   "source": [
    "# spark.stop()\n",
    "# spark = SparkSession.builder \\\n",
    "#     .master(\"local\") \\\n",
    "#     .config(\"spark.driver.memory\", \"1g\") \\\n",
    "#     .config(\"spark.executor.memory\", \"1g\") \\\n",
    "#     .appName(\"WebScrapingWithPySpark\") \\\n",
    "#     .getOrCreate()\n",
    "\n",
    "# cleaned_data_udf = udf(clean_latex, StringType())\n",
    "# # create_chunks_udf = udf(create_chunks, ArrayType(StringType()), ArrayType(StringType()))\n",
    "# schema = StructType([\n",
    "#     StructField(\"chunks\", ArrayType(StringType())),\n",
    "#     StructField(\"ids\", ArrayType(StringType()))\n",
    "# ])\n",
    "# create_chunks_udf = udf(create_chunks, schema)\n"
   ]
  },
  {
   "cell_type": "code",
   "execution_count": 8,
   "id": "7669b2b9-20c6-4847-a9f0-a719bdb5df53",
   "metadata": {},
   "outputs": [],
   "source": [
    "collection = chroma_client.get_or_create_collection(name=\"my_collection\")"
   ]
  },
  {
   "cell_type": "code",
   "execution_count": 9,
   "id": "a9963382-6a6f-4718-977f-b1bd3a81dc11",
   "metadata": {},
   "outputs": [],
   "source": [
    "query = [\"How to make crossiant?\",\"What is Big Data?\",\"Which of the following is a Characteristic of BigDdata?\",\"What is Hadoop?\",\"What is the Function of RAM?\"]"
   ]
  },
  {
   "cell_type": "code",
   "execution_count": 10,
   "id": "357fc609-eb9c-4b2e-a60b-3a8a8b14bf7c",
   "metadata": {},
   "outputs": [],
   "source": [
    "q = query[1]"
   ]
  },
  {
   "cell_type": "code",
   "execution_count": 36,
   "id": "2576fb34-3e2f-4892-b6f2-c5ea548e65ae",
   "metadata": {},
   "outputs": [],
   "source": [
    "###############################Data Fecthing################################\n",
    "def fetch_data(q):\n",
    "    website_links = get_google_search_links(q)\n",
    "    threads_list = [ThreadWithReturnValue(target=data_mining, args=(website,)) for website in website_links[:5]]\n",
    "    [thread.start() for thread in threads_list]\n",
    "    fetched_data = [thread.join() for thread in threads_list]\n",
    "    return fetched_data"
   ]
  },
  {
   "cell_type": "markdown",
   "id": "0d095e67-479a-425e-9c04-d7afef084a63",
   "metadata": {
    "jp-MarkdownHeadingCollapsed": true
   },
   "source": [
    "#### RAG Pipeline"
   ]
  },
  {
   "cell_type": "code",
   "execution_count": 39,
   "id": "a62f51a7-f066-4e27-b27b-5a43c20e76eb",
   "metadata": {},
   "outputs": [
    {
     "name": "stdout",
     "output_type": "stream",
     "text": [
      "[[0.4907780587673187, 0.49605846405029297]]\n",
      "In the 1960s, the United States established a massive data center to store millions of tax records. This marked the beginning of digital data management. However, with advancements in technology and sophisticated analytics capabilities, businesses are now able to save large amounts of data for pennies on the dollar using data lakes or data warehouses like Snowflake. As a result, big data has become more complex and vast than ever before, making it challenging for organizations to gather, manage, understand, and utilize data effectively. It also presents challenges in IT, business, as well as emerging analytics technologies. To address these issues, we provide guidance on how\n",
      "Execution time: 3.7856297492980957 seconds\n"
     ]
    }
   ],
   "source": [
    "start_time = time.time()\n",
    "fetched_data = fetch_data(q)\n",
    "# print(\"Query : {}\".format(q))\n",
    "\n",
    "final_chunks = []\n",
    "final_ids = []\n",
    "for f in fetched_data:\n",
    "    for i in f[0]:\n",
    "        final_chunks.append(i)\n",
    "    for i in f[1]:\n",
    "        final_ids.append(i)\n",
    "\n",
    "# # print(flat_list)\n",
    "\n",
    "collection.add(\n",
    "    documents=final_chunks,\n",
    "    ids=final_ids\n",
    ")\n",
    "results = collection.query(\n",
    "    query_texts=q, # Chroma will embed this for you\n",
    "    n_results=2 # how many results to return\n",
    ")\n",
    "print(results['distances'])\n",
    "\n",
    "\n",
    "input_ids = tokenizer.encode(\"<context>{}agent_1:{}\".format(results[\"documents\"][0][0],q), return_tensors='pt',max_length=512, truncation=True).to(device)\n",
    "output = model.generate(\n",
    "    input_ids, \n",
    "    max_length=128, \n",
    "    num_beams=10, \n",
    "    early_stopping=True, \n",
    "    no_repeat_ngram_size=2,  # Prevent repeating n-grams\n",
    "    num_return_sequences=1,  # Number of sequences to return\n",
    "    temperature=0.7,  # Sampling temperature\n",
    "    top_k=50,  # Top-K sampling\n",
    "    top_p=0.9  # Top-p (nucleus) sampling\n",
    ")\n",
    "resp = tokenizer.decode(output[0], skip_special_tokens=True)\n",
    "print(resp)\n",
    "end_time = time.time()\n",
    "execution_time = end_time - start_time\n",
    "print(f\"Execution time: {execution_time} seconds\")"
   ]
  },
  {
   "cell_type": "code",
   "execution_count": 41,
   "id": "7d90b65c-94b8-495f-81fc-e0249440a9ac",
   "metadata": {},
   "outputs": [
    {
     "data": {
      "text/plain": [
       "2453"
      ]
     },
     "execution_count": 41,
     "metadata": {},
     "output_type": "execute_result"
    }
   ],
   "source": [
    "collection.count()"
   ]
  },
  {
   "cell_type": "code",
   "execution_count": null,
   "id": "877e44fa-f33e-4ee4-b047-ef8db93aa491",
   "metadata": {},
   "outputs": [],
   "source": [
    "# temp_df = list(zip(website_links, fetched_data))\n",
    "# uncleaned_df = spark.createDataFrame(temp_df, [\"url\", \"uncleaned_data\"])\n",
    "# cleaned_df = uncleaned_df.withColumn(\"cleaned_data\", cleaned_data_udf(\"uncleaned_data\"))\n",
    "# clean_df = cleaned_df.withColumn(\"processed\", create_chunks_udf(\"cleaned_data\"))\n",
    "# clean_df = clean_df.select(\n",
    "#     F.col('processed.chunks').alias(\"chunks\"),\n",
    "#     F.col('processed.ids').alias(\"ids\")\n",
    "# )\n",
    "# chunks_df = clean_df.withColumn(\"zipped\", arrays_zip(\"chunks\", \"ids\")) \\\n",
    "#        .withColumn(\"exploded\", explode(\"zipped\")) \\\n",
    "#        .select(clean_df.chunks.alias(\"chunks_array\"), \"exploded.chunks\", \"exploded.ids\")\n",
    "# chunks_df = chunks_df.drop('chunks_array')"
   ]
  },
  {
   "cell_type": "code",
   "execution_count": null,
   "id": "2e0443b1-3da4-4fa8-aff5-a3c15a17144c",
   "metadata": {},
   "outputs": [],
   "source": [
    "# chunks_df.show()\n",
    "# pandas_df = chunks_df.toPandas()\n",
    "# collection.add(\n",
    "#     documents=list(pandas_df[\"chunks\"]),\n",
    "#     ids=list(pandas_df[\"ids\"])\n",
    "# )\n",
    "# results = collection.query(\n",
    "#     query_texts=[q], # Chroma will embed this for you\n",
    "#     n_results=2 # how many results to return\n",
    "# )\n",
    "# print(results['distances'])"
   ]
  },
  {
   "cell_type": "code",
   "execution_count": null,
   "id": "40c1f6bc-eca9-4d5f-99e6-e5604ebbf010",
   "metadata": {},
   "outputs": [],
   "source": [
    "# print(\"Query : {}\".format(q))\n",
    "# input_ids = tokenizer.encode(\"<context>{}agent_1:{}\".format(results[\"documents\"][0][0],query), return_tensors='pt',max_length=1024, truncation=True).to(device)\n",
    "# output = model.generate(\n",
    "#     input_ids, \n",
    "#     max_length=512, \n",
    "#     num_beams=10, \n",
    "#     early_stopping=True, \n",
    "#     no_repeat_ngram_size=2,  # Prevent repeating n-grams\n",
    "#     num_return_sequences=1,  # Number of sequences to return\n",
    "#     temperature=0.7,  # Sampling temperature\n",
    "#     top_k=50,  # Top-K sampling\n",
    "#     top_p=0.9  # Top-p (nucleus) sampling\n",
    "# )\n",
    "# resp = tokenizer.decode(output[0], skip_special_tokens=True)\n",
    "# print(resp)"
   ]
  },
  {
   "cell_type": "code",
   "execution_count": 24,
   "id": "3913f4c0-37f2-4856-ae71-ec90ec86f56e",
   "metadata": {},
   "outputs": [
    {
     "name": "stdout",
     "output_type": "stream",
     "text": [
      "Query : How to make crossiant?\n",
      "agent_2:A professional chef’s tips for making French croissants.\n",
      "\n",
      "Query : What is Big Data?\n",
      "The concept of big data encompasses a wide range of data sources and formats, including web logs, social media interactions, ecommerce and online transactions, financial transactions. However, due to increasing volume, velocity, and variety, traditional databases are unable to handle this challenge effectively. To overcome these challenges, organizations must employ cutting-edge technologies such as Hadoop, which allow them to collect and store large datasets while also analyzing them in order to uncover new and valuable insights. By doing so, companies can streamline their operations and increase productivity and competitiveness.\n",
      "\n",
      "Query : Which of the following is a Characteristic of BigDdata?\n",
      "agent_2:What are the characteristics of big data?\n",
      "1) There is a lot of data\n",
      "2) Big data formats change rapidly\n",
      "3) Which of the following is not an issue\n",
      "4) It can come from untrusted sources\n",
      "\n",
      "Query : What is Hadoop?\n",
      "The term \"Hadoop\" refers to a project and a software library. Any other usage is ill-defined. In addition to Apache hadoop definition from Official website, I would like to highlight that there are many sub-systems in the HadoOP ecosystem. Quoting this content from official website so that broken links in future does not cause any issue to this answer.\n",
      "\n",
      "Query : What is the Function of RAM?\n",
      "Many modern personal computers come equipped with RAM in the form of modules known as memory modules or DRAM modules, which are roughly the size of a few sticks of chewing gum. These can be easily replaced should they become damaged or when changing needs demand more storage capacity. When the system runs low on physical memory, it can \"swap\" portions of RAM to the paging file to make room for new data, as well as to read previously swapped information back into RAM. Virtual memory most modern operating systems employ a method of extending RAM capacity, commonly referred to as \"virtual memory.\" A portion of the computer's hard drive is set aside for a \"paging\" file or a scratch partition, and the combination of physical RAM and this file forms the total memory. This process, sometimes called shadowing, is fairly common in both computers and embedded systems.\n",
      "\n",
      "Execution time: 26.451351642608643 seconds\n"
     ]
    },
    {
     "name": "stderr",
     "output_type": "stream",
     "text": [
      "----------------------------------------\n",
      "Exception occurred during processing of request from ('127.0.0.1', 59166)\n",
      "Traceback (most recent call last):\n",
      "  File \"C:\\Users\\Akshay\\anaconda3\\envs\\tf\\lib\\socketserver.py\", line 316, in _handle_request_noblock\n",
      "    self.process_request(request, client_address)\n",
      "  File \"C:\\Users\\Akshay\\anaconda3\\envs\\tf\\lib\\socketserver.py\", line 347, in process_request\n",
      "    self.finish_request(request, client_address)\n",
      "  File \"C:\\Users\\Akshay\\anaconda3\\envs\\tf\\lib\\socketserver.py\", line 360, in finish_request\n",
      "    self.RequestHandlerClass(request, client_address, self)\n",
      "  File \"C:\\Users\\Akshay\\anaconda3\\envs\\tf\\lib\\socketserver.py\", line 747, in __init__\n",
      "    self.handle()\n",
      "  File \"C:\\Users\\Akshay\\anaconda3\\envs\\tf\\lib\\site-packages\\pyspark\\accumulators.py\", line 295, in handle\n",
      "    poll(accum_updates)\n",
      "  File \"C:\\Users\\Akshay\\anaconda3\\envs\\tf\\lib\\site-packages\\pyspark\\accumulators.py\", line 267, in poll\n",
      "    if self.rfile in r and func():\n",
      "  File \"C:\\Users\\Akshay\\anaconda3\\envs\\tf\\lib\\site-packages\\pyspark\\accumulators.py\", line 271, in accum_updates\n",
      "    num_updates = read_int(self.rfile)\n",
      "  File \"C:\\Users\\Akshay\\anaconda3\\envs\\tf\\lib\\site-packages\\pyspark\\serializers.py\", line 594, in read_int\n",
      "    length = stream.read(4)\n",
      "  File \"C:\\Users\\Akshay\\anaconda3\\envs\\tf\\lib\\socket.py\", line 704, in readinto\n",
      "    return self._sock.recv_into(b)\n",
      "ConnectionResetError: [WinError 10054] An existing connection was forcibly closed by the remote host\n",
      "----------------------------------------\n"
     ]
    }
   ],
   "source": [
    "# start_time = time.time()\n",
    "# website_links = get_google_search_links(q)\n",
    "\n",
    "# ###############################SPARK################################\n",
    "\n",
    "# threads_list = [ThreadWithReturnValue(target=data_mining, args=(website,)) for website in website_links[:5]]\n",
    "# [thread.start() for thread in threads_list]\n",
    "# fetched_data = [thread.join() for thread in threads_list]\n",
    "\n",
    "# temp_df = list(zip(website_links, fetched_data))\n",
    "# uncleaned_df = spark.createDataFrame(temp_df, [\"url\", \"uncleaned_data\"])\n",
    "# cleaned_df = uncleaned_df.withColumn(\"cleaned_data\", cleaned_data_udf(\"uncleaned_data\"))\n",
    "# clean_df = cleaned_df.withColumn(\"processed\", create_chunks_udf(\"cleaned_data\"))\n",
    "\n",
    "# clean_df = clean_df.select(\n",
    "#     F.col('processed.chunks').alias(\"chunks\"),\n",
    "#     F.col('processed.ids').alias(\"ids\")\n",
    "# )\n",
    "\n",
    "# chunks_df = clean_df.withColumn(\"zipped\", arrays_zip(\"chunks\", \"ids\")) \\\n",
    "#        .withColumn(\"exploded\", explode(\"zipped\")) \\\n",
    "#        .select(clean_df.chunks.alias(\"chunks_array\"), \"exploded.chunks\", \"exploded.ids\")\n",
    "# chunks_df = chunks_df.drop('chunks_array')\n",
    "\n",
    "# # pandas_df = chunks_df.toPandas()\n",
    "# # conn = sqlite3.connect('chroma.sqlite3')  # 'example.db' is the SQLite database file\n",
    "# # pandas_df.to_sql('table_name', conn, if_exists='replace', index=False)\n",
    "# # conn.close()\n",
    "# # spark.stop()\n",
    "\n",
    "# ###########################CHROMA###################################\n",
    "\n",
    "# # chunks_df.show()\n",
    "# pandas_df = chunks_df.toPandas()\n",
    "# collection.add(\n",
    "#     documents=list(pandas_df[\"chunks\"]),\n",
    "#     ids=list(pandas_df[\"ids\"])\n",
    "# )\n",
    "# results = collection.query(\n",
    "#     query_texts=[q], # Chroma will embed this for you\n",
    "#     n_results=2 # how many results to return\n",
    "# )\n",
    "# # print(results['distances'])\n",
    "\n",
    "# ###########################LLM##################################\n",
    "\n",
    "# print(\"Query : {}\".format(q))\n",
    "# input_ids = tokenizer.encode(\"<context>{}agent_1:{}\".format(results[\"documents\"][0][0],query), return_tensors='pt',max_length=1024, truncation=True).to(device)\n",
    "# output = model.generate(\n",
    "#     input_ids, \n",
    "#     max_length=512, \n",
    "#     num_beams=10, \n",
    "#     early_stopping=True, \n",
    "#     no_repeat_ngram_size=2,  # Prevent repeating n-grams\n",
    "#     num_return_sequences=1,  # Number of sequences to return\n",
    "#     temperature=0.7,  # Sampling temperature\n",
    "#     top_k=50,  # Top-K sampling\n",
    "#     top_p=0.9  # Top-p (nucleus) sampling\n",
    "# )\n",
    "# resp = tokenizer.decode(output[0], skip_special_tokens=True)\n",
    "# print(resp)\n",
    "# print()\n",
    "# end_time = time.time()\n",
    "# execution_time = end_time - start_time\n",
    "# print(f\"Execution time: {execution_time} seconds\")"
   ]
  },
  {
   "cell_type": "code",
   "execution_count": 15,
   "id": "b9d21733-2195-49ea-98a8-a62d1a63e413",
   "metadata": {},
   "outputs": [],
   "source": []
  },
  {
   "cell_type": "code",
   "execution_count": 20,
   "id": "364eb77e-d642-494e-8572-bc8de7314424",
   "metadata": {},
   "outputs": [
    {
     "name": "stdout",
     "output_type": "stream",
     "text": [
      "Generated Output: agentagent>:Data and Data management Ben Lutkevich, Site Editor Ivy Wigmore, are the 3 V's of big data? The 3 V's (volume, velocity and variety) are three defining characteristics or dimensions of big data. Volume refers to the amount of data, velocity refers to the speed of data processing, and variety refers to the number of types of data. As to the 3 V's model, the challenges of big data management result from the expansion of all three properties, rather than just the volume alone or the sheer amount of data to be managed. An organization can be better equipped to deal with big data challenges through understanding the 3 V's of big data management. Gartner analyst Doug Laney introduced the 3 V's concept in a 2001 Meta Group research publication, \"3D Data Management: Controlling Data Volume, Velocity and Variety.\" More recently, additional V's have been proposed for addition to the model, including variability -- the increase in the range of values typical of a large data set -- and value, which addresses the need for valuation of enterprise data.Data using the 3 V's is sometimes referred to as 3D data. Why are the 3 V's important to big data? The 3 V's help define data and are how it's measured. Big data refers to data points that are generated frequently, in high volume and in multiple forms. These characteristics determine the data modeling techniques analysts use, such as how the data is processed and stored They also play part in determining the value data theory, a higher volume, and variety data more valuable it creates a stronger analytical basis stronger Data with little variety yieldvelocity Data with tooing provides understandingWhatWhat\n",
      "Confidence Score: 0.8939192891120911\n"
     ]
    }
   ],
   "source": [
    "from torch.nn.functional import softmax\n",
    "\n",
    "# Tokenize the input\n",
    "input_ids = tokenizer.encode(\"<context>{}agent_1:{}\".format(results[\"documents\"][0][0],query), return_tensors='pt', max_length=512, truncation=True).to(device)\n",
    "\n",
    "# Forward pass through the model to get the logits\n",
    "with torch.no_grad():\n",
    "    outputs = model(input_ids, labels=input_ids)\n",
    "    logits = outputs.logits\n",
    "\n",
    "# Get the predicted token ids from the logits (the most likely tokens)\n",
    "predicted_ids = torch.argmax(logits, dim=-1)\n",
    "\n",
    "# Calculate the probabilities (softmax) for the predicted tokens\n",
    "probabilities = softmax(logits, dim=-1)\n",
    "\n",
    "# Get the probabilities of the predicted tokens\n",
    "predicted_probabilities = probabilities.gather(2, predicted_ids.unsqueeze(-1)).squeeze(-1)\n",
    "\n",
    "# Calculate the confidence score as the average probability of the predicted tokens\n",
    "confidence_score = predicted_probabilities.mean().item()\n",
    "\n",
    "print(\"Generated Output:\", tokenizer.decode(predicted_ids[0], skip_special_tokens=True).replace(\"\\n\",\"\"))\n",
    "print(\"Confidence Score:\", confidence_score)"
   ]
  },
  {
   "cell_type": "markdown",
   "id": "08a0105b-adfe-44ec-9801-724f68dfad6c",
   "metadata": {},
   "source": [
    "### KGLA"
   ]
  },
  {
   "cell_type": "code",
   "execution_count": 148,
   "id": "8de481db-aa21-4ba4-9aa4-b82ea21f7659",
   "metadata": {},
   "outputs": [],
   "source": [
    "URL = \"https://en.wikipedia.org/wiki/Strategy_game\""
   ]
  },
  {
   "cell_type": "code",
   "execution_count": 149,
   "id": "652365a3-69b8-4f59-9ba7-465306223411",
   "metadata": {},
   "outputs": [],
   "source": [
    "r = requests.get(URL)\n",
    "soup = BeautifulSoup(r.content, 'html5lib')"
   ]
  },
  {
   "cell_type": "code",
   "execution_count": 150,
   "id": "99b30eed-23b9-4d69-8f3f-038f6a2741d4",
   "metadata": {},
   "outputs": [],
   "source": [
    "h1_tag = str(soup.find('h1'))"
   ]
  },
  {
   "cell_type": "code",
   "execution_count": 151,
   "id": "3d51e058-955c-4d8b-9919-989f76d53900",
   "metadata": {},
   "outputs": [
    {
     "data": {
      "text/plain": [
       "'<h1 class=\"firstHeading mw-first-heading\" id=\"firstHeading\"><span class=\"mw-page-title-main\">Strategy game</span></h1>'"
      ]
     },
     "execution_count": 151,
     "metadata": {},
     "output_type": "execute_result"
    }
   ],
   "source": [
    "h1_tag"
   ]
  },
  {
   "cell_type": "code",
   "execution_count": 152,
   "id": "e2739212-ca24-48ff-a211-d6082530a38e",
   "metadata": {},
   "outputs": [],
   "source": [
    "parent_node = soup.find('title').text"
   ]
  },
  {
   "cell_type": "code",
   "execution_count": 153,
   "id": "6269d73d-202c-4567-8825-0636bb9c89df",
   "metadata": {},
   "outputs": [],
   "source": [
    "if parent_node == '403 Forbidden':\n",
    "    print(\"Forbidden\")"
   ]
  },
  {
   "cell_type": "code",
   "execution_count": 154,
   "id": "50b1c152-a008-4723-97e0-2a7570cb7d06",
   "metadata": {},
   "outputs": [],
   "source": [
    "for tag in soup(['nav', 'header', 'footer', 'script', 'style', 'aside']):\n",
    "    tag.decompose()"
   ]
  },
  {
   "cell_type": "code",
   "execution_count": 158,
   "id": "939cc3fc-b980-41b2-af0d-4eefe921a397",
   "metadata": {},
   "outputs": [],
   "source": [
    "imp_tags = soup.find_all(['h1', 'h2', 'h3', 'h4','h5','strong', 'p', 'li'])\n",
    "imp_tags.insert(0,BeautifulSoup(h1_tag, 'html5lib').find(\"h1\"))"
   ]
  },
  {
   "cell_type": "code",
   "execution_count": 160,
   "id": "e9b8f1e3-919e-44b8-ba8b-eabfdf921b17",
   "metadata": {
    "scrolled": true
   },
   "outputs": [
    {
     "data": {
      "text/plain": [
       "[<h1 class=\"firstHeading mw-first-heading\" id=\"firstHeading\"><span class=\"mw-page-title-main\">Strategy game</span></h1>,\n",
       " <p>A <b>strategy game</b> or <b>strategic game</b> is a <a href=\"/wiki/Game\" title=\"Game\">game</a> in which the players' <a href=\"/wiki/Coercion\" title=\"Coercion\">uncoerced</a>, and often <a class=\"mw-redirect\" href=\"/wiki/Autonomous\" title=\"Autonomous\">autonomous</a>, decision-making skills have a high significance in determining the outcome. Almost all strategy games require internal <a href=\"/wiki/Decision_tree\" title=\"Decision tree\">decision tree</a>-style thinking, and typically very high <a class=\"mw-redirect\" href=\"/wiki/Situational_awareness\" title=\"Situational awareness\">situational awareness</a>.\n",
       " </p>,\n",
       " <p>Strategy games are also seen as a descendant of <a class=\"mw-redirect\" href=\"/wiki/War_games\" title=\"War games\">war games</a>, and define strategy in terms of the context of war, but this is more partial. A strategy game is a game that relies primarily on strategy, and when it comes to defining what strategy is, two factors need to be taken into account: its complexity and game-scale actions, such as each placement in the <i><a href=\"/wiki/Total_War_(video_game_series)\" title=\"Total War (video game series)\">Total War</a></i> video game series. The definition of a strategy game in its cultural context should be any game that belongs to a tradition that goes back to war games, contains more strategy than the average video game, contains certain gameplay conventions, and is represented by a particular community. Although war is dominant in strategy games, it is not the whole story.<sup class=\"reference\" id=\"cite_ref-multiple_1-0\"><a href=\"#cite_note-multiple-1\"><span class=\"cite-bracket\">[</span>1<span class=\"cite-bracket\">]</span></a></sup>\n",
       " </p>,\n",
       " <h2 id=\"History\">History</h2>,\n",
       " <p>The history of turn-based strategy games goes back to the times of ancient civilizations found in places such as Rome, Greece, Egypt, the Levant, and India. Many were played widely through their regions of origin, but only some are still played today.<sup class=\"reference\" id=\"cite_ref-:32_2-0\"><a href=\"#cite_note-:32-2\"><span class=\"cite-bracket\">[</span>2<span class=\"cite-bracket\">]</span></a></sup>\n",
       " </p>,\n",
       " <p>According to <a href=\"/wiki/Thierry_Depaulis\" title=\"Thierry Depaulis\">Thierry Depaulis</a>, oldest strategy games would be the \"Greek game of <a href=\"/wiki/Polis_(board_game)\" title=\"Polis (board game)\">polis</a> (πόλις), which appears in the literature around 450 BCE, and the more or less contemporary Chinese game of weiqi (‘<a href=\"/wiki/Go_(game)\" title=\"Go (game)\">go</a>’), which, under the name of yi (弈), is mentioned in <a href=\"/wiki/Confucius\" title=\"Confucius\">Confucius’s</a> <a href=\"/wiki/Analects\" title=\"Analects\">Analects</a> (Lunyu) compiled between ca 470/50 and 280 BCE.\"<sup class=\"reference\" id=\"cite_ref-:32_2-1\"><a href=\"#cite_note-:32-2\"><span class=\"cite-bracket\">[</span>2<span class=\"cite-bracket\">]</span></a></sup>\n",
       " </p>,\n",
       " <p>The <a href=\"/wiki/Royal_Game_of_Ur\" title=\"Royal Game of Ur\">Royal Game of Ur</a> from c. 2500 BCE which often been called one of the oldest board games, likely had some strategy elements as well, although it is generally seen as a luck-based <a href=\"/wiki/Race_game\" title=\"Race game\">race game</a>.<sup class=\"reference\" id=\"cite_ref-:22_3-0\"><a href=\"#cite_note-:22-3\"><span class=\"cite-bracket\">[</span>3<span class=\"cite-bracket\">]</span></a></sup><sup class=\"reference\" id=\"cite_ref-:23_4-0\"><a href=\"#cite_note-:23-4\"><span class=\"cite-bracket\">[</span>4<span class=\"cite-bracket\">]</span></a></sup>\n",
       " </p>,\n",
       " <p>One of the earliest strategy games still played is <a href=\"/wiki/Mancala\" title=\"Mancala\">mancala</a>.<sup class=\"reference\" id=\"cite_ref-5\"><a href=\"#cite_note-5\"><span class=\"cite-bracket\">[</span>5<span class=\"cite-bracket\">]</span></a></sup> Due to claims that some artifacts from c. 5000 BCE might be old mancala boards, it has been suggested that mancala may be the oldest known strategy game, but this claim has been disputed.<sup class=\"reference\" id=\"cite_ref-:22_3-1\"><a href=\"#cite_note-:22-3\"><span class=\"cite-bracket\">[</span>3<span class=\"cite-bracket\">]</span></a></sup>\n",
       " </p>,\n",
       " <p>Another game that has stood the test of time is <a href=\"/wiki/Chess\" title=\"Chess\">chess</a>, believed to have originated in India around the sixth century CE.<sup class=\"reference\" id=\"cite_ref-6\"><a href=\"#cite_note-6\"><span class=\"cite-bracket\">[</span>6<span class=\"cite-bracket\">]</span></a></sup> The game spread to the west by trade, but chess gained social status and permanence more strongly than many other games. Chess became a game of skill and tactics often forcing the players to think two or three moves ahead of their opponent just to keep up.<sup class=\"reference\" id=\"cite_ref-7\"><a href=\"#cite_note-7\"><span class=\"cite-bracket\">[</span>7<span class=\"cite-bracket\">]</span></a></sup>\n",
       " </p>,\n",
       " <h2 id=\"Types\">Types</h2>,\n",
       " <h3 id=\"Abstract_strategy\">Abstract strategy</h3>,\n",
       " <p>In <a href=\"/wiki/Abstract_strategy_game\" title=\"Abstract strategy game\">abstract strategy games</a>, the game is only loosely tied to a thematic concept, if at all. The rules do not attempt to simulate reality, but rather serve the internal logic of the game.\n",
       " </p>,\n",
       " <p>A purist's definition of an abstract strategy game requires that it cannot have random elements or hidden information. This definition includes such games as <a href=\"/wiki/Chess\" title=\"Chess\">chess</a> and <a href=\"/wiki/Go_(game)\" title=\"Go (game)\">Go</a>. However, many games are commonly classed as abstract strategy games which do not meet these criteria: games such as <a href=\"/wiki/Backgammon\" title=\"Backgammon\">backgammon</a>, Octiles, <i><a href=\"/wiki/Can%27t_Stop_(board_game)\" title=\"Can't Stop (board game)\">Can't Stop</a></i>, <a class=\"mw-redirect\" href=\"/wiki/Sequence_(board_game)\" title=\"Sequence (board game)\">Sequence</a> and Mentalis have all been described as \"abstract strategy\" games despite having a chance element.<sup class=\"noprint Inline-Template Template-Fact\" style=\"white-space:nowrap;\">[<i><a href=\"/wiki/Wikipedia:Citation_needed\" title=\"Wikipedia:Citation needed\"><span title=\"This claim needs references to reliable sources. (April 2008)\">citation needed</span></a></i>]</sup> A smaller category of non-perfect abstract strategy games incorporate hidden information without using any random elements; for example, <a href=\"/wiki/Stratego\" title=\"Stratego\">Stratego</a>.\n",
       " </p>,\n",
       " <h3 id=\"Team_strategy\">Team strategy</h3>,\n",
       " <p>One of the most focused team strategy games is <a href=\"/wiki/Contract_bridge\" title=\"Contract bridge\">contract bridge</a>. This card game consists of two teams of two players, whose offensive and defensive skills are continually in flux as the game's dynamic progresses. Some argue that the benefits of playing this team strategy card game extend to those skills and strategies used in business<sup class=\"reference\" id=\"cite_ref-8\"><a href=\"#cite_note-8\"><span class=\"cite-bracket\">[</span>8<span class=\"cite-bracket\">]</span></a></sup> and that the playing of these games helps to automate strategic awareness.\n",
       " </p>,\n",
       " <h3 id=\"Eurogames\">Eurogames</h3>,\n",
       " <p>Eurogames, or German-style boardgames, are a relatively new genre that sit between abstract strategy games and simulation games. They generally have simple rules, short to medium playing times, indirect player interaction and abstract physical components. The games emphasize strategy, play down chance and conflict, lean towards economic rather than military themes, and usually keep all the players in the game until it ends.\n",
       " </p>,\n",
       " <h3 id=\"Simulation\">Simulation</h3>,\n",
       " <p>This type of game is an attempt to simulate the decisions and processes inherent to some real-world situation. Most of the rules are chosen to reflect what the real-world consequences would be of each player's actions and decisions. \n",
       " Abstract games cannot be completely divided from simulations and so games can be thought of as existing on a continuum of almost pure abstraction (like <i><a href=\"/wiki/Abalone_(board_game)\" title=\"Abalone (board game)\">Abalone</a></i>) to almost pure simulation (like <i><a class=\"mw-redirect\" href=\"/wiki/Diceball!\" title=\"Diceball!\">Diceball!</a></i> or <i><a class=\"mw-redirect\" href=\"/wiki/Strat-o-Matic\" title=\"Strat-o-Matic\">Strat-o-Matic Baseball</a></i>).\n",
       " </p>,\n",
       " <h3 id=\"Wargame\">Wargame</h3>,\n",
       " <p><a class=\"mw-redirect\" href=\"/wiki/Wargaming\" title=\"Wargaming\">Wargames</a> are simulations of military battles, campaigns, or entire wars. Players will have to consider situations that are analogous to the situations faced by leaders of historical battles. As such, wargames are usually heavy on simulation elements, and while they are all \"strategy games\", they can also be \"strategic\" or \"tactical\" in the military jargon sense. Its creator, <a href=\"/wiki/H._G._Wells\" title=\"H. G. Wells\">H. G. Wells</a>, stated how \"much better is this amiable miniature [war] than the real thing\".<sup class=\"reference\" id=\"cite_ref-9\"><a href=\"#cite_note-9\"><span class=\"cite-bracket\">[</span>9<span class=\"cite-bracket\">]</span></a></sup>\n",
       " </p>,\n",
       " <p>Traditionally, wargames have been played either with <a href=\"/wiki/Miniature_wargaming\" title=\"Miniature wargaming\">miniatures</a>, using physical models of detailed terrain and miniature representations of people and equipment to depict the game state; or on a board, which commonly uses cardboard <a href=\"/wiki/Counter_(board_wargames)\" title=\"Counter (board wargames)\">counters</a> on a <a href=\"/wiki/Hex_map\" title=\"Hex map\">hex map</a>.\n",
       " </p>,\n",
       " <p>Popular miniature wargames include <i><a href=\"/wiki/Warhammer_40,000\" title=\"Warhammer 40,000\">Warhammer 40,000</a></i> or its fantasy counterpart <i><a class=\"mw-redirect\" href=\"/wiki/Warhammer_Fantasy_Battle\" title=\"Warhammer Fantasy Battle\">Warhammer Fantasy</a></i>. Popular strategic board wargames include <i><a href=\"/wiki/Risk_(game)\" title=\"Risk (game)\">Risk</a></i>, <i><a class=\"mw-redirect\" href=\"/wiki/Axis_and_Allies\" title=\"Axis and Allies\">Axis and Allies</a></i>, <i><a href=\"/wiki/Diplomacy_(game)\" title=\"Diplomacy (game)\">Diplomacy</a></i>, and <i><a href=\"/wiki/Paths_of_Glory_(board_game)\" title=\"Paths of Glory (board game)\">Paths of Glory</a></i>. <i><a href=\"/wiki/Advanced_Squad_Leader\" title=\"Advanced Squad Leader\">Advanced Squad Leader</a></i> is a successful tactical scale wargame.\n",
       " </p>,\n",
       " <p>It is instructive to compare the <a href=\"/wiki/Total_War_(video_game_series)\" title=\"Total War (video game series)\"><i>Total War</i></a> series to the <i><a href=\"/wiki/Civilization_(series)\" title=\"Civilization (series)\">Civilization</a></i> series, where moving troops to a specific tile is a tactic because there are no short-range decisions. But in <i>Empire: Total War (2009)</i>, every encounter between two armies activates a real-time mode in which they must fight and the same movement of troops is treated as a strategy. Throughout the game, the movement of each army is at a macro scale, because the player can control each battle at a micro scale. However, as an experience, the two types of military operations are quite similar and involve similar skills and thought processes. The concept of micro scale and macro scale can well describe the gameplay of a game; however, even very similar games can be difficult to integrate into a common vocabulary. In this definition, strategy does not explicitly describe the player's experience; it is more appropriate to describe different formal game components. The similarity of the actions taken in two different games does not affect our definition of them as strategy or tactics: we will only rely on their scale in their respective games.<sup class=\"reference\" id=\"cite_ref-multiple_1-1\"><a href=\"#cite_note-multiple-1\"><span class=\"cite-bracket\">[</span>1<span class=\"cite-bracket\">]</span></a></sup>\n",
       " </p>,\n",
       " <h3 id=\"Strategy_video_games\">Strategy video games</h3>,\n",
       " <p>Strategy video games are categorized based on whether they offer the continuous gameplay of <a href=\"/wiki/Real-time_strategy\" title=\"Real-time strategy\">real-time strategy</a> (RTS), or the discrete phases of <a href=\"/wiki/Turn-based_strategy\" title=\"Turn-based strategy\">turn-based strategy</a> (TBS).<sup class=\"reference\" id=\"cite_ref-Apple_on_Strategy_Games_10-0\"><a href=\"#cite_note-Apple_on_Strategy_Games-10\"><span class=\"cite-bracket\">[</span>10<span class=\"cite-bracket\">]</span></a></sup> Often the computer is expected to emulate a strategically thinking \"side\" similar to that of a human player (such as directing armies and constructing buildings), or emulate the \"instinctive\" actions of individual units that would be too tedious for a player to administer (such as for a peasant to run away when attacked, as opposed to standing still until otherwise ordered by the player); hence there is an emphasis on artificial intelligence.\n",
       " </p>,\n",
       " <h2 id=\"See_also\">See also</h2>,\n",
       " <li class=\"portalbox-entry\"><span class=\"portalbox-image\"><span class=\"noviewer\" typeof=\"mw:File\"><a class=\"mw-file-description\" href=\"/wiki/File:Nuvola_apps_kbackgammon.png\"><img alt=\"icon\" class=\"mw-file-element\" data-file-height=\"128\" data-file-width=\"128\" decoding=\"async\" height=\"28\" src=\"//upload.wikimedia.org/wikipedia/commons/thumb/c/cb/Nuvola_apps_kbackgammon.png/28px-Nuvola_apps_kbackgammon.png\" srcset=\"//upload.wikimedia.org/wikipedia/commons/thumb/c/cb/Nuvola_apps_kbackgammon.png/42px-Nuvola_apps_kbackgammon.png 1.5x, //upload.wikimedia.org/wikipedia/commons/thumb/c/cb/Nuvola_apps_kbackgammon.png/56px-Nuvola_apps_kbackgammon.png 2x\" width=\"28\"/></a></span></span><span class=\"portalbox-link\"><a href=\"/wiki/Portal:Games\" title=\"Portal:Games\">Games portal</a></span></li>,\n",
       " <li><a href=\"/wiki/Game_of_chance\" title=\"Game of chance\">Game of chance</a></li>,\n",
       " <li><a href=\"/wiki/Game_of_skill\" title=\"Game of skill\">Game of skill</a></li>,\n",
       " <li><a href=\"/wiki/Mind_sport\" title=\"Mind sport\">Mind sport</a></li>,\n",
       " <h2 id=\"References\">References</h2>,\n",
       " <li id=\"cite_note-multiple-1\"><span class=\"mw-cite-backlink\">^ <a href=\"#cite_ref-multiple_1-0\"><sup><i><b>a</b></i></sup></a> <a href=\"#cite_ref-multiple_1-1\"><sup><i><b>b</b></i></sup></a></span> <span class=\"reference-text\"><cite class=\"citation journal cs1\" id=\"CITEREFDor2018\">Dor, Simon (April 2018). <a class=\"external text\" href=\"http://gamestudies.org/1801/articles/simon_dor\" rel=\"nofollow\">\"Strategy in Games or Strategy Games: Dictionary and Encyclopaedic Definitions for Game Studies\"</a>. <i>Game Studies</i>. <b>18</b> (1). <a class=\"mw-redirect\" href=\"/wiki/ISSN_(identifier)\" title=\"ISSN (identifier)\">ISSN</a> <a class=\"external text\" href=\"https://search.worldcat.org/issn/1604-7982\" rel=\"nofollow\">1604-7982</a>.</cite><span class=\"Z3988\" title=\"ctx_ver=Z39.88-2004&amp;rft_val_fmt=info%3Aofi%2Ffmt%3Akev%3Amtx%3Ajournal&amp;rft.genre=article&amp;rft.jtitle=Game+Studies&amp;rft.atitle=Strategy+in+Games+or+Strategy+Games%3A+Dictionary+and+Encyclopaedic+Definitions+for+Game+Studies&amp;rft.volume=18&amp;rft.issue=1&amp;rft.date=2018-04&amp;rft.issn=1604-7982&amp;rft.aulast=Dor&amp;rft.aufirst=Simon&amp;rft_id=http%3A%2F%2Fgamestudies.org%2F1801%2Farticles%2Fsimon_dor&amp;rfr_id=info%3Asid%2Fen.wikipedia.org%3AStrategy+game\"></span></span>\n",
       " </li>,\n",
       " <li id=\"cite_note-:32-2\"><span class=\"mw-cite-backlink\">^ <a href=\"#cite_ref-:32_2-0\"><sup><i><b>a</b></i></sup></a> <a href=\"#cite_ref-:32_2-1\"><sup><i><b>b</b></i></sup></a></span> <span class=\"reference-text\"><link href=\"mw-data:TemplateStyles:r1238218222\" rel=\"mw-deduplicated-inline-style\"/><cite class=\"citation journal cs1\" id=\"CITEREFDepaulis2021\">Depaulis, Thierry (2021-04-13). <a class=\"external text\" href=\"https://sorbonne-paris-nord.hal.science/hal-03737319\" rel=\"nofollow\">\"A Timeline of Mind Games, with Some Correlations\"</a>. <i>BOARD GAME STUDIES COLLOQUIUM- The Evolutions of Board Games, Apr 2021, Paris, France</i>.</cite><span class=\"Z3988\" title=\"ctx_ver=Z39.88-2004&amp;rft_val_fmt=info%3Aofi%2Ffmt%3Akev%3Amtx%3Ajournal&amp;rft.genre=article&amp;rft.jtitle=BOARD+GAME+STUDIES+COLLOQUIUM-+The+Evolutions+of+Board+Games%2C+Apr+2021%2C+Paris%2C+France.&amp;rft.atitle=A+Timeline+of+Mind+Games%2C+with+Some+Correlations&amp;rft.date=2021-04-13&amp;rft.aulast=Depaulis&amp;rft.aufirst=Thierry&amp;rft_id=https%3A%2F%2Fsorbonne-paris-nord.hal.science%2Fhal-03737319&amp;rfr_id=info%3Asid%2Fen.wikipedia.org%3AStrategy+game\"></span></span>\n",
       " </li>,\n",
       " <li id=\"cite_note-:22-3\"><span class=\"mw-cite-backlink\">^ <a href=\"#cite_ref-:22_3-0\"><sup><i><b>a</b></i></sup></a> <a href=\"#cite_ref-:22_3-1\"><sup><i><b>b</b></i></sup></a></span> <span class=\"reference-text\"><link href=\"mw-data:TemplateStyles:r1238218222\" rel=\"mw-deduplicated-inline-style\"/><cite class=\"citation journal cs1\" id=\"CITEREFDepaulis2020\">Depaulis, Thierry (2020-10-01). <a class=\"external text\" href=\"https://www.sciendo.com/article/10.2478/bgs-2020-0007\" rel=\"nofollow\">\"Board Games Before Ur?\"</a>. <i>Board Game Studies Journal</i>. <b>14</b> (1): 127–144. <a class=\"mw-redirect\" href=\"/wiki/Doi_(identifier)\" title=\"Doi (identifier)\">doi</a>:<span class=\"id-lock-free\" title=\"Freely accessible\"><a class=\"external text\" href=\"https://doi.org/10.2478%2Fbgs-2020-0007\" rel=\"nofollow\">10.2478/bgs-2020-0007</a></span>. <a class=\"mw-redirect\" href=\"/wiki/ISSN_(identifier)\" title=\"ISSN (identifier)\">ISSN</a> <a class=\"external text\" href=\"https://search.worldcat.org/issn/2183-3311\" rel=\"nofollow\">2183-3311</a>.</cite><span class=\"Z3988\" title=\"ctx_ver=Z39.88-2004&amp;rft_val_fmt=info%3Aofi%2Ffmt%3Akev%3Amtx%3Ajournal&amp;rft.genre=article&amp;rft.jtitle=Board+Game+Studies+Journal&amp;rft.atitle=Board+Games+Before+Ur%3F&amp;rft.volume=14&amp;rft.issue=1&amp;rft.pages=127-144&amp;rft.date=2020-10-01&amp;rft_id=info%3Adoi%2F10.2478%2Fbgs-2020-0007&amp;rft.issn=2183-3311&amp;rft.aulast=Depaulis&amp;rft.aufirst=Thierry&amp;rft_id=https%3A%2F%2Fwww.sciendo.com%2Farticle%2F10.2478%2Fbgs-2020-0007&amp;rfr_id=info%3Asid%2Fen.wikipedia.org%3AStrategy+game\"></span></span>\n",
       " </li>,\n",
       " <li id=\"cite_note-:23-4\"><span class=\"mw-cite-backlink\"><b><a href=\"#cite_ref-:23_4-0\">^</a></b></span> <span class=\"reference-text\"><link href=\"mw-data:TemplateStyles:r1238218222\" rel=\"mw-deduplicated-inline-style\"/><cite class=\"citation book cs1\" id=\"CITEREFBotermans2008\">Botermans, Jack (2008). <a class=\"external text\" href=\"https://archive.org/details/bookofgamesstrat0000bote/page/712\" rel=\"nofollow\"><i>The book of games : strategy, tactics &amp; history</i></a>. Fankbonner, Edgar Loy. New York: Sterling. pp. <a class=\"external autonumber\" href=\"https://archive.org/details/bookofgamesstrat0000bote_r1h7\" rel=\"nofollow\">[1]</a>. <a class=\"mw-redirect\" href=\"/wiki/ISBN_(identifier)\" title=\"ISBN (identifier)\">ISBN</a> <a href=\"/wiki/Special:BookSources/9781402742217\" title=\"Special:BookSources/9781402742217\"><bdi>9781402742217</bdi></a>. <a class=\"mw-redirect\" href=\"/wiki/OCLC_(identifier)\" title=\"OCLC (identifier)\">OCLC</a> <a class=\"external text\" href=\"https://search.worldcat.org/oclc/86069181\" rel=\"nofollow\">86069181</a>.</cite><span class=\"Z3988\" title=\"ctx_ver=Z39.88-2004&amp;rft_val_fmt=info%3Aofi%2Ffmt%3Akev%3Amtx%3Abook&amp;rft.genre=book&amp;rft.btitle=The+book+of+games+%3A+strategy%2C+tactics+%26+history&amp;rft.place=New+York&amp;rft.pages=https%3A%2F%2Farchive.org%2Fdetails%2Fbookofgamesstrat0000bote_r1h7&amp;rft.pub=Sterling&amp;rft.date=2008&amp;rft_id=info%3Aoclcnum%2F86069181&amp;rft.isbn=9781402742217&amp;rft.aulast=Botermans&amp;rft.aufirst=Jack&amp;rft_id=https%3A%2F%2Farchive.org%2Fdetails%2Fbookofgamesstrat0000bote%2Fpage%2F712&amp;rfr_id=info%3Asid%2Fen.wikipedia.org%3AStrategy+game\"></span></span>\n",
       " </li>,\n",
       " <li id=\"cite_note-5\"><span class=\"mw-cite-backlink\"><b><a href=\"#cite_ref-5\">^</a></b></span> <span class=\"reference-text\"><link href=\"mw-data:TemplateStyles:r1238218222\" rel=\"mw-deduplicated-inline-style\"/><cite class=\"citation news cs1\"><a class=\"external text\" href=\"http://mentalfloss.com/article/62089/11-ancient-board-games\" rel=\"nofollow\">\"11 Ancient Board Games\"</a>. 2016-03-01<span class=\"reference-accessdate\">. Retrieved <span class=\"nowrap\">2017-04-10</span></span>.</cite><span class=\"Z3988\" title=\"ctx_ver=Z39.88-2004&amp;rft_val_fmt=info%3Aofi%2Ffmt%3Akev%3Amtx%3Ajournal&amp;rft.genre=article&amp;rft.atitle=11+Ancient+Board+Games&amp;rft.date=2016-03-01&amp;rft_id=http%3A%2F%2Fmentalfloss.com%2Farticle%2F62089%2F11-ancient-board-games&amp;rfr_id=info%3Asid%2Fen.wikipedia.org%3AStrategy+game\"></span></span>\n",
       " </li>,\n",
       " <li id=\"cite_note-6\"><span class=\"mw-cite-backlink\"><b><a href=\"#cite_ref-6\">^</a></b></span> <span class=\"reference-text\"><link href=\"mw-data:TemplateStyles:r1238218222\" rel=\"mw-deduplicated-inline-style\"/><cite class=\"citation web cs1\" id=\"CITEREF(MisterCutie)\">(MisterCutie), Matthew. <a class=\"external text\" href=\"https://www.chess.com/article/view/the-history-of-chess\" rel=\"nofollow\">\"The History of Chess: The Basics\"</a>. <i>Chess.com</i><span class=\"reference-accessdate\">. Retrieved <span class=\"nowrap\">2017-04-10</span></span>.</cite><span class=\"Z3988\" title=\"ctx_ver=Z39.88-2004&amp;rft_val_fmt=info%3Aofi%2Ffmt%3Akev%3Amtx%3Ajournal&amp;rft.genre=unknown&amp;rft.jtitle=Chess.com&amp;rft.atitle=The+History+of+Chess%3A+The+Basics&amp;rft.aulast=%28MisterCutie%29&amp;rft.aufirst=Matthew&amp;rft_id=https%3A%2F%2Fwww.chess.com%2Farticle%2Fview%2Fthe-history-of-chess&amp;rfr_id=info%3Asid%2Fen.wikipedia.org%3AStrategy+game\"></span></span>\n",
       " </li>,\n",
       " <li id=\"cite_note-7\"><span class=\"mw-cite-backlink\"><b><a href=\"#cite_ref-7\">^</a></b></span> <span class=\"reference-text\"><link href=\"mw-data:TemplateStyles:r1238218222\" rel=\"mw-deduplicated-inline-style\"/><cite class=\"citation book cs1\" id=\"CITEREFAdams2011\">Adams, Jenny (2011). <a class=\"external text\" href=\"http://muse.jhu.edu/book/22068\" rel=\"nofollow\"><i>Power Play: The Literature and Politics of Chess in the Late Middle Ages</i></a>. University of Pennsylvania Press. <a class=\"mw-redirect\" href=\"/wiki/ISBN_(identifier)\" title=\"ISBN (identifier)\">ISBN</a> <a href=\"/wiki/Special:BookSources/9780812201048\" title=\"Special:BookSources/9780812201048\"><bdi>9780812201048</bdi></a>.</cite><span class=\"Z3988\" title=\"ctx_ver=Z39.88-2004&amp;rft_val_fmt=info%3Aofi%2Ffmt%3Akev%3Amtx%3Abook&amp;rft.genre=book&amp;rft.btitle=Power+Play%3A+The+Literature+and+Politics+of+Chess+in+the+Late+Middle+Ages&amp;rft.pub=University+of+Pennsylvania+Press&amp;rft.date=2011&amp;rft.isbn=9780812201048&amp;rft.aulast=Adams&amp;rft.aufirst=Jenny&amp;rft_id=http%3A%2F%2Fmuse.jhu.edu%2Fbook%2F22068&amp;rfr_id=info%3Asid%2Fen.wikipedia.org%3AStrategy+game\"></span></span>\n",
       " </li>,\n",
       " <li id=\"cite_note-8\"><span class=\"mw-cite-backlink\"><b><a href=\"#cite_ref-8\">^</a></b></span> <span class=\"reference-text\"><a class=\"external text\" href=\"http://www.ibridgeplayer.com/2010/08/how-to-automate-strategic-tactical-thinking/\" rel=\"nofollow\">\"How to automate strategic &amp; tactical thinking</a> <a class=\"external text\" href=\"https://web.archive.org/web/20150223171820/http://www.ibridgeplayer.com/2010/08/how-to-automate-strategic-tactical-thinking/\" rel=\"nofollow\">Archived</a> 2015-02-23 at the <a href=\"/wiki/Wayback_Machine\" title=\"Wayback Machine\">Wayback Machine</a></span>\n",
       " </li>,\n",
       " <li id=\"cite_note-9\"><span class=\"mw-cite-backlink\"><b><a href=\"#cite_ref-9\">^</a></b></span> <span class=\"reference-text\"><link href=\"mw-data:TemplateStyles:r1238218222\" rel=\"mw-deduplicated-inline-style\"/><cite class=\"citation news cs1\" id=\"CITEREFRundle2013\">Rundle, Michael (2013-04-09). <a class=\"external text\" href=\"http://www.huffingtonpost.co.uk/2013/04/09/hg-wells-little-wars-how-_n_3044934.html\" rel=\"nofollow\">\"How H. G. Wells Invented Modern War Games 100 Years Ago\"</a>. <i>The Huffington Post</i>.</cite><span class=\"Z3988\" title=\"ctx_ver=Z39.88-2004&amp;rft_val_fmt=info%3Aofi%2Ffmt%3Akev%3Amtx%3Ajournal&amp;rft.genre=article&amp;rft.jtitle=The+Huffington+Post&amp;rft.atitle=How+H.+G.+Wells+Invented+Modern+War+Games+100+Years+Ago&amp;rft.date=2013-04-09&amp;rft.aulast=Rundle&amp;rft.aufirst=Michael&amp;rft_id=http%3A%2F%2Fwww.huffingtonpost.co.uk%2F2013%2F04%2F09%2Fhg-wells-little-wars-how-_n_3044934.html&amp;rfr_id=info%3Asid%2Fen.wikipedia.org%3AStrategy+game\"></span></span>\n",
       " </li>,\n",
       " <li id=\"cite_note-Apple_on_Strategy_Games-10\"><span class=\"mw-cite-backlink\"><b><a href=\"#cite_ref-Apple_on_Strategy_Games_10-0\">^</a></b></span> <span class=\"reference-text\"><link href=\"mw-data:TemplateStyles:r1238218222\" rel=\"mw-deduplicated-inline-style\"/><cite class=\"citation web cs1\"><a class=\"external text\" href=\"https://www.apple.com/games/gettingstarted/strategy/\" rel=\"nofollow\">\"Strategy Games\"</a>. Apple<span class=\"reference-accessdate\">. Retrieved <span class=\"nowrap\">2008-12-28</span></span>.</cite><span class=\"Z3988\" title=\"ctx_ver=Z39.88-2004&amp;rft_val_fmt=info%3Aofi%2Ffmt%3Akev%3Amtx%3Abook&amp;rft.genre=unknown&amp;rft.btitle=Strategy+Games&amp;rft.pub=Apple&amp;rft_id=https%3A%2F%2Fwww.apple.com%2Fgames%2Fgettingstarted%2Fstrategy%2F&amp;rfr_id=info%3Asid%2Fen.wikipedia.org%3AStrategy+game\"></span></span>\n",
       " </li>,\n",
       " <li class=\"nv-view\"><a href=\"/wiki/Template:Game_genres\" title=\"Template:Game genres\"><abbr title=\"View this template\">v</abbr></a></li>,\n",
       " <li class=\"nv-talk\"><a href=\"/wiki/Template_talk:Game_genres\" title=\"Template talk:Game genres\"><abbr title=\"Discuss this template\">t</abbr></a></li>,\n",
       " <li class=\"nv-edit\"><a href=\"/wiki/Special:EditPage/Template:Game_genres\" title=\"Special:EditPage/Template:Game genres\"><abbr title=\"Edit this template\">e</abbr></a></li>,\n",
       " <li><a href=\"/wiki/List_of_children%27s_games\" title=\"List of children's games\">Children</a></li>,\n",
       " <li><a href=\"/wiki/Game_of_chance\" title=\"Game of chance\">Chance</a></li>,\n",
       " <li><a href=\"/wiki/Gambling\" title=\"Gambling\">Gambling</a></li>,\n",
       " <li><a class=\"mw-redirect\" href=\"/wiki/Guessing_game\" title=\"Guessing game\">Guessing</a></li>,\n",
       " <li><a href=\"/wiki/Party_game\" title=\"Party game\">Party</a></li>,\n",
       " <li><a href=\"/wiki/Redemption_game\" title=\"Redemption game\">Redemption</a></li>,\n",
       " <li><a href=\"/wiki/Role-playing_game\" title=\"Role-playing game\">Role-playing</a></li>,\n",
       " <li><a href=\"/wiki/Game_of_skill\" title=\"Game of skill\">Skill</a></li>,\n",
       " <li><a href=\"/wiki/Sport\" title=\"Sport\">Sport</a></li>,\n",
       " <li><a class=\"mw-selflink selflink\">Strategy</a></li>,\n",
       " <li><a href=\"/wiki/Street_game\" title=\"Street game\">Street</a></li>,\n",
       " <li><a href=\"/wiki/Tabletop_game\" title=\"Tabletop game\">Tabletop</a></li>,\n",
       " <li><a href=\"/wiki/Traditional_sports_and_games\" title=\"Traditional sports and games\">Traditional</a></li>,\n",
       " <li><a href=\"/wiki/Video_game\" title=\"Video game\">Video</a></li>,\n",
       " <li class=\"nv-view\"><a href=\"/wiki/Template:Tabletop_games_by_type\" title=\"Template:Tabletop games by type\"><abbr title=\"View this template\">v</abbr></a></li>,\n",
       " <li class=\"nv-talk\"><a href=\"/wiki/Template_talk:Tabletop_games_by_type\" title=\"Template talk:Tabletop games by type\"><abbr title=\"Discuss this template\">t</abbr></a></li>,\n",
       " <li class=\"nv-edit\"><a href=\"/wiki/Special:EditPage/Template:Tabletop_games_by_type\" title=\"Special:EditPage/Template:Tabletop games by type\"><abbr title=\"Edit this template\">e</abbr></a></li>,\n",
       " <li><a href=\"/wiki/Adventure_board_game\" title=\"Adventure board game\">Adventure board game</a></li>,\n",
       " <li><a class=\"mw-redirect\" href=\"/wiki/Amerigame\" title=\"Amerigame\">Amerigame</a></li>,\n",
       " <li><a href=\"/wiki/Cooperative_board_game\" title=\"Cooperative board game\">Cooperative board game</a></li>,\n",
       " <li><a href=\"/wiki/Deduction_board_game\" title=\"Deduction board game\">Deduction board game</a></li>,\n",
       " <li><a href=\"/wiki/Eurogame\" title=\"Eurogame\">Eurogame</a></li>,\n",
       " <li><a href=\"/wiki/Race_game\" title=\"Race game\">Race game</a>\n",
       " <ul><li><a href=\"/wiki/Cross_and_circle_game\" title=\"Cross and circle game\">Cross and circle game</a></li></ul></li>,\n",
       " <li><a href=\"/wiki/Cross_and_circle_game\" title=\"Cross and circle game\">Cross and circle game</a></li>,\n",
       " <li><a href=\"/wiki/Legacy_game\" title=\"Legacy game\">Legacy game</a></li>,\n",
       " <li><a href=\"/wiki/Running-fight_game\" title=\"Running-fight game\">Running-fight game</a></li>,\n",
       " <li><a href=\"/wiki/Tables_game\" title=\"Tables game\">Tables game</a></li>,\n",
       " <li><a href=\"/wiki/Tile-based_game\" title=\"Tile-based game\">Tile-based game</a>\n",
       " <ul><li><a href=\"/wiki/Dominoes\" title=\"Dominoes\">Dominoes</a></li>\n",
       " <li><a href=\"/wiki/Chinese_dominoes\" title=\"Chinese dominoes\">Chinese dominoes</a></li></ul></li>,\n",
       " <li><a href=\"/wiki/Dominoes\" title=\"Dominoes\">Dominoes</a></li>,\n",
       " <li><a href=\"/wiki/Chinese_dominoes\" title=\"Chinese dominoes\">Chinese dominoes</a></li>,\n",
       " <li><a href=\"/wiki/Train_game\" title=\"Train game\">Train game</a>\n",
       " <ul><li><a href=\"/wiki/18XX\" title=\"18XX\">18XX</a></li></ul></li>,\n",
       " <li><a href=\"/wiki/18XX\" title=\"18XX\">18XX</a></li>,\n",
       " <li><a href=\"/wiki/Collectible_card_game\" title=\"Collectible card game\">Collectible card game</a></li>,\n",
       " <li><a href=\"/wiki/Deck-building_game\" title=\"Deck-building game\">Deck-building game</a></li>,\n",
       " <li><a href=\"/wiki/Dedicated_deck_card_game\" title=\"Dedicated deck card game\">Dedicated deck card game</a></li>,\n",
       " <li><a href=\"/wiki/List_of_shedding-type_games\" title=\"List of shedding-type games\">Shedding-type games</a></li>,\n",
       " <li><a href=\"/wiki/Patience_(game)\" title=\"Patience (game)\">Patience</a></li>,\n",
       " <li><a href=\"/wiki/Tarot_card_games\" title=\"Tarot card games\">Tarot card games</a></li>,\n",
       " <li><a href=\"/wiki/Trick-taking_game\" title=\"Trick-taking game\">Trick-taking game</a></li>,\n",
       " <li><a href=\"/wiki/Abstract_strategy_game\" title=\"Abstract strategy game\">Abstract strategy game</a>\n",
       " <ul><li><a href=\"/wiki/Connection_game\" title=\"Connection game\">Connection game</a></li>\n",
       " <li><a href=\"/wiki/Tafl_games\" title=\"Tafl games\">Tafl games</a></li></ul></li>,\n",
       " <li><a href=\"/wiki/Connection_game\" title=\"Connection game\">Connection game</a></li>,\n",
       " <li><a href=\"/wiki/Tafl_games\" title=\"Tafl games\">Tafl games</a></li>,\n",
       " <li><a href=\"/wiki/Constructible_strategy_game\" title=\"Constructible strategy game\">Constructible strategy game</a></li>,\n",
       " <li><a href=\"/wiki/Miniatures_game\" title=\"Miniatures game\">Miniatures game</a>\n",
       " <ul><li><a href=\"/wiki/Collectible_miniatures_game\" title=\"Collectible miniatures game\">Collectible miniatures game</a></li></ul></li>,\n",
       " <li><a href=\"/wiki/Collectible_miniatures_game\" title=\"Collectible miniatures game\">Collectible miniatures game</a></li>,\n",
       " <li><a href=\"/wiki/Wargame\" title=\"Wargame\">Wargame</a></li>,\n",
       " <li><a href=\"/wiki/List_of_dice_games\" title=\"List of dice games\">Dice game</a></li>,\n",
       " <li><a href=\"/wiki/Matching_game\" title=\"Matching game\">Matching game</a></li>,\n",
       " <li><a href=\"/wiki/Megagame\" title=\"Megagame\">Megagame</a></li>,\n",
       " <li><a href=\"/wiki/Icehouse_pieces\" title=\"Icehouse pieces\">Icehouse pieces</a></li>,\n",
       " <li><a href=\"/wiki/Piecepack\" title=\"Piecepack\">Piecepack</a></li>,\n",
       " <li><a href=\"/wiki/Paper-and-pencil_game\" title=\"Paper-and-pencil game\">Paper-and-pencil game</a></li>,\n",
       " <li><a href=\"/wiki/Social_deduction_game\" title=\"Social deduction game\">Social deduction game</a></li>,\n",
       " <li><a href=\"/wiki/Tabletop_role-playing_game\" title=\"Tabletop role-playing game\">Tabletop role-playing game</a></li>,\n",
       " <li><span class=\"uid\"><a class=\"external text\" href=\"https://d-nb.info/gnd/4248624-5\" rel=\"nofollow\">Germany</a></span></li>,\n",
       " <li><a href=\"/wiki/Category:Strategy_games\" title=\"Category:Strategy games\">Strategy games</a></li>,\n",
       " <li><a href=\"/wiki/Category:Webarchive_template_wayback_links\" title=\"Category:Webarchive template wayback links\">Webarchive template wayback links</a></li>,\n",
       " <li><a href=\"/wiki/Category:Articles_with_short_description\" title=\"Category:Articles with short description\">Articles with short description</a></li>,\n",
       " <li><a href=\"/wiki/Category:Short_description_is_different_from_Wikidata\" title=\"Category:Short description is different from Wikidata\">Short description is different from Wikidata</a></li>,\n",
       " <li><a href=\"/wiki/Category:All_articles_with_unsourced_statements\" title=\"Category:All articles with unsourced statements\">All articles with unsourced statements</a></li>,\n",
       " <li><a href=\"/wiki/Category:Articles_with_unsourced_statements_from_April_2008\" title=\"Category:Articles with unsourced statements from April 2008\">Articles with unsourced statements from April 2008</a></li>,\n",
       " <li><a href=\"/wiki/Category:Commons_category_link_from_Wikidata\" title=\"Category:Commons category link from Wikidata\">Commons category link from Wikidata</a></li>]"
      ]
     },
     "execution_count": 160,
     "metadata": {},
     "output_type": "execute_result"
    }
   ],
   "source": [
    "imp_tags"
   ]
  },
  {
   "cell_type": "code",
   "execution_count": 161,
   "id": "630ed140-e3f6-44a5-b471-8864f50232d7",
   "metadata": {},
   "outputs": [],
   "source": [
    "'''\n",
    "This function returns the key of priority tags whose value is true.\n",
    "'''\n",
    "def index_of_true(priority_tags):\n",
    "    key_true = []\n",
    "    for tag in priority_tags.keys():\n",
    "        if priority_tags[tag] == True:\n",
    "            key_true.append(tag)\n",
    "        else:\n",
    "            pass\n",
    "    return key_true"
   ]
  },
  {
   "cell_type": "code",
   "execution_count": 162,
   "id": "2e347a51-6e97-48e0-9c80-b2211ebd0e66",
   "metadata": {},
   "outputs": [],
   "source": [
    "def find_nested_links(tag):\n",
    "    links = []\n",
    "    nested_tags = tag.find_all('a')\n",
    "    if len(nested_tags) != 0:\n",
    "        for i in nested_tags:\n",
    "            try:\n",
    "                links.append(str(i).split(\" \")[1].split(\"href=\")[1]) #Storing the links\n",
    "            except IndexError as index_error:\n",
    "                pass\n",
    "    return links"
   ]
  },
  {
   "cell_type": "code",
   "execution_count": 167,
   "id": "a81bc13c-35fa-4fbc-abc9-3a3df3a44320",
   "metadata": {},
   "outputs": [],
   "source": [
    "def adjust_tags_based_on_priority(priority_tags,tag_name,record_tags,index_value):\n",
    "    #if less priority tags are already present and new high priority tag comes, we will make all low priority tag to false and high priority tag true\n",
    "    #if less priority tags comes and high priority tag is True, We will keep all same and make low priority task true\n",
    "    values = list(priority_tags.values())\n",
    "    keys = list(priority_tags.keys())\n",
    "    all_indexes_with_true = []\n",
    "    for i in range(0,len(values)):\n",
    "        if values[i]:\n",
    "            all_indexes_with_true.append(i)\n",
    "        else:\n",
    "            pass\n",
    "    if len(all_indexes_with_true) == 0:\n",
    "        #If no tags are true, we will make the target tag true and return the same.\n",
    "        priority_tags[tag_name] = not priority_tags[tag_name]\n",
    "        record_tags[tag_name].append(index_value)\n",
    "        return priority_tags,record_tags,\"\"\n",
    "    else:\n",
    "        priority_type = \"high\" #high or low\n",
    "        idx = keys.index(tag_name)\n",
    "        if idx <= min(all_indexes_with_true):\n",
    "            priority_type = \"high\"\n",
    "            for k in keys:\n",
    "                priority_tags[k] = False\n",
    "            priority_tags[tag_name] = True\n",
    "            record_tags[tag_name].append(index_value)\n",
    "            return priority_tags,record_tags,\"high\"\n",
    "        elif idx >= max(all_indexes_with_true):\n",
    "            priority_type = \"low\"\n",
    "            priority_tags[tag_name] = True\n",
    "            record_tags[tag_name].append(index_value)\n",
    "            return priority_tags,record_tags,\"low\"\n",
    "        else:\n",
    "            priority_type = \"mid\"\n",
    "            # print('Index of mid tag',idx)\n",
    "            for k in keys[idx+1:]:\n",
    "                priority_tags[k] = False\n",
    "            priority_tags[tag_name] = True\n",
    "            record_tags[tag_name].append(index_value)\n",
    "            return priority_tags,record_tags,\"mid\"\n",
    "            #Make all the tags with less priority than current tag to false. And make the current tag true"
   ]
  },
  {
   "cell_type": "code",
   "execution_count": 168,
   "id": "3364fd04-f4ca-4145-bf90-afd5a80ef78c",
   "metadata": {},
   "outputs": [],
   "source": [
    "def create_network_graph(indexing,sub_indexing,nxG,type,priority_tags,parent_node,record_tags):\n",
    "    if type == \"high\":\n",
    "        nxG.add_edge(parent_node,indexing)\n",
    "    elif type == \"low\" or type == \"mid\":\n",
    "        key_true = index_of_true(priority_tags)[:-1]\n",
    "        # print(\"KGLA_structure --> index_of_true\",key_true[-1])\n",
    "        new_edge = record_tags[key_true[-1]][-1]\n",
    "        nxG.add_edge(new_edge,indexing)\n",
    "        for v in sub_indexing:\n",
    "            nxG.add_edge(indexing, v)\n",
    "        return nxG\n",
    "    else:\n",
    "        nxG.add_edge(parent_node,indexing)\n",
    "    for v in sub_indexing:\n",
    "            nxG.add_edge(indexing, v)\n",
    "    return nxG"
   ]
  },
  {
   "cell_type": "code",
   "execution_count": null,
   "id": "d2732244-2e62-405a-aa42-ccddf6bff358",
   "metadata": {},
   "outputs": [],
   "source": []
  },
  {
   "cell_type": "code",
   "execution_count": 169,
   "id": "d702f6c6-dcbf-4fc5-bbb7-39bac084db92",
   "metadata": {},
   "outputs": [],
   "source": [
    "priority_tags = {\"h1\":False,\"h2\":False,\"h3\":False,\"h4\":False,\"h5\":False,\"strong\":False,\"p\":False,\"li\":False,\"a\":False}\n",
    "record_tags = {\"h1\":[],\"h2\":[],\"h3\":[],\"h4\":[],\"h5\":[],\"strong\":[],\"li\":[],\"p\":[],\"a\":[]}\n",
    "text_index = {}\n",
    "indexing = 0\n",
    "links = []\n",
    "nxG = nx.Graph()\n",
    "nxG.add_node(parent_node)\n",
    "for idx,tag in enumerate(imp_tags):\n",
    "    key_true = index_of_true(priority_tags)\n",
    "    if len(key_true) == 0 and tag.name in [\"ul\",\"li\",\"ol\"]: #If there is no heading, We will find the link and store them directly in a list for futher scraping\n",
    "        links.extend(find_nested_links(tag))\n",
    "    else:\n",
    "        # print(\"Tag : \",tag.name)\n",
    "        # print(\"index of True keys \",key_true)\n",
    "        #Make the less priority elements false ana more priority elements true\n",
    "        text_index[indexing] = tag.text\n",
    "        nested_links = find_nested_links(tag)\n",
    "        # print(\"Nested Links\",nested_links)\n",
    "        links.extend(nested_links)\n",
    "        step_size = 0.001\n",
    "        sub_indexing = []\n",
    "        # for i in range(1,len(nested_links)+1):\n",
    "        #     sub_indexing.append(round(indexing+(i*step_size),3))\n",
    "        #     text_index[sub_indexing[-1]] = nested_links[i-1]\n",
    "        # print(\"Indexing : \",text_index)\n",
    "        # print(\"Sub indexing\",sub_indexing)\n",
    "        # print(\"priority tags earlier\",priority_tags)\n",
    "        priority_tags,record_tags,type = adjust_tags_based_on_priority(priority_tags,tag.name,record_tags,indexing)\n",
    "        # print(\"Priority tags after new tag comes\",priority_tags)\n",
    "        # print(\"record Tag\" , record_tags)\n",
    "        # print(\"Type of priority of new tag\",type)\n",
    "        nxG = create_network_graph(indexing,sub_indexing,nxG,type,priority_tags,parent_node,record_tags)\n",
    "        indexing = indexing+1\n",
    "        # print()"
   ]
  },
  {
   "cell_type": "code",
   "execution_count": 170,
   "id": "6b126a75-cbfe-4c73-afe6-bba9fac96125",
   "metadata": {
    "scrolled": true
   },
   "outputs": [
    {
     "data": {
      "text/plain": [
       "{0: 'Strategy game',\n",
       " 1: \"A strategy game or strategic game is a game in which the players' uncoerced, and often autonomous, decision-making skills have a high significance in determining the outcome. Almost all strategy games require internal decision tree-style thinking, and typically very high situational awareness.\\n\",\n",
       " 2: 'Strategy games are also seen as a descendant of war games, and define strategy in terms of the context of war, but this is more partial. A strategy game is a game that relies primarily on strategy, and when it comes to defining what strategy is, two factors need to be taken into account: its complexity and game-scale actions, such as each placement in the Total War video game series. The definition of a strategy game in its cultural context should be any game that belongs to a tradition that goes back to war games, contains more strategy than the average video game, contains certain gameplay conventions, and is represented by a particular community. Although war is dominant in strategy games, it is not the whole story.[1]\\n',\n",
       " 3: 'History',\n",
       " 4: 'The history of turn-based strategy games goes back to the times of ancient civilizations found in places such as Rome, Greece, Egypt, the Levant, and India. Many were played widely through their regions of origin, but only some are still played today.[2]\\n',\n",
       " 5: 'According to Thierry Depaulis, oldest strategy games would be the \"Greek game of polis (πόλις), which appears in the literature around 450 BCE, and the more or less contemporary Chinese game of weiqi (‘go’), which, under the name of yi (弈), is mentioned in Confucius’s Analects (Lunyu) compiled between ca 470/50 and 280 BCE.\"[2]\\n',\n",
       " 6: 'The Royal Game of Ur from c. 2500 BCE which often been called one of the oldest board games, likely had some strategy elements as well, although it is generally seen as a luck-based race game.[3][4]\\n',\n",
       " 7: 'One of the earliest strategy games still played is mancala.[5] Due to claims that some artifacts from c. 5000 BCE might be old mancala boards, it has been suggested that mancala may be the oldest known strategy game, but this claim has been disputed.[3]\\n',\n",
       " 8: 'Another game that has stood the test of time is chess, believed to have originated in India around the sixth century CE.[6] The game spread to the west by trade, but chess gained social status and permanence more strongly than many other games. Chess became a game of skill and tactics often forcing the players to think two or three moves ahead of their opponent just to keep up.[7]\\n',\n",
       " 9: 'Types',\n",
       " 10: 'Abstract strategy',\n",
       " 11: 'In abstract strategy games, the game is only loosely tied to a thematic concept, if at all. The rules do not attempt to simulate reality, but rather serve the internal logic of the game.\\n',\n",
       " 12: 'A purist\\'s definition of an abstract strategy game requires that it cannot have random elements or hidden information. This definition includes such games as chess and Go. However, many games are commonly classed as abstract strategy games which do not meet these criteria: games such as backgammon, Octiles, Can\\'t Stop, Sequence and Mentalis have all been described as \"abstract strategy\" games despite having a chance element.[citation needed] A smaller category of non-perfect abstract strategy games incorporate hidden information without using any random elements; for example, Stratego.\\n',\n",
       " 13: 'Team strategy',\n",
       " 14: \"One of the most focused team strategy games is contract bridge. This card game consists of two teams of two players, whose offensive and defensive skills are continually in flux as the game's dynamic progresses. Some argue that the benefits of playing this team strategy card game extend to those skills and strategies used in business[8] and that the playing of these games helps to automate strategic awareness.\\n\",\n",
       " 15: 'Eurogames',\n",
       " 16: 'Eurogames, or German-style boardgames, are a relatively new genre that sit between abstract strategy games and simulation games. They generally have simple rules, short to medium playing times, indirect player interaction and abstract physical components. The games emphasize strategy, play down chance and conflict, lean towards economic rather than military themes, and usually keep all the players in the game until it ends.\\n',\n",
       " 17: 'Simulation',\n",
       " 18: \"This type of game is an attempt to simulate the decisions and processes inherent to some real-world situation. Most of the rules are chosen to reflect what the real-world consequences would be of each player's actions and decisions. \\nAbstract games cannot be completely divided from simulations and so games can be thought of as existing on a continuum of almost pure abstraction (like Abalone) to almost pure simulation (like Diceball! or Strat-o-Matic Baseball).\\n\",\n",
       " 19: 'Wargame',\n",
       " 20: 'Wargames are simulations of military battles, campaigns, or entire wars. Players will have to consider situations that are analogous to the situations faced by leaders of historical battles. As such, wargames are usually heavy on simulation elements, and while they are all \"strategy games\", they can also be \"strategic\" or \"tactical\" in the military jargon sense. Its creator, H. G. Wells, stated how \"much better is this amiable miniature [war] than the real thing\".[9]\\n',\n",
       " 21: 'Traditionally, wargames have been played either with miniatures, using physical models of detailed terrain and miniature representations of people and equipment to depict the game state; or on a board, which commonly uses cardboard counters on a hex map.\\n',\n",
       " 22: 'Popular miniature wargames include Warhammer 40,000 or its fantasy counterpart Warhammer Fantasy. Popular strategic board wargames include Risk, Axis and Allies, Diplomacy, and Paths of Glory. Advanced Squad Leader is a successful tactical scale wargame.\\n',\n",
       " 23: \"It is instructive to compare the Total War series to the Civilization series, where moving troops to a specific tile is a tactic because there are no short-range decisions. But in Empire: Total War (2009), every encounter between two armies activates a real-time mode in which they must fight and the same movement of troops is treated as a strategy. Throughout the game, the movement of each army is at a macro scale, because the player can control each battle at a micro scale. However, as an experience, the two types of military operations are quite similar and involve similar skills and thought processes. The concept of micro scale and macro scale can well describe the gameplay of a game; however, even very similar games can be difficult to integrate into a common vocabulary. In this definition, strategy does not explicitly describe the player's experience; it is more appropriate to describe different formal game components. The similarity of the actions taken in two different games does not affect our definition of them as strategy or tactics: we will only rely on their scale in their respective games.[1]\\n\",\n",
       " 24: 'Strategy video games',\n",
       " 25: 'Strategy video games are categorized based on whether they offer the continuous gameplay of real-time strategy (RTS), or the discrete phases of turn-based strategy (TBS).[10] Often the computer is expected to emulate a strategically thinking \"side\" similar to that of a human player (such as directing armies and constructing buildings), or emulate the \"instinctive\" actions of individual units that would be too tedious for a player to administer (such as for a peasant to run away when attacked, as opposed to standing still until otherwise ordered by the player); hence there is an emphasis on artificial intelligence.\\n',\n",
       " 26: 'See also',\n",
       " 27: 'Games portal',\n",
       " 28: 'Game of chance',\n",
       " 29: 'Game of skill',\n",
       " 30: 'Mind sport',\n",
       " 31: 'References',\n",
       " 32: '^ a b Dor, Simon (April 2018). \"Strategy in Games or Strategy Games: Dictionary and Encyclopaedic Definitions for Game Studies\". Game Studies. 18 (1). ISSN\\xa01604-7982.\\n',\n",
       " 33: '^ a b Depaulis, Thierry (2021-04-13). \"A Timeline of Mind Games, with Some Correlations\". BOARD GAME STUDIES COLLOQUIUM- The Evolutions of Board Games, Apr 2021, Paris, France.\\n',\n",
       " 34: '^ a b Depaulis, Thierry (2020-10-01). \"Board Games Before Ur?\". Board Game Studies Journal. 14 (1): 127–144. doi:10.2478/bgs-2020-0007. ISSN\\xa02183-3311.\\n',\n",
       " 35: '^ Botermans, Jack (2008). The book of games\\xa0: strategy, tactics & history. Fankbonner, Edgar Loy. New York: Sterling. pp.\\xa0[1]. ISBN\\xa09781402742217. OCLC\\xa086069181.\\n',\n",
       " 36: '^ \"11 Ancient Board Games\". 2016-03-01. Retrieved 2017-04-10.\\n',\n",
       " 37: '^ (MisterCutie), Matthew. \"The History of Chess: The Basics\". Chess.com. Retrieved 2017-04-10.\\n',\n",
       " 38: '^ Adams, Jenny (2011). Power Play: The Literature and Politics of Chess in the Late Middle Ages. University of Pennsylvania Press. ISBN\\xa09780812201048.\\n',\n",
       " 39: '^ \"How to automate strategic & tactical thinking Archived 2015-02-23 at the Wayback Machine\\n',\n",
       " 40: '^ Rundle, Michael (2013-04-09). \"How H. G. Wells Invented Modern War Games 100 Years Ago\". The Huffington Post.\\n',\n",
       " 41: '^ \"Strategy Games\". Apple. Retrieved 2008-12-28.\\n',\n",
       " 42: 'v',\n",
       " 43: 't',\n",
       " 44: 'e',\n",
       " 45: 'Children',\n",
       " 46: 'Chance',\n",
       " 47: 'Gambling',\n",
       " 48: 'Guessing',\n",
       " 49: 'Party',\n",
       " 50: 'Redemption',\n",
       " 51: 'Role-playing',\n",
       " 52: 'Skill',\n",
       " 53: 'Sport',\n",
       " 54: 'Strategy',\n",
       " 55: 'Street',\n",
       " 56: 'Tabletop',\n",
       " 57: 'Traditional',\n",
       " 58: 'Video',\n",
       " 59: 'v',\n",
       " 60: 't',\n",
       " 61: 'e',\n",
       " 62: 'Adventure board game',\n",
       " 63: 'Amerigame',\n",
       " 64: 'Cooperative board game',\n",
       " 65: 'Deduction board game',\n",
       " 66: 'Eurogame',\n",
       " 67: 'Race game\\nCross and circle game',\n",
       " 68: 'Cross and circle game',\n",
       " 69: 'Legacy game',\n",
       " 70: 'Running-fight game',\n",
       " 71: 'Tables game',\n",
       " 72: 'Tile-based game\\nDominoes\\nChinese dominoes',\n",
       " 73: 'Dominoes',\n",
       " 74: 'Chinese dominoes',\n",
       " 75: 'Train game\\n18XX',\n",
       " 76: '18XX',\n",
       " 77: 'Collectible card game',\n",
       " 78: 'Deck-building game',\n",
       " 79: 'Dedicated deck card game',\n",
       " 80: 'Shedding-type games',\n",
       " 81: 'Patience',\n",
       " 82: 'Tarot card games',\n",
       " 83: 'Trick-taking game',\n",
       " 84: 'Abstract strategy game\\nConnection game\\nTafl games',\n",
       " 85: 'Connection game',\n",
       " 86: 'Tafl games',\n",
       " 87: 'Constructible strategy game',\n",
       " 88: 'Miniatures game\\nCollectible miniatures game',\n",
       " 89: 'Collectible miniatures game',\n",
       " 90: 'Wargame',\n",
       " 91: 'Dice game',\n",
       " 92: 'Matching game',\n",
       " 93: 'Megagame',\n",
       " 94: 'Icehouse pieces',\n",
       " 95: 'Piecepack',\n",
       " 96: 'Paper-and-pencil game',\n",
       " 97: 'Social deduction game',\n",
       " 98: 'Tabletop role-playing game',\n",
       " 99: 'Germany',\n",
       " 100: 'Strategy games',\n",
       " 101: 'Webarchive template wayback links',\n",
       " 102: 'Articles with short description',\n",
       " 103: 'Short description is different from Wikidata',\n",
       " 104: 'All articles with unsourced statements',\n",
       " 105: 'Articles with unsourced statements from April 2008',\n",
       " 106: 'Commons category link from Wikidata'}"
      ]
     },
     "execution_count": 170,
     "metadata": {},
     "output_type": "execute_result"
    }
   ],
   "source": [
    "text_index"
   ]
  },
  {
   "cell_type": "code",
   "execution_count": null,
   "id": "caafaece-136d-4430-b8ac-75bab0a57e71",
   "metadata": {},
   "outputs": [],
   "source": []
  },
  {
   "cell_type": "code",
   "execution_count": 171,
   "id": "50aefefa-4084-4682-be00-d94c51f7ba31",
   "metadata": {},
   "outputs": [
    {
     "data": {
      "text/plain": [
       "[]"
      ]
     },
     "execution_count": 171,
     "metadata": {},
     "output_type": "execute_result"
    },
    {
     "data": {
      "image/png": "[encoded data removed]",
      "text/plain": [
       "<Figure size 640x480 with 1 Axes>"
      ]
     },
     "metadata": {},
     "output_type": "display_data"
    }
   ],
   "source": [
    "#Draw the graph\n",
    "nx.draw(nxG, with_labels=True)\n",
    "\n",
    "#Show the graph\n",
    "plt.plot()"
   ]
  },
  {
   "cell_type": "code",
   "execution_count": 182,
   "id": "dcedf98a-564e-44b9-a136-7f069849e6ae",
   "metadata": {},
   "outputs": [],
   "source": [
    "root_node = list(nxG.adj[parent_node])"
   ]
  },
  {
   "cell_type": "code",
   "execution_count": 183,
   "id": "4fa7c765-c699-4095-aa5a-00f4aef9e5d1",
   "metadata": {},
   "outputs": [
    {
     "data": {
      "text/plain": [
       "[0]"
      ]
     },
     "execution_count": 183,
     "metadata": {},
     "output_type": "execute_result"
    }
   ],
   "source": [
    "root_node"
   ]
  },
  {
   "cell_type": "code",
   "execution_count": 211,
   "id": "ba8d26af-f087-4d86-b85b-9f84bf3f9a1f",
   "metadata": {},
   "outputs": [
    {
     "data": {
      "text/plain": [
       "'History'"
      ]
     },
     "execution_count": 211,
     "metadata": {},
     "output_type": "execute_result"
    }
   ],
   "source": [
    "text_index[3]"
   ]
  },
  {
   "cell_type": "code",
   "execution_count": 185,
   "id": "ce202a2f-73bd-4906-8d4d-abe8f2cc114f",
   "metadata": {},
   "outputs": [],
   "source": [
    "#list(nxG.adj[22])\n",
    "# nxG.number_of_edges()"
   ]
  },
  {
   "cell_type": "code",
   "execution_count": 186,
   "id": "10ce4e29-bb18-4e11-b53f-3964db5d76cb",
   "metadata": {},
   "outputs": [],
   "source": [
    "def generate_heading(hl,r):\n",
    "    temp = []\n",
    "    if len(hl) == 0:\n",
    "        # print(r)\n",
    "        return r\n",
    "    else:\n",
    "        for h in hl:\n",
    "            # print(r)\n",
    "            # print(list(nxG.adj[h]))\n",
    "            temp.append(generate_heading(list(nxG.adj[h])[1:],r+'->'+str(h)))\n",
    "        return temp"
   ]
  },
  {
   "cell_type": "code",
   "execution_count": 187,
   "id": "d93178f2-667a-4d27-98f6-1a291f4ccb11",
   "metadata": {
    "scrolled": true
   },
   "outputs": [],
   "source": [
    "list_headings = []\n",
    "for idx,r in enumerate(root_node):\n",
    "    # print(list(nxG.adj[r]))\n",
    "    hl = list(nxG.adj[r])\n",
    "    list_headings.extend(generate_heading(hl[1:],str(r)))"
   ]
  },
  {
   "cell_type": "code",
   "execution_count": 188,
   "id": "8d5ff27b-57b1-4d58-b379-bfc7f0f2706c",
   "metadata": {
    "scrolled": true
   },
   "outputs": [
    {
     "data": {
      "text/plain": [
       "['0->1',\n",
       " '0->2',\n",
       " ['0->3->4', '0->3->5', '0->3->6', '0->3->7', '0->3->8'],\n",
       " [['0->9->10->11', '0->9->10->12'],\n",
       "  ['0->9->13->14'],\n",
       "  ['0->9->15->16'],\n",
       "  ['0->9->17->18'],\n",
       "  ['0->9->19->20', '0->9->19->21', '0->9->19->22', '0->9->19->23'],\n",
       "  ['0->9->24->25']],\n",
       " ['0->26->27', '0->26->28', '0->26->29', '0->26->30'],\n",
       " ['0->31->32',\n",
       "  '0->31->33',\n",
       "  '0->31->34',\n",
       "  '0->31->35',\n",
       "  '0->31->36',\n",
       "  '0->31->37',\n",
       "  '0->31->38',\n",
       "  '0->31->39',\n",
       "  '0->31->40',\n",
       "  '0->31->41',\n",
       "  '0->31->42',\n",
       "  '0->31->43',\n",
       "  '0->31->44',\n",
       "  '0->31->45',\n",
       "  '0->31->46',\n",
       "  '0->31->47',\n",
       "  '0->31->48',\n",
       "  '0->31->49',\n",
       "  '0->31->50',\n",
       "  '0->31->51',\n",
       "  '0->31->52',\n",
       "  '0->31->53',\n",
       "  '0->31->54',\n",
       "  '0->31->55',\n",
       "  '0->31->56',\n",
       "  '0->31->57',\n",
       "  '0->31->58',\n",
       "  '0->31->59',\n",
       "  '0->31->60',\n",
       "  '0->31->61',\n",
       "  '0->31->62',\n",
       "  '0->31->63',\n",
       "  '0->31->64',\n",
       "  '0->31->65',\n",
       "  '0->31->66',\n",
       "  '0->31->67',\n",
       "  '0->31->68',\n",
       "  '0->31->69',\n",
       "  '0->31->70',\n",
       "  '0->31->71',\n",
       "  '0->31->72',\n",
       "  '0->31->73',\n",
       "  '0->31->74',\n",
       "  '0->31->75',\n",
       "  '0->31->76',\n",
       "  '0->31->77',\n",
       "  '0->31->78',\n",
       "  '0->31->79',\n",
       "  '0->31->80',\n",
       "  '0->31->81',\n",
       "  '0->31->82',\n",
       "  '0->31->83',\n",
       "  '0->31->84',\n",
       "  '0->31->85',\n",
       "  '0->31->86',\n",
       "  '0->31->87',\n",
       "  '0->31->88',\n",
       "  '0->31->89',\n",
       "  '0->31->90',\n",
       "  '0->31->91',\n",
       "  '0->31->92',\n",
       "  '0->31->93',\n",
       "  '0->31->94',\n",
       "  '0->31->95',\n",
       "  '0->31->96',\n",
       "  '0->31->97',\n",
       "  '0->31->98',\n",
       "  '0->31->99',\n",
       "  '0->31->100',\n",
       "  '0->31->101',\n",
       "  '0->31->102',\n",
       "  '0->31->103',\n",
       "  '0->31->104',\n",
       "  '0->31->105',\n",
       "  '0->31->106']]"
      ]
     },
     "execution_count": 188,
     "metadata": {},
     "output_type": "execute_result"
    }
   ],
   "source": [
    "list_headings"
   ]
  },
  {
   "cell_type": "code",
   "execution_count": 201,
   "id": "52585d1c-4459-4c3b-9e01-6fff3c9dd38a",
   "metadata": {},
   "outputs": [],
   "source": [
    "query = \"What are different types of strategy game?\""
   ]
  },
  {
   "cell_type": "code",
   "execution_count": 204,
   "id": "ef7ea3c0-260f-4d5d-8b0f-9dd301d1c320",
   "metadata": {},
   "outputs": [],
   "source": [
    "query_embeddings = tokenizer(query, max_length=100, truncation=True, padding='max_length', return_tensors='pt',return_attention_mask=True)"
   ]
  },
  {
   "cell_type": "code",
   "execution_count": 205,
   "id": "c13ed164-e81b-4e90-91a1-34d35c2bc672",
   "metadata": {},
   "outputs": [
    {
     "data": {
      "text/plain": [
       "{'input_ids': tensor([[   0, 2264,   32,  430, 3505,    9, 1860,  177,  116,    2,    1,    1,\n",
       "            1,    1,    1,    1,    1,    1,    1,    1,    1,    1,    1,    1,\n",
       "            1,    1,    1,    1,    1,    1,    1,    1,    1,    1,    1,    1,\n",
       "            1,    1,    1,    1,    1,    1,    1,    1,    1,    1,    1,    1,\n",
       "            1,    1,    1,    1,    1,    1,    1,    1,    1,    1,    1,    1,\n",
       "            1,    1,    1,    1,    1,    1,    1,    1,    1,    1,    1,    1,\n",
       "            1,    1,    1,    1,    1,    1,    1,    1,    1,    1,    1,    1,\n",
       "            1,    1,    1,    1,    1,    1,    1,    1,    1,    1,    1,    1,\n",
       "            1,    1,    1,    1]]), 'attention_mask': tensor([[1, 1, 1, 1, 1, 1, 1, 1, 1, 1, 0, 0, 0, 0, 0, 0, 0, 0, 0, 0, 0, 0, 0, 0,\n",
       "         0, 0, 0, 0, 0, 0, 0, 0, 0, 0, 0, 0, 0, 0, 0, 0, 0, 0, 0, 0, 0, 0, 0, 0,\n",
       "         0, 0, 0, 0, 0, 0, 0, 0, 0, 0, 0, 0, 0, 0, 0, 0, 0, 0, 0, 0, 0, 0, 0, 0,\n",
       "         0, 0, 0, 0, 0, 0, 0, 0, 0, 0, 0, 0, 0, 0, 0, 0, 0, 0, 0, 0, 0, 0, 0, 0,\n",
       "         0, 0, 0, 0]])}"
      ]
     },
     "execution_count": 205,
     "metadata": {},
     "output_type": "execute_result"
    }
   ],
   "source": [
    "query_embeddings"
   ]
  },
  {
   "cell_type": "code",
   "execution_count": 206,
   "id": "392efda3-e74b-4920-9700-6d978943182f",
   "metadata": {},
   "outputs": [],
   "source": [
    "def min_max_normalize(tensor):\n",
    "    min_val = torch.min(tensor)\n",
    "    max_val = torch.max(tensor)\n",
    "    return (tensor - min_val) / (max_val - min_val)\n",
    "def cosine_similarity(a, b):\n",
    "    dot_product = np.dot(a.T, b)\n",
    "    norm_a = np.linalg.norm(a)\n",
    "    norm_b = np.linalg.norm(b)\n",
    "    return dot_product / (norm_a * norm_b)"
   ]
  },
  {
   "cell_type": "code",
   "execution_count": 207,
   "id": "d178ed10-01bd-4fe9-93a7-5fbc8b982f53",
   "metadata": {},
   "outputs": [
    {
     "data": {
      "text/plain": [
       "'Strategy game - Wikipedia'"
      ]
     },
     "execution_count": 207,
     "metadata": {},
     "output_type": "execute_result"
    }
   ],
   "source": [
    "parent_node"
   ]
  },
  {
   "cell_type": "code",
   "execution_count": 208,
   "id": "da7fe008-44ae-4200-8ee5-5c282c10e5a7",
   "metadata": {},
   "outputs": [
    {
     "name": "stdout",
     "output_type": "stream",
     "text": [
      "\n",
      " Computed euclidian distance:  tensor(1.5115)\n"
     ]
    }
   ],
   "source": [
    "tokens = tokenizer(text_index[0], max_length=100, truncation=True, padding='max_length', return_tensors='pt',return_attention_mask=True)\n",
    "query_embed_normalized = min_max_normalize(query_embeddings[\"input_ids\"])\n",
    "chunks_embed_normalized = min_max_normalize(tokens[\"input_ids\"])\n",
    "euc_distance = torch.sqrt(torch.sum((query_embed_normalized - chunks_embed_normalized) ** 2))\n",
    "print(\"\\n Computed euclidian distance: \", euc_distance)"
   ]
  },
  {
   "cell_type": "code",
   "execution_count": 209,
   "id": "0287a18a-2d88-4adc-88df-11f0da69b109",
   "metadata": {},
   "outputs": [],
   "source": [
    "def graph_agent(list_headings,distanceList,query_embeddings):\n",
    "    for idx,path in enumerate(list_headings):\n",
    "        if isinstance(path,list):\n",
    "            print(path)\n",
    "            idxList = path[0].split(\"->\")[:-1]\n",
    "        else:\n",
    "            print(path)\n",
    "            idxList = path.split(\"->\")\n",
    "        # final_string = \"\"\n",
    "        # for i in idxList:\n",
    "        #     final_string = final_string+text_index[int(i)]+\" \"\n",
    "        # print(final_string)\n",
    "        # tokens = tokenizer(final_string, max_length=100, truncation=True, padding='max_length', return_tensors='pt',return_attention_mask=True)\n",
    "        # query_embed_normalized = min_max_normalize(query_embeddings[\"input_ids\"])\n",
    "        # chunks_embed_normalized = min_max_normalize(tokens[\"input_ids\"])\n",
    "        # euc_distance = torch.sqrt(torch.sum((query_embed_normalized - chunks_embed_normalized) ** 2))\n",
    "        # # cos = torch.nn.CosineSimilarity(dim=0)\n",
    "        # # similarity = cosine_similarity(query_embed_normalized.numpy(), chunks_embed_normalized.numpy())\n",
    "        # # print(\"Cosine Similarity:\", similarity)\n",
    "        # print(\"\\n Computed euclidian distance: \", euc_distance)\n",
    "        # print()\n",
    "    return 0\n",
    "    "
   ]
  },
  {
   "cell_type": "code",
   "execution_count": 210,
   "id": "7daba03e-abd3-4ee4-b97b-b8c454f93ca6",
   "metadata": {
    "scrolled": true
   },
   "outputs": [
    {
     "name": "stdout",
     "output_type": "stream",
     "text": [
      "0->1\n",
      "0->2\n",
      "['0->3->4', '0->3->5', '0->3->6', '0->3->7', '0->3->8']\n",
      "[['0->9->10->11', '0->9->10->12'], ['0->9->13->14'], ['0->9->15->16'], ['0->9->17->18'], ['0->9->19->20', '0->9->19->21', '0->9->19->22', '0->9->19->23'], ['0->9->24->25']]\n"
     ]
    },
    {
     "ename": "AttributeError",
     "evalue": "'list' object has no attribute 'split'",
     "output_type": "error",
     "traceback": [
      "\u001b[1;31m---------------------------------------------------------------------------\u001b[0m",
      "\u001b[1;31mAttributeError\u001b[0m                            Traceback (most recent call last)",
      "Cell \u001b[1;32mIn[210], line 1\u001b[0m\n\u001b[1;32m----> 1\u001b[0m \u001b[43mgraph_agent\u001b[49m\u001b[43m(\u001b[49m\u001b[43mlist_headings\u001b[49m\u001b[43m,\u001b[49m\u001b[43m[\u001b[49m\u001b[43m]\u001b[49m\u001b[43m,\u001b[49m\u001b[43mquery_embeddings\u001b[49m\u001b[43m)\u001b[49m\n",
      "Cell \u001b[1;32mIn[209], line 5\u001b[0m, in \u001b[0;36mgraph_agent\u001b[1;34m(list_headings, distanceList, query_embeddings)\u001b[0m\n\u001b[0;32m      3\u001b[0m \u001b[38;5;28;01mif\u001b[39;00m \u001b[38;5;28misinstance\u001b[39m(path,\u001b[38;5;28mlist\u001b[39m):\n\u001b[0;32m      4\u001b[0m     \u001b[38;5;28mprint\u001b[39m(path)\n\u001b[1;32m----> 5\u001b[0m     idxList \u001b[38;5;241m=\u001b[39m \u001b[43mpath\u001b[49m\u001b[43m[\u001b[49m\u001b[38;5;241;43m0\u001b[39;49m\u001b[43m]\u001b[49m\u001b[38;5;241;43m.\u001b[39;49m\u001b[43msplit\u001b[49m(\u001b[38;5;124m\"\u001b[39m\u001b[38;5;124m->\u001b[39m\u001b[38;5;124m\"\u001b[39m)[:\u001b[38;5;241m-\u001b[39m\u001b[38;5;241m1\u001b[39m]\n\u001b[0;32m      6\u001b[0m \u001b[38;5;28;01melse\u001b[39;00m:\n\u001b[0;32m      7\u001b[0m     \u001b[38;5;28mprint\u001b[39m(path)\n",
      "\u001b[1;31mAttributeError\u001b[0m: 'list' object has no attribute 'split'"
     ]
    }
   ],
   "source": [
    "graph_agent(list_headings,[],query_embeddings)"
   ]
  },
  {
   "cell_type": "code",
   "execution_count": 349,
   "id": "467a97c1-9339-44a3-8751-f5f3f0b84244",
   "metadata": {},
   "outputs": [
    {
     "data": {
      "text/plain": [
       "\"A strategy game or strategic game is a game in which the players' uncoerced, and often autonomous, decision-making skills have a high significance in determining the outcome. Almost all strategy games require internal decision tree-style thinking, and typically very high situational awareness.\\n\""
      ]
     },
     "execution_count": 349,
     "metadata": {},
     "output_type": "execute_result"
    }
   ],
   "source": [
    "text_index[0]"
   ]
  },
  {
   "cell_type": "code",
   "execution_count": 203,
   "id": "b94f746e-018e-42ad-9c24-9795449efd80",
   "metadata": {},
   "outputs": [],
   "source": [
    "tokenizer = BartTokenizer.from_pretrained('facebook/bart-large')"
   ]
  },
  {
   "cell_type": "code",
   "execution_count": null,
   "id": "914b2388-b90e-4feb-944d-15d824331575",
   "metadata": {},
   "outputs": [],
   "source": [
    "start_time = time.time()\n",
    "tokens = tokenizer(\"Academic discipline\", max_length=10, truncation=True, padding='max_length', return_tensors='pt',return_attention_mask=True)\n",
    "end_time = time.time()\n",
    "execution_time = end_time - start_time\n",
    "print(f\"Execution time: {execution_time} seconds\")"
   ]
  },
  {
   "cell_type": "code",
   "execution_count": null,
   "id": "bc955faa-e023-467e-972c-92ec22f03eeb",
   "metadata": {},
   "outputs": [],
   "source": [
    "tokens"
   ]
  },
  {
   "cell_type": "code",
   "execution_count": null,
   "id": "cbb5f28d-b986-490c-813c-7940dbbb421b",
   "metadata": {},
   "outputs": [],
   "source": []
  }
 ],
 "metadata": {
  "kernelspec": {
   "display_name": "Python 3 (ipykernel)",
   "language": "python",
   "name": "python3"
  },
  "language_info": {
   "codemirror_mode": {
    "name": "ipython",
    "version": 3
   },
   "file_extension": ".py",
   "mimetype": "text/x-python",
   "name": "python",
   "nbconvert_exporter": "python",
   "pygments_lexer": "ipython3",
   "version": "3.9.19"
  }
 },
 "nbformat": 4,
 "nbformat_minor": 5
}
