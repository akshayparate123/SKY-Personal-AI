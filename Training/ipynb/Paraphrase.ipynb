{
 "cells": [
  {
   "cell_type": "code",
   "execution_count": 1,
   "id": "7fecdb90-8144-4da2-979e-c448f61505fe",
   "metadata": {},
   "outputs": [
    {
     "name": "stderr",
     "output_type": "stream",
     "text": [
      "C:\\Users\\Akshay\\anaconda3\\envs\\tf\\lib\\site-packages\\tqdm\\auto.py:21: TqdmWarning: IProgress not found. Please update jupyter and ipywidgets. See https://ipywidgets.readthedocs.io/en/stable/user_install.html\n",
      "  from .autonotebook import tqdm as notebook_tqdm\n"
     ]
    }
   ],
   "source": [
    "from datasets import load_dataset\n",
    "import warnings\n",
    "import pandas as pd\n",
    "import numpy as np\n",
    "import matplotlib.pyplot as plt\n",
    "import random\n",
    "import json\n",
    "from transformers import BartForConditionalGeneration, BartTokenizer, Trainer, TrainingArguments, DataCollatorForSeq2Seq\n",
    "from sklearn.model_selection import train_test_split\n",
    "warnings.filterwarnings(\"ignore\")"
   ]
  },
  {
   "cell_type": "code",
   "execution_count": 2,
   "id": "9cc87af0-bca0-4379-8ddc-ec39a8ded2ef",
   "metadata": {},
   "outputs": [],
   "source": [
    "rephrased_sentence = [\"Could you kindly rewrite this sentence?\",\"Please rewrite this sentence using your own words.\",\"How would you paraphrase this sentence?\",\"Could you rephrase this sentence for me, please?\",\"Rewrite this sentence with your own wording.\",\"What’s the rephrased version of this sentence?\",\"Can you put this sentence into different words, please?\",\"Please restate this sentence in your own words.\",\"How would you reword this sentence?\",\"Can you rewrite this sentence differently?\",\"Please rewrite this sentence in a new way.\",\"What is another way to say this sentence?\",\"Can you rephrase this sentence?\",\"Please reword this sentence for me.\",\"How would you rewrite this sentence?\",\"Could you rewrite this sentence in your words, please?\",\"Please rephrase this sentence using your own wording.\",\"Can you paraphrase this sentence?\",\"How would you rephrase this sentence?\",\"Could you restate this sentence for me, please?\",\"Rewrite this sentence with different words.\",\"What’s another way to phrase this sentence?\",\"Can you rewrite this sentence for me?\",\"Please rephrase this sentence in your own language.\",\"How would you say this sentence differently?\",\"Could you rewrite this sentence in another way?\",\"Please restate this sentence using your words.\",\"Can you reword this sentence for me?\",\"What is a paraphrase of this sentence?\",\"Could you rephrase this sentence, please?\",\"Please rewrite this sentence with your own words.\",\"How would you rewrite this sentence in your words?\",\"Can you restate this sentence for me, please?\",\"Could you rephrase this sentence differently?\",\"Please rewrite this sentence in different wording.\",\"What is another way to rewrite this sentence?\",\"Can you rephrase this sentence in your own words?\",\"Please restate this sentence in new words.\",\"How would you rephrase this sentence in your own words?\",\"Could you rewrite this sentence for me, please?\",\"Please reword this sentence in a different way.\",\"Can you restate this sentence using your own words?\",\"How would you paraphrase this sentence?\",\"Could you rephrase this sentence using different words?\",\"Please rewrite this sentence using new words.\",\"Can you restate this sentence differently?\",\"How would you rewrite this sentence in your own language?\",\"Could you reword this sentence for me?\",\"Please rewrite this sentence with different wording.\",\"Can you paraphrase this sentence differently?\",\"How would you restate this sentence?\",\"Could you rewrite this sentence using your own words?\",\"Please rephrase this sentence in different words.\",\"Can you restate this sentence with your own words?\",\"How would you reword this sentence differently?\",\"Could you rephrase this sentence in another way?\",\"Please rewrite this sentence differently.\",\"Can you rephrase this sentence in new words?\",\"How would you paraphrase this sentence in your own words?\",\"Could you restate this sentence in your own words?\",\"Please reword this sentence differently.\",\"Can you rewrite this sentence using your own words?\",\"How would you rephrase this sentence in a new way?\",\"Could you rephrase this sentence in your own words, please?\",\"Please restate this sentence with different words.\",\"Can you paraphrase this sentence in your own words?\",\"How would you rewrite this sentence using your own words?\",\"Could you restate this sentence differently?\",\"Please rephrase this sentence using different wording.\",\"Can you rephrase this sentence for me, please?\",\"How would you restate this sentence differently?\",\"Could you rewrite this sentence using new words?\",\"Please reword this sentence in your own words.\",\"Can you restate this sentence in different words?\",\"How would you rephrase this sentence differently?\",\"Could you reword this sentence differently, please?\",\"Please rewrite this sentence in your own way.\",\"Can you rephrase this sentence in different wording?\",\"How would you restate this sentence in different words?\",\"Could you rewrite this sentence in your own words?\",\"Please reword this sentence in a new way.\",\"Can you restate this sentence in a different way?\",\"How would you rewrite this sentence in different words?\",\"Could you rephrase this sentence using new wording?\",\"Please rephrase this sentence differently.\",\"Can you rewrite this sentence in a different way?\",\"How would you restate this sentence using your own words?\",\"Could you rephrase this sentence using different wording?\",\"Please restate this sentence in your own way.\",\"Can you rewrite this sentence with different words?\",\"How would you rewrite this sentence using different words?\",\"Could you rephrase this sentence using different words?\",\"Please restate this sentence differently.\",\"Can you rephrase this sentence in another way?\",\"How would you restate this sentence in your own language?\",\"Could you rewrite this sentence using your own language?\",\"Please reword this sentence with different words.\",\"Can you rewrite this sentence in your own words?\",\"How would you restate this sentence with different words?\",\"Could you rephrase this sentence in your own way?\",\"Please rewrite this sentence in your own language.\",\"Can you restate this sentence using different wording?\",\"How would you rewrite this sentence using your own words?\",\n",
    "                     \"Could you kindly rewrite this paragraph?\",\"Please rewrite this paragraph using your own words.\",\"How would you paraphrase this paragraph?\",\"Could you rephrase this paragraph for me, please?\",\"Rewrite this paragraph with your own wording.\",\"What’s the rephrased version of this paragraph?\",\"Can you put this paragraph into different words, please?\",\"Please restate this paragraph in your own words.\",\"How would you reword this paragraph?\",\"Can you rewrite this paragraph differently?\",\"Please rewrite this paragraph in a new way.\",\"What is another way to say this paragraph?\",\"Can you rephrase this paragraph?\",\"Please reword this paragraph for me.\",\"How would you rewrite this paragraph?\",\"Could you rewrite this paragraph in your words, please?\",\"Please rephrase this paragraph using your own wording.\",\"Can you paraphrase this paragraph?\",\"How would you rephrase this paragraph?\",\"Could you restate this paragraph for me, please?\",\"Rewrite this paragraph with different words.\",\"What’s another way to phrase this paragraph?\",\"Can you rewrite this paragraph for me?\",\"Please rephrase this paragraph in your own language.\",\"How would you say this paragraph differently?\",\"Could you rewrite this article in another way?\",\"Please restate this article using your words.\",\"Can you reword this article for me?\",\"What is a paraphrase of this article?\",\"Could you rephrase this article, please?\",\"Please rewrite this article with your own words.\",\"How would you rewrite this article in your words?\",\"Can you restate this article for me, please?\",\"Could you rephrase this article differently?\",\"Please rewrite this article in different wording.\",\"What is another way to rewrite this article?\",\"Can you rephrase this article in your own words?\",\"Please restate this article in new words.\",\"How would you rephrase this article in your own words?\",\"Could you rewrite this article for me, please?\",\"Please reword this article in a different way.\",\"Can you restate this article using your own words?\",\"How would you paraphrase this article?\",\"Could you rephrase this article using different words?\",\"Please rewrite this article using new words.\",\"Can you restate this article differently?\",\"How would you rewrite this article in your own language?\",\"Could you reword this article for me?\",\"Please rewrite this article with different wording.\",\"Can you paraphrase this article differently?\",\"How would you restate this article?\",\"Could you rewrite this document using your own words?\",\"Please rephrase this document in different words.\",\"Can you restate this document with your own words?\",\"How would you reword this document differently?\",\"Could you rephrase this document in another way?\",\"Please rewrite this document differently.\",\"Can you rephrase this document in new words?\",\"How would you paraphrase this document in your own words?\",\"Could you restate this document in your own words?\",\"Please reword this document differently.\",\"Can you rewrite this document using your own words?\",\"How would you rephrase this document in a new way?\",\"Could you rephrase this document in your own words, please?\",\"Please restate this document with different words.\",\"Can you paraphrase this document in your own words?\",\"How would you rewrite this document using your own words?\",\"Could you restate this document differently?\",\"Please rephrase this document using different wording.\",\"Can you rephrase this document for me, please?\",\"How would you restate this document differently?\",\"Could you rewrite this document using new words?\",\"Please reword this document in your own words.\",\"Can you restate this document in different words?\",\"How would you rephrase this document differently?\",\"Could you reword this document differently, please?\",\"Please rewrite this document in your own way.\",\"Can you rephrase this document in different wording?\",\"How would you restate this document in different words?\",\"Could you rewrite this document in your own words?\",\"Please reword this document in a new way.\",\"Can you restate this document in a different way?\",\"How would you rewrite this document in different words?\",\"Could you rephrase this document using new wording?\",\"Please rephrase this dialogue differently.\",\"Can you rewrite this dialogue in a different way?\",\"How would you restate this dialogue using your own words?\",\"Could you rephrase this dialogue using different wording?\",\"Please restate this dialogue in your own way.\",\"Can you rewrite this dialogue with different words?\",\"How would you rewrite this dialogue using different words?\",\"Could you rephrase this dialogue using different words?\",\"Please restate this dialogue differently.\",\"Can you rephrase this dialogue in another way?\",\"How would you restate this dialogue in your own language?\",\"Could you rewrite this dialogue using your own language?\",\"Please reword this dialogue with different words.\",\"Can you rewrite this dialogue in your own words?\",\"How would you restate this dialogue with different words?\",\"Could you rephrase this dialogue in your own way?\",\"Please rewrite this dialogue in your own language.\",\"Can you restate this dialogue using different wording?\",\"How would you rewrite this dialogue using your own words?\"]"
   ]
  },
  {
   "cell_type": "code",
   "execution_count": 3,
   "id": "6afb5c86-07e6-4d9c-8146-20316899b525",
   "metadata": {},
   "outputs": [],
   "source": [
    "response_sentence = [\"Certainly sir, here is the rephrased version of the sentence.\",\"Absolutely sir, here is the rewritten version of the sentence.\",\"Of course sir, here is the reworded version of the sentence.\",\"Sure thing sir, here is the restated version of the sentence.\",\"Yes sir, here is the reformulated version of the sentence.\",\"Sure sir, here is the rephrased rendition of the sentence.\",\"Alright sir, here is the rearticulated version of the sentence.\",\"Indeed sir, here is the revamped version of the sentence.\",\"Sure sir, here is the reexpressed version of the sentence.\",\"Sure sir, here is the reinterpreted version of the sentence.\",\"Sure sir, here's the paraphrased version of the sentence.\",\"Yes sir, here's the rephrased version of the sentence.\",\"Sure sir, here you have the rewritten version of the sentence.\",\"Certainly sir, here is the reworded version of the sentence.\",\"Absolutely sir, here’s the restated version of the sentence.\",\"Sure sir, here’s the reformulated version of the sentence.\",\"Indeed sir, here’s the rephrased rendition of the sentence.\",\"Alright sir, here’s the rearticulated version of the sentence.\",\"Yes sir, here’s the revamped version of the sentence.\",\"Sure sir, here’s the reexpressed version of the sentence.\",\"Sure sir, here’s the reinterpreted version of the sentence.\",\"Sure sir, here’s the paraphrased sentence.\",\"Certainly sir, here’s the rephrased sentence.\",\"Of course sir, here’s the rewritten sentence.\",\"Absolutely sir, here’s the reworded sentence.\",\"Sure thing sir, here’s the restated sentence.\",\"Yes sir, here’s the reformulated sentence.\",\"Sure sir, here’s the rephrased form of the sentence.\",\"Alright sir, here’s the rearticulated sentence.\",\"Indeed sir, here’s the revamped sentence.\",\"Sure sir, here’s the reexpressed sentence.\",\"Sure sir, here’s the reinterpreted sentence.\",\"Sure sir, here’s the paraphrased version of it.\",\"Certainly sir, here’s the rephrased version of it.\",\"Of course sir, here’s the rewritten version of it.\",\"Absolutely sir, here’s the reworded version of it.\",\"Sure thing sir, here’s the restated version of it.\",\"Yes sir, here’s the reformulated version of it.\",\"Sure sir, here’s the rephrased rendition of it.\",\"Alright sir, here’s the rearticulated version of it.\",\"Indeed sir, here’s the revamped version of it.\",\"Sure sir, here’s the reexpressed version of it.\",\"Sure sir, here’s the reinterpreted version of it.\",\"Sure sir, here's the paraphrased version for you.\",\"Certainly sir, here's the rephrased version for you.\",\"Of course sir, here's the rewritten version for you.\",\"Absolutely sir, here's the reworded version for you.\",\"Sure thing sir, here's the restated version for you.\",\"Yes sir, here's the reformulated version for you.\",\"Sure sir, here's the rephrased form for you.\",\"Alright sir, here's the rearticulated version for you.\",\"Indeed sir, here's the revamped version for you.\",\"Sure sir, here's the reexpressed version for you.\",\"Sure sir, here's the reinterpreted version for you.\",\"Sure sir, here is the paraphrased form of the sentence.\",\"Certainly sir, here is the rephrased form of the sentence.\",\"Of course sir, here is the rewritten form of the sentence.\",\"Absolutely sir, here is the reworded form of the sentence.\",\"Sure thing sir, here is the restated form of the sentence.\",\"Yes sir, here is the reformulated form of the sentence.\",\"Sure sir, here is the rephrased sentence for you.\",\"Alright sir, here is the rearticulated form of the sentence.\",\"Indeed sir, here is the revamped form of the sentence.\",\"Sure sir, here is the reexpressed form of the sentence.\",\"Sure sir, here is the reinterpreted form of the sentence.\",\"Sure sir, here is the paraphrased statement.\",\"Certainly sir, here is the rephrased statement.\",\"Of course sir, here is the rewritten statement.\",\"Absolutely sir, here is the reworded statement.\",\"Sure thing sir, here is the restated statement.\",\"Yes sir, here is the reformulated statement.\",\"Sure sir, here is the rephrased statement for you.\",\"Alright sir, here is the rearticulated statement.\",\"Indeed sir, here is the revamped statement.\",\"Sure sir, here is the reexpressed statement.\",\"Sure sir, here is the reinterpreted statement.\",\"Sure sir, here is the paraphrased sentence you asked for.\",\"Certainly sir, here is the rephrased sentence you asked for.\",\"Of course sir, here is the rewritten sentence you asked for.\",\"Absolutely sir, here is the reworded sentence you asked for.\",\"Sure thing sir, here is the restated sentence you asked for.\",\"Yes sir, here is the reformulated sentence you asked for.\",\"Sure sir, here is the rephrased version you asked for.\",\"Alright sir, here is the rearticulated sentence you asked for.\",\"Indeed sir, here is the revamped sentence you asked for.\",\"Sure sir, here is the reexpressed sentence you asked for.\",\"Sure sir, here is the reinterpreted sentence you asked for.\",\"Sure sir, here's the paraphrased version of what you asked.\",\"Certainly sir, here's the rephrased version of what you asked.\",\"Of course sir, here's the rewritten version of what you asked.\",\"Absolutely sir, here's the reworded version of what you asked.\",\"Sure thing sir, here's the restated version of what you asked.\",\"Yes sir, here's the reformulated version of what you asked.\",\"Sure sir, here's the rephrased rendition of what you asked.\",\"Alright sir, here's the rearticulated version of what you asked.\",\"Indeed sir, here's the revamped version of what you asked.\",\"Sure sir, here's the reexpressed version of what you asked.\",\"Sure sir, here's the reinterpreted version of what you asked.\",\"Sure sir, here is the paraphrased version of your sentence.\",\"Certainly sir, here is the rephrased version of your sentence.\"]"
   ]
  },
  {
   "cell_type": "code",
   "execution_count": 4,
   "id": "fd4fcec8-3589-4b6d-aedd-e717e06f43c6",
   "metadata": {},
   "outputs": [],
   "source": [
    "def get_random_call_sign(list):\n",
    "    return random.choice(list)"
   ]
  },
  {
   "cell_type": "code",
   "execution_count": 5,
   "id": "d743de50-6629-4ba1-8275-c375d73c566a",
   "metadata": {},
   "outputs": [],
   "source": [
    "ds_1 = load_dataset(\"LimeryJorge/paraphrases\")"
   ]
  },
  {
   "cell_type": "code",
   "execution_count": 6,
   "id": "8e7f6e93-d503-47a7-8022-5561b8f6e7da",
   "metadata": {},
   "outputs": [],
   "source": [
    "ds_2 = load_dataset(\"ltg/en-wiki-paraphrased\")"
   ]
  },
  {
   "cell_type": "code",
   "execution_count": 7,
   "id": "f599da52-c4c1-426a-85c3-c850f9c22c1c",
   "metadata": {},
   "outputs": [],
   "source": [
    "ds_3 = load_dataset(\"nateraw/humarin-chatgpt-paraphrases\")"
   ]
  },
  {
   "cell_type": "code",
   "execution_count": 8,
   "id": "6d2fdefa-781d-4c04-beb8-08268fcf67f7",
   "metadata": {},
   "outputs": [],
   "source": [
    "ds_4 = load_dataset(\"zhk/wiki-edits\")"
   ]
  },
  {
   "cell_type": "code",
   "execution_count": 9,
   "id": "78586b9f-b994-4d0e-ac5d-966bd5aaa0d0",
   "metadata": {},
   "outputs": [],
   "source": [
    "agent_1 = [];agent_2 = []"
   ]
  },
  {
   "cell_type": "code",
   "execution_count": 10,
   "id": "b02724bc-7a4f-44de-892c-ff3c3e17e3f4",
   "metadata": {},
   "outputs": [],
   "source": [
    "agent_1.extend([\"<paraphrase>\"+i for i in ds_2[\"train\"][\"original\"]])\n",
    "agent_2.extend([i for i in ds_2[\"train\"][\"paraphrase\"]])\n",
    "agent_1.extend([get_random_call_sign(rephrased_sentence)+i for i in ds_2[\"train\"][\"original\"]])\n",
    "agent_2.extend([get_random_call_sign(response_sentence)+i for i in ds_2[\"train\"][\"paraphrase\"]])"
   ]
  },
  {
   "cell_type": "code",
   "execution_count": 11,
   "id": "9b3fd417-b8ba-4e88-8567-0e7eda57f0e6",
   "metadata": {},
   "outputs": [
    {
     "data": {
      "text/plain": [
       "12070748"
      ]
     },
     "execution_count": 11,
     "metadata": {},
     "output_type": "execute_result"
    }
   ],
   "source": [
    "len(agent_1)"
   ]
  },
  {
   "cell_type": "code",
   "execution_count": 12,
   "id": "99f265d8-d165-42da-9e3e-a3ab529e04b0",
   "metadata": {},
   "outputs": [
    {
     "data": {
      "text/plain": [
       "'How would you paraphrase this article?Sora, however, does note that Ursula \"got what she deserved\" in the first game. At the story\\'s climax, she is defeated when Eric hurls the trident straight through Ursula\\'s chest, destroying her seemingly once and for all. However, she reappears in the \\', confronting Sora and Riku out at sea in her giant form from the end of the movie.'"
      ]
     },
     "execution_count": 12,
     "metadata": {},
     "output_type": "execute_result"
    }
   ],
   "source": [
    "agent_1[-1]"
   ]
  },
  {
   "cell_type": "code",
   "execution_count": 13,
   "id": "602d31ec-c74e-42e3-be8f-2a1af478ff31",
   "metadata": {},
   "outputs": [
    {
     "data": {
      "text/plain": [
       "\"Sure sir, here is the rephrased statement for you.Despite recognizing Ursula's downfall in the first installment where she was struck by Eric's trident through her heart, Sora remains unfazed about the situation. Ultimately, Ursula returns to haunt Sora and Riku aboard a ship at sea in an enormous form, much like the one seen in the final film scene.\""
      ]
     },
     "execution_count": 13,
     "metadata": {},
     "output_type": "execute_result"
    }
   ],
   "source": [
    "agent_2[-1]"
   ]
  },
  {
   "cell_type": "code",
   "execution_count": 14,
   "id": "d7e11de8-5347-4372-ae88-6a1cada3be07",
   "metadata": {},
   "outputs": [],
   "source": [
    "agent_1.extend([\"<paraphrase>\"+i for i in ds_1[\"train\"][\"text\"]])\n",
    "agent_2.extend([i for i in ds_1[\"train\"][\"paraphrase\"]])\n",
    "agent_1.extend([get_random_call_sign(rephrased_sentence)+i for i in ds_1[\"train\"][\"text\"]])\n",
    "agent_2.extend([get_random_call_sign(response_sentence)+i for i in ds_1[\"train\"][\"paraphrase\"]])"
   ]
  },
  {
   "cell_type": "code",
   "execution_count": 15,
   "id": "7d1a6fe5-d3cd-4809-aa86-5148551b8b56",
   "metadata": {},
   "outputs": [
    {
     "data": {
      "text/plain": [
       "'{\"prompt\":\"Which famous Aviation Professors are on Quora?\",\"completion\":\"Which Aviation Professors with a notable reputation can be found on Quora?\"}'"
      ]
     },
     "execution_count": 15,
     "metadata": {},
     "output_type": "execute_result"
    }
   ],
   "source": [
    "ds_3[\"train\"][\"text\"][0]"
   ]
  },
  {
   "cell_type": "code",
   "execution_count": 16,
   "id": "087d5129-901b-45f4-a34d-aec461e98cc5",
   "metadata": {},
   "outputs": [],
   "source": [
    "agent_1.extend([\"<paraphrase>\"+json.loads(i)[\"prompt\"] for i in ds_3[\"train\"][\"text\"]])\n",
    "agent_2.extend([json.loads(i)[\"completion\"] for i in ds_3[\"train\"][\"text\"]])\n",
    "\n",
    "agent_1.extend([get_random_call_sign(rephrased_sentence)+json.loads(i)[\"prompt\"] for i in ds_3[\"train\"][\"text\"]])\n",
    "agent_2.extend([get_random_call_sign(response_sentence)+json.loads(i)[\"completion\"] for i in ds_3[\"train\"][\"text\"]])\n"
   ]
  },
  {
   "cell_type": "code",
   "execution_count": 17,
   "id": "ea284c66-d70d-42ca-854a-5fca205ff538",
   "metadata": {},
   "outputs": [
    {
     "data": {
      "text/plain": [
       "29088628"
      ]
     },
     "execution_count": 17,
     "metadata": {},
     "output_type": "execute_result"
    }
   ],
   "source": [
    "len(agent_2)"
   ]
  },
  {
   "cell_type": "code",
   "execution_count": 18,
   "id": "7dc1be88-bc34-4d24-9ef0-72fae38fdecc",
   "metadata": {},
   "outputs": [],
   "source": [
    "df = pd.DataFrame()\n",
    "df[\"agent_1\"] = agent_1\n",
    "df[\"agent_2\"] = agent_2"
   ]
  },
  {
   "cell_type": "code",
   "execution_count": 19,
   "id": "2abf6f54-4133-4630-bec8-4d4567f35e51",
   "metadata": {},
   "outputs": [
    {
     "data": {
      "text/html": [
       "<div>\n",
       "<style scoped>\n",
       "    .dataframe tbody tr th:only-of-type {\n",
       "        vertical-align: middle;\n",
       "    }\n",
       "\n",
       "    .dataframe tbody tr th {\n",
       "        vertical-align: top;\n",
       "    }\n",
       "\n",
       "    .dataframe thead th {\n",
       "        text-align: right;\n",
       "    }\n",
       "</style>\n",
       "<table border=\"1\" class=\"dataframe\">\n",
       "  <thead>\n",
       "    <tr style=\"text-align: right;\">\n",
       "      <th></th>\n",
       "      <th>agent_1</th>\n",
       "      <th>agent_2</th>\n",
       "    </tr>\n",
       "  </thead>\n",
       "  <tbody>\n",
       "    <tr>\n",
       "      <th>0</th>\n",
       "      <td>&lt;paraphrase&gt;In 1928 he submitted a patent appl...</td>\n",
       "      <td>In the year 1928, he filed an application for ...</td>\n",
       "    </tr>\n",
       "    <tr>\n",
       "      <th>1</th>\n",
       "      <td>&lt;paraphrase&gt;On 9 March the 1st Infantry Regime...</td>\n",
       "      <td>On the 9th of March, the first infantry regime...</td>\n",
       "    </tr>\n",
       "    <tr>\n",
       "      <th>2</th>\n",
       "      <td>&lt;paraphrase&gt;Thus, Dimant claims \"\"Jubilees\" al...</td>\n",
       "      <td>According to Dimant, \"Jubilees\" resolves any d...</td>\n",
       "    </tr>\n",
       "    <tr>\n",
       "      <th>3</th>\n",
       "      <td>&lt;paraphrase&gt;Harris also said that liberalism h...</td>\n",
       "      <td>According to Harris, Liberalism has become \"pe...</td>\n",
       "    </tr>\n",
       "    <tr>\n",
       "      <th>4</th>\n",
       "      <td>&lt;paraphrase&gt;The total inflow of energy into a ...</td>\n",
       "      <td>The conservation of energy principle dictates ...</td>\n",
       "    </tr>\n",
       "    <tr>\n",
       "      <th>...</th>\n",
       "      <td>...</td>\n",
       "      <td>...</td>\n",
       "    </tr>\n",
       "    <tr>\n",
       "      <th>29088623</th>\n",
       "      <td>Can you paraphrase this article differently?Bu...</td>\n",
       "      <td>Certainly sir, here is the rephrased form of t...</td>\n",
       "    </tr>\n",
       "    <tr>\n",
       "      <th>29088624</th>\n",
       "      <td>Can you restate this article using your own wo...</td>\n",
       "      <td>Sure sir, here is the paraphrased statement.Mr...</td>\n",
       "    </tr>\n",
       "    <tr>\n",
       "      <th>29088625</th>\n",
       "      <td>Can you rewrite this sentence in your own word...</td>\n",
       "      <td>Yes sir, here is the reformulated version of t...</td>\n",
       "    </tr>\n",
       "    <tr>\n",
       "      <th>29088626</th>\n",
       "      <td>Can you put this sentence into different words...</td>\n",
       "      <td>Sure thing sir, here is the restated form of t...</td>\n",
       "    </tr>\n",
       "    <tr>\n",
       "      <th>29088627</th>\n",
       "      <td>Rewrite this sentence with your own wording.Bu...</td>\n",
       "      <td>Sure sir, here's the paraphrased version for y...</td>\n",
       "    </tr>\n",
       "  </tbody>\n",
       "</table>\n",
       "<p>29088628 rows × 2 columns</p>\n",
       "</div>"
      ],
      "text/plain": [
       "                                                    agent_1  \\\n",
       "0         <paraphrase>In 1928 he submitted a patent appl...   \n",
       "1         <paraphrase>On 9 March the 1st Infantry Regime...   \n",
       "2         <paraphrase>Thus, Dimant claims \"\"Jubilees\" al...   \n",
       "3         <paraphrase>Harris also said that liberalism h...   \n",
       "4         <paraphrase>The total inflow of energy into a ...   \n",
       "...                                                     ...   \n",
       "29088623  Can you paraphrase this article differently?Bu...   \n",
       "29088624  Can you restate this article using your own wo...   \n",
       "29088625  Can you rewrite this sentence in your own word...   \n",
       "29088626  Can you put this sentence into different words...   \n",
       "29088627  Rewrite this sentence with your own wording.Bu...   \n",
       "\n",
       "                                                    agent_2  \n",
       "0         In the year 1928, he filed an application for ...  \n",
       "1         On the 9th of March, the first infantry regime...  \n",
       "2         According to Dimant, \"Jubilees\" resolves any d...  \n",
       "3         According to Harris, Liberalism has become \"pe...  \n",
       "4         The conservation of energy principle dictates ...  \n",
       "...                                                     ...  \n",
       "29088623  Certainly sir, here is the rephrased form of t...  \n",
       "29088624  Sure sir, here is the paraphrased statement.Mr...  \n",
       "29088625  Yes sir, here is the reformulated version of t...  \n",
       "29088626  Sure thing sir, here is the restated form of t...  \n",
       "29088627  Sure sir, here's the paraphrased version for y...  \n",
       "\n",
       "[29088628 rows x 2 columns]"
      ]
     },
     "execution_count": 19,
     "metadata": {},
     "output_type": "execute_result"
    }
   ],
   "source": [
    "df"
   ]
  },
  {
   "cell_type": "code",
   "execution_count": 20,
   "id": "e9e4c065-0601-49cb-a78f-daf91f893266",
   "metadata": {},
   "outputs": [],
   "source": [
    "df.to_csv(\"../Data/CleanedDatasets/paraphrased.csv\")"
   ]
  },
  {
   "cell_type": "code",
   "execution_count": null,
   "id": "72e50578-7b8d-47c9-b206-83028b20b7ca",
   "metadata": {},
   "outputs": [],
   "source": []
  }
 ],
 "metadata": {
  "kernelspec": {
   "display_name": "Python 3 (ipykernel)",
   "language": "python",
   "name": "python3"
  },
  "language_info": {
   "codemirror_mode": {
    "name": "ipython",
    "version": 3
   },
   "file_extension": ".py",
   "mimetype": "text/x-python",
   "name": "python",
   "nbconvert_exporter": "python",
   "pygments_lexer": "ipython3",
   "version": "3.9.19"
  }
 },
 "nbformat": 4,
 "nbformat_minor": 5
}
