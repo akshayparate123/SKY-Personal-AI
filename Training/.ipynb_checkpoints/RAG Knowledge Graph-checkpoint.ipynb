{
 "cells": [
  {
   "cell_type": "code",
   "execution_count": 1,
   "id": "d6a379d2-7c82-44cd-afe7-ae1e749ec892",
   "metadata": {},
   "outputs": [
    {
     "name": "stderr",
     "output_type": "stream",
     "text": [
      "C:\\Users\\Akshay\\anaconda3\\envs\\tf\\lib\\site-packages\\tqdm\\auto.py:21: TqdmWarning: IProgress not found. Please update jupyter and ipywidgets. See https://ipywidgets.readthedocs.io/en/stable/user_install.html\n",
      "  from .autonotebook import tqdm as notebook_tqdm\n"
     ]
    }
   ],
   "source": [
    "from datasets import load_dataset\n",
    "import warnings\n",
    "import pandas as pd\n",
    "import numpy as np\n",
    "import matplotlib.pyplot as plt\n",
    "import networkx as nx\n",
    "warnings.filterwarnings(\"ignore\")\n",
    "import requests\n",
    "from bs4 import BeautifulSoup\n",
    "import pandas as pd"
   ]
  },
  {
   "cell_type": "code",
   "execution_count": null,
   "id": "edf38a1b-1a84-49e7-a7c2-b93b6f7a0c8b",
   "metadata": {},
   "outputs": [],
   "source": [
    "def clean_latex(text):\n",
    "    # Remove LaTeX commands like {\\\\displaystyle}, {\\\\text{}}, etc.\n",
    "    cleaned_text = re.sub(r'\\\\displaystyle|\\\\text\\{.*?\\}', '', text)\n",
    "    \n",
    "    # Remove any LaTeX curly braces and unnecessary whitespaces\n",
    "    cleaned_text = re.sub(r'\\\\[a-z]+|{|}', '', cleaned_text)\n",
    "    \n",
    "    # Replace LaTeX-specific representations like \\\\dots with their equivalent\n",
    "    cleaned_text = re.sub(r'\\\\dots', '...', cleaned_text)\n",
    "    \n",
    "    # Remove multiple spaces introduced by LaTeX removal\n",
    "    cleaned_text = re.sub(r'\\s+', ' ', cleaned_text).strip()\n",
    "    \n",
    "    return cleaned_text"
   ]
  },
  {
   "cell_type": "code",
   "execution_count": null,
   "id": "4c86d4f3-edb3-47d4-b03d-b68dd637592e",
   "metadata": {},
   "outputs": [],
   "source": [
    "class ThreadWithReturnValue(Thread):\n",
    "    def __init__(self, group=None, target=None, name=None,\n",
    "                 args=(), kwargs={}, Verbose=None):\n",
    "        Thread.__init__(self, group, target, name, args, kwargs)\n",
    "        self._return = None\n",
    "\n",
    "    def run(self):\n",
    "        if self._target is not None:\n",
    "            self._return = self._target(*self._args,\n",
    "                                                **self._kwargs)\n",
    "    def join(self, *args):\n",
    "        Thread.join(self, *args)\n",
    "        return self._return"
   ]
  },
  {
   "cell_type": "code",
   "execution_count": null,
   "id": "082e8261-7f77-43db-bb06-c37bdf97251d",
   "metadata": {},
   "outputs": [],
   "source": [
    "def data_mining(website):\n",
    "    filtered_content = \"\"\n",
    "    if (\".gov\" not in website) and (\"linkedin.com\" not in website) and (\"reddit.com\" not in website):\n",
    "        URL = website\n",
    "        r = requests.get(URL) \n",
    "        soup = BeautifulSoup(r.content, 'html5lib')\n",
    "        for tag in soup(['nav', 'header', 'footer', 'script', 'style', 'aside']):\n",
    "            tag.decompose()\n",
    "        for tag in soup.find_all(['h1', 'h2', 'h3', 'h4', 'p', 'li','strong']):\n",
    "            filtered_content = filtered_content+tag.get_text()\n",
    "        remove_latex = clean_latex(filtered_content)\n",
    "        chunks = create_chunks(remove_latex)\n",
    "    return chunks\n"
   ]
  },
  {
   "cell_type": "code",
   "execution_count": null,
   "id": "e9d94dbc-f4d6-43ed-804e-60cf322d2ae1",
   "metadata": {},
   "outputs": [],
   "source": [
    "def get_google_search_links(query):\n",
    "    return [link for link in search(query)]"
   ]
  },
  {
   "cell_type": "code",
   "execution_count": null,
   "id": "21937f70-d5e8-4699-8aee-5a4acd65aa55",
   "metadata": {},
   "outputs": [],
   "source": [
    "def create_chunks(cleaned_data):\n",
    "    ids_list = []\n",
    "    final_chunks = []\n",
    "    random_number = random.randint(0,10000000000)\n",
    "    loop = math.ceil(len(cleaned_data)/2000)\n",
    "    for i in range(0,loop):\n",
    "        if i ==0:\n",
    "            final_chunks.append(cleaned_data[(i*2000):(i+1)*2000])\n",
    "        else:\n",
    "            final_chunks.append(cleaned_data[(i*2000)-500:(i+1)*2000])\n",
    "        ids_list.append(str(random_number+(i/50)))\n",
    "    return (final_chunks,ids_list)\n",
    "    # return final_chunks"
   ]
  },
  {
   "cell_type": "code",
   "execution_count": null,
   "id": "c6bbd08d-f753-4d51-bcf6-66565a9ef153",
   "metadata": {},
   "outputs": [],
   "source": [
    "# spark.stop()\n",
    "# spark = SparkSession.builder \\\n",
    "#     .master(\"local\") \\\n",
    "#     .config(\"spark.driver.memory\", \"1g\") \\\n",
    "#     .config(\"spark.executor.memory\", \"1g\") \\\n",
    "#     .appName(\"WebScrapingWithPySpark\") \\\n",
    "#     .getOrCreate()\n",
    "\n",
    "# cleaned_data_udf = udf(clean_latex, StringType())\n",
    "# # create_chunks_udf = udf(create_chunks, ArrayType(StringType()), ArrayType(StringType()))\n",
    "# schema = StructType([\n",
    "#     StructField(\"chunks\", ArrayType(StringType())),\n",
    "#     StructField(\"ids\", ArrayType(StringType()))\n",
    "# ])\n",
    "# create_chunks_udf = udf(create_chunks, schema)\n"
   ]
  },
  {
   "cell_type": "code",
   "execution_count": null,
   "id": "7669b2b9-20c6-4847-a9f0-a719bdb5df53",
   "metadata": {},
   "outputs": [],
   "source": [
    "collection = chroma_client.get_or_create_collection(name=\"my_collection\")"
   ]
  },
  {
   "cell_type": "code",
   "execution_count": null,
   "id": "a9963382-6a6f-4718-977f-b1bd3a81dc11",
   "metadata": {},
   "outputs": [],
   "source": [
    "query = [\"How to make crossiant?\",\"What is Big Data?\",\"Which of the following is a Characteristic of BigDdata?\",\"What is Hadoop?\",\"What is the Function of RAM?\"]"
   ]
  },
  {
   "cell_type": "code",
   "execution_count": null,
   "id": "357fc609-eb9c-4b2e-a60b-3a8a8b14bf7c",
   "metadata": {},
   "outputs": [],
   "source": [
    "q = query[1]"
   ]
  },
  {
   "cell_type": "code",
   "execution_count": null,
   "id": "2576fb34-3e2f-4892-b6f2-c5ea548e65ae",
   "metadata": {},
   "outputs": [],
   "source": [
    "###############################Data Fecthing################################\n",
    "def fetch_data(q):\n",
    "    website_links = get_google_search_links(q)\n",
    "    threads_list = [ThreadWithReturnValue(target=data_mining, args=(website,)) for website in website_links[:5]]\n",
    "    [thread.start() for thread in threads_list]\n",
    "    fetched_data = [thread.join() for thread in threads_list]\n",
    "    return fetched_data"
   ]
  },
  {
   "cell_type": "code",
   "execution_count": null,
   "id": "a62f51a7-f066-4e27-b27b-5a43c20e76eb",
   "metadata": {},
   "outputs": [],
   "source": [
    "start_time = time.time()\n",
    "fetched_data = fetch_data(q)\n",
    "# print(\"Query : {}\".format(q))\n",
    "\n",
    "final_chunks = []\n",
    "final_ids = []\n",
    "for f in fetched_data:\n",
    "    for i in f[0]:\n",
    "        final_chunks.append(i)\n",
    "    for i in f[1]:\n",
    "        final_ids.append(i)\n",
    "\n",
    "# # print(flat_list)\n",
    "\n",
    "collection.add(\n",
    "    documents=final_chunks,\n",
    "    ids=final_ids\n",
    ")\n",
    "results = collection.query(\n",
    "    query_texts=q, # Chroma will embed this for you\n",
    "    n_results=2 # how many results to return\n",
    ")\n",
    "print(results['distances'])\n",
    "\n",
    "\n",
    "input_ids = tokenizer.encode(\"<context>{}agent_1:{}\".format(results[\"documents\"][0][0],q), return_tensors='pt',max_length=512, truncation=True).to(device)\n",
    "output = model.generate(\n",
    "    input_ids, \n",
    "    max_length=128, \n",
    "    num_beams=10, \n",
    "    early_stopping=True, \n",
    "    no_repeat_ngram_size=2,  # Prevent repeating n-grams\n",
    "    num_return_sequences=1,  # Number of sequences to return\n",
    "    temperature=0.7,  # Sampling temperature\n",
    "    top_k=50,  # Top-K sampling\n",
    "    top_p=0.9  # Top-p (nucleus) sampling\n",
    ")\n",
    "resp = tokenizer.decode(output[0], skip_special_tokens=True)\n",
    "print(resp)\n",
    "end_time = time.time()\n",
    "execution_time = end_time - start_time\n",
    "print(f\"Execution time: {execution_time} seconds\")"
   ]
  },
  {
   "cell_type": "code",
   "execution_count": null,
   "id": "7d90b65c-94b8-495f-81fc-e0249440a9ac",
   "metadata": {},
   "outputs": [],
   "source": [
    "collection.count()"
   ]
  },
  {
   "cell_type": "code",
   "execution_count": null,
   "id": "877e44fa-f33e-4ee4-b047-ef8db93aa491",
   "metadata": {},
   "outputs": [],
   "source": [
    "# temp_df = list(zip(website_links, fetched_data))\n",
    "# uncleaned_df = spark.createDataFrame(temp_df, [\"url\", \"uncleaned_data\"])\n",
    "# cleaned_df = uncleaned_df.withColumn(\"cleaned_data\", cleaned_data_udf(\"uncleaned_data\"))\n",
    "# clean_df = cleaned_df.withColumn(\"processed\", create_chunks_udf(\"cleaned_data\"))\n",
    "# clean_df = clean_df.select(\n",
    "#     F.col('processed.chunks').alias(\"chunks\"),\n",
    "#     F.col('processed.ids').alias(\"ids\")\n",
    "# )\n",
    "# chunks_df = clean_df.withColumn(\"zipped\", arrays_zip(\"chunks\", \"ids\")) \\\n",
    "#        .withColumn(\"exploded\", explode(\"zipped\")) \\\n",
    "#        .select(clean_df.chunks.alias(\"chunks_array\"), \"exploded.chunks\", \"exploded.ids\")\n",
    "# chunks_df = chunks_df.drop('chunks_array')"
   ]
  },
  {
   "cell_type": "code",
   "execution_count": null,
   "id": "2e0443b1-3da4-4fa8-aff5-a3c15a17144c",
   "metadata": {},
   "outputs": [],
   "source": [
    "# chunks_df.show()\n",
    "# pandas_df = chunks_df.toPandas()\n",
    "# collection.add(\n",
    "#     documents=list(pandas_df[\"chunks\"]),\n",
    "#     ids=list(pandas_df[\"ids\"])\n",
    "# )\n",
    "# results = collection.query(\n",
    "#     query_texts=[q], # Chroma will embed this for you\n",
    "#     n_results=2 # how many results to return\n",
    "# )\n",
    "# print(results['distances'])"
   ]
  },
  {
   "cell_type": "code",
   "execution_count": null,
   "id": "40c1f6bc-eca9-4d5f-99e6-e5604ebbf010",
   "metadata": {},
   "outputs": [],
   "source": [
    "# print(\"Query : {}\".format(q))\n",
    "# input_ids = tokenizer.encode(\"<context>{}agent_1:{}\".format(results[\"documents\"][0][0],query), return_tensors='pt',max_length=1024, truncation=True).to(device)\n",
    "# output = model.generate(\n",
    "#     input_ids, \n",
    "#     max_length=512, \n",
    "#     num_beams=10, \n",
    "#     early_stopping=True, \n",
    "#     no_repeat_ngram_size=2,  # Prevent repeating n-grams\n",
    "#     num_return_sequences=1,  # Number of sequences to return\n",
    "#     temperature=0.7,  # Sampling temperature\n",
    "#     top_k=50,  # Top-K sampling\n",
    "#     top_p=0.9  # Top-p (nucleus) sampling\n",
    "# )\n",
    "# resp = tokenizer.decode(output[0], skip_special_tokens=True)\n",
    "# print(resp)"
   ]
  },
  {
   "cell_type": "code",
   "execution_count": null,
   "id": "3913f4c0-37f2-4856-ae71-ec90ec86f56e",
   "metadata": {},
   "outputs": [],
   "source": [
    "# start_time = time.time()\n",
    "# website_links = get_google_search_links(q)\n",
    "\n",
    "# ###############################SPARK################################\n",
    "\n",
    "# threads_list = [ThreadWithReturnValue(target=data_mining, args=(website,)) for website in website_links[:5]]\n",
    "# [thread.start() for thread in threads_list]\n",
    "# fetched_data = [thread.join() for thread in threads_list]\n",
    "\n",
    "# temp_df = list(zip(website_links, fetched_data))\n",
    "# uncleaned_df = spark.createDataFrame(temp_df, [\"url\", \"uncleaned_data\"])\n",
    "# cleaned_df = uncleaned_df.withColumn(\"cleaned_data\", cleaned_data_udf(\"uncleaned_data\"))\n",
    "# clean_df = cleaned_df.withColumn(\"processed\", create_chunks_udf(\"cleaned_data\"))\n",
    "\n",
    "# clean_df = clean_df.select(\n",
    "#     F.col('processed.chunks').alias(\"chunks\"),\n",
    "#     F.col('processed.ids').alias(\"ids\")\n",
    "# )\n",
    "\n",
    "# chunks_df = clean_df.withColumn(\"zipped\", arrays_zip(\"chunks\", \"ids\")) \\\n",
    "#        .withColumn(\"exploded\", explode(\"zipped\")) \\\n",
    "#        .select(clean_df.chunks.alias(\"chunks_array\"), \"exploded.chunks\", \"exploded.ids\")\n",
    "# chunks_df = chunks_df.drop('chunks_array')\n",
    "\n",
    "# # pandas_df = chunks_df.toPandas()\n",
    "# # conn = sqlite3.connect('chroma.sqlite3')  # 'example.db' is the SQLite database file\n",
    "# # pandas_df.to_sql('table_name', conn, if_exists='replace', index=False)\n",
    "# # conn.close()\n",
    "# # spark.stop()\n",
    "\n",
    "# ###########################CHROMA###################################\n",
    "\n",
    "# # chunks_df.show()\n",
    "# pandas_df = chunks_df.toPandas()\n",
    "# collection.add(\n",
    "#     documents=list(pandas_df[\"chunks\"]),\n",
    "#     ids=list(pandas_df[\"ids\"])\n",
    "# )\n",
    "# results = collection.query(\n",
    "#     query_texts=[q], # Chroma will embed this for you\n",
    "#     n_results=2 # how many results to return\n",
    "# )\n",
    "# # print(results['distances'])\n",
    "\n",
    "# ###########################LLM##################################\n",
    "\n",
    "# print(\"Query : {}\".format(q))\n",
    "# input_ids = tokenizer.encode(\"<context>{}agent_1:{}\".format(results[\"documents\"][0][0],query), return_tensors='pt',max_length=1024, truncation=True).to(device)\n",
    "# output = model.generate(\n",
    "#     input_ids, \n",
    "#     max_length=512, \n",
    "#     num_beams=10, \n",
    "#     early_stopping=True, \n",
    "#     no_repeat_ngram_size=2,  # Prevent repeating n-grams\n",
    "#     num_return_sequences=1,  # Number of sequences to return\n",
    "#     temperature=0.7,  # Sampling temperature\n",
    "#     top_k=50,  # Top-K sampling\n",
    "#     top_p=0.9  # Top-p (nucleus) sampling\n",
    "# )\n",
    "# resp = tokenizer.decode(output[0], skip_special_tokens=True)\n",
    "# print(resp)\n",
    "# print()\n",
    "# end_time = time.time()\n",
    "# execution_time = end_time - start_time\n",
    "# print(f\"Execution time: {execution_time} seconds\")"
   ]
  },
  {
   "cell_type": "code",
   "execution_count": null,
   "id": "b9d21733-2195-49ea-98a8-a62d1a63e413",
   "metadata": {},
   "outputs": [],
   "source": []
  },
  {
   "cell_type": "code",
   "execution_count": null,
   "id": "364eb77e-d642-494e-8572-bc8de7314424",
   "metadata": {},
   "outputs": [],
   "source": [
    "from torch.nn.functional import softmax\n",
    "\n",
    "# Tokenize the input\n",
    "input_ids = tokenizer.encode(\"<context>{}agent_1:{}\".format(results[\"documents\"][0][0],query), return_tensors='pt', max_length=512, truncation=True).to(device)\n",
    "\n",
    "# Forward pass through the model to get the logits\n",
    "with torch.no_grad():\n",
    "    outputs = model(input_ids, labels=input_ids)\n",
    "    logits = outputs.logits\n",
    "\n",
    "# Get the predicted token ids from the logits (the most likely tokens)\n",
    "predicted_ids = torch.argmax(logits, dim=-1)\n",
    "\n",
    "# Calculate the probabilities (softmax) for the predicted tokens\n",
    "probabilities = softmax(logits, dim=-1)\n",
    "\n",
    "# Get the probabilities of the predicted tokens\n",
    "predicted_probabilities = probabilities.gather(2, predicted_ids.unsqueeze(-1)).squeeze(-1)\n",
    "\n",
    "# Calculate the confidence score as the average probability of the predicted tokens\n",
    "confidence_score = predicted_probabilities.mean().item()\n",
    "\n",
    "print(\"Generated Output:\", tokenizer.decode(predicted_ids[0], skip_special_tokens=True).replace(\"\\n\",\"\"))\n",
    "print(\"Confidence Score:\", confidence_score)"
   ]
  },
  {
   "cell_type": "markdown",
   "id": "08a0105b-adfe-44ec-9801-724f68dfad6c",
   "metadata": {},
   "source": [
    "### RAG - Knowledge Graph Learning Agent"
   ]
  },
  {
   "cell_type": "code",
   "execution_count": 2,
   "id": "8de481db-aa21-4ba4-9aa4-b82ea21f7659",
   "metadata": {},
   "outputs": [],
   "source": [
    "# This Code will structure any webpage or any document in a knowledge graph\n",
    "URL = \"https://github.com/akshayparate123/SKY-Personal-AI\" #This is my github repository. You can replace this string with literally webpage."
   ]
  },
  {
   "cell_type": "code",
   "execution_count": 3,
   "id": "652365a3-69b8-4f59-9ba7-465306223411",
   "metadata": {},
   "outputs": [],
   "source": [
    "#Scrape the data\n",
    "r = requests.get(URL)\n",
    "soup = BeautifulSoup(r.content, 'html5lib')"
   ]
  },
  {
   "cell_type": "code",
   "execution_count": 4,
   "id": "99b30eed-23b9-4d69-8f3f-038f6a2741d4",
   "metadata": {},
   "outputs": [],
   "source": [
    "#Find the header tag\n",
    "h1_tag = str(soup.find('h1'))"
   ]
  },
  {
   "cell_type": "code",
   "execution_count": 5,
   "id": "3d51e058-955c-4d8b-9919-989f76d53900",
   "metadata": {},
   "outputs": [
    {
     "data": {
      "text/plain": [
       "'<h1 class=\"sr-only\" id=\"search-suggestions-dialog-header\">Search code, repositories, users, issues, pull requests...</h1>'"
      ]
     },
     "execution_count": 5,
     "metadata": {},
     "output_type": "execute_result"
    }
   ],
   "source": [
    "h1_tag"
   ]
  },
  {
   "cell_type": "code",
   "execution_count": 6,
   "id": "e2739212-ca24-48ff-a211-d6082530a38e",
   "metadata": {},
   "outputs": [],
   "source": [
    "#Find the parent node\n",
    "parent_node = soup.find('title').text"
   ]
  },
  {
   "cell_type": "code",
   "execution_count": 7,
   "id": "7d1d3a67-2549-4e09-a473-adaff5f1953d",
   "metadata": {},
   "outputs": [
    {
     "data": {
      "text/plain": [
       "'GitHub - akshayparate123/SKY-Personal-AI: Personal AI'"
      ]
     },
     "execution_count": 7,
     "metadata": {},
     "output_type": "execute_result"
    }
   ],
   "source": [
    "parent_node"
   ]
  },
  {
   "cell_type": "code",
   "execution_count": 8,
   "id": "6269d73d-202c-4567-8825-0636bb9c89df",
   "metadata": {},
   "outputs": [
    {
     "name": "stdout",
     "output_type": "stream",
     "text": [
      "Allowed\n"
     ]
    }
   ],
   "source": [
    "#If the website does not allow to scrape the data.\n",
    "if parent_node == '403 Forbidden':\n",
    "    print(\"Forbidden\")\n",
    "else:\n",
    "    print(\"Allowed\")"
   ]
  },
  {
   "cell_type": "code",
   "execution_count": 9,
   "id": "50b1c152-a008-4723-97e0-2a7570cb7d06",
   "metadata": {},
   "outputs": [],
   "source": [
    "#Remove any irrelevant tags or data\n",
    "for tag in soup(['nav', 'header', 'footer', 'script', 'style', 'aside']):\n",
    "    tag.decompose()"
   ]
  },
  {
   "cell_type": "code",
   "execution_count": 10,
   "id": "939cc3fc-b980-41b2-af0d-4eefe921a397",
   "metadata": {},
   "outputs": [],
   "source": [
    "#Find all the useful information\n",
    "imp_tags = soup.find_all(['h1', 'h2', 'h3', 'h4','h5','strong', 'p', 'li'])\n",
    "imp_tags.insert(0,BeautifulSoup(h1_tag, 'html5lib').find(\"h1\"))"
   ]
  },
  {
   "cell_type": "code",
   "execution_count": 11,
   "id": "e9b8f1e3-919e-44b8-ba8b-eabfdf921b17",
   "metadata": {
    "scrolled": true
   },
   "outputs": [
    {
     "data": {
      "text/plain": [
       "[<h1 class=\"sr-only\" id=\"search-suggestions-dialog-header\">Search code, repositories, users, issues, pull requests...</h1>,\n",
       " <strong class=\"mr-2 flex-self-stretch\" itemprop=\"name\">\n",
       "       <a data-pjax=\"#repo-content-pjax-container\" data-turbo-frame=\"repo-content-turbo-frame\" href=\"/akshayparate123/SKY-Personal-AI\">SKY-Personal-AI</a>\n",
       "     </strong>,\n",
       " <li>\n",
       "             <a aria-label=\"You must be signed in to change notification settings\" class=\"btn-sm btn\" data-hydro-click='{\"event_type\":\"authentication.click\",\"payload\":{\"location_in_page\":\"notification subscription menu watch\",\"repository_id\":null,\"auth_type\":\"LOG_IN\",\"originating_url\":\"https://github.com/akshayparate123/SKY-Personal-AI\",\"user_id\":null}}' data-hydro-click-hmac=\"b0a2743fdba86cc6646edd79b6ff0d4af7567f3b0d06653417b692c45258097a\" data-view-component=\"true\" href=\"/login?return_to=%2Fakshayparate123%2FSKY-Personal-AI\" id=\"repository-details-watch-button\" rel=\"nofollow\">    <svg aria-hidden=\"true\" class=\"octicon octicon-bell mr-2\" data-view-component=\"true\" height=\"16\" version=\"1.1\" viewBox=\"0 0 16 16\" width=\"16\">\n",
       "     <path d=\"M8 16a2 2 0 0 0 1.985-1.75c.017-.137-.097-.25-.235-.25h-3.5c-.138 0-.252.113-.235.25A2 2 0 0 0 8 16ZM3 5a5 5 0 0 1 10 0v2.947c0 .05.015.098.042.139l1.703 2.555A1.519 1.519 0 0 1 13.482 13H2.518a1.516 1.516 0 0 1-1.263-2.36l1.703-2.554A.255.255 0 0 0 3 7.947Zm5-3.5A3.5 3.5 0 0 0 4.5 5v2.947c0 .346-.102.683-.294.97l-1.703 2.556a.017.017 0 0 0-.003.01l.001.006c0 .002.002.004.004.006l.006.004.007.001h10.964l.007-.001.006-.004.004-.006.001-.007a.017.017 0 0 0-.003-.01l-1.703-2.554a1.745 1.745 0 0 1-.294-.97V5A3.5 3.5 0 0 0 8 1.5Z\"></path>\n",
       " </svg>Notifications\n",
       " </a>    <tool-tip class=\"sr-only position-absolute\" data-direction=\"s\" data-type=\"description\" data-view-component=\"true\" for=\"repository-details-watch-button\" id=\"tooltip-b893f566-8c15-4096-8e73-6ae2974273c6\" popover=\"manual\">You must be signed in to change notification settings</tool-tip>\n",
       " \n",
       "   </li>,\n",
       " <li>\n",
       "           <a class=\"btn-sm btn\" data-hydro-click='{\"event_type\":\"authentication.click\",\"payload\":{\"location_in_page\":\"repo details fork button\",\"repository_id\":817115427,\"auth_type\":\"LOG_IN\",\"originating_url\":\"https://github.com/akshayparate123/SKY-Personal-AI\",\"user_id\":null}}' data-hydro-click-hmac=\"c55996fa7b85132e65a07b241e32f6031926a80150248cc9aa6be78251488b7b\" data-view-component=\"true\" href=\"/login?return_to=%2Fakshayparate123%2FSKY-Personal-AI\" icon=\"repo-forked\" id=\"fork-button\" rel=\"nofollow\">    <svg aria-hidden=\"true\" class=\"octicon octicon-repo-forked mr-2\" data-view-component=\"true\" height=\"16\" version=\"1.1\" viewBox=\"0 0 16 16\" width=\"16\">\n",
       "     <path d=\"M5 5.372v.878c0 .414.336.75.75.75h4.5a.75.75 0 0 0 .75-.75v-.878a2.25 2.25 0 1 1 1.5 0v.878a2.25 2.25 0 0 1-2.25 2.25h-1.5v2.128a2.251 2.251 0 1 1-1.5 0V8.5h-1.5A2.25 2.25 0 0 1 3.5 6.25v-.878a2.25 2.25 0 1 1 1.5 0ZM5 3.25a.75.75 0 1 0-1.5 0 .75.75 0 0 0 1.5 0Zm6.75.75a.75.75 0 1 0 0-1.5.75.75 0 0 0 0 1.5Zm-3 8.75a.75.75 0 1 0-1.5 0 .75.75 0 0 0 1.5 0Z\"></path>\n",
       " </svg>Fork\n",
       "     <span class=\"Counter\" data-pjax-replace=\"true\" data-turbo-replace=\"true\" data-view-component=\"true\" id=\"repo-network-counter\" title=\"0\">0</span>\n",
       " </a>\n",
       "   </li>,\n",
       " <li>\n",
       "         <div class=\"BtnGroup d-flex\" data-view-component=\"true\">\n",
       "         <a aria-label=\"You must be signed in to star a repository\" class=\"tooltipped tooltipped-sw btn-sm btn\" data-hydro-click='{\"event_type\":\"authentication.click\",\"payload\":{\"location_in_page\":\"star button\",\"repository_id\":817115427,\"auth_type\":\"LOG_IN\",\"originating_url\":\"https://github.com/akshayparate123/SKY-Personal-AI\",\"user_id\":null}}' data-hydro-click-hmac=\"0f8c0f90ea797e649ba6ebfd0d3df1895fb0d38865ee1ceb996330a0143945bd\" data-view-component=\"true\" href=\"/login?return_to=%2Fakshayparate123%2FSKY-Personal-AI\" rel=\"nofollow\">    <svg aria-hidden=\"true\" class=\"octicon octicon-star v-align-text-bottom d-inline-block mr-2\" data-view-component=\"true\" height=\"16\" version=\"1.1\" viewBox=\"0 0 16 16\" width=\"16\">\n",
       "     <path d=\"M8 .25a.75.75 0 0 1 .673.418l1.882 3.815 4.21.612a.75.75 0 0 1 .416 1.279l-3.046 2.97.719 4.192a.751.751 0 0 1-1.088.791L8 12.347l-3.766 1.98a.75.75 0 0 1-1.088-.79l.72-4.194L.818 6.374a.75.75 0 0 1 .416-1.28l4.21-.611L7.327.668A.75.75 0 0 1 8 .25Zm0 2.445L6.615 5.5a.75.75 0 0 1-.564.41l-3.097.45 2.24 2.184a.75.75 0 0 1 .216.664l-.528 3.084 2.769-1.456a.75.75 0 0 1 .698 0l2.77 1.456-.53-3.084a.75.75 0 0 1 .216-.664l2.24-2.183-3.096-.45a.75.75 0 0 1-.564-.41L8 2.694Z\"></path>\n",
       " </svg><span class=\"d-inline\" data-view-component=\"true\">\n",
       "           Star\n",
       " </span>          <span aria-label=\"0 users starred this repository\" class=\"Counter js-social-count\" data-plural-suffix=\"users starred this repository\" data-singular-suffix=\"user starred this repository\" data-turbo-replace=\"true\" data-view-component=\"true\" id=\"repo-stars-counter-star\" title=\"0\">0</span>\n",
       " </a></div>\n",
       "   </li>,\n",
       " <p class=\"f4 mb-3\">\n",
       "         Personal AI\n",
       "       </p>,\n",
       " <h3 class=\"sr-only\">License</h3>,\n",
       " <h1 class=\"sr-only\">akshayparate123/SKY-Personal-AI</h1>,\n",
       " <h2 class=\"sr-only prc-Heading-Heading-6CmGO\" data-testid=\"screen-reader-heading\" id=\"folders-and-files\">Folders and files</h2>,\n",
       " <h2 class=\"sr-only prc-Heading-Heading-6CmGO\" data-testid=\"screen-reader-heading\">Latest commit</h2>,\n",
       " <h2 class=\"sr-only prc-Heading-Heading-6CmGO\" data-testid=\"screen-reader-heading\">History</h2>,\n",
       " <h2 class=\"_VisuallyHidden__VisuallyHidden-sc-11jhm7a-0 brGdpi\">Repository files navigation</h2>,\n",
       " <h1 class=\"heading-element\" dir=\"auto\" tabindex=\"-1\">SKY-Personal-AI</h1>,\n",
       " <p dir=\"auto\">This repository will not function as expected if you simply download it, as many large files are missing and cannot be uploaded here. Please note that this is a licensed repository, and it is protected by law. Unauthorized downloading or use of this repository, whether for commercial or personal purposes, may lead to legal consequences.</p>,\n",
       " <h2 class=\"heading-element\" dir=\"auto\" tabindex=\"-1\">Introduction to SKY Personal Assistant</h2>,\n",
       " <p dir=\"auto\">The SKY Personal Assistant is a state-of-the-art virtual assistant designed to enhance productivity and simplify everyday tasks. This AI-driven assistant is capable of handling a variety of functions, ranging from answering questions to retrieving information from the internet. It can perform simple tasks like writing Python code and summarizing content. Moreover, SKY Personal Assistant has the ability to create detailed user profiles, enabling personalized responses in future interactions. It continuously learns and evolves through a robust feedback system. In future implementations, it will incorporate advanced features like computer vision and data analysis to provide even more comprehensive assistance.</p>,\n",
       " <p dir=\"auto\"><em><strong>Core Features of SKY Personal Assistant</strong></em></p>,\n",
       " <strong>Core Features of SKY Personal Assistant</strong>,\n",
       " <p dir=\"auto\"><a href=\"https://github.com/akshayparate123/SKY-Personal-AI/blob/main/Images/Features_1.png\" rel=\"noopener noreferrer\" target=\"_blank\"><img alt=\"png\" src=\"https://github.com/akshayparate123/SKY-Personal-AI/raw/main/Images/Features_1.png\" style=\"max-width: 100%;\"/></a></p>,\n",
       " <p dir=\"auto\"><em><strong>Future Implementations and Enhancements</strong></em>\n",
       " <a href=\"https://github.com/akshayparate123/SKY-Personal-AI/blob/main/Images/FutureImplementations.png\" rel=\"noopener noreferrer\" target=\"_blank\"><img alt=\"png\" src=\"https://github.com/akshayparate123/SKY-Personal-AI/raw/main/Images/FutureImplementations.png\" style=\"max-width: 100%;\"/></a></p>,\n",
       " <strong>Future Implementations and Enhancements</strong>,\n",
       " <h2 class=\"heading-element\" dir=\"auto\" tabindex=\"-1\">Datasets Used</h2>,\n",
       " <p dir=\"auto\"><em><strong>Emotions</strong></em></p>,\n",
       " <strong>Emotions</strong>,\n",
       " <p dir=\"auto\"><em><strong>QA</strong></em></p>,\n",
       " <strong>QA</strong>,\n",
       " <p dir=\"auto\"><em><strong>Title</strong></em></p>,\n",
       " <strong>Title</strong>,\n",
       " <p dir=\"auto\"><em><strong>Keywords</strong></em></p>,\n",
       " <strong>Keywords</strong>,\n",
       " <p dir=\"auto\"><em><strong>Summary</strong></em></p>,\n",
       " <strong>Summary</strong>,\n",
       " <h2 class=\"heading-element\" dir=\"auto\" tabindex=\"-1\">Pre-Trained Model Used (BART)</h2>,\n",
       " <p dir=\"auto\"><a href=\"https://github.com/akshayparate123/SKY-Personal-AI/blob/main/Images/BART_arch.png\" rel=\"noopener noreferrer\" target=\"_blank\"><img alt=\"png\" src=\"https://github.com/akshayparate123/SKY-Personal-AI/raw/main/Images/BART_arch.png\" style=\"max-width: 100%;\"/></a></p>,\n",
       " <li>\n",
       " <p dir=\"auto\"><strong>Bidirectional and Auto-Regressive Transformer (BART)</strong>: A Transformer-based model developed by Facebook AI for text generation and understanding tasks.</p>\n",
       " </li>,\n",
       " <p dir=\"auto\"><strong>Bidirectional and Auto-Regressive Transformer (BART)</strong>: A Transformer-based model developed by Facebook AI for text generation and understanding tasks.</p>,\n",
       " <strong>Bidirectional and Auto-Regressive Transformer (BART)</strong>,\n",
       " <li>\n",
       " <p dir=\"auto\"><strong>Encoder-Decoder Structure</strong>: BART combines both an encoder and a decoder, where the encoder reads the input text bidirectionally, and the decoder generates output autoregressively.</p>\n",
       " </li>,\n",
       " <p dir=\"auto\"><strong>Encoder-Decoder Structure</strong>: BART combines both an encoder and a decoder, where the encoder reads the input text bidirectionally, and the decoder generates output autoregressively.</p>,\n",
       " <strong>Encoder-Decoder Structure</strong>,\n",
       " <li>\n",
       " <p dir=\"auto\"><strong>Noise-based Pretraining</strong>: BART is pretrained by corrupting text (e.g., token masking, shuffling) and then learning to reconstruct the original text, making it effective in handling a variety of text corruption patterns.</p>\n",
       " </li>,\n",
       " <p dir=\"auto\"><strong>Noise-based Pretraining</strong>: BART is pretrained by corrupting text (e.g., token masking, shuffling) and then learning to reconstruct the original text, making it effective in handling a variety of text corruption patterns.</p>,\n",
       " <strong>Noise-based Pretraining</strong>,\n",
       " <li>\n",
       " <p dir=\"auto\"><strong>Versatile NLP Tasks</strong>: BART is used in tasks such as summarization, translation, question answering, and text generation due to its robust language understanding and generation capabilities.</p>\n",
       " </li>,\n",
       " <p dir=\"auto\"><strong>Versatile NLP Tasks</strong>: BART is used in tasks such as summarization, translation, question answering, and text generation due to its robust language understanding and generation capabilities.</p>,\n",
       " <strong>Versatile NLP Tasks</strong>,\n",
       " <li>\n",
       " <p dir=\"auto\"><strong>Fine-Tuning Potential</strong>: The model can be fine-tuned for specific tasks, enabling it to adapt well to domain-specific applications and custom use cases.</p>\n",
       " </li>,\n",
       " <p dir=\"auto\"><strong>Fine-Tuning Potential</strong>: The model can be fine-tuned for specific tasks, enabling it to adapt well to domain-specific applications and custom use cases.</p>,\n",
       " <strong>Fine-Tuning Potential</strong>,\n",
       " <h2 class=\"heading-element\" dir=\"auto\" tabindex=\"-1\">OCR Pipeline</h2>,\n",
       " <p dir=\"auto\"><a href=\"https://github.com/akshayparate123/SKY-Personal-AI/blob/main/Images/OCR.png\" rel=\"noopener noreferrer\" target=\"_blank\"><img alt=\"png\" src=\"https://github.com/akshayparate123/SKY-Personal-AI/raw/main/Images/OCR.png\" style=\"max-width: 100%;\"/></a></p>,\n",
       " <li>\n",
       " <p dir=\"auto\"><strong>Prompting LLM</strong>: Initiate the process by sending a user query to a Large Language Model (LLM).</p>\n",
       " </li>,\n",
       " <p dir=\"auto\"><strong>Prompting LLM</strong>: Initiate the process by sending a user query to a Large Language Model (LLM).</p>,\n",
       " <strong>Prompting LLM</strong>,\n",
       " <li>\n",
       " <p dir=\"auto\"><strong>Triggering Function to Take Screenshot</strong>: Execute a function that captures a screenshot of the current screen or specified area.</p>\n",
       " </li>,\n",
       " <p dir=\"auto\"><strong>Triggering Function to Take Screenshot</strong>: Execute a function that captures a screenshot of the current screen or specified area.</p>,\n",
       " <strong>Triggering Function to Take Screenshot</strong>,\n",
       " <li>\n",
       " <p dir=\"auto\"><strong>Grayscale Image</strong>: Convert the captured screenshot into a grayscale image to simplify the image processing.</p>\n",
       " </li>,\n",
       " <p dir=\"auto\"><strong>Grayscale Image</strong>: Convert the captured screenshot into a grayscale image to simplify the image processing.</p>,\n",
       " <strong>Grayscale Image</strong>,\n",
       " <li>\n",
       " <p dir=\"auto\"><strong>Divide the Image into Small Chunks</strong>: Split the grayscale image into smaller segments for easier text extraction.</p>\n",
       " </li>,\n",
       " <p dir=\"auto\"><strong>Divide the Image into Small Chunks</strong>: Split the grayscale image into smaller segments for easier text extraction.</p>,\n",
       " <strong>Divide the Image into Small Chunks</strong>,\n",
       " <li>\n",
       " <p dir=\"auto\"><strong>Fetch Text from Image Using OCR</strong>: Use Optical Character Recognition (OCR) to extract text from the divided image chunks.</p>\n",
       " </li>,\n",
       " <p dir=\"auto\"><strong>Fetch Text from Image Using OCR</strong>: Use Optical Character Recognition (OCR) to extract text from the divided image chunks.</p>,\n",
       " <strong>Fetch Text from Image Using OCR</strong>,\n",
       " <li>\n",
       " <p dir=\"auto\"><strong>Merge the Text</strong>: Combine the extracted text from all chunks into a single text block.</p>\n",
       " </li>,\n",
       " <p dir=\"auto\"><strong>Merge the Text</strong>: Combine the extracted text from all chunks into a single text block.</p>,\n",
       " <strong>Merge the Text</strong>,\n",
       " <li>\n",
       " <p dir=\"auto\"><strong>Provide the Merged Text and User Query to LLM</strong>: Send the merged text along with the original user query back to the LLM for further processing or response generation.</p>\n",
       " </li>,\n",
       " <p dir=\"auto\"><strong>Provide the Merged Text and User Query to LLM</strong>: Send the merged text along with the original user query back to the LLM for further processing or response generation.</p>,\n",
       " <strong>Provide the Merged Text and User Query to LLM</strong>,\n",
       " <h2 class=\"heading-element\" dir=\"auto\" tabindex=\"-1\">RAG Pipeline</h2>,\n",
       " <p dir=\"auto\"><a href=\"https://github.com/akshayparate123/SKY-Personal-AI/blob/main/Images/rag.png\" rel=\"noopener noreferrer\" target=\"_blank\"><img alt=\"png\" src=\"https://github.com/akshayparate123/SKY-Personal-AI/raw/main/Images/rag.png\" style=\"max-width: 100%;\"/></a></p>,\n",
       " <li>\n",
       " <p dir=\"auto\"><strong>User Query</strong>: The process starts with a query from the user.</p>\n",
       " </li>,\n",
       " <p dir=\"auto\"><strong>User Query</strong>: The process starts with a query from the user.</p>,\n",
       " <strong>User Query</strong>,\n",
       " <li>\n",
       " <p dir=\"auto\"><strong>Retrieval Step</strong>: Relevant documents or knowledge snippets are retrieved from a database or document store using the query. Common retrieval methods include embeddings and similarity search.</p>\n",
       " </li>,\n",
       " <p dir=\"auto\"><strong>Retrieval Step</strong>: Relevant documents or knowledge snippets are retrieved from a database or document store using the query. Common retrieval methods include embeddings and similarity search.</p>,\n",
       " <strong>Retrieval Step</strong>,\n",
       " <li>\n",
       " <p dir=\"auto\"><strong>Candidate Selection</strong>: The top retrieved documents are selected based on relevance to the query.</p>\n",
       " </li>,\n",
       " <p dir=\"auto\"><strong>Candidate Selection</strong>: The top retrieved documents are selected based on relevance to the query.</p>,\n",
       " <strong>Candidate Selection</strong>,\n",
       " <li>\n",
       " <p dir=\"auto\"><strong>Augmentation</strong>: The selected documents are combined with the query to form an augmented input.</p>\n",
       " </li>,\n",
       " <p dir=\"auto\"><strong>Augmentation</strong>: The selected documents are combined with the query to form an augmented input.</p>,\n",
       " <strong>Augmentation</strong>,\n",
       " <li>\n",
       " <p dir=\"auto\"><strong>Generation with LLM</strong>: The augmented input is passed to a Large Language Model (LLM), which generates a response using both the query and the retrieved documents.</p>\n",
       " </li>,\n",
       " <p dir=\"auto\"><strong>Generation with LLM</strong>: The augmented input is passed to a Large Language Model (LLM), which generates a response using both the query and the retrieved documents.</p>,\n",
       " <strong>Generation with LLM</strong>,\n",
       " <li>\n",
       " <p dir=\"auto\"><strong>Response Delivery</strong>: The generated answer is provided back to the user, enriched with relevant information from the retrieval step.</p>\n",
       " </li>,\n",
       " <p dir=\"auto\"><strong>Response Delivery</strong>: The generated answer is provided back to the user, enriched with relevant information from the retrieval step.</p>,\n",
       " <strong>Response Delivery</strong>,\n",
       " <p dir=\"auto\"><strong>Conclusion</strong></p>,\n",
       " <strong>Conclusion</strong>,\n",
       " <p dir=\"auto\">The SKY Personal Assistant represents a significant advancement in virtual assistant technology. Its current capabilities, including question answering, information retrieval, task performance, summarization, user profiling, and continuous learning, make it an invaluable tool for users. The planned future enhancements, such as computer vision integration, advanced data analysis, and improved user interactions, promise to take its functionality to even greater heights. SKY is not just an assistant but a continuously evolving partner designed to make life easier and more efficient for its users. With SKY, the future of personal assistance is here, and it’s brighter than ever.</p>,\n",
       " <h2 class=\"mb-3 h4\">About</h2>,\n",
       " <p class=\"f4 my-3\">\n",
       "         Personal AI\n",
       "       </p>,\n",
       " <h3 class=\"sr-only\">Resources</h3>,\n",
       " <h3 class=\"sr-only\">License</h3>,\n",
       " <h3 class=\"sr-only\">Stars</h3>,\n",
       " <strong>0</strong>,\n",
       " <h3 class=\"sr-only\">Watchers</h3>,\n",
       " <strong>1</strong>,\n",
       " <h3 class=\"sr-only\">Forks</h3>,\n",
       " <strong>0</strong>,\n",
       " <h2 class=\"h4 mb-3\" data-pjax=\"#repo-content-pjax-container\" data-turbo-frame=\"repo-content-turbo-frame\">\n",
       "   <a class=\"Link--primary no-underline Link\" data-view-component=\"true\" href=\"/akshayparate123/SKY-Personal-AI/releases\">\n",
       "     Releases\n",
       " </a></h2>,\n",
       " <h2 class=\"h4 mb-3\">\n",
       "   <a class=\"Link--primary no-underline Link d-flex flex-items-center\" data-view-component=\"true\" href=\"/users/akshayparate123/packages?repo_name=SKY-Personal-AI\">\n",
       "     Packages\n",
       "       <span class=\"Counter ml-1\" data-view-component=\"true\" hidden=\"hidden\" title=\"0\">0</span>\n",
       " </a></h2>,\n",
       " <h2 class=\"h4 mb-3\">Languages</h2>,\n",
       " <li class=\"d-inline\">\n",
       "         <a class=\"d-inline-flex flex-items-center flex-nowrap Link--secondary no-underline text-small mr-3\" data-ga-click=\"Repository, language stats search click, location:repo overview\" href=\"/akshayparate123/SKY-Personal-AI/search?l=jupyter-notebook\">\n",
       "           <svg aria-hidden=\"true\" class=\"octicon octicon-dot-fill mr-2\" data-view-component=\"true\" height=\"16\" style=\"color:#DA5B0B;\" version=\"1.1\" viewBox=\"0 0 16 16\" width=\"16\">\n",
       "     <path d=\"M8 4a4 4 0 1 1 0 8 4 4 0 0 1 0-8Z\"></path>\n",
       " </svg>\n",
       "           <span class=\"color-fg-default text-bold mr-1\">Jupyter Notebook</span>\n",
       "           <span>88.1%</span>\n",
       "         </a>\n",
       "     </li>,\n",
       " <li class=\"d-inline\">\n",
       "         <a class=\"d-inline-flex flex-items-center flex-nowrap Link--secondary no-underline text-small mr-3\" data-ga-click=\"Repository, language stats search click, location:repo overview\" href=\"/akshayparate123/SKY-Personal-AI/search?l=python\">\n",
       "           <svg aria-hidden=\"true\" class=\"octicon octicon-dot-fill mr-2\" data-view-component=\"true\" height=\"16\" style=\"color:#3572A5;\" version=\"1.1\" viewBox=\"0 0 16 16\" width=\"16\">\n",
       "     <path d=\"M8 4a4 4 0 1 1 0 8 4 4 0 0 1 0-8Z\"></path>\n",
       " </svg>\n",
       "           <span class=\"color-fg-default text-bold mr-1\">Python</span>\n",
       "           <span>11.9%</span>\n",
       "         </a>\n",
       "     </li>]"
      ]
     },
     "execution_count": 11,
     "metadata": {},
     "output_type": "execute_result"
    }
   ],
   "source": [
    "imp_tags"
   ]
  },
  {
   "cell_type": "code",
   "execution_count": 12,
   "id": "630ed140-e3f6-44a5-b471-8864f50232d7",
   "metadata": {},
   "outputs": [],
   "source": [
    "#This function returns the key of priority tags whose value is true.\n",
    "def index_of_true(priority_tags):\n",
    "    key_true = []\n",
    "    for tag in priority_tags.keys():\n",
    "        if priority_tags[tag] == True:\n",
    "            key_true.append(tag)\n",
    "        else:\n",
    "            pass\n",
    "    return key_true"
   ]
  },
  {
   "cell_type": "code",
   "execution_count": 13,
   "id": "2e347a51-6e97-48e0-9c80-b2211ebd0e66",
   "metadata": {},
   "outputs": [],
   "source": [
    "#This function fetches all the links from any paragraph\n",
    "def find_nested_links(tag):\n",
    "    links = []\n",
    "    nested_tags = tag.find_all('a')\n",
    "    if len(nested_tags) != 0:\n",
    "        for i in nested_tags:\n",
    "            try:\n",
    "                links.append(str(i).split(\" \")[1].split(\"href=\")[1]) #Storing the links\n",
    "            except IndexError as index_error:\n",
    "                pass\n",
    "    return links"
   ]
  },
  {
   "cell_type": "code",
   "execution_count": 14,
   "id": "a81bc13c-35fa-4fbc-abc9-3a3df3a44320",
   "metadata": {},
   "outputs": [],
   "source": [
    "# This function adjusts the tags based on priority\n",
    "#if less priority tags are already present and new high priority tag comes, we will make all low priority tag to false and high priority tag true\n",
    "#if less priority tags comes and high priority tag is True, We will keep all same and make low priority task true\n",
    "def adjust_tags_based_on_priority(priority_tags,tag_name,record_tags,index_value):\n",
    "    values = list(priority_tags.values())\n",
    "    keys = list(priority_tags.keys())\n",
    "    all_indexes_with_true = []\n",
    "    for i in range(0,len(values)):\n",
    "        if values[i]:\n",
    "            all_indexes_with_true.append(i)\n",
    "        else:\n",
    "            pass\n",
    "    if len(all_indexes_with_true) == 0:\n",
    "        #If no tags are true, we will make the target tag true and return the same.\n",
    "        priority_tags[tag_name] = not priority_tags[tag_name]\n",
    "        record_tags[tag_name].append(index_value)\n",
    "        return priority_tags,record_tags,\"\"\n",
    "    else:\n",
    "        priority_type = \"high\" #high or low\n",
    "        idx = keys.index(tag_name)\n",
    "        if idx <= min(all_indexes_with_true):\n",
    "            priority_type = \"high\"\n",
    "            for k in keys:\n",
    "                priority_tags[k] = False\n",
    "            priority_tags[tag_name] = True\n",
    "            record_tags[tag_name].append(index_value)\n",
    "            return priority_tags,record_tags,\"high\"\n",
    "        elif idx >= max(all_indexes_with_true):\n",
    "            priority_type = \"low\"\n",
    "            priority_tags[tag_name] = True\n",
    "            record_tags[tag_name].append(index_value)\n",
    "            return priority_tags,record_tags,\"low\"\n",
    "        else:\n",
    "            priority_type = \"mid\"\n",
    "            # print('Index of mid tag',idx)\n",
    "            for k in keys[idx+1:]:\n",
    "                priority_tags[k] = False\n",
    "            priority_tags[tag_name] = True\n",
    "            record_tags[tag_name].append(index_value)\n",
    "            return priority_tags,record_tags,\"mid\"\n",
    "            #Make all the tags with less priority than current tag to false. And make the current tag true"
   ]
  },
  {
   "cell_type": "code",
   "execution_count": 15,
   "id": "3364fd04-f4ca-4145-bf90-afd5a80ef78c",
   "metadata": {},
   "outputs": [],
   "source": [
    "#Generate network graph\n",
    "#if high priority tags come, we will directly make it a node since it is assumed to be a parent node\n",
    "#if low or mid priority tags come, we will find a corrosponsing parent tag to link the tag with an edge\n",
    "def create_network_graph(indexing,sub_indexing,nxG,type,priority_tags,parent_node,record_tags):\n",
    "    if type == \"high\":\n",
    "        nxG.add_edge(parent_node,indexing)\n",
    "    elif type == \"low\" or type == \"mid\":\n",
    "        key_true = index_of_true(priority_tags)[:-1]\n",
    "        # print(\"KGLA_structure --> index_of_true\",key_true[-1])\n",
    "        new_edge = record_tags[key_true[-1]][-1]\n",
    "        nxG.add_edge(new_edge,indexing)\n",
    "        for v in sub_indexing:\n",
    "            nxG.add_edge(indexing, v)\n",
    "        return nxG\n",
    "    else:\n",
    "        nxG.add_edge(parent_node,indexing)\n",
    "    for v in sub_indexing:\n",
    "            nxG.add_edge(indexing, v)\n",
    "    return nxG"
   ]
  },
  {
   "cell_type": "code",
   "execution_count": null,
   "id": "d2732244-2e62-405a-aa42-ccddf6bff358",
   "metadata": {},
   "outputs": [],
   "source": []
  },
  {
   "cell_type": "code",
   "execution_count": 16,
   "id": "d702f6c6-dcbf-4fc5-bbb7-39bac084db92",
   "metadata": {},
   "outputs": [],
   "source": [
    "#Define the priority tags. We can change the sequence of the tags and the code will handle the rest.\n",
    "priority_tags = {\"h1\":False,\"h2\":False,\"h3\":False,\"h4\":False,\"h5\":False,\"strong\":False,\"p\":False,\"li\":False,\"a\":False}\n",
    "#Keep the record of the tag\n",
    "record_tags = {\"h1\":[],\"h2\":[],\"h3\":[],\"h4\":[],\"h5\":[],\"strong\":[],\"li\":[],\"p\":[],\"a\":[]}\n",
    "text_index = {}\n",
    "indexing = 0\n",
    "links = []\n",
    "nxG = nx.Graph()\n",
    "nxG.add_node(parent_node)\n",
    "for idx,tag in enumerate(imp_tags):\n",
    "    key_true = index_of_true(priority_tags)\n",
    "    if len(key_true) == 0 and tag.name in [\"ul\",\"li\",\"ol\"]: #If there is no heading, We will find the link and store them directly in a list for futher scraping\n",
    "        links.extend(find_nested_links(tag))\n",
    "    else:\n",
    "        # print(\"Tag : \",tag.name)\n",
    "        # print(\"index of True keys \",key_true)\n",
    "        #Make the less priority elements false ana more priority elements true\n",
    "        text_index[indexing] = tag.text\n",
    "        nested_links = find_nested_links(tag)\n",
    "        # print(\"Nested Links\",nested_links)\n",
    "        links.extend(nested_links)\n",
    "        step_size = 0.001\n",
    "        sub_indexing = []\n",
    "        #Uncomment this code to include the links \n",
    "        # for i in range(1,len(nested_links)+1):\n",
    "        #     sub_indexing.append(round(indexing+(i*step_size),3))\n",
    "        #     text_index[sub_indexing[-1]] = nested_links[i-1]\n",
    "        # print(\"Indexing : \",text_index)\n",
    "        # print(\"Sub indexing\",sub_indexing)\n",
    "        # print(\"priority tags earlier\",priority_tags)\n",
    "        priority_tags,record_tags,type = adjust_tags_based_on_priority(priority_tags,tag.name,record_tags,indexing)\n",
    "        # print(\"Priority tags after new tag comes\",priority_tags)\n",
    "        # print(\"record Tag\" , record_tags)\n",
    "        # print(\"Type of priority of new tag\",type)\n",
    "        nxG = create_network_graph(indexing,sub_indexing,nxG,type,priority_tags,parent_node,record_tags)\n",
    "        indexing = indexing+1\n",
    "        # print()"
   ]
  },
  {
   "cell_type": "code",
   "execution_count": 17,
   "id": "6b126a75-cbfe-4c73-afe6-bba9fac96125",
   "metadata": {
    "scrolled": true
   },
   "outputs": [
    {
     "data": {
      "text/plain": [
       "{0: 'Search code, repositories, users, issues, pull requests...',\n",
       " 1: '\\n      SKY-Personal-AI\\n    ',\n",
       " 2: '\\n                \\n    \\nNotifications\\n    You must be signed in to change notification settings\\n\\n  ',\n",
       " 3: '\\n              \\n    \\nFork\\n    0\\n\\n  ',\n",
       " 4: '\\n        \\n            \\n    \\n\\n          Star\\n          0\\n\\n  ',\n",
       " 5: '\\n        Personal AI\\n      ',\n",
       " 6: 'License',\n",
       " 7: 'akshayparate123/SKY-Personal-AI',\n",
       " 8: 'Folders and files',\n",
       " 9: 'Latest commit',\n",
       " 10: 'History',\n",
       " 11: 'Repository files navigation',\n",
       " 12: 'SKY-Personal-AI',\n",
       " 13: 'This repository will not function as expected if you simply download it, as many large files are missing and cannot be uploaded here. Please note that this is a licensed repository, and it is protected by law. Unauthorized downloading or use of this repository, whether for commercial or personal purposes, may lead to legal consequences.',\n",
       " 14: 'Introduction to SKY Personal Assistant',\n",
       " 15: 'The SKY Personal Assistant is a state-of-the-art virtual assistant designed to enhance productivity and simplify everyday tasks. This AI-driven assistant is capable of handling a variety of functions, ranging from answering questions to retrieving information from the internet. It can perform simple tasks like writing Python code and summarizing content. Moreover, SKY Personal Assistant has the ability to create detailed user profiles, enabling personalized responses in future interactions. It continuously learns and evolves through a robust feedback system. In future implementations, it will incorporate advanced features like computer vision and data analysis to provide even more comprehensive assistance.',\n",
       " 16: 'Core Features of SKY Personal Assistant',\n",
       " 17: 'Core Features of SKY Personal Assistant',\n",
       " 18: '',\n",
       " 19: 'Future Implementations and Enhancements\\n',\n",
       " 20: 'Future Implementations and Enhancements',\n",
       " 21: 'Datasets Used',\n",
       " 22: 'Emotions',\n",
       " 23: 'Emotions',\n",
       " 24: 'QA',\n",
       " 25: 'QA',\n",
       " 26: 'Title',\n",
       " 27: 'Title',\n",
       " 28: 'Keywords',\n",
       " 29: 'Keywords',\n",
       " 30: 'Summary',\n",
       " 31: 'Summary',\n",
       " 32: 'Pre-Trained Model Used (BART)',\n",
       " 33: '',\n",
       " 34: '\\nBidirectional and Auto-Regressive Transformer (BART): A Transformer-based model developed by Facebook AI for text generation and understanding tasks.\\n',\n",
       " 35: 'Bidirectional and Auto-Regressive Transformer (BART): A Transformer-based model developed by Facebook AI for text generation and understanding tasks.',\n",
       " 36: 'Bidirectional and Auto-Regressive Transformer (BART)',\n",
       " 37: '\\nEncoder-Decoder Structure: BART combines both an encoder and a decoder, where the encoder reads the input text bidirectionally, and the decoder generates output autoregressively.\\n',\n",
       " 38: 'Encoder-Decoder Structure: BART combines both an encoder and a decoder, where the encoder reads the input text bidirectionally, and the decoder generates output autoregressively.',\n",
       " 39: 'Encoder-Decoder Structure',\n",
       " 40: '\\nNoise-based Pretraining: BART is pretrained by corrupting text (e.g., token masking, shuffling) and then learning to reconstruct the original text, making it effective in handling a variety of text corruption patterns.\\n',\n",
       " 41: 'Noise-based Pretraining: BART is pretrained by corrupting text (e.g., token masking, shuffling) and then learning to reconstruct the original text, making it effective in handling a variety of text corruption patterns.',\n",
       " 42: 'Noise-based Pretraining',\n",
       " 43: '\\nVersatile NLP Tasks: BART is used in tasks such as summarization, translation, question answering, and text generation due to its robust language understanding and generation capabilities.\\n',\n",
       " 44: 'Versatile NLP Tasks: BART is used in tasks such as summarization, translation, question answering, and text generation due to its robust language understanding and generation capabilities.',\n",
       " 45: 'Versatile NLP Tasks',\n",
       " 46: '\\nFine-Tuning Potential: The model can be fine-tuned for specific tasks, enabling it to adapt well to domain-specific applications and custom use cases.\\n',\n",
       " 47: 'Fine-Tuning Potential: The model can be fine-tuned for specific tasks, enabling it to adapt well to domain-specific applications and custom use cases.',\n",
       " 48: 'Fine-Tuning Potential',\n",
       " 49: 'OCR Pipeline',\n",
       " 50: '',\n",
       " 51: '\\nPrompting LLM: Initiate the process by sending a user query to a Large Language Model (LLM).\\n',\n",
       " 52: 'Prompting LLM: Initiate the process by sending a user query to a Large Language Model (LLM).',\n",
       " 53: 'Prompting LLM',\n",
       " 54: '\\nTriggering Function to Take Screenshot: Execute a function that captures a screenshot of the current screen or specified area.\\n',\n",
       " 55: 'Triggering Function to Take Screenshot: Execute a function that captures a screenshot of the current screen or specified area.',\n",
       " 56: 'Triggering Function to Take Screenshot',\n",
       " 57: '\\nGrayscale Image: Convert the captured screenshot into a grayscale image to simplify the image processing.\\n',\n",
       " 58: 'Grayscale Image: Convert the captured screenshot into a grayscale image to simplify the image processing.',\n",
       " 59: 'Grayscale Image',\n",
       " 60: '\\nDivide the Image into Small Chunks: Split the grayscale image into smaller segments for easier text extraction.\\n',\n",
       " 61: 'Divide the Image into Small Chunks: Split the grayscale image into smaller segments for easier text extraction.',\n",
       " 62: 'Divide the Image into Small Chunks',\n",
       " 63: '\\nFetch Text from Image Using OCR: Use Optical Character Recognition (OCR) to extract text from the divided image chunks.\\n',\n",
       " 64: 'Fetch Text from Image Using OCR: Use Optical Character Recognition (OCR) to extract text from the divided image chunks.',\n",
       " 65: 'Fetch Text from Image Using OCR',\n",
       " 66: '\\nMerge the Text: Combine the extracted text from all chunks into a single text block.\\n',\n",
       " 67: 'Merge the Text: Combine the extracted text from all chunks into a single text block.',\n",
       " 68: 'Merge the Text',\n",
       " 69: '\\nProvide the Merged Text and User Query to LLM: Send the merged text along with the original user query back to the LLM for further processing or response generation.\\n',\n",
       " 70: 'Provide the Merged Text and User Query to LLM: Send the merged text along with the original user query back to the LLM for further processing or response generation.',\n",
       " 71: 'Provide the Merged Text and User Query to LLM',\n",
       " 72: 'RAG Pipeline',\n",
       " 73: '',\n",
       " 74: '\\nUser Query: The process starts with a query from the user.\\n',\n",
       " 75: 'User Query: The process starts with a query from the user.',\n",
       " 76: 'User Query',\n",
       " 77: '\\nRetrieval Step: Relevant documents or knowledge snippets are retrieved from a database or document store using the query. Common retrieval methods include embeddings and similarity search.\\n',\n",
       " 78: 'Retrieval Step: Relevant documents or knowledge snippets are retrieved from a database or document store using the query. Common retrieval methods include embeddings and similarity search.',\n",
       " 79: 'Retrieval Step',\n",
       " 80: '\\nCandidate Selection: The top retrieved documents are selected based on relevance to the query.\\n',\n",
       " 81: 'Candidate Selection: The top retrieved documents are selected based on relevance to the query.',\n",
       " 82: 'Candidate Selection',\n",
       " 83: '\\nAugmentation: The selected documents are combined with the query to form an augmented input.\\n',\n",
       " 84: 'Augmentation: The selected documents are combined with the query to form an augmented input.',\n",
       " 85: 'Augmentation',\n",
       " 86: '\\nGeneration with LLM: The augmented input is passed to a Large Language Model (LLM), which generates a response using both the query and the retrieved documents.\\n',\n",
       " 87: 'Generation with LLM: The augmented input is passed to a Large Language Model (LLM), which generates a response using both the query and the retrieved documents.',\n",
       " 88: 'Generation with LLM',\n",
       " 89: '\\nResponse Delivery: The generated answer is provided back to the user, enriched with relevant information from the retrieval step.\\n',\n",
       " 90: 'Response Delivery: The generated answer is provided back to the user, enriched with relevant information from the retrieval step.',\n",
       " 91: 'Response Delivery',\n",
       " 92: 'Conclusion',\n",
       " 93: 'Conclusion',\n",
       " 94: 'The SKY Personal Assistant represents a significant advancement in virtual assistant technology. Its current capabilities, including question answering, information retrieval, task performance, summarization, user profiling, and continuous learning, make it an invaluable tool for users. The planned future enhancements, such as computer vision integration, advanced data analysis, and improved user interactions, promise to take its functionality to even greater heights. SKY is not just an assistant but a continuously evolving partner designed to make life easier and more efficient for its users. With SKY, the future of personal assistance is here, and it’s brighter than ever.',\n",
       " 95: 'About',\n",
       " 96: '\\n        Personal AI\\n      ',\n",
       " 97: 'Resources',\n",
       " 98: 'License',\n",
       " 99: 'Stars',\n",
       " 100: '0',\n",
       " 101: 'Watchers',\n",
       " 102: '1',\n",
       " 103: 'Forks',\n",
       " 104: '0',\n",
       " 105: '\\n  \\n    Releases\\n',\n",
       " 106: '\\n  \\n    Packages\\n      0\\n',\n",
       " 107: 'Languages',\n",
       " 108: '\\n        \\n          \\n    \\n\\n          Jupyter Notebook\\n          88.1%\\n        \\n    ',\n",
       " 109: '\\n        \\n          \\n    \\n\\n          Python\\n          11.9%\\n        \\n    '}"
      ]
     },
     "execution_count": 17,
     "metadata": {},
     "output_type": "execute_result"
    }
   ],
   "source": [
    "text_index"
   ]
  },
  {
   "cell_type": "code",
   "execution_count": null,
   "id": "caafaece-136d-4430-b8ac-75bab0a57e71",
   "metadata": {},
   "outputs": [],
   "source": []
  },
  {
   "cell_type": "markdown",
   "id": "eda4678e-50f3-42ff-a56a-dc56a3f0344a",
   "metadata": {},
   "source": [
    "##### All the numbers in the graph are indexes of the text which are stored in text_index variable"
   ]
  },
  {
   "cell_type": "code",
   "execution_count": 18,
   "id": "50aefefa-4084-4682-be00-d94c51f7ba31",
   "metadata": {},
   "outputs": [
    {
     "data": {
      "text/plain": [
       "[]"
      ]
     },
     "execution_count": 18,
     "metadata": {},
     "output_type": "execute_result"
    },
    {
     "data": {
      "image/png": "[encoded data removed]",
      "text/plain": [
       "<Figure size 640x480 with 1 Axes>"
      ]
     },
     "metadata": {},
     "output_type": "display_data"
    }
   ],
   "source": [
    "#Draw the graph\n",
    "nx.draw(nxG, with_labels=True)\n",
    "\n",
    "#Show the graph\n",
    "plt.plot()"
   ]
  },
  {
   "cell_type": "code",
   "execution_count": 19,
   "id": "dcedf98a-564e-44b9-a136-7f069849e6ae",
   "metadata": {},
   "outputs": [
    {
     "data": {
      "text/plain": [
       "[0, 7, 12]"
      ]
     },
     "execution_count": 19,
     "metadata": {},
     "output_type": "execute_result"
    }
   ],
   "source": [
    "#We can find the adjacent nodes using below graph function\n",
    "root_node = list(nxG.adj[parent_node])\n",
    "root_node"
   ]
  },
  {
   "cell_type": "code",
   "execution_count": 20,
   "id": "ba8d26af-f087-4d86-b85b-9f84bf3f9a1f",
   "metadata": {},
   "outputs": [
    {
     "data": {
      "text/plain": [
       "'History'"
      ]
     },
     "execution_count": 20,
     "metadata": {},
     "output_type": "execute_result"
    }
   ],
   "source": [
    "text_index[10]"
   ]
  },
  {
   "cell_type": "code",
   "execution_count": 21,
   "id": "ce202a2f-73bd-4906-8d4d-abe8f2cc114f",
   "metadata": {},
   "outputs": [
    {
     "data": {
      "text/plain": [
       "110"
      ]
     },
     "execution_count": 21,
     "metadata": {},
     "output_type": "execute_result"
    }
   ],
   "source": [
    "#Number of edges\n",
    "nxG.number_of_edges()"
   ]
  },
  {
   "cell_type": "code",
   "execution_count": 22,
   "id": "4981dc45-fd82-4b2d-b11a-b7deda770091",
   "metadata": {},
   "outputs": [
    {
     "data": {
      "text/plain": [
       "111"
      ]
     },
     "execution_count": 22,
     "metadata": {},
     "output_type": "execute_result"
    }
   ],
   "source": [
    "#Number of nodes\n",
    "nxG.number_of_nodes()"
   ]
  },
  {
   "cell_type": "code",
   "execution_count": 23,
   "id": "10ce4e29-bb18-4e11-b53f-3964db5d76cb",
   "metadata": {},
   "outputs": [],
   "source": [
    "#This function will generate the path for agent to follow\n",
    "def generate_heading(hl,r):\n",
    "    temp = []\n",
    "    if len(hl) == 0:\n",
    "        # print(r)\n",
    "        return r\n",
    "    else:\n",
    "        for h in hl:\n",
    "            # print(r)\n",
    "            # print(list(nxG.adj[h]))\n",
    "            temp.append(generate_heading(list(nxG.adj[h])[1:],r+'->'+str(h)))\n",
    "        return temp"
   ]
  },
  {
   "cell_type": "code",
   "execution_count": 24,
   "id": "d93178f2-667a-4d27-98f6-1a291f4ccb11",
   "metadata": {
    "scrolled": true
   },
   "outputs": [],
   "source": [
    "list_headings = []\n",
    "for idx,r in enumerate(root_node):\n",
    "    # print(list(nxG.adj[r]))\n",
    "    hl = list(nxG.adj[r])\n",
    "    list_headings.extend(generate_heading(hl[1:],str(r)))"
   ]
  },
  {
   "cell_type": "code",
   "execution_count": 25,
   "id": "8d5ff27b-57b1-4d58-b379-bfc7f0f2706c",
   "metadata": {
    "scrolled": true
   },
   "outputs": [
    {
     "data": {
      "text/plain": [
       "[['0->1->2', '0->1->3', '0->1->4', '0->1->5'],\n",
       " '0->6',\n",
       " '7->8',\n",
       " '7->9',\n",
       " '7->10',\n",
       " '7->11',\n",
       " '12->13',\n",
       " ['12->14->15',\n",
       "  '12->14->16',\n",
       "  ['12->14->17->18', '12->14->17->19'],\n",
       "  '12->14->20'],\n",
       " ['12->21->22',\n",
       "  ['12->21->23->24'],\n",
       "  ['12->21->25->26'],\n",
       "  ['12->21->27->28'],\n",
       "  ['12->21->29->30'],\n",
       "  '12->21->31'],\n",
       " [['12->32->33->34'],\n",
       "  '12->32->35',\n",
       "  ['12->32->36->37', '12->32->36->38'],\n",
       "  ['12->32->39->40', '12->32->39->41'],\n",
       "  ['12->32->42->43', '12->32->42->44'],\n",
       "  ['12->32->45->46', '12->32->45->47'],\n",
       "  '12->32->48'],\n",
       " [['12->49->50->51'],\n",
       "  '12->49->52',\n",
       "  ['12->49->53->54', '12->49->53->55'],\n",
       "  ['12->49->56->57', '12->49->56->58'],\n",
       "  ['12->49->59->60', '12->49->59->61'],\n",
       "  ['12->49->62->63', '12->49->62->64'],\n",
       "  ['12->49->65->66', '12->49->65->67'],\n",
       "  ['12->49->68->69', '12->49->68->70'],\n",
       "  '12->49->71'],\n",
       " [['12->72->73->74'],\n",
       "  '12->72->75',\n",
       "  ['12->72->76->77', '12->72->76->78'],\n",
       "  ['12->72->79->80', '12->72->79->81'],\n",
       "  ['12->72->82->83', '12->72->82->84'],\n",
       "  ['12->72->85->86', '12->72->85->87'],\n",
       "  ['12->72->88->89', '12->72->88->90'],\n",
       "  ['12->72->91->92'],\n",
       "  ['12->72->93->94']],\n",
       " ['12->95->96',\n",
       "  '12->95->97',\n",
       "  '12->95->98',\n",
       "  ['12->95->99->100'],\n",
       "  ['12->95->101->102'],\n",
       "  ['12->95->103->104']],\n",
       " '12->105',\n",
       " '12->106',\n",
       " ['12->107->108', '12->107->109']]"
      ]
     },
     "execution_count": 25,
     "metadata": {},
     "output_type": "execute_result"
    }
   ],
   "source": [
    "list_headings"
   ]
  },
  {
   "cell_type": "code",
   "execution_count": 26,
   "id": "52585d1c-4459-4c3b-9e01-6fff3c9dd38a",
   "metadata": {},
   "outputs": [],
   "source": [
    "query = \"What are different types of strategy game?\""
   ]
  },
  {
   "cell_type": "code",
   "execution_count": 27,
   "id": "ef7ea3c0-260f-4d5d-8b0f-9dd301d1c320",
   "metadata": {},
   "outputs": [],
   "source": [
    "from transformers import BartForConditionalGeneration, BartTokenizer, TrainingArguments\n",
    "import torch\n",
    "tokenizer = BartTokenizer.from_pretrained('facebook/bart-large')\n",
    "query_embeddings = tokenizer(query, max_length=100, truncation=True, padding='max_length', return_tensors='pt',return_attention_mask=True)"
   ]
  },
  {
   "cell_type": "code",
   "execution_count": 28,
   "id": "c13ed164-e81b-4e90-91a1-34d35c2bc672",
   "metadata": {},
   "outputs": [],
   "source": [
    "# query_embeddings"
   ]
  },
  {
   "cell_type": "code",
   "execution_count": 29,
   "id": "392efda3-e74b-4920-9700-6d978943182f",
   "metadata": {},
   "outputs": [],
   "source": [
    "def min_max_normalize(tensor):\n",
    "    min_val = torch.min(tensor)\n",
    "    max_val = torch.max(tensor)\n",
    "    return (tensor - min_val) / (max_val - min_val)\n",
    "def cosine_similarity(a, b):\n",
    "    dot_product = np.dot(a.T, b)\n",
    "    norm_a = np.linalg.norm(a)\n",
    "    norm_b = np.linalg.norm(b)\n",
    "    return dot_product / (norm_a * norm_b)"
   ]
  },
  {
   "cell_type": "code",
   "execution_count": 30,
   "id": "d178ed10-01bd-4fe9-93a7-5fbc8b982f53",
   "metadata": {},
   "outputs": [
    {
     "data": {
      "text/plain": [
       "'GitHub - akshayparate123/SKY-Personal-AI: Personal AI'"
      ]
     },
     "execution_count": 30,
     "metadata": {},
     "output_type": "execute_result"
    }
   ],
   "source": [
    "parent_node"
   ]
  },
  {
   "cell_type": "markdown",
   "id": "6caeacf0-e71a-4439-a3d1-691693fa9df7",
   "metadata": {},
   "source": [
    "##### Example"
   ]
  },
  {
   "cell_type": "code",
   "execution_count": 31,
   "id": "da7fe008-44ae-4200-8ee5-5c282c10e5a7",
   "metadata": {},
   "outputs": [
    {
     "name": "stdout",
     "output_type": "stream",
     "text": [
      "\n",
      " Computed euclidian distance:  tensor(0.5944)\n"
     ]
    }
   ],
   "source": [
    "tokens = tokenizer(text_index[0], max_length=100, truncation=True, padding='max_length', return_tensors='pt',return_attention_mask=True)\n",
    "query_embed_normalized = min_max_normalize(query_embeddings[\"input_ids\"])\n",
    "chunks_embed_normalized = min_max_normalize(tokens[\"input_ids\"])\n",
    "euc_distance = torch.sqrt(torch.sum((query_embed_normalized - chunks_embed_normalized) ** 2))\n",
    "print(\"\\n Computed euclidian distance: \", euc_distance)"
   ]
  },
  {
   "cell_type": "code",
   "execution_count": null,
   "id": "265324c0-9510-40e8-a1a7-3ee9e0754e02",
   "metadata": {},
   "outputs": [],
   "source": []
  }
 ],
 "metadata": {
  "kernelspec": {
   "display_name": "Python 3 (ipykernel)",
   "language": "python",
   "name": "python3"
  },
  "language_info": {
   "codemirror_mode": {
    "name": "ipython",
    "version": 3
   },
   "file_extension": ".py",
   "mimetype": "text/x-python",
   "name": "python",
   "nbconvert_exporter": "python",
   "pygments_lexer": "ipython3",
   "version": "3.9.20"
  }
 },
 "nbformat": 4,
 "nbformat_minor": 5
}
